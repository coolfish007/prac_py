{
 "cells": [
  {
   "cell_type": "markdown",
   "metadata": {},
   "source": [
    "# amap+couchdb-线路/车站\n",
    "## 共用代码"
   ]
  },
  {
   "cell_type": "code",
   "execution_count": null,
   "metadata": {
    "lines_to_next_cell": 1
   },
   "outputs": [],
   "source": [
    "from amap.transportline import ptl_couchdb"
   ]
  },
  {
   "cell_type": "markdown",
   "metadata": {
    "lines_to_next_cell": 0
   },
   "source": [
    " ### 共用调用函数前置代码"
   ]
  },
  {
   "cell_type": "code",
   "execution_count": null,
   "metadata": {},
   "outputs": [],
   "source": [
    "# buslines = '环路,100,101'\n",
    "buslines = \"环路,苦茶,100,101,100\"\n",
    "busline_df_column = [\n",
    "    \"id\",\n",
    "    \"code\",\n",
    "    \"type\",\n",
    "    \"search_name\",\n",
    "    \"key_name\",\n",
    "    \"name\",\n",
    "    \"front_name\",\n",
    "    \"terminal_name\",\n",
    "    \"company\",\n",
    "    \"length\",\n",
    "    \"status\",\n",
    "    \"ic_card\",\n",
    "    \"air\",\n",
    "    \"total_price\",\n",
    "    \"start_time\",\n",
    "    \"end_time\",\n",
    "    \"interval\",\n",
    "    \"xs\",\n",
    "    \"ys\",\n",
    "    \"xs-84\",\n",
    "    \"ys-84\",\n",
    "]\n",
    "station_df_column = [\n",
    "    \"station_id\",\n",
    "    \"name\",\n",
    "    \"busline_id\",\n",
    "    \"order\",\n",
    "    \"poiid1\",\n",
    "    \"xy_coords\",\n",
    "    \"xy_coords_84\",\n",
    "    \"poiid2\",\n",
    "    \"poiid2_xy\",\n",
    "    \"poiid2_xy_84\",\n",
    "]"
   ]
  },
  {
   "cell_type": "markdown",
   "metadata": {
    "lines_to_next_cell": 0
   },
   "source": [
    "从CouchDB中来,到CouchDB中去"
   ]
  },
  {
   "cell_type": "code",
   "execution_count": null,
   "metadata": {},
   "outputs": [],
   "source": [
    "# try:\n",
    "#     for busline_search_name in buslines.split(\",\"):\n",
    "#         result = getonetransportline_to_couchdb(busline_search_name, False)\n",
    "#         line_result_dict[list(result.keys())[0]].append(list(result.values())[0])\n",
    "# except KeyError as e:\n",
    "#     print(\"Got a KeyError - reason %s\" % str(e))\n",
    "# for k, v in line_result_dict.items():\n",
    "#     print(\"--查询线路结果类型:%s;数量%d;详情:%s\" % (k, len(v), \",\".join(v) if len(v) > 0 else \"无此类线路结果.\"))\n",
    "#     print(\"\\n\")\n",
    "line_result_dict = ptl_couchdb.get_multitransportline_to_couchdb(buslines)\n",
    "for k, v in line_result_dict.items():\n",
    "    print(\"--查询线路结果类型:%s;数量%d;详情:%s\" % (k, len(v), \",\".join(v) if len(v) > 0 else \"无此类线路结果.\"))\n",
    "    print(\"\\n\")"
   ]
  }
 ],
 "metadata": {
  "jupytext": {
   "encoding": "# -*- coding: utf-8 -*-",
   "formats": "ipynb,py:percent",
   "main_language": "python"
  },
  "language_info": {
   "codemirror_mode": {
    "name": "ipython",
    "version": 3
   },
   "file_extension": ".py",
   "mimetype": "text/x-python",
   "name": "python",
   "nbconvert_exporter": "python",
   "pygments_lexer": "ipython3",
   "version": 3
  }
 },
 "nbformat": 4,
 "nbformat_minor": 2
}
