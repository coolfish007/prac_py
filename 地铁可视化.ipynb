{
 "cells": [
  {
   "cell_type": "markdown",
   "metadata": {},
   "source": [
    "使用RestAPI获取POI（只用types获取）\n",
    "https://restapi.amap.com/v3/place/text?types=150500&city=2101&output=json&offset=100&page=1&key=0c5ccf69838f9de4ea0f118271c0f34f&extensions=all\n",
    "\n",
    "使用\n",
    "https://www.amap.com/service/poiInfo?query_type=TQUERY&city=2101&keywords=地铁1号线"
   ]
  },
  {
   "cell_type": "code",
   "execution_count": 1,
   "metadata": {},
   "outputs": [],
   "source": [
    "import requests\n",
    "from pyecharts import options as opts\n",
    "from pyecharts.charts import *\n",
    "from pyecharts.commons.utils import JsCode\n",
    "\n",
    "# headers信息 ,referer暂时不管        \n",
    "#headers = {'User-Agent': 'Mozilla/5.0 (Windows NT 10.0; Win64; x64) AppleWebKit/537.36 (KHTML, like Gecko) Chrome/65.0.3325.146 Safari/537.36',\n",
    "#           'Referer': 'https://sz.lianjia.com/ershoufang/'}\n"
   ]
  },
  {
   "cell_type": "markdown",
   "metadata": {},
   "source": [
    "以下header还没有运行成功过："
   ]
  },
  {
   "cell_type": "code",
   "execution_count": null,
   "metadata": {},
   "outputs": [],
   "source": [
    "User_Agent = 'Mozilla/5.0 (iPad; CPU OS 9_1 like Mac OS X) AppleWebKit/601.1.46 (KHTML, like Gecko) Version/9.0 ' \\\n",
    "                     'Mobile/13B143 Safari/601.1'\n",
    "Host = 'ditu.amap.com'\n",
    "Accept = '* / *'\n",
    "Accept_Encoding = 'gzip, deflate'\n",
    "Accept_Language = 'en - US, en;q = 0.8, zh - CN;q = 0.6, zh;q = 0.4'\n",
    "amapuuid = 'b51b4430 - 611e-421e - b5f0 - d4c0069ec83a'\n",
    "Connection = 'keep - alive'\n",
    "cookie = 'guid=62e9-7327-26e6-8630; UM_distinctid=15bf554ac5ce3-07d1fa60bf59d3-24414032-' \\\n",
    "                 'cfcd8-15bf554ac5d163; _uab_collina=149446962066263280256309; passport_log' \\\n",
    "                 'in=ODY0OTIzNTQsYW1hcEF1SUZSNU45MiwyN2ZiY2x4YjJicWN3NGZjb29qYWtuYTY4bjhpdDEzN' \\\n",
    "                 'iwxNTA1Nzg4MDYzLE1XUm1OVE5oTlRRMk5tTmpOVEkwWWpWaU1EZzFNamRqTkdaaU5USmlabVk9; dev' \\\n",
    "                 '_help=A31pORob9CZKI7Sru%2B22%2FGUwNWY0ZTEyMDMwOGZiZWIyMTUyNDg3N2M5NzdiNGY3NzVhNGF' \\\n",
    "                 'iNDg5YzhjNjgzYmM5YjY5OTdmNjkxNjFlY2Y5%2BkDeYKdIYyjlQUymTgzjEbGZZwvhQT7HDehSDAbU71%' \\\n",
    "                 '2BgMgS1RZws1VsgIqQbVPGtHubQVNo3jkPiGQcc4GgNzC%2BXgQLxYhEc7WDMILJBY%2FJWXDmjfTh8Wf8e' \\\n",
    "                 'bkfF3VY%3D; key=bfe31f4e0fb231d29e1d3ce951e2c780; cna=HV1zEVpxFzkCATr4tPxil0OM; isg=At7' \\\n",
    "                 'eZS1TC8m1jV8txoi1zUMNL33gNqN9in7_KohnSiEcq36F8C_yKQRJwY1Y; CNZZDATA1255626299=593' \\\n",
    "                 '918092-1494468489-http%253A%252F%252Fwww.amap.com%252F%7C1505808643'\n",
    "header = {}\n",
    "header['User-Agent'] = User_Agent\n",
    "header['Host'] = Host\n",
    "header['Accept'] = Accept\n",
    "header['Accept-Encoding'] = Accept_Encoding\n",
    "header['Accept-Language'] = Accept_Language\n",
    "header['amapuuid'] = amapuuid\n",
    "header['Connection'] = Connection\n",
    "header['cookie'] = cookie"
   ]
  },
  {
   "cell_type": "markdown",
   "metadata": {},
   "source": [
    "在chrome中F12，在network中，筛选poiinfo的request，copy成curl，在https://curl.trillworks.com/# \n",
    "中进行转换，成下列内容,有时可以运行，有时被限制。"
   ]
  },
  {
   "cell_type": "code",
   "execution_count": 2,
   "metadata": {},
   "outputs": [],
   "source": [
    "header = {\n",
    "    'authority': 'ditu.amap.com',\n",
    "    'accept': '*/*',\n",
    "    'x-csrf-token': 'dbc38a03467e287e4b6af58f25dc1b1e',\n",
    "    'x-requested-with': 'XMLHttpRequest',\n",
    "    'user-agent': 'Mozilla/5.0 (Macintosh; Intel Mac OS X 10_15_3) AppleWebKit/537.36 (KHTML, like Gecko) Chrome/81.0.4044.122 Safari/537.36',\n",
    "    'amapuuid': '1440c18d-8262-4b10-bf1d-dcfa90af7406',\n",
    "    'sec-fetch-site': 'same-origin',\n",
    "    'sec-fetch-mode': 'cors',\n",
    "    'sec-fetch-dest': 'empty',\n",
    "    'referer': 'https://ditu.amap.com/search?id=B00141JKC4&city=440113&geoobj=112.615154%7C22.592179%7C114.565174%7C23.691503&query_type=IDQ&query=%E4%B8%87%E8%BE%BE%E5%B9%BF%E5%9C%BA(%E5%B9%BF%E5%B7%9E%E7%95%AA%E7%A6%BA%E5%BA%97)&zoom=9.51',\n",
    "    'accept-language': 'zh-CN,zh;q=0.9,en;q=0.8',\n",
    "    'cookie': 'UM_distinctid=1714efec5d91ad-0dcddda99ab246-396a7f06-fa000-1714efec5da7ca; cna=BEnxFtRzAkoCAXFCoBgfzgXk; CNZZDATA1255827602=412918052-1586405683-https%253A%252F%252Flbs.amap.com%252F%7C1586418799; _ga=GA1.2.1633570714.1587224095; passport_login=MzE2OTE2MSxhbWFwNW9mbjlkRVUsMnhsNzQzdXFqN2kzdmpyeXR6NWxjcWZieWd4MmZzemYsMTU4NzYxMTcxMixaVEJsTWpSa016UTBZelJqTldKall6WmtPVEJpWmpFeU4ySmtaR0V5TjJRPQ%3D%3D; oauth_state=ae8fa31ae280a2a0e644142c408b11cd; dev_help=Cm5hSMAkvpmaraCOySAMG2UwNDMyNTczMWE0OGI5ODIwNzIwYmViN2NjNmQ0NDE4N2E1NzZjMTUwMmRhNDlhMTQ3MzMwZjVhZmE4YTc5NTEus7mSrdBi1mHDTTh7gNwboXIGicOxRQcgdcUXFEULilQ2nc8zq%2BQ9cZkm1Nb3j0GTZnjb7yMdphosNOkRy%2F6ikMiSMXzZNCnLuZnVvfNkX4LBtvXzfH9D8hHbzRUHWbs%3D; guid=a740-0e52-c664-4a3c; isg=BCUlCEMal4bAkfP04OMDYUEuNOdfYtn0L41IqycIRNxqPkWw-bLJxZofzKJIPvGs; l=eBPMb8PRQmIP7W-KBO5Znurza77tNQRb4sPzaNbMiIHca1rRFEArdNQc0E9wcdtjgtCbVhxzlhlyyRLHRnG-wxDDBy7i_2CxexvO.; x-csrf-token=dbc38a03467e287e4b6af58f25dc1b1e; CNZZDATA1255626299=500121251-1586274166-https%253A%252F%252Flbs.amap.com%252F%7C1587694496',\n",
    "    'if-none-match': 'W/\"127b-V2wlLjE7/0C6UdX3Qo/Xm6OV1co\"',\n",
    "}"
   ]
  },
  {
   "cell_type": "code",
   "execution_count": 3,
   "metadata": {
    "tags": [
     "outputPrepend",
     "outputPrepend",
     "outputPrepend"
    ]
   },
   "outputs": [
    {
     "name": "stdout",
     "output_type": "stream",
     "text": [
      "[[[123.230509, 41.765462], [123.242537, 41.765395], [123.25934, 41.765381], [123.277277, 41.766026], [123.294099, 41.771936], [123.305135, 41.781118], [123.305686, 41.794186], [123.309668, 41.801583], [123.331973, 41.805072], [123.343559, 41.803726], [123.356113, 41.800291], [123.370794, 41.794093], [123.380508, 41.796508], [123.396798, 41.793772], [123.406455, 41.789655], [123.419906, 41.789396], [123.432863, 41.792236], [123.447255, 41.796947], [123.461001, 41.801344], [123.470596, 41.802831], [123.488594, 41.808405], [123.504308, 41.80812]], [[123.405529, 41.956447], [123.408584, 41.946825], [123.398316, 41.93661], [123.393711, 41.929389], [123.40308, 41.917793], [123.409145, 41.907692], [123.415607, 41.8864], [123.417133, 41.868337], [123.418239, 41.855421], [123.418892, 41.847476], [123.42424, 41.839395], [123.429047, 41.833682], [123.429258, 41.822728], [123.435977, 41.817355], [123.438257, 41.811745], [123.434229, 41.804497], [123.432863, 41.792236], [123.435871, 41.784718], [123.435319, 41.773193], [123.435895, 41.760047], [123.441016, 41.753209], [123.453579, 41.743061], [123.456491, 41.731345], [123.461955, 41.719789], [123.47168, 41.709422], [123.482502, 41.707485]], [[123.516113, 41.747294], [123.501572, 41.744319], [123.485068, 41.741192], [123.467941, 41.743596], [123.452903, 41.742367], [123.441295, 41.734121], [123.430201, 41.731686], [123.421603, 41.729802], [123.410242, 41.72715], [123.398266, 41.724467], [123.372388, 41.726716], [123.361366, 41.732254], [123.347148, 41.750949], [123.344612, 41.760797], [123.358797, 41.772247], [123.36126, 41.781587], [123.365836, 41.787634], [123.371186, 41.794676], [123.378755, 41.804706], [123.383861, 41.81322], [123.386749, 41.821366], [123.39044, 41.829748], [123.388938, 41.842252]]]\n"
     ]
    }
   ],
   "source": [
    "subways = ['地铁1号线', '地铁2号线', '地铁9号线']\n",
    "map_data = []\n",
    "for sbw in subways:\n",
    "    temp_list = []\n",
    "    url = 'https://ditu.amap.com/service/poiInfo?query_type=TQUERY&city=2101&keywords={0}'.format(sbw)\n",
    "    res=requests.get(url, headers=header)\n",
    "    data=res.json()\n",
    "    for item in data['data']['busline_list'][0]['stations']:\n",
    "        x, y = item['xy_coords'].split(';')\n",
    "        temp_list.append([float(x), float(y)])\n",
    "    map_data.append(temp_list)\n",
    "print(map_data)"
   ]
  },
  {
   "cell_type": "code",
   "execution_count": 4,
   "metadata": {},
   "outputs": [
    {
     "data": {
      "text/plain": [
       "'/Users/lhc/dev/repo/prac_py/charts/沈阳地铁.html'"
      ]
     },
     "execution_count": 4,
     "metadata": {},
     "output_type": "execute_result"
    }
   ],
   "source": [
    "bmap = BMap()\n",
    "bmap.add_schema(\n",
    "    # 需要申请一个AK\n",
    "    baidu_ak='GNCdXmuXlZjj6MdsZG1lGIbkM8NF2qzs',\n",
    "    # 地图缩放比例\n",
    "    zoom=12, \n",
    "    # 显示地图中心坐标点\n",
    "    center=[123.44,41.79],\n",
    "    is_roam=True,\n",
    "    map_style={\n",
    "            \"styleJson\": [\n",
    "                {\n",
    "                    \"featureType\": \"water\",\n",
    "                    \"elementType\": \"all\",\n",
    "                    \"stylers\": {\"color\": \"#031628\"},\n",
    "                },\n",
    "                {\n",
    "                    \"featureType\": \"land\",\n",
    "                    \"elementType\": \"geometry\",\n",
    "                    \"stylers\": {\"color\": \"#000102\"},\n",
    "                },\n",
    "                {\n",
    "                    \"featureType\": \"highway\",\n",
    "                    \"elementType\": \"all\",\n",
    "                    \"stylers\": {\"visibility\": \"off\"},\n",
    "                },\n",
    "                {\n",
    "                    \"featureType\": \"arterial\",\n",
    "                    \"elementType\": \"geometry.fill\",\n",
    "                    \"stylers\": {\"color\": \"#000000\"},\n",
    "                },\n",
    "                {\n",
    "                    \"featureType\": \"arterial\",\n",
    "                    \"elementType\": \"geometry.stroke\",\n",
    "                    \"stylers\": {\"color\": \"#0b3d51\"},\n",
    "                },\n",
    "                {\n",
    "                    \"featureType\": \"local\",\n",
    "                    \"elementType\": \"geometry\",\n",
    "                    \"stylers\": {\"color\": \"#000000\"},\n",
    "                },\n",
    "                {\n",
    "                    \"featureType\": \"railway\",\n",
    "                    \"elementType\": \"geometry.fill\",\n",
    "                    \"stylers\": {\"color\": \"#000000\"},\n",
    "                },\n",
    "                {\n",
    "                    \"featureType\": \"railway\",\n",
    "                    \"elementType\": \"geometry.stroke\",\n",
    "                    \"stylers\": {\"color\": \"#08304b\"},\n",
    "                },\n",
    "                {\n",
    "                    \"featureType\": \"subway\",\n",
    "                    \"elementType\": \"geometry\",\n",
    "                    \"stylers\": {\"visibility\": \"off\"},\n",
    "                },\n",
    "                {\n",
    "                    \"featureType\": \"building\",\n",
    "                    \"elementType\": \"geometry.fill\",\n",
    "                    \"stylers\": {\"color\": \"#000000\"},\n",
    "                },\n",
    "                {\n",
    "                    \"featureType\": \"all\",\n",
    "                    \"elementType\": \"labels.text.fill\",\n",
    "                    \"stylers\": {\"color\": \"#d1dede\"},\n",
    "                },\n",
    "                {\n",
    "                    \"featureType\": \"all\",\n",
    "                    \"elementType\": \"labels.text.stroke\",\n",
    "                    \"stylers\": {\"color\": \"#000000\"},\n",
    "                },\n",
    "                {\n",
    "                    \"featureType\": \"building\",\n",
    "                    \"elementType\": \"geometry\",\n",
    "                    \"stylers\": {\"color\": \"#022338\"},\n",
    "                },\n",
    "                {\n",
    "                    \"featureType\": \"green\",\n",
    "                    \"elementType\": \"geometry\",\n",
    "                    \"stylers\": {\"color\": \"#062032\"},\n",
    "                },\n",
    "                {\n",
    "                    \"featureType\": \"boundary\",\n",
    "                    \"elementType\": \"all\",\n",
    "                    \"stylers\": {\"color\": \"#465b6c\"},\n",
    "                },\n",
    "                {\n",
    "                    \"featureType\": \"manmade\",\n",
    "                    \"elementType\": \"all\",\n",
    "                    \"stylers\": {\"color\": \"#022338\"},\n",
    "                },\n",
    "                {\n",
    "                    \"featureType\": \"label\",\n",
    "                    \"elementType\": \"all\",\n",
    "                    \"stylers\": {\"visibility\": \"off\"},\n",
    "                },\n",
    "            ]\n",
    "        },)\n",
    "\n",
    "# 添加数据\n",
    "colors = ['#e62739','#7bc8a4','#4cc3d9']\n",
    "bmap.set_global_opts(legend_opts=opts.LegendOpts(\n",
    "                    textstyle_opts=opts.TextStyleOpts(color='#d1dede'),pos_left=10,pos_top=10))\n",
    "for sub_data in map_data:\n",
    "    bmap.add(subways[map_data.index(sub_data)],\n",
    "            [sub_data],\n",
    "            type_='lines',\n",
    "            is_polyline=True,\n",
    "            linestyle_opts=opts.LineStyleOpts(opacity=0.2, width=1,color=colors[map_data.index(sub_data)]),\n",
    "            progressive=200,\n",
    "            progressive_threshold=500,)\n",
    "         \n",
    "bmap.render('./charts/沈阳地铁.html')"
   ]
  },
  {
   "cell_type": "code",
   "execution_count": null,
   "metadata": {},
   "outputs": [],
   "source": []
  }
 ],
 "metadata": {
  "kernelspec": {
   "display_name": "Python 3.8.2 64-bit ('data': venv)",
   "language": "python",
   "name": "python38264bitdatavenv86c8e9e79e034983bf9e66a89847a1a4"
  },
  "language_info": {
   "codemirror_mode": {
    "name": "ipython",
    "version": 3
   },
   "file_extension": ".py",
   "mimetype": "text/x-python",
   "name": "python",
   "nbconvert_exporter": "python",
   "pygments_lexer": "ipython3",
   "version": "3.8.2"
  },
  "toc": {
   "nav_menu": {},
   "number_sections": true,
   "sideBar": true,
   "skip_h1_title": false,
   "toc_cell": true,
   "toc_position": {},
   "toc_section_display": "block",
   "toc_window_display": false
  }
 },
 "nbformat": 4,
 "nbformat_minor": 4
}
