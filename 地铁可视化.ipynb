{
 "cells": [
  {
   "cell_type": "markdown",
   "metadata": {
    "toc": true
   },
   "source": [
    "<h1>Table of Contents<span class=\"tocSkip\"></span></h1>\n",
    "<div class=\"toc\" style=\"margin-top: 1em;\"><ul class=\"toc-item\"></ul></div>"
   ]
  },
  {
   "cell_type": "markdown",
   "metadata": {},
   "source": [
    "使用RestAPI获取POI（只用types获取）\n",
    "https://restapi.amap.com/v3/place/text?types=150500&city=2101&output=json&offset=100&page=1&key=0c5ccf69838f9de4ea0f118271c0f34f&extensions=all\n",
    "\n",
    "使用\n",
    "https://www.amap.com/service/poiInfo?query_type=TQUERY&city=2101&keywords=地铁1号线"
   ]
  },
  {
   "cell_type": "code",
   "execution_count": 1,
   "metadata": {},
   "outputs": [
    {
     "ename": "KeyError",
     "evalue": "'data'",
     "output_type": "error",
     "traceback": [
      "\u001b[0;31m---------------------------------------------------------------------------\u001b[0m",
      "\u001b[0;31mKeyError\u001b[0m                                  Traceback (most recent call last)",
      "\u001b[0;32m<ipython-input-1-531cc22d19b6>\u001b[0m in \u001b[0;36m<module>\u001b[0;34m\u001b[0m\n\u001b[1;32m     16\u001b[0m     \u001b[0mdata\u001b[0m \u001b[0;34m=\u001b[0m \u001b[0mrequests\u001b[0m\u001b[0;34m.\u001b[0m\u001b[0mget\u001b[0m\u001b[0;34m(\u001b[0m\u001b[0murl\u001b[0m\u001b[0;34m,\u001b[0m \u001b[0mheaders\u001b[0m\u001b[0;34m=\u001b[0m\u001b[0mheaders\u001b[0m\u001b[0;34m)\u001b[0m\u001b[0;34m.\u001b[0m\u001b[0mjson\u001b[0m\u001b[0;34m(\u001b[0m\u001b[0;34m)\u001b[0m\u001b[0;34m\u001b[0m\u001b[0;34m\u001b[0m\u001b[0m\n\u001b[1;32m     17\u001b[0m     \u001b[0;31m# print(data)\u001b[0m\u001b[0;34m\u001b[0m\u001b[0;34m\u001b[0m\u001b[0;34m\u001b[0m\u001b[0m\n\u001b[0;32m---> 18\u001b[0;31m     \u001b[0;32mfor\u001b[0m \u001b[0mitem\u001b[0m \u001b[0;32min\u001b[0m \u001b[0mdata\u001b[0m\u001b[0;34m[\u001b[0m\u001b[0;34m'data'\u001b[0m\u001b[0;34m]\u001b[0m\u001b[0;34m[\u001b[0m\u001b[0;34m'busline_list'\u001b[0m\u001b[0;34m]\u001b[0m\u001b[0;34m[\u001b[0m\u001b[0;36m0\u001b[0m\u001b[0;34m]\u001b[0m\u001b[0;34m[\u001b[0m\u001b[0;34m'stations'\u001b[0m\u001b[0;34m]\u001b[0m\u001b[0;34m:\u001b[0m\u001b[0;34m\u001b[0m\u001b[0;34m\u001b[0m\u001b[0m\n\u001b[0m\u001b[1;32m     19\u001b[0m         \u001b[0mx\u001b[0m\u001b[0;34m,\u001b[0m \u001b[0my\u001b[0m \u001b[0;34m=\u001b[0m \u001b[0mitem\u001b[0m\u001b[0;34m[\u001b[0m\u001b[0;34m'xy_coords'\u001b[0m\u001b[0;34m]\u001b[0m\u001b[0;34m.\u001b[0m\u001b[0msplit\u001b[0m\u001b[0;34m(\u001b[0m\u001b[0;34m';'\u001b[0m\u001b[0;34m)\u001b[0m\u001b[0;34m\u001b[0m\u001b[0;34m\u001b[0m\u001b[0m\n\u001b[1;32m     20\u001b[0m         \u001b[0mtemp_list\u001b[0m\u001b[0;34m.\u001b[0m\u001b[0mappend\u001b[0m\u001b[0;34m(\u001b[0m\u001b[0;34m[\u001b[0m\u001b[0mfloat\u001b[0m\u001b[0;34m(\u001b[0m\u001b[0mx\u001b[0m\u001b[0;34m)\u001b[0m\u001b[0;34m,\u001b[0m \u001b[0mfloat\u001b[0m\u001b[0;34m(\u001b[0m\u001b[0my\u001b[0m\u001b[0;34m)\u001b[0m\u001b[0;34m]\u001b[0m\u001b[0;34m)\u001b[0m\u001b[0;34m\u001b[0m\u001b[0;34m\u001b[0m\u001b[0m\n",
      "\u001b[0;31mKeyError\u001b[0m: 'data'"
     ]
    }
   ],
   "source": [
    "import requests\n",
    "from pyecharts import options as opts\n",
    "from pyecharts.charts import *\n",
    "from pyecharts.commons.utils import JsCode\n",
    "\n",
    "subways = ['地铁1号线', '地铁2号线', '地铁9号线']\n",
    "\n",
    "# headers信息 ,referer暂时不管        \n",
    "headers = {'User-Agent': 'Mozilla/5.0 (Windows NT 10.0; Win64; x64) AppleWebKit/537.36 (KHTML, like Gecko) Chrome/65.0.3325.146 Safari/537.36',\n",
    "           'Referer': 'https://sz.lianjia.com/ershoufang/'}\n",
    "\n",
    "map_data = []\n",
    "for sbw in subways:\n",
    "    temp_list = []\n",
    "    url = 'https://www.amap.com/service/poiInfo?query_type=TQUERY&city=2101&keywords={}'.format(sbw)\n",
    "    data = requests.get(url, headers=headers).json()\n",
    "    # print(data)\n",
    "    for item in data['data']['busline_list'][0]['stations']:\n",
    "        x, y = item['xy_coords'].split(';')\n",
    "        temp_list.append([float(x), float(y)])\n",
    "    map_data.append(temp_list)\n",
    "print(map_data)"
   ]
  },
  {
   "cell_type": "code",
   "execution_count": 91,
   "metadata": {},
   "outputs": [
    {
     "data": {
      "text/plain": [
       "'/Users/lhc/dev/repo/prac_py/charts/沈阳地铁.html'"
      ]
     },
     "execution_count": 91,
     "metadata": {},
     "output_type": "execute_result"
    }
   ],
   "source": [
    "bmap = BMap()\n",
    "bmap.add_schema(\n",
    "    # 需要申请一个AK\n",
    "    baidu_ak='GNCdXmuXlZjj6MdsZG1lGIbkM8NF2qzs',\n",
    "    # 地图缩放比例\n",
    "    zoom=12, \n",
    "    # 显示地图中心坐标点\n",
    "    center=[123.44,41.79],\n",
    "    is_roam=True,\n",
    "    map_style={\n",
    "            \"styleJson\": [\n",
    "                {\n",
    "                    \"featureType\": \"water\",\n",
    "                    \"elementType\": \"all\",\n",
    "                    \"stylers\": {\"color\": \"#031628\"},\n",
    "                },\n",
    "                {\n",
    "                    \"featureType\": \"land\",\n",
    "                    \"elementType\": \"geometry\",\n",
    "                    \"stylers\": {\"color\": \"#000102\"},\n",
    "                },\n",
    "                {\n",
    "                    \"featureType\": \"highway\",\n",
    "                    \"elementType\": \"all\",\n",
    "                    \"stylers\": {\"visibility\": \"off\"},\n",
    "                },\n",
    "                {\n",
    "                    \"featureType\": \"arterial\",\n",
    "                    \"elementType\": \"geometry.fill\",\n",
    "                    \"stylers\": {\"color\": \"#000000\"},\n",
    "                },\n",
    "                {\n",
    "                    \"featureType\": \"arterial\",\n",
    "                    \"elementType\": \"geometry.stroke\",\n",
    "                    \"stylers\": {\"color\": \"#0b3d51\"},\n",
    "                },\n",
    "                {\n",
    "                    \"featureType\": \"local\",\n",
    "                    \"elementType\": \"geometry\",\n",
    "                    \"stylers\": {\"color\": \"#000000\"},\n",
    "                },\n",
    "                {\n",
    "                    \"featureType\": \"railway\",\n",
    "                    \"elementType\": \"geometry.fill\",\n",
    "                    \"stylers\": {\"color\": \"#000000\"},\n",
    "                },\n",
    "                {\n",
    "                    \"featureType\": \"railway\",\n",
    "                    \"elementType\": \"geometry.stroke\",\n",
    "                    \"stylers\": {\"color\": \"#08304b\"},\n",
    "                },\n",
    "                {\n",
    "                    \"featureType\": \"subway\",\n",
    "                    \"elementType\": \"geometry\",\n",
    "                    \"stylers\": {\"visibility\": \"off\"},\n",
    "                },\n",
    "                {\n",
    "                    \"featureType\": \"building\",\n",
    "                    \"elementType\": \"geometry.fill\",\n",
    "                    \"stylers\": {\"color\": \"#000000\"},\n",
    "                },\n",
    "                {\n",
    "                    \"featureType\": \"all\",\n",
    "                    \"elementType\": \"labels.text.fill\",\n",
    "                    \"stylers\": {\"color\": \"#d1dede\"},\n",
    "                },\n",
    "                {\n",
    "                    \"featureType\": \"all\",\n",
    "                    \"elementType\": \"labels.text.stroke\",\n",
    "                    \"stylers\": {\"color\": \"#000000\"},\n",
    "                },\n",
    "                {\n",
    "                    \"featureType\": \"building\",\n",
    "                    \"elementType\": \"geometry\",\n",
    "                    \"stylers\": {\"color\": \"#022338\"},\n",
    "                },\n",
    "                {\n",
    "                    \"featureType\": \"green\",\n",
    "                    \"elementType\": \"geometry\",\n",
    "                    \"stylers\": {\"color\": \"#062032\"},\n",
    "                },\n",
    "                {\n",
    "                    \"featureType\": \"boundary\",\n",
    "                    \"elementType\": \"all\",\n",
    "                    \"stylers\": {\"color\": \"#465b6c\"},\n",
    "                },\n",
    "                {\n",
    "                    \"featureType\": \"manmade\",\n",
    "                    \"elementType\": \"all\",\n",
    "                    \"stylers\": {\"color\": \"#022338\"},\n",
    "                },\n",
    "                {\n",
    "                    \"featureType\": \"label\",\n",
    "                    \"elementType\": \"all\",\n",
    "                    \"stylers\": {\"visibility\": \"off\"},\n",
    "                },\n",
    "            ]\n",
    "        },)\n",
    "\n",
    "# 添加数据\n",
    "colors = ['#e62739','#7bc8a4','#4cc3d9']\n",
    "bmap.set_global_opts(legend_opts=opts.LegendOpts(\n",
    "                    textstyle_opts=opts.TextStyleOpts(color='#d1dede'),pos_left=10,pos_top=10))\n",
    "for sub_data in map_data:\n",
    "    bmap.add(subways[map_data.index(sub_data)],\n",
    "            [sub_data],\n",
    "            type_='lines',\n",
    "            is_polyline=True,\n",
    "            linestyle_opts=opts.LineStyleOpts(opacity=0.2, width=1,color=colors[map_data.index(sub_data)]),\n",
    "            progressive=200,\n",
    "            progressive_threshold=500,)\n",
    "         \n",
    "bmap.render('charts/沈阳地铁.html')"
   ]
  },
  {
   "cell_type": "code",
   "execution_count": null,
   "metadata": {},
   "outputs": [],
   "source": []
  }
 ],
 "metadata": {
  "kernelspec": {
   "display_name": "Python 3",
   "language": "python",
   "name": "python3"
  },
  "language_info": {
   "codemirror_mode": {
    "name": "ipython",
    "version": 3
   },
   "file_extension": ".py",
   "mimetype": "text/x-python",
   "name": "python",
   "nbconvert_exporter": "python",
   "pygments_lexer": "ipython3",
   "version": "3.8.2"
  },
  "toc": {
   "nav_menu": {},
   "number_sections": true,
   "sideBar": true,
   "skip_h1_title": false,
   "toc_cell": true,
   "toc_position": {},
   "toc_section_display": "block",
   "toc_window_display": false
  }
 },
 "nbformat": 4,
 "nbformat_minor": 4
}
