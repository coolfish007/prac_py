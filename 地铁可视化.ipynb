{
 "cells": [
  {
   "cell_type": "markdown",
   "metadata": {
    "toc": true
   },
   "source": [
    "<h1>Table of Contents<span class=\"tocSkip\"></span></h1>\n",
    "<div class=\"toc\" style=\"margin-top: 1em;\"><ul class=\"toc-item\"></ul></div>"
   ]
  },
  {
   "cell_type": "code",
   "execution_count": 7,
   "metadata": {},
   "outputs": [
    {
     "name": "stdout",
     "output_type": "stream",
     "text": [
      "[[[123.230509, 41.765462], [123.242537, 41.765395], [123.25934, 41.765381], [123.277277, 41.766026], [123.294099, 41.771936], [123.305135, 41.781118], [123.305686, 41.794186], [123.309668, 41.801583], [123.331973, 41.805072], [123.343559, 41.803726], [123.356113, 41.800291], [123.370794, 41.794093], [123.380508, 41.796508], [123.396798, 41.793772], [123.406455, 41.789655], [123.419906, 41.789396], [123.432863, 41.792236], [123.447255, 41.796947], [123.461001, 41.801344], [123.470596, 41.802831], [123.488594, 41.808405], [123.504308, 41.80812]], [[123.405529, 41.956447], [123.408584, 41.946825], [123.398316, 41.93661], [123.393711, 41.929389], [123.40308, 41.917793], [123.409145, 41.907692], [123.415607, 41.8864], [123.417133, 41.868337], [123.418239, 41.855421], [123.418892, 41.847476], [123.42424, 41.839395], [123.429047, 41.833682], [123.429258, 41.822728], [123.435977, 41.817355], [123.438257, 41.811745], [123.434229, 41.804497], [123.432863, 41.792236], [123.435871, 41.784718], [123.435319, 41.773193], [123.435895, 41.760047], [123.441016, 41.753209], [123.453579, 41.743061], [123.456491, 41.731345], [123.461955, 41.719789], [123.47168, 41.709422], [123.482502, 41.707485]], [[123.516113, 41.747294], [123.501572, 41.744319], [123.485068, 41.741192], [123.467941, 41.743596], [123.452903, 41.742367], [123.441295, 41.734121], [123.430201, 41.731686], [123.421603, 41.729802], [123.410242, 41.72715], [123.398266, 41.724467], [123.372388, 41.726716], [123.361366, 41.732254], [123.347148, 41.750949], [123.344612, 41.760797], [123.358797, 41.772247], [123.36126, 41.781587], [123.365836, 41.787634], [123.371186, 41.794676], [123.378755, 41.804706], [123.383861, 41.81322], [123.386749, 41.821366], [123.39044, 41.829748], [123.388938, 41.842252]]]\n"
     ]
    }
   ],
   "source": [
    "import requests\n",
    "from pyecharts import options as opts\n",
    "from pyecharts.charts import *\n",
    "from pyecharts.commons.utils import JsCode\n",
    "\n",
    "subways = ['地铁1号线', '地铁2号线', '地铁9号线']\n",
    "\n",
    "# headers信息         \n",
    "headers = {'User-Agent': 'Mozilla/5.0 (Windows NT 10.0; Win64; x64) AppleWebKit/537.36 (KHTML, like Gecko) Chrome/65.0.3325.146 Safari/537.36',\n",
    "           'Referer': 'https://sz.lianjia.com/ershoufang/'}\n",
    "\n",
    "map_data = []\n",
    "for sbw in subways:\n",
    "    temp_list = []\n",
    "    url = 'https://www.amap.com/service/poiInfo?query_type=TQUERY&city=2101&keywords={}'.format(sbw)\n",
    "    data = requests.get(url, headers=headers).json()\n",
    "    for item in data['data']['busline_list'][0]['stations']:\n",
    "        x, y = item['xy_coords'].split(';')\n",
    "        temp_list.append([float(x), float(y)])\n",
    "    map_data.append(temp_list)\n",
    "print(map_data)"
   ]
  },
  {
   "cell_type": "code",
   "execution_count": 91,
   "metadata": {},
   "outputs": [
    {
     "data": {
      "text/plain": [
       "'/Users/lhc/dev/repo/prac_py/charts/沈阳地铁.html'"
      ]
     },
     "execution_count": 91,
     "metadata": {},
     "output_type": "execute_result"
    }
   ],
   "source": [
    "bmap = BMap()\n",
    "bmap.add_schema(\n",
    "    # 需要申请一个AK\n",
    "    baidu_ak='GNCdXmuXlZjj6MdsZG1lGIbkM8NF2qzs',\n",
    "    # 地图缩放比例\n",
    "    zoom=12, \n",
    "    # 显示地图中心坐标点\n",
    "    center=[123.44,41.79],\n",
    "    is_roam=True,\n",
    "    map_style={\n",
    "            \"styleJson\": [\n",
    "                {\n",
    "                    \"featureType\": \"water\",\n",
    "                    \"elementType\": \"all\",\n",
    "                    \"stylers\": {\"color\": \"#031628\"},\n",
    "                },\n",
    "                {\n",
    "                    \"featureType\": \"land\",\n",
    "                    \"elementType\": \"geometry\",\n",
    "                    \"stylers\": {\"color\": \"#000102\"},\n",
    "                },\n",
    "                {\n",
    "                    \"featureType\": \"highway\",\n",
    "                    \"elementType\": \"all\",\n",
    "                    \"stylers\": {\"visibility\": \"off\"},\n",
    "                },\n",
    "                {\n",
    "                    \"featureType\": \"arterial\",\n",
    "                    \"elementType\": \"geometry.fill\",\n",
    "                    \"stylers\": {\"color\": \"#000000\"},\n",
    "                },\n",
    "                {\n",
    "                    \"featureType\": \"arterial\",\n",
    "                    \"elementType\": \"geometry.stroke\",\n",
    "                    \"stylers\": {\"color\": \"#0b3d51\"},\n",
    "                },\n",
    "                {\n",
    "                    \"featureType\": \"local\",\n",
    "                    \"elementType\": \"geometry\",\n",
    "                    \"stylers\": {\"color\": \"#000000\"},\n",
    "                },\n",
    "                {\n",
    "                    \"featureType\": \"railway\",\n",
    "                    \"elementType\": \"geometry.fill\",\n",
    "                    \"stylers\": {\"color\": \"#000000\"},\n",
    "                },\n",
    "                {\n",
    "                    \"featureType\": \"railway\",\n",
    "                    \"elementType\": \"geometry.stroke\",\n",
    "                    \"stylers\": {\"color\": \"#08304b\"},\n",
    "                },\n",
    "                {\n",
    "                    \"featureType\": \"subway\",\n",
    "                    \"elementType\": \"geometry\",\n",
    "                    \"stylers\": {\"visibility\": \"off\"},\n",
    "                },\n",
    "                {\n",
    "                    \"featureType\": \"building\",\n",
    "                    \"elementType\": \"geometry.fill\",\n",
    "                    \"stylers\": {\"color\": \"#000000\"},\n",
    "                },\n",
    "                {\n",
    "                    \"featureType\": \"all\",\n",
    "                    \"elementType\": \"labels.text.fill\",\n",
    "                    \"stylers\": {\"color\": \"#d1dede\"},\n",
    "                },\n",
    "                {\n",
    "                    \"featureType\": \"all\",\n",
    "                    \"elementType\": \"labels.text.stroke\",\n",
    "                    \"stylers\": {\"color\": \"#000000\"},\n",
    "                },\n",
    "                {\n",
    "                    \"featureType\": \"building\",\n",
    "                    \"elementType\": \"geometry\",\n",
    "                    \"stylers\": {\"color\": \"#022338\"},\n",
    "                },\n",
    "                {\n",
    "                    \"featureType\": \"green\",\n",
    "                    \"elementType\": \"geometry\",\n",
    "                    \"stylers\": {\"color\": \"#062032\"},\n",
    "                },\n",
    "                {\n",
    "                    \"featureType\": \"boundary\",\n",
    "                    \"elementType\": \"all\",\n",
    "                    \"stylers\": {\"color\": \"#465b6c\"},\n",
    "                },\n",
    "                {\n",
    "                    \"featureType\": \"manmade\",\n",
    "                    \"elementType\": \"all\",\n",
    "                    \"stylers\": {\"color\": \"#022338\"},\n",
    "                },\n",
    "                {\n",
    "                    \"featureType\": \"label\",\n",
    "                    \"elementType\": \"all\",\n",
    "                    \"stylers\": {\"visibility\": \"off\"},\n",
    "                },\n",
    "            ]\n",
    "        },)\n",
    "\n",
    "# 添加数据\n",
    "colors = ['#e62739','#7bc8a4','#4cc3d9']\n",
    "bmap.set_global_opts(legend_opts=opts.LegendOpts(\n",
    "                    textstyle_opts=opts.TextStyleOpts(color='#d1dede'),pos_left=10,pos_top=10))\n",
    "for sub_data in map_data:\n",
    "    bmap.add(subways[map_data.index(sub_data)],\n",
    "            [sub_data],\n",
    "            type_='lines',\n",
    "            is_polyline=True,\n",
    "            linestyle_opts=opts.LineStyleOpts(opacity=0.2, width=1,color=colors[map_data.index(sub_data)]),\n",
    "            progressive=200,\n",
    "            progressive_threshold=500,)\n",
    "         \n",
    "bmap.render('charts/沈阳地铁.html')"
   ]
  },
  {
   "cell_type": "code",
   "execution_count": null,
   "metadata": {},
   "outputs": [],
   "source": []
  }
 ],
 "metadata": {
  "kernelspec": {
   "display_name": "Python 3",
   "language": "python",
   "name": "python3"
  },
  "language_info": {
   "codemirror_mode": {
    "name": "ipython",
    "version": 3
   },
   "file_extension": ".py",
   "mimetype": "text/x-python",
   "name": "python",
   "nbconvert_exporter": "python",
   "pygments_lexer": "ipython3",
   "version": "3.8.2"
  },
  "toc": {
   "nav_menu": {},
   "number_sections": true,
   "sideBar": true,
   "skip_h1_title": false,
   "toc_cell": true,
   "toc_position": {},
   "toc_section_display": "block",
   "toc_window_display": false
  }
 },
 "nbformat": 4,
 "nbformat_minor": 4
}
