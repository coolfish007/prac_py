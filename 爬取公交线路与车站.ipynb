{
 "cells": [
  {
   "cell_type": "markdown",
   "metadata": {},
   "source": [
    " # 沈阳公交线路和站点"
   ]
  },
  {
   "cell_type": "markdown",
   "metadata": {},
   "source": [
    " ## 公交线路详情及关联车站\n",
    " 通过高德地图，根据公交线路名称获取公交线路。"
   ]
  },
  {
   "cell_type": "markdown",
   "metadata": {},
   "source": [
    " ### 高德地图爬取的共用内容"
   ]
  },
  {
   "cell_type": "code",
   "execution_count": 19,
   "metadata": {},
   "outputs": [],
   "source": [
    "import math\n",
    "import time\n",
    "import random\n",
    "import requests\n",
    "import openpyxl\n",
    "import pandas as pd"
   ]
  },
  {
   "cell_type": "code",
   "execution_count": 20,
   "metadata": {},
   "outputs": [],
   "source": [
    "headers = {\n",
    "    'authority': 'ditu.amap.com',\n",
    "    'accept': '*/*',\n",
    "    'x-csrf-token': '611e34356f4e75a6b4fe490b72c2c7a6',\n",
    "    'x-requested-with': 'XMLHttpRequest',\n",
    "    'user-agent': 'Mozilla/5.0 (Macintosh; Intel Mac OS X 10_15_4) AppleWebKit/537.36 (KHTML, like Gecko) Chrome/81.0.4044.129 Safari/537.36',\n",
    "    'amapuuid': '1440c18d-8262-4b10-bf1d-dcfa90af7406',\n",
    "    'sec-fetch-site': 'same-origin',\n",
    "    'sec-fetch-mode': 'cors',\n",
    "    'sec-fetch-dest': 'empty',\n",
    "    'referer': 'https://ditu.amap.com/search?query=%E7%8E%AF%E8%B7%AF&city=210100&geoobj=123.395895%7C41.775079%7C123.459137%7C41.806199&zoom=14.12',\n",
    "    'accept-language': 'zh-CN,zh;q=0.9,en;q=0.8',\n",
    "    'cookie': 'UM_distinctid=1714efec5d91ad-0dcddda99ab246-396a7f06-fa000-1714efec5da7ca; cna=BEnxFtRzAkoCAXFCoBgfzgXk; CNZZDATA1255827602=412918052-1586405683-https%253A%252F%252Flbs.amap.com%252F%7C1586418799; _ga=GA1.2.1633570714.1587224095; passport_login=MzE2OTE2MSxhbWFwNW9mbjlkRVUsMnhsNzQzdXFqN2kzdmpyeXR6NWxjcWZieWd4MmZzemYsMTU4NzYxMTcxMixaVEJsTWpSa016UTBZelJqTldKall6WmtPVEJpWmpFeU4ySmtaR0V5TjJRPQ%3D%3D; oauth_state=ae8fa31ae280a2a0e644142c408b11cd; dev_help=Cm5hSMAkvpmaraCOySAMG2UwNDMyNTczMWE0OGI5ODIwNzIwYmViN2NjNmQ0NDE4N2E1NzZjMTUwMmRhNDlhMTQ3MzMwZjVhZmE4YTc5NTEus7mSrdBi1mHDTTh7gNwboXIGicOxRQcgdcUXFEULilQ2nc8zq%2BQ9cZkm1Nb3j0GTZnjb7yMdphosNOkRy%2F6ikMiSMXzZNCnLuZnVvfNkX4LBtvXzfH9D8hHbzRUHWbs%3D; CNZZDATA1255626299=500121251-1586274166-https%253A%252F%252Flbs.amap.com%252F%7C1588249307; x-csrf-token=611e34356f4e75a6b4fe490b72c2c7a6; x5sec=7b22617365727665723b32223a223130633936393836383138333530326433646637303737313762623134353238434e6a4e752f5546454c50526c4976346a6f624a52673d3d227d; l=eBPMb8PRQmIP7Vk9BO5wPurza77OrHAjnsPzaNbMiIHcIsin5F4kDcgjMJomK4yA7HG5-tCXy9xP8XiKbRev-QaNwtrsywzdDt9xUxJO.; isg=BO3sjG0rT-L9wSus6PvLWfmW_I9nSiEcaM2O-S_kaQSzpltYlZse7Bg0lHpAJjnU',\n",
    "}\n",
    "\n",
    "params = (\n",
    "    ('query_type', 'TQUERY'),\n",
    "    ('pagesize', '20'),\n",
    "    ('pagenum', '1'),\n",
    "    ('qii', 'true'),\n",
    "    ('cluster_state', '5'),\n",
    "    ('need_utd', 'true'),\n",
    "    ('utd_sceneid', '1000'),\n",
    "    ('div', 'PC1000'),\n",
    "    ('addr_poi_merge', 'true'),\n",
    "    ('is_classify', 'true'),\n",
    "    ('zoom', '14.12'),\n",
    "    ('city', '210100'),\n",
    "    ('geoobj', '123.395895|41.775079|123.459137|41.806199'),\n",
    ")"
   ]
  },
  {
   "cell_type": "markdown",
   "metadata": {
    "lines_to_next_cell": 2
   },
   "source": [
    " ### getbusstations"
   ]
  },
  {
   "cell_type": "code",
   "execution_count": 21,
   "metadata": {},
   "outputs": [],
   "source": [
    "def getbusstations(busline_dict, stations_key):\n",
    "    stations_dict_list = busline_dict[stations_key]\n",
    "    # print(type(stations_list))\n",
    "    # print('json中共有站点%s个:'%len(stations_dict_list))\n",
    "    station_tmp = pd.DataFrame(stations_dict_list, columns=station_df_column)\n",
    "    return station_tmp"
   ]
  },
  {
   "cell_type": "markdown",
   "metadata": {
    "lines_to_next_cell": 0
   },
   "source": [
    " ### getonebusline-测试代码\n",
    " 测试用代码，取出一条线路具体内容并组装成dataframe。"
   ]
  },
  {
   "cell_type": "code",
   "execution_count": null,
   "metadata": {},
   "outputs": [],
   "source": [
    "busline_name = '环路'\n",
    "busline_url = 'https://ditu.amap.com/service/poiInfo?keywords=' + busline_name\n",
    "response = requests.get(busline_url, headers=headers, params=params)\n",
    "data = response.json()\n",
    "busline_df_column = [\n",
    "    'id', 'code', 'type', 'key_name', 'name', 'front_name', 'terminal_name',\n",
    "    'company', 'status', 'ic_card', 'air', 'total_price', 'start_time',\n",
    "    'end_time', 'interval', 'xs', 'ys'\n",
    "]\n",
    "busline_df = pd.DataFrame(columns=busline_df_column)\n",
    "busline_dict = data['data']['busline_list'][0]\n",
    "sub0 = {\n",
    "    key: busline_dict[key]\n",
    "    for key in busline_df_column & busline_dict.keys()\n",
    "}\n",
    "busline_df = busline_df.append(sub0, ignore_index=True)\n",
    "print(busline_df)"
   ]
  },
  {
   "cell_type": "markdown",
   "metadata": {
    "lines_to_next_cell": 2
   },
   "source": [
    " ### getonebusline-方式1\n",
    " 重新定义getonebusline最好不要把dataframe当参数传递进去再返回.直接返回一条线路相关的内容在调用外边append会好一些.\n",
    " 函数说明：\n",
    " 1）每条线路的取正反向两条线路；\n",
    " 2）每条线路用高德地图busline唯一的id做关联\n",
    " 3）注意station有'poiid1','xy_coords','poiid2','poiid2_xy'，实际上同名称公交站点可能有多个，地理位置上离的也不远，不同线路的使用的站也不一样，poiid1是此线路中本站的实际具体位置。其中poiid2是某个名称的公交车站在地图上查找时返回的站点地址，可以理解成此名称的公交车站的代表，从高德poiid查找位置的api可以验证。"
   ]
  },
  {
   "cell_type": "code",
   "execution_count": null,
   "metadata": {},
   "outputs": [],
   "source": [
    "def getonebusline(busline_df, station_df, busline_name):\n",
    "    busline_url = 'https://ditu.amap.com/service/poiInfo?keywords=' + busline_name\n",
    "    response = requests.get(busline_url, headers=headers, params=params)\n",
    "    data = response.json()\n",
    "    if data['data']['message'] and data['data']['busline_list']:\n",
    "        print('找到公交线路:%s' % busline_name)\n",
    "        busline_dict = data['data']['busline_list']\n",
    "        if (len(busline_dict) >= 2):\n",
    "            print('开始抽取公交线路:%s的内容' % busline_name)\n",
    "            tmp = pd.DataFrame(busline_dict, columns=busline_df_column)\n",
    "            tmp.iloc[0]['type'] = 'a2b'\n",
    "            tmp.iloc[1]['type'] = 'b2a'\n",
    "            busline_df = busline_df.append(tmp[:2], ignore_index=True)\n",
    "            i = 0\n",
    "            while (i < 2):\n",
    "                tmp = getbusstations(busline_dict[i], 'stations')\n",
    "                tmp['busline_id'] = busline_df.iloc[i - 2]['id']\n",
    "                tmp['order'] = tmp.index\n",
    "                print('抽取公交线路:%s的站点,此线路共有%s个站点' % (busline_name, len(tmp)))\n",
    "                station_df = station_df.append(tmp, ignore_index=True)\n",
    "                i += 1\n",
    "    return busline_df, station_df"
   ]
  },
  {
   "cell_type": "markdown",
   "metadata": {},
   "source": [
    "### 坐标转换的代码,todo:放在独立的文件中"
   ]
  },
  {
   "cell_type": "code",
   "execution_count": 22,
   "metadata": {},
   "outputs": [],
   "source": [
    "pi = 3.1415926535897932384626  # π\n",
    "a = 6378245.0  # 长半轴\n",
    "ee = 0.00669342162296594323  # 扁率\n",
    "\n",
    "\n",
    "def out_of_china(lng, lat):\n",
    "    \"\"\"\n",
    "    判断是否在国内，不在国内不做偏移\n",
    "    :param lng:\n",
    "    :param lat:\n",
    "    :return:\n",
    "    \"\"\"\n",
    "    return not (lng > 73.66 and lng < 135.05 and lat > 3.86 and lat < 53.55)\n",
    "\n",
    "\n",
    "def _transformlat(lng, lat):\n",
    "    ret = -100.0 + 2.0 * lng + 3.0 * lat + 0.2 * lat * lat + \\\n",
    "        0.1 * lng * lat + 0.2 * math.sqrt(math.fabs(lng))\n",
    "    ret += (20.0 * math.sin(6.0 * lng * pi) + 20.0 *\n",
    "            math.sin(2.0 * lng * pi)) * 2.0 / 3.0\n",
    "    ret += (20.0 * math.sin(lat * pi) + 40.0 *\n",
    "            math.sin(lat / 3.0 * pi)) * 2.0 / 3.0\n",
    "    ret += (160.0 * math.sin(lat / 12.0 * pi) + 320 *\n",
    "            math.sin(lat * pi / 30.0)) * 2.0 / 3.0\n",
    "    return ret\n",
    "\n",
    "\n",
    "def _transformlng(lng, lat):\n",
    "    ret = 300.0 + lng + 2.0 * lat + 0.1 * lng * lng + \\\n",
    "        0.1 * lng * lat + 0.1 * math.sqrt(math.fabs(lng))\n",
    "    ret += (20.0 * math.sin(6.0 * lng * pi) + 20.0 *\n",
    "            math.sin(2.0 * lng * pi)) * 2.0 / 3.0\n",
    "    ret += (20.0 * math.sin(lng * pi) + 40.0 *\n",
    "            math.sin(lng / 3.0 * pi)) * 2.0 / 3.0\n",
    "    ret += (150.0 * math.sin(lng / 12.0 * pi) + 300.0 *\n",
    "            math.sin(lng / 30.0 * pi)) * 2.0 / 3.0\n",
    "    return ret\n",
    "\n",
    "\n",
    "def gcj02_to_wgs84(lng, lat):\n",
    "    \"\"\"\n",
    "    GCJ02(火星坐标系)转GPS84\n",
    "    :param lng:火星坐标系的经度\n",
    "    :param lat:火星坐标系纬度\n",
    "    :return:\n",
    "    \"\"\"\n",
    "    if out_of_china(lng, lat):\n",
    "        return lng, lat\n",
    "    dlat = _transformlat(lng - 105.0, lat - 35.0)\n",
    "    dlng = _transformlng(lng - 105.0, lat - 35.0)\n",
    "    radlat = lat / 180.0 * pi\n",
    "    magic = math.sin(radlat)\n",
    "    magic = 1 - ee * magic * magic\n",
    "    sqrtmagic = math.sqrt(magic)\n",
    "    dlat = (dlat * 180.0) / ((a * (1 - ee)) / (magic * sqrtmagic) * pi)\n",
    "    dlng = (dlng * 180.0) / (a / sqrtmagic * math.cos(radlat) * pi)\n",
    "    mglat = lat + dlat\n",
    "    mglng = lng + dlng\n",
    "    return [lng * 2 - mglng, lat * 2 - mglat]"
   ]
  },
  {
   "cell_type": "markdown",
   "metadata": {
    "lines_to_next_cell": 0
   },
   "source": [
    " ### getonebusline-方式2"
   ]
  },
  {
   "cell_type": "code",
   "execution_count": 23,
   "metadata": {},
   "outputs": [],
   "source": [
    "def change_gcj02_in_busline(row, xs, ys):\n",
    "    xs_value = row[xs]\n",
    "    ys_value = row[ys]\n",
    "    gcj02_lst = list(zip(map(float, xs_value.split(',')), map(float, ys_value.split(','))))\n",
    "    wgs84_lst = []\n",
    "    for coords in gcj02_lst:\n",
    "        result = gcj02_to_wgs84(coords[0], coords[1])\n",
    "        lng = str(round(result[0], 6))\n",
    "        lat = str(round(result[1], 6))\n",
    "        wgs84_lst.append((lng, lat))\n",
    "    wgs84_lst = list(zip(*wgs84_lst))\n",
    "    return ','.join(wgs84_lst[0]), ','.join(wgs84_lst[1])\n",
    "\n",
    "\n",
    "def change_gcj02_in_station(row, xy_coords, poiid2_xy):\n",
    "    xy_coords_value = list(map(float, row[xy_coords].split(';')))\n",
    "    poiid2_xy_value = list(map(float, row[poiid2_xy].split(';')))\n",
    "    result = gcj02_to_wgs84(xy_coords_value[0], xy_coords_value[1])\n",
    "    xy_coords_84_lst = map(lambda v: str(round(v, 6)), result)\n",
    "    xy_coords_84_str = ';'.join(xy_coords_84_lst)\n",
    "    result = gcj02_to_wgs84(poiid2_xy_value[0], poiid2_xy_value[1])\n",
    "    poiid2_xy_84_lst = map(lambda v: str(round(v, 6)), result)\n",
    "    poiid2_xy_84_str = ';'.join(poiid2_xy_84_lst)\n",
    "    return xy_coords_84_str, poiid2_xy_84_str\n",
    "\n",
    "\n",
    "def change_gcj02_in_station2(row, xy_coords, poiid2_xy):\n",
    "    xy_coords_value = list(map(float, row[xy_coords].split(';')))\n",
    "    poiid2_xy_value = list(map(float, row[poiid2_xy].split(';')))\n",
    "    result = gcj02_to_wgs84(xy_coords_value[0], xy_coords_value[1])\n",
    "    xy_coords_84 = result\n",
    "    result = gcj02_to_wgs84(poiid2_xy_value[0], poiid2_xy_value[1])\n",
    "    poiid2_xy_84 = result\n",
    "    return xy_coords_84, poiid2_xy_84\n",
    "\n",
    "\n",
    "def getonebusline2(busline_name):\n",
    "    busline_url = 'https://ditu.amap.com/service/poiInfo?keywords=' + busline_name\n",
    "    response = requests.get(busline_url, headers=headers, params=params)\n",
    "    data = response.json()\n",
    "    busline = pd.DataFrame()\n",
    "    oneline_stations = pd.DataFrame()\n",
    "    if data['data']['message'] and data['data']['busline_list']:\n",
    "        print('当前公交线路:[%s],地图已查询到.' % busline_name)\n",
    "        busline_dict = data['data']['busline_list']\n",
    "        if (len(busline_dict) >= 2):\n",
    "            print('--抽取公交线路(双向):[%s]的详情' % busline_name)\n",
    "            busline = pd.DataFrame(busline_dict, columns=busline_df_column)\n",
    "            busline.iloc[0]['type'] = 'a2b'\n",
    "            busline.iloc[1]['type'] = 'b2a'\n",
    "            busline = busline[:2]\n",
    "            busline['xs-84'], busline['ys-84'] = zip(\n",
    "                *busline[['xs', 'ys']].apply(change_gcj02_in_busline, axis=1, xs='xs', ys='ys'))\n",
    "            i = 0\n",
    "            while (i < 2):\n",
    "                tmp = getbusstations(busline_dict[i], 'stations')\n",
    "                print('--抽取公交线路:[%s-%s]的站点,此线路共有[%d]个站点' % (busline_name, busline.iloc[i]['type'], len(tmp)))\n",
    "                # print(','.join(tmp['name']))\n",
    "                tmp['busline_id'] = busline.iloc[i]['id']\n",
    "                tmp['order'] = tmp.index\n",
    "                tmp['xy_coords_84'], tmp['poiid2_xy_84'] = zip(\n",
    "                    *tmp[['xy_coords', 'poiid2_xy']].apply(change_gcj02_in_station, axis=1, args=('xy_coords', 'poiid2_xy')))\n",
    "                oneline_stations = oneline_stations.append(tmp, ignore_index=True)\n",
    "                i += 1\n",
    "    else:\n",
    "        print('$$没有查询到公交线路:[%s]' % busline_name)\n",
    "    return busline, oneline_stations"
   ]
  },
  {
   "cell_type": "markdown",
   "metadata": {
    "lines_to_next_cell": 0
   },
   "source": [
    " ### 共用调用函数前置代码"
   ]
  },
  {
   "cell_type": "code",
   "execution_count": 24,
   "metadata": {
    "lines_to_next_cell": 2
   },
   "outputs": [],
   "source": [
    "# buslines = '环路,100,101'\n",
    "buslines = '环路,苦茶,100,101'\n",
    "busline_df_column = [\n",
    "    'id', 'code', 'type', 'key_name', 'name', 'front_name', 'terminal_name',\n",
    "    'company', 'status', 'ic_card', 'air', 'total_price', 'start_time',\n",
    "    'end_time', 'interval', 'xs', 'ys'\n",
    "]\n",
    "station_df_column = [\n",
    "    'name', 'busline_id', 'order', 'poiid1', 'xy_coords', 'poiid2',\n",
    "    'poiid2_xy', 'station_id'\n",
    "]\n",
    "busline_df = pd.DataFrame(columns=busline_df_column)\n",
    "station_df = pd.DataFrame(columns=station_df_column)\n",
    "line_noinfo = []"
   ]
  },
  {
   "cell_type": "markdown",
   "metadata": {},
   "source": [
    "从excel文件中读取线路名称,为了和下面代码兼容,组成字符串:'环路,101,100'的形式."
   ]
  },
  {
   "cell_type": "code",
   "execution_count": 25,
   "metadata": {
    "lines_to_next_cell": 0
   },
   "outputs": [],
   "source": [
    "f_name = 'data/hgj_gong_jiao_xian_lu.xlsx'\n",
    "busline_from_excel = pd.read_excel(f_name, sheet_name='hgj_gong_jiao_xian_lu')\n",
    "writer = pd.ExcelWriter(f_name, engine='openpyxl')\n",
    "busline_lst = []\n",
    "for bn in busline_from_excel['xian_lu_ming_cheng']:\n",
    "    busline_lst.append(bn)\n",
    "buslines = ','.join(busline_lst)\n",
    "buslines = '环路'"
   ]
  },
  {
   "cell_type": "markdown",
   "metadata": {},
   "source": [
    " ### getonebusline-调用1"
   ]
  },
  {
   "cell_type": "code",
   "execution_count": null,
   "metadata": {},
   "outputs": [],
   "source": [
    "for busline_name in buslines.split(','):\n",
    "    busline_df, station_df = getonebusline(busline_df, station_df,\n",
    "                                           busline_name)\n",
    "print('共有双向线路:%s条' % len(busline_df))\n",
    "print(busline_df)\n",
    "print('共有站点:%s个' % len(station_df))\n",
    "print(station_df)"
   ]
  },
  {
   "cell_type": "markdown",
   "metadata": {
    "lines_to_next_cell": 0
   },
   "source": [
    " ### getonebusline-调用2"
   ]
  },
  {
   "cell_type": "code",
   "execution_count": 26,
   "metadata": {
    "lines_to_next_cell": 2
   },
   "outputs": [
    {
     "name": "stdout",
     "output_type": "stream",
     "text": [
      "当前公交线路:[环路],地图已查询到.\n",
      "--抽取公交线路(双向):[环路]的详情\n",
      "--抽取公交线路:[环路-a2b]的站点,此线路共有[28]个站点\n",
      "--抽取公交线路:[环路-b2a]的站点,此线路共有[28]个站点\n",
      "      name    busline_id order      poiid1             xy_coords      poiid2  \\\n",
      "0     沈阳站北  210100011101     0  BS12258880  123.399361;41.795212  BV11026982   \n",
      "1   中山路太原街  210100011101     1  BS12309929  123.406189;41.796234  BV11051948   \n",
      "2    中山广场东  210100011101     2  BS12258858  123.413094;41.797428  BV11026976   \n",
      "3  中山路和平大街  210100011101     3  BS12258871  123.418678;41.798542  BV11026981   \n",
      "4   中山路三经街  210100011101     4  BS12006351   123.424957;41.79987  BV10904590   \n",
      "\n",
      "              poiid2_xy       station_id          xy_coords_84  \\\n",
      "0  123.397606;41.795864  210100011101002  123.393216;41.792766   \n",
      "1  123.405930;41.796204  210100011101003   123.40004;41.793788   \n",
      "2  123.413780;41.797848  210100011101004  123.406945;41.794984   \n",
      "3  123.418518;41.798576  210100011101005  123.412531;41.796101   \n",
      "4  123.424232;41.799805  210100011101006  123.418815;41.797435   \n",
      "\n",
      "           poiid2_xy_84  \n",
      "0  123.391462;41.793418  \n",
      "1  123.399782;41.793758  \n",
      "2  123.407631;41.795404  \n",
      "3  123.412371;41.796135  \n",
      "4  123.418089;41.797369  \n",
      "             id    code type key_name                  name  front_name  \\\n",
      "0  210100011101  210100  a2b       环路  环路(沈阳站北--沈阳站南(南一马路))        沈阳站北   \n",
      "1  210100010339  210100  b2a       环路  环路(沈阳站南(南一马路)--沈阳站北)  沈阳站南(南一马路)   \n",
      "\n",
      "  terminal_name       company status ic_card air total_price start_time  \\\n",
      "0    沈阳站南(南一马路)     沈阳地铁公交B公司      1       1   0           2       0500   \n",
      "1          沈阳站北  沈阳地铁公共交通有限公司      1       1   0           2       0500   \n",
      "\n",
      "  end_time interval                                                 xs  \\\n",
      "0     2300     0005  123.399361,123.400398,123.400604,123.40097,123...   \n",
      "1     2300     0005  123.396896,123.39695,123.397331,123.397606,123...   \n",
      "\n",
      "                                                  ys  \\\n",
      "0  41.795212,41.795368,41.795395,41.795456,41.795...   \n",
      "1  41.791004,41.790913,41.790245,41.789715,41.788...   \n",
      "\n",
      "                                               xs-84  \\\n",
      "0  123.393216,123.394252,123.394458,123.394824,12...   \n",
      "1  123.390753,123.390807,123.391188,123.391462,12...   \n",
      "\n",
      "                                               ys-84  \n",
      "0  41.792766,41.792922,41.792949,41.79301,41.7930...  \n",
      "1  41.788558,41.788467,41.787799,41.787269,41.786...  \n",
      "数据汇总:共需抽取[1]条线路,已抽取到详情[1]条线路,涉及站点: [28.0] 个\n",
      "共有: [0] 条线路--没有详情--, 其线路名称:\n",
      "\n"
     ]
    }
   ],
   "source": [
    "try:\n",
    "    for busline_name in buslines.split(','):\n",
    "        busline, stations = getonebusline2(busline_name)\n",
    "        if (len(busline) == 0):\n",
    "            line_noinfo.append(busline_name)\n",
    "        else:\n",
    "            busline_df = busline_df.append(busline, ignore_index=True)\n",
    "            station_df = station_df.append(stations, ignore_index=True)\n",
    "        time.sleep(random.random() * random.randint(0, 7) + random.randint(0, 5))\n",
    "except KeyError:\n",
    "    print('--高德限制IP错误,以下是本次获取到的数据汇总:--')\n",
    "\n",
    "print(station_df.head())\n",
    "print(busline_df.head())\n",
    "print('数据汇总:共需抽取[%d]条线路,已抽取到详情[%d]条线路,涉及站点: [%s] 个' % (len(buslines.split(',')), len(busline_df)/2, len(station_df)/2))\n",
    "print('共有: [%d] 条线路--没有详情--, 其线路名称:' % len(line_noinfo))\n",
    "print(','.join(line_noinfo))\n",
    "\n",
    "if len(busline_df) > 0:\n",
    "    busline_df.to_excel(writer, sheet_name='busline_info', header=True)\n",
    "    station_df.to_excel(writer, sheet_name='stations_info', header=True)\n",
    "    writer.save()\n",
    "writer.close()"
   ]
  },
  {
   "cell_type": "code",
   "execution_count": null,
   "metadata": {},
   "outputs": [],
   "source": []
  }
 ],
 "metadata": {
  "jupytext": {
   "encoding": "# -*- coding: utf-8 -*-",
   "formats": "ipynb,py:percent"
  },
  "kernelspec": {
   "display_name": "Python 3.8.2 64-bit ('data': venv)",
   "language": "python",
   "name": "python38264bitdatavenvaa4066e455544989bb855911b00b5f95"
  },
  "language_info": {
   "codemirror_mode": {
    "name": "ipython",
    "version": 3
   },
   "file_extension": ".py",
   "mimetype": "text/x-python",
   "name": "python",
   "nbconvert_exporter": "python",
   "pygments_lexer": "ipython3",
   "version": "3.8.2"
  }
 },
 "nbformat": 4,
 "nbformat_minor": 4
}
