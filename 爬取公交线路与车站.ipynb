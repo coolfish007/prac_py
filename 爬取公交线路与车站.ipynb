{
 "cells": [
  {
   "cell_type": "markdown",
   "metadata": {},
   "source": [
    " # 沈阳公交线路和站点"
   ]
  },
  {
   "cell_type": "markdown",
   "metadata": {},
   "source": [
    " ## 公交线路详情及关联车站\n",
    " 通过高德地图，根据公交线路名称获取公交线路。"
   ]
  },
  {
   "cell_type": "markdown",
   "metadata": {},
   "source": [
    " ### 高德地图爬取的共用内容"
   ]
  },
  {
   "cell_type": "code",
   "execution_count": 46,
   "metadata": {},
   "outputs": [],
   "source": [
    "import math\n",
    "import requests\n",
    "import xlwt\n",
    "import pandas as pd"
   ]
  },
  {
   "cell_type": "code",
   "execution_count": 2,
   "metadata": {},
   "outputs": [],
   "source": [
    "headers = {\n",
    "    'authority': 'ditu.amap.com',\n",
    "    'accept': '*/*',\n",
    "    'x-csrf-token': '611e34356f4e75a6b4fe490b72c2c7a6',\n",
    "    'x-requested-with': 'XMLHttpRequest',\n",
    "    'user-agent': 'Mozilla/5.0 (Macintosh; Intel Mac OS X 10_15_4) AppleWebKit/537.36 (KHTML, like Gecko) Chrome/81.0.4044.129 Safari/537.36',\n",
    "    'amapuuid': '1440c18d-8262-4b10-bf1d-dcfa90af7406',\n",
    "    'sec-fetch-site': 'same-origin',\n",
    "    'sec-fetch-mode': 'cors',\n",
    "    'sec-fetch-dest': 'empty',\n",
    "    'referer': 'https://ditu.amap.com/search?query=%E7%8E%AF%E8%B7%AF&city=210100&geoobj=123.395895%7C41.775079%7C123.459137%7C41.806199&zoom=14.12',\n",
    "    'accept-language': 'zh-CN,zh;q=0.9,en;q=0.8',\n",
    "    'cookie': 'UM_distinctid=1714efec5d91ad-0dcddda99ab246-396a7f06-fa000-1714efec5da7ca; cna=BEnxFtRzAkoCAXFCoBgfzgXk; CNZZDATA1255827602=412918052-1586405683-https%253A%252F%252Flbs.amap.com%252F%7C1586418799; _ga=GA1.2.1633570714.1587224095; passport_login=MzE2OTE2MSxhbWFwNW9mbjlkRVUsMnhsNzQzdXFqN2kzdmpyeXR6NWxjcWZieWd4MmZzemYsMTU4NzYxMTcxMixaVEJsTWpSa016UTBZelJqTldKall6WmtPVEJpWmpFeU4ySmtaR0V5TjJRPQ%3D%3D; oauth_state=ae8fa31ae280a2a0e644142c408b11cd; dev_help=Cm5hSMAkvpmaraCOySAMG2UwNDMyNTczMWE0OGI5ODIwNzIwYmViN2NjNmQ0NDE4N2E1NzZjMTUwMmRhNDlhMTQ3MzMwZjVhZmE4YTc5NTEus7mSrdBi1mHDTTh7gNwboXIGicOxRQcgdcUXFEULilQ2nc8zq%2BQ9cZkm1Nb3j0GTZnjb7yMdphosNOkRy%2F6ikMiSMXzZNCnLuZnVvfNkX4LBtvXzfH9D8hHbzRUHWbs%3D; CNZZDATA1255626299=500121251-1586274166-https%253A%252F%252Flbs.amap.com%252F%7C1588249307; x-csrf-token=611e34356f4e75a6b4fe490b72c2c7a6; x5sec=7b22617365727665723b32223a223130633936393836383138333530326433646637303737313762623134353238434e6a4e752f5546454c50526c4976346a6f624a52673d3d227d; l=eBPMb8PRQmIP7Vk9BO5wPurza77OrHAjnsPzaNbMiIHcIsin5F4kDcgjMJomK4yA7HG5-tCXy9xP8XiKbRev-QaNwtrsywzdDt9xUxJO.; isg=BO3sjG0rT-L9wSus6PvLWfmW_I9nSiEcaM2O-S_kaQSzpltYlZse7Bg0lHpAJjnU',\n",
    "}\n",
    "\n",
    "params = (\n",
    "    ('query_type', 'TQUERY'),\n",
    "    ('pagesize', '20'),\n",
    "    ('pagenum', '1'),\n",
    "    ('qii', 'true'),\n",
    "    ('cluster_state', '5'),\n",
    "    ('need_utd', 'true'),\n",
    "    ('utd_sceneid', '1000'),\n",
    "    ('div', 'PC1000'),\n",
    "    ('addr_poi_merge', 'true'),\n",
    "    ('is_classify', 'true'),\n",
    "    ('zoom', '14.12'),\n",
    "    ('city', '210100'),\n",
    "    ('geoobj', '123.395895|41.775079|123.459137|41.806199'),\n",
    ")"
   ]
  },
  {
   "cell_type": "markdown",
   "metadata": {
    "lines_to_next_cell": 2
   },
   "source": [
    " ### getbusstations"
   ]
  },
  {
   "cell_type": "code",
   "execution_count": 3,
   "metadata": {},
   "outputs": [],
   "source": [
    "def getbusstations(busline_dict, stations_key):\n",
    "    stations_dict_list = busline_dict[stations_key]\n",
    "    # print(type(stations_list))\n",
    "    # print('json中共有站点%s个:'%len(stations_dict_list))\n",
    "    station_tmp = pd.DataFrame(stations_dict_list, columns=station_df_column)\n",
    "    return station_tmp"
   ]
  },
  {
   "cell_type": "markdown",
   "metadata": {
    "lines_to_next_cell": 0
   },
   "source": [
    " ### getonebusline-测试代码\n",
    " 测试用代码，取出一条线路具体内容并组装成dataframe。"
   ]
  },
  {
   "cell_type": "code",
   "execution_count": null,
   "metadata": {},
   "outputs": [],
   "source": [
    "busline_name = '环路'\n",
    "busline_url = 'https://ditu.amap.com/service/poiInfo?keywords=' + busline_name\n",
    "response = requests.get(busline_url, headers=headers, params=params)\n",
    "data = response.json()\n",
    "busline_df_column = [\n",
    "    'id', 'code', 'type', 'key_name', 'name', 'front_name', 'terminal_name',\n",
    "    'company', 'status', 'ic_card', 'air', 'total_price', 'start_time',\n",
    "    'end_time', 'interval', 'xs', 'ys'\n",
    "]\n",
    "busline_df = pd.DataFrame(columns=busline_df_column)\n",
    "busline_dict = data['data']['busline_list'][0]\n",
    "sub0 = {\n",
    "    key: busline_dict[key]\n",
    "    for key in busline_df_column & busline_dict.keys()\n",
    "}\n",
    "busline_df = busline_df.append(sub0, ignore_index=True)\n",
    "print(busline_df)"
   ]
  },
  {
   "cell_type": "markdown",
   "metadata": {
    "lines_to_next_cell": 2
   },
   "source": [
    " ### getonebusline-方式1\n",
    " 重新定义getonebusline最好不要把dataframe当参数传递进去再返回.直接返回一条线路相关的内容在调用外边append会好一些.\n",
    " 函数说明：\n",
    " 1）每条线路的取正反向两条线路；\n",
    " 2）每条线路用高德地图busline唯一的id做关联\n",
    " 3）注意station有'poiid1','xy_coords','poiid2','poiid2_xy'，实际上同名称公交站点可能有多个，地理位置上离的也不远，不同线路的使用的站也不一样，poiid1是此线路中本站的实际具体位置。其中poiid2是某个名称的公交车站在地图上查找时返回的站点地址，可以理解成此名称的公交车站的代表，从高德poiid查找位置的api可以验证。"
   ]
  },
  {
   "cell_type": "code",
   "execution_count": null,
   "metadata": {},
   "outputs": [],
   "source": [
    "def getonebusline(busline_df, station_df, busline_name):\n",
    "    busline_url = 'https://ditu.amap.com/service/poiInfo?keywords=' + busline_name\n",
    "    response = requests.get(busline_url, headers=headers, params=params)\n",
    "    data = response.json()\n",
    "    if data['data']['message'] and data['data']['busline_list']:\n",
    "        print('找到公交线路:%s' % busline_name)\n",
    "        busline_dict = data['data']['busline_list']\n",
    "        if (len(busline_dict) >= 2):\n",
    "            print('开始抽取公交线路:%s的内容' % busline_name)\n",
    "            tmp = pd.DataFrame(busline_dict, columns=busline_df_column)\n",
    "            tmp.iloc[0]['type'] = 'a2b'\n",
    "            tmp.iloc[1]['type'] = 'b2a'\n",
    "            busline_df = busline_df.append(tmp[:2], ignore_index=True)\n",
    "            i = 0\n",
    "            while (i < 2):\n",
    "                tmp = getbusstations(busline_dict[i], 'stations')\n",
    "                tmp['busline_id'] = busline_df.iloc[i - 2]['id']\n",
    "                tmp['order'] = tmp.index\n",
    "                print('抽取公交线路:%s的站点,此线路共有%s个站点' % (busline_name, len(tmp)))\n",
    "                station_df = station_df.append(tmp, ignore_index=True)\n",
    "                i += 1\n",
    "    return busline_df, station_df"
   ]
  },
  {
   "cell_type": "markdown",
   "metadata": {},
   "source": []
  },
  {
   "cell_type": "code",
   "execution_count": 42,
   "metadata": {},
   "outputs": [],
   "source": [
    "pi = 3.1415926535897932384626  # π\n",
    "a = 6378245.0  # 长半轴\n",
    "ee = 0.00669342162296594323  # 扁率\n",
    "\n",
    "\n",
    "def out_of_china(lng, lat):\n",
    "    \"\"\"\n",
    "    判断是否在国内，不在国内不做偏移\n",
    "    :param lng:\n",
    "    :param lat:\n",
    "    :return:\n",
    "    \"\"\"\n",
    "    return not (lng > 73.66 and lng < 135.05 and lat > 3.86 and lat < 53.55)\n",
    "\n",
    "\n",
    "def _transformlat(lng, lat):\n",
    "    ret = -100.0 + 2.0 * lng + 3.0 * lat + 0.2 * lat * lat + \\\n",
    "        0.1 * lng * lat + 0.2 * math.sqrt(math.fabs(lng))\n",
    "    ret += (20.0 * math.sin(6.0 * lng * pi) + 20.0 *\n",
    "            math.sin(2.0 * lng * pi)) * 2.0 / 3.0\n",
    "    ret += (20.0 * math.sin(lat * pi) + 40.0 *\n",
    "            math.sin(lat / 3.0 * pi)) * 2.0 / 3.0\n",
    "    ret += (160.0 * math.sin(lat / 12.0 * pi) + 320 *\n",
    "            math.sin(lat * pi / 30.0)) * 2.0 / 3.0\n",
    "    return ret\n",
    "\n",
    "\n",
    "def _transformlng(lng, lat):\n",
    "    ret = 300.0 + lng + 2.0 * lat + 0.1 * lng * lng + \\\n",
    "        0.1 * lng * lat + 0.1 * math.sqrt(math.fabs(lng))\n",
    "    ret += (20.0 * math.sin(6.0 * lng * pi) + 20.0 *\n",
    "            math.sin(2.0 * lng * pi)) * 2.0 / 3.0\n",
    "    ret += (20.0 * math.sin(lng * pi) + 40.0 *\n",
    "            math.sin(lng / 3.0 * pi)) * 2.0 / 3.0\n",
    "    ret += (150.0 * math.sin(lng / 12.0 * pi) + 300.0 *\n",
    "            math.sin(lng / 30.0 * pi)) * 2.0 / 3.0\n",
    "    return ret\n",
    "\n",
    "\n",
    "def gcj02_to_wgs84(lng, lat):\n",
    "    \"\"\"\n",
    "    GCJ02(火星坐标系)转GPS84\n",
    "    :param lng:火星坐标系的经度\n",
    "    :param lat:火星坐标系纬度\n",
    "    :return:\n",
    "    \"\"\"\n",
    "    if out_of_china(lng, lat):\n",
    "        return lng, lat\n",
    "    dlat = _transformlat(lng - 105.0, lat - 35.0)\n",
    "    dlng = _transformlng(lng - 105.0, lat - 35.0)\n",
    "    radlat = lat / 180.0 * pi\n",
    "    magic = math.sin(radlat)\n",
    "    magic = 1 - ee * magic * magic\n",
    "    sqrtmagic = math.sqrt(magic)\n",
    "    dlat = (dlat * 180.0) / ((a * (1 - ee)) / (magic * sqrtmagic) * pi)\n",
    "    dlng = (dlng * 180.0) / (a / sqrtmagic * math.cos(radlat) * pi)\n",
    "    mglat = lat + dlat\n",
    "    mglng = lng + dlng\n",
    "    return [lng * 2 - mglng, lat * 2 - mglat]"
   ]
  },
  {
   "cell_type": "markdown",
   "metadata": {
    "lines_to_next_cell": 0
   },
   "source": [
    " ### getonebusline-方式2"
   ]
  },
  {
   "cell_type": "code",
   "execution_count": 86,
   "metadata": {},
   "outputs": [],
   "source": [
    "def change_gcj02_in_busline(row, xs, ys):\n",
    "    xs_value = row[xs]\n",
    "    ys_value = row[ys]\n",
    "    gcj02_lst = list(zip(map(float, xs_value.split(',')), map(float, ys_value.split(','))))\n",
    "    wgs84_lst = []\n",
    "    for coords in gcj02_lst:\n",
    "        result = gcj02_to_wgs84(coords[0], coords[1])\n",
    "        lng = str(round(result[0], 6))\n",
    "        lat = str(round(result[1], 6))\n",
    "        wgs84_lst.append((lng, lat))\n",
    "    wgs84_lst = list(zip(*wgs84_lst))\n",
    "    return ','.join(wgs84_lst[0]), ','.join(wgs84_lst[1])\n",
    "\n",
    "\n",
    "def change_gcj02_in_station(row, xy_coords, poiid2_xy):\n",
    "    xy_coords_value = list(map(float, row[xy_coords].split(';')))\n",
    "    poiid2_xy_value = list(map(float, row[poiid2_xy].split(';')))\n",
    "    result = gcj02_to_wgs84(xy_coords_value[0], xy_coords_value[1])\n",
    "    xy_coords_84_lst = map(lambda v: str(round(v, 6)), result)\n",
    "    xy_coords_84_str = ';'.join(xy_coords_84_lst)\n",
    "    result = gcj02_to_wgs84(poiid2_xy_value[0], poiid2_xy_value[1])\n",
    "    poiid2_xy_84_lst = map(lambda v: str(round(v, 6)), result)\n",
    "    poiid2_xy_84_str = ';'.join(poiid2_xy_84_lst)\n",
    "    return xy_coords_84_str, poiid2_xy_84_str\n",
    "\n",
    "\n",
    "def change_gcj02_in_station2(row, xy_coords, poiid2_xy):\n",
    "    xy_coords_value = list(map(float, row[xy_coords].split(';')))\n",
    "    poiid2_xy_value = list(map(float, row[poiid2_xy].split(';')))\n",
    "    result = gcj02_to_wgs84(xy_coords_value[0], xy_coords_value[1])\n",
    "    xy_coords_84 = result\n",
    "    result = gcj02_to_wgs84(poiid2_xy_value[0], poiid2_xy_value[1])\n",
    "    poiid2_xy_84 = result\n",
    "    return xy_coords_84, poiid2_xy_84\n",
    "\n",
    "\n",
    "def getonebusline2(busline_name):\n",
    "    busline_url = 'https://ditu.amap.com/service/poiInfo?keywords=' + busline_name\n",
    "    response = requests.get(busline_url, headers=headers, params=params)\n",
    "    data = response.json()\n",
    "    busline = pd.DataFrame()\n",
    "    oneline_stations = pd.DataFrame()\n",
    "    if data['data']['message'] and data['data']['busline_list']:\n",
    "        print('当前公交线路:[%s],地图已查询到.' % busline_name)\n",
    "        busline_dict = data['data']['busline_list']\n",
    "        if (len(busline_dict) >= 2):\n",
    "            print('--抽取公交线路(双向):[%s]的详情' % busline_name)\n",
    "            busline = pd.DataFrame(busline_dict, columns=busline_df_column)\n",
    "            busline.iloc[0]['type'] = 'a2b'\n",
    "            busline.iloc[1]['type'] = 'b2a'\n",
    "            busline = busline[:2]\n",
    "            busline['xs-84'], busline['ys-84'] = zip(\n",
    "                *busline[['xs', 'ys']].apply(change_gcj02_in_busline, axis=1, xs='xs', ys='ys'))\n",
    "            i = 0\n",
    "            while (i < 2):\n",
    "                tmp = getbusstations(busline_dict[i], 'stations')\n",
    "                print('--抽取公交线路:[%s-%s]的站点,此线路共有[%d]个站点' % (busline_name, busline.iloc[i]['type'], len(tmp)))\n",
    "                print(','.join(tmp['name']))\n",
    "                tmp['busline_id'] = busline.iloc[i]['id']\n",
    "                tmp['order'] = tmp.index\n",
    "                tmp['xy_coords_84'], tmp['poiid2_xy_84'] = zip(\n",
    "                    *tmp[['xy_coords', 'poiid2_xy']].apply(change_gcj02_in_station, axis=1, args=('xy_coords', 'poiid2_xy')))\n",
    "                oneline_stations = oneline_stations.append(tmp, ignore_index=True)\n",
    "                i += 1\n",
    "    else:\n",
    "        print('$$没有查询到公交线路:[%s]' % busline_name)\n",
    "    return busline, oneline_stations"
   ]
  },
  {
   "cell_type": "markdown",
   "metadata": {
    "lines_to_next_cell": 0
   },
   "source": [
    " ### 共用调用函数前置代码"
   ]
  },
  {
   "cell_type": "code",
   "execution_count": 87,
   "metadata": {},
   "outputs": [],
   "source": [
    "# buslines = '环路,100,101'\n",
    "buslines = '环路,苦茶,100,101'\n",
    "busline_df_column = [\n",
    "    'id', 'code', 'type', 'key_name', 'name', 'front_name', 'terminal_name',\n",
    "    'company', 'status', 'ic_card', 'air', 'total_price', 'start_time',\n",
    "    'end_time', 'interval', 'xs', 'ys'\n",
    "]\n",
    "station_df_column = [\n",
    "    'name', 'busline_id', 'order', 'poiid1', 'xy_coords', 'poiid2',\n",
    "    'poiid2_xy', 'station_id'\n",
    "]\n",
    "busline_df = pd.DataFrame(columns=busline_df_column)\n",
    "station_df = pd.DataFrame(columns=station_df_column)\n",
    "line_noinfo = []"
   ]
  },
  {
   "cell_type": "markdown",
   "metadata": {},
   "source": [
    " ### getonebusline-调用1"
   ]
  },
  {
   "cell_type": "code",
   "execution_count": null,
   "metadata": {},
   "outputs": [],
   "source": [
    "for busline_name in buslines.split(','):\n",
    "    busline_df, station_df = getonebusline(busline_df, station_df,\n",
    "                                           busline_name)\n",
    "print('共有双向线路:%s条' % len(busline_df))\n",
    "print(busline_df)\n",
    "print('共有站点:%s个' % len(station_df))\n",
    "print(station_df)"
   ]
  },
  {
   "cell_type": "markdown",
   "metadata": {
    "lines_to_next_cell": 0
   },
   "source": [
    " ### getonebusline-调用2"
   ]
  },
  {
   "cell_type": "code",
   "execution_count": 88,
   "metadata": {
    "lines_to_next_cell": 2
   },
   "outputs": [
    {
     "name": "stdout",
     "output_type": "stream",
     "text": [
      "当前公交线路:[环路],地图已查询到.\n",
      "--抽取公交线路(双向):[环路]的详情\n",
      "--抽取公交线路:[环路-a2b]的站点,此线路共有[28]个站点\n",
      "沈阳站北,中山路太原街,中山广场东,中山路和平大街,中山路三经街,中山路杏林街,市红十字会医院,小西门,太清宫站,中街,故宫西华门,小南门,大南门西,大南街热闹路,第二十七中学,大南边门,省医院东门,南塔,陆军总院,展览馆,盛京医院南湖院区,南湖公园,南五马路振兴街,南五马路中兴街,和平广场,体育广场南,市文化宫,沈阳站南(南一马路)\n",
      "--抽取公交线路:[环路-b2a]的站点,此线路共有[28]个站点\n",
      "沈阳站南(南一马路),市文化宫,体育广场南,和平广场,南五马路中兴街,南五马路振兴街,南湖公园,盛京医院南湖院区,展览馆,陆军总院,南塔,省医院东门,大南边门,第二十七中学,大南街热闹路,大南门,故宫东华门,商业城(钟楼),大北门站,小北门,小西门,市红十字会医院,中山路杏林街,中山路三经街,中山路和平大街,中山广场东,中山路太原街,沈阳站北\n",
      "$$没有查询到公交线路:[苦茶]\n",
      "当前公交线路:[100],地图已查询到.\n",
      "--抽取公交线路(双向):[100]的详情\n",
      "--抽取公交线路:[100-a2b]的站点,此线路共有[23]个站点\n",
      "21世纪广场,新隆街高科路,双e港小区,卓越平方,智慧三街双深路,北环路智慧三街,北环路白塔河二路,智慧四街白塔河二路,智慧四街高深路,全运万达广场东,智慧四街全运二路,智慧四街全运三路,省科技馆,省档案馆,智慧大街全运五路,莫子山路白塔四街,白塔三街新运河路,新运河路白塔二街,中国医大一院浑南院区北,新运河路沈营路,沈阳南站,新南站城市广场,沈阳南站公交枢纽\n",
      "--抽取公交线路:[100-b2a]的站点,此线路共有[23]个站点\n",
      "沈阳南站公交枢纽,新南站城市广场,沈阳南站,新运河路沈营路,中国医大一院浑南院区北,新运河路白塔二街,白塔三街新运河路,莫子山路白塔四街,智慧大街全运五路,省档案馆,省科技馆,智慧四街全运三路,智慧四街全运二路,全运万达广场东,智慧四街高深路,智慧四街白塔河二路,北环路白塔河二路,北环路智慧三街,智慧三街双深路,卓越平方,双E港小区,新隆街高科路,21世纪广场\n",
      "当前公交线路:[101],地图已查询到.\n",
      "--抽取公交线路(双向):[101]的详情\n",
      "--抽取公交线路:[101-a2b]的站点,此线路共有[12]个站点\n",
      "工业大学中央校区南门,工业大学中央校区东门,中央大街沈辽路,中央大街十四号路,中央大街十三号路,开发区工人文化宫,中央大街十号路,中央大街地铁站,中央大街八号路,中央大街七号路,中央大街六号路,中央大街五号路\n",
      "--抽取公交线路:[101-b2a]的站点,此线路共有[12]个站点\n",
      "中央大街五号路,中央大街六号路,中央大街七号路,中央大街八号路,中央大街地铁站,中央大街十号路,开发区工人文化宫,中央大街十三号路,中央大街十四号路,中央大街沈辽路,工业大学中央校区东门,工业大学中央校区南门\n",
      "           name    busline_id order      poiid1             xy_coords  \\\n",
      "0          沈阳站北  210100011101     0  BS12258880  123.399361;41.795212   \n",
      "1        中山路太原街  210100011101     1  BS12309929  123.406189;41.796234   \n",
      "2         中山广场东  210100011101     2  BS12258858  123.413094;41.797428   \n",
      "3       中山路和平大街  210100011101     3  BS12258871  123.418678;41.798542   \n",
      "4        中山路三经街  210100011101     4  BS12006351   123.424957;41.79987   \n",
      "..          ...           ...   ...         ...                   ...   \n",
      "121    中央大街十三号路  210100010561     7  BS11295314    123.2453;41.752613   \n",
      "122    中央大街十四号路  210100010561     8  BS11295312  123.246666;41.748268   \n",
      "123     中央大街沈辽路  210100010561     9  BS10097214  123.249069;41.744484   \n",
      "124  工业大学中央校区东门  210100010561    10  BS10867646   123.25354;41.738365   \n",
      "125  工业大学中央校区南门  210100010561    11  BS10098187  123.257462;41.732391   \n",
      "\n",
      "         poiid2             poiid2_xy       station_id          xy_coords_84  \\\n",
      "0    BV11026982  123.397606;41.795864  210100011101002  123.393216;41.792766   \n",
      "1    BV11051948  123.405930;41.796204  210100011101003   123.40004;41.793788   \n",
      "2    BV11026976  123.413780;41.797848  210100011101004  123.406945;41.794984   \n",
      "3    BV11026981  123.418518;41.798576  210100011101005  123.412531;41.796101   \n",
      "4    BV10904590  123.424232;41.799805  210100011101006  123.418815;41.797435   \n",
      "..          ...                   ...              ...                   ...   \n",
      "121  BV10546099  123.245354;41.753716  210100010561020  123.239497;41.750357   \n",
      "122  BV10546103  123.246948;41.748043  210100010561021  123.240863;41.746013   \n",
      "123  BV10050551  123.249252;41.744518  210100010561011  123.243265;41.742229   \n",
      "124  BV10050552  123.253540;41.738365  210100010561012  123.247733;41.736111   \n",
      "125  BV10051030  123.257446;41.732704  210100010561022  123.251652;41.730136   \n",
      "\n",
      "             poiid2_xy_84  \n",
      "0    123.391462;41.793418  \n",
      "1    123.399782;41.793758  \n",
      "2    123.407631;41.795404  \n",
      "3    123.412371;41.796135  \n",
      "4    123.418089;41.797369  \n",
      "..                    ...  \n",
      "121   123.239551;41.75146  \n",
      "122  123.241145;41.745788  \n",
      "123  123.243448;41.742263  \n",
      "124  123.247733;41.736111  \n",
      "125  123.251636;41.730449  \n",
      "\n",
      "[126 rows x 10 columns]\n",
      "             id    code type key_name                       name  front_name  \\\n",
      "0  210100011101  210100  a2b       环路       环路(沈阳站北--沈阳站南(南一马路))        沈阳站北   \n",
      "1  210100010339  210100  b2a       环路       环路(沈阳站南(南一马路)--沈阳站北)  沈阳站南(南一马路)   \n",
      "2  900000044064  210100  a2b     100路     100路(21世纪广场--沈阳南站公交枢纽)      21世纪广场   \n",
      "3  900000043582  210100  b2a     100路     100路(沈阳南站公交枢纽--21世纪广场)    沈阳南站公交枢纽   \n",
      "4  210100010562  210100  a2b     101路  101路(工业大学中央校区南门--中央大街五号路)  工业大学中央校区南门   \n",
      "5  210100010561  210100  b2a     101路  101路(中央大街五号路--工业大学中央校区南门)     中央大街五号路   \n",
      "\n",
      "  terminal_name            company status ic_card air total_price start_time  \\\n",
      "0    沈阳站南(南一马路)          沈阳地铁公交B公司      1       1   0           2       0500   \n",
      "1          沈阳站北       沈阳地铁公共交通有限公司      1       1   0           2       0500   \n",
      "2      沈阳南站公交枢纽  沈阳客运集团公司沈苏公共汽车分公司      1       1   0           1       0630   \n",
      "3        21世纪广场  沈阳客运集团公司沈苏公共汽车分公司      1       1   0           1       0600   \n",
      "4       中央大街五号路         沈阳安运巴士有限公司      1       0   0           1       0600   \n",
      "5    工业大学中央校区南门         沈阳安运巴士有限公司      1       0   0           1       0630   \n",
      "\n",
      "  end_time interval                                                 xs  \\\n",
      "0     2300     0005  123.399361,123.400398,123.400604,123.40097,123...   \n",
      "1     2300     0005  123.396896,123.39695,123.397331,123.397606,123...   \n",
      "2     2000           123.458633,123.458794,123.459183,123.46003,123...   \n",
      "3     1930           123.40848,123.408478,123.408763,123.408996,123...   \n",
      "4     2000     0030  123.257462,123.256752,123.256615,123.256439,12...   \n",
      "5     2030     0030  123.245224,123.245216,123.245193,123.245132,12...   \n",
      "\n",
      "                                                  ys  \\\n",
      "0  41.795212,41.795368,41.795395,41.795456,41.795...   \n",
      "1  41.791004,41.790913,41.790245,41.789715,41.788...   \n",
      "2  41.7173,41.717045,41.716423,41.715088,41.71486...   \n",
      "3  41.669609,41.669422,41.669433,41.669469,41.669...   \n",
      "4  41.732681,41.733757,41.733974,41.734241,41.735...   \n",
      "5  41.780617,41.780376,41.779999,41.779778,41.779...   \n",
      "\n",
      "                                               xs-84  \\\n",
      "0  123.393216,123.394252,123.394458,123.394824,12...   \n",
      "1  123.390753,123.390807,123.391188,123.391462,12...   \n",
      "2  123.452566,123.452727,123.453118,123.453967,12...   \n",
      "3  123.402349,123.402347,123.402632,123.402865,12...   \n",
      "4  123.251652,123.250943,123.250806,123.25063,123...   \n",
      "5  123.239417,123.239409,123.239386,123.239325,12...   \n",
      "\n",
      "                                               ys-84  \n",
      "0  41.792766,41.792922,41.792949,41.79301,41.7930...  \n",
      "1  41.788558,41.788467,41.787799,41.787269,41.786...  \n",
      "2  41.714928,41.714673,41.714052,41.712719,41.712...  \n",
      "3  41.667176,41.666989,41.667001,41.667037,41.667...  \n",
      "4  41.730426,41.731502,41.731719,41.731986,41.732...  \n",
      "5  41.778359,41.778118,41.777741,41.77752,41.7774...  \n",
      "数据汇总:查询[4]条线路,抽取到详情[3]条线路,涉及站点: [63.0] 个\n",
      "共有: [1] 条线路--没有详情--, 其线路名称:\n",
      "苦茶\n"
     ]
    }
   ],
   "source": [
    "for busline_name in buslines.split(','):\n",
    "    busline, stations = getonebusline2(busline_name)\n",
    "    if (len(busline) == 0):\n",
    "        line_noinfo.append(busline_name)\n",
    "    else:\n",
    "        busline_df = busline_df.append(busline, ignore_index=True)\n",
    "        station_df = station_df.append(stations, ignore_index=True)\n",
    "print(station_df)\n",
    "print(busline_df)\n",
    "print('数据汇总:查询[%d]条线路,抽取到详情[%d]条线路,涉及站点: [%s] 个' % (len(buslines.split(',')), len(busline_df)/2, len(station_df)/2))\n",
    "print('共有: [%d] 条线路--没有详情--, 其线路名称:' % len(line_noinfo))\n",
    "print(','.join(i for i in line_noinfo))"
   ]
  },
  {
   "cell_type": "code",
   "execution_count": null,
   "metadata": {},
   "outputs": [],
   "source": []
  }
 ],
 "metadata": {
  "jupytext": {
   "encoding": "# -*- coding: utf-8 -*-",
   "formats": "ipynb,py:percent"
  },
  "kernelspec": {
   "display_name": "Python 3.8.2 64-bit ('data': venv)",
   "language": "python",
   "name": "python38264bitdatavenvaa4066e455544989bb855911b00b5f95"
  },
  "language_info": {
   "codemirror_mode": {
    "name": "ipython",
    "version": 3
   },
   "file_extension": ".py",
   "mimetype": "text/x-python",
   "name": "python",
   "nbconvert_exporter": "python",
   "pygments_lexer": "ipython3",
   "version": "3.8.2"
  }
 },
 "nbformat": 4,
 "nbformat_minor": 4
}
