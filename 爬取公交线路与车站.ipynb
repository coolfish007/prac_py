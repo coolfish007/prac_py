{
 "cells": [
  {
   "cell_type": "markdown",
   "metadata": {},
   "source": [
    " # 沈阳公交线路和站点"
   ]
  },
  {
   "cell_type": "markdown",
   "metadata": {},
   "source": [
    " ## 公交线路详情及关联车站\n",
    " 通过高德地图，根据公交线路名称获取公交线路。"
   ]
  },
  {
   "cell_type": "markdown",
   "metadata": {},
   "source": [
    " ### 高德地图爬取的共用内容"
   ]
  },
  {
   "cell_type": "code",
   "execution_count": null,
   "metadata": {},
   "outputs": [],
   "source": [
    "import requests\n",
    "import xlwt\n",
    "import pandas as pd\n"
   ]
  },
  {
   "cell_type": "code",
   "execution_count": null,
   "metadata": {},
   "outputs": [],
   "source": [
    "headers = {\n",
    "    'authority': 'ditu.amap.com',\n",
    "    'accept': '*/*',\n",
    "    'x-csrf-token': 'e32efb46d464b024158d63446bab2507',\n",
    "    'x-requested-with': 'XMLHttpRequest',\n",
    "    'user-agent':\n",
    "    'Mozilla/5.0 (Macintosh; Intel Mac OS X 10_15_4) AppleWebKit/537.36 (KHTML, like Gecko) Chrome/81.0.4044.122 Safari/537.36',\n",
    "    'amapuuid': '1440c18d-8262-4b10-bf1d-dcfa90af7406',\n",
    "    'sec-fetch-site': 'same-origin',\n",
    "    'sec-fetch-mode': 'cors',\n",
    "    'sec-fetch-dest': 'empty',\n",
    "    'referer':\n",
    "    'https://ditu.amap.com/search?query=%E7%8E%AF%E8%B7%AF&city=210100&geoobj=123.099506%7C41.541332%7C124.198139%7C42.081772&zoom=10',\n",
    "    'accept-language': 'zh-CN,zh;q=0.9,en;q=0.8',\n",
    "    'cookie':\n",
    "    'UM_distinctid=1714efec5d91ad-0dcddda99ab246-396a7f06-fa000-1714efec5da7ca; cna=BEnxFtRzAkoCAXFCoBgfzgXk; CNZZDATA1255827602=412918052-1586405683-https%253A%252F%252Flbs.amap.com%252F%7C1586418799; _ga=GA1.2.1633570714.1587224095; passport_login=MzE2OTE2MSxhbWFwNW9mbjlkRVUsMnhsNzQzdXFqN2kzdmpyeXR6NWxjcWZieWd4MmZzemYsMTU4NzYxMTcxMixaVEJsTWpSa016UTBZelJqTldKall6WmtPVEJpWmpFeU4ySmtaR0V5TjJRPQ%3D%3D; oauth_state=ae8fa31ae280a2a0e644142c408b11cd; dev_help=Cm5hSMAkvpmaraCOySAMG2UwNDMyNTczMWE0OGI5ODIwNzIwYmViN2NjNmQ0NDE4N2E1NzZjMTUwMmRhNDlhMTQ3MzMwZjVhZmE4YTc5NTEus7mSrdBi1mHDTTh7gNwboXIGicOxRQcgdcUXFEULilQ2nc8zq%2BQ9cZkm1Nb3j0GTZnjb7yMdphosNOkRy%2F6ikMiSMXzZNCnLuZnVvfNkX4LBtvXzfH9D8hHbzRUHWbs%3D; guid=e09f-1bb9-6767-1ccf; CNZZDATA1255626299=500121251-1586274166-https%253A%252F%252Flbs.amap.com%252F%7C1587997635; isg=BKurae7KcVTVCa0qegEl96ssOsmVwL9Cd2egtB0pe-p-vM4eqpKkk0FVEvzSnBc6; l=eBPMb8PRQmIP7g8-BO5N-urza77O6IdfCsPzaNbMiIHca1lAQi5S3NQc4R5vYdtjgtfmnExros38FRHJWkz3WjkDBeYQqVvu3op6-; x-csrf-token=e32efb46d464b024158d63446bab2507',\n",
    "    'if-none-match': 'W/\"1ba51-ACI7DeLNlcIM05GlLIxia0nDh6o\"',\n",
    "}\n",
    "\n",
    "params = (\n",
    "    ('query_type', 'TQUERY'),\n",
    "    ('pagesize', '20'),\n",
    "    ('pagenum', '1'),\n",
    "    ('qii', 'true'),\n",
    "    ('cluster_state', '5'),\n",
    "    ('need_utd', 'true'),\n",
    "    ('utd_sceneid', '1000'),\n",
    "    ('div', 'PC1000'),\n",
    "    ('addr_poi_merge', 'true'),\n",
    "    ('is_classify', 'true'),\n",
    "    ('zoom', '10'),\n",
    "    ('city', '210100'),\n",
    "    ('geoobj', '123.099506|41.541332|124.198139|42.081772'),\n",
    ")\n"
   ]
  },
  {
   "cell_type": "markdown",
   "metadata": {},
   "source": [
    " ### getbusstations"
   ]
  },
  {
   "cell_type": "code",
   "execution_count": null,
   "metadata": {},
   "outputs": [],
   "source": [
    "def getbusstations(busline_dict, stations_key):\n",
    "    stations_dict_list = busline_dict[stations_key]\n",
    "    # print(type(stations_list))\n",
    "    # print('json中共有站点%s个:'%len(stations_dict_list))\n",
    "    station_tmp = pd.DataFrame(stations_dict_list, columns=station_df_column)\n",
    "    return station_tmp\n",
    "\n"
   ]
  },
  {
   "cell_type": "markdown",
   "metadata": {},
   "source": [
    " ### getonebusline-测试代码\n",
    " 测试用代码，取出一条线路具体内容并组装成dataframe。"
   ]
  },
  {
   "cell_type": "code",
   "execution_count": null,
   "metadata": {},
   "outputs": [],
   "source": [
    "busline_name = '环路'\n",
    "busline_url = 'https://ditu.amap.com/service/poiInfo?keywords=' + busline_name\n",
    "response = requests.get(busline_url, headers=headers, params=params)\n",
    "data = response.json()\n",
    "busline_dict = data['data']['busline_list'][0]\n",
    "sub0 = {\n",
    "    key: busline_dict[key]\n",
    "    for key in busline_df_column & busline_dict.keys()\n",
    "}\n",
    "busline_df = busline_df.append(sub0, ignore_index=True)\n",
    "print(busline_df)\n"
   ]
  },
  {
   "cell_type": "markdown",
   "metadata": {},
   "source": [
    " ### getonebusline-方式1\n",
    " 重新定义getonebusline最好不要把dataframe当参数传递进去再返回.直接返回一条线路相关的内容在调用外边append会好一些.\n",
    " 函数说明：\n",
    " 1）每条线路的取正反向两条线路；\n",
    " 2）每条线路用高德地图busline唯一的id做关联\n",
    " 3）注意station有'poiid1','xy_coords','poiid2','poiid2_xy'，实际上同名称公交站点可能有多个，地理位置上离的也不远，不同线路的使用的站也不一样，poiid1是此线路中本站的实际具体位置。其中poiid2是某个名称的公交车站在地图上查找时返回的站点地址，可以理解成此名称的公交车站的代表，从高德poiid查找位置的api可以验证。"
   ]
  },
  {
   "cell_type": "code",
   "execution_count": null,
   "metadata": {},
   "outputs": [],
   "source": [
    "def getonebusline(busline_df, station_df, busline_name):\n",
    "    busline_url = 'https://ditu.amap.com/service/poiInfo?keywords=' + busline_name\n",
    "    response = requests.get(busline_url, headers=headers, params=params)\n",
    "    data = response.json()\n",
    "    if data['data']['message'] and data['data']['busline_list']:\n",
    "\n",
    "        print('找到公交线路:%s' % busline_name)\n",
    "        busline_dict = data['data']['busline_list']\n",
    "        if (len(busline_dict) >= 2):\n",
    "            print('开始抽取公交线路:%s的内容' % busline_name)\n",
    "            tmp = pd.DataFrame(busline_dict, columns=busline_df_column)\n",
    "            tmp.iloc[0]['type'] = 'a2b'\n",
    "            tmp.iloc[1]['type'] = 'b2a'\n",
    "            busline_df = busline_df.append(tmp[:2], ignore_index=True)\n",
    "            i = 0\n",
    "            while (i < 2):\n",
    "                tmp = getbusstations(busline_dict[i], 'stations')\n",
    "                tmp['busline_id'] = busline_df.iloc[i - 2]['id']\n",
    "                tmp['order'] = tmp.index\n",
    "                print('抽取公交线路:%s的站点,此线路共有%s个站点' % (busline_name, len(tmp)))\n",
    "                station_df = station_df.append(tmp, ignore_index=True)\n",
    "                i += 1\n",
    "        return busline_df, station_df\n",
    "\n"
   ]
  },
  {
   "cell_type": "markdown",
   "metadata": {},
   "source": [
    " ### 测试datafrmae传入的变化\n",
    " 传入的是调用的引用.\n",
    " 注意 `df=pd.DataFrame(a)`, 这句之后df就指向新的数据结构了,和传入的\n",
    " df就没有关系了. 但是append操作必须返回才能起效果,不像drop(inplace=True)."
   ]
  },
  {
   "cell_type": "code",
   "execution_count": null,
   "metadata": {},
   "outputs": [],
   "source": [
    "def testdfgo(df):\n",
    "    a = [{'A': 1, 'B': 2}, {'A': 3, 'B': 4}]\n",
    "    print(df)\n",
    "    # a = {'A': [1, 2], 'B': [3, 4]}\n",
    "    # df = pd.DataFrame(a)\n",
    "    df.append(a, ignore_index=True)\n",
    "    print(df)\n",
    "    df.drop(index=0, inplace=True)\n",
    "    print(df)\n",
    "\n",
    "\n",
    "df = pd.DataFrame([[0, 0], [5, 6]], columns=['A', 'B'])\n",
    "testdfgo(df)\n",
    "print(df)"
   ]
  },
  {
   "cell_type": "markdown",
   "metadata": {},
   "source": [
    " ### getonebusline-方式2"
   ]
  },
  {
   "cell_type": "markdown",
   "metadata": {},
   "source": [
    " ### 共用调用函数前置代码"
   ]
  },
  {
   "cell_type": "code",
   "execution_count": null,
   "metadata": {},
   "outputs": [],
   "source": [
    "buslines = '环路,100,101'\n",
    "busline_df_column = [\n",
    "    'id', 'code', 'type', 'key_name', 'name', 'front_name', 'terminal_name',\n",
    "    'company', 'status', 'ic_card', 'air', 'total_price', 'start_time',\n",
    "    'end_time', 'interval', 'xs', 'ys'\n",
    "]\n",
    "station_df_column = [\n",
    "    'name', 'busline_id', 'order', 'poiid1', 'xy_coords', 'poiid2',\n",
    "    'poiid2_xy', 'station_id'\n",
    "]\n",
    "busline_df = pd.DataFrame(columns=busline_df_column)\n",
    "station_df = pd.DataFrame(columns=station_df_column)\n"
   ]
  },
  {
   "cell_type": "markdown",
   "metadata": {},
   "source": [
    " ### getonebusline-调用1"
   ]
  },
  {
   "cell_type": "code",
   "execution_count": null,
   "metadata": {},
   "outputs": [],
   "source": [
    "for busline_name in buslines.split(','):\n",
    "    busline_df, station_df = getonebusline(busline_df, station_df,\n",
    "                                           busline_name)\n",
    "print('共有双向线路:%s条' % len(busline_df))\n",
    "print(busline_df)\n",
    "print('共有站点:%s个' % len(station_df))\n",
    "print(station_df)\n"
   ]
  },
  {
   "cell_type": "markdown",
   "metadata": {},
   "source": [
    " ### getonebusline-调用2"
   ]
  }
 ],
 "metadata": {
  "jupytext": {
   "formats": "ipynb,py:percent"
  },
  "kernelspec": {
   "display_name": "Python 3.8.2 64-bit ('data': venv)",
   "language": "python",
   "name": "python38264bitdatavenvaa4066e455544989bb855911b00b5f95"
  },
  "language_info": {
   "codemirror_mode": {
    "name": "ipython",
    "version": 3
   },
   "file_extension": ".py",
   "mimetype": "text/x-python",
   "name": "python",
   "nbconvert_exporter": "python",
   "pygments_lexer": "ipython3",
   "version": "3.8.2"
  }
 },
 "nbformat": 4,
 "nbformat_minor": 4
}
