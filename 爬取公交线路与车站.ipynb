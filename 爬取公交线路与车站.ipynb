{
 "cells": [
  {
   "cell_type": "markdown",
   "metadata": {},
   "source": [
    "# 沈阳公交线路和站点"
   ]
  },
  {
   "cell_type": "markdown",
   "metadata": {},
   "source": [
    "## 公交线路详情及关联车站\n",
    "通过高德地图，根据公交线路名称获取公交线路。"
   ]
  },
  {
   "cell_type": "markdown",
   "metadata": {},
   "source": [
    "### 高德地图爬取的共用内容"
   ]
  },
  {
   "cell_type": "code",
   "execution_count": 1,
   "metadata": {},
   "outputs": [],
   "source": [
    "import requests\n",
    "import xlwt\n",
    "import pandas as pd"
   ]
  },
  {
   "cell_type": "code",
   "execution_count": 2,
   "metadata": {},
   "outputs": [],
   "source": [
    "headers = {\n",
    "    'authority': 'ditu.amap.com',\n",
    "    'accept': '*/*',\n",
    "    'x-csrf-token': 'e32efb46d464b024158d63446bab2507',\n",
    "    'x-requested-with': 'XMLHttpRequest',\n",
    "    'user-agent': 'Mozilla/5.0 (Macintosh; Intel Mac OS X 10_15_4) AppleWebKit/537.36 (KHTML, like Gecko) Chrome/81.0.4044.122 Safari/537.36',\n",
    "    'amapuuid': '1440c18d-8262-4b10-bf1d-dcfa90af7406',\n",
    "    'sec-fetch-site': 'same-origin',\n",
    "    'sec-fetch-mode': 'cors',\n",
    "    'sec-fetch-dest': 'empty',\n",
    "    'referer': 'https://ditu.amap.com/search?query=%E7%8E%AF%E8%B7%AF&city=210100&geoobj=123.099506%7C41.541332%7C124.198139%7C42.081772&zoom=10',\n",
    "    'accept-language': 'zh-CN,zh;q=0.9,en;q=0.8',\n",
    "    'cookie': 'UM_distinctid=1714efec5d91ad-0dcddda99ab246-396a7f06-fa000-1714efec5da7ca; cna=BEnxFtRzAkoCAXFCoBgfzgXk; CNZZDATA1255827602=412918052-1586405683-https%253A%252F%252Flbs.amap.com%252F%7C1586418799; _ga=GA1.2.1633570714.1587224095; passport_login=MzE2OTE2MSxhbWFwNW9mbjlkRVUsMnhsNzQzdXFqN2kzdmpyeXR6NWxjcWZieWd4MmZzemYsMTU4NzYxMTcxMixaVEJsTWpSa016UTBZelJqTldKall6WmtPVEJpWmpFeU4ySmtaR0V5TjJRPQ%3D%3D; oauth_state=ae8fa31ae280a2a0e644142c408b11cd; dev_help=Cm5hSMAkvpmaraCOySAMG2UwNDMyNTczMWE0OGI5ODIwNzIwYmViN2NjNmQ0NDE4N2E1NzZjMTUwMmRhNDlhMTQ3MzMwZjVhZmE4YTc5NTEus7mSrdBi1mHDTTh7gNwboXIGicOxRQcgdcUXFEULilQ2nc8zq%2BQ9cZkm1Nb3j0GTZnjb7yMdphosNOkRy%2F6ikMiSMXzZNCnLuZnVvfNkX4LBtvXzfH9D8hHbzRUHWbs%3D; guid=e09f-1bb9-6767-1ccf; CNZZDATA1255626299=500121251-1586274166-https%253A%252F%252Flbs.amap.com%252F%7C1587997635; isg=BKurae7KcVTVCa0qegEl96ssOsmVwL9Cd2egtB0pe-p-vM4eqpKkk0FVEvzSnBc6; l=eBPMb8PRQmIP7g8-BO5N-urza77O6IdfCsPzaNbMiIHca1lAQi5S3NQc4R5vYdtjgtfmnExros38FRHJWkz3WjkDBeYQqVvu3op6-; x-csrf-token=e32efb46d464b024158d63446bab2507',\n",
    "    'if-none-match': 'W/\"1ba51-ACI7DeLNlcIM05GlLIxia0nDh6o\"',\n",
    "}\n",
    "\n",
    "params = (\n",
    "    ('query_type', 'TQUERY'),\n",
    "    ('pagesize', '20'),\n",
    "    ('pagenum', '1'),\n",
    "    ('qii', 'true'),\n",
    "    ('cluster_state', '5'),\n",
    "    ('need_utd', 'true'),\n",
    "    ('utd_sceneid', '1000'),\n",
    "    ('div', 'PC1000'),\n",
    "    ('addr_poi_merge', 'true'),\n",
    "    ('is_classify', 'true'),\n",
    "    ('zoom', '10'),\n",
    "    ('city', '210100'),\n",
    "    ('geoobj', '123.099506|41.541332|124.198139|42.081772'),\n",
    ")"
   ]
  },
  {
   "cell_type": "markdown",
   "metadata": {},
   "source": [
    "### getbusstations"
   ]
  },
  {
   "cell_type": "code",
   "execution_count": 3,
   "metadata": {},
   "outputs": [],
   "source": [
    "def getbusstations(busline_dict, stations_key):\n",
    "    stations_dict_list = busline_dict[stations_key]\n",
    "    # print(type(stations_list))\n",
    "    # print('json中共有站点%s个:'%len(stations_dict_list))\n",
    "    station_tmp = pd.DataFrame(stations_dict_list, columns=station_df_column)\n",
    "    return station_tmp"
   ]
  },
  {
   "cell_type": "markdown",
   "metadata": {},
   "source": [
    "### getonebusline-测试代码\n",
    "测试用代码，取出一条线路具体内容并组装成dataframe。"
   ]
  },
  {
   "cell_type": "code",
   "execution_count": null,
   "metadata": {},
   "outputs": [],
   "source": [
    "busline_url = 'https://ditu.amap.com/service/poiInfo?keywords=' + busline_name\n",
    "response = requests.get(busline_url, headers=headers, params=params)\n",
    "data = response.json()\n",
    "busline_dict = data['data']['busline_list'][0]\n",
    "sub0 = {key: busline_dict[key] for key in busline_df_column & busline_dict.keys()}\n",
    "busline_df = busline_df.append(sub0, ignore_index=True)\n",
    "print(busline_df)"
   ]
  },
  {
   "cell_type": "markdown",
   "metadata": {},
   "source": [
    "### getonebusline-方式1\n",
    "重新定义getonebusline最好不要把dataframe当参数传递进去再返回.直接返回一条线路相关的内容在调用外边append会好一些.\n",
    "函数说明：\n",
    "1）每条线路的取正反向两条线路；\n",
    "2）每条线路用高德地图busline唯一的id做关联\n",
    "3）注意station有'poiid1','xy_coords','poiid2','poiid2_xy'，实际上同名称公交站点可能有多个，地理位置上离的也不远，不同线路的使用的站也不一样，poiid1是此线路中本站的实际具体位置。其中poiid2是某个名称的公交车站在地图上查找时返回的站点地址，可以理解成此名称的公交车站的代表，从高德poiid查找位置的api可以验证。"
   ]
  },
  {
   "cell_type": "code",
   "execution_count": 4,
   "metadata": {},
   "outputs": [],
   "source": [
    "def getonebusline(busline_df,station_df,busline_name):\n",
    "    busline_url = 'https://ditu.amap.com/service/poiInfo?keywords=' + busline_name\n",
    "    response = requests.get(busline_url, headers=headers, params=params)\n",
    "    data = response.json()\n",
    "    if data['data']['message'] and data['data']['busline_list']:\n",
    "        \n",
    "        print('找到公交线路:%s'%busline_name)\n",
    "        busline_dict = data['data']['busline_list']\n",
    "        if(len(busline_dict)>=2):\n",
    "            print('开始抽取公交线路:%s的内容'%busline_name)\n",
    "            tmp = pd.DataFrame(busline_dict, columns=busline_df_column)\n",
    "            tmp.iloc[0]['type'] = 'a2b'\n",
    "            tmp.iloc[1]['type'] = 'b2a'\n",
    "            busline_df = busline_df.append(tmp[:2],ignore_index=True)\n",
    "            i=0\n",
    "            while(i<2):\n",
    "                tmp = getbusstations(busline_dict[i], 'stations')\n",
    "                tmp['busline_id']=busline_df.iloc[i-2]['id']\n",
    "                tmp['order'] = tmp.index\n",
    "                print('抽取公交线路:%s的站点,此线路共有%s个站点'%(busline_name,len(tmp)))\n",
    "                station_df = station_df.append(tmp, ignore_index=True)\n",
    "                i+=1\n",
    "        return busline_df,station_df"
   ]
  },
  {
   "cell_type": "markdown",
   "metadata": {},
   "source": [
    "### getonebusline-方式2"
   ]
  },
  {
   "cell_type": "markdown",
   "metadata": {},
   "source": [
    "### 共用调用函数前置代码"
   ]
  },
  {
   "cell_type": "code",
   "execution_count": 5,
   "metadata": {},
   "outputs": [
    {
     "name": "stdout",
     "output_type": "stream",
     "text": [
      "找到公交线路:环路\n",
      "开始抽取公交线路:环路的内容\n",
      "抽取公交线路:环路的站点,此线路共有28个站点\n",
      "抽取公交线路:环路的站点,此线路共有28个站点\n",
      "找到公交线路:100\n",
      "开始抽取公交线路:100的内容\n",
      "抽取公交线路:100的站点,此线路共有23个站点\n",
      "抽取公交线路:100的站点,此线路共有23个站点\n",
      "找到公交线路:101\n",
      "开始抽取公交线路:101的内容\n",
      "抽取公交线路:101的站点,此线路共有12个站点\n",
      "抽取公交线路:101的站点,此线路共有12个站点\n",
      "共有双向线路:6条\n",
      "             id    code type key_name                       name  front_name  \\\n",
      "0  210100011101  210100  a2b       环路       环路(沈阳站北--沈阳站南(南一马路))        沈阳站北   \n",
      "1  210100010339  210100  b2a       环路       环路(沈阳站南(南一马路)--沈阳站北)  沈阳站南(南一马路)   \n",
      "2  900000044064  210100  a2b     100路     100路(21世纪广场--沈阳南站公交枢纽)      21世纪广场   \n",
      "3  900000043582  210100  b2a     100路     100路(沈阳南站公交枢纽--21世纪广场)    沈阳南站公交枢纽   \n",
      "4  210100010562  210100  a2b     101路  101路(工业大学中央校区南门--中央大街五号路)  工业大学中央校区南门   \n",
      "5  210100010561  210100  b2a     101路  101路(中央大街五号路--工业大学中央校区南门)     中央大街五号路   \n",
      "\n",
      "  terminal_name            company status ic_card air total_price start_time  \\\n",
      "0    沈阳站南(南一马路)          沈阳地铁公交B公司      1       1   0           2       0500   \n",
      "1          沈阳站北       沈阳地铁公共交通有限公司      1       1   0           2       0500   \n",
      "2      沈阳南站公交枢纽  沈阳客运集团公司沈苏公共汽车分公司      1       1   0           1       0630   \n",
      "3        21世纪广场  沈阳客运集团公司沈苏公共汽车分公司      1       1   0           1       0600   \n",
      "4       中央大街五号路         沈阳安运巴士有限公司      1       0   0           1       0600   \n",
      "5    工业大学中央校区南门         沈阳安运巴士有限公司      1       0   0           1       0630   \n",
      "\n",
      "  end_time interval                                                 xs  \\\n",
      "0     2300     0005  123.399361,123.400398,123.400604,123.40097,123...   \n",
      "1     2300     0005  123.396896,123.39695,123.397331,123.397606,123...   \n",
      "2     2000           123.458633,123.458794,123.459183,123.46003,123...   \n",
      "3     1930           123.40848,123.408478,123.408763,123.408996,123...   \n",
      "4     2000     0030  123.257462,123.256752,123.256615,123.256439,12...   \n",
      "5     2030     0030  123.245224,123.245216,123.245193,123.245132,12...   \n",
      "\n",
      "                                                  ys  \n",
      "0  41.795212,41.795368,41.795395,41.795456,41.795...  \n",
      "1  41.791004,41.790913,41.790245,41.789715,41.788...  \n",
      "2  41.7173,41.717045,41.716423,41.715088,41.71486...  \n",
      "3  41.669609,41.669422,41.669433,41.669469,41.669...  \n",
      "4  41.732681,41.733757,41.733974,41.734241,41.735...  \n",
      "5  41.780617,41.780376,41.779999,41.779778,41.779...  \n",
      "共有站点:126个\n",
      "           name    busline_id order      poiid1             xy_coords  \\\n",
      "0          沈阳站北  210100011101     0  BS12258880  123.399361;41.795212   \n",
      "1        中山路太原街  210100011101     1  BS12309929  123.406189;41.796234   \n",
      "2         中山广场东  210100011101     2  BS12258858  123.413094;41.797428   \n",
      "3       中山路和平大街  210100011101     3  BS12258871  123.418678;41.798542   \n",
      "4        中山路三经街  210100011101     4  BS12006351   123.424957;41.79987   \n",
      "..          ...           ...   ...         ...                   ...   \n",
      "121    中央大街十三号路  210100010561     7  BS11295314    123.2453;41.752613   \n",
      "122    中央大街十四号路  210100010561     8  BS11295312  123.246666;41.748268   \n",
      "123     中央大街沈辽路  210100010561     9  BS10097214  123.249069;41.744484   \n",
      "124  工业大学中央校区东门  210100010561    10  BS10867646   123.25354;41.738365   \n",
      "125  工业大学中央校区南门  210100010561    11  BS10098187  123.257462;41.732391   \n",
      "\n",
      "         poiid2             poiid2_xy       station_id  \n",
      "0    BV11026982  123.397606;41.795864  210100011101002  \n",
      "1    BV11051948  123.405930;41.796204  210100011101003  \n",
      "2    BV11026976  123.413780;41.797848  210100011101004  \n",
      "3    BV11026981  123.418518;41.798576  210100011101005  \n",
      "4    BV10904590  123.424232;41.799805  210100011101006  \n",
      "..          ...                   ...              ...  \n",
      "121  BV10546099  123.245354;41.753716  210100010561020  \n",
      "122  BV10546103  123.246948;41.748043  210100010561021  \n",
      "123  BV10050551  123.249252;41.744518  210100010561011  \n",
      "124  BV10050552  123.253540;41.738365  210100010561012  \n",
      "125  BV10051030  123.257446;41.732704  210100010561022  \n",
      "\n",
      "[126 rows x 8 columns]\n"
     ]
    }
   ],
   "source": [
    "buslines = '环路,100,101'\n",
    "busline_df_column = [\n",
    "    'id', 'code','type', 'key_name', 'name', 'front_name', 'terminal_name', 'company',\n",
    "    'status', 'ic_card', 'air', 'total_price', 'start_time', 'end_time',\n",
    "    'interval', 'xs', 'ys'\n",
    "]\n",
    "station_df_column = ['name','busline_id','order','poiid1','xy_coords','poiid2','poiid2_xy','station_id']\n",
    "busline_df = pd.DataFrame(columns=busline_df_column)\n",
    "station_df = pd.DataFrame(columns=station_df_column)\n"
   ]
  },
  {
   "cell_type": "markdown",
   "metadata": {},
   "source": [
    "### getonebusline-调用1"
   ]
  },
  {
   "cell_type": "code",
   "execution_count": null,
   "metadata": {},
   "outputs": [],
   "source": [
    "for busline_name in buslines.split(','):\n",
    "    busline_df,station_df = getonebusline(busline_df,station_df,busline_name)\n",
    "print('共有双向线路:%s条'%len(busline_df))\n",
    "print(busline_df)\n",
    "print('共有站点:%s个'%len(station_df))\n",
    "print(station_df)"
   ]
  },
  {
   "cell_type": "markdown",
   "metadata": {},
   "source": [
    "### getonebusline-调用2"
   ]
  }
 ],
 "metadata": {
  "kernelspec": {
   "display_name": "Python 3.8.2 64-bit ('data': venv)",
   "language": "python",
   "name": "python38264bitdatavenvaa4066e455544989bb855911b00b5f95"
  },
  "language_info": {
   "codemirror_mode": {
    "name": "ipython",
    "version": 3
   },
   "file_extension": ".py",
   "mimetype": "text/x-python",
   "name": "python",
   "nbconvert_exporter": "python",
   "pygments_lexer": "ipython3",
   "version": "3.8.2"
  },
  "nteract": {
   "version": "0.22.4"
  }
 },
 "nbformat": 4,
 "nbformat_minor": 4
}
