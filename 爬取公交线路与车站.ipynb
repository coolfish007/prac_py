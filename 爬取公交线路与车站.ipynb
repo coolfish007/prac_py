{
  "cells": [
    {
      "cell_type": "markdown",
      "source": [
        "# 沈阳公交线路和站点\n",
        "## 公交线路\n",
        "通过高德地图，根据公交线路名称获取公交线路。"
      ],
      "metadata": {}
    },
    {
      "cell_type": "code",
      "source": [
        "import requests\n",
        "import xlwt\n",
        "import pandas as pd\n",
        "from dx import dx"
      ],
      "outputs": [],
      "execution_count": 9,
      "metadata": {}
    },
    {
      "cell_type": "code",
      "source": [
        "headers = {\n",
        "    'authority': 'ditu.amap.com',\n",
        "    'accept': '*/*',\n",
        "    'x-csrf-token': 'e32efb46d464b024158d63446bab2507',\n",
        "    'x-requested-with': 'XMLHttpRequest',\n",
        "    'user-agent': 'Mozilla/5.0 (Macintosh; Intel Mac OS X 10_15_4) AppleWebKit/537.36 (KHTML, like Gecko) Chrome/81.0.4044.122 Safari/537.36',\n",
        "    'amapuuid': '1440c18d-8262-4b10-bf1d-dcfa90af7406',\n",
        "    'sec-fetch-site': 'same-origin',\n",
        "    'sec-fetch-mode': 'cors',\n",
        "    'sec-fetch-dest': 'empty',\n",
        "    'referer': 'https://ditu.amap.com/search?query=%E7%8E%AF%E8%B7%AF&city=210100&geoobj=123.099506%7C41.541332%7C124.198139%7C42.081772&zoom=10',\n",
        "    'accept-language': 'zh-CN,zh;q=0.9,en;q=0.8',\n",
        "    'cookie': 'UM_distinctid=1714efec5d91ad-0dcddda99ab246-396a7f06-fa000-1714efec5da7ca; cna=BEnxFtRzAkoCAXFCoBgfzgXk; CNZZDATA1255827602=412918052-1586405683-https%253A%252F%252Flbs.amap.com%252F%7C1586418799; _ga=GA1.2.1633570714.1587224095; passport_login=MzE2OTE2MSxhbWFwNW9mbjlkRVUsMnhsNzQzdXFqN2kzdmpyeXR6NWxjcWZieWd4MmZzemYsMTU4NzYxMTcxMixaVEJsTWpSa016UTBZelJqTldKall6WmtPVEJpWmpFeU4ySmtaR0V5TjJRPQ%3D%3D; oauth_state=ae8fa31ae280a2a0e644142c408b11cd; dev_help=Cm5hSMAkvpmaraCOySAMG2UwNDMyNTczMWE0OGI5ODIwNzIwYmViN2NjNmQ0NDE4N2E1NzZjMTUwMmRhNDlhMTQ3MzMwZjVhZmE4YTc5NTEus7mSrdBi1mHDTTh7gNwboXIGicOxRQcgdcUXFEULilQ2nc8zq%2BQ9cZkm1Nb3j0GTZnjb7yMdphosNOkRy%2F6ikMiSMXzZNCnLuZnVvfNkX4LBtvXzfH9D8hHbzRUHWbs%3D; guid=e09f-1bb9-6767-1ccf; CNZZDATA1255626299=500121251-1586274166-https%253A%252F%252Flbs.amap.com%252F%7C1587997635; isg=BKurae7KcVTVCa0qegEl96ssOsmVwL9Cd2egtB0pe-p-vM4eqpKkk0FVEvzSnBc6; l=eBPMb8PRQmIP7g8-BO5N-urza77O6IdfCsPzaNbMiIHca1lAQi5S3NQc4R5vYdtjgtfmnExros38FRHJWkz3WjkDBeYQqVvu3op6-; x-csrf-token=e32efb46d464b024158d63446bab2507',\n",
        "    'if-none-match': 'W/\"1ba51-ACI7DeLNlcIM05GlLIxia0nDh6o\"',\n",
        "}\n",
        "\n",
        "params = (\n",
        "    ('query_type', 'TQUERY'),\n",
        "    ('pagesize', '20'),\n",
        "    ('pagenum', '1'),\n",
        "    ('qii', 'true'),\n",
        "    ('cluster_state', '5'),\n",
        "    ('need_utd', 'true'),\n",
        "    ('utd_sceneid', '1000'),\n",
        "    ('div', 'PC1000'),\n",
        "    ('addr_poi_merge', 'true'),\n",
        "    ('is_classify', 'true'),\n",
        "    ('zoom', '10'),\n",
        "    ('city', '210100'),\n",
        "    ('geoobj', '123.099506|41.541332|124.198139|42.081772'),\n",
        ")"
      ],
      "outputs": [],
      "execution_count": 10,
      "metadata": {}
    },
    {
      "cell_type": "code",
      "source": [
        "busline_name = '环路'\n",
        "busline_df_column = [\n",
        "    'id', 'code', 'key_name', 'name', 'front_name', 'terminal_name', 'company',\n",
        "    'status', 'ic_card', 'air', 'total_price', 'start_time', 'end_time',\n",
        "    'interval', 'xs', 'ys'\n",
        "]\n",
        "busline_df = pd.DataFrame(columns=busline_df_column)\n",
        "busline_url = 'https://ditu.amap.com/service/poiInfo?keywords=' + busline_name\n",
        "response = requests.get(busline_url, headers=headers, params=params)\n",
        "data = response.json()"
      ],
      "outputs": [],
      "execution_count": 11,
      "metadata": {}
    },
    {
      "cell_type": "code",
      "source": [
        "def getbusstations(busline_a2b, stations_key):\n",
        "    stations_dict = busline_a2b[stations_key]\n",
        "    print(stations_dict)"
      ],
      "outputs": [],
      "execution_count": 12,
      "metadata": {}
    },
    {
      "cell_type": "code",
      "source": [
        "if data['data']['message'] and data['data']['busline_list']:\n",
        "    print('公交线路%s精确命中: ' % busline_name)\n",
        "    busline_a2b_dict = data['data']['busline_list'][0]\n",
        "    sub = {key: busline_a2b_dict[key] for key in busline_df_column & busline_a2b_dict.keys()}\n",
        "    busline_df = busline_df.append(sub, ignore_index=True)\n",
        "    print(busline_df)123\n",
        "    getbusstations(busline_a2b_dict, 'stations')  "
      ],
      "outputs": [],
      "execution_count": null,
      "metadata": {}
    }
  ],
  "metadata": {
    "kernelspec": {
      "display_name": "Python 3.8.2 64-bit ('data': venv)",
      "language": "python",
      "name": "python38264bitdatavenv86c8e9e79e034983bf9e66a89847a1a4"
    },
    "language_info": {
      "codemirror_mode": {
        "name": "ipython",
        "version": 3
      },
      "file_extension": ".py",
      "mimetype": "text/x-python",
      "name": "python",
      "nbconvert_exporter": "python",
      "pygments_lexer": "ipython3",
      "version": "3.8.2"
    },
    "nteract": {
      "version": "0.22.4"
    }
  },
  "nbformat": 4,
  "nbformat_minor": 4
}