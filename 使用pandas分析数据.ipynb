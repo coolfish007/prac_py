{
 "cells": [
  {
   "cell_type": "markdown",
   "metadata": {
    "toc-hr-collapsed": true,
    "toc-nb-collapsed": true
   },
   "source": [
    "# 文件的方式处理"
   ]
  },
  {
   "cell_type": "markdown",
   "metadata": {},
   "source": [
    "## xlrd/xlwt处理excel文件\n",
    "1. 以文件的思路处理excel数据，对于要边读边改，还要进行数据处理的需要，这种思路较为落后。"
   ]
  },
  {
   "cell_type": "code",
   "execution_count": 13,
   "metadata": {
    "execution": {
     "iopub.execute_input": "2020-04-16T03:41:34.492Z",
     "iopub.status.busy": "2020-04-16T03:41:34.487Z",
     "iopub.status.idle": "2020-04-16T03:41:34.589Z",
     "shell.execute_reply": "2020-04-16T03:41:34.605Z"
    }
   },
   "outputs": [
    {
     "name": "stdout",
     "output_type": "stream",
     "text": [
      "['101', '104', '148', '161', '162', '163', '166', '167', '169', '169支', '170', '预备级', '观光巴士', '安运公交25条线路', 'Sheet2']\n"
     ]
    }
   ],
   "source": [
    "import xlrd  #引入模块b\n",
    "import xlwt\n",
    "from xlutils.copy import copy\n",
    " \n",
    "#打开文件，获取excel文件的workbook（工作簿）对象\n",
    "workbook=xlrd.open_workbook(\"data/安运公交.xls\")  #文件路径\n",
    "names=workbook.sheet_names()\n",
    "print(names) \n"
   ]
  },
  {
   "cell_type": "code",
   "execution_count": 68,
   "metadata": {},
   "outputs": [
    {
     "name": "stdout",
     "output_type": "stream",
     "text": [
      "<xlrd.sheet.Sheet object at 0x10cb95668>\n",
      "10\n",
      "17\n"
     ]
    }
   ],
   "source": [
    "worksheet=workbook.sheet_by_name(\"101\")\n",
    "print(worksheet)\n",
    "\n",
    "nrows=worksheet.nrows  #获取该表总行数\n",
    "print(nrows)\n",
    " \n",
    "ncols=worksheet.ncols  #获取该表总列数\n",
    "print(ncols)"
   ]
  },
  {
   "cell_type": "code",
   "execution_count": 69,
   "metadata": {},
   "outputs": [],
   "source": [
    "newWB = copy(workbook)\n",
    "newWS = newWB.get_sheet(0)\n",
    "for i in range(nrows): #循环打印每一行\n",
    "    if(i>=3):\n",
    "        for j in range(4,8):\n",
    "            old_v = worksheet.cell_value(i,j)\n",
    "            new_v = old_v.replace('.','/')\n",
    "            newWS.write(i,j,new_v)\n",
    "newWB.save('data/安运公交0.xls')        "
   ]
  },
  {
   "cell_type": "markdown",
   "metadata": {},
   "source": [
    "# pandas数据的方式处理\n",
    "不用文件的思路处理数据，用数据的思路进行处理"
   ]
  },
  {
   "cell_type": "markdown",
   "metadata": {},
   "source": [
    "## 读单个sheet页并拆列（公交车数据）\n",
    "以公交车文件为例：\n",
    "1. 手动删除excel中不需要处理的行，后来发现，pandas可以指定数据标题行。\n",
    "2. 拆分数据列\n",
    "3. 转换列数据"
   ]
  },
  {
   "cell_type": "code",
   "execution_count": 1,
   "metadata": {
    "scrolled": true
   },
   "outputs": [
    {
     "data": {
      "application/vnd.dataresource+json": {
       "data": [
        {
         "index": 0,
         "上车日期": "2013.8.30",
         "出厂日期": "2013.8.19",
         "厂牌型号": "金龙牌XMQ6119AGN5",
         "发动机 排气量": 7800,
         "序 号": 1,
         "排气标准": "国Ⅴ",
         "是否为空调车（是/否）": "否",
         "是否安装GPS（是/否）": "是",
         "燃料类型": "LNG",
         "自编号": 209,
         "营运证号": "沈GJ080201305096",
         "行驶证         发证日期": "2013.8.30",
         "行驶证   注册日期": "2013.8.30",
         "计价方式": "1元/次",
         "车宽mm": "2550",
         "车牌号": 851,
         "车长mm": "11490",
         "车高mm": "3070",
         "载客量": 76
        },
        {
         "index": 1,
         "上车日期": "2013.8.30",
         "出厂日期": "2013.8.19",
         "厂牌型号": "金龙牌XMQ6119AGN5",
         "发动机 排气量": 7800,
         "序 号": 2,
         "排气标准": "国Ⅴ",
         "是否为空调车（是/否）": "否",
         "是否安装GPS（是/否）": "是",
         "燃料类型": "LNG",
         "自编号": 210,
         "营运证号": "沈GJ080201305097",
         "行驶证         发证日期": "2013.8.30",
         "行驶证   注册日期": "2013.8.30",
         "计价方式": "1元/次",
         "车宽mm": "2550",
         "车牌号": 886,
         "车长mm": "11490",
         "车高mm": "3070",
         "载客量": 76
        },
        {
         "index": 2,
         "上车日期": "2013.8.30",
         "出厂日期": "2013.8.19",
         "厂牌型号": "金龙牌XMQ6119AGN5",
         "发动机 排气量": 7800,
         "序 号": 3,
         "排气标准": "国Ⅴ",
         "是否为空调车（是/否）": "否",
         "是否安装GPS（是/否）": "是",
         "燃料类型": "LNG",
         "自编号": 211,
         "营运证号": "沈GJ080201305098",
         "行驶证         发证日期": "2013.8.30",
         "行驶证   注册日期": "2013.8.30",
         "计价方式": "1元/次",
         "车宽mm": "2550",
         "车牌号": 898,
         "车长mm": "11490",
         "车高mm": "3070",
         "载客量": 76
        },
        {
         "index": 3,
         "上车日期": "2013.8.30",
         "出厂日期": "2013.8.19",
         "厂牌型号": "金龙牌XMQ6119AGN5",
         "发动机 排气量": 7800,
         "序 号": 4,
         "排气标准": "国Ⅴ",
         "是否为空调车（是/否）": "否",
         "是否安装GPS（是/否）": "是",
         "燃料类型": "LNG",
         "自编号": 212,
         "营运证号": "沈GJ080201305099",
         "行驶证         发证日期": "2013.8.30",
         "行驶证   注册日期": "2013.8.30",
         "计价方式": "1元/次",
         "车宽mm": "2550",
         "车牌号": 899,
         "车长mm": "11490",
         "车高mm": "3070",
         "载客量": 76
        },
        {
         "index": 4,
         "上车日期": "2013.8.30",
         "出厂日期": "2013.8.19",
         "厂牌型号": "金龙牌XMQ6119AGN5",
         "发动机 排气量": 7800,
         "序 号": 5,
         "排气标准": "国Ⅴ",
         "是否为空调车（是/否）": "否",
         "是否安装GPS（是/否）": "是",
         "燃料类型": "LNG",
         "自编号": 213,
         "营运证号": "沈GJ080201305100",
         "行驶证         发证日期": "2013.8.30",
         "行驶证   注册日期": "2013.8.30",
         "计价方式": "1元/次",
         "车宽mm": "2550",
         "车牌号": 900,
         "车长mm": "11490",
         "车高mm": "3070",
         "载客量": 76
        }
       ],
       "schema": {
        "fields": [
         {
          "name": "index",
          "type": "integer"
         },
         {
          "name": "序 号",
          "type": "integer"
         },
         {
          "name": "自编号",
          "type": "integer"
         },
         {
          "name": "车牌号",
          "type": "integer"
         },
         {
          "name": "厂牌型号",
          "type": "string"
         },
         {
          "name": "出厂日期",
          "type": "string"
         },
         {
          "name": "行驶证   注册日期",
          "type": "string"
         },
         {
          "name": "行驶证         发证日期",
          "type": "string"
         },
         {
          "name": "上车日期",
          "type": "string"
         },
         {
          "name": "燃料类型",
          "type": "string"
         },
         {
          "name": "营运证号",
          "type": "string"
         },
         {
          "name": "发动机 排气量",
          "type": "integer"
         },
         {
          "name": "排气标准",
          "type": "string"
         },
         {
          "name": "载客量",
          "type": "integer"
         },
         {
          "name": "计价方式",
          "type": "string"
         },
         {
          "name": "是否为空调车（是/否）",
          "type": "string"
         },
         {
          "name": "是否安装GPS（是/否）",
          "type": "string"
         },
         {
          "name": "车长mm",
          "type": "string"
         },
         {
          "name": "车宽mm",
          "type": "string"
         },
         {
          "name": "车高mm",
          "type": "string"
         }
        ],
        "pandas_version": "0.20.0",
        "primaryKey": [
         "index"
        ]
       }
      },
      "text/html": [
       "<div>\n",
       "<style scoped>\n",
       "    .dataframe tbody tr th:only-of-type {\n",
       "        vertical-align: middle;\n",
       "    }\n",
       "\n",
       "    .dataframe tbody tr th {\n",
       "        vertical-align: top;\n",
       "    }\n",
       "\n",
       "    .dataframe thead th {\n",
       "        text-align: right;\n",
       "    }\n",
       "</style>\n",
       "<table border=\"1\" class=\"dataframe\">\n",
       "  <thead>\n",
       "    <tr style=\"text-align: right;\">\n",
       "      <th></th>\n",
       "      <th>序 号</th>\n",
       "      <th>自编号</th>\n",
       "      <th>车牌号</th>\n",
       "      <th>厂牌型号</th>\n",
       "      <th>出厂日期</th>\n",
       "      <th>行驶证   注册日期</th>\n",
       "      <th>行驶证         发证日期</th>\n",
       "      <th>上车日期</th>\n",
       "      <th>燃料类型</th>\n",
       "      <th>营运证号</th>\n",
       "      <th>发动机 排气量</th>\n",
       "      <th>排气标准</th>\n",
       "      <th>载客量</th>\n",
       "      <th>计价方式</th>\n",
       "      <th>是否为空调车（是/否）</th>\n",
       "      <th>是否安装GPS（是/否）</th>\n",
       "      <th>车长mm</th>\n",
       "      <th>车宽mm</th>\n",
       "      <th>车高mm</th>\n",
       "    </tr>\n",
       "  </thead>\n",
       "  <tbody>\n",
       "    <tr>\n",
       "      <th>0</th>\n",
       "      <td>1</td>\n",
       "      <td>209</td>\n",
       "      <td>851</td>\n",
       "      <td>金龙牌XMQ6119AGN5</td>\n",
       "      <td>2013.8.19</td>\n",
       "      <td>2013.8.30</td>\n",
       "      <td>2013.8.30</td>\n",
       "      <td>2013.8.30</td>\n",
       "      <td>LNG</td>\n",
       "      <td>沈GJ080201305096</td>\n",
       "      <td>7800</td>\n",
       "      <td>国Ⅴ</td>\n",
       "      <td>76</td>\n",
       "      <td>1元/次</td>\n",
       "      <td>否</td>\n",
       "      <td>是</td>\n",
       "      <td>11490</td>\n",
       "      <td>2550</td>\n",
       "      <td>3070</td>\n",
       "    </tr>\n",
       "    <tr>\n",
       "      <th>1</th>\n",
       "      <td>2</td>\n",
       "      <td>210</td>\n",
       "      <td>886</td>\n",
       "      <td>金龙牌XMQ6119AGN5</td>\n",
       "      <td>2013.8.19</td>\n",
       "      <td>2013.8.30</td>\n",
       "      <td>2013.8.30</td>\n",
       "      <td>2013.8.30</td>\n",
       "      <td>LNG</td>\n",
       "      <td>沈GJ080201305097</td>\n",
       "      <td>7800</td>\n",
       "      <td>国Ⅴ</td>\n",
       "      <td>76</td>\n",
       "      <td>1元/次</td>\n",
       "      <td>否</td>\n",
       "      <td>是</td>\n",
       "      <td>11490</td>\n",
       "      <td>2550</td>\n",
       "      <td>3070</td>\n",
       "    </tr>\n",
       "    <tr>\n",
       "      <th>2</th>\n",
       "      <td>3</td>\n",
       "      <td>211</td>\n",
       "      <td>898</td>\n",
       "      <td>金龙牌XMQ6119AGN5</td>\n",
       "      <td>2013.8.19</td>\n",
       "      <td>2013.8.30</td>\n",
       "      <td>2013.8.30</td>\n",
       "      <td>2013.8.30</td>\n",
       "      <td>LNG</td>\n",
       "      <td>沈GJ080201305098</td>\n",
       "      <td>7800</td>\n",
       "      <td>国Ⅴ</td>\n",
       "      <td>76</td>\n",
       "      <td>1元/次</td>\n",
       "      <td>否</td>\n",
       "      <td>是</td>\n",
       "      <td>11490</td>\n",
       "      <td>2550</td>\n",
       "      <td>3070</td>\n",
       "    </tr>\n",
       "    <tr>\n",
       "      <th>3</th>\n",
       "      <td>4</td>\n",
       "      <td>212</td>\n",
       "      <td>899</td>\n",
       "      <td>金龙牌XMQ6119AGN5</td>\n",
       "      <td>2013.8.19</td>\n",
       "      <td>2013.8.30</td>\n",
       "      <td>2013.8.30</td>\n",
       "      <td>2013.8.30</td>\n",
       "      <td>LNG</td>\n",
       "      <td>沈GJ080201305099</td>\n",
       "      <td>7800</td>\n",
       "      <td>国Ⅴ</td>\n",
       "      <td>76</td>\n",
       "      <td>1元/次</td>\n",
       "      <td>否</td>\n",
       "      <td>是</td>\n",
       "      <td>11490</td>\n",
       "      <td>2550</td>\n",
       "      <td>3070</td>\n",
       "    </tr>\n",
       "    <tr>\n",
       "      <th>4</th>\n",
       "      <td>5</td>\n",
       "      <td>213</td>\n",
       "      <td>900</td>\n",
       "      <td>金龙牌XMQ6119AGN5</td>\n",
       "      <td>2013.8.19</td>\n",
       "      <td>2013.8.30</td>\n",
       "      <td>2013.8.30</td>\n",
       "      <td>2013.8.30</td>\n",
       "      <td>LNG</td>\n",
       "      <td>沈GJ080201305100</td>\n",
       "      <td>7800</td>\n",
       "      <td>国Ⅴ</td>\n",
       "      <td>76</td>\n",
       "      <td>1元/次</td>\n",
       "      <td>否</td>\n",
       "      <td>是</td>\n",
       "      <td>11490</td>\n",
       "      <td>2550</td>\n",
       "      <td>3070</td>\n",
       "    </tr>\n",
       "  </tbody>\n",
       "</table>\n",
       "</div>"
      ],
      "text/plain": [
       "   序 号  自编号  车牌号            厂牌型号       出厂日期 行驶证   注册日期 行驶证         发证日期  \\\n",
       "0    1  209  851  金龙牌XMQ6119AGN5  2013.8.19  2013.8.30        2013.8.30   \n",
       "1    2  210  886  金龙牌XMQ6119AGN5  2013.8.19  2013.8.30        2013.8.30   \n",
       "2    3  211  898  金龙牌XMQ6119AGN5  2013.8.19  2013.8.30        2013.8.30   \n",
       "3    4  212  899  金龙牌XMQ6119AGN5  2013.8.19  2013.8.30        2013.8.30   \n",
       "4    5  213  900  金龙牌XMQ6119AGN5  2013.8.19  2013.8.30        2013.8.30   \n",
       "\n",
       "        上车日期 燃料类型             营运证号  发动机 排气量 排气标准  载客量  计价方式 是否为空调车（是/否）  \\\n",
       "0  2013.8.30  LNG  沈GJ080201305096     7800   国Ⅴ   76  1元/次           否   \n",
       "1  2013.8.30  LNG  沈GJ080201305097     7800   国Ⅴ   76  1元/次           否   \n",
       "2  2013.8.30  LNG  沈GJ080201305098     7800   国Ⅴ   76  1元/次           否   \n",
       "3  2013.8.30  LNG  沈GJ080201305099     7800   国Ⅴ   76  1元/次           否   \n",
       "4  2013.8.30  LNG  沈GJ080201305100     7800   国Ⅴ   76  1元/次           否   \n",
       "\n",
       "  是否安装GPS（是/否）   车长mm  车宽mm  车高mm  \n",
       "0            是  11490  2550  3070  \n",
       "1            是  11490  2550  3070  \n",
       "2            是  11490  2550  3070  \n",
       "3            是  11490  2550  3070  \n",
       "4            是  11490  2550  3070  "
      ]
     },
     "metadata": {
      "application/vnd.dataresource+json": {}
     },
     "output_type": "display_data"
    }
   ],
   "source": [
    "import pandas as pd\n",
    "from dx import dx\n",
    "pd.options.display.html.table_schema = True\n",
    "\n",
    "df = pd.read_excel('data/安运公交 2.xls',sheet_name='101')\n",
    "#print(df)\n",
    "df2 = df['车长/宽/高（mm）'].str.split('/',expand=True)\n",
    "#print(df2)\n",
    "df3 = df.drop('车长/宽/高（mm）',axis=1).join(df2)\n",
    "\n",
    "df3.rename(columns={0:'车长mm',1:'车宽mm',2:'车高mm'},inplace=True)\n",
    "dx(df3.head())\n",
    "df3['出厂日期'] = df3['出厂日期'].str.replace('.','/')\n",
    "df3['行驶证   注册日期'] = df3['行驶证   注册日期'].str.replace('.','/')\n",
    "df3['上车日期'] = df3['上车日期'].str.replace('.','/')\n",
    "df3['行驶证         发证日期'] = df3['行驶证         发证日期'].str.replace('.','/')\n",
    "df3.to_excel('data/安运公交-拆列.xls',index=False)"
   ]
  },
  {
   "cell_type": "markdown",
   "metadata": {
    "toc-hr-collapsed": true,
    "toc-nb-collapsed": true
   },
   "source": [
    "## 多个sheet页并拆分列（公交车数据）"
   ]
  },
  {
   "cell_type": "markdown",
   "metadata": {},
   "source": [
    "处理过程与2.1类似，把excel文件的所有sheet页都处理一遍。"
   ]
  },
  {
   "cell_type": "code",
   "execution_count": 14,
   "metadata": {},
   "outputs": [
    {
     "name": "stdout",
     "output_type": "stream",
     "text": [
      "处理文件：data/安运公交 3.xls\n",
      "处理data/安运公交 3.xls的sheet页：101\n",
      "处理data/安运公交 3.xls的sheet页：104\n",
      "处理data/安运公交 3.xls的sheet页：148\n",
      "处理data/安运公交 3.xls的sheet页：161\n",
      "处理data/安运公交 3.xls的sheet页：162\n",
      "处理data/安运公交 3.xls的sheet页：163\n",
      "处理data/安运公交 3.xls的sheet页：166\n",
      "处理data/安运公交 3.xls的sheet页：167\n",
      "处理data/安运公交 3.xls的sheet页：169\n",
      "处理data/安运公交 3.xls的sheet页：169支\n",
      "处理data/安运公交 3.xls的sheet页：170\n",
      "处理data/安运公交 3.xls的sheet页：预备级\n",
      "处理data/安运公交 3.xls的sheet页：观光巴士\n"
     ]
    }
   ],
   "source": [
    "import datetime\n",
    "import pandas as pd\n",
    "f_name = 'data/安运公交 3.xls'\n",
    "print('处理文件：'+ f_name)\n",
    "#writer = pd.ExcelWriter('安运公交-拆列1.xlsx',engine='xlsxwriter')\n",
    "writer = pd.ExcelWriter('data/安运公交-拆列@'+datetime.date.today().strftime(\"%Y-%m-%d\")+'.xls')\n",
    "xls = pd.ExcelFile(f_name)\n",
    "for i in xls.sheet_names:\n",
    "    #df = pd.read_excel('安运公交 3.xls',i,header=2)\n",
    "    #if i.startswith('101'):\n",
    "        #df_101 = df\n",
    "    df = xls.parse(i,header = 2)\n",
    "    print('处理'+f_name+'的sheet页：'+i)\n",
    "    df2 = df['车长/宽/高（mm）'].str.split('/',expand=True)\n",
    "    df3 = df.drop('车长/宽/高（mm）',axis=1).join(df2)\n",
    "    df3.rename(columns={'序 号':'公交公司',0:'车长mm',1:'车宽mm',2:'车高mm'},inplace=True)\n",
    "    df3['公交公司'] = '安运公交'\n",
    "    df3.to_excel(writer,sheet_name=i,index=False)\n",
    "writer.save()"
   ]
  },
  {
   "cell_type": "markdown",
   "metadata": {
    "toc-hr-collapsed": true,
    "toc-nb-collapsed": true
   },
   "source": [
    "## 同一页中多个带标题的表格处理"
   ]
  },
  {
   "cell_type": "markdown",
   "metadata": {},
   "source": []
  },
  {
   "cell_type": "markdown",
   "metadata": {
    "toc-hr-collapsed": true,
    "toc-nb-collapsed": true
   },
   "source": [
    "## 读取多层索引文件（勤务数据）\n",
    "将第1列和第2列做为索引（两种方法，读取时或用set_index方法）；  \n",
    "填充excel的合并单元格（填充NaN值）；  \n",
    "按条件筛选行，并删除；  \n",
    "**注意inplace=True的使用；**  "
   ]
  },
  {
   "cell_type": "code",
   "execution_count": 168,
   "metadata": {
    "scrolled": true
   },
   "outputs": [
    {
     "name": "stdout",
     "output_type": "stream",
     "text": [
      "Int64Index([20, 21, 22, 23], dtype='int64')\n"
     ]
    }
   ],
   "source": [
    "import datetime\n",
    "import pandas as pd\n",
    "from openpyxl import load_workbook\n",
    "\n",
    "file_name = 'data/地铁九号线2020年4月份民警执勤表.xlsx'\n",
    "\n",
    "book = load_workbook(file_name)\n",
    "writer = pd.ExcelWriter(file_name, engine='openpyxl')\n",
    "writer.book = book\n",
    "writer.sheets = dict((ws.title, ws) for ws in book.worksheets)\n",
    "\n",
    "#df = pd.read_excel(file_name,sheet_name=0,header=1,index_col=[0,1])\n",
    "df = pd.read_excel(file_name,sheet_name=0,header=1)\n",
    "df.fillna(method='pad',inplace=True)\n",
    "bz = df[df['所在站'].str.contains('备注')]\n",
    "print(bz.index)\n",
    "df = df.drop(bz.index)\n",
    "df.set_index(['所在站','时间'],inplace=True)"
   ]
  },
  {
   "cell_type": "markdown",
   "metadata": {
    "toc-hr-collapsed": true,
    "toc-nb-collapsed": true
   },
   "source": [
    "## concat列数据（勤务数据）\n",
    "把不同的列，但是相同的数据拆分后进行concat操作，固定索引列，追加数据。"
   ]
  },
  {
   "cell_type": "code",
   "execution_count": null,
   "metadata": {
    "collapsed": true,
    "jupyter": {
     "outputs_hidden": true
    }
   },
   "outputs": [],
   "source": [
    "df1 = df.iloc[:,[0,1,2]]\n",
    "#df2 = df.iloc[:,[3,4,5]].copy()\n",
    "#df2.rename(columns={'日期.1':'日期','姓名.1':'姓名','电话.1':'电话'},inplace=True)\n",
    "df2 = df.iloc[:,[3,4,5]].rename(columns={'日期.1':'日期','姓名.1':'姓名','电话.1':'电话'},inplace=False)\n",
    "#df3 = df.iloc[:,[6,7,8]].copy()\n",
    "#df3.rename(columns={'日期.2':'日期','姓名.2':'姓名','电话.2':'电话'},inplace=True)\n",
    "df3 = df.iloc[:,[6,7,8]].rename(columns={'日期.2':'日期','姓名.2':'姓名','电话.2':'电话'},inplace=False)\n",
    "df_new = pd.concat([df1,df2,df3])\n",
    "#print(df_new)\n",
    "df_new.reset_index(inplace=True)\n",
    "print(df_new)\n",
    "\n",
    "df_new.to_excel(writer,sheet_name='pb_new',index=False)\n",
    "writer.save()\n",
    "writer.close()"
   ]
  },
  {
   "cell_type": "markdown",
   "metadata": {},
   "source": []
  },
  {
   "cell_type": "markdown",
   "metadata": {},
   "source": [
    "## 探索重复数据（出租车数据）\n",
    "探索过程：以出租车数据为例；在出租车数据中找到脏的数据; \n",
    "这个case中，不断的探索数据，理解数据，根据数据的条数先发现了数据存在的问题，sheet页中共有21012条数据，通过nunique对列操作，发现不重复的车牌数据有19443条，重复的车牌有1563条，浏览数据时发现有一条无关的数据“业务名称”，这样还差5条数据，在去除完全重复的数据后，对车牌series做value_counts()操作，发现还有为2的，说明有多次重复的。在merge之后找到重复的车牌数据后进行value_count()操作，发现还有重复3次的数据，6条，最终目的是找到这6条数据。    \n",
    "主要熟悉使用如下API，并注意：    \n",
    "1. 数据探索：在df的列上进行nunique()操作，在df的列上进行value_counts()操作，查看重复的情况可以连续两次value_counts()操作；    \n",
    "2. df上进行duplicate()操作；    \n",
    "3. df上进行drop_duplicates()操作，主要在列上操作返回的是series，如果不想返回series，则在参数中指定subset；彻底熟悉keep的用法；    \n",
    "4. 如何没有列名，最好指定列名；    \n",
    "5. 看df有多少数据，用len(df)；    \n",
    "6. 初步使用merge，merge就是SQL的join，对两个datafrme的重复数据可以进行筛选；    \n",
    "7. 数据量比较大时，输出到excel里看中间的数据情况；    \n",
    "8. 筛选重复的数据，如a,b,c,d,b,c,d，需要计算出重复的有3条数据；    \n"
   ]
  },
  {
   "cell_type": "markdown",
   "metadata": {},
   "source": [
    "### 数据探索和验证\n",
    "第一个需求，探索数据，把不重复的和重复的数据量找出来，和预想的进行比较，看是不是相同；"
   ]
  },
  {
   "cell_type": "code",
   "execution_count": 4,
   "metadata": {
    "execution": {
     "iopub.execute_input": "2020-04-16T03:22:48.913Z",
     "iopub.status.busy": "2020-04-16T03:22:48.863Z",
     "iopub.status.idle": "2020-04-16T03:22:50.852Z",
     "shell.execute_reply": "2020-04-16T03:22:50.866Z"
    }
   },
   "outputs": [
    {
     "name": "stdout",
     "output_type": "stream",
     "text": [
      "         0        1\n",
      "0  大东区个体出租  辽AEY465\n",
      "1  大东区个体出租  辽AEQ299\n",
      "2  大东区个体出租  辽AGQ447\n",
      "3  大东区个体出租  辽AGW768\n",
      "4  大东区个体出租  辽AES227\n",
      "0    21012\n",
      "1    21012\n",
      "dtype: int64\n",
      "180\n",
      "19443\n",
      "------------------------------------\n",
      "去除完全重复的，但保留重复的第一个： 19476\n",
      "1    19410\n",
      "2       33\n",
      "Name: 1, dtype: int64\n",
      "只要完全重复的就删除： 17946\n",
      "完全重复的数量： 1530\n",
      "公司，去除重复的，但保留重复的第一个： 180\n",
      "公司，只要重复的就删除（这个值重要，只要不重复的（17880）+重复的（3132）=总量就对了）： 7\n",
      "公司，重复的数量： 173\n",
      "车牌，去除重复的，但保留重复的第一个： 19443\n",
      "车牌，只要重复的就删除： 17880\n",
      "车牌，重复的数量： 1563\n",
      "------------------------------------\n",
      "重复的车牌数据共： 3132\n",
      "重复车牌中独立的车牌有： 1563\n",
      "重复车牌中，重复的次数（这个数据值探索重要）：\n",
      "2    1557\n",
      "3       6\n",
      "Name: cp, dtype: int64\n"
     ]
    }
   ],
   "source": [
    "import datetime\n",
    "import pandas as pd\n",
    "from openpyxl import load_workbook\n",
    "\n",
    "file_name = 'data/2019.11.20出租企业统计表.xlsx'\n",
    "df = pd.read_excel(file_name,sheet_name='车辆数统计',header=None)\n",
    "print(df.head())\n",
    "print(df.count())\n",
    "\n",
    "print(df[0].nunique())\n",
    "print(df[1].nunique())\n",
    "\n",
    "print('------------------------------------')\n",
    "a = df.drop_duplicates(keep='first')\n",
    "print('去除完全重复的，但保留重复的第一个：' , len(a))\n",
    "print(a[1].value_counts().value_counts())\n",
    "b = df.drop_duplicates(keep=False)\n",
    "print('只要完全重复的就删除：' ,len(b))\n",
    "a = a.append(b).drop_duplicates(keep=False)\n",
    "print('完全重复的数量：',len(a))\n",
    "\n",
    "\n",
    "a1 = df.drop_duplicates(subset=0,keep='first')\n",
    "print('公司，去除重复的，但保留重复的第一个：' , len(a1))\n",
    "b1 = df.drop_duplicates(subset=0,keep=False)\n",
    "print('公司，只要重复的就删除（这个值重要，只要不重复的（17880）+重复的（3132）=总量就对了）：' ,len(b1))\n",
    "a1 = a1.append(b1).drop_duplicates(subset=0,keep=False)\n",
    "print('公司，重复的数量：',len(a1))\n",
    "# print('+++个体经营车辆：',df[df[0].str.contains('个体')][1].nunique())\n",
    "# print('+++公司经营车辆：',df[df[0].str.contains('公司')][1].nunique())\n",
    "\n",
    "a1 = df[1].drop_duplicates(keep='first')\n",
    "print('车牌，去除重复的，但保留重复的第一个：' , len(a1))\n",
    "b1 = df[1].drop_duplicates(keep=False)\n",
    "print('车牌，只要重复的就删除：' ,len(b1))\n",
    "a1 = pd.Series.to_frame(a1.append(b1).drop_duplicates(keep=False))\n",
    "print('车牌，重复的数量：',len(a1))\n",
    "print('------------------------------------')\n",
    "\n",
    "df.columns = ['gs','cp']\n",
    "a1.columns = ['cp']\n",
    "\n",
    "a2 = pd.merge(df,a1,on='cp',how='inner')\n",
    "writer = pd.ExcelWriter('data/重复车牌的数据@'+datetime.date.today().strftime(\"%Y-%m-%d\")+'.xls')\n",
    "a2.to_excel(writer)\n",
    "writer.save()\n",
    "# print('+++个体经营重复车牌：',a2[a2['gs'].str.contains('个体')]['cp'].nunique())\n",
    "\n",
    "print('重复的车牌数据共：',len(a2))\n",
    "print('重复车牌中独立的车牌有：',a2['cp'].nunique())\n",
    "print('重复车牌中，重复的次数（这个数据值探索重要）：')\n",
    "print(a2['cp'].value_counts().value_counts())\n",
    "# a2 = a2.drop_duplicates(subset='cp',keep=None)"
   ]
  },
  {
   "cell_type": "markdown",
   "metadata": {},
   "source": [
    "### 筛选出重复的数据\n",
    "第二个需求是，找出重复车牌，完全重复的有哪些，同一车牌被分散在不同公司的数据有哪些；"
   ]
  },
  {
   "cell_type": "markdown",
   "metadata": {
    "toc-hr-collapsed": true,
    "toc-nb-collapsed": true
   },
   "source": [
    "## pandas-profiling"
   ]
  },
  {
   "cell_type": "markdown",
   "metadata": {},
   "source": [
    "### profile 出租车车辆数统计profile"
   ]
  },
  {
   "cell_type": "code",
   "execution_count": 2,
   "metadata": {},
   "outputs": [
    {
     "data": {
      "application/vnd.jupyter.widget-view+json": {
       "model_id": "3b446617a9f7453d9b1771c886384ae4",
       "version_major": 2,
       "version_minor": 0
      },
      "text/plain": [
       "HBox(children=(FloatProgress(value=0.0, description='variables', max=2.0, style=ProgressStyle(description_widt…"
      ]
     },
     "metadata": {},
     "output_type": "display_data"
    },
    {
     "name": "stdout",
     "output_type": "stream",
     "text": [
      "\n"
     ]
    },
    {
     "data": {
      "application/vnd.jupyter.widget-view+json": {
       "model_id": "833e9531410e4f98b5db1b3b45b3fd46",
       "version_major": 2,
       "version_minor": 0
      },
      "text/plain": [
       "HBox(children=(FloatProgress(value=0.0, description='correlations', max=6.0, style=ProgressStyle(description_w…"
      ]
     },
     "metadata": {},
     "output_type": "display_data"
    },
    {
     "name": "stdout",
     "output_type": "stream",
     "text": [
      "\n"
     ]
    },
    {
     "data": {
      "application/vnd.jupyter.widget-view+json": {
       "model_id": "2ee14e3b0bc44a84876af06613816ccb",
       "version_major": 2,
       "version_minor": 0
      },
      "text/plain": [
       "HBox(children=(FloatProgress(value=1.0, bar_style='info', description='interactions [continuous]', max=1.0, st…"
      ]
     },
     "metadata": {},
     "output_type": "display_data"
    },
    {
     "name": "stdout",
     "output_type": "stream",
     "text": [
      "\n"
     ]
    },
    {
     "data": {
      "application/vnd.jupyter.widget-view+json": {
       "model_id": "82749d2994a941ccbcf605645c2488d9",
       "version_major": 2,
       "version_minor": 0
      },
      "text/plain": [
       "HBox(children=(FloatProgress(value=0.0, description='table', max=1.0, style=ProgressStyle(description_width='i…"
      ]
     },
     "metadata": {},
     "output_type": "display_data"
    },
    {
     "name": "stdout",
     "output_type": "stream",
     "text": [
      "\n"
     ]
    },
    {
     "data": {
      "application/vnd.jupyter.widget-view+json": {
       "model_id": "59bbe6f631064caaad4e51b8ba5ab5ec",
       "version_major": 2,
       "version_minor": 0
      },
      "text/plain": [
       "HBox(children=(FloatProgress(value=0.0, description='missing', max=2.0, style=ProgressStyle(description_width=…"
      ]
     },
     "metadata": {},
     "output_type": "display_data"
    },
    {
     "name": "stdout",
     "output_type": "stream",
     "text": [
      "\n"
     ]
    },
    {
     "data": {
      "application/vnd.jupyter.widget-view+json": {
       "model_id": "f7e7cd904e2d46239753aaf6b3e7db89",
       "version_major": 2,
       "version_minor": 0
      },
      "text/plain": [
       "HBox(children=(FloatProgress(value=0.0, description='warnings', max=3.0, style=ProgressStyle(description_width…"
      ]
     },
     "metadata": {},
     "output_type": "display_data"
    },
    {
     "name": "stdout",
     "output_type": "stream",
     "text": [
      "\n"
     ]
    },
    {
     "data": {
      "application/vnd.jupyter.widget-view+json": {
       "model_id": "ce3fa27071ce49e6ba86c41846ccbaab",
       "version_major": 2,
       "version_minor": 0
      },
      "text/plain": [
       "HBox(children=(FloatProgress(value=0.0, description='package', max=1.0, style=ProgressStyle(description_width=…"
      ]
     },
     "metadata": {},
     "output_type": "display_data"
    },
    {
     "name": "stdout",
     "output_type": "stream",
     "text": [
      "\n"
     ]
    },
    {
     "data": {
      "application/vnd.jupyter.widget-view+json": {
       "model_id": "9ff8c96b6dc8417eb772dec94e0e7e3f",
       "version_major": 2,
       "version_minor": 0
      },
      "text/plain": [
       "HBox(children=(FloatProgress(value=0.0, description='build report structure', max=1.0, style=ProgressStyle(des…"
      ]
     },
     "metadata": {},
     "output_type": "display_data"
    },
    {
     "name": "stdout",
     "output_type": "stream",
     "text": [
      "\n"
     ]
    }
   ],
   "source": [
    "import datetime\n",
    "import pandas as pd\n",
    "import pandas_profiling\n",
    "\n",
    "file_name = 'data/2019.11.20出租企业统计表.xlsx'\n",
    "df = pd.read_excel(file_name,sheet_name='车辆数统计',header=None)\n",
    "profile = df.profile_report(title='Taxi')\n",
    "profile.to_file(output_file='profilings/出租企业统计表_车辆数统计报告.html')"
   ]
  },
  {
   "cell_type": "markdown",
   "metadata": {
    "nteract": {
     "transient": {
      "deleting": false
     }
    }
   },
   "source": [
    "## pyechart & pandas"
   ]
  },
  {
   "cell_type": "markdown",
   "metadata": {},
   "source": [
    "### 尝试示例"
   ]
  },
  {
   "cell_type": "code",
   "execution_count": 8,
   "metadata": {},
   "outputs": [
    {
     "ename": "ImportError",
     "evalue": "cannot import name 'Bar'",
     "output_type": "error",
     "traceback": [
      "\u001b[0;31m---------------------------------------------------------------------------\u001b[0m",
      "\u001b[0;31mImportError\u001b[0m                               Traceback (most recent call last)",
      "\u001b[0;32m<ipython-input-8-a011f6262821>\u001b[0m in \u001b[0;36m<module>\u001b[0;34m()\u001b[0m\n\u001b[0;32m----> 1\u001b[0;31m \u001b[0;32mfrom\u001b[0m \u001b[0mpyecharts\u001b[0m \u001b[0;32mimport\u001b[0m \u001b[0mBar\u001b[0m\u001b[0;34m,\u001b[0m\u001b[0mconfigure\u001b[0m\u001b[0;34m\u001b[0m\u001b[0m\n\u001b[0m\u001b[1;32m      2\u001b[0m \u001b[0mconfigure\u001b[0m\u001b[0;34m(\u001b[0m\u001b[0moutput_image\u001b[0m\u001b[0;34m=\u001b[0m\u001b[0;32mTrue\u001b[0m\u001b[0;34m)\u001b[0m\u001b[0;34m\u001b[0m\u001b[0m\n\u001b[1;32m      3\u001b[0m \u001b[0mbar\u001b[0m \u001b[0;34m=\u001b[0m \u001b[0mBar\u001b[0m\u001b[0;34m(\u001b[0m\u001b[0;34m'各个城市的人口'\u001b[0m\u001b[0;34m,\u001b[0m\u001b[0;34m'虚构的'\u001b[0m\u001b[0;34m,\u001b[0m\u001b[0mbackground_color\u001b[0m \u001b[0;34m=\u001b[0m \u001b[0;34m'white'\u001b[0m\u001b[0;34m,\u001b[0m\u001b[0mtitle_text_size\u001b[0m \u001b[0;34m=\u001b[0m \u001b[0;36m25\u001b[0m\u001b[0;34m,\u001b[0m\u001b[0msubtitle_text_size\u001b[0m \u001b[0;34m=\u001b[0m \u001b[0;36m15\u001b[0m\u001b[0;34m)\u001b[0m\u001b[0;34m\u001b[0m\u001b[0m\n\u001b[1;32m      4\u001b[0m \u001b[0mattr\u001b[0m \u001b[0;34m=\u001b[0m \u001b[0;34m[\u001b[0m\u001b[0;34m'惠州'\u001b[0m\u001b[0;34m,\u001b[0m\u001b[0;34m'东莞'\u001b[0m\u001b[0;34m,\u001b[0m\u001b[0;34m'广州'\u001b[0m\u001b[0;34m,\u001b[0m\u001b[0;34m'深圳'\u001b[0m\u001b[0;34m,\u001b[0m\u001b[0;34m'佛山'\u001b[0m\u001b[0;34m,\u001b[0m\u001b[0;34m'江门'\u001b[0m\u001b[0;34m,\u001b[0m\u001b[0;34m'珠海'\u001b[0m\u001b[0;34m]\u001b[0m\u001b[0;34m\u001b[0m\u001b[0m\n\u001b[1;32m      5\u001b[0m \u001b[0mv1\u001b[0m \u001b[0;34m=\u001b[0m \u001b[0;34m[\u001b[0m\u001b[0;36m23\u001b[0m\u001b[0;34m,\u001b[0m\u001b[0;36m45\u001b[0m\u001b[0;34m,\u001b[0m\u001b[0;36m68\u001b[0m\u001b[0;34m,\u001b[0m\u001b[0;36m58\u001b[0m\u001b[0;34m,\u001b[0m\u001b[0;36m32\u001b[0m\u001b[0;34m,\u001b[0m\u001b[0;36m28\u001b[0m\u001b[0;34m,\u001b[0m\u001b[0;36m36\u001b[0m\u001b[0;34m]\u001b[0m\u001b[0;34m\u001b[0m\u001b[0m\n",
      "\u001b[0;31mImportError\u001b[0m: cannot import name 'Bar'"
     ]
    }
   ],
   "source": []
  },
  {
   "cell_type": "code",
   "execution_count": null,
   "metadata": {
    "collapsed": true,
    "jupyter": {
     "outputs_hidden": true
    }
   },
   "outputs": [],
   "source": [
    "尝试eplot，试了一下，但是更多的参数不知道怎么用，无法进一步控制图中显示的内容。"
   ]
  },
  {
   "cell_type": "code",
   "execution_count": null,
   "metadata": {
    "collapsed": true,
    "jupyter": {
     "outputs_hidden": true
    }
   },
   "outputs": [],
   "source": [
    "from eplot import eplot\n",
    "# data环境需要安装eplot包\n",
    "df1 = pd.DataFrame([np.random.uniform(10,1,size=1000),\n",
    "                   np.random.uniform(10,5,size=1000),\n",
    "                   np.random.randint(1,high=10,size=1000),\n",
    "                   np.random.choice(list('ABCD'),size=1000)],\n",
    "                  index=['col1','col2','col3','col4']).T\n",
    "df1.eplot.line()"
   ]
  },
  {
   "cell_type": "markdown",
   "metadata": {},
   "source": [
    "### 折线图（客流总量数据）"
   ]
  },
  {
   "cell_type": "code",
   "execution_count": 1,
   "metadata": {
    "collapsed": false,
    "jupyter": {
     "outputs_hidden": false,
     "source_hidden": false
    },
    "nteract": {
     "transient": {
      "deleting": false
     }
    },
    "outputExpanded": false
   },
   "outputs": [
    {
     "name": "stdout",
     "output_type": "stream",
     "text": [
      "dict_keys(['二月', '三月', '四月'])\n"
     ]
    }
   ],
   "source": [
    "import pandas as pd\n",
    "import numpy as np\n",
    "import time\n",
    "from dx import dx\n",
    "\n",
    "from pyecharts.charts import Line\n",
    "from pyecharts import options as opts\n",
    "\n",
    "def convertTime(x):\n",
    "    y=time.localtime(x/1000)\n",
    "    z=time.strftime(\"%Y-%m-%d %H:%M:%S\",y)\n",
    "    return z\n",
    "\n",
    "months = ['二月','三月','四月']\n",
    "dfs = {i:pd.read_excel('data/客流量统计表.xls',sheet_name=i,header=1) for i in months}\n",
    "print(dfs.keys())"
   ]
  },
  {
   "cell_type": "markdown",
   "metadata": {},
   "source": [
    "使用用pandas的数据代入，series类型的值可以直接用，loc返回的是dataframe，需做转换。"
   ]
  },
  {
   "cell_type": "code",
   "execution_count": 6,
   "metadata": {
    "scrolled": true
   },
   "outputs": [
    {
     "data": {
      "text/html": [
       "\n",
       "<script>\n",
       "    require.config({\n",
       "        paths: {\n",
       "            'echarts':'https://assets.pyecharts.org/assets/echarts.min'\n",
       "        }\n",
       "    });\n",
       "</script>\n",
       "\n",
       "        <div id=\"8e40561ae0ed41f7b686736fb7ff6b88\" style=\"width:900px; height:500px;\"></div>\n",
       "\n",
       "<script>\n",
       "        require(['echarts'], function(echarts) {\n",
       "                var chart_8e40561ae0ed41f7b686736fb7ff6b88 = echarts.init(\n",
       "                    document.getElementById('8e40561ae0ed41f7b686736fb7ff6b88'), 'white', {renderer: 'canvas'});\n",
       "                var option_8e40561ae0ed41f7b686736fb7ff6b88 = {\n",
       "    \"animation\": true,\n",
       "    \"animationThreshold\": 2000,\n",
       "    \"animationDuration\": 1000,\n",
       "    \"animationEasing\": \"cubicOut\",\n",
       "    \"animationDelay\": 0,\n",
       "    \"animationDurationUpdate\": 300,\n",
       "    \"animationEasingUpdate\": \"cubicOut\",\n",
       "    \"animationDelayUpdate\": 0,\n",
       "    \"color\": [\n",
       "        \"#c23531\",\n",
       "        \"#2f4554\",\n",
       "        \"#61a0a8\",\n",
       "        \"#d48265\",\n",
       "        \"#749f83\",\n",
       "        \"#ca8622\",\n",
       "        \"#bda29a\",\n",
       "        \"#6e7074\",\n",
       "        \"#546570\",\n",
       "        \"#c4ccd3\",\n",
       "        \"#f05b72\",\n",
       "        \"#ef5b9c\",\n",
       "        \"#f47920\",\n",
       "        \"#905a3d\",\n",
       "        \"#fab27b\",\n",
       "        \"#2a5caa\",\n",
       "        \"#444693\",\n",
       "        \"#726930\",\n",
       "        \"#b2d235\",\n",
       "        \"#6d8346\",\n",
       "        \"#ac6767\",\n",
       "        \"#1d953f\",\n",
       "        \"#6950a1\",\n",
       "        \"#918597\"\n",
       "    ],\n",
       "    \"series\": [\n",
       "        {\n",
       "            \"type\": \"bar\",\n",
       "            \"name\": \"\\u4ea7\\u54c1\\u9500\\u91cf\",\n",
       "            \"data\": [\n",
       "                612264.0,\n",
       "                615504.0,\n",
       "                634821.0,\n",
       "                431029.0,\n",
       "                449881.0,\n",
       "                496878.0,\n",
       "                655900.0\n",
       "            ],\n",
       "            \"barCategoryGap\": \"20%\",\n",
       "            \"label\": {\n",
       "                \"show\": true,\n",
       "                \"position\": \"top\",\n",
       "                \"margin\": 8\n",
       "            }\n",
       "        }\n",
       "    ],\n",
       "    \"legend\": [\n",
       "        {\n",
       "            \"data\": [\n",
       "                \"\\u4ea7\\u54c1\\u9500\\u91cf\"\n",
       "            ],\n",
       "            \"selected\": {\n",
       "                \"\\u4ea7\\u54c1\\u9500\\u91cf\": true\n",
       "            },\n",
       "            \"show\": true,\n",
       "            \"padding\": 5,\n",
       "            \"itemGap\": 10,\n",
       "            \"itemWidth\": 25,\n",
       "            \"itemHeight\": 14\n",
       "        }\n",
       "    ],\n",
       "    \"tooltip\": {\n",
       "        \"show\": true,\n",
       "        \"trigger\": \"item\",\n",
       "        \"triggerOn\": \"mousemove|click\",\n",
       "        \"axisPointer\": {\n",
       "            \"type\": \"line\"\n",
       "        },\n",
       "        \"textStyle\": {\n",
       "            \"fontSize\": 14\n",
       "        },\n",
       "        \"borderWidth\": 0\n",
       "    },\n",
       "    \"xAxis\": [\n",
       "        {\n",
       "            \"show\": true,\n",
       "            \"scale\": false,\n",
       "            \"nameLocation\": \"end\",\n",
       "            \"nameGap\": 15,\n",
       "            \"gridIndex\": 0,\n",
       "            \"inverse\": false,\n",
       "            \"offset\": 0,\n",
       "            \"splitNumber\": 5,\n",
       "            \"minInterval\": 0,\n",
       "            \"splitLine\": {\n",
       "                \"show\": false,\n",
       "                \"lineStyle\": {\n",
       "                    \"show\": true,\n",
       "                    \"width\": 1,\n",
       "                    \"opacity\": 1,\n",
       "                    \"curveness\": 0,\n",
       "                    \"type\": \"solid\"\n",
       "                }\n",
       "            },\n",
       "            \"data\": [\n",
       "                2011,\n",
       "                2012,\n",
       "                2013,\n",
       "                2014,\n",
       "                2015,\n",
       "                2016,\n",
       "                2017\n",
       "            ]\n",
       "        }\n",
       "    ],\n",
       "    \"yAxis\": [\n",
       "        {\n",
       "            \"show\": true,\n",
       "            \"scale\": false,\n",
       "            \"nameLocation\": \"end\",\n",
       "            \"nameGap\": 15,\n",
       "            \"gridIndex\": 0,\n",
       "            \"inverse\": false,\n",
       "            \"offset\": 0,\n",
       "            \"splitNumber\": 5,\n",
       "            \"minInterval\": 0,\n",
       "            \"splitLine\": {\n",
       "                \"show\": false,\n",
       "                \"lineStyle\": {\n",
       "                    \"show\": true,\n",
       "                    \"width\": 1,\n",
       "                    \"opacity\": 1,\n",
       "                    \"curveness\": 0,\n",
       "                    \"type\": \"solid\"\n",
       "                }\n",
       "            }\n",
       "        }\n",
       "    ],\n",
       "    \"title\": [\n",
       "        {\n",
       "            \"text\": \"11 ~ 17\\u5e74 xxx \\u516c\\u53f8 xx \\u4ea7\\u54c1\\u9500\\u91cf\\u56fe\",\n",
       "            \"subtext\": \"\\u8fd9\\u91cc\\u662f\\u526f\\u6807\\u9898\",\n",
       "            \"padding\": 5,\n",
       "            \"itemGap\": 10\n",
       "        }\n",
       "    ]\n",
       "};\n",
       "                chart_8e40561ae0ed41f7b686736fb7ff6b88.setOption(option_8e40561ae0ed41f7b686736fb7ff6b88);\n",
       "        });\n",
       "    </script>\n"
      ],
      "text/plain": [
       "<pyecharts.render.display.HTML at 0x1215ea3d0>"
      ]
     },
     "execution_count": 6,
     "metadata": {},
     "output_type": "execute_result"
    }
   ],
   "source": [
    "#df.eplot.line(x='日',y='客流量')\n",
    "from pyecharts.charts import Bar\n",
    "from pyecharts import options as opts\n",
    "df = dfs['四月']\n",
    "bar = (\n",
    "    Bar()\n",
    "    .add_xaxis([2011,2012,2013,2014,2015,2016,2017])\n",
    "    .add_yaxis(\"产品销量\", df.loc[0:6,'地铁（人次）'].tolist())\n",
    "    .set_global_opts(title_opts=opts.TitleOpts(title=\"11 ~ 17年 xxx 公司 xx 产品销量图\", subtitle=\"这里是副标题\"))\n",
    ")\n",
    "bar.render_notebook()"
   ]
  },
  {
   "cell_type": "markdown",
   "metadata": {
    "nteract": {
     "transient": {
      "deleting": false
     }
    }
   },
   "source": [
    "数据探索，一是看excel的数据，二是进行数据预处理：\n",
    "1，删除备注；2. 二月的填充NaN为0；3. 三月四月的删除有空值的行；"
   ]
  },
  {
   "cell_type": "code",
   "execution_count": 2,
   "metadata": {
    "collapsed": false,
    "jupyter": {
     "outputs_hidden": false,
     "source_hidden": false
    },
    "nteract": {
     "transient": {
      "deleting": false
     }
    },
    "outputExpanded": false,
    "scrolled": true
   },
   "outputs": [
    {
     "name": "stdout",
     "output_type": "stream",
     "text": [
      "           日期  地铁（人次）  公交（人次）  长客（人次）\n",
      "0  2020-02-01   96768  117000     0.0\n",
      "1  2020-02-02   89153  129000     0.0\n",
      "2  2020-02-03  100117   93934     0.0\n",
      "3  2020-02-04   93268   88985     0.0\n",
      "4  2020-02-05   85129   99485     0.0\n",
      "5  2020-02-06   78814  105721     0.0\n",
      "6  2020-02-07   74277  115915     0.0\n",
      "7  2020-02-08   65361  107961     0.0\n",
      "8  2020-02-09   74043   96641     0.0\n",
      "9  2020-02-10   53376  151186     0.0\n",
      "10 2020-02-11   93924  174654     0.0\n",
      "11 2020-02-12   93860  166511     0.0\n",
      "12 2020-02-13   94649  166372     0.0\n",
      "13 2020-02-14   99682  165671     0.0\n",
      "14 2020-02-15   80156  152669     0.0\n",
      "15 2020-02-16   79277  123335     0.0\n",
      "16 2020-02-17  138525  177354     0.0\n",
      "17 2020-02-18  136526  201358     0.0\n",
      "18 2020-02-19  144011  233770     0.0\n",
      "19 2020-02-20  143644  261344     0.0\n",
      "20 2020-02-21  145004  233327     0.0\n",
      "21 2020-02-22  132301  294024     0.0\n",
      "22 2020-02-23  131158  301978     0.0\n",
      "23 2020-02-24  248289  524135   296.0\n",
      "24 2020-02-25  254239  534776  1140.0\n",
      "25 2020-02-26  261512  562922  1765.0\n",
      "26 2020-02-27  265980  565834  1955.0\n",
      "27 2020-02-28  267449  548864  1449.0\n",
      "28 2020-02-29  205425  488331  1536.0\n"
     ]
    }
   ],
   "source": [
    "for month in dfs.keys():\n",
    "    df = dfs[month]\n",
    "    df.drop('备注',axis=1,inplace=True)\n",
    "    if(month=='二月'):\n",
    "        df.fillna(0,inplace=True)\n",
    "        print(df)\n",
    "    else:\n",
    "        df.drop(df[df.isnull().T.any()].index,inplace=True)\n",
    "        df['日期']=pd.to_datetime(df['日期'],format=\"%Y-%m-%d\")\n",
    "        # df['日期']=df['日期'].apply(convertTime)\n",
    "        # df['日期']=pd.to_datetime(df['日期'])"
   ]
  },
  {
   "cell_type": "markdown",
   "metadata": {},
   "source": [
    "eplot未遂，暂时弃用；\n",
    "刚开始pyechart作图，参考示例代码，把df中的数据放进去看行不行"
   ]
  },
  {
   "cell_type": "code",
   "execution_count": 3,
   "metadata": {},
   "outputs": [],
   "source": [
    "for month in dfs.keys():\n",
    "    df = dfs[month]\n",
    "    line = (\n",
    "    Line()\n",
    "    .set_global_opts(\n",
    "        title_opts=opts.TitleOpts(title=\"2020年%s地铁公交长客客流\"%month),\n",
    "        xaxis_opts=opts.AxisOpts(type_=\"category\"),\n",
    "        yaxis_opts=opts.AxisOpts(\n",
    "            type_=\"value\",\n",
    "            axistick_opts=opts.AxisTickOpts(is_show=True),\n",
    "            splitline_opts=opts.SplitLineOpts(is_show=True),\n",
    "        ),\n",
    "    )\n",
    "    .add_xaxis(xaxis_data=['{} 日'.format(i) for i in df['日期'].dt.day])\n",
    "    .add_yaxis(\n",
    "        series_name=\"地铁\",\n",
    "        y_axis=df['地铁（人次）'],\n",
    "        symbol=\"emptyCircle\",\n",
    "        is_symbol_show=True,\n",
    "        color=\"#6e9ef1\",\n",
    "        label_opts=opts.LabelOpts(is_show=False),\n",
    "    )\n",
    "    .add_yaxis(\n",
    "        series_name=\"公交\",\n",
    "        y_axis=df['公交（人次）'],\n",
    "        symbol=\"emptyCircle\",\n",
    "        is_symbol_show=True,\n",
    "        label_opts=opts.LabelOpts(is_show=False),\n",
    "        markpoint_opts=opts.MarkPointOpts(data=[opts.MarkPointItem(type_=\"max\", name=\"最高流量\")], symbol_size=90),\n",
    "    )\n",
    "    .add_yaxis(\n",
    "        series_name=\"长客\",\n",
    "        y_axis=df['长客（人次）'],\n",
    "        symbol=\"emptyCircle\",\n",
    "        is_symbol_show=True,\n",
    "        label_opts=opts.LabelOpts(is_show=False),\n",
    "    )\n",
    "    )\n",
    "    line.render(\"charts/%s客流图.html\"%month)\n"
   ]
  },
  {
   "cell_type": "markdown",
   "metadata": {
    "toc-hr-collapsed": true,
    "toc-nb-collapsed": true
   },
   "source": [
    "# Dataframe写入MySQL的表"
   ]
  },
  {
   "cell_type": "code",
   "execution_count": null,
   "metadata": {
    "collapsed": true,
    "jupyter": {
     "outputs_hidden": true
    }
   },
   "outputs": [],
   "source": []
  }
 ],
 "metadata": {
  "kernelspec": {
   "display_name": "Python 3",
   "language": "python",
   "name": "python3"
  },
  "language_info": {
   "codemirror_mode": {
    "name": "ipython",
    "version": 3
   },
   "file_extension": ".py",
   "mimetype": "text/x-python",
   "name": "python",
   "nbconvert_exporter": "python",
   "pygments_lexer": "ipython3",
   "version": "3.8.2"
  },
  "nteract": {
   "version": "0.22.4"
  },
  "toc": {
   "nav_menu": {},
   "number_sections": true,
   "sideBar": true,
   "skip_h1_title": false,
   "toc_cell": false,
   "toc_position": {
    "height": "592px",
    "left": "0px",
    "right": "1014px",
    "top": "106px",
    "width": "266px"
   },
   "toc_section_display": "block",
   "toc_window_display": true
  },
  "toc-autonumbering": true,
  "toc-showmarkdowntxt": false,
  "toc-showtags": false
 },
 "nbformat": 4,
 "nbformat_minor": 4
}
