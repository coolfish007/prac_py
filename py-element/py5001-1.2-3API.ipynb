{
 "cells": [
  {
   "cell_type": "markdown",
   "metadata": {},
   "source": [
    "# 1. pathlib/fnmatch/glob"
   ]
  },
  {
   "cell_type": "markdown",
   "metadata": {},
   "source": [
    "## 1.1 内置API"
   ]
  },
  {
   "cell_type": "code",
   "execution_count": null,
   "metadata": {},
   "outputs": [],
   "source": [
    "import pathlib\n",
    "from IPython.display import display\n",
    "\n",
    "display(pathlib.Path.cwd())\n",
    "display(pathlib.Path(\"..\").resolve())\n",
    "display(pathlib.Path.cwd().parent / \"src\")\n",
    "data_dir = pathlib.Path.cwd().parent.joinpath(\"data\")\n",
    "data_dir.parent"
   ]
  },
  {
   "cell_type": "code",
   "execution_count": null,
   "metadata": {},
   "outputs": [],
   "source": [
    "cwd_dir = pathlib.Path(\"..\")\n",
    "[d for d in cwd_dir.iterdir() if d.is_dir()]"
   ]
  },
  {
   "cell_type": "code",
   "execution_count": null,
   "metadata": {},
   "outputs": [],
   "source": [
    "cwd_dir = pathlib.Path(\".\")\n",
    "display(cwd_dir)\n",
    "display(cwd_dir.owner())\n",
    "cwd_dir.joinpath(\"hello\").mkdir(exist_ok=True)\n",
    "cwd_dir.joinpath(\"hello\").rmdir()cwd_dir = pathlib.Path(\".\")\n",
    "display(cwd_dir)\n",
    "display(cwd_dir.owner())\n",
    "cwd_dir.joinpath(\"hello\").mkdir(exist_ok=True)\n",
    "cwd_dir.joinpath(\"hello\").rmdir()"
   ]
  },
  {
   "cell_type": "code",
   "execution_count": null,
   "metadata": {},
   "outputs": [],
   "source": [
    "cwd_dir = pathlib.Path(\".\")\n",
    "for py in cwd_dir.glob(\"*.py\"):\n",
    "    print(f\"Exist python script:{py},type:{type(py)}\")\n",
    "# rglob遍历子目录\n",
    "ipys = [str(ipy) for ipy in cwd_dir.rglob(\"*.ipynb\")]\n",
    "print(f\"Exist ipy script:{';'.join(ipys)}\")cwd_dir = pathlib.Path(\".\")\n",
    "for py in cwd_dir.glob(\"*.py\"):\n",
    "    print(f\"Exist python script:{py},type:{type(py)}\")\n",
    "# rglob遍历子目录\n",
    "ipys = [str(ipy) for ipy in cwd_dir.rglob(\"*.ipynb\")]\n",
    "print(f\"Exist ipy script:{';'.join(ipys)}\")"
   ]
  },
  {
   "cell_type": "markdown",
   "metadata": {},
   "source": [
    "## 1.2 wcmatch\n",
    "见py-basic.ipynb"
   ]
  },
  {
   "cell_type": "code",
   "execution_count": null,
   "metadata": {},
   "outputs": [],
   "source": [
    "from wcmatch import pathlib\n",
    "\n",
    "display(pathlib.Path.cwd())\n",
    "pathlib.Path.cwd().joinpath(\"abc.java\").touch(exist_ok=True)\n",
    "display(pathlib.Path(\"..\").resolve())\n",
    "display(pathlib.Path.cwd().parent / \"src\")\n",
    "data_dir = pathlib.Path.cwd().parent.joinpath(\"data\")\n",
    "display(pathlib.Path.cwd())from wcmatch import pathlib\n"
   ]
  },
  {
   "cell_type": "markdown",
   "metadata": {},
   "source": [
    "# 2. itertools"
   ]
  },
  {
   "cell_type": "markdown",
   "metadata": {},
   "source": [
    "## 2.1 Filtering 用于过滤的函数"
   ]
  },
  {
   "cell_type": "code",
   "execution_count": 5,
   "metadata": {
    "tags": []
   },
   "outputs": [
    {
     "output_type": "stream",
     "name": "stdout",
     "text": "A,a,a,\n\nr,d,v,r,k,\n\nA,a,\n\nr,d,v,a,r,k,\n\nA,"
    }
   ],
   "source": [
    "import itertools\n",
    "def vowel(c):\n",
    "    return c.lower() in 'aeiou'\n",
    "\n",
    "# filter/filterfalse\n",
    "for i in filter(vowel,'Aardvark'):\n",
    "    print(i,end=',')\n",
    "print('\\n')\n",
    "for i in itertools.filterfalse(vowel,'Aardvark'):\n",
    "    print(i,end=',')\n",
    "print('\\n')\n",
    "for i in itertools.takewhile(vowel,'Aardvark'):\n",
    "    print(i,end=',')\n",
    "print('\\n')\n",
    "# 与takewhile相反.从第一个返回的false即返回.\n",
    "for i in itertools.dropwhile(vowel,'aAardvark'):\n",
    "    print(i,end=',')\n",
    "print('\\n')\n",
    "for i in itertools.compress('Aardvark',(1,0)):\n",
    "    print(i,end=',')\n"
   ]
  },
  {
   "cell_type": "markdown",
   "metadata": {},
   "source": [
    "## 2.2 用于映射的函数\n",
    "映射可被生成器和列表推导式替代.两个iter的话还是用map吧.  \n",
    "map()/starmap()  \n",
    "accumulate(iter,func)  \n",
    "enumerate(iterable,start=0)"
   ]
  },
  {
   "cell_type": "code",
   "execution_count": 29,
   "metadata": {},
   "outputs": [
    {
     "output_type": "display_data",
     "data": {
      "text/plain": "[(1, 'l'), (2, 'h'), (3, 'c')]"
     },
     "metadata": {}
    }
   ],
   "source": [
    "import itertools\n",
    "display(list(enumerate('lhc',1)))"
   ]
  },
  {
   "cell_type": "code",
   "execution_count": 12,
   "metadata": {},
   "outputs": [
    {
     "output_type": "display_data",
     "data": {
      "text/plain": "[0, 2, 6]"
     },
     "metadata": {}
    },
    {
     "output_type": "display_data",
     "data": {
      "text/plain": "[(4, -4), (6, -4), (8, -4)]"
     },
     "metadata": {}
    }
   ],
   "source": [
    "import operator\n",
    "display(list(map(operator.mul,range(11),[1,2,3])))\n",
    "# map用来转换x,y的坐标对是个不错的东西.\n",
    "def testit(x,y):\n",
    "    return (x+y,x-y)\n",
    "display(list(map(testit,range(3),range(4,7))))\n",
    "# display(list(n*m for n in range(11) for m in [1,2,3]))"
   ]
  },
  {
   "cell_type": "code",
   "execution_count": 31,
   "metadata": {
    "tags": []
   },
   "outputs": [
    {
     "output_type": "stream",
     "name": "stdout",
     "text": "0 * 5 = 0\n1 * 6 = 6\n2 * 7 = 14\n3 * 8 = 24\n4 * 9 = 36\n"
    },
    {
     "output_type": "display_data",
     "data": {
      "text/plain": "[0, 6, 14, 24, 36]"
     },
     "metadata": {}
    },
    {
     "output_type": "display_data",
     "data": {
      "text/plain": "['l', 'hh', 'ccc']"
     },
     "metadata": {}
    }
   ],
   "source": [
    "from itertools import *\n",
    "\n",
    "values = [(0, 5), (1, 6), (2, 7), (3, 8), (4, 9)]\n",
    "# starmap 处理的是类似于values这样的iter,相当于两个iter的zip进行map.\n",
    "for i in starmap(lambda x, y: (x, y, x * y), values):\n",
    "    print('{} * {} = {}'.format(*i))\n",
    "\n",
    "display(list(t[0]*t[1] for t in values))\n",
    "\n",
    "display(list(itertools.starmap(operator.mul, enumerate('lhc',1))))"
   ]
  },
  {
   "cell_type": "markdown",
   "metadata": {},
   "source": [
    "## 2.3 用于合并的函数\n"
   ]
  },
  {
   "cell_type": "markdown",
   "metadata": {},
   "source": [
    "### chain(*iterables) and chain.from_iterable()"
   ]
  },
  {
   "cell_type": "code",
   "execution_count": 35,
   "metadata": {},
   "outputs": [
    {
     "output_type": "display_data",
     "data": {
      "text/plain": "['A', 'B', 'C', 0, 1, 2]"
     },
     "metadata": {}
    }
   ],
   "source": [
    "import itertools\n",
    "display(list(itertools.chain('ABC',range(3))))"
   ]
  },
  {
   "cell_type": "code",
   "execution_count": 36,
   "metadata": {
    "tags": []
   },
   "outputs": [
    {
     "output_type": "stream",
     "name": "stdout",
     "text": "1 2 3 a b c"
    }
   ],
   "source": [
    "# If the iterables to be combined are not all known in advance, or need to be evaluated lazily, chain.from_iterable() can be used to construct the chain instead.\n",
    "\n",
    "\n",
    "def make_iterables_to_chain():\n",
    "    yield [1, 2, 3]\n",
    "    yield ['a', 'b', 'c']\n",
    "\n",
    "\n",
    "for i in chain.from_iterable(make_iterables_to_chain()):\n",
    "    print(i, end=' ')"
   ]
  },
  {
   "cell_type": "markdown",
   "metadata": {},
   "source": [
    "### zip(*iterables) and zip_longest()\n",
    "izip() 在 3.* 中被内置zip()代替."
   ]
  },
  {
   "cell_type": "code",
   "execution_count": 51,
   "metadata": {
    "tags": []
   },
   "outputs": [
    {
     "output_type": "stream",
     "name": "stdout",
     "text": "<class 'zip'>\n(1, 'a')\n(2, 'b')\n(3, 'c')\n\nzip_longest processes all of the values:\n[(0, 0), (1, 1), (2, '??')]\n"
    }
   ],
   "source": [
    "z = zip([1, 2, 3], ['a', 'b', 'c'])\n",
    "print(type(z))\n",
    "\n",
    "for i in z:\n",
    "    print(i)\n",
    "\n",
    "r1 = range(3)\n",
    "r2 = range(2)\n",
    "\n",
    "print('\\nzip_longest processes all of the values:')\n",
    "print(list(zip_longest(r1, r2,fillvalue='??')))"
   ]
  },
  {
   "cell_type": "code",
   "execution_count": 4,
   "metadata": {
    "tags": []
   },
   "outputs": [
    {
     "output_type": "stream",
     "name": "stdout",
     "text": "0 over-and-over\n1 over-and-over\n2 over-and-over\n3 over-and-over\n4 over-and-over\n"
    }
   ],
   "source": [
    "from itertools import * \n",
    "for i,s in zip(count(),repeat('over-and-over',5)):\n",
    "    print(i,s)"
   ]
  },
  {
   "cell_type": "markdown",
   "metadata": {},
   "source": [
    "### islice()\n",
    "The islice() function returns an iterator which returns selected items from the input iterator, by index"
   ]
  },
  {
   "cell_type": "code",
   "execution_count": 40,
   "metadata": {
    "tags": []
   },
   "outputs": [
    {
     "output_type": "stream",
     "name": "stdout",
     "text": "0,10,20,30,40,50,60,70,80,90,"
    }
   ],
   "source": [
    "for i in islice(range(100),0,100,10):\n",
    "    print(i,end=',')"
   ]
  },
  {
   "cell_type": "code",
   "execution_count": 17,
   "metadata": {
    "tags": []
   },
   "outputs": [
    {
     "output_type": "stream",
     "name": "stdout",
     "text": "0\n1\n2\n"
    }
   ],
   "source": [
    "for i in islice(count(),3):\n",
    "    print(i)"
   ]
  },
  {
   "cell_type": "code",
   "execution_count": 6,
   "metadata": {
    "tags": []
   },
   "outputs": [
    {
     "output_type": "stream",
     "name": "stdout",
     "text": "(0, 1)\n(1, 2)\n(2, 3)\n"
    }
   ],
   "source": [
    "\n",
    "for i in zip(count(0,1),[1,2,3]):\n",
    "    print(i)"
   ]
  },
  {
   "cell_type": "markdown",
   "metadata": {},
   "source": [
    "### count()/cycle()/repeat()/"
   ]
  },
  {
   "cell_type": "markdown",
   "metadata": {},
   "source": [
    "### combination()/combination_with_replacement()/permutation()\n",
    "排列与组合"
   ]
  },
  {
   "cell_type": "code",
   "execution_count": 2,
   "metadata": {},
   "outputs": [
    {
     "output_type": "display_data",
     "data": {
      "text/plain": "[('A', 'B'), ('A', 'C'), ('B', 'C')]"
     },
     "metadata": {}
    },
    {
     "output_type": "display_data",
     "data": {
      "text/plain": "[('A', 'A'), ('A', 'B'), ('A', 'C'), ('B', 'B'), ('B', 'C'), ('C', 'C')]"
     },
     "metadata": {}
    },
    {
     "output_type": "display_data",
     "data": {
      "text/plain": "[('A', 'B'), ('A', 'C'), ('B', 'A'), ('B', 'C'), ('C', 'A'), ('C', 'B')]"
     },
     "metadata": {}
    },
    {
     "output_type": "display_data",
     "data": {
      "text/plain": "[('A', 'B', 'C'),\n ('A', 'C', 'B'),\n ('B', 'A', 'C'),\n ('B', 'C', 'A'),\n ('C', 'A', 'B'),\n ('C', 'B', 'A')]"
     },
     "metadata": {}
    },
    {
     "output_type": "display_data",
     "data": {
      "text/plain": "[('A', 'A'),\n ('A', 'B'),\n ('A', 'C'),\n ('B', 'A'),\n ('B', 'B'),\n ('B', 'C'),\n ('C', 'A'),\n ('C', 'B'),\n ('C', 'C')]"
     },
     "metadata": {}
    }
   ],
   "source": [
    "import itertools\n",
    "display(list(itertools.combinations('ABC',2)))\n",
    "display(list(itertools.combinations_with_replacement('ABC',2)))\n",
    "display(list(itertools.permutations('ABC',2)))\n",
    "display(list(itertools.permutations('ABC')))\n",
    "# 'ABC' 与 'ABC' 的笛卡尔乘积\n",
    "display(list(itertools.product('ABC',repeat=2)))"
   ]
  },
  {
   "cell_type": "markdown",
   "metadata": {},
   "source": [
    "## 2.4 用于重新排列的函数"
   ]
  },
  {
   "cell_type": "markdown",
   "metadata": {},
   "source": [
    "### tee()\n",
    "使用tee()函数克隆可迭代对象.迭代对象可以迭代多次,突破迭代器只可以迭代一次的限制.  \n",
    "但是源迭代器向前推进,克隆的迭代器都会向前推进.所以在克隆的迭代器上操作,避免在源  \n",
    "迭代器上操作.  "
   ]
  },
  {
   "cell_type": "code",
   "execution_count": 47,
   "metadata": {
    "tags": []
   },
   "outputs": [
    {
     "output_type": "stream",
     "name": "stdout",
     "text": "r: 0 1 2 \ni1: [3, 4]\ni2: [3, 4]\ni3: [3, 4]\n<itertools.islice object at 0x10d6c3810>:----<itertools._tee object at 0x10dc6e4c0>+++<itertools._tee object at 0x10dbfea80>+++<itertools._tee object at 0x10dbfe480>+++<itertools._tee object at 0x10dbfefc0>\n"
    }
   ],
   "source": [
    "from itertools import *\n",
    "\n",
    "r = islice(count(), 5)\n",
    "i1, i2 ,i3,i4= tee(r,4)\n",
    "\n",
    "print('r:', end=' ')\n",
    "for i in r:\n",
    "    print(i, end=' ')\n",
    "    if i > 1:\n",
    "        break\n",
    "print()\n",
    "\n",
    "print('i1:', list(i1))\n",
    "print('i2:', list(i2))\n",
    "print('i3:', list(i3))\n",
    "print(f'{r}:----{i1}+++{i2}+++{i3}+++{i4}')\n"
   ]
  },
  {
   "cell_type": "markdown",
   "metadata": {},
   "source": [
    "### groupby()"
   ]
  },
  {
   "cell_type": "code",
   "execution_count": 11,
   "metadata": {
    "tags": []
   },
   "outputs": [
    {
     "output_type": "stream",
     "name": "stdout",
     "text": "duck->['duck']\neagle->['eagle']\nrat->['rat']\ngiraffe->['giraffe']\nbear->['bear']\nbat->['bat']\ndolphin->['dolphin']\nshark->['shark']\nlion->['lion']\n4->['duck']\n5->['eagle']\n3->['rat']\n7->['giraffe']\n4->['bear']\n3->['bat']\n7->['dolphin']\n5->['shark']\n4->['lion']\n"
    }
   ],
   "source": [
    "animals = ['duck', 'eagle', 'rat', 'giraffe', 'bear', 'bat', 'dolphin', 'shark', 'lion']\n",
    "# groupby()产出(key, group_generator)元组\n",
    "for length,group in itertools.groupby(animals):\n",
    "    print(f'{length}->{list(group)}')\n",
    "for length,group in itertools.groupby(animals,len):\n",
    "    print(f'{length}->{list(group)}')"
   ]
  },
  {
   "cell_type": "code",
   "execution_count": 12,
   "metadata": {
    "tags": []
   },
   "outputs": [
    {
     "output_type": "stream",
     "name": "stdout",
     "text": "3->['rat', 'bat']\n4->['duck', 'bear', 'lion']\n5->['eagle', 'shark']\n7->['giraffe', 'dolphin']\n"
    }
   ],
   "source": [
    "# 分组前先sort()\n",
    "animals.sort(key=len)\n",
    "for length,group in itertools.groupby(animals,len):\n",
    "    print(f'{length}->{list(group)}')"
   ]
  },
  {
   "cell_type": "markdown",
   "metadata": {},
   "source": [
    "### reversed()"
   ]
  },
  {
   "cell_type": "code",
   "execution_count": 13,
   "metadata": {
    "tags": []
   },
   "outputs": [
    {
     "output_type": "stream",
     "name": "stdout",
     "text": "7->['dolphin', 'giraffe']\n5->['shark', 'eagle']\n4->['lion', 'bear', 'duck']\n3->['bat', 'rat']\n"
    }
   ],
   "source": [
    "for length,group in itertools.groupby(reversed(animals),len):\n",
    "    print(f'{length}->{list(group)}')"
   ]
  },
  {
   "cell_type": "code",
   "execution_count": null,
   "metadata": {},
   "outputs": [],
   "source": []
  }
 ],
 "metadata": {
  "language_info": {
   "codemirror_mode": {
    "name": "ipython",
    "version": 3
   },
   "file_extension": ".py",
   "mimetype": "text/x-python",
   "name": "python",
   "nbconvert_exporter": "python",
   "pygments_lexer": "ipython3",
   "version": "3.8.2-final"
  },
  "orig_nbformat": 2,
  "kernelspec": {
   "name": "python38264bitdatavenv86c8e9e79e034983bf9e66a89847a1a4",
   "display_name": "Python 3.8.2 64-bit ('data': venv)"
  }
 },
 "nbformat": 4,
 "nbformat_minor": 2
}