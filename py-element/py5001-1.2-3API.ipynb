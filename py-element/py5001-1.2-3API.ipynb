{
 "cells": [
  {
   "cell_type": "markdown",
   "metadata": {},
   "source": [
    "# 内置API"
   ]
  },
  {
   "cell_type": "markdown",
   "metadata": {},
   "source": [
    "## 1. pathlib/fnmatch/glob"
   ]
  },
  {
   "cell_type": "code",
   "execution_count": null,
   "metadata": {},
   "outputs": [],
   "source": [
    "import pathlib\n",
    "from IPython.display import display\n",
    "\n",
    "display(pathlib.Path.cwd())\n",
    "display(pathlib.Path(\"..\").resolve())\n",
    "display(pathlib.Path.cwd().parent / \"src\")\n",
    "data_dir = pathlib.Path.cwd().parent.joinpath(\"data\")\n",
    "data_dir.parent"
   ]
  },
  {
   "cell_type": "code",
   "execution_count": null,
   "metadata": {},
   "outputs": [],
   "source": [
    "cwd_dir = pathlib.Path(\"..\")\n",
    "[d for d in cwd_dir.iterdir() if d.is_dir()]"
   ]
  },
  {
   "cell_type": "code",
   "execution_count": null,
   "metadata": {},
   "outputs": [],
   "source": [
    "cwd_dir = pathlib.Path(\".\")\n",
    "display(cwd_dir)\n",
    "display(cwd_dir.owner())\n",
    "cwd_dir.joinpath(\"hello\").mkdir(exist_ok=True)\n",
    "cwd_dir.joinpath(\"hello\").rmdir()cwd_dir = pathlib.Path(\".\")\n",
    "display(cwd_dir)\n",
    "display(cwd_dir.owner())\n",
    "cwd_dir.joinpath(\"hello\").mkdir(exist_ok=True)\n",
    "cwd_dir.joinpath(\"hello\").rmdir()"
   ]
  },
  {
   "cell_type": "code",
   "execution_count": null,
   "metadata": {},
   "outputs": [],
   "source": [
    "cwd_dir = pathlib.Path(\".\")\n",
    "for py in cwd_dir.glob(\"*.py\"):\n",
    "    print(f\"Exist python script:{py},type:{type(py)}\")\n",
    "# rglob遍历子目录\n",
    "ipys = [str(ipy) for ipy in cwd_dir.rglob(\"*.ipynb\")]\n",
    "print(f\"Exist ipy script:{';'.join(ipys)}\")cwd_dir = pathlib.Path(\".\")\n",
    "for py in cwd_dir.glob(\"*.py\"):\n",
    "    print(f\"Exist python script:{py},type:{type(py)}\")\n",
    "# rglob遍历子目录\n",
    "ipys = [str(ipy) for ipy in cwd_dir.rglob(\"*.ipynb\")]\n",
    "print(f\"Exist ipy script:{';'.join(ipys)}\")"
   ]
  },
  {
   "cell_type": "markdown",
   "metadata": {},
   "source": [
    "# 第三方API"
   ]
  },
  {
   "cell_type": "markdown",
   "metadata": {},
   "source": [
    "## 1. wcmatch"
   ]
  },
  {
   "cell_type": "code",
   "execution_count": null,
   "metadata": {},
   "outputs": [],
   "source": [
    "from wcmatch import pathlib\n",
    "\n",
    "display(pathlib.Path.cwd())\n",
    "pathlib.Path.cwd().joinpath(\"abc.java\").touch(exist_ok=True)\n",
    "display(pathlib.Path(\"..\").resolve())\n",
    "display(pathlib.Path.cwd().parent / \"src\")\n",
    "data_dir = pathlib.Path.cwd().parent.joinpath(\"data\")\n",
    "display(pathlib.Path.cwd())from wcmatch import pathlib\n",
    "\n",
    "display(pathlib.Path.cwd())\n",
    "pathlib.Path.cwd().joinpath(\"abc.java\").touch(exist_ok=True)\n",
    "display(pathlib.Path(\"..\").resolve())\n",
    "display(pathlib.Path.cwd().parent / \"src\")\n",
    "data_dir = pathlib.Path.cwd().parent.joinpath(\"data\")\n",
    "display(pathlib.Path.cwd())"
   ]
  }
 ],
 "metadata": {
  "language_info": {
   "codemirror_mode": {
    "name": "ipython",
    "version": 3
   },
   "file_extension": ".py",
   "mimetype": "text/x-python",
   "name": "python",
   "nbconvert_exporter": "python",
   "pygments_lexer": "ipython3",
   "version": 3
  },
  "orig_nbformat": 2
 },
 "nbformat": 4,
 "nbformat_minor": 2
}