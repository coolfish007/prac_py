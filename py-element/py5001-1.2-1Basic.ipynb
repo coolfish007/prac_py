{
 "metadata": {
  "language_info": {
   "codemirror_mode": {
    "name": "ipython",
    "version": 3
   },
   "file_extension": ".py",
   "mimetype": "text/x-python",
   "name": "python",
   "nbconvert_exporter": "python",
   "pygments_lexer": "ipython3",
   "version": "3.8.2-final"
  },
  "orig_nbformat": 2,
  "kernelspec": {
   "name": "Python 3.8.2 64-bit ('data': venv)",
   "display_name": "Python 3.8.2 64-bit ('data': venv)",
   "metadata": {
    "interpreter": {
     "hash": "b217fd59a71bdcf8fc21cb9025cc5ba5b0ad4d40cbcd43f8e3bd181db5128951"
    }
   }
  }
 },
 "nbformat": 4,
 "nbformat_minor": 2,
 "cells": [
  {
   "cell_type": "markdown",
   "metadata": {},
   "source": [
    "# 数据结构\n",
    "## 序列\n",
    "list,tuple,str,bytes,bytearray,memoryview和array.array,collections.deque\n"
   ]
  },
  {
   "cell_type": "markdown",
   "metadata": {},
   "source": [
    "### 赋值多个变量\n",
    "赋值给*args好在py5001-1.2-2Feature.ipynb的函数一节中."
   ]
  },
  {
   "cell_type": "code",
   "execution_count": 51,
   "metadata": {},
   "outputs": [
    {
     "output_type": "display_data",
     "data": {
      "text/plain": "4"
     },
     "metadata": {}
    },
    {
     "output_type": "display_data",
     "data": {
      "text/plain": "5"
     },
     "metadata": {}
    }
   ],
   "source": [
    "p = (4,5)\n",
    "x,y = p\n",
    "display(x,y)"
   ]
  },
  {
   "cell_type": "code",
   "execution_count": 52,
   "metadata": {},
   "outputs": [
    {
     "output_type": "error",
     "ename": "ValueError",
     "evalue": "not enough values to unpack (expected 3, got 2)",
     "traceback": [
      "\u001b[0;31m---------------------------------------------------------------------------\u001b[0m",
      "\u001b[0;31mValueError\u001b[0m                                Traceback (most recent call last)",
      "\u001b[0;32m<ipython-input-52-dd5eddb2dfc7>\u001b[0m in \u001b[0;36m<module>\u001b[0;34m\u001b[0m\n\u001b[1;32m      1\u001b[0m \u001b[0mp\u001b[0m \u001b[0;34m=\u001b[0m \u001b[0;34m(\u001b[0m\u001b[0;36m4\u001b[0m\u001b[0;34m,\u001b[0m\u001b[0;36m5\u001b[0m\u001b[0;34m)\u001b[0m\u001b[0;34m\u001b[0m\u001b[0;34m\u001b[0m\u001b[0m\n\u001b[0;32m----> 2\u001b[0;31m \u001b[0mx\u001b[0m\u001b[0;34m,\u001b[0m\u001b[0my\u001b[0m\u001b[0;34m,\u001b[0m\u001b[0mz\u001b[0m\u001b[0;34m=\u001b[0m\u001b[0mp\u001b[0m\u001b[0;34m\u001b[0m\u001b[0;34m\u001b[0m\u001b[0m\n\u001b[0m",
      "\u001b[0;31mValueError\u001b[0m: not enough values to unpack (expected 3, got 2)"
     ]
    }
   ],
   "source": [
    "p = (4,5)\n",
    "x,y,z=p"
   ]
  },
  {
   "source": [
    "pycb-C1.2"
   ],
   "cell_type": "markdown",
   "metadata": {}
  },
  {
   "cell_type": "code",
   "execution_count": 66,
   "metadata": {
    "tags": []
   },
   "outputs": [
    {
     "output_type": "stream",
     "name": "stdout",
     "text": "ACME 1 4.1 (2012, 12, 21)\n1 (2012, 12, 21)\nACME 21\n"
    }
   ],
   "source": [
    "data=['ACME',1,4.1,(2012,12,21)]\n",
    "n1,n2,n3,n4=data\n",
    "print(n1,n2,n3,n4)\n",
    "_,n5,_,n6=data # 抛弃一个参数.\n",
    "print(n5,n6)\n",
    "n7,*_,(*_,n8)=data # 抛弃多个参数.\n",
    "print(n7,n8)"
   ]
  },
  {
   "cell_type": "code",
   "execution_count": 69,
   "metadata": {
    "tags": []
   },
   "outputs": [
    {
     "output_type": "stream",
     "name": "stdout",
     "text": "h e l l o\nh/e/l/l/o/"
    }
   ],
   "source": [
    "s='hello'\n",
    "a,b,c,d,e=s\n",
    "print(a,b,c,d,e)\n",
    "for i in s:\n",
    "    print(i,end='/')"
   ]
  },
  {
   "cell_type": "code",
   "execution_count": 57,
   "metadata": {
    "tags": []
   },
   "outputs": [
    {
     "output_type": "stream",
     "name": "stdout",
     "text": "tag: foo\nargs: [1, 2]\n*args 1 2\ntag: bar\nargs: ['hello']\n*args hello\ntag: foo\nargs: [3, 4]\n*args 3 4\n"
    }
   ],
   "source": [
    "records=[('foo',1,2),('bar','hello'),('foo',3,4)]\n",
    "for tag,*args in records:\n",
    "    print('tag:',tag)\n",
    "    print('args:',args) #由于*args把剩余的参数都吃入,args是一个list\n",
    "    print('*args',*args) #*args相当于把args解包"
   ]
  },
  {
   "cell_type": "markdown",
   "metadata": {},
   "source": [
    "### tuple"
   ]
  },
  {
   "cell_type": "code",
   "execution_count": 33,
   "metadata": {
    "tags": []
   },
   "outputs": [
    {
     "output_type": "stream",
     "name": "stdout",
     "text": "China/222222\nUK/333333\nUSA/111111\n"
    }
   ],
   "source": [
    "travel_ids=[('USA','111111'),('China','222222'),('UK','333333')]\n",
    "for passport in sorted(travel_ids):\n",
    "    print('%s/%s'%passport)"
   ]
  },
  {
   "cell_type": "code",
   "execution_count": 34,
   "metadata": {
    "tags": []
   },
   "outputs": [
    {
     "output_type": "stream",
     "name": "stdout",
     "text": "USA\nChina\nUK\n"
    }
   ],
   "source": [
    "for country,_ in travel_ids:\n",
    "    print(country)"
   ]
  },
  {
   "cell_type": "code",
   "execution_count": 38,
   "metadata": {
    "tags": []
   },
   "outputs": [
    {
     "output_type": "stream",
     "name": "stdout",
     "text": "0 1 [2, 3, 4]\n0 1 []\n"
    }
   ],
   "source": [
    "a,b,*rest=range(5)\n",
    "print(a,b,rest)\n",
    "a,b,*rest = range(2)\n",
    "print(a,b,rest)"
   ]
  },
  {
   "cell_type": "markdown",
   "metadata": {},
   "source": [
    "namedtuple"
   ]
  },
  {
   "cell_type": "markdown",
   "metadata": {},
   "source": [
    "### 切片"
   ]
  },
  {
   "cell_type": "code",
   "execution_count": 28,
   "metadata": {},
   "outputs": [
    {
     "output_type": "display_data",
     "data": {
      "text/plain": "[10, 20]"
     },
     "metadata": {}
    },
    {
     "output_type": "display_data",
     "data": {
      "text/plain": "[40, 50]"
     },
     "metadata": {}
    },
    {
     "output_type": "display_data",
     "data": {
      "text/plain": "[10, 20, 30]"
     },
     "metadata": {}
    },
    {
     "output_type": "display_data",
     "data": {
      "text/plain": "[40, 50, 60]"
     },
     "metadata": {}
    },
    {
     "output_type": "display_data",
     "data": {
      "text/plain": "[10, 20, 100, 60]"
     },
     "metadata": {}
    }
   ],
   "source": [
    "l = [10,20,30,40,50,60]\n",
    "display(l[:2]) # 共两个元素\n",
    "display(l[3:5]) # 5-3快速计算出两个元素\n",
    "display(l[:3])\n",
    "display(l[3:]) #从第3个元素分割\n",
    "l[2:5] = [100]\n",
    "display(l)"
   ]
  },
  {
   "cell_type": "markdown",
   "metadata": {},
   "source": [
    "#### slice 对象"
   ]
  },
  {
   "cell_type": "code",
   "execution_count": 27,
   "metadata": {
    "tags": []
   },
   "outputs": [
    {
     "output_type": "display_data",
     "data": {
      "text/plain": "'bye'"
     },
     "metadata": {}
    },
    {
     "output_type": "display_data",
     "data": {
      "text/plain": "'elcycib'"
     },
     "metadata": {}
    },
    {
     "output_type": "error",
     "ename": "TypeError",
     "evalue": "'str' object does not support item assignment",
     "traceback": [
      "\u001b[0;31m---------------------------------------------------------------------------\u001b[0m",
      "\u001b[0;31mTypeError\u001b[0m                                 Traceback (most recent call last)",
      "\u001b[0;32m<ipython-input-27-3c87ccc5c3b3>\u001b[0m in \u001b[0;36m<module>\u001b[0;34m\u001b[0m\n\u001b[1;32m      3\u001b[0m \u001b[0msl\u001b[0m \u001b[0;34m=\u001b[0m \u001b[0ms\u001b[0m\u001b[0;34m[\u001b[0m\u001b[0;34m:\u001b[0m\u001b[0;34m:\u001b[0m\u001b[0;34m-\u001b[0m\u001b[0;36m1\u001b[0m\u001b[0;34m]\u001b[0m\u001b[0;34m\u001b[0m\u001b[0;34m\u001b[0m\u001b[0m\n\u001b[1;32m      4\u001b[0m \u001b[0mdisplay\u001b[0m\u001b[0;34m(\u001b[0m\u001b[0msl\u001b[0m\u001b[0;34m)\u001b[0m\u001b[0;34m\u001b[0m\u001b[0;34m\u001b[0m\u001b[0m\n\u001b[0;32m----> 5\u001b[0;31m \u001b[0ms\u001b[0m\u001b[0;34m[\u001b[0m\u001b[0;36m2\u001b[0m\u001b[0;34m:\u001b[0m\u001b[0;36m5\u001b[0m\u001b[0;34m]\u001b[0m\u001b[0;34m=\u001b[0m\u001b[0;34m[\u001b[0m\u001b[0;34m'C'\u001b[0m\u001b[0;34m]\u001b[0m\u001b[0;34m\u001b[0m\u001b[0;34m\u001b[0m\u001b[0m\n\u001b[0m\u001b[1;32m      6\u001b[0m \u001b[0mdisplay\u001b[0m\u001b[0;34m(\u001b[0m\u001b[0ms\u001b[0m\u001b[0;34m)\u001b[0m\u001b[0;34m\u001b[0m\u001b[0;34m\u001b[0m\u001b[0m\n",
      "\u001b[0;31mTypeError\u001b[0m: 'str' object does not support item assignment"
     ]
    }
   ],
   "source": [
    "s='bicycle'\n",
    "display(s[::3])\n",
    "sl = s[::-1]\n",
    "display(sl)\n",
    "s[2:5]=['C'] #str 不可变"
   ]
  },
  {
   "cell_type": "code",
   "execution_count": 16,
   "metadata": {},
   "outputs": [
    {
     "output_type": "display_data",
     "data": {
      "text/plain": "slice(2, 10, 2)"
     },
     "metadata": {}
    },
    {
     "output_type": "display_data",
     "data": {
      "text/plain": "[2, 4, 6]"
     },
     "metadata": {}
    },
    {
     "output_type": "display_data",
     "data": {
      "text/plain": "[0, 1, 98, 3, 99, 5, 100]"
     },
     "metadata": {}
    }
   ],
   "source": [
    "items = [0,1,2,3,4,5,6]\n",
    "a = slice(2,10,2) # a.start,a.stop,a.step\n",
    "display(a)\n",
    "display(items[a])\n",
    "items[a] = [98,99,100]\n",
    "display(items)"
   ]
  },
  {
   "cell_type": "code",
   "execution_count": 21,
   "metadata": {
    "tags": []
   },
   "outputs": [
    {
     "output_type": "display_data",
     "data": {
      "text/plain": "(2, 7, 2)"
     },
     "metadata": {}
    },
    {
     "output_type": "display_data",
     "data": {
      "text/plain": "range(2, 7, 2)"
     },
     "metadata": {}
    },
    {
     "output_type": "stream",
     "name": "stdout",
     "text": "98\n99\n100\n"
    }
   ],
   "source": [
    "t=a.indices(len(items)) #slice.indices 返回一个tuple,并且不会出现IndexError.\n",
    "display(t)\n",
    "display(range(*t))\n",
    "for i in range(*t):\n",
    "    print(items[i])"
   ]
  },
  {
   "cell_type": "code",
   "execution_count": 25,
   "metadata": {},
   "outputs": [
    {
     "output_type": "display_data",
     "data": {
      "text/plain": "1"
     },
     "metadata": {}
    },
    {
     "output_type": "display_data",
     "data": {
      "text/plain": "slice(1, 3, None)"
     },
     "metadata": {}
    },
    {
     "output_type": "display_data",
     "data": {
      "text/plain": "slice(-1, -3, None)"
     },
     "metadata": {}
    },
    {
     "output_type": "display_data",
     "data": {
      "text/plain": "(slice(1, 4, 2), slice(7, 9, None))"
     },
     "metadata": {}
    }
   ],
   "source": [
    "class MySeq:\n",
    "    def __getitem__(self,index):\n",
    "        return index\n",
    "s = MySeq()\n",
    "display(s[1])\n",
    "display(s[1:3])\n",
    "display(s[-1:-3])\n",
    "display(s[1:4:2,7:9]) #两个slice组成的tuple"
   ]
  },
  {
   "cell_type": "markdown",
   "metadata": {},
   "source": [
    "#### 对序列使用 + 和 *"
   ]
  },
  {
   "cell_type": "code",
   "execution_count": 30,
   "metadata": {},
   "outputs": [
    {
     "output_type": "display_data",
     "data": {
      "text/plain": "[['+', '+', '+'], ['+', '+', '+'], ['+', '+', '+']]"
     },
     "metadata": {}
    },
    {
     "output_type": "display_data",
     "data": {
      "text/plain": "[['+', '+', 0], ['+', '+', 0], ['+', '+', 0]]"
     },
     "metadata": {}
    }
   ],
   "source": [
    "weird_board = [['+']*3]*3\n",
    "display(weird_board)\n",
    "weird_board[1][2] = 0\n",
    "display(weird_board)"
   ]
  },
  {
   "cell_type": "code",
   "execution_count": 32,
   "metadata": {},
   "outputs": [
    {
     "output_type": "display_data",
     "data": {
      "text/plain": "[['+', '+', '+'], ['+', '+', '+'], ['+', '+', '+']]"
     },
     "metadata": {}
    },
    {
     "output_type": "display_data",
     "data": {
      "text/plain": "[['+', '+', '+'], ['+', '+', 0], ['+', '+', '+']]"
     },
     "metadata": {}
    }
   ],
   "source": [
    "board=[]\n",
    "for i in range(3):\n",
    "    row = ['+']*3 #每次迭代新建一个列表,再追加\n",
    "    board.append(row)\n",
    "display(board)\n",
    "board[1][2] = 0\n",
    "display(board)"
   ]
  },
  {
   "cell_type": "markdown",
   "metadata": {},
   "source": [
    "#### 序列的增量赋值"
   ]
  },
  {
   "cell_type": "code",
   "execution_count": 39,
   "metadata": {},
   "outputs": [
    {
     "output_type": "display_data",
     "data": {
      "text/plain": "4390266944"
     },
     "metadata": {}
    },
    {
     "output_type": "display_data",
     "data": {
      "text/plain": "(1, 2, 3, 1, 2, 3)"
     },
     "metadata": {}
    },
    {
     "output_type": "display_data",
     "data": {
      "text/plain": "4393477696"
     },
     "metadata": {}
    }
   ],
   "source": [
    "l = (1,2,3)\n",
    "display(id(l))\n",
    "l*=2  # 不可变序列增量赋值,新的序列产生;\n",
    "display(l)\n",
    "display(id(l))\n"
   ]
  },
  {
   "cell_type": "markdown",
   "metadata": {},
   "source": [
    "#### 过滤序列"
   ]
  },
  {
   "cell_type": "code",
   "execution_count": 81,
   "metadata": {},
   "outputs": [
    {
     "output_type": "display_data",
     "data": {
      "text/plain": "[1, 3, 0, 10, 0, 2, 3, 0]"
     },
     "metadata": {}
    }
   ],
   "source": [
    "mylist = [1,3,-5,10,-7,2,3,-1]\n",
    "clip_neg = [n if n>0 else 0 for n in mylist]\n",
    "display(clip_neg)"
   ]
  },
  {
   "cell_type": "code",
   "execution_count": 82,
   "metadata": {
    "tags": []
   },
   "outputs": [
    {
     "output_type": "stream",
     "name": "stdout",
     "text": "10\n"
    }
   ],
   "source": [
    "from itertools import compress\n",
    "\n",
    "more5 = (n>5 for n in mylist) #这里用推导式也可以\n",
    "comp = compress(mylist,more5)\n",
    "for n in comp:\n",
    "    print(n)"
   ]
  },
  {
   "cell_type": "markdown",
   "metadata": {},
   "source": [
    "#### sort()和list.sort()"
   ]
  },
  {
   "cell_type": "code",
   "execution_count": 73,
   "metadata": {},
   "outputs": [
    {
     "output_type": "display_data",
     "data": {
      "text/plain": "['apple', 'banana', 'grape', 'raspberry']"
     },
     "metadata": {}
    },
    {
     "output_type": "display_data",
     "data": {
      "text/plain": "['grape', 'banana', 'apple', 'raspberry']"
     },
     "metadata": {}
    },
    {
     "output_type": "display_data",
     "data": {
      "text/plain": "['raspberry', 'grape', 'banana', 'apple']"
     },
     "metadata": {}
    },
    {
     "output_type": "display_data",
     "data": {
      "text/plain": "['grape', 'apple', 'banana', 'raspberry']"
     },
     "metadata": {}
    },
    {
     "output_type": "display_data",
     "data": {
      "text/plain": "['grape', 'banana', 'apple', 'raspberry']"
     },
     "metadata": {}
    }
   ],
   "source": [
    "fruits = ['grape','banana','apple','raspberry']\n",
    "display(sorted(fruits))\n",
    "display(fruits)\n",
    "display(sorted(fruits,reverse=True))\n",
    "display(sorted(fruits,key=len))\n",
    "display(fruits)"
   ]
  },
  {
   "cell_type": "code",
   "execution_count": 74,
   "metadata": {},
   "outputs": [
    {
     "output_type": "display_data",
     "data": {
      "text/plain": "['apple', 'banana', 'grape', 'raspberry']"
     },
     "metadata": {}
    }
   ],
   "source": [
    "fruits.sort()\n",
    "display(fruits)"
   ]
  },
  {
   "cell_type": "markdown",
   "metadata": {},
   "source": [
    "若对象不支持原生比较-pycb C1.14(是1.13的延伸):"
   ]
  },
  {
   "cell_type": "code",
   "execution_count": 80,
   "metadata": {
    "tags": []
   },
   "outputs": [
    {
     "output_type": "stream",
     "name": "stdout",
     "text": "[User(23), User(3), User(99)]\n23\n[User(3), User(23), User(99)]\n[User(3), User(23), User(99)]\nUser(3)\n"
    }
   ],
   "source": [
    "from operator import attrgetter\n",
    "from operator import itemgetter\n",
    "class User:\n",
    "    def __init__(self,user_id):\n",
    "        self.user_id = user_id\n",
    "    def __repr__(self):\n",
    "        return f'User({self.user_id})'\n",
    "\n",
    "def sort_notcompare():\n",
    "    users = [User(23),User(3),User(99)]\n",
    "    print(users)\n",
    "    print(attrgetter('user_id')(itemgetter(0)(users))) # itemgetter相当于[]的作用:users[0],dict[key]\n",
    "    print(sorted(users,key=lambda u: u.user_id))\n",
    "    print(sorted(users,key=attrgetter('user_id'))) # attrgetter相当于.的作用:user.user_id\n",
    "    print(min(users,key=attrgetter('user_id')))\n",
    "\n",
    "sort_notcompare()"
   ]
  },
  {
   "cell_type": "markdown",
   "metadata": {},
   "source": [
    "#### bisect和bisect.insort\n",
    "二分法,bisect查找位置,默认是right"
   ]
  },
  {
   "cell_type": "code",
   "execution_count": 45,
   "metadata": {
    "tags": []
   },
   "outputs": [
    {
     "output_type": "stream",
     "name": "stdout",
     "text": "right: 0 left: 0\nright: 4 left: 4\nright: 2 left: 2\nright: 2 left: 1\nright: 3 left: 3\nright: 4 left: 3\nright: 4 left: 4\n"
    },
    {
     "output_type": "execute_result",
     "data": {
      "text/plain": "['F', 'A', 'C', 'C', 'B', 'A', 'A']"
     },
     "metadata": {},
     "execution_count": 45
    }
   ],
   "source": [
    "import bisect\n",
    "def grade(score,breakpoints=[60,70,80,90],grades='FDCBA'):\n",
    "    i = bisect.bisect(breakpoints,score)\n",
    "    j = bisect.bisect_left(breakpoints,score)\n",
    "    print('right:',i,'left:',j)\n",
    "    return grades[i]\n",
    "[grade(score) for score in [33,99,77,70,89,90,100]]"
   ]
  },
  {
   "cell_type": "markdown",
   "metadata": {},
   "source": [
    "使用insort插入合适的排序中的位置.  \n",
    "比haystack.insert(index,needle)效率更高."
   ]
  },
  {
   "cell_type": "code",
   "execution_count": 75,
   "metadata": {
    "tags": []
   },
   "outputs": [
    {
     "output_type": "stream",
     "name": "stdout",
     "text": "12 -> [12]\n 9 -> [9, 12]\n 2 -> [2, 9, 12]\n 2 -> [2, 2, 9, 12]\n 1 -> [1, 2, 2, 9, 12]\n 5 -> [1, 2, 2, 5, 9, 12]\n13 -> [1, 2, 2, 5, 9, 12, 13]\n"
    }
   ],
   "source": [
    "import bisect\n",
    "import random\n",
    "\n",
    "SIZE = 7\n",
    "random.seed(1785)\n",
    "my_list = []\n",
    "for i in range(SIZE):\n",
    "    new_item = random.randrange(SIZE*2)\n",
    "    bisect.insort_left(my_list,new_item)\n",
    "    print('%2d ->'%new_item,my_list)"
   ]
  },
  {
   "cell_type": "markdown",
   "metadata": {},
   "source": [
    "#### deque\n",
    "双向队列两端插入和删除为O(1)  \n",
    "列表的开头插入或删除复杂度是O(N)"
   ]
  },
  {
   "cell_type": "markdown",
   "metadata": {},
   "source": [
    "#### heapq\n",
    "heap[0]永远是最小的元素;  \n",
    "push 和 pop 操作的时间复杂度是O(log N)  \n",
    "如果N的大小和集合大小接近时,取N个最大可以用sorted(items)[:N]\n",
    "其他时候可以用heapq."
   ]
  },
  {
   "cell_type": "code",
   "execution_count": 64,
   "metadata": {},
   "outputs": [
    {
     "output_type": "display_data",
     "data": {
      "text/plain": "[-4, 7, 1, 23, 8, 2]"
     },
     "metadata": {}
    },
    {
     "output_type": "display_data",
     "data": {
      "text/plain": "-4"
     },
     "metadata": {}
    },
    {
     "output_type": "execute_result",
     "data": {
      "text/plain": "[23, 8, 7]"
     },
     "metadata": {},
     "execution_count": 64
    }
   ],
   "source": [
    "import heapq\n",
    "\n",
    "nums=[1,8,2,23,7,-4]\n",
    "heapq.heapify(nums)\n",
    "display(nums)\n",
    "s = heapq.heappop(nums)\n",
    "display(s)\n",
    "heapq.nlargest(3,nums)"
   ]
  },
  {
   "cell_type": "markdown",
   "metadata": {},
   "source": [
    "## Dict与Set"
   ]
  },
  {
   "source": [
    "字典推导"
   ],
   "cell_type": "markdown",
   "metadata": {}
  },
  {
   "cell_type": "code",
   "execution_count": 62,
   "metadata": {},
   "outputs": [
    {
     "output_type": "display_data",
     "data": {
      "text/plain": "{'China': 86, 'India': 91, 'United States': 1, 'Russia': 7}"
     },
     "metadata": {}
    },
    {
     "output_type": "execute_result",
     "data": {
      "text/plain": "[('China', 86), ('India', 91), ('Russia', 7), ('United States', 1)]"
     },
     "metadata": {},
     "execution_count": 62
    }
   ],
   "source": [
    "D_C=[(86,'China'),(91,'India'),(1,'United States'),(7,'Russia')]\n",
    "c_code = {country:code for code, country in D_C}\n",
    "display(c_code)\n",
    "sorted(c_code.items())"
   ]
  },
  {
   "cell_type": "code",
   "execution_count": 63,
   "metadata": {},
   "outputs": [
    {
     "output_type": "display_data",
     "data": {
      "text/plain": "{86: 'China', 91: 'India', 1: 'United States', 7: 'Russia'}"
     },
     "metadata": {}
    }
   ],
   "source": [
    "c_code=dict(D_C)\n",
    "display(c_code)"
   ]
  },
  {
   "source": [
    "### defaultdict"
   ],
   "cell_type": "markdown",
   "metadata": {}
  },
  {
   "cell_type": "code",
   "execution_count": 61,
   "metadata": {
    "tags": []
   },
   "outputs": [
    {
     "output_type": "stream",
     "name": "stdout",
     "text": "m 1\ni 4\ns 4\np 2\n"
    },
    {
     "output_type": "display_data",
     "data": {
      "text/plain": "defaultdict(int, {'m': 1, 'i': 4, 's': 4, 'p': 2})"
     },
     "metadata": {}
    },
    {
     "output_type": "stream",
     "name": "stdout",
     "text": "m 1\nm 1\ni 4\ni 4\ns 4\ns 4\np 2\np 2\n"
    },
    {
     "output_type": "display_data",
     "data": {
      "text/plain": "[('i', 4), ('m', 1), ('p', 2), ('s', 4)]"
     },
     "metadata": {}
    },
    {
     "output_type": "display_data",
     "data": {
      "text/plain": "[('m', 1), ('p', 2), ('i', 4), ('s', 4)]"
     },
     "metadata": {}
    },
    {
     "output_type": "display_data",
     "data": {
      "text/plain": "[('m', 1), ('p', 2), ('i', 4), ('s', 4)]"
     },
     "metadata": {}
    },
    {
     "output_type": "display_data",
     "data": {
      "text/plain": "('i', 4)"
     },
     "metadata": {}
    },
    {
     "output_type": "display_data",
     "data": {
      "text/plain": "('m', 1)"
     },
     "metadata": {}
    },
    {
     "output_type": "display_data",
     "data": {
      "text/plain": "(1, 'm')"
     },
     "metadata": {}
    },
    {
     "output_type": "stream",
     "name": "stdout",
     "text": "('m', 'p', 'i', 's')\n(1, 2, 4, 4)\n"
    },
    {
     "output_type": "display_data",
     "data": {
      "text/plain": "'{\"m\": 1, \"i\": 4, \"s\": 4, \"p\": 2}'"
     },
     "metadata": {}
    },
    {
     "output_type": "display_data",
     "data": {
      "text/plain": "'[[\"m\", 1], [\"p\", 2], [\"i\", 4], [\"s\", 4]]'"
     },
     "metadata": {}
    },
    {
     "output_type": "display_data",
     "data": {
      "text/plain": "'{\"m\": 1, \"p\": 2, \"i\": 4, \"s\": 4}'"
     },
     "metadata": {}
    }
   ],
   "source": [
    "from collections import defaultdict\n",
    "from collections import OrderedDict\n",
    "from operator import itemgetter\n",
    "import json\n",
    "\n",
    "s = 'mississippi'\n",
    "d = defaultdict(int) #找不到key时被调用。\n",
    "for k in s:\n",
    "    d[k] += 1\n",
    "for k,v in d.items(): #按占位的位置取值\n",
    "    print(k,v)\n",
    "display(d)\n",
    "for item in d.items(): #按次序取值\n",
    "    print(item[0],item[1]) \n",
    "    print(itemgetter(0)(item),itemgetter(1)(item))\n",
    "display(sorted(d.items())) #默认按item[0]排序,TODO:按value排序如何写?见下-pycb C1.8讨论部分和C1.13。\n",
    "display(sorted(d.items(),key=itemgetter(1))) #按value排序如何写?用itemgetter,注意sorted会迭代d.items()的元素.\n",
    "display(sorted(d.items(),key=lambda i:i[1])) #lambda的写法\n",
    "display(min(d.items()))\n",
    "display(min(d.items(),key=itemgetter(1)))\n",
    "display(min(zip(d.values(),d.keys()))) #和原来比，key和value是相反的。\n",
    "# display(sorted(d.items(),key=lambda (k,v):v)) # P3后不行,tuple parameter unpacking was removed,这种写法相当于把迭代的d.items()解包\n",
    "# 以下是不同的显示方法,使用json.dumps():\n",
    "sd = sorted(d.items(),key=itemgetter(1)) #[('m', 1), ('p', 2), ('i', 4), ('s', 4)]\n",
    "for i in zip(*sd):\n",
    "    print(i)\n",
    "display(json.dumps(d)) #d是dict\n",
    "display(json.dumps(sd)) #sd是key,value的list\n",
    "od = OrderedDict(sd)\n",
    "display(json.dumps(od)) #od是dict"
   ]
  },
  {
   "source": [
    "\\_missing\\_(),\\_getitem\\_(),d\\[k\\],get()"
   ],
   "cell_type": "markdown",
   "metadata": {}
  },
  {
   "source": [
    "### 字典映射多个值-pycb C1.6"
   ],
   "cell_type": "markdown",
   "metadata": {}
  },
  {
   "cell_type": "code",
   "execution_count": 16,
   "metadata": {},
   "outputs": [
    {
     "output_type": "display_data",
     "data": {
      "text/plain": "defaultdict(list, {})"
     },
     "metadata": {}
    },
    {
     "output_type": "display_data",
     "data": {
      "text/plain": "defaultdict(list, {'a': [1, 2, 2]})"
     },
     "metadata": {}
    },
    {
     "output_type": "display_data",
     "data": {
      "text/plain": "dict_items([('a', [1, 2, 2])])"
     },
     "metadata": {}
    }
   ],
   "source": [
    "from collections import defaultdict\n",
    "\n",
    "d = defaultdict(list)\n",
    "display(d)\n",
    "d['a'].append(1)\n",
    "d['a'].append(2)\n",
    "d['a'].append(2)\n",
    "display(d)\n",
    "display(d.items())"
   ]
  },
  {
   "cell_type": "code",
   "execution_count": 5,
   "metadata": {},
   "outputs": [
    {
     "output_type": "display_data",
     "data": {
      "text/plain": "defaultdict(set, {})"
     },
     "metadata": {}
    },
    {
     "output_type": "display_data",
     "data": {
      "text/plain": "defaultdict(set, {'a': {1, 2}})"
     },
     "metadata": {}
    }
   ],
   "source": [
    "d = defaultdict(set)\n",
    "display(d)\n",
    "d['a'].add(1)\n",
    "d['a'].add(2)\n",
    "d['a'].add(2)\n",
    "display(d)"
   ]
  },
  {
   "source": [
    "### 记录分组\n",
    "使用defaultdict构造"
   ],
   "cell_type": "markdown",
   "metadata": {}
  },
  {
   "cell_type": "code",
   "execution_count": 15,
   "metadata": {},
   "outputs": [
    {
     "output_type": "display_data",
     "data": {
      "text/plain": "defaultdict(list,\n            {'2020/01/21': [{'address': 'GZ', 'date': '2020/01/21'},\n              {'address': 'SZ', 'date': '2020/01/21'}],\n             '2020/03/27': [{'address': 'ST', 'date': '2020/03/27'}],\n             '2020/02/23': [{'address': 'CZ', 'date': '2020/02/23'},\n              {'address': 'ZJ', 'date': '2020/02/23'}]})"
     },
     "metadata": {}
    },
    {
     "output_type": "execute_result",
     "data": {
      "text/plain": "[{'address': 'CZ', 'date': '2020/02/23'},\n {'address': 'GZ', 'date': '2020/01/21'},\n {'address': 'ST', 'date': '2020/03/27'},\n {'address': 'SZ', 'date': '2020/01/21'},\n {'address': 'ZJ', 'date': '2020/02/23'}]"
     },
     "metadata": {},
     "execution_count": 15
    }
   ],
   "source": [
    "from collections import defaultdict\n",
    "\n",
    "rows=[{'address':'GZ','date':'2020/01/21'},\n",
    "{'address':'SZ','date':'2020/01/21'},\n",
    "{'address':'ST','date':'2020/03/27'},\n",
    "{'address':'CZ','date':'2020/02/23'},\n",
    "{'address':'ZJ','date':'2020/02/23'}]\n",
    "\n",
    "rows_by_date = defaultdict(list)\n",
    "for row in rows:\n",
    "    rows_by_date[row['date']].append(row)\n",
    "\n",
    "display(rows_by_date)\n",
    "sorted(rows,key=itemgetter('address'))"
   ]
  },
  {
   "source": [
    "使用groupby-pycb C1.15"
   ],
   "cell_type": "markdown",
   "metadata": {}
  },
  {
   "cell_type": "code",
   "execution_count": 9,
   "metadata": {
    "tags": []
   },
   "outputs": [
    {
     "output_type": "display_data",
     "data": {
      "text/plain": "[{'address': 'GZ', 'date': '2020/01/21'},\n {'address': 'SZ', 'date': '2020/01/21'},\n {'address': 'CZ', 'date': '2020/02/23'},\n {'address': 'ZJ', 'date': '2020/02/23'},\n {'address': 'ST', 'date': '2020/03/27'}]"
     },
     "metadata": {}
    },
    {
     "output_type": "stream",
     "name": "stdout",
     "text": "2020/01/21\n  {'address': 'GZ', 'date': '2020/01/21'}\n  {'address': 'SZ', 'date': '2020/01/21'}\n2020/02/23\n  {'address': 'CZ', 'date': '2020/02/23'}\n  {'address': 'ZJ', 'date': '2020/02/23'}\n2020/03/27\n  {'address': 'ST', 'date': '2020/03/27'}\n"
    }
   ],
   "source": [
    "from operator import itemgetter\n",
    "from itertools import groupby\n",
    "\n",
    "rows=[{'address':'GZ','date':'2020/01/21'},\n",
    "{'address':'SZ','date':'2020/01/21'},\n",
    "{'address':'ST','date':'2020/03/27'},\n",
    "{'address':'CZ','date':'2020/02/23'},\n",
    "{'address':'ZJ','date':'2020/02/23'}]\n",
    "\n",
    "rows.sort(key=itemgetter('date'))  #先排序\n",
    "display(rows)\n",
    "for date, items in groupby(rows,key=itemgetter('date')):\n",
    "    print(date) # 相当与以date为索引\n",
    "    for i in items:\n",
    "        print(' ',i)"
   ]
  },
  {
   "source": [
    "### 字典按插入顺序排列-pycb C1.7"
   ],
   "cell_type": "markdown",
   "metadata": {}
  },
  {
   "cell_type": "code",
   "execution_count": 51,
   "metadata": {},
   "outputs": [
    {
     "output_type": "display_data",
     "data": {
      "text/plain": "'{\"foo\": 1, \"bar\": 2, \"shell\": 3, \"grok\": 4}'"
     },
     "metadata": {}
    },
    {
     "output_type": "display_data",
     "data": {
      "text/plain": "'{\"foo\": 1, \"bar\": 2, \"shell\": 3, \"grok\": 4, \"hello\": 4}'"
     },
     "metadata": {}
    }
   ],
   "source": [
    "from collections import OrderedDict\n",
    "import json\n",
    "\n",
    "d = OrderedDict()\n",
    "d['foo'] = 1\n",
    "d['bar'] = 2\n",
    "d['shell'] = 3\n",
    "d['grok'] = 4\n",
    "display(json.dumps(d))\n",
    "d.update([('hello',4)]) #fltpy C3.3,update处理参数的方式是鸭子类型\n",
    "display(json.dumps(d))"
   ]
  },
  {
   "source": [
    "### 不可变字典（映射）\n",
    "from py3.3"
   ],
   "cell_type": "markdown",
   "metadata": {}
  },
  {
   "cell_type": "code",
   "execution_count": 55,
   "metadata": {},
   "outputs": [
    {
     "output_type": "display_data",
     "data": {
      "text/plain": "mappingproxy({1: 'A'})"
     },
     "metadata": {}
    },
    {
     "output_type": "display_data",
     "data": {
      "text/plain": "'A'"
     },
     "metadata": {}
    },
    {
     "output_type": "display_data",
     "data": {
      "text/plain": "'B'"
     },
     "metadata": {}
    }
   ],
   "source": [
    "from types import MappingProxyType\n",
    "\n",
    "d={1:'A'}\n",
    "d_p = MappingProxyType(d)\n",
    "display(d_p)\n",
    "display(d_p[1])\n",
    "# d_p[1]='B' #TypeError\n",
    "d[1]='B'\n",
    "display(d_p[1])"
   ]
  },
  {
   "source": [
    "### 字典的运算（根据key和value查找最小值/最大值/排序）-pycb C1.8及C1.13-见defaultdict\n",
    "使用的技术都是itemgetter()和lambda表达式，在min(),max(),sorted()中经常用到。  \n",
    "下边的C1.10的例子也类似。"
   ],
   "cell_type": "markdown",
   "metadata": {}
  },
  {
   "source": [
    "### 查找两个字典的相同点-pycb C1.9"
   ],
   "cell_type": "markdown",
   "metadata": {}
  },
  {
   "cell_type": "code",
   "execution_count": 88,
   "metadata": {},
   "outputs": [
    {
     "output_type": "display_data",
     "data": {
      "text/plain": "{'x': 1, 'y': 2}"
     },
     "metadata": {}
    },
    {
     "output_type": "display_data",
     "data": {
      "text/plain": "'x'"
     },
     "metadata": {}
    },
    {
     "output_type": "display_data",
     "data": {
      "text/plain": "'y'"
     },
     "metadata": {}
    },
    {
     "output_type": "display_data",
     "data": {
      "text/plain": "'z'"
     },
     "metadata": {}
    }
   ],
   "source": [
    "a={'x':1,'y':2,'z':3}\n",
    "c={key:a[key] for key in a.keys()-{'z','w'}} #keys(),items()支持集合操作。\n",
    "display(c)\n",
    "display(*a)\n",
    "display(**a)"
   ]
  },
  {
   "source": [
    "### 删除序列中相同的元素并保持顺序-pycb C1.10"
   ],
   "cell_type": "markdown",
   "metadata": {}
  },
  {
   "cell_type": "code",
   "execution_count": 74,
   "metadata": {},
   "outputs": [
    {
     "output_type": "display_data",
     "data": {
      "text/plain": "[{'x': 1, 'y': 2}, {'x': 1, 'y': 3}, {'x': 2, 'y': 4}]"
     },
     "metadata": {}
    },
    {
     "output_type": "display_data",
     "data": {
      "text/plain": "[{'x': 1, 'y': 2}, {'x': 2, 'y': 4}]"
     },
     "metadata": {}
    },
    {
     "output_type": "display_data",
     "data": {
      "text/plain": "[{'x': 1, 'y': 2}, {'x': 1, 'y': 3}, {'x': 2, 'y': 4}]"
     },
     "metadata": {}
    }
   ],
   "source": [
    "from operator import itemgetter\n",
    "\n",
    "def dedupe(items,key=None):\n",
    "    have=set()\n",
    "    for item in items:\n",
    "        val = item if key is None else key(item)\n",
    "        if val not in have:\n",
    "            yield item\n",
    "            have.add(val)\n",
    "\n",
    "a = [{'x':1,'y':2},{'x':1,'y':3},{'x':1,'y':2},{'x':2,'y':4}]\n",
    "display(list(dedupe(a,key=lambda i:(i['x'],i['y']))))\n",
    "display(list(dedupe(a,key=lambda i:i['x'])))\n",
    "display(list(dedupe(a,key=itemgetter('x','y'))))  #另一种写法"
   ]
  },
  {
   "source": [
    "### 使用namedtuple代替映射-pycb C1.18\n",
    "内存比映射更为紧凑"
   ],
   "cell_type": "markdown",
   "metadata": {}
  },
  {
   "cell_type": "code",
   "execution_count": 79,
   "metadata": {
    "tags": []
   },
   "outputs": [
    {
     "output_type": "stream",
     "name": "stdout",
     "text": "Subscri(addr='hello@123.com', joined='2011-01-09') hello@123.com 2011-01-09\n"
    },
    {
     "output_type": "display_data",
     "data": {
      "text/plain": "2"
     },
     "metadata": {}
    },
    {
     "output_type": "stream",
     "name": "stdout",
     "text": "hello@123.com 2011-01-09\n"
    }
   ],
   "source": [
    "from collections import namedtuple\n",
    "\n",
    "Subscri = namedtuple('Subscri',['addr','joined'])\n",
    "sub1 = Subscri('hello@123.com','2011-01-09')\n",
    "print(sub1,sub1.addr,sub1.joined)\n",
    "display(len(sub1)) #支持普通元组的操作\n",
    "addr,joined = sub1\n",
    "print(addr,joined)"
   ]
  },
  {
   "cell_type": "code",
   "execution_count": 95,
   "metadata": {},
   "outputs": [
    {
     "output_type": "display_data",
     "data": {
      "text/plain": "75"
     },
     "metadata": {}
    }
   ],
   "source": [
    "from collections import namedtuple\n",
    "\n",
    "Stock = namedtuple('Stock',['name','shares','price'])\n",
    "s = Stock('ACME',100,123.45)\n",
    "#s.shares=75 #Atrributeerror，cannot set\n",
    "s = s._replace(shares=75) #使用_replace进行替换\n",
    "display(s.shares)"
   ]
  },
  {
   "cell_type": "code",
   "execution_count": 91,
   "metadata": {
    "tags": []
   },
   "outputs": [
    {
     "output_type": "stream",
     "name": "stdout",
     "text": "1 2\nx y\n1 2\n"
    }
   ],
   "source": [
    "def foo(x,y):\n",
    "    print(x,y)\n",
    "t=(1,2)\n",
    "foo(*t)\n",
    "d={'x':1,'y':2}\n",
    "foo(*d)\n",
    "foo(**d)"
   ]
  },
  {
   "cell_type": "code",
   "execution_count": 101,
   "metadata": {
    "tags": []
   },
   "outputs": [
    {
     "output_type": "stream",
     "name": "stdout",
     "text": "Stock(name='name', shares='shares', price='price')\nStock(name='ACME', shares=755, price=100)\nStock(name='ACME1', shares=7551, price=1001)\n"
    }
   ],
   "source": [
    "d={'name':'ACME','shares':755,'price':100}\n",
    "s = Stock(*d)\n",
    "print(s)\n",
    "s = Stock(**d)\n",
    "print(s)\n",
    "d1={'name':'ACME1','shares':7551,'price':1001}\n",
    "s = s._replace(**d1)\n",
    "print(s)"
   ]
  },
  {
   "source": [
    "### 合并多个字典-pycb C1.20"
   ],
   "cell_type": "markdown",
   "metadata": {}
  }
 ]
}