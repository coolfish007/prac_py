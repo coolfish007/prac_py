{
 "cells": [
  {
   "cell_type": "markdown",
   "metadata": {},
   "source": [
    "## Dictionary"
   ]
  },
  {
   "cell_type": "markdown",
   "metadata": {},
   "source": [
    "### dic的合并"
   ]
  },
  {
   "cell_type": "code",
   "execution_count": null,
   "metadata": {},
   "outputs": [],
   "source": [
    "from collections import ChainMap\n",
    "import itertools\n",
    "\n",
    "result_dict = {\"a\": [], \"b\": [], \"c\": []}\n",
    "result_a1 = {\"a\": \"hello_a1\"}\n",
    "result = {\"a\": \"hello_a2\"}\n",
    "result_b1 = {\"b\": \"hello_b1\"}\n",
    "# 键值相同的只取第一个;\n",
    "result_dict = dict(ChainMap(result_dict, result_a1, result))\n",
    "print(result_dict)\n",
    "# key值相同后边的覆盖前边的,注意这两种都把初始值的[]变为字符串了,数据结构变成保留的值了.\n",
    "result_dict = dict(itertools.chain(result_dict.items(), result_a1.items(), result.items()))\n",
    "print(result_dict)\n",
    "# 键值对的turple组成的list,用使用list时先进行转型,不能直接[0]取值.\n",
    "print(result_dict.items())  # dict_items([('a', 'hello_a2'), ('b', []), ('c', [])])\n",
    "# 值是list会报错:TypeError: unhashable type: 'list'\n",
    "# 键值相同的会被后者覆盖\n",
    "result_dict = dict(result_a1.items() | result.items() | result_b1.items())\n",
    "print(result_dict)\n",
    "print(result_dict.keys())  # dict_keys(['a', 'b']),使用list也需要转型."
   ]
  },
  {
   "cell_type": "markdown",
   "metadata": {},
   "source": [
    "### dict 的value是list的合并"
   ]
  },
  {
   "cell_type": "code",
   "execution_count": null,
   "metadata": {},
   "outputs": [],
   "source": []
  }
 ],
 "metadata": {
  "jupytext": {
   "formats": "ipynb,py:percent"
  },
  "language_info": {
   "codemirror_mode": {
    "name": "ipython",
    "version": 3
   },
   "file_extension": ".py",
   "mimetype": "text/x-python",
   "name": "python",
   "nbconvert_exporter": "python",
   "pygments_lexer": "ipython3",
   "version": 3
  }
 },
 "nbformat": 4,
 "nbformat_minor": 2
}