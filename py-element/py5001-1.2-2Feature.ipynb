{
 "cells": [
  {
   "cell_type": "markdown",
   "metadata": {},
   "source": [
    "动态在pathlib中插入src"
   ]
  },
  {
   "cell_type": "code",
   "execution_count": 1,
   "metadata": {
    "tags": []
   },
   "outputs": [
    {
     "output_type": "display_data",
     "data": {
      "text/plain": "'/Users/lhc/.pyenv/versions/data/bin/python3.8'"
     },
     "metadata": {}
    },
    {
     "output_type": "stream",
     "name": "stdout",
     "text": "insert /Users/lhc/dev/repo/prac_py/src in PythonPath\n"
    }
   ],
   "source": [
    "import sys\n",
    "import os\n",
    "from wcmatch import pathlib\n",
    "\n",
    "display(sys.executable)\n",
    "src_p = pathlib.Path(\"..\") / \"src\"\n",
    "if src_p.exists() and src_p.is_dir():\n",
    "    print(f'insert {src_p.resolve()} in PythonPath')\n",
    "    sys.path.insert(0, os.fspath(src_p.resolve()))"
   ]
  },
  {
   "cell_type": "markdown",
   "metadata": {},
   "source": [
    "# 1 context manager"
   ]
  },
  {
   "cell_type": "markdown",
   "metadata": {},
   "source": [
    "# 2 Function"
   ]
  },
  {
   "cell_type": "code",
   "execution_count": 1,
   "metadata": {},
   "outputs": [
    {
     "output_type": "execute_result",
     "data": {
      "text/plain": "['fig', 'apple', 'cherry', 'banana', 'raspberry', 'strawberry']"
     },
     "metadata": {},
     "execution_count": 1
    }
   ],
   "source": [
    "fruits = ['strawberry', 'fig', 'apple', 'cherry', 'raspberry', 'banana']\n",
    "sorted(fruits, key=len)"
   ]
  },
  {
   "cell_type": "code",
   "execution_count": 2,
   "metadata": {},
   "outputs": [
    {
     "output_type": "execute_result",
     "data": {
      "text/plain": "['banana', 'apple', 'fig', 'raspberry', 'strawberry', 'cherry']"
     },
     "metadata": {},
     "execution_count": 2
    }
   ],
   "source": [
    "def reverse(word):\n",
    "    return word[::-1]\n",
    "reverse('hello')\n",
    "sorted(fruits,key=reverse)"
   ]
  },
  {
   "cell_type": "markdown",
   "metadata": {},
   "source": [
    "## 2.1 map()\n",
    "特别是一个序列做map,直接用生成器表达式替换."
   ]
  },
  {
   "cell_type": "code",
   "execution_count": 8,
   "metadata": {},
   "outputs": [
    {
     "output_type": "display_data",
     "data": {
      "text/plain": "[1, 1, 2, 6, 24, 120]"
     },
     "metadata": {}
    },
    {
     "output_type": "execute_result",
     "data": {
      "text/plain": "[1, 6, 120]"
     },
     "metadata": {},
     "execution_count": 8
    }
   ],
   "source": [
    "def factorial(n):\n",
    "    return 1 if n<2 else n*factorial(n-1)\n",
    "\n",
    "display(list(map(factorial, range(6))))\n",
    "[factorial(n) for n in range(6) if n%2]"
   ]
  },
  {
   "cell_type": "markdown",
   "metadata": {},
   "source": [
    "## 2.2 函数内置属性"
   ]
  },
  {
   "cell_type": "code",
   "execution_count": 19,
   "metadata": {
    "tags": []
   },
   "outputs": [
    {
     "output_type": "stream",
     "name": "stdout",
     "text": "__annotations__/__call__/__class__/__closure__/__code__/__defaults__/__delattr__/__dict__/__dir__/__doc__/__eq__/__format__/__ge__/__get__/__getattribute__/__globals__/__gt__/__hash__/__init__/__init_subclass__/__kwdefaults__/__le__/__lt__/__module__/__name__/__ne__/__new__/__qualname__/__reduce__/__reduce_ex__/__repr__/__setattr__/__sizeof__/__str__/__subclasshook__/\n\n283942422\n"
    }
   ],
   "source": [
    "for n in dir(factorial):\n",
    "    print(n,end='/')\n",
    "print('\\n')\n",
    "fac = factorial\n",
    "print(fac.__hash__())"
   ]
  },
  {
   "cell_type": "markdown",
   "metadata": {},
   "source": [
    "## 2.3 函数的参数\n",
    "flutpy C5.7的拆解\n",
    "### 仅限关键字键值对的函数"
   ]
  },
  {
   "cell_type": "code",
   "execution_count": 13,
   "metadata": {},
   "outputs": [
    {
     "output_type": "execute_result",
     "data": {
      "text/plain": "(1, 9)"
     },
     "metadata": {},
     "execution_count": 13
    }
   ],
   "source": [
    "def f(a,*,b=1):\n",
    "    return a,b\n",
    "f(1,b=9)"
   ]
  },
  {
   "cell_type": "code",
   "execution_count": 14,
   "metadata": {},
   "outputs": [
    {
     "output_type": "display_data",
     "data": {
      "text/plain": "<code object f at 0x10750d3a0, file \"<ipython-input-13-bd6c10d9a2f7>\", line 1>"
     },
     "metadata": {}
    },
    {
     "output_type": "display_data",
     "data": {
      "text/plain": "None"
     },
     "metadata": {}
    },
    {
     "output_type": "display_data",
     "data": {
      "text/plain": "None"
     },
     "metadata": {}
    },
    {
     "output_type": "execute_result",
     "data": {
      "text/plain": "{'b': 1}"
     },
     "metadata": {},
     "execution_count": 14
    }
   ],
   "source": [
    "fac = factorial\n",
    "display(f.__code__) # 属性非方法\n",
    "display(f.__defaults__) # 为什么是None,仅限关键字参数?\n",
    "display(fac.__defaults__)\n",
    "f.__kwdefaults__"
   ]
  },
  {
   "cell_type": "code",
   "execution_count": 11,
   "metadata": {
    "tags": []
   },
   "outputs": [
    {
     "output_type": "display_data",
     "data": {
      "text/plain": "'(a, *, b=1)'"
     },
     "metadata": {}
    },
    {
     "output_type": "stream",
     "name": "stdout",
     "text": "a, default value:<class 'inspect._empty'>, kind:1\nb, default value:1, kind:3\n"
    }
   ],
   "source": [
    "from inspect import signature\n",
    "sig = signature(f)\n",
    "display(str(sig))\n",
    "for name,p in sig.parameters.items():\n",
    "     print(f'{name}, default value:{p.default}, kind:{p.kind}')"
   ]
  },
  {
   "cell_type": "code",
   "execution_count": 22,
   "metadata": {},
   "outputs": [
    {
     "output_type": "execute_result",
     "data": {
      "text/plain": "0"
     },
     "metadata": {},
     "execution_count": 22
    }
   ],
   "source": [
    "r = f(a=0,b=8)\n",
    "r[0]"
   ]
  },
  {
   "cell_type": "markdown",
   "metadata": {},
   "source": [
    "### star assignment,Py 3.5+\n",
    "PEP 448,Additional Unpacking Generalizations / PEP 3132 -- Extended iterable unpacking"
   ]
  },
  {
   "cell_type": "code",
   "execution_count": 41,
   "metadata": {},
   "outputs": [
    {
     "output_type": "display_data",
     "data": {
      "text/plain": "tuple"
     },
     "metadata": {}
    },
    {
     "output_type": "display_data",
     "data": {
      "text/plain": "(1, 2)"
     },
     "metadata": {}
    },
    {
     "output_type": "display_data",
     "data": {
      "text/plain": "list"
     },
     "metadata": {}
    },
    {
     "output_type": "display_data",
     "data": {
      "text/plain": "[[1, 2, 3], [4, 5, 6]]"
     },
     "metadata": {}
    }
   ],
   "source": [
    "a=1,2\n",
    "display(type(a),a)\n",
    "*a,=[[1,2,3],[4,5,6]]\n",
    "display(type(a),a)\n"
   ]
  },
  {
   "cell_type": "code",
   "execution_count": 73,
   "metadata": {
    "tags": []
   },
   "outputs": [
    {
     "output_type": "stream",
     "name": "stdout",
     "text": "<class 'list'> [3, 4, 5]\n<class 'list'> [6, 7, 8]\n<class 'list'> [3]\n1 2 3 4\n<class 'tuple'> (1, 2, 3, 4)\n<class 'list'> [1, 2, 3, 4]\n"
    }
   ],
   "source": [
    "# Whilst *elements, = iterable causes elements to be a list, elements = *iterable, causes elements to be a tuple.\n",
    "# *b, 类似于函数定义 fun(*arg,**kwargs)), * in left side means catch everything that isn't assigned to a name and assign it to the starred expression.\n",
    "*b,=3,4,5\n",
    "print(type(b),b) \n",
    "*b,=(6,7,8)\n",
    "print(type(b),b)\n",
    "*b,c,d=3,4,5\n",
    "print(type(b),b)\n",
    "\n",
    "iterable = [1,2,3,4]\n",
    "print(*iterable)\n",
    "b = *iterable, #可看做 b=1,2,3,4,It expands the contents of the iterable it is attached to.\n",
    "print(type(b),b)\n",
    "b=[*iterable]\n",
    "print(type(b),b)"
   ]
  },
  {
   "cell_type": "markdown",
   "metadata": {},
   "source": [
    "### *可变参数"
   ]
  },
  {
   "cell_type": "code",
   "execution_count": 74,
   "metadata": {
    "tags": []
   },
   "outputs": [
    {
     "output_type": "stream",
     "name": "stdout",
     "text": "<class 'tuple'> ()\n<class 'tuple'> (2, 3, 4)\n<class 'tuple'> ()\n<class 'tuple'> (2, 3, 4)\n<class 'tuple'> ([3, 4], 5)\n<class 'tuple'> (2, 3, 4)\n"
    }
   ],
   "source": [
    "def fun(a,*num):\n",
    "    print(type(num),num)\n",
    "fun(1) # 变长参数会转换成turple,这和*iterable是一直的,都是turple\n",
    "fun(1,2,3,4) \n",
    "fun([1,2,3,4])\n",
    "\n",
    "iterable = [1,2,3,4]\n",
    "fun(*iterable)\n",
    "iterable=([1,2],[3,4],5)\n",
    "fun(*iterable)\n",
    "iterable = {1:1,2:2,3:3,4:4} #*只解包dict的key\n",
    "fun(*iterable)"
   ]
  },
  {
   "cell_type": "markdown",
   "metadata": {},
   "source": [
    "### ***关键字参数"
   ]
  },
  {
   "cell_type": "code",
   "execution_count": 78,
   "metadata": {
    "tags": []
   },
   "outputs": [
    {
     "output_type": "stream",
     "name": "stdout",
     "text": "{'name': 'lhc', 'age': '30'}\n{'one': 1, 'two': 2, 'three': 3, 'four': 4}\n"
    },
    {
     "output_type": "error",
     "ename": "TypeError",
     "evalue": "fun() keywords must be strings",
     "traceback": [
      "\u001b[0;31m---------------------------------------------------------------------------\u001b[0m",
      "\u001b[0;31mTypeError\u001b[0m                                 Traceback (most recent call last)",
      "\u001b[0;32m<ipython-input-78-cfc2cbbe38ab>\u001b[0m in \u001b[0;36m<module>\u001b[0;34m\u001b[0m\n\u001b[1;32m      5\u001b[0m \u001b[0mfun\u001b[0m\u001b[0;34m(\u001b[0m\u001b[0;34m**\u001b[0m\u001b[0miterable\u001b[0m\u001b[0;34m)\u001b[0m\u001b[0;34m\u001b[0m\u001b[0;34m\u001b[0m\u001b[0m\n\u001b[1;32m      6\u001b[0m \u001b[0miterable\u001b[0m \u001b[0;34m=\u001b[0m \u001b[0;34m{\u001b[0m\u001b[0;36m1\u001b[0m\u001b[0;34m:\u001b[0m\u001b[0;36m1\u001b[0m\u001b[0;34m,\u001b[0m\u001b[0;36m2\u001b[0m\u001b[0;34m:\u001b[0m\u001b[0;36m2\u001b[0m\u001b[0;34m,\u001b[0m\u001b[0;36m3\u001b[0m\u001b[0;34m:\u001b[0m\u001b[0;36m3\u001b[0m\u001b[0;34m,\u001b[0m\u001b[0;36m4\u001b[0m\u001b[0;34m:\u001b[0m\u001b[0;36m4\u001b[0m\u001b[0;34m}\u001b[0m\u001b[0;34m\u001b[0m\u001b[0;34m\u001b[0m\u001b[0m\n\u001b[0;32m----> 7\u001b[0;31m \u001b[0mfun\u001b[0m\u001b[0;34m(\u001b[0m\u001b[0;34m**\u001b[0m\u001b[0miterable\u001b[0m\u001b[0;34m)\u001b[0m\u001b[0;34m\u001b[0m\u001b[0;34m\u001b[0m\u001b[0m\n\u001b[0m",
      "\u001b[0;31mTypeError\u001b[0m: fun() keywords must be strings"
     ]
    }
   ],
   "source": [
    "def fun(**kw):\n",
    "    print(kw)\n",
    "fun(name='lhc',age='30')\n",
    "iterable = {'one':1,'two':2,'three':3,'four':4} \n",
    "fun(**iterable)\n",
    "iterable = {1:1,2:2,3:3,4:4} #fun() keywords must be strings,即变量名必须是strings\n",
    "fun(**iterable)"
   ]
  },
  {
   "cell_type": "markdown",
   "metadata": {},
   "source": [
    "### 可变参数*之前的参数不能指定参数名"
   ]
  },
  {
   "cell_type": "code",
   "execution_count": 52,
   "metadata": {
    "tags": []
   },
   "outputs": [
    {
     "output_type": "stream",
     "name": "stdout",
     "text": "1 (2, 3)\n"
    },
    {
     "output_type": "error",
     "ename": "TypeError",
     "evalue": "fun() got an unexpected keyword argument 'num'",
     "traceback": [
      "\u001b[0;31m---------------------------------------------------------------------------\u001b[0m",
      "\u001b[0;31mTypeError\u001b[0m                                 Traceback (most recent call last)",
      "\u001b[0;32m<ipython-input-52-05af26c1d34c>\u001b[0m in \u001b[0;36m<module>\u001b[0;34m\u001b[0m\n\u001b[1;32m      2\u001b[0m     \u001b[0mprint\u001b[0m\u001b[0;34m(\u001b[0m\u001b[0ma\u001b[0m\u001b[0;34m,\u001b[0m\u001b[0mnum\u001b[0m\u001b[0;34m)\u001b[0m\u001b[0;34m\u001b[0m\u001b[0;34m\u001b[0m\u001b[0m\n\u001b[1;32m      3\u001b[0m \u001b[0mfun\u001b[0m\u001b[0;34m(\u001b[0m\u001b[0;36m1\u001b[0m\u001b[0;34m,\u001b[0m\u001b[0;36m2\u001b[0m\u001b[0;34m,\u001b[0m\u001b[0;36m3\u001b[0m\u001b[0;34m)\u001b[0m\u001b[0;34m\u001b[0m\u001b[0;34m\u001b[0m\u001b[0m\n\u001b[0;32m----> 4\u001b[0;31m \u001b[0mfun\u001b[0m\u001b[0;34m(\u001b[0m\u001b[0;36m1\u001b[0m\u001b[0;34m,\u001b[0m\u001b[0mnum\u001b[0m\u001b[0;34m=\u001b[0m\u001b[0;36m2\u001b[0m\u001b[0;34m)\u001b[0m\u001b[0;34m\u001b[0m\u001b[0;34m\u001b[0m\u001b[0m\n\u001b[0m",
      "\u001b[0;31mTypeError\u001b[0m: fun() got an unexpected keyword argument 'num'"
     ]
    }
   ],
   "source": [
    "def fun(a,*num):\n",
    "    print(a,num)\n",
    "fun(1,2,3)\n",
    "fun(1,num=2) # TypeError: fun() got an unexpected keyword argument 'num'"
   ]
  },
  {
   "cell_type": "code",
   "execution_count": null,
   "metadata": {},
   "outputs": [],
   "source": [
    "fun(a=1,2,3) #SyntaxError: positional argument follows keyword argument"
   ]
  },
  {
   "cell_type": "markdown",
   "metadata": {},
   "source": [
    "### 可变参数*之后的参数必须指定参数名"
   ]
  },
  {
   "cell_type": "code",
   "execution_count": 57,
   "metadata": {
    "tags": []
   },
   "outputs": [
    {
     "output_type": "stream",
     "name": "stdout",
     "text": "1 (2, 3, 4) None\n1 (2, 3) 1\n"
    }
   ],
   "source": [
    "def fun(a,*b,c=None):\n",
    "    print(a,b,c)\n",
    "fun(1,2,3,4) # 若c没有默认值c=None:TypeError: fun() missing 1 required keyword-only argument: 'c'\n",
    "fun(1,2,3,c=1)"
   ]
  },
  {
   "cell_type": "markdown",
   "metadata": {},
   "source": [
    "### 关键字参数只能作为最后一个参数\n",
    "关键字前面的参数按照位置赋值还是名称赋值都可以.  \n",
    "**顺序：位置参数（必选参数），默认参数，单星号参数或星号分隔符，关键字参数，双星号参数；**  \n",
    "默认参数和关键字参数很像,不要搞混,默认参数在加载时即赋值."
   ]
  },
  {
   "cell_type": "code",
   "execution_count": 79,
   "metadata": {
    "tags": []
   },
   "outputs": [
    {
     "output_type": "stream",
     "name": "stdout",
     "text": "1 (2, 3, 4) None {'m': 5, 'n': 6}\n1 () None {}\n1 (2,) None {}\n1 (2,) None {'q': 0}\n"
    }
   ],
   "source": [
    "def fun(a,*b,c=None,**d):\n",
    "    print(a,b,c,d)\n",
    "fun(1,2,3,4,m=5,n=6)\n",
    "fun(1)\n",
    "fun(1,2)\n",
    "fun(1,2,q=0)"
   ]
  },
  {
   "cell_type": "markdown",
   "metadata": {},
   "source": [
    "### 解包作为参数传入函数"
   ]
  },
  {
   "cell_type": "code",
   "execution_count": 70,
   "metadata": {
    "tags": []
   },
   "outputs": [
    {
     "output_type": "stream",
     "name": "stdout",
     "text": "1 2\n"
    },
    {
     "output_type": "error",
     "ename": "TypeError",
     "evalue": "fun() takes 2 positional arguments but 4 were given",
     "traceback": [
      "\u001b[0;31m---------------------------------------------------------------------------\u001b[0m",
      "\u001b[0;31mTypeError\u001b[0m                                 Traceback (most recent call last)",
      "\u001b[0;32m<ipython-input-70-48ce4146f244>\u001b[0m in \u001b[0;36m<module>\u001b[0;34m\u001b[0m\n\u001b[1;32m      4\u001b[0m \u001b[0mfun\u001b[0m\u001b[0;34m(\u001b[0m\u001b[0;34m*\u001b[0m\u001b[0miterable\u001b[0m\u001b[0;34m)\u001b[0m\u001b[0;34m\u001b[0m\u001b[0;34m\u001b[0m\u001b[0m\n\u001b[1;32m      5\u001b[0m \u001b[0miterable\u001b[0m \u001b[0;34m=\u001b[0m \u001b[0;34m[\u001b[0m\u001b[0;36m1\u001b[0m\u001b[0;34m,\u001b[0m\u001b[0;36m2\u001b[0m\u001b[0;34m,\u001b[0m\u001b[0;36m3\u001b[0m\u001b[0;34m,\u001b[0m\u001b[0;36m4\u001b[0m\u001b[0;34m]\u001b[0m\u001b[0;34m\u001b[0m\u001b[0;34m\u001b[0m\u001b[0m\n\u001b[0;32m----> 6\u001b[0;31m \u001b[0mfun\u001b[0m\u001b[0;34m(\u001b[0m\u001b[0;34m*\u001b[0m\u001b[0miterable\u001b[0m\u001b[0;34m)\u001b[0m \u001b[0;31m# TypeError: fun() takes 2 positional arguments but 4 were given\u001b[0m\u001b[0;34m\u001b[0m\u001b[0;34m\u001b[0m\u001b[0m\n\u001b[0m",
      "\u001b[0;31mTypeError\u001b[0m: fun() takes 2 positional arguments but 4 were given"
     ]
    }
   ],
   "source": [
    "def fun(a,b):\n",
    "    print(a,b)\n",
    "iterable = (1,2)\n",
    "fun(*iterable)\n",
    "iterable = [1,2,3,4]\n",
    "fun(*iterable) # TypeError: fun() takes 2 positional arguments but 4 were given"
   ]
  },
  {
   "cell_type": "code",
   "execution_count": 69,
   "metadata": {
    "tags": []
   },
   "outputs": [
    {
     "output_type": "stream",
     "name": "stdout",
     "text": "lhc's age is 30\n"
    }
   ],
   "source": [
    "person1 = {'name':'lhc','age':30}\n",
    "print(\"{name}'s age is {age}\".format(**person1))"
   ]
  },
  {
   "cell_type": "markdown",
   "metadata": {},
   "source": []
  },
  {
   "cell_type": "markdown",
   "metadata": {},
   "source": [
    "## 2.4支持函数式编程的包\n",
    "高阶函数演示."
   ]
  },
  {
   "cell_type": "code",
   "execution_count": 50,
   "metadata": {},
   "outputs": [
    {
     "output_type": "execute_result",
     "data": {
      "text/plain": "120"
     },
     "metadata": {},
     "execution_count": 50
    }
   ],
   "source": [
    "from functools import reduce\n",
    "from operator import mul\n",
    "\n",
    "def fact_re(n):\n",
    "    \"\"\" reduce 结合 mul 计算阶乘 \"\"\"\n",
    "    return reduce(mul,range(1,n+1))\n",
    "\n",
    "fact_re(5)"
   ]
  },
  {
   "cell_type": "markdown",
   "metadata": {},
   "source": [
    "### itemgetter()"
   ]
  },
  {
   "cell_type": "code",
   "execution_count": 2,
   "metadata": {
    "tags": []
   },
   "outputs": [
    {
     "output_type": "stream",
     "name": "stdout",
     "text": "('JP', 'Tokyo')\n('IN', 'Delhi NCR')\n('MX', 'Mexico City')\n('US', 'New York-Newark')\n('BR', 'Sao Paulo')\n"
    },
    {
     "output_type": "execute_result",
     "data": {
      "text/plain": "(40.808611, -74.020386)"
     },
     "metadata": {},
     "execution_count": 2
    }
   ],
   "source": [
    "from operator import itemgetter\n",
    "metro_data = [\n",
    "    ('Tokyo', 'JP', 36.933, (35.689722, 139.691667)),\n",
    "    ('Delhi NCR', 'IN', 21.935, (28.613889, 77.208889)),\n",
    "    ('Mexico City', 'MX', 20.142, (19.433333, -99.133333)),\n",
    "    ('New York-Newark', 'US', 20.104, (40.808611, -74.020386)),\n",
    "    ('Sao Paulo', 'BR', 19.649, (-23.547778, -46.635833)),\n",
    "]\n",
    "cc_name = itemgetter(1,0)\n",
    "for c in metro_data:\n",
    "     print(cc_name(c))\n",
    "\n",
    "itemgetter(3)(metro_data[3])"
   ]
  },
  {
   "cell_type": "markdown",
   "metadata": {},
   "source": [
    "### attrgetter() and namedtuple()"
   ]
  },
  {
   "cell_type": "code",
   "execution_count": 4,
   "metadata": {},
   "outputs": [
    {
     "output_type": "execute_result",
     "data": {
      "text/plain": "('Mexico City', 19.433333, -99.133333)"
     },
     "metadata": {},
     "execution_count": 4
    }
   ],
   "source": [
    "from operator import attrgetter\n",
    "from collections import namedtuple\n",
    "\n",
    "# 参数1是namedtuple的值\n",
    "LatLong = namedtuple('LL','lat long')\n",
    "Metro = namedtuple('Metro','name cc pop corrd')\n",
    "# name,cc,pop,(lat,long) 对元组进行拆包,并赋予名称\n",
    "# 之后给到namedtuple:Metro\n",
    "metro_area = [Metro(name,cc,pop,LatLong(lat,long)) for name,cc,pop,(lat,long) in metro_data]\n",
    "\n",
    "attrgetter('name','corrd.lat','corrd.long')(metro_area[2])"
   ]
  },
  {
   "cell_type": "markdown",
   "metadata": {},
   "source": [
    "### functools.partial"
   ]
  },
  {
   "cell_type": "code",
   "execution_count": 7,
   "metadata": {},
   "outputs": [
    {
     "output_type": "display_data",
     "data": {
      "text/plain": "21"
     },
     "metadata": {}
    },
    {
     "output_type": "display_data",
     "data": {
      "text/plain": "[3, 6, 9, 12, 15, 18, 21, 24, 27, 30]"
     },
     "metadata": {}
    }
   ],
   "source": [
    "from operator import mul\n",
    "from functools import partial\n",
    "\n",
    "triple = partial(mul,3)\n",
    "display(triple(7))\n",
    "display(list(map(triple,range(1,11))))"
   ]
  },
  {
   "cell_type": "markdown",
   "metadata": {},
   "source": [
    "### function 实现 策略模式"
   ]
  },
  {
   "cell_type": "code",
   "execution_count": 14,
   "metadata": {
    "tags": []
   },
   "outputs": [
    {
     "output_type": "stream",
     "name": "stdout",
     "text": "fidelity:999\n"
    },
    {
     "output_type": "display_data",
     "data": {
      "text/plain": "<Order total:3.20 due: 3.20>"
     },
     "metadata": {}
    },
    {
     "output_type": "stream",
     "name": "stdout",
     "text": "fidelity:999\n"
    },
    {
     "output_type": "display_data",
     "data": {
      "text/plain": "<Order total:3.50 due: 3.50>"
     },
     "metadata": {}
    },
    {
     "output_type": "stream",
     "name": "stdout",
     "text": "<class 'str'>\na\n<class 'str'>\nb\n<class 'str'>\nc\n<class 'str'>\na\n<class 'str'>\nb\n<class 'str'>\nc\n"
    }
   ],
   "source": [
    "from fluentpy.c6.order import Customer\n",
    "from fluentpy.c6.order import LineItem\n",
    "from fluentpy.c6.order import Order\n",
    "from fluentpy.c6.order import fidelity_promo\n",
    "\n",
    "lhc = Customer('LHC48052', 999)\n",
    "cart = [LineItem('banana',4,0.5),LineItem('apple',3,0.4)]\n",
    "display(Order(lhc,cart,fidelity_promo))\n",
    "\n",
    "cart = [LineItem('orange',5,0.7)]\n",
    "display(Order(lhc,cart,fidelity_promo))\n",
    "\n",
    "cart = 'abc'\n",
    "for i in cart:\n",
    "    print(type(i))\n",
    "    print(i)\n",
    "cart = list(list(cart))\n",
    "for i in cart:\n",
    "    print(type(i))\n",
    "    print(i)"
   ]
  },
  {
   "cell_type": "code",
   "execution_count": null,
   "metadata": {},
   "outputs": [],
   "source": []
  },
  {
   "cell_type": "markdown",
   "metadata": {},
   "source": [
    "# 3 Iterator and Generator\n",
    "From Fluent Python Chapter 14."
   ]
  },
  {
   "cell_type": "markdown",
   "metadata": {},
   "source": [
    "## Iterable 和 Iterator"
   ]
  },
  {
   "cell_type": "markdown",
   "metadata": {},
   "source": []
  },
  {
   "cell_type": "code",
   "execution_count": 4,
   "metadata": {
    "tags": []
   },
   "outputs": [
    {
     "output_type": "display_data",
     "data": {
      "text/plain": "Sentence 'Crazy world,...dinary world.'"
     },
     "metadata": {}
    },
    {
     "output_type": "stream",
     "name": "stdout",
     "text": "Crazy\nworld\nextraordinary\nworld\nCrazy\nworld\nextraordinary\nworld\n"
    },
    {
     "output_type": "error",
     "ename": "StopIteration",
     "evalue": "",
     "traceback": [
      "\u001b[0;31m---------------------------------------------------------------------------\u001b[0m",
      "\u001b[0;31mStopIteration\u001b[0m                             Traceback (most recent call last)",
      "\u001b[0;32m<ipython-input-4-102d83623dcb>\u001b[0m in \u001b[0;36m<module>\u001b[0;34m\u001b[0m\n\u001b[1;32m     12\u001b[0m \u001b[0;31m# for之后next()还有值,跟sentence1的实现有关\u001b[0m\u001b[0;34m\u001b[0m\u001b[0;34m\u001b[0m\u001b[0;34m\u001b[0m\u001b[0m\n\u001b[1;32m     13\u001b[0m \u001b[0;31m# sentence1 一次性把words构造出来,并且具备__getitem__()而没有__iter__()\u001b[0m\u001b[0;34m\u001b[0m\u001b[0;34m\u001b[0m\u001b[0;34m\u001b[0m\u001b[0m\n\u001b[0;32m---> 14\u001b[0;31m \u001b[0mnext\u001b[0m\u001b[0;34m(\u001b[0m\u001b[0mi\u001b[0m\u001b[0;34m)\u001b[0m\u001b[0;34m\u001b[0m\u001b[0;34m\u001b[0m\u001b[0m\n\u001b[0m",
      "\u001b[0;31mStopIteration\u001b[0m: "
     ]
    }
   ],
   "source": [
    "from fluentpy.c14.sentence import Sentence1\n",
    "\n",
    "s = Sentence1(\"Crazy world, extraordinary world.\")\n",
    "display(s)\n",
    "i = iter(s)\n",
    "for word in i:\n",
    "    print(word)\n",
    "\n",
    "for word in s:\n",
    "    print(word)\n",
    "\n",
    "# i 中已无可迭代的内容.\n",
    "next(i)"
   ]
  },
  {
   "cell_type": "code",
   "execution_count": 20,
   "metadata": {
    "tags": []
   },
   "outputs": [
    {
     "output_type": "stream",
     "name": "stdout",
     "text": "Crazy\nworld\nextraordinary\nworld\n"
    },
    {
     "output_type": "display_data",
     "data": {
      "text/plain": "'Crazy'"
     },
     "metadata": {}
    },
    {
     "output_type": "display_data",
     "data": {
      "text/plain": "'Crazy'"
     },
     "metadata": {}
    },
    {
     "output_type": "display_data",
     "data": {
      "text/plain": "'Crazy'"
     },
     "metadata": {}
    },
    {
     "output_type": "display_data",
     "data": {
      "text/plain": "'world'"
     },
     "metadata": {}
    },
    {
     "output_type": "display_data",
     "data": {
      "text/plain": "'extraordinary'"
     },
     "metadata": {}
    },
    {
     "output_type": "display_data",
     "data": {
      "text/plain": "'world'"
     },
     "metadata": {}
    },
    {
     "output_type": "error",
     "ename": "StopIteration",
     "evalue": "",
     "traceback": [
      "\u001b[0;31m---------------------------------------------------------------------------\u001b[0m",
      "\u001b[0;31mIndexError\u001b[0m                                Traceback (most recent call last)",
      "\u001b[0;32m~/dev/repo/prac_py/src/fluentpy/c14/sentence.py\u001b[0m in \u001b[0;36m__next__\u001b[0;34m(self)\u001b[0m\n\u001b[1;32m     45\u001b[0m         \u001b[0;32mtry\u001b[0m\u001b[0;34m:\u001b[0m\u001b[0;34m\u001b[0m\u001b[0;34m\u001b[0m\u001b[0m\n\u001b[0;32m---> 46\u001b[0;31m             \u001b[0mword\u001b[0m \u001b[0;34m=\u001b[0m \u001b[0mself\u001b[0m\u001b[0;34m.\u001b[0m\u001b[0mworlds\u001b[0m\u001b[0;34m[\u001b[0m\u001b[0mself\u001b[0m\u001b[0;34m.\u001b[0m\u001b[0mindex\u001b[0m\u001b[0;34m]\u001b[0m\u001b[0;34m\u001b[0m\u001b[0;34m\u001b[0m\u001b[0m\n\u001b[0m\u001b[1;32m     47\u001b[0m         \u001b[0;32mexcept\u001b[0m \u001b[0mIndexError\u001b[0m\u001b[0;34m:\u001b[0m\u001b[0;34m\u001b[0m\u001b[0;34m\u001b[0m\u001b[0m\n",
      "\u001b[0;31mIndexError\u001b[0m: list index out of range",
      "\nDuring handling of the above exception, another exception occurred:\n",
      "\u001b[0;31mStopIteration\u001b[0m                             Traceback (most recent call last)",
      "\u001b[0;32m<ipython-input-20-13e685f4df37>\u001b[0m in \u001b[0;36m<module>\u001b[0;34m\u001b[0m\n\u001b[1;32m     12\u001b[0m \u001b[0mi\u001b[0m \u001b[0;34m=\u001b[0m \u001b[0miter\u001b[0m\u001b[0;34m(\u001b[0m\u001b[0ms\u001b[0m\u001b[0;34m)\u001b[0m\u001b[0;34m\u001b[0m\u001b[0;34m\u001b[0m\u001b[0m\n\u001b[1;32m     13\u001b[0m \u001b[0;32mwhile\u001b[0m\u001b[0;34m(\u001b[0m\u001b[0;32mTrue\u001b[0m\u001b[0;34m)\u001b[0m\u001b[0;34m:\u001b[0m\u001b[0;34m\u001b[0m\u001b[0;34m\u001b[0m\u001b[0m\n\u001b[0;32m---> 14\u001b[0;31m     \u001b[0mdisplay\u001b[0m\u001b[0;34m(\u001b[0m\u001b[0mnext\u001b[0m\u001b[0;34m(\u001b[0m\u001b[0mi\u001b[0m\u001b[0;34m)\u001b[0m\u001b[0;34m)\u001b[0m\u001b[0;34m\u001b[0m\u001b[0;34m\u001b[0m\u001b[0m\n\u001b[0m\u001b[1;32m     15\u001b[0m \u001b[0;34m\u001b[0m\u001b[0m\n",
      "\u001b[0;32m~/dev/repo/prac_py/src/fluentpy/c14/sentence.py\u001b[0m in \u001b[0;36m__next__\u001b[0;34m(self)\u001b[0m\n\u001b[1;32m     46\u001b[0m             \u001b[0mword\u001b[0m \u001b[0;34m=\u001b[0m \u001b[0mself\u001b[0m\u001b[0;34m.\u001b[0m\u001b[0mworlds\u001b[0m\u001b[0;34m[\u001b[0m\u001b[0mself\u001b[0m\u001b[0;34m.\u001b[0m\u001b[0mindex\u001b[0m\u001b[0;34m]\u001b[0m\u001b[0;34m\u001b[0m\u001b[0;34m\u001b[0m\u001b[0m\n\u001b[1;32m     47\u001b[0m         \u001b[0;32mexcept\u001b[0m \u001b[0mIndexError\u001b[0m\u001b[0;34m:\u001b[0m\u001b[0;34m\u001b[0m\u001b[0;34m\u001b[0m\u001b[0m\n\u001b[0;32m---> 48\u001b[0;31m             \u001b[0;32mraise\u001b[0m \u001b[0mStopIteration\u001b[0m\u001b[0;34m(\u001b[0m\u001b[0;34m)\u001b[0m\u001b[0;34m\u001b[0m\u001b[0;34m\u001b[0m\u001b[0m\n\u001b[0m\u001b[1;32m     49\u001b[0m         \u001b[0mself\u001b[0m\u001b[0;34m.\u001b[0m\u001b[0mindex\u001b[0m \u001b[0;34m+=\u001b[0m \u001b[0;36m1\u001b[0m\u001b[0;34m\u001b[0m\u001b[0;34m\u001b[0m\u001b[0m\n\u001b[1;32m     50\u001b[0m         \u001b[0;32mreturn\u001b[0m \u001b[0mword\u001b[0m\u001b[0;34m\u001b[0m\u001b[0;34m\u001b[0m\u001b[0m\n",
      "\u001b[0;31mStopIteration\u001b[0m: "
     ]
    }
   ],
   "source": [
    "from fluentpy.c14.sentence import Sentence2\n",
    "\n",
    "s = Sentence2(\"Crazy world, extraordinary world.\")\n",
    "for word in s:\n",
    "    print(word)\n",
    "\n",
    "# iter()每次构造新的迭代器\n",
    "display(next(iter(s)))\n",
    "display(next(iter(s)))\n",
    "\n",
    "# 新的迭代器,重新开始\n",
    "# while 不会捕捉stopiteration异常\n",
    "i = iter(s)\n",
    "while(True):\n",
    "    display(next(i))\n",
    "\n"
   ]
  },
  {
   "cell_type": "markdown",
   "metadata": {},
   "source": [
    "## 迭代器中使用生成器函数 yield"
   ]
  },
  {
   "cell_type": "code",
   "execution_count": 7,
   "metadata": {
    "tags": []
   },
   "outputs": [
    {
     "output_type": "stream",
     "name": "stdout",
     "text": "in Sentence 3.\nSentence3\nin Sentence 3.\nCrazy\nin Sentence 3.\nworld\nin Sentence 3.\nextraordinary\nin Sentence 3.\nworld\nin Sentence 3.\n"
    },
    {
     "output_type": "execute_result",
     "data": {
      "text/plain": "'Sentence3'"
     },
     "metadata": {},
     "execution_count": 7
    }
   ],
   "source": [
    "from fluentpy.c14.sentence import Sentence3\n",
    "\n",
    "s = Sentence3(\"Sentence3, Crazy world, extraordinary world.\")\n",
    "for word in s:\n",
    "    print(word)\n",
    "\n",
    "next(iter(s))"
   ]
  },
  {
   "cell_type": "code",
   "execution_count": 6,
   "metadata": {
    "tags": []
   },
   "outputs": [
    {
     "output_type": "stream",
     "name": "stdout",
     "text": "Sentence\n4\nCrazy\nworld\nextraordinary\nworld\nend\nwith\nsentence\n4\n"
    },
    {
     "output_type": "execute_result",
     "data": {
      "text/plain": "'Sentence'"
     },
     "metadata": {},
     "execution_count": 6
    }
   ],
   "source": [
    "from fluentpy.c14.sentence import Sentence4\n",
    "\n",
    "s = Sentence4(\"Sentence 4, Crazy world, extraordinary world.\")\n",
    "for word in s:\n",
    "    print(word)\n"
   ]
  },
  {
   "cell_type": "markdown",
   "metadata": {},
   "source": [
    "## 生成器函数:yield from(广度和深度搜索)"
   ]
  },
  {
   "cell_type": "code",
   "execution_count": 5,
   "metadata": {
    "tags": []
   },
   "outputs": [
    {
     "output_type": "stream",
     "name": "stdout",
     "text": "before yield:Node(0)\nout print:Node(0)\nafter yield:Node(0)\nin for Node(1)\nbefore yield:Node(1)\nNode(1)\nafter yield:Node(1)\nin for Node(11)\nbefore yield:Node(11)\nNode(11)\nafter yield:Node(11)\nin for Node(12)\nbefore yield:Node(12)\nNode(12)\nafter yield:Node(12)\nin for Node(2)\nbefore yield:Node(2)\nNode(2)\nafter yield:Node(2)\nin for Node(21)\nbefore yield:Node(21)\nNode(21)\nafter yield:Node(21)\nin for Node(3)\nbefore yield:Node(3)\nNode(3)\nafter yield:Node(3)\nin for Node(31)\nbefore yield:Node(31)\nNode(31)\nafter yield:Node(31)\n======================\ninner print:before yield:Node(0)\nout print:Node(0)\ninner print:after yield:Node(0)\ninner print:before yield:Node(1)\nout print:Node(1)\ninner print:after yield:Node(1)\ninner print:before yield:Node(11)\nout print:Node(11)\ninner print:after yield:Node(11)\ninner print:before yield:Node(12)\nout print:Node(12)\ninner print:after yield:Node(12)\ninner print:before yield:Node(2)\nout print:Node(2)\ninner print:after yield:Node(2)\ninner print:before yield:Node(21)\nout print:Node(21)\ninner print:after yield:Node(21)\ninner print:before yield:Node(3)\nout print:Node(3)\ninner print:after yield:Node(3)\ninner print:before yield:Node(31)\nout print:Node(31)\ninner print:after yield:Node(31)\n======================\nout print:Node(0)\nout print:Node(1)\nout print:Node(2)\nout print:Node(3)\nout print:Node(11)\nout print:Node(12)\nout print:Node(21)\nout print:Node(31)\n"
    }
   ],
   "source": [
    "from pycookbook.c4.node44 import Node\n",
    "\n",
    "root = Node(0)\n",
    "c1 = Node(1)\n",
    "c2 = Node(2)\n",
    "c3 = Node(3)\n",
    "\n",
    "root.add_child(c1)\n",
    "root.add_child(c2)\n",
    "root.add_child(c3)\n",
    "\n",
    "c1.add_child(Node(11))\n",
    "c1.add_child(Node(12))\n",
    "c2.add_child(Node(21))\n",
    "c3.add_child(Node(31))\n",
    "\n",
    "for ch in root.depth_first():\n",
    "    print(f'out print:{ch}')\n",
    "\n",
    "print('======================')\n",
    "for ch in root.depth_first_yield_from():\n",
    "    print(f'out print:{ch}')\n",
    "\n",
    "print('======================')\n",
    "isRoot = True\n",
    "for ch in root.width_first(isRoot):\n",
    "    print(f'out print:{ch}')\n",
    "    isRoot = False"
   ]
  },
  {
   "cell_type": "markdown",
   "metadata": {},
   "source": [
    "# 4. Decroator"
   ]
  },
  {
   "cell_type": "markdown",
   "metadata": {},
   "source": [
    "## 4.1 装饰器加载即运行\n",
    "函数的默认参数也是这个在装载时运行."
   ]
  },
  {
   "cell_type": "code",
   "execution_count": 2,
   "metadata": {
    "tags": []
   },
   "outputs": [
    {
     "output_type": "stream",
     "name": "stdout",
     "text": "run register(<function f1 at 0x10d7f0e50>)\nrun register(<function f2 at 0x10d877940>)\n"
    }
   ],
   "source": [
    "import fluentpy.c7.regi as re\n",
    "\n"
   ]
  },
  {
   "cell_type": "code",
   "execution_count": 4,
   "metadata": {
    "tags": []
   },
   "outputs": [
    {
     "output_type": "display_data",
     "data": {
      "text/plain": "[<function fluentpy.c7.regi.f1()>, <function fluentpy.c7.regi.f2()>]"
     },
     "metadata": {}
    },
    {
     "output_type": "display_data",
     "data": {
      "text/plain": "'f1'"
     },
     "metadata": {}
    },
    {
     "output_type": "stream",
     "name": "stdout",
     "text": "running f1()\n"
    }
   ],
   "source": [
    "# 导入后registry即有值\n",
    "display(re.registry)\n",
    "# 装饰器返回的还是原函数,所以f1的元数据保持不变.\n",
    "display(re.f1.__name__)\n",
    "re.f1()"
   ]
  },
  {
   "cell_type": "code",
   "execution_count": 6,
   "metadata": {},
   "outputs": [
    {
     "output_type": "display_data",
     "data": {
      "text/plain": "10.0"
     },
     "metadata": {}
    },
    {
     "output_type": "display_data",
     "data": {
      "text/plain": "12.5"
     },
     "metadata": {}
    },
    {
     "output_type": "execute_result",
     "data": {
      "text/plain": "('new_value', 'total')"
     },
     "metadata": {},
     "execution_count": 6
    }
   ],
   "source": [
    "import fluentpy.c7.average as av\n",
    "\n",
    "# make_sum_average()运行后,生产出average\n",
    "mav = av.make_sum_average()\n",
    "display(mav(10))\n",
    "display(mav(15))\n",
    "mav.__code__.co_varnames"
   ]
  },
  {
   "cell_type": "code",
   "execution_count": 4,
   "metadata": {},
   "outputs": [
    {
     "output_type": "execute_result",
     "data": {
      "text/plain": "('series',)"
     },
     "metadata": {},
     "execution_count": 4
    }
   ],
   "source": [
    "mav.__code__.co_freevars"
   ]
  },
  {
   "cell_type": "code",
   "execution_count": 5,
   "metadata": {},
   "outputs": [
    {
     "output_type": "execute_result",
     "data": {
      "text/plain": "[10, 15]"
     },
     "metadata": {},
     "execution_count": 5
    }
   ],
   "source": [
    "# __closure__中保存着闭包的元素,本例中是series,cell_contents是series的值.\n",
    "mav.__closure__[0].cell_contents"
   ]
  },
  {
   "cell_type": "code",
   "execution_count": 16,
   "metadata": {},
   "outputs": [
    {
     "output_type": "execute_result",
     "data": {
      "text/plain": "11.0"
     },
     "metadata": {},
     "execution_count": 16
    }
   ],
   "source": [
    "mav = av.make_average()\n",
    "mav(10)\n",
    "mav(12)"
   ]
  },
  {
   "cell_type": "code",
   "execution_count": 10,
   "metadata": {},
   "outputs": [
    {
     "output_type": "error",
     "ename": "UnboundLocalError",
     "evalue": "local variable 'count' referenced before assignment",
     "traceback": [
      "\u001b[0;31m---------------------------------------------------------------------------\u001b[0m",
      "\u001b[0;31mUnboundLocalError\u001b[0m                         Traceback (most recent call last)",
      "\u001b[0;32m<ipython-input-10-2ff088019cf6>\u001b[0m in \u001b[0;36m<module>\u001b[0;34m\u001b[0m\n\u001b[1;32m      2\u001b[0m     \u001b[0mcount\u001b[0m \u001b[0;34m+=\u001b[0m \u001b[0;36m1\u001b[0m\u001b[0;34m\u001b[0m\u001b[0;34m\u001b[0m\u001b[0m\n\u001b[1;32m      3\u001b[0m     \u001b[0;32mreturn\u001b[0m \u001b[0mcount\u001b[0m\u001b[0;34m\u001b[0m\u001b[0;34m\u001b[0m\u001b[0m\n\u001b[0;32m----> 4\u001b[0;31m \u001b[0mx1\u001b[0m\u001b[0;34m(\u001b[0m\u001b[0;34m)\u001b[0m\u001b[0;34m\u001b[0m\u001b[0;34m\u001b[0m\u001b[0m\n\u001b[0m",
      "\u001b[0;32m<ipython-input-10-2ff088019cf6>\u001b[0m in \u001b[0;36mx1\u001b[0;34m()\u001b[0m\n\u001b[1;32m      1\u001b[0m \u001b[0;32mdef\u001b[0m \u001b[0mx1\u001b[0m\u001b[0;34m(\u001b[0m\u001b[0;34m)\u001b[0m\u001b[0;34m:\u001b[0m\u001b[0;34m\u001b[0m\u001b[0;34m\u001b[0m\u001b[0m\n\u001b[0;32m----> 2\u001b[0;31m     \u001b[0mcount\u001b[0m \u001b[0;34m+=\u001b[0m \u001b[0;36m1\u001b[0m\u001b[0;34m\u001b[0m\u001b[0;34m\u001b[0m\u001b[0m\n\u001b[0m\u001b[1;32m      3\u001b[0m     \u001b[0;32mreturn\u001b[0m \u001b[0mcount\u001b[0m\u001b[0;34m\u001b[0m\u001b[0;34m\u001b[0m\u001b[0m\n\u001b[1;32m      4\u001b[0m \u001b[0mx1\u001b[0m\u001b[0;34m(\u001b[0m\u001b[0;34m)\u001b[0m\u001b[0;34m\u001b[0m\u001b[0;34m\u001b[0m\u001b[0m\n",
      "\u001b[0;31mUnboundLocalError\u001b[0m: local variable 'count' referenced before assignment"
     ]
    }
   ],
   "source": [
    "def x1():\n",
    "    count += 1\n",
    "    return count\n",
    "x1()"
   ]
  },
  {
   "cell_type": "markdown",
   "metadata": {},
   "source": [
    "## 简单装饰器 timeit"
   ]
  },
  {
   "cell_type": "code",
   "execution_count": 3,
   "metadata": {
    "tags": []
   },
   "outputs": [
    {
     "output_type": "stream",
     "name": "stdout",
     "text": "******************** Calling snooze(0.5)\n00.50406557 snooze(0.5) --> None\n******************** Calling factorial(6),6!=\n00.00000097 factorial(1) --> 1\n00.00007083 factorial(2) --> 2\n00.00012478 factorial(3) --> 6\n00.00017559 factorial(4) --> 24\n00.00022486 factorial(5) --> 120\n00.00027752 factorial(6) --> 720\nAfter decroator,factorial --> clocked\n"
    }
   ],
   "source": [
    "import fluentpy.c7.usetimeit as ut\n",
    "\n",
    "print('*'*20,'Calling snooze(0.5)')\n",
    "ut.snooze(0.5)\n",
    "print('*'*20,'Calling factorial(6),6!=')\n",
    "ut.factorial(6)\n",
    "# 装饰器没有使用@wraps(),函数原来的信息丢失.\n",
    "print(f'After decroator,factorial --> {ut.factorial.__name__}')"
   ]
  },
  {
   "cell_type": "code",
   "execution_count": 11,
   "metadata": {
    "tags": []
   },
   "outputs": [
    {
     "output_type": "stream",
     "name": "stdout",
     "text": "00.00001494 fibonacci(1) --> 1\n00.00000086 fibonacci(0) --> 0\n00.00000080 fibonacci(1) --> 1\n00.00008431 fibonacci(2) --> 1\n00.00043836 fibonacci(3) --> 2\n00.00000041 fibonacci(0) --> 0\n00.00000043 fibonacci(1) --> 1\n00.00323095 fibonacci(2) --> 1\n00.00000070 fibonacci(1) --> 1\n00.00000075 fibonacci(0) --> 0\n00.00000091 fibonacci(1) --> 1\n00.00006189 fibonacci(2) --> 1\n00.00013084 fibonacci(3) --> 2\n00.00362917 fibonacci(4) --> 3\n00.00411098 fibonacci(5) --> 5\n"
    },
    {
     "output_type": "execute_result",
     "data": {
      "text/plain": "5"
     },
     "metadata": {},
     "execution_count": 11
    }
   ],
   "source": [
    "import fluentpy.c7.usetimeit as ut\n",
    "\n",
    "ut.fibonacci(5)"
   ]
  },
  {
   "cell_type": "code",
   "execution_count": 9,
   "metadata": {
    "tags": []
   },
   "outputs": [
    {
     "output_type": "stream",
     "name": "stdout",
     "text": "00.00000214 fibonacci_cache(10) --> 55\n"
    },
    {
     "output_type": "execute_result",
     "data": {
      "text/plain": "55"
     },
     "metadata": {},
     "execution_count": 9
    }
   ],
   "source": [
    "import fluentpy.c7.usetimeit as ut\n",
    "\n",
    "ut.fibonacci_cache(10)"
   ]
  },
  {
   "cell_type": "markdown",
   "metadata": {},
   "source": [
    "## 带参数的装饰器1\n",
    "fluentp C7-22.  \n",
    "注意闭包的自由变量registry作用域."
   ]
  },
  {
   "cell_type": "code",
   "execution_count": 2,
   "metadata": {
    "tags": []
   },
   "outputs": [
    {
     "output_type": "stream",
     "name": "stdout",
     "text": "registry:4504258592 it's len->0\nrunning register(active=False) -> decorate(<function f1 at 0x10c79cc10>)\ncomplete regi, registry:4504258592 it's len->0\nr:4504257696 it's len->0\nregistry:4504258592 it's len->0\nrunning register(active=False) -> decorate(<function f2 at 0x10c7ad160>)\ncomplete regi, registry:4504258592 it's len->0\nr:4504257696 it's len->0\nregistry:4504258592 it's len->0\nrunning register(active=True) -> decorate(<function f4 at 0x10c7ad700>)\ncomplete regi, registry:4504258592 it's len->1\nr:4504257696 it's len->1\nregistry:4504258592 it's len->1\nrunning register(active=True) -> decorate(<function f5 at 0x10c7adc10>)\ncomplete regi, registry:4504258592 it's len->2\nr:4504257696 it's len->2\n"
    }
   ],
   "source": [
    "import fluentpy.c7.regi_param as regi_p\n",
    "\n",
    "# 加载即运行,但装饰器每次一个新的register,导致registry没有累加\n",
    "# 如果需要不断累加,像fluentpy C7.22中一样,把registry定义在module级别\n",
    "# 这个主要想看下如何获取闭包的变量,如pycookbook C7.12"
   ]
  },
  {
   "cell_type": "code",
   "execution_count": 3,
   "metadata": {
    "tags": []
   },
   "outputs": [
    {
     "output_type": "display_data",
     "data": {
      "text/plain": "<function fluentpy.c7.regi_param.register(active=False, r={<function f4 at 0x10c7ad700>, <function f5 at 0x10c7adc10>})>"
     },
     "metadata": {}
    },
    {
     "output_type": "stream",
     "name": "stdout",
     "text": "registry:4504258592 it's len->2\n"
    },
    {
     "output_type": "display_data",
     "data": {
      "text/plain": "<function fluentpy.c7.regi_param.register.<locals>.decorate(func)>"
     },
     "metadata": {}
    },
    {
     "output_type": "stream",
     "name": "stdout",
     "text": "running register(active=True) -> decorate(<function f1 at 0x10c79cc10>)\ncomplete regi, registry:4504258592 it's len->3\nr:4504257696 it's len->3\n"
    },
    {
     "output_type": "display_data",
     "data": {
      "text/plain": "<function fluentpy.c7.regi_param.f1()>"
     },
     "metadata": {}
    },
    {
     "output_type": "stream",
     "name": "stdout",
     "text": "running f1()\n"
    },
    {
     "output_type": "display_data",
     "data": {
      "text/plain": "3"
     },
     "metadata": {}
    },
    {
     "output_type": "stream",
     "name": "stdout",
     "text": "running register(active=True) -> decorate(<function f3 at 0x10c7ad040>)\ncomplete regi, registry:4504258592 it's len->4\nr:4504257696 it's len->4\n"
    },
    {
     "output_type": "display_data",
     "data": {
      "text/plain": "4"
     },
     "metadata": {}
    },
    {
     "output_type": "stream",
     "name": "stdout",
     "text": "running f3()\n"
    }
   ],
   "source": [
    "f = regi_p.register\n",
    "display(f)\n",
    "# 手动注册,一直使用装饰器的引用\n",
    "deco = f(active=True)\n",
    "display(deco)\n",
    "f_run = deco(regi_p.f1)\n",
    "display(f_run)\n",
    "# run f1()\n",
    "f_run()\n",
    "display(len(deco.get_registry()))\n",
    "f_run = deco(regi_p.f3)\n",
    "display(len(deco.get_registry()))\n",
    "# run f3()\n",
    "f_run()"
   ]
  },
  {
   "cell_type": "code",
   "execution_count": 4,
   "metadata": {
    "tags": []
   },
   "outputs": [
    {
     "output_type": "stream",
     "name": "stdout",
     "text": "registry:4504258592 it's len->4\nrunning register(active=True) -> decorate(<function f3 at 0x10c7ad040>)\ncomplete regi, registry:4504258592 it's len->4\nr:4504257696 it's len->4\nrunning f3()\n"
    }
   ],
   "source": [
    "g = regi_p.register\n",
    "deco = g(active=True)\n",
    "f_run= deco(regi_p.f3)\n",
    "f_run()"
   ]
  },
  {
   "cell_type": "markdown",
   "metadata": {},
   "source": [
    "## 带参数的装饰器2\n",
    "pycookbook C9.2和C9.4"
   ]
  },
  {
   "cell_type": "code",
   "execution_count": 2,
   "metadata": {
    "tags": []
   },
   "outputs": [
    {
     "output_type": "stream",
     "name": "stdout",
     "text": "wraps(func)->functools.partial(<function update_wrapper at 0x10af9e310>, wrapped=<function add at 0x10cd42820>, assigned=('__module__', '__name__', '__qualname__', '__doc__', '__annotations__'), updated=('__dict__',))\nwrapper-><function logged.<locals>.decorate.<locals>.wrapper at 0x10cd428b0>\nwraps(func)(wrapper)-><function add at 0x10cd428b0>\nwraps(func)->functools.partial(<function update_wrapper at 0x10af9e310>, wrapped=<function spam at 0x10cd42d30>, assigned=('__module__', '__name__', '__qualname__', '__doc__', '__annotations__'), updated=('__dict__',))\nwrapper-><function logged.<locals>.decorate.<locals>.wrapper at 0x10cd42dc0>\nwraps(func)(wrapper)-><function spam at 0x10cd42dc0>\n"
    },
    {
     "output_type": "display_data",
     "data": {
      "text/plain": "<function pycookbook.c9.logged.add(x, y)>"
     },
     "metadata": {}
    },
    {
     "output_type": "display_data",
     "data": {
      "text/plain": "<function pycookbook.c9.logged.add(x, y)>"
     },
     "metadata": {}
    },
    {
     "output_type": "stream",
     "name": "stderr",
     "text": "DEBUG:pycookbook.c9.logged:add\n"
    },
    {
     "output_type": "display_data",
     "data": {
      "text/plain": "5"
     },
     "metadata": {}
    },
    {
     "output_type": "stream",
     "name": "stderr",
     "text": "DEBUG:pycookbook.c9.logged:add\n"
    },
    {
     "output_type": "execute_result",
     "data": {
      "text/plain": "9"
     },
     "metadata": {},
     "execution_count": 2
    }
   ],
   "source": [
    "from pycookbook.c9.logged import *\n",
    "import logging\n",
    "\n",
    "logging.basicConfig(level=logging.DEBUG)\n",
    "x = add\n",
    "display(x)\n",
    "display(x.__wrapped__)\n",
    "display(x(2,3))\n",
    "x(4,5)"
   ]
  },
  {
   "cell_type": "markdown",
   "metadata": {},
   "source": [
    "解构logged这个装饰器的运行机制"
   ]
  },
  {
   "cell_type": "code",
   "execution_count": 3,
   "metadata": {
    "tags": []
   },
   "outputs": [
    {
     "output_type": "stream",
     "name": "stderr",
     "text": "CRITICAL:__main__:addIt\n"
    },
    {
     "output_type": "display_data",
     "data": {
      "text/plain": "<function pycookbook.c9.logged.logged.<locals>.decorate(func)>"
     },
     "metadata": {}
    },
    {
     "output_type": "display_data",
     "data": {
      "text/plain": "<function __main__.addIt(x, y)>"
     },
     "metadata": {}
    },
    {
     "output_type": "stream",
     "name": "stderr",
     "text": "CRITICAL:__main__:addIt\n"
    },
    {
     "output_type": "execute_result",
     "data": {
      "text/plain": "7"
     },
     "metadata": {},
     "execution_count": 3
    }
   ],
   "source": [
    "from pycookbook.c9.logged import *\n",
    "import logging\n",
    "\n",
    "logging.basicConfig(level=logging.DEBUG)\n",
    "\n",
    "def addIt(x,y):\n",
    "    return x+y\n",
    "\n",
    "logged(logging.CRITICAL)(addIt)(2,3)\n",
    "\n",
    "f = logged(logging.CRITICAL)\n",
    "display(f)\n",
    "f = f(addIt)\n",
    "# 由于@wraps的存在,这里保留了addIt的元信息.\n",
    "# 否则返回: <function pycookbook.c9.logged.logged.<locals>.decorate.<locals>.wrapper(*args, **kwargs)>\n",
    "# 如果返回了被decorate的func,就可以用实际参数进行调用了.\n",
    "display(f)\n",
    "f(3,4)"
   ]
  },
  {
   "cell_type": "markdown",
   "metadata": {},
   "source": [
    "## 带参数的装饰器3\n",
    "pycookbook C9.6"
   ]
  },
  {
   "cell_type": "code",
   "execution_count": 2,
   "metadata": {
    "tags": []
   },
   "outputs": [
    {
     "output_type": "stream",
     "name": "stdout",
     "text": "Condition func not None, execute loggeds with func...\nfunc is None. get attatch_wrapper...\nfunc is not None, execute attach_wrapper with func\nfunc is None. get attatch_wrapper...\nfunc is not None, execute attach_wrapper with func\n"
    }
   ],
   "source": [
    "from pycookbook.c9.loggeds import *\n",
    "import logging\n",
    "\n",
    "logging.basicConfig(level=logging.DEBUG)\n",
    "\n",
    "@loggeds\n",
    "def addIt(x,y):\n",
    "    return x+y\n",
    "\n"
   ]
  },
  {
   "cell_type": "code",
   "execution_count": 3,
   "metadata": {
    "tags": []
   },
   "outputs": [
    {
     "output_type": "stream",
     "name": "stderr",
     "text": "DEBUG:__main__:addIt\n"
    },
    {
     "output_type": "display_data",
     "data": {
      "text/plain": "5"
     },
     "metadata": {}
    },
    {
     "output_type": "stream",
     "name": "stdout",
     "text": "**********\nCondition func=None,return func loggeds...\nCondition func not None,return func loggeds...\nget attatch_wrapper...\nget attatch_wrapper...\n"
    },
    {
     "output_type": "display_data",
     "data": {
      "text/plain": "'addParam test'"
     },
     "metadata": {}
    },
    {
     "output_type": "stream",
     "name": "stderr",
     "text": "CRITICAL:param example:addParam test\n"
    },
    {
     "output_type": "display_data",
     "data": {
      "text/plain": "6"
     },
     "metadata": {}
    },
    {
     "output_type": "display_data",
     "data": {
      "text/plain": "'静态用法:'"
     },
     "metadata": {}
    },
    {
     "output_type": "display_data",
     "data": {
      "text/plain": "'addParam test'"
     },
     "metadata": {}
    },
    {
     "output_type": "display_data",
     "data": {
      "text/plain": "'用函数:'"
     },
     "metadata": {}
    },
    {
     "output_type": "display_data",
     "data": {
      "text/plain": "'new_msg'"
     },
     "metadata": {}
    },
    {
     "output_type": "display_data",
     "data": {
      "text/plain": "'动态用法:'"
     },
     "metadata": {}
    },
    {
     "output_type": "display_data",
     "data": {
      "text/plain": "'new_msg'"
     },
     "metadata": {}
    },
    {
     "output_type": "stream",
     "name": "stderr",
     "text": "CRITICAL:param example:new_msg\n"
    },
    {
     "output_type": "display_data",
     "data": {
      "text/plain": "8"
     },
     "metadata": {}
    }
   ],
   "source": [
    "display(addIt(2,3))\n",
    "# log在函数定义时先执行了,等待addParam(3,3)的时候再执行.\n",
    "print('*'*10)\n",
    "\n",
    "@loggeds(level=logging.CRITICAL,message='addParam test',name='param example')\n",
    "def addParam(x,y):\n",
    "    return x+y\n",
    "\n",
    "# 以下访问闭包属性\n",
    "f = addParam\n",
    "display(f.logmsg)\n",
    "display(f(3,3))\n",
    "f.set_msg('new_msg')\n",
    "display('静态用法:',f.logmsg)\n",
    "display('用函数:',f.msg_it())\n",
    "display('动态用法:',f.get_msg())\n",
    "display(f(4,4))"
   ]
  },
  {
   "cell_type": "code",
   "execution_count": 6,
   "metadata": {},
   "outputs": [],
   "source": [
    "from pycookbook.c9.loggeds import *\n",
    "import logging"
   ]
  },
  {
   "cell_type": "markdown",
   "metadata": {},
   "source": [
    "loggeds运行时机和装饰器机制有关.见装饰器2的结构部分  \n",
    "相当于loggeds(addIt),运行loggeds一次,func is not None"
   ]
  },
  {
   "cell_type": "code",
   "execution_count": 8,
   "metadata": {
    "tags": []
   },
   "outputs": [
    {
     "output_type": "stream",
     "name": "stdout",
     "text": "Condition func not None,return func loggeds...\nget attatch_wrapper...\nget attatch_wrapper...\n"
    }
   ],
   "source": [
    "@loggeds\n",
    "def addIt(x,y):\n",
    "    return x+y"
   ]
  },
  {
   "cell_type": "code",
   "execution_count": 9,
   "metadata": {
    "tags": []
   },
   "outputs": [
    {
     "output_type": "stream",
     "name": "stderr",
     "text": "DEBUG:__main__:addIt\n"
    },
    {
     "output_type": "execute_result",
     "data": {
      "text/plain": "7"
     },
     "metadata": {},
     "execution_count": 9
    }
   ],
   "source": [
    "addIt(3,4)"
   ]
  },
  {
   "cell_type": "markdown",
   "metadata": {},
   "source": [
    "相当于loggeds(level=...)(addParam)  \n",
    "第一次运行func is None,返回partial(loggeds,...)即还是loggeds,再次运行时func is not None"
   ]
  },
  {
   "cell_type": "code",
   "execution_count": 7,
   "metadata": {
    "tags": []
   },
   "outputs": [
    {
     "output_type": "stream",
     "name": "stdout",
     "text": "Condition func=None,return func loggeds...\nCondition func not None,return func loggeds...\nget attatch_wrapper...\nget attatch_wrapper...\n"
    }
   ],
   "source": [
    "\n",
    "@loggeds(level=logging.CRITICAL,message='addParam test',name='param example')\n",
    "def addParam(x,y):\n",
    "    return x+y"
   ]
  },
  {
   "cell_type": "markdown",
   "metadata": {},
   "source": [
    "## 将装饰器定义为类pycb C9.9"
   ]
  },
  {
   "cell_type": "code",
   "execution_count": 3,
   "metadata": {
    "tags": []
   },
   "outputs": [
    {
     "output_type": "stream",
     "name": "stdout",
     "text": "in __init__(),wraps(func),f:functools.partial(<function update_wrapper at 0x104cc6310>, wrapped=<function add at 0x1081b6c10>, assigned=('__module__', '__name__', '__qualname__', '__doc__', '__annotations__'), updated=('__dict__',))\n**********\nself: <pycookbook.c9.profiled.Profiled object at 0x1082cd340>\n**********\nin __init__(),f(self),f:<pycookbook.c9.profiled.Profiled object at 0x1082cd340>\n"
    }
   ],
   "source": [
    "from pycookbook.c9.profiled import Profiled\n",
    "\n",
    "@Profiled\n",
    "def add(x,y):\n",
    "    return x+y"
   ]
  },
  {
   "cell_type": "code",
   "execution_count": 4,
   "metadata": {
    "tags": []
   },
   "outputs": [
    {
     "output_type": "stream",
     "name": "stdout",
     "text": "in __call__()...\nncalls:... 1\n"
    },
    {
     "output_type": "execute_result",
     "data": {
      "text/plain": "7"
     },
     "metadata": {},
     "execution_count": 4
    }
   ],
   "source": [
    "add(3,4)"
   ]
  },
  {
   "cell_type": "code",
   "execution_count": 3,
   "metadata": {
    "tags": []
   },
   "outputs": [
    {
     "output_type": "stream",
     "name": "stdout",
     "text": "in __init__(),wraps(func)->functools.partial(<function update_wrapper at 0x10af9e310>, wrapped=<function addIt at 0x10cd42e50>, assigned=('__module__', '__name__', '__qualname__', '__doc__', '__annotations__'), updated=('__dict__',))\n**********\nself: <pycookbook.c9.profiled.Profiled object at 0x10cb6fc40>\n**********\nin __init__(),f(self)-><pycookbook.c9.profiled.Profiled object at 0x10cb6fc40>\n***p:<pycookbook.c9.profiled.Profiled object at 0x10cb6fc40>,p.__wrapped__:<function addIt at 0x10cd42e50>\nin __call__()...\nncalls:... 1\n"
    },
    {
     "output_type": "execute_result",
     "data": {
      "text/plain": "7"
     },
     "metadata": {},
     "execution_count": 3
    }
   ],
   "source": [
    "from pycookbook.c9.profiled import Profiled\n",
    "\n",
    "def addIt(x,y):\n",
    "    return x+y\n",
    "\n",
    "p = Profiled(addIt)\n",
    "print(f'***p:{p},p.__wrapped__:{p.__wrapped__}')\n",
    "# p有__call__()函数,可调用,addIt(3,4)等同于p(3,4)\n",
    "p(3,4)"
   ]
  },
  {
   "cell_type": "code",
   "execution_count": null,
   "metadata": {},
   "outputs": [],
   "source": [
    "from pycookbook.c9.profiled import Profiled\n",
    "from functools import wraps\n",
    "\n",
    "def addIt(x,y):\n",
    "    return x+y"
   ]
  },
  {
   "cell_type": "markdown",
   "metadata": {},
   "source": [
    "## 使用装饰器动态添加函数的参数 C9.11"
   ]
  },
  {
   "cell_type": "code",
   "execution_count": 2,
   "metadata": {},
   "outputs": [],
   "source": [
    "from pycookbook.c9.option_debug import *\n",
    "\n",
    "@optional_debug\n",
    "def add(x,y):\n",
    "    return x+y"
   ]
  },
  {
   "cell_type": "code",
   "execution_count": 3,
   "metadata": {
    "tags": []
   },
   "outputs": [
    {
     "output_type": "stream",
     "name": "stdout",
     "text": "Calling add\n"
    },
    {
     "output_type": "display_data",
     "data": {
      "text/plain": "5"
     },
     "metadata": {}
    }
   ],
   "source": [
    "display(add(2,3))"
   ]
  },
  {
   "cell_type": "code",
   "execution_count": 4,
   "metadata": {},
   "outputs": [
    {
     "output_type": "display_data",
     "data": {
      "text/plain": "<Signature (x, y, *, debug=True)>"
     },
     "metadata": {}
    }
   ],
   "source": [
    "import inspect\n",
    "display(inspect.signature(add))"
   ]
  },
  {
   "cell_type": "markdown",
   "metadata": {},
   "source": [
    "# 5. Object Oriented"
   ]
  },
  {
   "cell_type": "markdown",
   "metadata": {},
   "source": [
    "## 函数参数是默认参数时\n",
    "HauntedBus隐藏的bug."
   ]
  },
  {
   "cell_type": "code",
   "execution_count": 3,
   "metadata": {},
   "outputs": [
    {
     "output_type": "display_data",
     "data": {
      "text/plain": "['lhc']"
     },
     "metadata": {}
    },
    {
     "output_type": "display_data",
     "data": {
      "text/plain": "['gxt']"
     },
     "metadata": {}
    }
   ],
   "source": [
    "from fluentpy.c8.HauntedBus import HauntedBus\n",
    "\n",
    "# 初始化有参数时无任何问题\n",
    "bus1 = HauntedBus(['lhc'])\n",
    "display(bus1.passengers)\n",
    "bus1.pick('gxt')\n",
    "bus1.drop('lhc')\n",
    "display(bus1.passengers)\n"
   ]
  },
  {
   "cell_type": "code",
   "execution_count": 5,
   "metadata": {},
   "outputs": [
    {
     "output_type": "display_data",
     "data": {
      "text/plain": "['haunt', 'haunt']"
     },
     "metadata": {}
    },
    {
     "output_type": "display_data",
     "data": {
      "text/plain": "['haunt', 'haunt']"
     },
     "metadata": {}
    }
   ],
   "source": [
    "bus2 = HauntedBus()\n",
    "bus2.pick('haunt')\n",
    "display(bus2.passengers)\n",
    "\n",
    "# 函数默认值在定义函数时计算,即在module加载时进行\n",
    "bus3 = HauntedBus()\n",
    "display(bus3.passengers)"
   ]
  },
  {
   "cell_type": "markdown",
   "metadata": {},
   "source": [
    "## SchoolBus \n",
    "正确的做法."
   ]
  },
  {
   "cell_type": "code",
   "execution_count": 4,
   "metadata": {},
   "outputs": [
    {
     "output_type": "display_data",
     "data": {
      "text/plain": "['lhc']"
     },
     "metadata": {}
    },
    {
     "output_type": "display_data",
     "data": {
      "text/plain": "['gcq']"
     },
     "metadata": {}
    }
   ],
   "source": [
    "from fluentpy.c8.SchoolBus import SchoolBus\n",
    "\n",
    "bus1 = SchoolBus()\n",
    "bus1.pick('lhc')\n",
    "display(bus1.passengers)\n",
    "\n",
    "bus2 = SchoolBus()\n",
    "bus2.pick('gcq')\n",
    "display(bus2.passengers)"
   ]
  },
  {
   "cell_type": "markdown",
   "metadata": {},
   "source": [
    "## Vector2d_v0: fulentpy C9.1\n",
    "实现默认方法,不是每个类都需要这么实现,如果要借助内置方法如abs(),repr(),str()即可实现其方法,__iter__()使对象内容可迭代,即可用在类似于tuple()和list()之中."
   ]
  },
  {
   "cell_type": "code",
   "execution_count": 6,
   "metadata": {},
   "outputs": [
    {
     "output_type": "display_data",
     "data": {
      "text/plain": "5.0"
     },
     "metadata": {}
    },
    {
     "output_type": "display_data",
     "data": {
      "text/plain": "True"
     },
     "metadata": {}
    },
    {
     "output_type": "error",
     "ename": "IndexError",
     "evalue": "Replacement index 2 out of range for positional args tuple",
     "traceback": [
      "\u001b[0;31m---------------------------------------------------------------------------\u001b[0m",
      "\u001b[0;31mIndexError\u001b[0m                                Traceback (most recent call last)",
      "\u001b[0;32m<ipython-input-6-9e05be8b5104>\u001b[0m in \u001b[0;36m<module>\u001b[0;34m\u001b[0m\n\u001b[1;32m      5\u001b[0m \u001b[0mdisplay\u001b[0m\u001b[0;34m(\u001b[0m\u001b[0mabs\u001b[0m\u001b[0;34m(\u001b[0m\u001b[0mv\u001b[0m\u001b[0;34m)\u001b[0m\u001b[0;34m)\u001b[0m\u001b[0;34m\u001b[0m\u001b[0;34m\u001b[0m\u001b[0m\n\u001b[1;32m      6\u001b[0m \u001b[0mdisplay\u001b[0m\u001b[0;34m(\u001b[0m\u001b[0mop\u001b[0m\u001b[0;34m.\u001b[0m\u001b[0meq\u001b[0m\u001b[0;34m(\u001b[0m\u001b[0mv\u001b[0m\u001b[0;34m,\u001b[0m\u001b[0;34m(\u001b[0m\u001b[0;36m3\u001b[0m\u001b[0;34m,\u001b[0m\u001b[0;36m4\u001b[0m\u001b[0;34m)\u001b[0m\u001b[0;34m)\u001b[0m\u001b[0;34m)\u001b[0m\u001b[0;34m\u001b[0m\u001b[0;34m\u001b[0m\u001b[0m\n\u001b[0;32m----> 7\u001b[0;31m \u001b[0mdisplay\u001b[0m\u001b[0;34m(\u001b[0m\u001b[0;34m\"{}({!r},{!r})\"\u001b[0m\u001b[0;34m.\u001b[0m\u001b[0mformat\u001b[0m\u001b[0;34m(\u001b[0m\u001b[0;34m*\u001b[0m\u001b[0;34m[\u001b[0m\u001b[0;36m1\u001b[0m\u001b[0;34m,\u001b[0m\u001b[0;36m2\u001b[0m\u001b[0;34m]\u001b[0m\u001b[0;34m)\u001b[0m\u001b[0;34m)\u001b[0m\u001b[0;34m\u001b[0m\u001b[0;34m\u001b[0m\u001b[0m\n\u001b[0m",
      "\u001b[0;31mIndexError\u001b[0m: Replacement index 2 out of range for positional args tuple"
     ]
    }
   ],
   "source": [
    "import operator as op\n",
    "from fluentpy.c9.vector2d_v0 import Vector2d\n",
    "\n",
    "v = Vector2d(3,4)\n",
    "display(abs(v))\n",
    "display(op.eq(v,(3,4)))\n",
    "display(\"{}({!r},{!r})\".format(*[1,2]))"
   ]
  },
  {
   "cell_type": "code",
   "execution_count": 9,
   "metadata": {},
   "outputs": [
    {
     "output_type": "display_data",
     "data": {
      "text/plain": "[3, 4]"
     },
     "metadata": {}
    },
    {
     "output_type": "execute_result",
     "data": {
      "text/plain": "2"
     },
     "metadata": {},
     "execution_count": 9
    }
   ],
   "source": [
    "display(list(v))\n",
    "len(list(v))"
   ]
  },
  {
   "cell_type": "code",
   "execution_count": 50,
   "metadata": {
    "tags": []
   },
   "outputs": [
    {
     "output_type": "stream",
     "name": "stdout",
     "text": "***** in __bytes__()\n"
    },
    {
     "output_type": "display_data",
     "data": {
      "text/plain": "b'd\\x00\\x00\\x00\\x00\\x00\\x00\\x08@\\x00\\x00\\x00\\x00\\x00\\x00\\x10@'"
     },
     "metadata": {}
    },
    {
     "output_type": "display_data",
     "data": {
      "text/plain": "'a'"
     },
     "metadata": {}
    },
    {
     "output_type": "display_data",
     "data": {
      "text/plain": "'d'"
     },
     "metadata": {}
    },
    {
     "output_type": "display_data",
     "data": {
      "text/plain": "b'\\x00\\x00\\x00\\x00\\x00\\x00\\x08@\\x00\\x00\\x00\\x00\\x00\\x00\\x10@'"
     },
     "metadata": {}
    },
    {
     "output_type": "display_data",
     "data": {
      "text/plain": "Vector2d(3.0,4.0)"
     },
     "metadata": {}
    },
    {
     "output_type": "display_data",
     "data": {
      "text/plain": "True"
     },
     "metadata": {}
    }
   ],
   "source": [
    "v = Vector2d(3,4)\n",
    "# 调用vector2d 自定义的__bytes__()\n",
    "b = bytes(v)\n",
    "display(b)\n",
    "\n",
    "display(chr(b[0]))\n",
    "display(b[1:])\n",
    "v1 = Vector2d.frombytes(b)\n",
    "display(v1)\n",
    "display(v == v1)"
   ]
  },
  {
   "cell_type": "markdown",
   "metadata": {},
   "source": [
    "## @property"
   ]
  },
  {
   "cell_type": "code",
   "execution_count": 4,
   "metadata": {},
   "outputs": [
    {
     "output_type": "display_data",
     "data": {
      "text/plain": "'coolfish'"
     },
     "metadata": {}
    },
    {
     "output_type": "display_data",
     "data": {
      "text/plain": "'coolfish007'"
     },
     "metadata": {}
    }
   ],
   "source": [
    "from pycookbook.c8.person import *\n",
    "\n",
    "p = Person('coolfish')\n",
    "display(p.first_name)\n",
    "p.first_name='coolfish007'\n",
    "display(p.first_name)"
   ]
  },
  {
   "cell_type": "code",
   "execution_count": 5,
   "metadata": {},
   "outputs": [
    {
     "output_type": "error",
     "ename": "TypeError",
     "evalue": "Expected a string",
     "traceback": [
      "\u001b[0;31m---------------------------------------------------------------------------\u001b[0m",
      "\u001b[0;31mTypeError\u001b[0m                                 Traceback (most recent call last)",
      "\u001b[0;32m<ipython-input-5-edcaf28493bb>\u001b[0m in \u001b[0;36m<module>\u001b[0;34m\u001b[0m\n\u001b[1;32m      1\u001b[0m \u001b[0;32mfrom\u001b[0m \u001b[0mpycookbook\u001b[0m\u001b[0;34m.\u001b[0m\u001b[0mc8\u001b[0m\u001b[0;34m.\u001b[0m\u001b[0mperson\u001b[0m \u001b[0;32mimport\u001b[0m \u001b[0;34m*\u001b[0m\u001b[0;34m\u001b[0m\u001b[0;34m\u001b[0m\u001b[0m\n\u001b[1;32m      2\u001b[0m \u001b[0;34m\u001b[0m\u001b[0m\n\u001b[0;32m----> 3\u001b[0;31m \u001b[0mp\u001b[0m \u001b[0;34m=\u001b[0m \u001b[0mPerson\u001b[0m\u001b[0;34m(\u001b[0m\u001b[0;36m42\u001b[0m\u001b[0;34m)\u001b[0m\u001b[0;34m\u001b[0m\u001b[0;34m\u001b[0m\u001b[0m\n\u001b[0m",
      "\u001b[0;32m~/dev/repo/prac_py/src/pycookbook/c8/person.py\u001b[0m in \u001b[0;36m__init__\u001b[0;34m(self, first_name)\u001b[0m\n\u001b[1;32m      1\u001b[0m \u001b[0;32mclass\u001b[0m \u001b[0mPerson\u001b[0m\u001b[0;34m:\u001b[0m\u001b[0;34m\u001b[0m\u001b[0;34m\u001b[0m\u001b[0m\n\u001b[1;32m      2\u001b[0m     \u001b[0;32mdef\u001b[0m \u001b[0m__init__\u001b[0m\u001b[0;34m(\u001b[0m\u001b[0mself\u001b[0m\u001b[0;34m,\u001b[0m \u001b[0mfirst_name\u001b[0m\u001b[0;34m)\u001b[0m\u001b[0;34m:\u001b[0m\u001b[0;34m\u001b[0m\u001b[0;34m\u001b[0m\u001b[0m\n\u001b[0;32m----> 3\u001b[0;31m         \u001b[0mself\u001b[0m\u001b[0;34m.\u001b[0m\u001b[0mfirst_name\u001b[0m \u001b[0;34m=\u001b[0m \u001b[0mfirst_name\u001b[0m\u001b[0;34m\u001b[0m\u001b[0;34m\u001b[0m\u001b[0m\n\u001b[0m\u001b[1;32m      4\u001b[0m \u001b[0;34m\u001b[0m\u001b[0m\n\u001b[1;32m      5\u001b[0m     \u001b[0;34m@\u001b[0m\u001b[0mproperty\u001b[0m\u001b[0;34m\u001b[0m\u001b[0;34m\u001b[0m\u001b[0m\n",
      "\u001b[0;32m~/dev/repo/prac_py/src/pycookbook/c8/person.py\u001b[0m in \u001b[0;36mfirst_name\u001b[0;34m(self, value)\u001b[0m\n\u001b[1;32m     11\u001b[0m         \u001b[0;34m\"\"\" 如果不实现setter,first_name是只读属性. \"\"\"\u001b[0m\u001b[0;34m\u001b[0m\u001b[0;34m\u001b[0m\u001b[0m\n\u001b[1;32m     12\u001b[0m         \u001b[0;32mif\u001b[0m \u001b[0;32mnot\u001b[0m \u001b[0misinstance\u001b[0m\u001b[0;34m(\u001b[0m\u001b[0mvalue\u001b[0m\u001b[0;34m,\u001b[0m \u001b[0mstr\u001b[0m\u001b[0;34m)\u001b[0m\u001b[0;34m:\u001b[0m\u001b[0;34m\u001b[0m\u001b[0;34m\u001b[0m\u001b[0m\n\u001b[0;32m---> 13\u001b[0;31m             \u001b[0;32mraise\u001b[0m \u001b[0mTypeError\u001b[0m\u001b[0;34m(\u001b[0m\u001b[0;34m\"Expected a string\"\u001b[0m\u001b[0;34m)\u001b[0m\u001b[0;34m\u001b[0m\u001b[0;34m\u001b[0m\u001b[0m\n\u001b[0m\u001b[1;32m     14\u001b[0m         \u001b[0mself\u001b[0m\u001b[0;34m.\u001b[0m\u001b[0m_first_name\u001b[0m \u001b[0;34m=\u001b[0m \u001b[0mvalue\u001b[0m\u001b[0;34m\u001b[0m\u001b[0;34m\u001b[0m\u001b[0m\n\u001b[1;32m     15\u001b[0m \u001b[0;34m\u001b[0m\u001b[0m\n",
      "\u001b[0;31mTypeError\u001b[0m: Expected a string"
     ]
    }
   ],
   "source": [
    "from pycookbook.c8.person import *\n",
    "\n",
    "p = Person(42) #TypeError: Expected a string"
   ]
  },
  {
   "cell_type": "markdown",
   "metadata": {},
   "source": [
    "### chr/bytearray/Py3 编码"
   ]
  },
  {
   "cell_type": "code",
   "execution_count": 80,
   "metadata": {},
   "outputs": [
    {
     "output_type": "display_data",
     "data": {
      "text/plain": "'a'"
     },
     "metadata": {}
    },
    {
     "output_type": "display_data",
     "data": {
      "text/plain": "'a'"
     },
     "metadata": {}
    },
    {
     "output_type": "display_data",
     "data": {
      "text/plain": "20320"
     },
     "metadata": {}
    },
    {
     "output_type": "display_data",
     "data": {
      "text/plain": "'你'"
     },
     "metadata": {}
    },
    {
     "output_type": "display_data",
     "data": {
      "text/plain": "'你'"
     },
     "metadata": {}
    }
   ],
   "source": [
    "# 默认编码是unicode_escape\n",
    "display(chr(97))\n",
    "display(chr(0x61)) #0x61==97\n",
    "display(ord('你'))\n",
    "display(chr(20320))\n",
    "display(chr(0x4f60))# 两个8位"
   ]
  },
  {
   "cell_type": "code",
   "execution_count": 60,
   "metadata": {},
   "outputs": [
    {
     "output_type": "display_data",
     "data": {
      "text/plain": "b'abc'"
     },
     "metadata": {}
    },
    {
     "output_type": "display_data",
     "data": {
      "text/plain": "b'abc'"
     },
     "metadata": {}
    },
    {
     "output_type": "display_data",
     "data": {
      "text/plain": "b'\\xe4\\xbd\\xa0\\xe5\\xa5\\xbd'"
     },
     "metadata": {}
    },
    {
     "output_type": "display_data",
     "data": {
      "text/plain": "b'\\\\u4f60\\\\u597d'"
     },
     "metadata": {}
    }
   ],
   "source": [
    "display('abc'.encode('ascii'))\n",
    "display('abc'.encode('utf-8'))\n",
    "display('你好'.encode('utf-8'))\n",
    "display('你好'.encode('unicode_escape'))"
   ]
  },
  {
   "cell_type": "code",
   "execution_count": 59,
   "metadata": {},
   "outputs": [
    {
     "output_type": "display_data",
     "data": {
      "text/plain": "'abc'"
     },
     "metadata": {}
    }
   ],
   "source": [
    "display(b'abc'.decode('ascii'))"
   ]
  },
  {
   "cell_type": "code",
   "execution_count": 45,
   "metadata": {},
   "outputs": [
    {
     "output_type": "display_data",
     "data": {
      "text/plain": "array('l', [3, 4])"
     },
     "metadata": {}
    },
    {
     "output_type": "display_data",
     "data": {
      "text/plain": "b'\\x03\\x00\\x00\\x00\\x00\\x00\\x00\\x00\\x04\\x00\\x00\\x00\\x00\\x00\\x00\\x00'"
     },
     "metadata": {}
    },
    {
     "output_type": "execute_result",
     "data": {
      "text/plain": "b'\\x03\\x00\\x00\\x00\\x00\\x00\\x00\\x00'"
     },
     "metadata": {},
     "execution_count": 45
    }
   ],
   "source": [
    "from array import array\n",
    "\n",
    "# typecode 不同,bytes()也不同\n",
    "# b:1个byte / f:4个 / d:8个 / u:2个/\n",
    "a = array('l',[3,4])\n",
    "display(a)\n",
    "b = bytes(a)\n",
    "display(b)\n",
    "x=3\n",
    "x.to_bytes(8,'little')\n"
   ]
  },
  {
   "cell_type": "code",
   "execution_count": 47,
   "metadata": {},
   "outputs": [
    {
     "output_type": "display_data",
     "data": {
      "text/plain": "b'hello world'"
     },
     "metadata": {}
    },
    {
     "output_type": "display_data",
     "data": {
      "text/plain": "b'hello world'"
     },
     "metadata": {}
    },
    {
     "output_type": "display_data",
     "data": {
      "text/plain": "11"
     },
     "metadata": {}
    },
    {
     "output_type": "display_data",
     "data": {
      "text/plain": "b'\\xc4\\xe3\\xba\\xc3'"
     },
     "metadata": {}
    },
    {
     "output_type": "display_data",
     "data": {
      "text/plain": "4"
     },
     "metadata": {}
    },
    {
     "output_type": "display_data",
     "data": {
      "text/plain": "b'\\xe4\\xbd\\xa0\\xe5\\xa5\\xbd'"
     },
     "metadata": {}
    }
   ],
   "source": [
    "b = bytes('hello world',encoding='iso8859-1')\n",
    "display(b)\n",
    "# 可见字节\n",
    "b = bytes('hello world',encoding='ascii')\n",
    "display(b,len(b))\n",
    "b = bytes('你好',encoding='gbk')\n",
    "display(b,len(b))\n",
    "b = bytes('你好',encoding='utf-8')\n",
    "display(b)"
   ]
  },
  {
   "cell_type": "markdown",
   "metadata": {},
   "source": [
    "### 函数体也有属性"
   ]
  },
  {
   "cell_type": "code",
   "execution_count": 7,
   "metadata": {
    "tags": []
   },
   "outputs": [
    {
     "output_type": "stream",
     "name": "stdout",
     "text": "execute 0\n"
    },
    {
     "output_type": "display_data",
     "data": {
      "text/plain": "3"
     },
     "metadata": {}
    },
    {
     "output_type": "stream",
     "name": "stdout",
     "text": "0 0\nexecute 1\n"
    },
    {
     "output_type": "display_data",
     "data": {
      "text/plain": "7"
     },
     "metadata": {}
    },
    {
     "output_type": "stream",
     "name": "stdout",
     "text": "2 1\n"
    },
    {
     "output_type": "execute_result",
     "data": {
      "text/plain": "{'a': 2, 'counter': 1}"
     },
     "metadata": {},
     "execution_count": 7
    }
   ],
   "source": [
    "def addIt(x,y):\n",
    "    try:\n",
    "        addIt.counter +=1\n",
    "    except AttributeError:\n",
    "        addIt.counter = 0\n",
    "    print(f'execute {addIt.counter}')\n",
    "    return x+y\n",
    "addIt.a = 0\n",
    "f = addIt\n",
    "display(f(1,2))\n",
    "print(f.a,f.counter)\n",
    "addIt.a+=2\n",
    "f = addIt\n",
    "display(f(3,4))\n",
    "print(f.a,f.counter)\n",
    "addIt.__dict__"
   ]
  },
  {
   "cell_type": "code",
   "execution_count": null,
   "metadata": {},
   "outputs": [],
   "source": []
  }
 ],
 "metadata": {
  "language_info": {
   "codemirror_mode": {
    "name": "ipython",
    "version": 3
   },
   "file_extension": ".py",
   "mimetype": "text/x-python",
   "name": "python",
   "nbconvert_exporter": "python",
   "pygments_lexer": "ipython3",
   "version": "3.8.2-final"
  },
  "orig_nbformat": 2,
  "kernelspec": {
   "name": "python38264bitdatavenv86c8e9e79e034983bf9e66a89847a1a4",
   "display_name": "Python 3.8.2 64-bit ('data': venv)"
  }
 },
 "nbformat": 4,
 "nbformat_minor": 2
}