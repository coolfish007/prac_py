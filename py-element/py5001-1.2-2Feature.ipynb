{
 "cells": [
  {
   "cell_type": "markdown",
   "metadata": {},
   "source": [
    "# 1 context manager"
   ]
  },
  {
   "cell_type": "markdown",
   "metadata": {},
   "source": [
    "# 2 Function"
   ]
  },
  {
   "cell_type": "code",
   "execution_count": 1,
   "metadata": {},
   "outputs": [
    {
     "output_type": "execute_result",
     "data": {
      "text/plain": "['fig', 'apple', 'cherry', 'banana', 'raspberry', 'strawberry']"
     },
     "metadata": {},
     "execution_count": 1
    }
   ],
   "source": [
    "fruits = ['strawberry', 'fig', 'apple', 'cherry', 'raspberry', 'banana']\n",
    "sorted(fruits, key=len)"
   ]
  },
  {
   "cell_type": "code",
   "execution_count": 2,
   "metadata": {},
   "outputs": [
    {
     "output_type": "execute_result",
     "data": {
      "text/plain": "['banana', 'apple', 'fig', 'raspberry', 'strawberry', 'cherry']"
     },
     "metadata": {},
     "execution_count": 2
    }
   ],
   "source": [
    "def reverse(word):\n",
    "    return word[::-1]\n",
    "reverse('hello')\n",
    "sorted(fruits,key=reverse)"
   ]
  },
  {
   "cell_type": "markdown",
   "metadata": {},
   "source": [
    "## map()\n",
    "特别是一个序列做map,直接用生成器表达式替换."
   ]
  },
  {
   "cell_type": "code",
   "execution_count": 6,
   "metadata": {},
   "outputs": [
    {
     "output_type": "display_data",
     "data": {
      "text/plain": "[1, 1, 2, 6, 24, 120]"
     },
     "metadata": {}
    },
    {
     "output_type": "execute_result",
     "data": {
      "text/plain": "[1, 6, 120]"
     },
     "metadata": {},
     "execution_count": 6
    }
   ],
   "source": [
    "def factorial(n):\n",
    "    return 1 if n<2 else n*factorial(n-1)\n",
    "\n",
    "display(list(map(factorial, range(6))))\n",
    "[factorial(n) for n in range(6) if n%2]"
   ]
  },
  {
   "cell_type": "markdown",
   "metadata": {},
   "source": [
    "## 函数内置属性"
   ]
  },
  {
   "cell_type": "code",
   "execution_count": 19,
   "metadata": {
    "tags": []
   },
   "outputs": [
    {
     "output_type": "stream",
     "name": "stdout",
     "text": "__annotations__/__call__/__class__/__closure__/__code__/__defaults__/__delattr__/__dict__/__dir__/__doc__/__eq__/__format__/__ge__/__get__/__getattribute__/__globals__/__gt__/__hash__/__init__/__init_subclass__/__kwdefaults__/__le__/__lt__/__module__/__name__/__ne__/__new__/__qualname__/__reduce__/__reduce_ex__/__repr__/__setattr__/__sizeof__/__str__/__subclasshook__/\n\n283942422\n"
    }
   ],
   "source": [
    "for n in dir(factorial):\n",
    "    print(n,end='/')\n",
    "print('\\n')\n",
    "fac = factorial\n",
    "print(fac.__hash__())"
   ]
  },
  {
   "cell_type": "markdown",
   "metadata": {},
   "source": [
    "## 仅限关键字键值对的函数"
   ]
  },
  {
   "cell_type": "code",
   "execution_count": 45,
   "metadata": {},
   "outputs": [
    {
     "output_type": "execute_result",
     "data": {
      "text/plain": "(1, 9)"
     },
     "metadata": {},
     "execution_count": 45
    }
   ],
   "source": [
    "def f(a,*,b=1):\n",
    "    return a,b\n",
    "f(1,b=9)"
   ]
  },
  {
   "cell_type": "code",
   "execution_count": 49,
   "metadata": {},
   "outputs": [
    {
     "output_type": "display_data",
     "data": {
      "text/plain": "<code object f at 0x10f36d030, file \"<ipython-input-45-bd6c10d9a2f7>\", line 1>"
     },
     "metadata": {}
    },
    {
     "output_type": "display_data",
     "data": {
      "text/plain": "None"
     },
     "metadata": {}
    },
    {
     "output_type": "display_data",
     "data": {
      "text/plain": "None"
     },
     "metadata": {}
    },
    {
     "output_type": "execute_result",
     "data": {
      "text/plain": "{'b': 1}"
     },
     "metadata": {},
     "execution_count": 49
    }
   ],
   "source": [
    "fac = factorial\n",
    "display(f.__code__)\n",
    "display(f.__defaults__) # 为什么是None,仅定位参数?\n",
    "display(fac.__defaults__)\n",
    "f.__kwdefaults__"
   ]
  },
  {
   "cell_type": "code",
   "execution_count": 48,
   "metadata": {
    "tags": []
   },
   "outputs": [
    {
     "output_type": "display_data",
     "data": {
      "text/plain": "'(a, *, b=1)'"
     },
     "metadata": {}
    },
    {
     "output_type": "stream",
     "name": "stdout",
     "text": "a=<class 'inspect._empty'>, 1\nb=1, 3\n"
    }
   ],
   "source": [
    "from inspect import signature\n",
    "sig = signature(f)\n",
    "display(str(sig))\n",
    "for name,p in sig.parameters.items():\n",
    "     print(f'{name}={p.default}, {p.kind}')"
   ]
  },
  {
   "cell_type": "code",
   "execution_count": 22,
   "metadata": {},
   "outputs": [
    {
     "output_type": "execute_result",
     "data": {
      "text/plain": "0"
     },
     "metadata": {},
     "execution_count": 22
    }
   ],
   "source": [
    "r = f(a=0,b=8)\n",
    "r[0]"
   ]
  },
  {
   "cell_type": "markdown",
   "metadata": {},
   "source": [
    "## 支持函数式编程的包\n",
    "高阶函数演示."
   ]
  },
  {
   "cell_type": "code",
   "execution_count": 50,
   "metadata": {},
   "outputs": [
    {
     "output_type": "execute_result",
     "data": {
      "text/plain": "120"
     },
     "metadata": {},
     "execution_count": 50
    }
   ],
   "source": [
    "from functools import reduce\n",
    "from operator import mul\n",
    "\n",
    "def fact_re(n):\n",
    "    \"\"\" reduce 结合 mul 计算阶乘 \"\"\"\n",
    "    return reduce(mul,range(1,n+1))\n",
    "\n",
    "fact_re(5)"
   ]
  },
  {
   "cell_type": "markdown",
   "metadata": {},
   "source": [
    "### itemgetter()"
   ]
  },
  {
   "cell_type": "code",
   "execution_count": 2,
   "metadata": {
    "tags": []
   },
   "outputs": [
    {
     "output_type": "stream",
     "name": "stdout",
     "text": "('JP', 'Tokyo')\n('IN', 'Delhi NCR')\n('MX', 'Mexico City')\n('US', 'New York-Newark')\n('BR', 'Sao Paulo')\n"
    },
    {
     "output_type": "execute_result",
     "data": {
      "text/plain": "(40.808611, -74.020386)"
     },
     "metadata": {},
     "execution_count": 2
    }
   ],
   "source": [
    "from operator import itemgetter\n",
    "metro_data = [\n",
    "    ('Tokyo', 'JP', 36.933, (35.689722, 139.691667)),\n",
    "    ('Delhi NCR', 'IN', 21.935, (28.613889, 77.208889)),\n",
    "    ('Mexico City', 'MX', 20.142, (19.433333, -99.133333)),\n",
    "    ('New York-Newark', 'US', 20.104, (40.808611, -74.020386)),\n",
    "    ('Sao Paulo', 'BR', 19.649, (-23.547778, -46.635833)),\n",
    "]\n",
    "cc_name = itemgetter(1,0)\n",
    "for c in metro_data:\n",
    "     print(cc_name(c))\n",
    "\n",
    "itemgetter(3)(metro_data[3])"
   ]
  },
  {
   "cell_type": "markdown",
   "metadata": {},
   "source": [
    "### attrgetter() and namedtuple()"
   ]
  },
  {
   "cell_type": "code",
   "execution_count": 4,
   "metadata": {},
   "outputs": [
    {
     "output_type": "execute_result",
     "data": {
      "text/plain": "('Mexico City', 19.433333, -99.133333)"
     },
     "metadata": {},
     "execution_count": 4
    }
   ],
   "source": [
    "from operator import attrgetter\n",
    "from collections import namedtuple\n",
    "\n",
    "LatLong = namedtuple('LL','lat long')\n",
    "Metro = namedtuple('Metro','name cc pop corrd')\n",
    "metro_area = [Metro(name,cc,pop,LatLong(lat,long)) for name,cc,pop,(lat,long) in metro_data]\n",
    "\n",
    "attrgetter('name','corrd.lat','corrd.long')(metro_area[2])"
   ]
  },
  {
   "cell_type": "markdown",
   "metadata": {},
   "source": [
    "### functools.partial"
   ]
  },
  {
   "cell_type": "code",
   "execution_count": 7,
   "metadata": {},
   "outputs": [
    {
     "output_type": "display_data",
     "data": {
      "text/plain": "21"
     },
     "metadata": {}
    },
    {
     "output_type": "display_data",
     "data": {
      "text/plain": "[3, 6, 9, 12, 15, 18, 21, 24, 27, 30]"
     },
     "metadata": {}
    }
   ],
   "source": [
    "from operator import mul\n",
    "from functools import partial\n",
    "\n",
    "triple = partial(mul,3)\n",
    "display(triple(7))\n",
    "display(list(map(triple,range(1,11))))"
   ]
  },
  {
   "cell_type": "markdown",
   "metadata": {},
   "source": [
    "# 3 Iterator and Generator\n",
    "From Fluent Python Chapter 14."
   ]
  },
  {
   "cell_type": "markdown",
   "metadata": {},
   "source": [
    "## Iterable 和 Iterator"
   ]
  },
  {
   "cell_type": "markdown",
   "metadata": {},
   "source": [
    "动态在pathlib中插入src"
   ]
  },
  {
   "cell_type": "code",
   "execution_count": 2,
   "metadata": {},
   "outputs": [
    {
     "output_type": "display_data",
     "data": {
      "text/plain": "'/Users/lhc/.pyenv/versions/data/bin/python3.8'"
     },
     "metadata": {}
    }
   ],
   "source": [
    "import sys\n",
    "import os\n",
    "from wcmatch import pathlib\n",
    "\n",
    "display(sys.executable)\n",
    "src_p = pathlib.Path(\"..\") / \"src\"\n",
    "sys.path.insert(0, os.fspath(src_p.resolve()))"
   ]
  },
  {
   "cell_type": "code",
   "execution_count": 4,
   "metadata": {
    "tags": []
   },
   "outputs": [
    {
     "output_type": "display_data",
     "data": {
      "text/plain": "Sentence 'Crazy world,...dinary world.'"
     },
     "metadata": {}
    },
    {
     "output_type": "stream",
     "name": "stdout",
     "text": "Crazy\nworld\nextraordinary\nworld\nCrazy\nworld\nextraordinary\nworld\n"
    },
    {
     "output_type": "error",
     "ename": "StopIteration",
     "evalue": "",
     "traceback": [
      "\u001b[0;31m---------------------------------------------------------------------------\u001b[0m",
      "\u001b[0;31mStopIteration\u001b[0m                             Traceback (most recent call last)",
      "\u001b[0;32m<ipython-input-4-102d83623dcb>\u001b[0m in \u001b[0;36m<module>\u001b[0;34m\u001b[0m\n\u001b[1;32m     12\u001b[0m \u001b[0;31m# for之后next()还有值,跟sentence1的实现有关\u001b[0m\u001b[0;34m\u001b[0m\u001b[0;34m\u001b[0m\u001b[0;34m\u001b[0m\u001b[0m\n\u001b[1;32m     13\u001b[0m \u001b[0;31m# sentence1 一次性把words构造出来,并且具备__getitem__()而没有__iter__()\u001b[0m\u001b[0;34m\u001b[0m\u001b[0;34m\u001b[0m\u001b[0;34m\u001b[0m\u001b[0m\n\u001b[0;32m---> 14\u001b[0;31m \u001b[0mnext\u001b[0m\u001b[0;34m(\u001b[0m\u001b[0mi\u001b[0m\u001b[0;34m)\u001b[0m\u001b[0;34m\u001b[0m\u001b[0;34m\u001b[0m\u001b[0m\n\u001b[0m",
      "\u001b[0;31mStopIteration\u001b[0m: "
     ]
    }
   ],
   "source": [
    "from fluentpy.c14.sentence import Sentence1\n",
    "\n",
    "s = Sentence1(\"Crazy world, extraordinary world.\")\n",
    "display(s)\n",
    "i = iter(s)\n",
    "for word in i:\n",
    "    print(word)\n",
    "\n",
    "for word in s:\n",
    "    print(word)\n",
    "\n",
    "# i 中已无可迭代的内容.\n",
    "next(i)"
   ]
  },
  {
   "cell_type": "code",
   "execution_count": 20,
   "metadata": {
    "tags": []
   },
   "outputs": [
    {
     "output_type": "stream",
     "name": "stdout",
     "text": "Crazy\nworld\nextraordinary\nworld\n"
    },
    {
     "output_type": "display_data",
     "data": {
      "text/plain": "'Crazy'"
     },
     "metadata": {}
    },
    {
     "output_type": "display_data",
     "data": {
      "text/plain": "'Crazy'"
     },
     "metadata": {}
    },
    {
     "output_type": "display_data",
     "data": {
      "text/plain": "'Crazy'"
     },
     "metadata": {}
    },
    {
     "output_type": "display_data",
     "data": {
      "text/plain": "'world'"
     },
     "metadata": {}
    },
    {
     "output_type": "display_data",
     "data": {
      "text/plain": "'extraordinary'"
     },
     "metadata": {}
    },
    {
     "output_type": "display_data",
     "data": {
      "text/plain": "'world'"
     },
     "metadata": {}
    },
    {
     "output_type": "error",
     "ename": "StopIteration",
     "evalue": "",
     "traceback": [
      "\u001b[0;31m---------------------------------------------------------------------------\u001b[0m",
      "\u001b[0;31mIndexError\u001b[0m                                Traceback (most recent call last)",
      "\u001b[0;32m~/dev/repo/prac_py/src/fluentpy/c14/sentence.py\u001b[0m in \u001b[0;36m__next__\u001b[0;34m(self)\u001b[0m\n\u001b[1;32m     45\u001b[0m         \u001b[0;32mtry\u001b[0m\u001b[0;34m:\u001b[0m\u001b[0;34m\u001b[0m\u001b[0;34m\u001b[0m\u001b[0m\n\u001b[0;32m---> 46\u001b[0;31m             \u001b[0mword\u001b[0m \u001b[0;34m=\u001b[0m \u001b[0mself\u001b[0m\u001b[0;34m.\u001b[0m\u001b[0mworlds\u001b[0m\u001b[0;34m[\u001b[0m\u001b[0mself\u001b[0m\u001b[0;34m.\u001b[0m\u001b[0mindex\u001b[0m\u001b[0;34m]\u001b[0m\u001b[0;34m\u001b[0m\u001b[0;34m\u001b[0m\u001b[0m\n\u001b[0m\u001b[1;32m     47\u001b[0m         \u001b[0;32mexcept\u001b[0m \u001b[0mIndexError\u001b[0m\u001b[0;34m:\u001b[0m\u001b[0;34m\u001b[0m\u001b[0;34m\u001b[0m\u001b[0m\n",
      "\u001b[0;31mIndexError\u001b[0m: list index out of range",
      "\nDuring handling of the above exception, another exception occurred:\n",
      "\u001b[0;31mStopIteration\u001b[0m                             Traceback (most recent call last)",
      "\u001b[0;32m<ipython-input-20-13e685f4df37>\u001b[0m in \u001b[0;36m<module>\u001b[0;34m\u001b[0m\n\u001b[1;32m     12\u001b[0m \u001b[0mi\u001b[0m \u001b[0;34m=\u001b[0m \u001b[0miter\u001b[0m\u001b[0;34m(\u001b[0m\u001b[0ms\u001b[0m\u001b[0;34m)\u001b[0m\u001b[0;34m\u001b[0m\u001b[0;34m\u001b[0m\u001b[0m\n\u001b[1;32m     13\u001b[0m \u001b[0;32mwhile\u001b[0m\u001b[0;34m(\u001b[0m\u001b[0;32mTrue\u001b[0m\u001b[0;34m)\u001b[0m\u001b[0;34m:\u001b[0m\u001b[0;34m\u001b[0m\u001b[0;34m\u001b[0m\u001b[0m\n\u001b[0;32m---> 14\u001b[0;31m     \u001b[0mdisplay\u001b[0m\u001b[0;34m(\u001b[0m\u001b[0mnext\u001b[0m\u001b[0;34m(\u001b[0m\u001b[0mi\u001b[0m\u001b[0;34m)\u001b[0m\u001b[0;34m)\u001b[0m\u001b[0;34m\u001b[0m\u001b[0;34m\u001b[0m\u001b[0m\n\u001b[0m\u001b[1;32m     15\u001b[0m \u001b[0;34m\u001b[0m\u001b[0m\n",
      "\u001b[0;32m~/dev/repo/prac_py/src/fluentpy/c14/sentence.py\u001b[0m in \u001b[0;36m__next__\u001b[0;34m(self)\u001b[0m\n\u001b[1;32m     46\u001b[0m             \u001b[0mword\u001b[0m \u001b[0;34m=\u001b[0m \u001b[0mself\u001b[0m\u001b[0;34m.\u001b[0m\u001b[0mworlds\u001b[0m\u001b[0;34m[\u001b[0m\u001b[0mself\u001b[0m\u001b[0;34m.\u001b[0m\u001b[0mindex\u001b[0m\u001b[0;34m]\u001b[0m\u001b[0;34m\u001b[0m\u001b[0;34m\u001b[0m\u001b[0m\n\u001b[1;32m     47\u001b[0m         \u001b[0;32mexcept\u001b[0m \u001b[0mIndexError\u001b[0m\u001b[0;34m:\u001b[0m\u001b[0;34m\u001b[0m\u001b[0;34m\u001b[0m\u001b[0m\n\u001b[0;32m---> 48\u001b[0;31m             \u001b[0;32mraise\u001b[0m \u001b[0mStopIteration\u001b[0m\u001b[0;34m(\u001b[0m\u001b[0;34m)\u001b[0m\u001b[0;34m\u001b[0m\u001b[0;34m\u001b[0m\u001b[0m\n\u001b[0m\u001b[1;32m     49\u001b[0m         \u001b[0mself\u001b[0m\u001b[0;34m.\u001b[0m\u001b[0mindex\u001b[0m \u001b[0;34m+=\u001b[0m \u001b[0;36m1\u001b[0m\u001b[0;34m\u001b[0m\u001b[0;34m\u001b[0m\u001b[0m\n\u001b[1;32m     50\u001b[0m         \u001b[0;32mreturn\u001b[0m \u001b[0mword\u001b[0m\u001b[0;34m\u001b[0m\u001b[0;34m\u001b[0m\u001b[0m\n",
      "\u001b[0;31mStopIteration\u001b[0m: "
     ]
    }
   ],
   "source": [
    "from fluentpy.c14.sentence import Sentence2\n",
    "\n",
    "s = Sentence2(\"Crazy world, extraordinary world.\")\n",
    "for word in s:\n",
    "    print(word)\n",
    "\n",
    "# iter()每次构造新的迭代器\n",
    "display(next(iter(s)))\n",
    "display(next(iter(s)))\n",
    "\n",
    "# 新的迭代器,重新开始\n",
    "# while 不会捕捉stopiteration异常\n",
    "i = iter(s)\n",
    "while(True):\n",
    "    display(next(i))\n",
    "\n"
   ]
  },
  {
   "cell_type": "markdown",
   "metadata": {},
   "source": [
    "## 迭代器中使用生成器函数 yield"
   ]
  },
  {
   "cell_type": "code",
   "execution_count": 7,
   "metadata": {
    "tags": []
   },
   "outputs": [
    {
     "output_type": "stream",
     "name": "stdout",
     "text": "in Sentence 3.\nSentence3\nin Sentence 3.\nCrazy\nin Sentence 3.\nworld\nin Sentence 3.\nextraordinary\nin Sentence 3.\nworld\nin Sentence 3.\n"
    },
    {
     "output_type": "execute_result",
     "data": {
      "text/plain": "'Sentence3'"
     },
     "metadata": {},
     "execution_count": 7
    }
   ],
   "source": [
    "from fluentpy.c14.sentence import Sentence3\n",
    "\n",
    "s = Sentence3(\"Sentence3, Crazy world, extraordinary world.\")\n",
    "for word in s:\n",
    "    print(word)\n",
    "\n",
    "next(iter(s))"
   ]
  },
  {
   "cell_type": "code",
   "execution_count": 6,
   "metadata": {
    "tags": []
   },
   "outputs": [
    {
     "output_type": "stream",
     "name": "stdout",
     "text": "Sentence\n4\nCrazy\nworld\nextraordinary\nworld\nend\nwith\nsentence\n4\n"
    },
    {
     "output_type": "execute_result",
     "data": {
      "text/plain": "'Sentence'"
     },
     "metadata": {},
     "execution_count": 6
    }
   ],
   "source": [
    "from fluentpy.c14.sentence import Sentence4\n",
    "\n",
    "s = Sentence4(\"Sentence 4, Crazy world, extraordinary world.\")\n",
    "for word in s:\n",
    "    print(word)\n"
   ]
  },
  {
   "cell_type": "markdown",
   "metadata": {},
   "source": [
    "## 生成器函数:yield from(广度和深度搜索)"
   ]
  },
  {
   "cell_type": "code",
   "execution_count": 5,
   "metadata": {
    "tags": []
   },
   "outputs": [
    {
     "output_type": "stream",
     "name": "stdout",
     "text": "before yield:Node(0)\nout print:Node(0)\nafter yield:Node(0)\nin for Node(1)\nbefore yield:Node(1)\nNode(1)\nafter yield:Node(1)\nin for Node(11)\nbefore yield:Node(11)\nNode(11)\nafter yield:Node(11)\nin for Node(12)\nbefore yield:Node(12)\nNode(12)\nafter yield:Node(12)\nin for Node(2)\nbefore yield:Node(2)\nNode(2)\nafter yield:Node(2)\nin for Node(21)\nbefore yield:Node(21)\nNode(21)\nafter yield:Node(21)\nin for Node(3)\nbefore yield:Node(3)\nNode(3)\nafter yield:Node(3)\nin for Node(31)\nbefore yield:Node(31)\nNode(31)\nafter yield:Node(31)\n======================\ninner print:before yield:Node(0)\nout print:Node(0)\ninner print:after yield:Node(0)\ninner print:before yield:Node(1)\nout print:Node(1)\ninner print:after yield:Node(1)\ninner print:before yield:Node(11)\nout print:Node(11)\ninner print:after yield:Node(11)\ninner print:before yield:Node(12)\nout print:Node(12)\ninner print:after yield:Node(12)\ninner print:before yield:Node(2)\nout print:Node(2)\ninner print:after yield:Node(2)\ninner print:before yield:Node(21)\nout print:Node(21)\ninner print:after yield:Node(21)\ninner print:before yield:Node(3)\nout print:Node(3)\ninner print:after yield:Node(3)\ninner print:before yield:Node(31)\nout print:Node(31)\ninner print:after yield:Node(31)\n======================\nout print:Node(0)\nout print:Node(1)\nout print:Node(2)\nout print:Node(3)\nout print:Node(11)\nout print:Node(12)\nout print:Node(21)\nout print:Node(31)\n"
    }
   ],
   "source": [
    "from pycookbook.c4.node44 import Node\n",
    "\n",
    "root = Node(0)\n",
    "c1 = Node(1)\n",
    "c2 = Node(2)\n",
    "c3 = Node(3)\n",
    "\n",
    "root.add_child(c1)\n",
    "root.add_child(c2)\n",
    "root.add_child(c3)\n",
    "\n",
    "c1.add_child(Node(11))\n",
    "c1.add_child(Node(12))\n",
    "c2.add_child(Node(21))\n",
    "c3.add_child(Node(31))\n",
    "\n",
    "for ch in root.depth_first():\n",
    "    print(f'out print:{ch}')\n",
    "\n",
    "print('======================')\n",
    "for ch in root.depth_first_yield_from():\n",
    "    print(f'out print:{ch}')\n",
    "\n",
    "print('======================')\n",
    "isRoot = True\n",
    "for ch in root.width_first(isRoot):\n",
    "    print(f'out print:{ch}')\n",
    "    isRoot = False"
   ]
  }
 ],
 "metadata": {
  "language_info": {
   "codemirror_mode": {
    "name": "ipython",
    "version": 3
   },
   "file_extension": ".py",
   "mimetype": "text/x-python",
   "name": "python",
   "nbconvert_exporter": "python",
   "pygments_lexer": "ipython3",
   "version": "3.8.2-final"
  },
  "orig_nbformat": 2,
  "kernelspec": {
   "name": "python38264bitdatavenv86c8e9e79e034983bf9e66a89847a1a4",
   "display_name": "Python 3.8.2 64-bit ('data': venv)"
  }
 },
 "nbformat": 4,
 "nbformat_minor": 2
}