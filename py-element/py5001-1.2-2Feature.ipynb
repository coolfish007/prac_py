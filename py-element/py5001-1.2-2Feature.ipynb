{
 "cells": [
  {
   "cell_type": "markdown",
   "metadata": {},
   "source": [
    "动态在pathlib中插入src"
   ]
  },
  {
   "cell_type": "code",
   "execution_count": 1,
   "metadata": {
    "tags": []
   },
   "outputs": [
    {
     "data": {
      "text/plain": [
       "'/Users/lhc/.pyenv/versions/data/bin/python3.8'"
      ]
     },
     "metadata": {},
     "output_type": "display_data"
    },
    {
     "name": "stdout",
     "output_type": "stream",
     "text": [
      "insert /Users/lhc/dev/repo/prac_py/src in PythonPath\n"
     ]
    }
   ],
   "source": [
    "import sys\n",
    "import os\n",
    "from IPython.display import display\n",
    "from wcmatch import pathlib\n",
    "\n",
    "display(sys.executable)\n",
    "src_p = pathlib.Path(\"..\") / \"src\"\n",
    "if src_p.exists() and src_p.is_dir():\n",
    "    print(f'insert {src_p.resolve()} in PythonPath')\n",
    "    sys.path.insert(0, os.fspath(src_p.resolve()))"
   ]
  },
  {
   "cell_type": "markdown",
   "metadata": {},
   "source": [
    "# 1 context manager"
   ]
  },
  {
   "cell_type": "markdown",
   "metadata": {},
   "source": [
    "# 2 Function"
   ]
  },
  {
   "cell_type": "code",
   "execution_count": 1,
   "metadata": {},
   "outputs": [
    {
     "data": {
      "text/plain": [
       "['fig', 'apple', 'cherry', 'banana', 'raspberry', 'strawberry']"
      ]
     },
     "execution_count": 1,
     "metadata": {},
     "output_type": "execute_result"
    }
   ],
   "source": [
    "fruits = ['strawberry', 'fig', 'apple', 'cherry', 'raspberry', 'banana']\n",
    "sorted(fruits, key=len)"
   ]
  },
  {
   "cell_type": "code",
   "execution_count": 2,
   "metadata": {},
   "outputs": [
    {
     "data": {
      "text/plain": [
       "['banana', 'apple', 'fig', 'raspberry', 'strawberry', 'cherry']"
      ]
     },
     "execution_count": 2,
     "metadata": {},
     "output_type": "execute_result"
    }
   ],
   "source": [
    "def reverse(word):\n",
    "    return word[::-1]\n",
    "reverse('hello')\n",
    "sorted(fruits,key=reverse)"
   ]
  },
  {
   "cell_type": "markdown",
   "metadata": {},
   "source": [
    "## 2.1 map()\n",
    "特别是一个序列做map,直接用生成器表达式替换."
   ]
  },
  {
   "cell_type": "code",
   "execution_count": 8,
   "metadata": {},
   "outputs": [
    {
     "data": {
      "text/plain": [
       "[1, 1, 2, 6, 24, 120]"
      ]
     },
     "metadata": {},
     "output_type": "display_data"
    },
    {
     "data": {
      "text/plain": [
       "[1, 6, 120]"
      ]
     },
     "execution_count": 8,
     "metadata": {},
     "output_type": "execute_result"
    }
   ],
   "source": [
    "def factorial(n):\n",
    "    return 1 if n<2 else n*factorial(n-1)\n",
    "\n",
    "display(list(map(factorial, range(6))))\n",
    "[factorial(n) for n in range(6) if n%2]"
   ]
  },
  {
   "cell_type": "markdown",
   "metadata": {},
   "source": [
    "## 2.2 函数内置属性"
   ]
  },
  {
   "cell_type": "code",
   "execution_count": 19,
   "metadata": {
    "tags": []
   },
   "outputs": [
    {
     "name": "stdout",
     "output_type": "stream",
     "text": [
      "__annotations__/__call__/__class__/__closure__/__code__/__defaults__/__delattr__/__dict__/__dir__/__doc__/__eq__/__format__/__ge__/__get__/__getattribute__/__globals__/__gt__/__hash__/__init__/__init_subclass__/__kwdefaults__/__le__/__lt__/__module__/__name__/__ne__/__new__/__qualname__/__reduce__/__reduce_ex__/__repr__/__setattr__/__sizeof__/__str__/__subclasshook__/\n",
      "\n",
      "283942422\n"
     ]
    }
   ],
   "source": [
    "for n in dir(factorial):\n",
    "    print(n,end='/')\n",
    "print('\\n')\n",
    "fac = factorial\n",
    "print(fac.__hash__())"
   ]
  },
  {
   "cell_type": "markdown",
   "metadata": {},
   "source": [
    "## 2.3 函数的参数\n",
    "flutpy C5.7的拆解\n",
    "### 仅限关键字键值对的函数"
   ]
  },
  {
   "cell_type": "code",
   "execution_count": 13,
   "metadata": {},
   "outputs": [
    {
     "data": {
      "text/plain": [
       "(1, 9)"
      ]
     },
     "execution_count": 13,
     "metadata": {},
     "output_type": "execute_result"
    }
   ],
   "source": [
    "def f(a,*,b=1):\n",
    "    return a,b\n",
    "f(1,b=9)"
   ]
  },
  {
   "cell_type": "code",
   "execution_count": 14,
   "metadata": {},
   "outputs": [
    {
     "data": {
      "text/plain": [
       "<code object f at 0x10750d3a0, file \"<ipython-input-13-bd6c10d9a2f7>\", line 1>"
      ]
     },
     "metadata": {},
     "output_type": "display_data"
    },
    {
     "data": {
      "text/plain": [
       "None"
      ]
     },
     "metadata": {},
     "output_type": "display_data"
    },
    {
     "data": {
      "text/plain": [
       "None"
      ]
     },
     "metadata": {},
     "output_type": "display_data"
    },
    {
     "data": {
      "text/plain": [
       "{'b': 1}"
      ]
     },
     "execution_count": 14,
     "metadata": {},
     "output_type": "execute_result"
    }
   ],
   "source": [
    "fac = factorial\n",
    "display(f.__code__) # 属性非方法\n",
    "display(f.__defaults__) # 为什么是None,仅限关键字参数?\n",
    "display(fac.__defaults__)\n",
    "f.__kwdefaults__"
   ]
  },
  {
   "cell_type": "code",
   "execution_count": 11,
   "metadata": {
    "tags": []
   },
   "outputs": [
    {
     "data": {
      "text/plain": [
       "'(a, *, b=1)'"
      ]
     },
     "metadata": {},
     "output_type": "display_data"
    },
    {
     "name": "stdout",
     "output_type": "stream",
     "text": [
      "a, default value:<class 'inspect._empty'>, kind:1\n",
      "b, default value:1, kind:3\n"
     ]
    }
   ],
   "source": [
    "from inspect import signature\n",
    "sig = signature(f)\n",
    "display(str(sig))\n",
    "for name,p in sig.parameters.items():\n",
    "     print(f'{name}, default value:{p.default}, kind:{p.kind}')"
   ]
  },
  {
   "cell_type": "code",
   "execution_count": 22,
   "metadata": {},
   "outputs": [
    {
     "data": {
      "text/plain": [
       "0"
      ]
     },
     "execution_count": 22,
     "metadata": {},
     "output_type": "execute_result"
    }
   ],
   "source": [
    "r = f(a=0,b=8)\n",
    "r[0]"
   ]
  },
  {
   "cell_type": "markdown",
   "metadata": {},
   "source": [
    "### star assignment,Py 3.5+\n",
    "PEP 448,Additional Unpacking Generalizations / PEP 3132 -- Extended iterable unpacking"
   ]
  },
  {
   "cell_type": "code",
   "execution_count": 28,
   "metadata": {
    "lines_to_next_cell": 2,
    "tags": []
   },
   "outputs": [
    {
     "name": "stdout",
     "output_type": "stream",
     "text": [
      "<class 'tuple'> (1, 2)\n",
      "<class 'list'> [[1, 2, 3], [4, 5, 6]]\n"
     ]
    }
   ],
   "source": [
    "a=1,2\n",
    "print(type(a),a)\n",
    "*a,=[[1,2,3],[4,5,6]]\n",
    "print(type(a),a)"
   ]
  },
  {
   "cell_type": "code",
   "execution_count": 36,
   "metadata": {
    "tags": []
   },
   "outputs": [
    {
     "name": "stdout",
     "output_type": "stream",
     "text": [
      "<class 'list'> [3, 4, 5]\n",
      "<class 'int'><class 'int'><class 'int'>\n",
      "\n",
      "<class 'list'> [6, 7, 8]\n",
      "<class 'int'><class 'int'><class 'int'>\n",
      "\n",
      "<class 'list'> [3]\n",
      "<class 'tuple'> (1, 2, 3, 4)\n",
      "<class 'list'> [1, 2, 3, 4]\n"
     ]
    }
   ],
   "source": [
    "# Whilst *elements, = iterable causes elements to be a list, elements = *iterable, causes elements to be a tuple.\n",
    "# *b, 类似于函数定义 fun(*arg,**kwargs)), * in left side means catch everything that isn't assigned to a name and assign it to the starred expression.\n",
    "*b,=3,4,5\n",
    "print(type(b),b) \n",
    "for i in b:\n",
    "    print(type(i),end='')\n",
    "print('\\n')\n",
    "*b,=(6,7,8) #拿出tuple元素往*b中填,形成list\n",
    "print(type(b),b)\n",
    "for i in b:\n",
    "    print(type(i),end='')\n",
    "print('\\n')\n",
    "*b,c,d=3,4,5\n",
    "print(type(b),b)\n",
    "\n",
    "iterable = [1,2,3,4]\n",
    "b = *iterable, #可看做 b=1,2,3,4,It expands the contents of the iterable it is attached to.\n",
    "print(type(b),b)\n",
    "b=[*iterable]\n",
    "print(type(b),b)"
   ]
  },
  {
   "cell_type": "markdown",
   "metadata": {},
   "source": [
    "### *可变参数"
   ]
  },
  {
   "cell_type": "code",
   "execution_count": 74,
   "metadata": {
    "tags": []
   },
   "outputs": [
    {
     "name": "stdout",
     "output_type": "stream",
     "text": [
      "<class 'tuple'> ()\n",
      "<class 'tuple'> (2, 3, 4)\n",
      "<class 'tuple'> ()\n",
      "<class 'tuple'> (2, 3, 4)\n",
      "<class 'tuple'> ([3, 4], 5)\n",
      "<class 'tuple'> (2, 3, 4)\n"
     ]
    }
   ],
   "source": [
    "def fun(a,*num):\n",
    "    print(type(num),num)\n",
    "fun(1) # 变长参数会转换成turple,这和*iterable是一直的,都是turple\n",
    "fun(1,2,3,4) \n",
    "fun([1,2,3,4])\n",
    "\n",
    "iterable = [1,2,3,4]\n",
    "fun(*iterable)\n",
    "iterable=([1,2],[3,4],5)\n",
    "fun(*iterable)\n",
    "iterable = {1:1,2:2,3:3,4:4} #*只解包dict的key\n",
    "fun(*iterable)"
   ]
  },
  {
   "cell_type": "markdown",
   "metadata": {},
   "source": [
    "### ***关键字参数"
   ]
  },
  {
   "cell_type": "code",
   "execution_count": 40,
   "metadata": {
    "tags": []
   },
   "outputs": [
    {
     "name": "stdout",
     "output_type": "stream",
     "text": [
      "{'name': 'lhc', 'age': '30'}\n",
      "{'one': 1, 'two': 2, 'three': 3, 'four': 4}\n"
     ]
    },
    {
     "ename": "TypeError",
     "evalue": "fun() keywords must be strings",
     "output_type": "error",
     "traceback": [
      "\u001b[0;31m---------------------------------------------------------------------------\u001b[0m",
      "\u001b[0;31mTypeError\u001b[0m                                 Traceback (most recent call last)",
      "\u001b[0;32m<ipython-input-40-e43bb6926f4c>\u001b[0m in \u001b[0;36m<module>\u001b[0;34m\u001b[0m\n\u001b[1;32m      5\u001b[0m \u001b[0mfun\u001b[0m\u001b[0;34m(\u001b[0m\u001b[0;36m1\u001b[0m\u001b[0;34m,\u001b[0m\u001b[0;34m**\u001b[0m\u001b[0miterable\u001b[0m\u001b[0;34m)\u001b[0m\u001b[0;34m\u001b[0m\u001b[0;34m\u001b[0m\u001b[0m\n\u001b[1;32m      6\u001b[0m \u001b[0miterable\u001b[0m \u001b[0;34m=\u001b[0m \u001b[0;34m{\u001b[0m\u001b[0;36m1\u001b[0m\u001b[0;34m:\u001b[0m\u001b[0;36m1\u001b[0m\u001b[0;34m,\u001b[0m\u001b[0;36m2\u001b[0m\u001b[0;34m:\u001b[0m\u001b[0;36m2\u001b[0m\u001b[0;34m,\u001b[0m\u001b[0;36m3\u001b[0m\u001b[0;34m:\u001b[0m\u001b[0;36m3\u001b[0m\u001b[0;34m,\u001b[0m\u001b[0;36m4\u001b[0m\u001b[0;34m:\u001b[0m\u001b[0;36m4\u001b[0m\u001b[0;34m}\u001b[0m \u001b[0;31m#fun() keywords must be strings,即变量名必须是strings\u001b[0m\u001b[0;34m\u001b[0m\u001b[0;34m\u001b[0m\u001b[0m\n\u001b[0;32m----> 7\u001b[0;31m \u001b[0mfun\u001b[0m\u001b[0;34m(\u001b[0m\u001b[0;36m1\u001b[0m\u001b[0;34m,\u001b[0m\u001b[0;34m**\u001b[0m\u001b[0miterable\u001b[0m\u001b[0;34m)\u001b[0m\u001b[0;34m\u001b[0m\u001b[0;34m\u001b[0m\u001b[0m\n\u001b[0m",
      "\u001b[0;31mTypeError\u001b[0m: fun() keywords must be strings"
     ]
    }
   ],
   "source": [
    "def fun(a,**kw):\n",
    "    print(kw)\n",
    "fun(1,name='lhc',age='30')\n",
    "iterable = {'one':1,'two':2,'three':3,'four':4} \n",
    "fun(1,**iterable)\n",
    "iterable = {1:1,2:2,3:3,4:4} #fun() keywords must be strings,即变量名必须是strings\n",
    "fun(1,**iterable)"
   ]
  },
  {
   "cell_type": "markdown",
   "metadata": {},
   "source": [
    "### 可变参数*之前的参数不能指定参数名"
   ]
  },
  {
   "cell_type": "code",
   "execution_count": 3,
   "metadata": {
    "tags": []
   },
   "outputs": [
    {
     "name": "stdout",
     "output_type": "stream",
     "text": [
      "1 (2, 3)\n"
     ]
    },
    {
     "ename": "TypeError",
     "evalue": "fun() got an unexpected keyword argument 'num'",
     "output_type": "error",
     "traceback": [
      "\u001b[0;31m---------------------------------------------------------------------------\u001b[0m",
      "\u001b[0;31mTypeError\u001b[0m                                 Traceback (most recent call last)",
      "\u001b[0;32m<ipython-input-3-42d7086cbf75>\u001b[0m in \u001b[0;36m<module>\u001b[0;34m\u001b[0m\n\u001b[1;32m      2\u001b[0m     \u001b[0mprint\u001b[0m\u001b[0;34m(\u001b[0m\u001b[0ma\u001b[0m\u001b[0;34m,\u001b[0m\u001b[0mnum\u001b[0m\u001b[0;34m)\u001b[0m\u001b[0;34m\u001b[0m\u001b[0;34m\u001b[0m\u001b[0m\n\u001b[1;32m      3\u001b[0m \u001b[0mfun\u001b[0m\u001b[0;34m(\u001b[0m\u001b[0;36m1\u001b[0m\u001b[0;34m,\u001b[0m\u001b[0;36m2\u001b[0m\u001b[0;34m,\u001b[0m\u001b[0;36m3\u001b[0m\u001b[0;34m)\u001b[0m\u001b[0;34m\u001b[0m\u001b[0;34m\u001b[0m\u001b[0m\n\u001b[0;32m----> 4\u001b[0;31m \u001b[0mfun\u001b[0m\u001b[0;34m(\u001b[0m\u001b[0;36m1\u001b[0m\u001b[0;34m,\u001b[0m\u001b[0;36m2\u001b[0m\u001b[0;34m,\u001b[0m\u001b[0;36m3\u001b[0m\u001b[0;34m,\u001b[0m\u001b[0mnum\u001b[0m\u001b[0;34m=\u001b[0m\u001b[0;36m9\u001b[0m\u001b[0;34m)\u001b[0m \u001b[0;31m# TypeError: fun() got an unexpected keyword argument 'num'\u001b[0m\u001b[0;34m\u001b[0m\u001b[0;34m\u001b[0m\u001b[0m\n\u001b[0m",
      "\u001b[0;31mTypeError\u001b[0m: fun() got an unexpected keyword argument 'num'"
     ]
    }
   ],
   "source": [
    "def fun(a=0,*num):\n",
    "    print(a,num)\n",
    "fun(1,2,3)\n",
    "fun(1,2,3,num=9) # TypeError: fun() got an unexpected keyword argument 'num'"
   ]
  },
  {
   "cell_type": "code",
   "execution_count": 1,
   "metadata": {},
   "outputs": [
    {
     "ename": "SyntaxError",
     "evalue": "positional argument follows keyword argument (<ipython-input-1-2965dcb9a2b8>, line 1)",
     "output_type": "error",
     "traceback": [
      "\u001b[0;36m  File \u001b[0;32m\"<ipython-input-1-2965dcb9a2b8>\"\u001b[0;36m, line \u001b[0;32m1\u001b[0m\n\u001b[0;31m    fun(a=1,2,3) #SyntaxError: positional argument follows keyword argument\u001b[0m\n\u001b[0m            ^\u001b[0m\n\u001b[0;31mSyntaxError\u001b[0m\u001b[0;31m:\u001b[0m positional argument follows keyword argument\n"
     ]
    }
   ],
   "source": [
    "fun(a=1,2,3) #SyntaxError: positional argument follows keyword argument"
   ]
  },
  {
   "cell_type": "markdown",
   "metadata": {},
   "source": [
    "### 可变参数*之后的参数必须指定参数名"
   ]
  },
  {
   "cell_type": "code",
   "execution_count": 57,
   "metadata": {
    "tags": []
   },
   "outputs": [
    {
     "name": "stdout",
     "output_type": "stream",
     "text": [
      "1 (2, 3, 4) None\n",
      "1 (2, 3) 1\n"
     ]
    }
   ],
   "source": [
    "def fun(a,*b,c=None):\n",
    "    print(a,b,c)\n",
    "fun(1,2,3,4) # 若c没有默认值c=None:TypeError: fun() missing 1 required keyword-only argument: 'c'\n",
    "fun(1,2,3,c=1)"
   ]
  },
  {
   "cell_type": "markdown",
   "metadata": {},
   "source": [
    "### 关键字参数只能作为最后一个参数\n",
    "关键字前面的参数按照位置赋值还是名称赋值都可以.  \n",
    "**顺序：位置参数（必选参数），默认参数，单星号参数或星号分隔符，关键字参数，双星号参数；**  \n",
    "默认参数和关键字参数很像,不要搞混,默认参数在加载时即赋值."
   ]
  },
  {
   "cell_type": "code",
   "execution_count": 79,
   "metadata": {
    "tags": []
   },
   "outputs": [
    {
     "name": "stdout",
     "output_type": "stream",
     "text": [
      "1 (2, 3, 4) None {'m': 5, 'n': 6}\n",
      "1 () None {}\n",
      "1 (2,) None {}\n",
      "1 (2,) None {'q': 0}\n"
     ]
    }
   ],
   "source": [
    "def fun(a,*b,c=None,**d):\n",
    "    print(a,b,c,d)\n",
    "fun(1,2,3,4,m=5,n=6)\n",
    "fun(1)\n",
    "fun(1,2)\n",
    "fun(1,2,q=0)"
   ]
  },
  {
   "cell_type": "markdown",
   "metadata": {},
   "source": [
    "### 解包作为参数传入函数"
   ]
  },
  {
   "cell_type": "code",
   "execution_count": 70,
   "metadata": {
    "tags": []
   },
   "outputs": [
    {
     "name": "stdout",
     "output_type": "stream",
     "text": [
      "1 2\n"
     ]
    },
    {
     "ename": "TypeError",
     "evalue": "fun() takes 2 positional arguments but 4 were given",
     "output_type": "error",
     "traceback": [
      "\u001b[0;31m---------------------------------------------------------------------------\u001b[0m",
      "\u001b[0;31mTypeError\u001b[0m                                 Traceback (most recent call last)",
      "\u001b[0;32m<ipython-input-70-48ce4146f244>\u001b[0m in \u001b[0;36m<module>\u001b[0;34m\u001b[0m\n\u001b[1;32m      4\u001b[0m \u001b[0mfun\u001b[0m\u001b[0;34m(\u001b[0m\u001b[0;34m*\u001b[0m\u001b[0miterable\u001b[0m\u001b[0;34m)\u001b[0m\u001b[0;34m\u001b[0m\u001b[0;34m\u001b[0m\u001b[0m\n\u001b[1;32m      5\u001b[0m \u001b[0miterable\u001b[0m \u001b[0;34m=\u001b[0m \u001b[0;34m[\u001b[0m\u001b[0;36m1\u001b[0m\u001b[0;34m,\u001b[0m\u001b[0;36m2\u001b[0m\u001b[0;34m,\u001b[0m\u001b[0;36m3\u001b[0m\u001b[0;34m,\u001b[0m\u001b[0;36m4\u001b[0m\u001b[0;34m]\u001b[0m\u001b[0;34m\u001b[0m\u001b[0;34m\u001b[0m\u001b[0m\n\u001b[0;32m----> 6\u001b[0;31m \u001b[0mfun\u001b[0m\u001b[0;34m(\u001b[0m\u001b[0;34m*\u001b[0m\u001b[0miterable\u001b[0m\u001b[0;34m)\u001b[0m \u001b[0;31m# TypeError: fun() takes 2 positional arguments but 4 were given\u001b[0m\u001b[0;34m\u001b[0m\u001b[0;34m\u001b[0m\u001b[0m\n\u001b[0m",
      "\u001b[0;31mTypeError\u001b[0m: fun() takes 2 positional arguments but 4 were given"
     ]
    }
   ],
   "source": [
    "def fun(a,b):\n",
    "    print(a,b)\n",
    "iterable = (1,2)\n",
    "fun(*iterable)\n",
    "iterable = [1,2,3,4]\n",
    "fun(*iterable) # TypeError: fun() takes 2 positional arguments but 4 were given"
   ]
  },
  {
   "cell_type": "code",
   "execution_count": 69,
   "metadata": {
    "tags": []
   },
   "outputs": [
    {
     "name": "stdout",
     "output_type": "stream",
     "text": [
      "lhc's age is 30\n"
     ]
    }
   ],
   "source": [
    "person1 = {'name':'lhc','age':30}\n",
    "print(\"{name}'s age is {age}\".format(**person1))"
   ]
  },
  {
   "cell_type": "markdown",
   "metadata": {},
   "source": []
  },
  {
   "cell_type": "markdown",
   "metadata": {},
   "source": [
    "## 2.4 函数体也有属性"
   ]
  },
  {
   "cell_type": "code",
   "execution_count": 7,
   "metadata": {
    "tags": []
   },
   "outputs": [
    {
     "name": "stdout",
     "output_type": "stream",
     "text": [
      "execute 0\n"
     ]
    },
    {
     "data": {
      "text/plain": [
       "3"
      ]
     },
     "metadata": {},
     "output_type": "display_data"
    },
    {
     "name": "stdout",
     "output_type": "stream",
     "text": [
      "0 0\n",
      "execute 1\n"
     ]
    },
    {
     "data": {
      "text/plain": [
       "7"
      ]
     },
     "metadata": {},
     "output_type": "display_data"
    },
    {
     "name": "stdout",
     "output_type": "stream",
     "text": [
      "2 1\n"
     ]
    },
    {
     "data": {
      "text/plain": [
       "{'a': 2, 'counter': 1}"
      ]
     },
     "execution_count": 7,
     "metadata": {},
     "output_type": "execute_result"
    }
   ],
   "source": [
    "def addIt(x,y):\n",
    "    try:\n",
    "        addIt.counter +=1\n",
    "    except AttributeError:\n",
    "        addIt.counter = 0\n",
    "    print(f'execute {addIt.counter}')\n",
    "    return x+y\n",
    "addIt.a = 0\n",
    "f = addIt\n",
    "display(f(1,2))\n",
    "print(f.a,f.counter)\n",
    "addIt.a+=2\n",
    "f = addIt\n",
    "display(f(3,4))\n",
    "print(f.a,f.counter)\n",
    "addIt.__dict__"
   ]
  },
  {
   "cell_type": "markdown",
   "metadata": {},
   "source": [
    "## 2.5支持函数式编程的包\n",
    "高阶函数演示."
   ]
  },
  {
   "cell_type": "code",
   "execution_count": 50,
   "metadata": {},
   "outputs": [
    {
     "data": {
      "text/plain": [
       "120"
      ]
     },
     "execution_count": 50,
     "metadata": {},
     "output_type": "execute_result"
    }
   ],
   "source": [
    "from functools import reduce\n",
    "from operator import mul, xor\n",
    "\n",
    "def fact_re(n):\n",
    "    \"\"\" reduce 结合 mul 计算阶乘 \"\"\"\n",
    "    return reduce(mul,range(1,n+1))\n",
    "\n",
    "fact_re(5)"
   ]
  },
  {
   "cell_type": "markdown",
   "metadata": {},
   "source": [
    "### itemgetter()"
   ]
  },
  {
   "cell_type": "code",
   "execution_count": 2,
   "metadata": {
    "tags": []
   },
   "outputs": [
    {
     "name": "stdout",
     "output_type": "stream",
     "text": [
      "('JP', 'Tokyo')\n",
      "('IN', 'Delhi NCR')\n",
      "('MX', 'Mexico City')\n",
      "('US', 'New York-Newark')\n",
      "('BR', 'Sao Paulo')\n"
     ]
    },
    {
     "data": {
      "text/plain": [
       "(40.808611, -74.020386)"
      ]
     },
     "execution_count": 2,
     "metadata": {},
     "output_type": "execute_result"
    }
   ],
   "source": [
    "from operator import itemgetter\n",
    "metro_data = [\n",
    "    ('Tokyo', 'JP', 36.933, (35.689722, 139.691667)),\n",
    "    ('Delhi NCR', 'IN', 21.935, (28.613889, 77.208889)),\n",
    "    ('Mexico City', 'MX', 20.142, (19.433333, -99.133333)),\n",
    "    ('New York-Newark', 'US', 20.104, (40.808611, -74.020386)),\n",
    "    ('Sao Paulo', 'BR', 19.649, (-23.547778, -46.635833)),\n",
    "]\n",
    "cc_name = itemgetter(1,0)\n",
    "for c in metro_data:\n",
    "     print(cc_name(c))\n",
    "\n",
    "itemgetter(3)(metro_data[3])"
   ]
  },
  {
   "cell_type": "markdown",
   "metadata": {},
   "source": [
    "### attrgetter() and namedtuple()"
   ]
  },
  {
   "cell_type": "code",
   "execution_count": 4,
   "metadata": {},
   "outputs": [
    {
     "data": {
      "text/plain": [
       "('Mexico City', 19.433333, -99.133333)"
      ]
     },
     "execution_count": 4,
     "metadata": {},
     "output_type": "execute_result"
    }
   ],
   "source": [
    "from operator import attrgetter\n",
    "from collections import namedtuple\n",
    "\n",
    "# 参数1是namedtuple的值\n",
    "LatLong = namedtuple('LL','lat long')\n",
    "Metro = namedtuple('Metro','name cc pop corrd')\n",
    "# name,cc,pop,(lat,long) 对元组进行拆包,并赋予名称\n",
    "# 之后给到namedtuple:Metro\n",
    "metro_area = [Metro(name,cc,pop,LatLong(lat,long)) for name,cc,pop,(lat,long) in metro_data]\n",
    "\n",
    "attrgetter('name','corrd.lat','corrd.long')(metro_area[2])"
   ]
  },
  {
   "cell_type": "markdown",
   "metadata": {},
   "source": [
    "### functools.partial"
   ]
  },
  {
   "cell_type": "code",
   "execution_count": 7,
   "metadata": {},
   "outputs": [
    {
     "data": {
      "text/plain": [
       "21"
      ]
     },
     "metadata": {},
     "output_type": "display_data"
    },
    {
     "data": {
      "text/plain": [
       "[3, 6, 9, 12, 15, 18, 21, 24, 27, 30]"
      ]
     },
     "metadata": {},
     "output_type": "display_data"
    }
   ],
   "source": [
    "from operator import mul\n",
    "from functools import partial\n",
    "\n",
    "triple = partial(mul,3)\n",
    "display(triple(7))\n",
    "display(list(map(triple,range(1,11))))"
   ]
  },
  {
   "cell_type": "markdown",
   "metadata": {},
   "source": [
    "### function 实现 策略模式"
   ]
  },
  {
   "cell_type": "code",
   "execution_count": 14,
   "metadata": {
    "tags": []
   },
   "outputs": [
    {
     "name": "stdout",
     "output_type": "stream",
     "text": [
      "fidelity:999\n"
     ]
    },
    {
     "data": {
      "text/plain": [
       "<Order total:3.20 due: 3.20>"
      ]
     },
     "metadata": {},
     "output_type": "display_data"
    },
    {
     "name": "stdout",
     "output_type": "stream",
     "text": [
      "fidelity:999\n"
     ]
    },
    {
     "data": {
      "text/plain": [
       "<Order total:3.50 due: 3.50>"
      ]
     },
     "metadata": {},
     "output_type": "display_data"
    },
    {
     "name": "stdout",
     "output_type": "stream",
     "text": [
      "<class 'str'>\n",
      "a\n",
      "<class 'str'>\n",
      "b\n",
      "<class 'str'>\n",
      "c\n",
      "<class 'str'>\n",
      "a\n",
      "<class 'str'>\n",
      "b\n",
      "<class 'str'>\n",
      "c\n"
     ]
    }
   ],
   "source": [
    "from fluentpy.c6.order import Customer\n",
    "from fluentpy.c6.order import LineItem\n",
    "from fluentpy.c6.order import Order\n",
    "from fluentpy.c6.order import fidelity_promo\n",
    "\n",
    "lhc = Customer('LHC48052', 999)\n",
    "cart = [LineItem('banana',4,0.5),LineItem('apple',3,0.4)]\n",
    "display(Order(lhc,cart,fidelity_promo))\n",
    "\n",
    "cart = [LineItem('orange',5,0.7)]\n",
    "display(Order(lhc,cart,fidelity_promo))\n",
    "\n",
    "cart = 'abc'\n",
    "for i in cart:\n",
    "    print(type(i))\n",
    "    print(i)\n",
    "cart = list(list(cart))\n",
    "for i in cart:\n",
    "    print(type(i))\n",
    "    print(i)"
   ]
  },
  {
   "cell_type": "markdown",
   "metadata": {},
   "source": [
    "# 3 Iterator and Generator\n",
    "From Fluent Python Chapter 14."
   ]
  },
  {
   "cell_type": "markdown",
   "metadata": {},
   "source": [
    "## Iterable 和 Iterator"
   ]
  },
  {
   "cell_type": "markdown",
   "metadata": {},
   "source": []
  },
  {
   "cell_type": "code",
   "execution_count": 4,
   "metadata": {
    "tags": []
   },
   "outputs": [
    {
     "data": {
      "text/plain": [
       "Sentence 'Crazy world,...dinary world.'"
      ]
     },
     "metadata": {},
     "output_type": "display_data"
    },
    {
     "name": "stdout",
     "output_type": "stream",
     "text": [
      "Crazy\n",
      "world\n",
      "extraordinary\n",
      "world\n",
      "Crazy\n",
      "world\n",
      "extraordinary\n",
      "world\n"
     ]
    },
    {
     "ename": "StopIteration",
     "evalue": "",
     "output_type": "error",
     "traceback": [
      "\u001b[0;31m---------------------------------------------------------------------------\u001b[0m",
      "\u001b[0;31mStopIteration\u001b[0m                             Traceback (most recent call last)",
      "\u001b[0;32m<ipython-input-4-102d83623dcb>\u001b[0m in \u001b[0;36m<module>\u001b[0;34m\u001b[0m\n\u001b[1;32m     12\u001b[0m \u001b[0;31m# for之后next()还有值,跟sentence1的实现有关\u001b[0m\u001b[0;34m\u001b[0m\u001b[0;34m\u001b[0m\u001b[0;34m\u001b[0m\u001b[0m\n\u001b[1;32m     13\u001b[0m \u001b[0;31m# sentence1 一次性把words构造出来,并且具备__getitem__()而没有__iter__()\u001b[0m\u001b[0;34m\u001b[0m\u001b[0;34m\u001b[0m\u001b[0;34m\u001b[0m\u001b[0m\n\u001b[0;32m---> 14\u001b[0;31m \u001b[0mnext\u001b[0m\u001b[0;34m(\u001b[0m\u001b[0mi\u001b[0m\u001b[0;34m)\u001b[0m\u001b[0;34m\u001b[0m\u001b[0;34m\u001b[0m\u001b[0m\n\u001b[0m",
      "\u001b[0;31mStopIteration\u001b[0m: "
     ]
    }
   ],
   "source": [
    "from fluentpy.c14.sentence import Sentence1\n",
    "\n",
    "s = Sentence1(\"Crazy world, extraordinary world.\")\n",
    "display(s)\n",
    "i = iter(s)\n",
    "for word in i:\n",
    "    print(word)\n",
    "\n",
    "for word in s:\n",
    "    print(word)\n",
    "\n",
    "# i 中已无可迭代的内容.\n",
    "next(i)"
   ]
  },
  {
   "cell_type": "code",
   "execution_count": 20,
   "metadata": {
    "tags": []
   },
   "outputs": [
    {
     "name": "stdout",
     "output_type": "stream",
     "text": [
      "Crazy\n",
      "world\n",
      "extraordinary\n",
      "world\n"
     ]
    },
    {
     "data": {
      "text/plain": [
       "'Crazy'"
      ]
     },
     "metadata": {},
     "output_type": "display_data"
    },
    {
     "data": {
      "text/plain": [
       "'Crazy'"
      ]
     },
     "metadata": {},
     "output_type": "display_data"
    },
    {
     "data": {
      "text/plain": [
       "'Crazy'"
      ]
     },
     "metadata": {},
     "output_type": "display_data"
    },
    {
     "data": {
      "text/plain": [
       "'world'"
      ]
     },
     "metadata": {},
     "output_type": "display_data"
    },
    {
     "data": {
      "text/plain": [
       "'extraordinary'"
      ]
     },
     "metadata": {},
     "output_type": "display_data"
    },
    {
     "data": {
      "text/plain": [
       "'world'"
      ]
     },
     "metadata": {},
     "output_type": "display_data"
    },
    {
     "ename": "StopIteration",
     "evalue": "",
     "output_type": "error",
     "traceback": [
      "\u001b[0;31m---------------------------------------------------------------------------\u001b[0m",
      "\u001b[0;31mIndexError\u001b[0m                                Traceback (most recent call last)",
      "\u001b[0;32m~/dev/repo/prac_py/src/fluentpy/c14/sentence.py\u001b[0m in \u001b[0;36m__next__\u001b[0;34m(self)\u001b[0m\n\u001b[1;32m     45\u001b[0m         \u001b[0;32mtry\u001b[0m\u001b[0;34m:\u001b[0m\u001b[0;34m\u001b[0m\u001b[0;34m\u001b[0m\u001b[0m\n\u001b[0;32m---> 46\u001b[0;31m             \u001b[0mword\u001b[0m \u001b[0;34m=\u001b[0m \u001b[0mself\u001b[0m\u001b[0;34m.\u001b[0m\u001b[0mworlds\u001b[0m\u001b[0;34m[\u001b[0m\u001b[0mself\u001b[0m\u001b[0;34m.\u001b[0m\u001b[0mindex\u001b[0m\u001b[0;34m]\u001b[0m\u001b[0;34m\u001b[0m\u001b[0;34m\u001b[0m\u001b[0m\n\u001b[0m\u001b[1;32m     47\u001b[0m         \u001b[0;32mexcept\u001b[0m \u001b[0mIndexError\u001b[0m\u001b[0;34m:\u001b[0m\u001b[0;34m\u001b[0m\u001b[0;34m\u001b[0m\u001b[0m\n",
      "\u001b[0;31mIndexError\u001b[0m: list index out of range",
      "\nDuring handling of the above exception, another exception occurred:\n",
      "\u001b[0;31mStopIteration\u001b[0m                             Traceback (most recent call last)",
      "\u001b[0;32m<ipython-input-20-13e685f4df37>\u001b[0m in \u001b[0;36m<module>\u001b[0;34m\u001b[0m\n\u001b[1;32m     12\u001b[0m \u001b[0mi\u001b[0m \u001b[0;34m=\u001b[0m \u001b[0miter\u001b[0m\u001b[0;34m(\u001b[0m\u001b[0ms\u001b[0m\u001b[0;34m)\u001b[0m\u001b[0;34m\u001b[0m\u001b[0;34m\u001b[0m\u001b[0m\n\u001b[1;32m     13\u001b[0m \u001b[0;32mwhile\u001b[0m\u001b[0;34m(\u001b[0m\u001b[0;32mTrue\u001b[0m\u001b[0;34m)\u001b[0m\u001b[0;34m:\u001b[0m\u001b[0;34m\u001b[0m\u001b[0;34m\u001b[0m\u001b[0m\n\u001b[0;32m---> 14\u001b[0;31m     \u001b[0mdisplay\u001b[0m\u001b[0;34m(\u001b[0m\u001b[0mnext\u001b[0m\u001b[0;34m(\u001b[0m\u001b[0mi\u001b[0m\u001b[0;34m)\u001b[0m\u001b[0;34m)\u001b[0m\u001b[0;34m\u001b[0m\u001b[0;34m\u001b[0m\u001b[0m\n\u001b[0m\u001b[1;32m     15\u001b[0m \u001b[0;34m\u001b[0m\u001b[0m\n",
      "\u001b[0;32m~/dev/repo/prac_py/src/fluentpy/c14/sentence.py\u001b[0m in \u001b[0;36m__next__\u001b[0;34m(self)\u001b[0m\n\u001b[1;32m     46\u001b[0m             \u001b[0mword\u001b[0m \u001b[0;34m=\u001b[0m \u001b[0mself\u001b[0m\u001b[0;34m.\u001b[0m\u001b[0mworlds\u001b[0m\u001b[0;34m[\u001b[0m\u001b[0mself\u001b[0m\u001b[0;34m.\u001b[0m\u001b[0mindex\u001b[0m\u001b[0;34m]\u001b[0m\u001b[0;34m\u001b[0m\u001b[0;34m\u001b[0m\u001b[0m\n\u001b[1;32m     47\u001b[0m         \u001b[0;32mexcept\u001b[0m \u001b[0mIndexError\u001b[0m\u001b[0;34m:\u001b[0m\u001b[0;34m\u001b[0m\u001b[0;34m\u001b[0m\u001b[0m\n\u001b[0;32m---> 48\u001b[0;31m             \u001b[0;32mraise\u001b[0m \u001b[0mStopIteration\u001b[0m\u001b[0;34m(\u001b[0m\u001b[0;34m)\u001b[0m\u001b[0;34m\u001b[0m\u001b[0;34m\u001b[0m\u001b[0m\n\u001b[0m\u001b[1;32m     49\u001b[0m         \u001b[0mself\u001b[0m\u001b[0;34m.\u001b[0m\u001b[0mindex\u001b[0m \u001b[0;34m+=\u001b[0m \u001b[0;36m1\u001b[0m\u001b[0;34m\u001b[0m\u001b[0;34m\u001b[0m\u001b[0m\n\u001b[1;32m     50\u001b[0m         \u001b[0;32mreturn\u001b[0m \u001b[0mword\u001b[0m\u001b[0;34m\u001b[0m\u001b[0;34m\u001b[0m\u001b[0m\n",
      "\u001b[0;31mStopIteration\u001b[0m: "
     ]
    }
   ],
   "source": [
    "from fluentpy.c14.sentence import Sentence2\n",
    "\n",
    "s = Sentence2(\"Crazy world, extraordinary world.\")\n",
    "for word in s:\n",
    "    print(word)\n",
    "\n",
    "# iter()每次构造新的迭代器\n",
    "display(next(iter(s)))\n",
    "display(next(iter(s)))\n",
    "\n",
    "# 新的迭代器,重新开始\n",
    "# while 不会捕捉stopiteration异常\n",
    "i = iter(s)\n",
    "while(True):\n",
    "    display(next(i))\n",
    "\n"
   ]
  },
  {
   "cell_type": "markdown",
   "metadata": {},
   "source": [
    "## 迭代器中使用生成器函数 yield"
   ]
  },
  {
   "cell_type": "code",
   "execution_count": 7,
   "metadata": {
    "tags": []
   },
   "outputs": [
    {
     "name": "stdout",
     "output_type": "stream",
     "text": [
      "in Sentence 3.\n",
      "Sentence3\n",
      "in Sentence 3.\n",
      "Crazy\n",
      "in Sentence 3.\n",
      "world\n",
      "in Sentence 3.\n",
      "extraordinary\n",
      "in Sentence 3.\n",
      "world\n",
      "in Sentence 3.\n"
     ]
    },
    {
     "data": {
      "text/plain": [
       "'Sentence3'"
      ]
     },
     "execution_count": 7,
     "metadata": {},
     "output_type": "execute_result"
    }
   ],
   "source": [
    "from fluentpy.c14.sentence import Sentence3\n",
    "\n",
    "s = Sentence3(\"Sentence3, Crazy world, extraordinary world.\")\n",
    "for word in s:\n",
    "    print(word)\n",
    "\n",
    "next(iter(s))"
   ]
  },
  {
   "cell_type": "code",
   "execution_count": 6,
   "metadata": {
    "lines_to_next_cell": 2,
    "tags": []
   },
   "outputs": [
    {
     "name": "stdout",
     "output_type": "stream",
     "text": [
      "Sentence\n",
      "4\n",
      "Crazy\n",
      "world\n",
      "extraordinary\n",
      "world\n",
      "end\n",
      "with\n",
      "sentence\n",
      "4\n"
     ]
    },
    {
     "data": {
      "text/plain": [
       "'Sentence'"
      ]
     },
     "execution_count": 6,
     "metadata": {},
     "output_type": "execute_result"
    }
   ],
   "source": [
    "from fluentpy.c14.sentence import Sentence4\n",
    "\n",
    "s = Sentence4(\"Sentence 4, Crazy world, extraordinary world.\")\n",
    "for word in s:\n",
    "    print(word)"
   ]
  },
  {
   "cell_type": "markdown",
   "metadata": {},
   "source": [
    "## 生成器函数:yield from(广度和深度搜索)"
   ]
  },
  {
   "cell_type": "code",
   "execution_count": 5,
   "metadata": {
    "tags": []
   },
   "outputs": [
    {
     "name": "stdout",
     "output_type": "stream",
     "text": [
      "before yield:Node(0)\n",
      "out print:Node(0)\n",
      "after yield:Node(0)\n",
      "in for Node(1)\n",
      "before yield:Node(1)\n",
      "Node(1)\n",
      "after yield:Node(1)\n",
      "in for Node(11)\n",
      "before yield:Node(11)\n",
      "Node(11)\n",
      "after yield:Node(11)\n",
      "in for Node(12)\n",
      "before yield:Node(12)\n",
      "Node(12)\n",
      "after yield:Node(12)\n",
      "in for Node(2)\n",
      "before yield:Node(2)\n",
      "Node(2)\n",
      "after yield:Node(2)\n",
      "in for Node(21)\n",
      "before yield:Node(21)\n",
      "Node(21)\n",
      "after yield:Node(21)\n",
      "in for Node(3)\n",
      "before yield:Node(3)\n",
      "Node(3)\n",
      "after yield:Node(3)\n",
      "in for Node(31)\n",
      "before yield:Node(31)\n",
      "Node(31)\n",
      "after yield:Node(31)\n",
      "======================\n",
      "inner print:before yield:Node(0)\n",
      "out print:Node(0)\n",
      "inner print:after yield:Node(0)\n",
      "inner print:before yield:Node(1)\n",
      "out print:Node(1)\n",
      "inner print:after yield:Node(1)\n",
      "inner print:before yield:Node(11)\n",
      "out print:Node(11)\n",
      "inner print:after yield:Node(11)\n",
      "inner print:before yield:Node(12)\n",
      "out print:Node(12)\n",
      "inner print:after yield:Node(12)\n",
      "inner print:before yield:Node(2)\n",
      "out print:Node(2)\n",
      "inner print:after yield:Node(2)\n",
      "inner print:before yield:Node(21)\n",
      "out print:Node(21)\n",
      "inner print:after yield:Node(21)\n",
      "inner print:before yield:Node(3)\n",
      "out print:Node(3)\n",
      "inner print:after yield:Node(3)\n",
      "inner print:before yield:Node(31)\n",
      "out print:Node(31)\n",
      "inner print:after yield:Node(31)\n",
      "======================\n",
      "out print:Node(0)\n",
      "out print:Node(1)\n",
      "out print:Node(2)\n",
      "out print:Node(3)\n",
      "out print:Node(11)\n",
      "out print:Node(12)\n",
      "out print:Node(21)\n",
      "out print:Node(31)\n"
     ]
    }
   ],
   "source": [
    "from pycookbook.c4.node44 import Node\n",
    "\n",
    "root = Node(0)\n",
    "c1 = Node(1)\n",
    "c2 = Node(2)\n",
    "c3 = Node(3)\n",
    "\n",
    "root.add_child(c1)\n",
    "root.add_child(c2)\n",
    "root.add_child(c3)\n",
    "\n",
    "c1.add_child(Node(11))\n",
    "c1.add_child(Node(12))\n",
    "c2.add_child(Node(21))\n",
    "c3.add_child(Node(31))\n",
    "\n",
    "for ch in root.depth_first():\n",
    "    print(f'out print:{ch}')\n",
    "\n",
    "print('======================')\n",
    "for ch in root.depth_first_yield_from():\n",
    "    print(f'out print:{ch}')\n",
    "\n",
    "print('======================')\n",
    "isRoot = True\n",
    "for ch in root.width_first(isRoot):\n",
    "    print(f'out print:{ch}')\n",
    "    isRoot = False"
   ]
  },
  {
   "cell_type": "markdown",
   "metadata": {},
   "source": [
    "# 4. Decroator"
   ]
  },
  {
   "cell_type": "markdown",
   "metadata": {},
   "source": [
    "## 4.1 装饰器加载即运行\n",
    "函数的默认参数也是这个在装载时运行."
   ]
  },
  {
   "cell_type": "code",
   "execution_count": 2,
   "metadata": {
    "tags": []
   },
   "outputs": [
    {
     "name": "stdout",
     "output_type": "stream",
     "text": [
      "run register(<function f1 at 0x10d7f0e50>)\n",
      "run register(<function f2 at 0x10d877940>)\n"
     ]
    }
   ],
   "source": [
    "import fluentpy.c7.regi as re\n",
    "\n"
   ]
  },
  {
   "cell_type": "code",
   "execution_count": 4,
   "metadata": {
    "tags": []
   },
   "outputs": [
    {
     "data": {
      "text/plain": [
       "[<function fluentpy.c7.regi.f1()>, <function fluentpy.c7.regi.f2()>]"
      ]
     },
     "metadata": {},
     "output_type": "display_data"
    },
    {
     "data": {
      "text/plain": [
       "'f1'"
      ]
     },
     "metadata": {},
     "output_type": "display_data"
    },
    {
     "name": "stdout",
     "output_type": "stream",
     "text": [
      "running f1()\n"
     ]
    }
   ],
   "source": [
    "# 导入后registry即有值\n",
    "display(re.registry)\n",
    "# 装饰器返回的还是原函数,所以f1的元数据保持不变.\n",
    "display(re.f1.__name__)\n",
    "re.f1()"
   ]
  },
  {
   "cell_type": "code",
   "execution_count": 6,
   "metadata": {},
   "outputs": [
    {
     "data": {
      "text/plain": [
       "10.0"
      ]
     },
     "metadata": {},
     "output_type": "display_data"
    },
    {
     "data": {
      "text/plain": [
       "12.5"
      ]
     },
     "metadata": {},
     "output_type": "display_data"
    },
    {
     "data": {
      "text/plain": [
       "('new_value', 'total')"
      ]
     },
     "execution_count": 6,
     "metadata": {},
     "output_type": "execute_result"
    }
   ],
   "source": [
    "import fluentpy.c7.average as av\n",
    "\n",
    "# make_sum_average()运行后,生产出average\n",
    "mav = av.make_sum_average()\n",
    "display(mav(10))\n",
    "display(mav(15))\n",
    "mav.__code__.co_varnames"
   ]
  },
  {
   "cell_type": "code",
   "execution_count": 4,
   "metadata": {},
   "outputs": [
    {
     "data": {
      "text/plain": [
       "('series',)"
      ]
     },
     "execution_count": 4,
     "metadata": {},
     "output_type": "execute_result"
    }
   ],
   "source": [
    "mav.__code__.co_freevars"
   ]
  },
  {
   "cell_type": "code",
   "execution_count": 5,
   "metadata": {},
   "outputs": [
    {
     "data": {
      "text/plain": [
       "[10, 15]"
      ]
     },
     "execution_count": 5,
     "metadata": {},
     "output_type": "execute_result"
    }
   ],
   "source": [
    "# __closure__中保存着闭包的元素,本例中是series,cell_contents是series的值.\n",
    "mav.__closure__[0].cell_contents"
   ]
  },
  {
   "cell_type": "code",
   "execution_count": 16,
   "metadata": {},
   "outputs": [
    {
     "data": {
      "text/plain": [
       "11.0"
      ]
     },
     "execution_count": 16,
     "metadata": {},
     "output_type": "execute_result"
    }
   ],
   "source": [
    "mav = av.make_average()\n",
    "mav(10)\n",
    "mav(12)"
   ]
  },
  {
   "cell_type": "code",
   "execution_count": 10,
   "metadata": {},
   "outputs": [
    {
     "ename": "UnboundLocalError",
     "evalue": "local variable 'count' referenced before assignment",
     "output_type": "error",
     "traceback": [
      "\u001b[0;31m---------------------------------------------------------------------------\u001b[0m",
      "\u001b[0;31mUnboundLocalError\u001b[0m                         Traceback (most recent call last)",
      "\u001b[0;32m<ipython-input-10-2ff088019cf6>\u001b[0m in \u001b[0;36m<module>\u001b[0;34m\u001b[0m\n\u001b[1;32m      2\u001b[0m     \u001b[0mcount\u001b[0m \u001b[0;34m+=\u001b[0m \u001b[0;36m1\u001b[0m\u001b[0;34m\u001b[0m\u001b[0;34m\u001b[0m\u001b[0m\n\u001b[1;32m      3\u001b[0m     \u001b[0;32mreturn\u001b[0m \u001b[0mcount\u001b[0m\u001b[0;34m\u001b[0m\u001b[0;34m\u001b[0m\u001b[0m\n\u001b[0;32m----> 4\u001b[0;31m \u001b[0mx1\u001b[0m\u001b[0;34m(\u001b[0m\u001b[0;34m)\u001b[0m\u001b[0;34m\u001b[0m\u001b[0;34m\u001b[0m\u001b[0m\n\u001b[0m",
      "\u001b[0;32m<ipython-input-10-2ff088019cf6>\u001b[0m in \u001b[0;36mx1\u001b[0;34m()\u001b[0m\n\u001b[1;32m      1\u001b[0m \u001b[0;32mdef\u001b[0m \u001b[0mx1\u001b[0m\u001b[0;34m(\u001b[0m\u001b[0;34m)\u001b[0m\u001b[0;34m:\u001b[0m\u001b[0;34m\u001b[0m\u001b[0;34m\u001b[0m\u001b[0m\n\u001b[0;32m----> 2\u001b[0;31m     \u001b[0mcount\u001b[0m \u001b[0;34m+=\u001b[0m \u001b[0;36m1\u001b[0m\u001b[0;34m\u001b[0m\u001b[0;34m\u001b[0m\u001b[0m\n\u001b[0m\u001b[1;32m      3\u001b[0m     \u001b[0;32mreturn\u001b[0m \u001b[0mcount\u001b[0m\u001b[0;34m\u001b[0m\u001b[0;34m\u001b[0m\u001b[0m\n\u001b[1;32m      4\u001b[0m \u001b[0mx1\u001b[0m\u001b[0;34m(\u001b[0m\u001b[0;34m)\u001b[0m\u001b[0;34m\u001b[0m\u001b[0;34m\u001b[0m\u001b[0m\n",
      "\u001b[0;31mUnboundLocalError\u001b[0m: local variable 'count' referenced before assignment"
     ]
    }
   ],
   "source": [
    "def x1():\n",
    "    count += 1\n",
    "    return count\n",
    "x1()"
   ]
  },
  {
   "cell_type": "markdown",
   "metadata": {},
   "source": [
    "## 简单装饰器 timeit"
   ]
  },
  {
   "cell_type": "code",
   "execution_count": 3,
   "metadata": {
    "tags": []
   },
   "outputs": [
    {
     "name": "stdout",
     "output_type": "stream",
     "text": [
      "******************** Calling snooze(0.5)\n",
      "00.50406557 snooze(0.5) --> None\n",
      "******************** Calling factorial(6),6!=\n",
      "00.00000097 factorial(1) --> 1\n",
      "00.00007083 factorial(2) --> 2\n",
      "00.00012478 factorial(3) --> 6\n",
      "00.00017559 factorial(4) --> 24\n",
      "00.00022486 factorial(5) --> 120\n",
      "00.00027752 factorial(6) --> 720\n",
      "After decroator,factorial --> clocked\n"
     ]
    }
   ],
   "source": [
    "import fluentpy.c7.usetimeit as ut\n",
    "\n",
    "print('*'*20,'Calling snooze(0.5)')\n",
    "ut.snooze(0.5)\n",
    "print('*'*20,'Calling factorial(6),6!=')\n",
    "ut.factorial(6)\n",
    "# 装饰器没有使用@wraps(),函数原来的信息丢失.\n",
    "print(f'After decroator,factorial --> {ut.factorial.__name__}')"
   ]
  },
  {
   "cell_type": "code",
   "execution_count": 11,
   "metadata": {
    "tags": []
   },
   "outputs": [
    {
     "name": "stdout",
     "output_type": "stream",
     "text": [
      "00.00001494 fibonacci(1) --> 1\n",
      "00.00000086 fibonacci(0) --> 0\n",
      "00.00000080 fibonacci(1) --> 1\n",
      "00.00008431 fibonacci(2) --> 1\n",
      "00.00043836 fibonacci(3) --> 2\n",
      "00.00000041 fibonacci(0) --> 0\n",
      "00.00000043 fibonacci(1) --> 1\n",
      "00.00323095 fibonacci(2) --> 1\n",
      "00.00000070 fibonacci(1) --> 1\n",
      "00.00000075 fibonacci(0) --> 0\n",
      "00.00000091 fibonacci(1) --> 1\n",
      "00.00006189 fibonacci(2) --> 1\n",
      "00.00013084 fibonacci(3) --> 2\n",
      "00.00362917 fibonacci(4) --> 3\n",
      "00.00411098 fibonacci(5) --> 5\n"
     ]
    },
    {
     "data": {
      "text/plain": [
       "5"
      ]
     },
     "execution_count": 11,
     "metadata": {},
     "output_type": "execute_result"
    }
   ],
   "source": [
    "import fluentpy.c7.usetimeit as ut\n",
    "\n",
    "ut.fibonacci(5)"
   ]
  },
  {
   "cell_type": "code",
   "execution_count": 9,
   "metadata": {
    "tags": []
   },
   "outputs": [
    {
     "name": "stdout",
     "output_type": "stream",
     "text": [
      "00.00000214 fibonacci_cache(10) --> 55\n"
     ]
    },
    {
     "data": {
      "text/plain": [
       "55"
      ]
     },
     "execution_count": 9,
     "metadata": {},
     "output_type": "execute_result"
    }
   ],
   "source": [
    "import fluentpy.c7.usetimeit as ut\n",
    "\n",
    "ut.fibonacci_cache(10)"
   ]
  },
  {
   "cell_type": "markdown",
   "metadata": {},
   "source": [
    "## 带参数的装饰器1\n",
    "fluentp C7-22.  \n",
    "注意闭包的自由变量registry作用域."
   ]
  },
  {
   "cell_type": "code",
   "execution_count": 2,
   "metadata": {
    "tags": []
   },
   "outputs": [
    {
     "name": "stdout",
     "output_type": "stream",
     "text": [
      "registry:4504258592 it's len->0\n",
      "running register(active=False) -> decorate(<function f1 at 0x10c79cc10>)\n",
      "complete regi, registry:4504258592 it's len->0\n",
      "r:4504257696 it's len->0\n",
      "registry:4504258592 it's len->0\n",
      "running register(active=False) -> decorate(<function f2 at 0x10c7ad160>)\n",
      "complete regi, registry:4504258592 it's len->0\n",
      "r:4504257696 it's len->0\n",
      "registry:4504258592 it's len->0\n",
      "running register(active=True) -> decorate(<function f4 at 0x10c7ad700>)\n",
      "complete regi, registry:4504258592 it's len->1\n",
      "r:4504257696 it's len->1\n",
      "registry:4504258592 it's len->1\n",
      "running register(active=True) -> decorate(<function f5 at 0x10c7adc10>)\n",
      "complete regi, registry:4504258592 it's len->2\n",
      "r:4504257696 it's len->2\n"
     ]
    }
   ],
   "source": [
    "import fluentpy.c7.regi_param as regi_p\n",
    "\n",
    "# 加载即运行,但装饰器每次一个新的register,导致registry没有累加\n",
    "# 如果需要不断累加,像fluentpy C7.22中一样,把registry定义在module级别\n",
    "# 这个主要想看下如何获取闭包的变量,如pycookbook C7.12"
   ]
  },
  {
   "cell_type": "code",
   "execution_count": 3,
   "metadata": {
    "tags": []
   },
   "outputs": [
    {
     "data": {
      "text/plain": [
       "<function fluentpy.c7.regi_param.register(active=False, r={<function f4 at 0x10c7ad700>, <function f5 at 0x10c7adc10>})>"
      ]
     },
     "metadata": {},
     "output_type": "display_data"
    },
    {
     "name": "stdout",
     "output_type": "stream",
     "text": [
      "registry:4504258592 it's len->2\n"
     ]
    },
    {
     "data": {
      "text/plain": [
       "<function fluentpy.c7.regi_param.register.<locals>.decorate(func)>"
      ]
     },
     "metadata": {},
     "output_type": "display_data"
    },
    {
     "name": "stdout",
     "output_type": "stream",
     "text": [
      "running register(active=True) -> decorate(<function f1 at 0x10c79cc10>)\n",
      "complete regi, registry:4504258592 it's len->3\n",
      "r:4504257696 it's len->3\n"
     ]
    },
    {
     "data": {
      "text/plain": [
       "<function fluentpy.c7.regi_param.f1()>"
      ]
     },
     "metadata": {},
     "output_type": "display_data"
    },
    {
     "name": "stdout",
     "output_type": "stream",
     "text": [
      "running f1()\n"
     ]
    },
    {
     "data": {
      "text/plain": [
       "3"
      ]
     },
     "metadata": {},
     "output_type": "display_data"
    },
    {
     "name": "stdout",
     "output_type": "stream",
     "text": [
      "running register(active=True) -> decorate(<function f3 at 0x10c7ad040>)\n",
      "complete regi, registry:4504258592 it's len->4\n",
      "r:4504257696 it's len->4\n"
     ]
    },
    {
     "data": {
      "text/plain": [
       "4"
      ]
     },
     "metadata": {},
     "output_type": "display_data"
    },
    {
     "name": "stdout",
     "output_type": "stream",
     "text": [
      "running f3()\n"
     ]
    }
   ],
   "source": [
    "f = regi_p.register\n",
    "display(f)\n",
    "# 手动注册,一直使用装饰器的引用\n",
    "deco = f(active=True)\n",
    "display(deco)\n",
    "f_run = deco(regi_p.f1)\n",
    "display(f_run)\n",
    "# run f1()\n",
    "f_run()\n",
    "display(len(deco.get_registry()))\n",
    "f_run = deco(regi_p.f3)\n",
    "display(len(deco.get_registry()))\n",
    "# run f3()\n",
    "f_run()"
   ]
  },
  {
   "cell_type": "code",
   "execution_count": 4,
   "metadata": {
    "tags": []
   },
   "outputs": [
    {
     "name": "stdout",
     "output_type": "stream",
     "text": [
      "registry:4504258592 it's len->4\n",
      "running register(active=True) -> decorate(<function f3 at 0x10c7ad040>)\n",
      "complete regi, registry:4504258592 it's len->4\n",
      "r:4504257696 it's len->4\n",
      "running f3()\n"
     ]
    }
   ],
   "source": [
    "g = regi_p.register\n",
    "deco = g(active=True)\n",
    "f_run= deco(regi_p.f3)\n",
    "f_run()"
   ]
  },
  {
   "cell_type": "markdown",
   "metadata": {},
   "source": [
    "## 带参数的装饰器2\n",
    "pycookbook C9.2和C9.4"
   ]
  },
  {
   "cell_type": "code",
   "execution_count": 8,
   "metadata": {
    "tags": []
   },
   "outputs": [
    {
     "data": {
      "text/plain": [
       "<function pycookbook.c9.logged.add(x, y)>"
      ]
     },
     "metadata": {},
     "output_type": "display_data"
    },
    {
     "data": {
      "text/plain": [
       "<function pycookbook.c9.logged.add(x, y)>"
      ]
     },
     "metadata": {},
     "output_type": "display_data"
    },
    {
     "data": {
      "text/plain": [
       "5"
      ]
     },
     "metadata": {},
     "output_type": "display_data"
    },
    {
     "data": {
      "text/plain": [
       "9"
      ]
     },
     "execution_count": 8,
     "metadata": {},
     "output_type": "execute_result"
    }
   ],
   "source": [
    "from pycookbook.c9.logged import *\n",
    "import logging\n",
    "\n",
    "logging.basicConfig(level=logging.DEBUG)\n",
    "x = add\n",
    "display(x)\n",
    "display(x.__wrapped__)\n",
    "display(x(2,3))\n",
    "x(4,5)"
   ]
  },
  {
   "cell_type": "markdown",
   "metadata": {},
   "source": [
    "解构logged这个装饰器的运行机制"
   ]
  },
  {
   "cell_type": "code",
   "execution_count": 7,
   "metadata": {
    "tags": []
   },
   "outputs": [
    {
     "name": "stderr",
     "output_type": "stream",
     "text": [
      "CRITICAL:__main__:addIt\n",
      "wraps(func)->functools.partial(<function update_wrapper at 0x103b0c310>, wrapped=<function addIt at 0x1071f98b0>, assigned=('__module__', '__name__', '__qualname__', '__doc__', '__annotations__'), updated=('__dict__',))\n",
      "wrapper-><function addIt at 0x1071f9700>\n",
      "wraps(func)(wrapper)-><function addIt at 0x1071f9700>\n"
     ]
    },
    {
     "data": {
      "text/plain": [
       "<function pycookbook.c9.logged.logged.<locals>.decorate(func)>"
      ]
     },
     "metadata": {},
     "output_type": "display_data"
    },
    {
     "name": "stdout",
     "output_type": "stream",
     "text": [
      "wraps(func)->functools.partial(<function update_wrapper at 0x103b0c310>, wrapped=<function addIt at 0x1071f98b0>, assigned=('__module__', '__name__', '__qualname__', '__doc__', '__annotations__'), updated=('__dict__',))\n",
      "wrapper-><function addIt at 0x1071f9310>\n",
      "wraps(func)(wrapper)-><function addIt at 0x1071f9310>\n"
     ]
    },
    {
     "data": {
      "text/plain": [
       "<function __main__.addIt(x, y)>"
      ]
     },
     "metadata": {},
     "output_type": "display_data"
    },
    {
     "name": "stderr",
     "output_type": "stream",
     "text": [
      "CRITICAL:__main__:addIt\n"
     ]
    },
    {
     "data": {
      "text/plain": [
       "7"
      ]
     },
     "execution_count": 7,
     "metadata": {},
     "output_type": "execute_result"
    }
   ],
   "source": [
    "from pycookbook.c9.logged import *\n",
    "import logging\n",
    "\n",
    "logging.basicConfig(level=logging.DEBUG)\n",
    "\n",
    "def addIt(x,y):\n",
    "    return x+y\n",
    "\n",
    "logged(logging.CRITICAL)(addIt)(2,3)\n",
    "\n",
    "f = logged(logging.CRITICAL)\n",
    "display(f)\n",
    "f = f(addIt)\n",
    "# 由于@wraps的存在,这里保留了addIt的元信息.\n",
    "# 否则返回: <function pycookbook.c9.logged.logged.<locals>.decorate.<locals>.wrapper(*args, **kwargs)>\n",
    "# 如果返回了被decorate的func,就可以用实际参数进行调用了.\n",
    "display(f)\n",
    "f(3,4)"
   ]
  },
  {
   "cell_type": "markdown",
   "metadata": {},
   "source": [
    "## 带参数的装饰器3\n",
    "参数可选:pycb C9.6"
   ]
  },
  {
   "cell_type": "code",
   "execution_count": 2,
   "metadata": {
    "tags": []
   },
   "outputs": [
    {
     "name": "stdout",
     "output_type": "stream",
     "text": [
      "Condition func not None, execute loggeds with func...\n",
      "attach_method is None. get attatch_wrapper...\n",
      "attach_method is None. get attatch_wrapper...\n"
     ]
    }
   ],
   "source": [
    "from pycookbook.c9.loggeds import *\n",
    "import logging\n",
    "\n",
    "logging.basicConfig(level=logging.WARNING)\n",
    "\n",
    "@loggeds\n",
    "def addIt(x,y):\n",
    "    return x+y\n",
    "\n"
   ]
  },
  {
   "cell_type": "code",
   "execution_count": 3,
   "metadata": {
    "tags": []
   },
   "outputs": [
    {
     "data": {
      "text/plain": [
       "5"
      ]
     },
     "metadata": {},
     "output_type": "display_data"
    },
    {
     "name": "stdout",
     "output_type": "stream",
     "text": [
      "**********\n",
      "Condition func=None, return func loggeds...\n",
      "Condition func not None, execute loggeds with func...\n",
      "attach_method is None. get attatch_wrapper...\n",
      "attach_method is None. get attatch_wrapper...\n"
     ]
    },
    {
     "data": {
      "text/plain": [
       "'addParam test'"
      ]
     },
     "metadata": {},
     "output_type": "display_data"
    },
    {
     "name": "stderr",
     "output_type": "stream",
     "text": [
      "CRITICAL:param example:addParam test\n"
     ]
    },
    {
     "data": {
      "text/plain": [
       "6"
      ]
     },
     "metadata": {},
     "output_type": "display_data"
    },
    {
     "data": {
      "text/plain": [
       "'静态用法:'"
      ]
     },
     "metadata": {},
     "output_type": "display_data"
    },
    {
     "data": {
      "text/plain": [
       "'addParam test'"
      ]
     },
     "metadata": {},
     "output_type": "display_data"
    },
    {
     "data": {
      "text/plain": [
       "'用函数:'"
      ]
     },
     "metadata": {},
     "output_type": "display_data"
    },
    {
     "data": {
      "text/plain": [
       "'new_msg'"
      ]
     },
     "metadata": {},
     "output_type": "display_data"
    },
    {
     "data": {
      "text/plain": [
       "'动态用法:'"
      ]
     },
     "metadata": {},
     "output_type": "display_data"
    },
    {
     "data": {
      "text/plain": [
       "'new_msg'"
      ]
     },
     "metadata": {},
     "output_type": "display_data"
    },
    {
     "name": "stderr",
     "output_type": "stream",
     "text": [
      "CRITICAL:param example:new_msg\n"
     ]
    },
    {
     "data": {
      "text/plain": [
       "8"
      ]
     },
     "metadata": {},
     "output_type": "display_data"
    }
   ],
   "source": [
    "display(addIt(2,3))\n",
    "# log在函数定义时先执行了,等待addParam(3,3)的时候再执行.\n",
    "print('*'*10)\n",
    "\n",
    "@loggeds(level=logging.CRITICAL,message='addParam test',name='param example')\n",
    "def addParam(x,y):\n",
    "    return x+y\n",
    "\n",
    "# 以下访问闭包属性\n",
    "f = addParam\n",
    "display(f.logmsg)\n",
    "display(f(3,3))\n",
    "f.set_msg('new_msg')\n",
    "display('静态用法:',f.logmsg)\n",
    "display('用函数:',f.msg_it())\n",
    "display('动态用法:',f.get_msg())\n",
    "display(f(4,4))"
   ]
  },
  {
   "cell_type": "code",
   "execution_count": 6,
   "metadata": {},
   "outputs": [],
   "source": [
    "from pycookbook.c9.loggeds import *\n",
    "import logging"
   ]
  },
  {
   "cell_type": "markdown",
   "metadata": {},
   "source": [
    "loggeds运行时机和装饰器机制有关.见装饰器2的结构部分  \n",
    "相当于loggeds(addIt),运行loggeds一次,func is not None"
   ]
  },
  {
   "cell_type": "code",
   "execution_count": 8,
   "metadata": {
    "tags": []
   },
   "outputs": [
    {
     "name": "stdout",
     "output_type": "stream",
     "text": [
      "Condition func not None,return func loggeds...\n",
      "get attatch_wrapper...\n",
      "get attatch_wrapper...\n"
     ]
    }
   ],
   "source": [
    "@loggeds\n",
    "def addIt(x,y):\n",
    "    return x+y"
   ]
  },
  {
   "cell_type": "code",
   "execution_count": 9,
   "metadata": {
    "tags": []
   },
   "outputs": [
    {
     "name": "stderr",
     "output_type": "stream",
     "text": [
      "DEBUG:__main__:addIt\n"
     ]
    },
    {
     "data": {
      "text/plain": [
       "7"
      ]
     },
     "execution_count": 9,
     "metadata": {},
     "output_type": "execute_result"
    }
   ],
   "source": [
    "addIt(3,4)"
   ]
  },
  {
   "cell_type": "markdown",
   "metadata": {},
   "source": [
    "相当于loggeds(level=...)(addParam)  \n",
    "第一次运行func is None,返回partial(loggeds,...)即还是loggeds,再次运行时func is not None"
   ]
  },
  {
   "cell_type": "code",
   "execution_count": 7,
   "metadata": {
    "tags": []
   },
   "outputs": [
    {
     "name": "stdout",
     "output_type": "stream",
     "text": [
      "Condition func=None,return func loggeds...\n",
      "Condition func not None,return func loggeds...\n",
      "get attatch_wrapper...\n",
      "get attatch_wrapper...\n"
     ]
    }
   ],
   "source": [
    "\n",
    "@loggeds(level=logging.CRITICAL,message='addParam test',name='param example')\n",
    "def addParam(x,y):\n",
    "    return x+y"
   ]
  },
  {
   "cell_type": "markdown",
   "metadata": {},
   "source": [
    "## 将装饰器定义为类pycb C9.9"
   ]
  },
  {
   "cell_type": "markdown",
   "metadata": {},
   "source": [
    "### 类装饰器作用在方法上,起调__call__()"
   ]
  },
  {
   "cell_type": "code",
   "execution_count": 3,
   "metadata": {
    "tags": []
   },
   "outputs": [
    {
     "name": "stdout",
     "output_type": "stream",
     "text": [
      "in __init__(),wraps(func),f:functools.partial(<function update_wrapper at 0x104cc6310>, wrapped=<function add at 0x1081b6c10>, assigned=('__module__', '__name__', '__qualname__', '__doc__', '__annotations__'), updated=('__dict__',))\n",
      "**********\n",
      "self: <pycookbook.c9.profiled.Profiled object at 0x1082cd340>\n",
      "**********\n",
      "in __init__(),f(self),f:<pycookbook.c9.profiled.Profiled object at 0x1082cd340>\n"
     ]
    }
   ],
   "source": [
    "from pycookbook.c9.profiled import Profiled\n",
    "\n",
    "@Profiled\n",
    "def add(x,y):\n",
    "    return x+y"
   ]
  },
  {
   "cell_type": "code",
   "execution_count": 4,
   "metadata": {
    "tags": []
   },
   "outputs": [
    {
     "name": "stdout",
     "output_type": "stream",
     "text": [
      "in __call__()...\n",
      "ncalls:... 1\n"
     ]
    },
    {
     "data": {
      "text/plain": [
       "7"
      ]
     },
     "execution_count": 4,
     "metadata": {},
     "output_type": "execute_result"
    }
   ],
   "source": [
    "add(3,4)"
   ]
  },
  {
   "cell_type": "markdown",
   "metadata": {},
   "source": [
    "### 将类装饰器装饰在类的方法上"
   ]
  },
  {
   "cell_type": "code",
   "execution_count": 3,
   "metadata": {
    "tags": []
   },
   "outputs": [
    {
     "name": "stdout",
     "output_type": "stream",
     "text": [
      "===1===in __init__(),wraps(func)->functools.partial(<function update_wrapper at 0x103329310>, wrapped=<function addIt at 0x104f82c10>, assigned=('__module__', '__name__', '__qualname__', '__doc__', '__annotations__'), updated=('__dict__',))\n",
      "===2===self:<pycookbook.c9.profiled.Profiled object at 0x107128fa0>\n",
      "===3===in __init__(),f(self)-><pycookbook.c9.profiled.Profiled object at 0x107128fa0>\n",
      "***p:<pycookbook.c9.profiled.Profiled object at 0x107128fa0>,p.__wrapped__:<function addIt at 0x104f82c10>\n",
      "===4===in __call__(),ncalls:...1\n"
     ]
    },
    {
     "data": {
      "text/plain": [
       "7"
      ]
     },
     "execution_count": 3,
     "metadata": {},
     "output_type": "execute_result"
    }
   ],
   "source": [
    "from pycookbook.c9.profiled import Profiled\n",
    "\n",
    "def addIt(x,y):\n",
    "    return x+y\n",
    "\n",
    "p = Profiled(addIt)\n",
    "print(f'***p:{p},p.__wrapped__:{p.__wrapped__}')\n",
    "# p有__call__()函数,可调用,addIt(3,4)等同于p(3,4)\n",
    "p(3,4)"
   ]
  },
  {
   "cell_type": "code",
   "execution_count": 9,
   "metadata": {},
   "outputs": [
    {
     "name": "stdout",
     "output_type": "stream",
     "text": [
      "===1===in __init__(),wraps(func)->functools.partial(<function update_wrapper at 0x10e64c310>, wrapped=<function Spam.bar at 0x113b869d0>, assigned=('__module__', '__name__', '__qualname__', '__doc__', '__annotations__'), updated=('__dict__',))\n",
      "===2===self:<pycookbook.c9.profiled.Profiled object at 0x1135d9c10>\n",
      "===3===in __init__(),f(self)-><pycookbook.c9.profiled.Profiled object at 0x1135d9c10>\n",
      "===5===in __get__(),self-><pycookbook.c9.profiled.Profiled object at 0x1135d9c10>,instance-><__main__.Spam object at 0x1135d9a00>\n",
      "===4===in __call__(),ncalls:...1\n",
      "<__main__.Spam object at 0x1135d9a00> 3\n",
      "===5===in __get__(),self-><pycookbook.c9.profiled.Profiled object at 0x1135d9c10>,instance-><__main__.Spam object at 0x1135d9f40>\n",
      "===4===in __call__(),ncalls:...2\n",
      "<__main__.Spam object at 0x1135d9f40> 4\n"
     ]
    }
   ],
   "source": [
    "from pycookbook.c9.profiled import Profiled\n",
    "\n",
    "class Spam:\n",
    "    def bar(self,x):\n",
    "        print(self,x)\n",
    "    p = Profiled(bar)\n",
    "s = Spam()\n",
    "#p = Profiled(Spam.bar)\n",
    "#p.__get__(s,Spam)(3) #相当于在bar前定义@Profiled\n",
    "s.p(3) #这样写更清晰的表示p是描述器,只不过__get__()把p做为可执行函数绑定给Spam对象,并且p是类变量,只有一个.\n",
    "s1 = Spam()\n",
    "s1.p(4) #记录bar在不同对象中被调用的次数."
   ]
  },
  {
   "cell_type": "markdown",
   "metadata": {},
   "source": [
    "## 将装饰器作用在类方法上pycb C8.10\n",
    "比pycb C8.10@property 延迟计算简单. C8.10把@property的内容也附加上."
   ]
  },
  {
   "cell_type": "code",
   "execution_count": null,
   "metadata": {},
   "outputs": [],
   "source": [
    "from functools import wraps\n",
    "def profileds(fun):\n",
    "    ncall=0\n",
    "\n",
    "    @wraps(fun)\n",
    "    def wrapper(*args,**kwargs):\n",
    "        nonlocal ncall\n",
    "        ncall+=1\n",
    "        return fun(*args,**kwargs)\n",
    "\n",
    "    wrapper.ncall=lambda:ncall\n",
    "\n",
    "    return wrapper\n",
    "\n",
    "class Spam:\n",
    "    @profileds\n",
    "    def bar(self,x):\n",
    "        print(self,x)\n",
    "\n",
    "s = Spam()\n",
    "s.bar(3)\n",
    "s.bar.ncall()"
   ]
  },
  {
   "cell_type": "markdown",
   "metadata": {},
   "source": [
    "## 使用装饰器动态添加函数的参数 pycb C9.11"
   ]
  },
  {
   "cell_type": "code",
   "execution_count": 2,
   "metadata": {},
   "outputs": [],
   "source": [
    "from pycookbook.c9.option_debug import *\n",
    "\n",
    "@optional_debug\n",
    "def add(x,y):\n",
    "    return x+y"
   ]
  },
  {
   "cell_type": "code",
   "execution_count": 3,
   "metadata": {
    "tags": []
   },
   "outputs": [
    {
     "name": "stdout",
     "output_type": "stream",
     "text": [
      "Calling add\n"
     ]
    },
    {
     "data": {
      "text/plain": [
       "5"
      ]
     },
     "metadata": {},
     "output_type": "display_data"
    }
   ],
   "source": [
    "display(add(2,3))"
   ]
  },
  {
   "cell_type": "code",
   "execution_count": 4,
   "metadata": {},
   "outputs": [
    {
     "data": {
      "text/plain": [
       "<Signature (x, y, *, debug=True)>"
      ]
     },
     "metadata": {},
     "output_type": "display_data"
    }
   ],
   "source": [
    "import inspect\n",
    "display(inspect.signature(add))"
   ]
  },
  {
   "cell_type": "markdown",
   "metadata": {
    "lines_to_next_cell": 0
   },
   "source": [
    "## 使用装饰器扩展类的功能pycb C9.12\n",
    "装饰器作用在类之上."
   ]
  },
  {
   "cell_type": "code",
   "execution_count": null,
   "metadata": {
    "lines_to_next_cell": 0
   },
   "outputs": [],
   "source": [
    "from pycookbook.c9.c912 import *\n",
    "\n",
    "@log_getattri\n",
    "class A:\n",
    "    def __init__(self,x):\n",
    "        self.x = x\n",
    "    def spam(self):\n",
    "        pass\n",
    "    def __getattr__(self,name):\n",
    "        return 'default'\n",
    "\n",
    "a = A(40)\n",
    "display(a.x)\n",
    "display(a.y) #虽然重写了__getattribute__(),会捕捉attributeerror,不存在的属性会自动调用__getattr__()"
   ]
  },
  {
   "cell_type": "markdown",
   "metadata": {},
   "source": [
    "# 5. Object Oriented"
   ]
  },
  {
   "cell_type": "markdown",
   "metadata": {},
   "source": [
    "## 函数参数是默认参数时\n",
    "HauntedBus隐藏的bug."
   ]
  },
  {
   "cell_type": "code",
   "execution_count": 3,
   "metadata": {
    "lines_to_next_cell": 2
   },
   "outputs": [
    {
     "data": {
      "text/plain": [
       "['lhc']"
      ]
     },
     "metadata": {},
     "output_type": "display_data"
    },
    {
     "data": {
      "text/plain": [
       "['gxt']"
      ]
     },
     "metadata": {},
     "output_type": "display_data"
    }
   ],
   "source": [
    "from fluentpy.c8.HauntedBus import HauntedBus\n",
    "\n",
    "# 初始化有参数时无任何问题\n",
    "bus1 = HauntedBus(['lhc'])\n",
    "display(bus1.passengers)\n",
    "bus1.pick('gxt')\n",
    "bus1.drop('lhc')\n",
    "display(bus1.passengers)"
   ]
  },
  {
   "cell_type": "code",
   "execution_count": 5,
   "metadata": {},
   "outputs": [
    {
     "data": {
      "text/plain": [
       "['haunt', 'haunt']"
      ]
     },
     "metadata": {},
     "output_type": "display_data"
    },
    {
     "data": {
      "text/plain": [
       "['haunt', 'haunt']"
      ]
     },
     "metadata": {},
     "output_type": "display_data"
    }
   ],
   "source": [
    "bus2 = HauntedBus()\n",
    "bus2.pick('haunt')\n",
    "display(bus2.passengers)\n",
    "\n",
    "# 函数默认值在定义函数时计算,即在module加载时进行\n",
    "bus3 = HauntedBus()\n",
    "display(bus3.passengers)"
   ]
  },
  {
   "cell_type": "markdown",
   "metadata": {},
   "source": [
    "## SchoolBus \n",
    "正确的做法."
   ]
  },
  {
   "cell_type": "code",
   "execution_count": 4,
   "metadata": {},
   "outputs": [
    {
     "data": {
      "text/plain": [
       "['lhc']"
      ]
     },
     "metadata": {},
     "output_type": "display_data"
    },
    {
     "data": {
      "text/plain": [
       "['gcq']"
      ]
     },
     "metadata": {},
     "output_type": "display_data"
    }
   ],
   "source": [
    "from fluentpy.c8.SchoolBus import SchoolBus\n",
    "\n",
    "bus1 = SchoolBus()\n",
    "bus1.pick('lhc')\n",
    "display(bus1.passengers)\n",
    "\n",
    "bus2 = SchoolBus()\n",
    "bus2.pick('gcq')\n",
    "display(bus2.passengers)"
   ]
  },
  {
   "cell_type": "markdown",
   "metadata": {},
   "source": [
    "## 属性及属性覆盖\n",
    "每次属性查找，这个协议的方法实际上是由对象的特殊方法__getattribute__()调用。每次通过点号（ins.attribute）或者 \n",
    "getattr(ins, ‘attribute’)函数调用都会隐式的调用__getattribute__()，它的属性查找的顺序如下：\n",
    "1. 若判断是描述器优先于实例变量\n",
    "2. 查看该属性是否能在实例对象的dict中找到\n",
    "3. 查看该属性是否为实例的类对象的非数据描述符(只实现了__get__(),可以理解成描述器退化成类的属性)\n",
    "4. __getattri__()方法\n",
    "关联描述器 Stock1 例子"
   ]
  },
  {
   "cell_type": "code",
   "execution_count": 52,
   "metadata": {
    "tags": []
   },
   "outputs": [
    {
     "name": "stdout",
     "output_type": "stream",
     "text": [
      "=====>summer\n",
      "{'age': 2}\n",
      "{'age': 2}\n",
      "=====>Chicken\n",
      "{'__module__': 'fluentpy.c8.simple_bird', 'fly': False, '__init__': <function Chicken.__init__ at 0x1103c69d0>, 'chirp': <function Chicken.chirp at 0x1103c6a60>, '__doc__': None}\n",
      "{'__module__': 'fluentpy.c8.simple_bird', 'fly': False, '__init__': <function Chicken.__init__ at 0x1103c69d0>, 'chirp': <function Chicken.chirp at 0x1103c6a60>, '__doc__': None}\n",
      "=====>Bird\n",
      "{'__module__': 'fluentpy.c8.simple_bird', 'feather': True, 'chirp': <function Bird.chirp at 0x1103c6940>, '__dict__': <attribute '__dict__' of 'Bird' objects>, '__weakref__': <attribute '__weakref__' of 'Bird' objects>, '__doc__': None}\n",
      "{'__module__': 'fluentpy.c8.simple_bird', 'feather': True, 'chirp': <function Bird.chirp at 0x1103c6940>, '__dict__': <attribute '__dict__' of 'Bird' objects>, '__weakref__': <attribute '__weakref__' of 'Bird' objects>, '__doc__': None}\n"
     ]
    }
   ],
   "source": [
    "from fluentpy.c8.simple_bird import *Chicken, Chicken, Chicken, Chicken, Bird, Bird, Chicken, Chicken, Chicken, Bird, Chicken,  \n",
    "\n",
    "summer = Chicken(2)\n",
    "print('=====>summer')\n",
    "print(summer.__dict__)\n",
    "print(vars(summer)) #vars()返回__dict__属性\n",
    "print(summer.fly)\n",
    "print('=====>Chicken')\n",
    "print(Chicken.__dict__)\n",
    "print(vars(Chicken))\n",
    "print('=====>Bird')\n",
    "print(Bird.__dict__)\n",
    "print(vars(Bird))"
   ]
  },
  {
   "cell_type": "code",
   "execution_count": 4,
   "metadata": {
    "tags": []
   },
   "outputs": [
    {
     "name": "stdout",
     "output_type": "stream",
     "text": [
      "2 False\n"
     ]
    }
   ],
   "source": [
    "print(summer.age,summer.fly)"
   ]
  },
  {
   "cell_type": "code",
   "execution_count": 7,
   "metadata": {},
   "outputs": [
    {
     "data": {
      "text/plain": [
       "True"
      ]
     },
     "metadata": {},
     "output_type": "display_data"
    },
    {
     "data": {
      "text/plain": [
       "{'age': 2, 'fly': True}"
      ]
     },
     "metadata": {},
     "output_type": "display_data"
    },
    {
     "data": {
      "text/plain": [
       "mappingproxy({'__module__': 'fluentpy.c8.simple_bird',\n",
       "              'fly': False,\n",
       "              '__init__': <function fluentpy.c8.simple_bird.Chicken.__init__(self, age) -> None>,\n",
       "              'chirp': <function fluentpy.c8.simple_bird.Chicken.chirp()>,\n",
       "              '__doc__': None})"
      ]
     },
     "metadata": {},
     "output_type": "display_data"
    }
   ],
   "source": [
    "summer.fly=True\n",
    "display(summer.fly)  # 对象的属性赋值时,只会查找本对象的__dict__,若无此属性,自动添加.\n",
    "display(summer.__dict__)\n",
    "display(Chicken.__dict__)"
   ]
  },
  {
   "cell_type": "markdown",
   "metadata": {},
   "source": [
    "类的方法和函数的区别"
   ]
  },
  {
   "cell_type": "code",
   "execution_count": 44,
   "metadata": {
    "tags": []
   },
   "outputs": [
    {
     "name": "stdout",
     "output_type": "stream",
     "text": [
      "['__call__', '__class__', '__delattr__', '__dir__', '__doc__', '__eq__', '__format__', '__func__', '__ge__', '__get__', '__getattribute__', '__gt__', '__hash__', '__init__', '__init_subclass__', '__le__', '__lt__', '__ne__', '__new__', '__reduce__', '__reduce_ex__', '__repr__', '__self__', '__setattr__', '__sizeof__', '__str__', '__subclasshook__']\n"
     ]
    }
   ],
   "source": [
    "from fluentpy.c8.simple_bird import *\n",
    "from inspect import signature\n",
    "\n",
    "def outer_test(a):\n",
    "    print('out of class')\n",
    "\n",
    "ck = Chicken(2)\n",
    "print(dir(ck.chirp))"
   ]
  },
  {
   "cell_type": "code",
   "execution_count": 47,
   "metadata": {
    "tags": []
   },
   "outputs": [
    {
     "data": {
      "text/plain": [
       "method"
      ]
     },
     "metadata": {},
     "output_type": "display_data"
    },
    {
     "name": "stdout",
     "output_type": "stream",
     "text": [
      "()\n",
      "args *args\n",
      "kwargs **kwargs\n"
     ]
    },
    {
     "data": {
      "text/plain": [
       "function"
      ]
     },
     "metadata": {},
     "output_type": "display_data"
    },
    {
     "name": "stdout",
     "output_type": "stream",
     "text": [
      "('a',)\n",
      "(a)\n",
      "args *args\n",
      "kwargs **kwargs\n"
     ]
    }
   ],
   "source": [
    "display(type(ck.chirp)) # chirp是method,又分为bound和unboud,属性方法;会隐含自动传入self\n",
    "print(ck.chirp.__code__.co_varnames)\n",
    "# TODO:signature(ck.chirp)会出错\n",
    "for name,value in signature(ck.chirp.__call__).parameters.items():\n",
    "    print(name,value)\n",
    "ck.outer_test = outer_test\n",
    "display(type(ck.outer_test)) #不会自动传入self\n",
    "print(ck.outer_test.__code__.co_varnames)\n",
    "print(signature(ck.outer_test))"
   ]
  },
  {
   "cell_type": "markdown",
   "metadata": {
    "lines_to_next_cell": 0
   },
   "source": [
    "## super()的用法/解构--关联描述器\n",
    "super在不同参数下可以代表unbound、bound到对象、bound到类型，这点在docstring当中其实写的比较清楚了，\n",
    "Python3省略所有参数时候相当于super(self, class)，是bound到对象。而super(class, class)自然是绑定到了父类。\n",
    "**实质上是对描述器的理解加深,一个描述器,通过__get__()的访问,可以将描述器放置到某实例,即绑定.**"
   ]
  },
  {
   "cell_type": "code",
   "execution_count": null,
   "metadata": {
    "lines_to_next_cell": 0
   },
   "outputs": [],
   "source": [
    "from fluentpy.c8.simple_bird import *\n",
    "\n",
    "ck = Chicken(2)\n",
    "display(Chicken.__mro__)\n",
    "display(Chicken.__dict__)\n",
    "display(Bird.__dict__)\n",
    "\n",
    "# o = super()\n",
    "# print(o)\n",
    "# print(o.chirp)\n",
    "o = super(Chicken, ck)  # ==类内部的super()的用法,mro链的内容由ck确定并绑定在ck上的Bird(Chicken的下一跳)的chirp方法.\n",
    "print(o)\n",
    "print(isinstance(o,super)) \n",
    "chirp1 = getattr(o,'chirp')\n",
    "display(chirp1) # 已绑定至ck实例\n",
    "print(o.chirp)\n",
    "print(o.chirp())\n",
    "print(o.funcname)\n",
    "o = super(Chicken, Chicken)  # 同上注释,bound super object; requires issubclass(type2, type)\n",
    "print(o)\n",
    "chirp3=getattr(o,'chirp') # 未绑定至实例,为function\n",
    "chirp4=o.chirp.__get__(None,Chicken) # 未绑定至实例,返回function本身\n",
    "display(chirp3 is chirp4) #同一id\n",
    "chirp2 = getattr(o,'chirp').__get__(ck) # function也是描述器,调用省略了self,绑定至ck,为bound method\n",
    "display(chirp2) \n",
    "display(chirp1==chirp2)\n",
    "display(chirp1 is chirp2)\n",
    "print(o.chirp)\n",
    "print(o.chirp(ck))\n",
    "print(o.funcname())  # funcname()绑定在Chicken上,这里默认传入的cls 是 Chicken\n",
    "print(\"=\" * 5, \">no second param.\")\n",
    "o = super(Chicken)  # unbound super object\n",
    "print(hasattr(o, \"chirp\"))\n",
    "b1 = o.__get__(ck,type(ck)) #o.__get__(ck,type(ck)),可以把o当做Chicken中的描述器,使用ck访问,bound super object\n",
    "b2 = o.__get__(ck)\n",
    "b3 = o.__get__(None,type(ck))\n",
    "print(b1)\n",
    "print(b2)\n",
    "print(b1==b2)\n",
    "print(b3) # 返回装饰器o本身,b3 is o\n",
    "print(o is b3)\n",
    "print(b2.__thisclass__) # Chicken\n",
    "print(b2.__self__) #绑定至ck为ck这个实例,绑定至Chicken为Chicken这个类\n",
    "print(b2.__self_class__)\n",
    "print(isinstance(b1,super))\n",
    "print(b1.chirp) # dispatch to the method of Bird.chirp\n",
    "# print(type(o).__dict__) #在类上访问__dict__才能看到super(Chicken)里的内容.\n",
    "print(b1.feather) # 如果访问fly出错,因为Bird没有fly的属性.\n",
    "b1 = o.__get__(Chicken) \n",
    "b2 = o.__get__(Chicken,type(Chicken))\n",
    "print(b1)\n",
    "print(b2)\n",
    "print(b1 == b2)\n",
    "print(b1.chirp)\n",
    "print(b1.chirp.__get__(ck)) # 将function chirp绑定至实例ck\n",
    "print(b2.__thisclass__) # Chicken\n",
    "print(b2.__self__) #绑定至ck为ck这个实例,绑定至Chicken为Chicken这个类\n",
    "print(b2.__self_class__)\n",
    "o = super(Bird)\n",
    "print(hasattr(o, \"chirp\"))"
   ]
  },
  {
   "cell_type": "markdown",
   "metadata": {},
   "source": [
    "## Vector2d_v0: fulentpy C9.1\n",
    "实现默认方法,不是每个类都需要这么实现,如果要借助内置方法如abs(),repr(),str()即可实现其方法,__iter__()使对象内容可迭代,即可用在类似于tuple()和list()之中."
   ]
  },
  {
   "cell_type": "code",
   "execution_count": 6,
   "metadata": {},
   "outputs": [
    {
     "data": {
      "text/plain": [
       "5.0"
      ]
     },
     "metadata": {},
     "output_type": "display_data"
    },
    {
     "data": {
      "text/plain": [
       "True"
      ]
     },
     "metadata": {},
     "output_type": "display_data"
    },
    {
     "ename": "IndexError",
     "evalue": "Replacement index 2 out of range for positional args tuple",
     "output_type": "error",
     "traceback": [
      "\u001b[0;31m---------------------------------------------------------------------------\u001b[0m",
      "\u001b[0;31mIndexError\u001b[0m                                Traceback (most recent call last)",
      "\u001b[0;32m<ipython-input-6-9e05be8b5104>\u001b[0m in \u001b[0;36m<module>\u001b[0;34m\u001b[0m\n\u001b[1;32m      5\u001b[0m \u001b[0mdisplay\u001b[0m\u001b[0;34m(\u001b[0m\u001b[0mabs\u001b[0m\u001b[0;34m(\u001b[0m\u001b[0mv\u001b[0m\u001b[0;34m)\u001b[0m\u001b[0;34m)\u001b[0m\u001b[0;34m\u001b[0m\u001b[0;34m\u001b[0m\u001b[0m\n\u001b[1;32m      6\u001b[0m \u001b[0mdisplay\u001b[0m\u001b[0;34m(\u001b[0m\u001b[0mop\u001b[0m\u001b[0;34m.\u001b[0m\u001b[0meq\u001b[0m\u001b[0;34m(\u001b[0m\u001b[0mv\u001b[0m\u001b[0;34m,\u001b[0m\u001b[0;34m(\u001b[0m\u001b[0;36m3\u001b[0m\u001b[0;34m,\u001b[0m\u001b[0;36m4\u001b[0m\u001b[0;34m)\u001b[0m\u001b[0;34m)\u001b[0m\u001b[0;34m)\u001b[0m\u001b[0;34m\u001b[0m\u001b[0;34m\u001b[0m\u001b[0m\n\u001b[0;32m----> 7\u001b[0;31m \u001b[0mdisplay\u001b[0m\u001b[0;34m(\u001b[0m\u001b[0;34m\"{}({!r},{!r})\"\u001b[0m\u001b[0;34m.\u001b[0m\u001b[0mformat\u001b[0m\u001b[0;34m(\u001b[0m\u001b[0;34m*\u001b[0m\u001b[0;34m[\u001b[0m\u001b[0;36m1\u001b[0m\u001b[0;34m,\u001b[0m\u001b[0;36m2\u001b[0m\u001b[0;34m]\u001b[0m\u001b[0;34m)\u001b[0m\u001b[0;34m)\u001b[0m\u001b[0;34m\u001b[0m\u001b[0;34m\u001b[0m\u001b[0m\n\u001b[0m",
      "\u001b[0;31mIndexError\u001b[0m: Replacement index 2 out of range for positional args tuple"
     ]
    }
   ],
   "source": [
    "import operator as op\n",
    "from fluentpy.c9.vector2d_v0 import Vector2d\n",
    "\n",
    "v = Vector2d(3,4)\n",
    "display(abs(v))\n",
    "display(op.eq(v,(3,4)))\n",
    "display(\"{}({!r},{!r})\".format(*[1,2]))"
   ]
  },
  {
   "cell_type": "code",
   "execution_count": 9,
   "metadata": {},
   "outputs": [
    {
     "data": {
      "text/plain": [
       "[3, 4]"
      ]
     },
     "metadata": {},
     "output_type": "display_data"
    },
    {
     "data": {
      "text/plain": [
       "2"
      ]
     },
     "execution_count": 9,
     "metadata": {},
     "output_type": "execute_result"
    }
   ],
   "source": [
    "display(list(v))\n",
    "len(list(v))"
   ]
  },
  {
   "cell_type": "code",
   "execution_count": 50,
   "metadata": {
    "tags": []
   },
   "outputs": [
    {
     "name": "stdout",
     "output_type": "stream",
     "text": [
      "***** in __bytes__()\n"
     ]
    },
    {
     "data": {
      "text/plain": [
       "b'd\\x00\\x00\\x00\\x00\\x00\\x00\\x08@\\x00\\x00\\x00\\x00\\x00\\x00\\x10@'"
      ]
     },
     "metadata": {},
     "output_type": "display_data"
    },
    {
     "data": {
      "text/plain": [
       "'a'"
      ]
     },
     "metadata": {},
     "output_type": "display_data"
    },
    {
     "data": {
      "text/plain": [
       "'d'"
      ]
     },
     "metadata": {},
     "output_type": "display_data"
    },
    {
     "data": {
      "text/plain": [
       "b'\\x00\\x00\\x00\\x00\\x00\\x00\\x08@\\x00\\x00\\x00\\x00\\x00\\x00\\x10@'"
      ]
     },
     "metadata": {},
     "output_type": "display_data"
    },
    {
     "data": {
      "text/plain": [
       "Vector2d(3.0,4.0)"
      ]
     },
     "metadata": {},
     "output_type": "display_data"
    },
    {
     "data": {
      "text/plain": [
       "True"
      ]
     },
     "metadata": {},
     "output_type": "display_data"
    }
   ],
   "source": [
    "v = Vector2d(3,4)\n",
    "# 调用vector2d 自定义的__bytes__()\n",
    "b = bytes(v)\n",
    "display(b)\n",
    "\n",
    "display(chr(b[0]))\n",
    "display(b[1:])\n",
    "v1 = Vector2d.frombytes(b)\n",
    "display(v1)\n",
    "display(v == v1)"
   ]
  },
  {
   "cell_type": "markdown",
   "metadata": {},
   "source": [
    "## 类属性的使用"
   ]
  },
  {
   "cell_type": "markdown",
   "metadata": {},
   "source": [
    "## Py的特性:@property"
   ]
  },
  {
   "cell_type": "markdown",
   "metadata": {},
   "source": [
    "### @property的基本使用\n",
    "对属性first_name的访问均会通过getter和setter进行."
   ]
  },
  {
   "cell_type": "code",
   "execution_count": 2,
   "metadata": {
    "tags": []
   },
   "outputs": [
    {
     "name": "stdout",
     "output_type": "stream",
     "text": [
      "=====>设置实例属性\n",
      "=====>读取实例属性\n"
     ]
    },
    {
     "data": {
      "text/plain": [
       "'coolfish'"
      ]
     },
     "metadata": {},
     "output_type": "display_data"
    },
    {
     "name": "stdout",
     "output_type": "stream",
     "text": [
      "=====>设置实例属性\n",
      "=====>读取实例属性\n"
     ]
    },
    {
     "data": {
      "text/plain": [
       "'coolfish007'"
      ]
     },
     "metadata": {},
     "output_type": "display_data"
    }
   ],
   "source": [
    "from pycookbook.c8.person import *\n",
    "\n",
    "p = Person('coolfish')\n",
    "display(p.first_name)\n",
    "p.first_name='coolfish007'\n",
    "display(p.first_name)"
   ]
  },
  {
   "cell_type": "markdown",
   "metadata": {},
   "source": [
    "直接给内部属性赋值,绕过setter"
   ]
  },
  {
   "cell_type": "code",
   "execution_count": 7,
   "metadata": {},
   "outputs": [
    {
     "data": {
      "text/plain": [
       "42"
      ]
     },
     "metadata": {},
     "output_type": "display_data"
    }
   ],
   "source": [
    "p._first_name = 42\n",
    "display(p.first_name)"
   ]
  },
  {
   "cell_type": "code",
   "execution_count": 7,
   "metadata": {
    "tags": []
   },
   "outputs": [],
   "source": [
    "from pycookbook.c8.person import *\n",
    "\n",
    "p = Person(42) #TypeError: Expected a string"
   ]
  },
  {
   "cell_type": "markdown",
   "metadata": {},
   "source": [
    "### 特性是类属性\n",
    "(*)特性被类直接访问赋值后,就地销毁."
   ]
  },
  {
   "cell_type": "code",
   "execution_count": 3,
   "metadata": {
    "tags": []
   },
   "outputs": [
    {
     "name": "stdout",
     "output_type": "stream",
     "text": [
      "{'__module__': 'pycookbook.c8.person', '__init__': <function Person.__init__ at 0x103865940>, 'first_name': 'class name', '__dict__': <attribute '__dict__' of 'Person' objects>, '__weakref__': <attribute '__weakref__' of 'Person' objects>, '__doc__': None}\n",
      "['__add__', '__class__', '__contains__', '__delattr__', '__dir__', '__doc__', '__eq__', '__format__', '__ge__', '__getattribute__', '__getitem__', '__getnewargs__', '__gt__', '__hash__', '__init__', '__init_subclass__', '__iter__', '__le__', '__len__', '__lt__', '__mod__', '__mul__', '__ne__', '__new__', '__reduce__', '__reduce_ex__', '__repr__', '__rmod__', '__rmul__', '__setattr__', '__sizeof__', '__str__', '__subclasshook__', 'capitalize', 'casefold', 'center', 'count', 'encode', 'endswith', 'expandtabs', 'find', 'format', 'format_map', 'index', 'isalnum', 'isalpha', 'isascii', 'isdecimal', 'isdigit', 'isidentifier', 'islower', 'isnumeric', 'isprintable', 'isspace', 'istitle', 'isupper', 'join', 'ljust', 'lower', 'lstrip', 'maketrans', 'partition', 'replace', 'rfind', 'rindex', 'rjust', 'rpartition', 'rsplit', 'rstrip', 'split', 'splitlines', 'startswith', 'strip', 'swapcase', 'title', 'translate', 'upper', 'zfill']\n",
      "class name\n",
      "class name\n",
      "{'first_name': 'coolfish'}\n",
      "Person.first_name.fget(p):\n"
     ]
    },
    {
     "ename": "AttributeError",
     "evalue": "'str' object has no attribute 'fget'",
     "output_type": "error",
     "traceback": [
      "\u001b[0;31m---------------------------------------------------------------------------\u001b[0m",
      "\u001b[0;31mAttributeError\u001b[0m                            Traceback (most recent call last)",
      "\u001b[0;32m<ipython-input-3-84c155028719>\u001b[0m in \u001b[0;36m<module>\u001b[0;34m\u001b[0m\n\u001b[1;32m      9\u001b[0m \u001b[0mprint\u001b[0m\u001b[0;34m(\u001b[0m\u001b[0mvars\u001b[0m\u001b[0;34m(\u001b[0m\u001b[0mp\u001b[0m\u001b[0;34m)\u001b[0m\u001b[0;34m)\u001b[0m\u001b[0;34m\u001b[0m\u001b[0;34m\u001b[0m\u001b[0m\n\u001b[1;32m     10\u001b[0m \u001b[0mprint\u001b[0m\u001b[0;34m(\u001b[0m\u001b[0;34m'Person.first_name.fget(p):'\u001b[0m\u001b[0;34m)\u001b[0m\u001b[0;34m\u001b[0m\u001b[0;34m\u001b[0m\u001b[0m\n\u001b[0;32m---> 11\u001b[0;31m \u001b[0mprint\u001b[0m\u001b[0;34m(\u001b[0m\u001b[0mPerson\u001b[0m\u001b[0;34m.\u001b[0m\u001b[0mfirst_name\u001b[0m\u001b[0;34m.\u001b[0m\u001b[0mfget\u001b[0m\u001b[0;34m(\u001b[0m\u001b[0mp\u001b[0m\u001b[0;34m)\u001b[0m\u001b[0;34m)\u001b[0m\u001b[0;34m\u001b[0m\u001b[0;34m\u001b[0m\u001b[0m\n\u001b[0m\u001b[1;32m     12\u001b[0m \u001b[0mprint\u001b[0m\u001b[0;34m(\u001b[0m\u001b[0;34m'p.first_name:'\u001b[0m\u001b[0;34m,\u001b[0m\u001b[0mp\u001b[0m\u001b[0;34m.\u001b[0m\u001b[0mfirst_name\u001b[0m\u001b[0;34m)\u001b[0m\u001b[0;34m\u001b[0m\u001b[0;34m\u001b[0m\u001b[0m\n\u001b[1;32m     13\u001b[0m \u001b[0mPerson\u001b[0m\u001b[0;34m.\u001b[0m\u001b[0mfirst_name\u001b[0m\u001b[0;34m=\u001b[0m\u001b[0;34m'class name'\u001b[0m \u001b[0;31m# 覆盖类特性,类特性first_name被销毁,不再通过getter取值,setter赋值\u001b[0m\u001b[0;34m\u001b[0m\u001b[0;34m\u001b[0m\u001b[0m\n",
      "\u001b[0;31mAttributeError\u001b[0m: 'str' object has no attribute 'fget'"
     ]
    }
   ],
   "source": [
    "from pycookbook.c8.person import *\n",
    "\n",
    "print(vars(Person))\n",
    "print(dir(Person.first_name))\n",
    "print(Person.first_name)\n",
    "#Person.first_name='coolfish008' #赋值类属性\n",
    "p = Person('coolfish') #赋值实例属性\n",
    "print(Person.first_name)\n",
    "print(vars(p))\n",
    "print('Person.first_name.fget(p):')\n",
    "print(Person.first_name.fget(p)) # 重复运行时,Person.first_name已变为str\n",
    "print('p.first_name:',p.first_name)\n",
    "Person.first_name='class name' # 覆盖特性,特性first_name被销毁,不再通过getter取值,setter赋值\n",
    "print(Person.first_name)\n",
    "print(vars(p))\n",
    "print(p.first_name)\n",
    "print(p._first_name)"
   ]
  },
  {
   "cell_type": "markdown",
   "metadata": {},
   "source": [
    "### 使用特性延迟计算并缓存结果"
   ]
  },
  {
   "cell_type": "code",
   "execution_count": 5,
   "metadata": {
    "tags": []
   },
   "outputs": [
    {
     "name": "stdout",
     "output_type": "stream",
     "text": [
      "===== >lazy(self) 1>enter \n",
      "===== >lazy(self) 3>no attr  <pycookbook.c8.c810lazy2.Circle object at 0x111693460> _lazy_area <function Circle.area at 0x10fa65940>\n",
      "===== >lazy(self) 4>func  <function Circle.area at 0x10fa65940> ('self',) 1\n",
      "===== >area(self) 1>computing area\n",
      "12.566370614359172\n"
     ]
    }
   ],
   "source": [
    "from pycookbook.c8.c810lazy2 import *\n",
    "\n",
    "c1 = Circle(2)\n",
    "\n",
    "print(c1.area)"
   ]
  },
  {
   "cell_type": "markdown",
   "metadata": {},
   "source": [
    "### (*)lazy2 @property 解构"
   ]
  },
  {
   "cell_type": "code",
   "execution_count": 2,
   "metadata": {
    "tags": []
   },
   "outputs": [
    {
     "name": "stdout",
     "output_type": "stream",
     "text": [
      "['__class__', '__delattr__', '__delete__', '__dir__', '__doc__', '__eq__', '__format__', '__ge__', '__get__', '__getattribute__', '__gt__', '__hash__', '__init__', '__init_subclass__', '__isabstractmethod__', '__le__', '__lt__', '__ne__', '__new__', '__reduce__', '__reduce_ex__', '__repr__', '__set__', '__setattr__', '__sizeof__', '__str__', '__subclasshook__', 'deleter', 'fdel', 'fget', 'fset', 'getter', 'setter']\n",
      "<property object at 0x1035dabd0>\n",
      "<function lazyproperty.<locals>.lazy at 0x10348cf70>\n",
      "['__annotations__', '__call__', '__class__', '__closure__', '__code__', '__defaults__', '__delattr__', '__dict__', '__dir__', '__doc__', '__eq__', '__format__', '__ge__', '__get__', '__getattribute__', '__globals__', '__gt__', '__hash__', '__init__', '__init_subclass__', '__kwdefaults__', '__le__', '__lt__', '__module__', '__name__', '__ne__', '__new__', '__qualname__', '__reduce__', '__reduce_ex__', '__repr__', '__setattr__', '__sizeof__', '__str__', '__subclasshook__']\n",
      "===== >lazy(self) 1>enter \n",
      "===== >lazy(self) 3>no attr  <pycookbook.c8.c810lazy2.Circle object at 0x10348be50> _lazy_perimeter <function Circle.perimeter at 0x1035d8a60>\n",
      "===== >lazy(self) 4>func  <function Circle.perimeter at 0x1035d8a60> ('self',) 1\n",
      "===== >perimeter() 1>computing perimeter\n",
      "18.84955592153876\n"
     ]
    }
   ],
   "source": [
    "from pycookbook.c8.c810lazy2 import *\n",
    "\n",
    "c2 = Circle(3)\n",
    "# 注意这个地方,需写成 类.method的方式,这样是一个function\n",
    "# 这样调用时需显式的写成 method(self),手动传入self\n",
    "# 否则若写成对象.method的方式如c2.perimeter,在lazy()中调用func(self),会自动传入self\n",
    "# 这样,位置参数的数量就不一致了.\n",
    "wrapped = Circle.perimeter\n",
    "f = lazyproperty(wrapped)\n",
    "print(dir(f))\n",
    "print(f)\n",
    "print(f.fget)\n",
    "print(dir(f.fget))\n",
    "print(f.fget(c2)) # property 绑定至c2"
   ]
  },
  {
   "cell_type": "markdown",
   "metadata": {},
   "source": [
    "特性是类属性,将特性f设置为Circle的类属性.  \n",
    "之后可以直接在对象上访问属性perimeter.  \n",
    "至此,解构彻底完成."
   ]
  },
  {
   "cell_type": "code",
   "execution_count": 3,
   "metadata": {
    "tags": []
   },
   "outputs": [
    {
     "name": "stdout",
     "output_type": "stream",
     "text": [
      "===== >lazy(self) 1>enter \n",
      "===== >lazy(self) 3>no attr  <pycookbook.c8.c810lazy2.Circle object at 0x10348ba90> _lazy_perimeter <function Circle.perimeter at 0x1035d8a60>\n",
      "===== >lazy(self) 4>func  <function Circle.perimeter at 0x1035d8a60> ('self',) 1\n",
      "===== >perimeter() 1>computing perimeter\n",
      "25.132741228718345\n",
      "cached perimeter\n",
      "===== >lazy(self) 1>enter \n",
      "===== >lazy(self) 2>has attr  <pycookbook.c8.c810lazy2.Circle object at 0x10348ba90> _lazy_perimeter\n",
      "25.132741228718345\n"
     ]
    }
   ],
   "source": [
    "setattr(Circle,'perimeter',f)  # fltpy P509,除了直接给__dict__的赋值,这些方法都会调用处理特性的特殊方法.\n",
    "c3=Circle(4)\n",
    "print(c3.perimeter)\n",
    "print('cached perimeter')\n",
    "print(c3.perimeter)"
   ]
  },
  {
   "cell_type": "code",
   "execution_count": 2,
   "metadata": {
    "tags": []
   },
   "outputs": [
    {
     "name": "stdout",
     "output_type": "stream",
     "text": [
      "===== >lazy(self) 1>enter \n",
      "===== >lazy(self) 3>no attr  <pycookbook.c8.c810lazy2.Circle object at 0x10937a3a0> _lazy_perimeter <function Circle.perimeter at 0x109c66a60>\n",
      "===== >lazy(self) 4>func  <function Circle.perimeter at 0x109c66a60> ('self',) 1\n",
      "===== >perimeter() 1>computing perimeter\n"
     ]
    },
    {
     "data": {
      "text/plain": [
       "18.84955592153876"
      ]
     },
     "execution_count": 2,
     "metadata": {},
     "output_type": "execute_result"
    }
   ],
   "source": [
    "from pycookbook.c8.c810lazy2 import *\n",
    "\n",
    "c2 = Circle(3)\n",
    "c2.perimeter"
   ]
  },
  {
   "cell_type": "markdown",
   "metadata": {},
   "source": [
    "## Py的描述器\n",
    "类的实例类型;类的type()是type类型."
   ]
  },
  {
   "cell_type": "code",
   "execution_count": 7,
   "metadata": {},
   "outputs": [
    {
     "data": {
      "text/plain": [
       "pycookbook.c8.c813checkattri.SizedString"
      ]
     },
     "metadata": {},
     "output_type": "display_data"
    },
    {
     "data": {
      "text/plain": [
       "True"
      ]
     },
     "metadata": {},
     "output_type": "display_data"
    },
    {
     "data": {
      "text/plain": [
       "True"
      ]
     },
     "metadata": {},
     "output_type": "display_data"
    },
    {
     "data": {
      "text/plain": [
       "True"
      ]
     },
     "metadata": {},
     "output_type": "display_data"
    },
    {
     "data": {
      "text/plain": [
       "True"
      ]
     },
     "metadata": {},
     "output_type": "display_data"
    }
   ],
   "source": [
    "from pycookbook.c8.c813checkattri import *\n",
    "\n",
    "name = SizedString('name',size=8)\n",
    "display(type(name))\n",
    "display(isinstance(name,Descriptor))\n",
    "display(isinstance(name,Typed))\n",
    "display(isinstance(name,String))\n",
    "display(isinstance(name,MaxSized))"
   ]
  },
  {
   "cell_type": "code",
   "execution_count": 12,
   "metadata": {},
   "outputs": [
    {
     "data": {
      "text/plain": [
       "pycookbook.c8.c813checkattri.UnsignedInteger"
      ]
     },
     "metadata": {},
     "output_type": "display_data"
    },
    {
     "data": {
      "text/plain": [
       "True"
      ]
     },
     "metadata": {},
     "output_type": "display_data"
    },
    {
     "data": {
      "text/plain": [
       "type"
      ]
     },
     "metadata": {},
     "output_type": "display_data"
    },
    {
     "data": {
      "text/plain": [
       "False"
      ]
     },
     "metadata": {},
     "output_type": "display_data"
    },
    {
     "data": {
      "text/plain": [
       "True"
      ]
     },
     "metadata": {},
     "output_type": "display_data"
    },
    {
     "data": {
      "text/plain": [
       "(pycookbook.c8.c813checkattri.UnsignedInteger,\n",
       " pycookbook.c8.c813checkattri.Integer,\n",
       " pycookbook.c8.c813checkattri.Typed,\n",
       " pycookbook.c8.c813checkattri.Unsigned,\n",
       " pycookbook.c8.c813checkattri.Descriptor,\n",
       " object)"
      ]
     },
     "metadata": {},
     "output_type": "display_data"
    },
    {
     "data": {
      "text/plain": [
       "<function pycookbook.c8.c813checkattri.Typed.__set__(self, ins, value)>"
      ]
     },
     "metadata": {},
     "output_type": "display_data"
    },
    {
     "data": {
      "text/plain": [
       "{'name': 'share'}"
      ]
     },
     "execution_count": 12,
     "metadata": {},
     "output_type": "execute_result"
    }
   ],
   "source": [
    "from pycookbook.c8.c813checkattri import *\n",
    "\n",
    "ui = UnsignedInteger() # () 代表已构造类的实例\n",
    "display(type(ui))\n",
    "display(isinstance(ui,Descriptor))\n",
    "\n",
    "ui = UnsignedInteger\n",
    "display(type(ui))\n",
    "display(isinstance(ui,Descriptor))\n",
    "# 使用参数名称,用ui构造一个UnsignedInteger对象实例\n",
    "display(isinstance(ui('shares'),Descriptor))\n",
    "# 显示UnsignedInteger 的__set__来自于哪里\n",
    "display(ui.__mro__)\n",
    "display(ui.__set__)\n",
    "# 显示__dict__\n",
    "ui('share').__dict__"
   ]
  },
  {
   "cell_type": "markdown",
   "metadata": {},
   "source": [
    "### 多重继承"
   ]
  },
  {
   "cell_type": "markdown",
   "metadata": {},
   "source": [
    "MRO 方法执行顺序"
   ]
  },
  {
   "cell_type": "code",
   "execution_count": 2,
   "metadata": {
    "tags": []
   },
   "outputs": [
    {
     "name": "stderr",
     "output_type": "stream",
     "text": [
      "INFO:root:hi\n"
     ]
    },
    {
     "data": {
      "text/plain": [
       "(pycookbook.c8.c813checkattri.SizedString,\n",
       " pycookbook.c8.c813checkattri.String,\n",
       " pycookbook.c8.c813checkattri.Typed,\n",
       " pycookbook.c8.c813checkattri.MaxSized,\n",
       " pycookbook.c8.c813checkattri.Descriptor,\n",
       " object)"
      ]
     },
     "metadata": {},
     "output_type": "display_data"
    },
    {
     "name": "stderr",
     "output_type": "stream",
     "text": [
      "DEBUG:root:=>init in MaxSized.\n",
      "DEBUG:root:=>init in Descriptor.\n",
      "DEBUG:root:=>set in Typed.\n",
      "['__class__', '__delattr__', '__dict__', '__dir__', '__doc__', '__eq__', '__format__', '__ge__', '__getattribute__', '__gt__', '__hash__', '__init__', '__init_subclass__', '__le__', '__lt__', '__module__', '__ne__', '__new__', '__reduce__', '__reduce_ex__', '__repr__', '__set__', '__setattr__', '__sizeof__', '__str__', '__subclasshook__', '__weakref__', 'expected_type', 'name', 'size']\n"
     ]
    },
    {
     "ename": "TypeError",
     "evalue": "can only concatenate str (not \"type\") to str",
     "output_type": "error",
     "traceback": [
      "\u001b[0;31m---------------------------------------------------------------------------\u001b[0m",
      "\u001b[0;31mTypeError\u001b[0m                                 Traceback (most recent call last)",
      "\u001b[0;32m<ipython-input-2-7414d6806534>\u001b[0m in \u001b[0;36m<module>\u001b[0;34m\u001b[0m\n\u001b[1;32m      7\u001b[0m \u001b[0mname\u001b[0m \u001b[0;34m=\u001b[0m \u001b[0mSizedString\u001b[0m\u001b[0;34m(\u001b[0m\u001b[0;34m'name'\u001b[0m\u001b[0;34m,\u001b[0m\u001b[0msize\u001b[0m\u001b[0;34m=\u001b[0m\u001b[0;36m8\u001b[0m\u001b[0;34m)\u001b[0m\u001b[0;34m\u001b[0m\u001b[0;34m\u001b[0m\u001b[0m\n\u001b[1;32m      8\u001b[0m \u001b[0mprint\u001b[0m\u001b[0;34m(\u001b[0m\u001b[0mdir\u001b[0m\u001b[0;34m(\u001b[0m\u001b[0mname\u001b[0m\u001b[0;34m)\u001b[0m\u001b[0;34m)\u001b[0m\u001b[0;34m\u001b[0m\u001b[0;34m\u001b[0m\u001b[0m\n\u001b[0;32m----> 9\u001b[0;31m \u001b[0mname\u001b[0m\u001b[0;34m.\u001b[0m\u001b[0m__set__\u001b[0m\u001b[0;34m(\u001b[0m\u001b[0mname\u001b[0m\u001b[0;34m,\u001b[0m\u001b[0;36m6\u001b[0m\u001b[0;34m)\u001b[0m  \u001b[0;31m#按照__mro__的顺序,同一方法,进入typed,进入maxsized,进入descriptor执行,执行maxsized剩余的,执行typed剩余的.\u001b[0m\u001b[0;34m\u001b[0m\u001b[0;34m\u001b[0m\u001b[0m\n\u001b[0m",
      "\u001b[0;32m~/dev/repo/prac_py/src/pycookbook/c8/c813checkattri.py\u001b[0m in \u001b[0;36m__set__\u001b[0;34m(self, ins, value)\u001b[0m\n\u001b[1;32m     25\u001b[0m         \u001b[0mlogging\u001b[0m\u001b[0;34m.\u001b[0m\u001b[0mdebug\u001b[0m\u001b[0;34m(\u001b[0m\u001b[0;34m\"=>set in Typed.\"\u001b[0m\u001b[0;34m)\u001b[0m\u001b[0;34m\u001b[0m\u001b[0;34m\u001b[0m\u001b[0m\n\u001b[1;32m     26\u001b[0m         \u001b[0;32mif\u001b[0m \u001b[0;32mnot\u001b[0m \u001b[0misinstance\u001b[0m\u001b[0;34m(\u001b[0m\u001b[0mvalue\u001b[0m\u001b[0;34m,\u001b[0m \u001b[0mself\u001b[0m\u001b[0;34m.\u001b[0m\u001b[0mexpected_type\u001b[0m\u001b[0;34m)\u001b[0m\u001b[0;34m:\u001b[0m\u001b[0;34m\u001b[0m\u001b[0;34m\u001b[0m\u001b[0m\n\u001b[0;32m---> 27\u001b[0;31m             \u001b[0;32mraise\u001b[0m \u001b[0mTypeError\u001b[0m\u001b[0;34m(\u001b[0m\u001b[0;34m\"expected \"\u001b[0m \u001b[0;34m+\u001b[0m \u001b[0mself\u001b[0m\u001b[0;34m.\u001b[0m\u001b[0mexpected_type\u001b[0m\u001b[0;34m)\u001b[0m\u001b[0;34m\u001b[0m\u001b[0;34m\u001b[0m\u001b[0m\n\u001b[0m\u001b[1;32m     28\u001b[0m         \u001b[0msuper\u001b[0m\u001b[0;34m(\u001b[0m\u001b[0;34m)\u001b[0m\u001b[0;34m.\u001b[0m\u001b[0m__set__\u001b[0m\u001b[0;34m(\u001b[0m\u001b[0mins\u001b[0m\u001b[0;34m,\u001b[0m \u001b[0mvalue\u001b[0m\u001b[0;34m)\u001b[0m  \u001b[0;31m# 按mro链执行Typed后的一个.\u001b[0m\u001b[0;34m\u001b[0m\u001b[0;34m\u001b[0m\u001b[0m\n\u001b[1;32m     29\u001b[0m         \u001b[0mlogging\u001b[0m\u001b[0;34m.\u001b[0m\u001b[0mdebug\u001b[0m\u001b[0;34m(\u001b[0m\u001b[0;34m\"=>set in Typed end.\"\u001b[0m\u001b[0;34m)\u001b[0m\u001b[0;34m\u001b[0m\u001b[0;34m\u001b[0m\u001b[0m\n",
      "\u001b[0;31mTypeError\u001b[0m: can only concatenate str (not \"type\") to str"
     ]
    }
   ],
   "source": [
    "import logging\n",
    "from pycookbook.c8.c813checkattri import *\n",
    "\n",
    "logging.basicConfig(level=logging.DEBUG)  # 之后再设置level,需要重启jupyter\n",
    "logging.info('hi')\n",
    "display(SizedString.__mro__)\n",
    "name = SizedString('name',size=8)\n",
    "print(dir(name))\n",
    "name.__set__(name,6)  #按照__mro__的顺序,同一方法,进入typed,进入maxsized,进入descriptor执行,执行maxsized剩余的,执行typed剩余的."
   ]
  },
  {
   "cell_type": "markdown",
   "metadata": {},
   "source": [
    "### 描述器的使用\n",
    "描述器做为类属性"
   ]
  },
  {
   "cell_type": "code",
   "execution_count": 7,
   "metadata": {
    "tags": []
   },
   "outputs": [
    {
     "name": "stderr",
     "output_type": "stream",
     "text": [
      "DEBUG:root:=>init in MaxSized.\n",
      "DEBUG:root:=>init in Descriptor.\n",
      "DEBUG:root:=>init in Descriptor.\n",
      "DEBUG:root:=>init in Descriptor.\n"
     ]
    },
    {
     "data": {
      "text/plain": [
       "type"
      ]
     },
     "metadata": {},
     "output_type": "display_data"
    },
    {
     "data": {
      "text/plain": [
       "True"
      ]
     },
     "metadata": {},
     "output_type": "display_data"
    }
   ],
   "source": [
    "import logging\n",
    "from pycookbook.c8.c813checkattri import *\n",
    "\n",
    "logging.basicConfig(level=logging.WARN)\n",
    "\n",
    "class Stock1:\n",
    "    name = SizedString('name',size=8)\n",
    "    shares = UnsignedInteger('shares')\n",
    "    price = UnsignedFloat('price')\n",
    "\n",
    "\n",
    "    def __init__(self,name,shares,price):\n",
    "        self.name = name #描述器和实例属性同名,描述器覆盖实例属性.\n",
    "        self.shares = shares\n",
    "        self.price = price\n",
    "\n",
    "    def __getattr__(self,name):\n",
    "        print(self,name)\n",
    "        return 'default'\n",
    "\n",
    "display(type(Stock1)) #type\n",
    "display(isinstance(Stock1,type))"
   ]
  },
  {
   "cell_type": "markdown",
   "metadata": {
    "lines_to_next_cell": 0
   },
   "source": [
    "关联类的属性和属性覆盖(调用顺序)"
   ]
  },
  {
   "cell_type": "code",
   "execution_count": null,
   "metadata": {
    "lines_to_next_cell": 0
   },
   "outputs": [],
   "source": [
    "stock = Stock1('hello',5,3.0)\n",
    "# display(Stock1.name.__get__(None,Stock1)) #描述器无__get__()方法,直接访问__dict__的内容.\n",
    "display(stock.haha) # 无haha属性,调用__getattr__()\n",
    "stock.name='hello2'\n",
    "display(stock.__dict__['name'],stock.name,Stock1.name)\n",
    "Stock1.name='haha3'  # 销毁了描述器,变成普通的str.\n",
    "display(stock.name,Stock1.name)"
   ]
  },
  {
   "cell_type": "code",
   "execution_count": 8,
   "metadata": {
    "tags": []
   },
   "outputs": [
    {
     "name": "stderr",
     "output_type": "stream",
     "text": [
      "DEBUG:root:=>set in Typed.\n",
      "DEBUG:root:=>set in MaxSized.\n",
      "DEBUG:root:=>set in Descriptor.\n",
      "DEBUG:root:=>set in Descriptor end.\n",
      "DEBUG:root:=>set in MaxSized end.\n",
      "DEBUG:root:=>set in Typed end.\n",
      "DEBUG:root:=>set in Typed.\n",
      "DEBUG:root:=>set in Descriptor.\n",
      "DEBUG:root:=>set in Descriptor end.\n",
      "DEBUG:root:=>set in Typed end.\n",
      "DEBUG:root:=>set in Typed.\n",
      "DEBUG:root:=>set in Descriptor.\n",
      "DEBUG:root:=>set in Descriptor end.\n",
      "DEBUG:root:=>set in Typed end.\n",
      "DEBUG:root:=>set in Typed.\n",
      "DEBUG:root:=>set in MaxSized.\n",
      "DEBUG:root:=>set in Descriptor.\n",
      "DEBUG:root:=>set in Descriptor end.\n",
      "DEBUG:root:=>set in MaxSized end.\n",
      "DEBUG:root:=>set in Typed end.\n"
     ]
    },
    {
     "data": {
      "text/plain": [
       "'hello1'"
      ]
     },
     "metadata": {},
     "output_type": "display_data"
    },
    {
     "name": "stderr",
     "output_type": "stream",
     "text": [
      "DEBUG:root:=>set in Typed.\n"
     ]
    },
    {
     "ename": "TypeError",
     "evalue": "expected <class 'float'>",
     "output_type": "error",
     "traceback": [
      "\u001b[0;31m---------------------------------------------------------------------------\u001b[0m",
      "\u001b[0;31mTypeError\u001b[0m                                 Traceback (most recent call last)",
      "\u001b[0;32m<ipython-input-8-2605c2719d12>\u001b[0m in \u001b[0;36m<module>\u001b[0;34m\u001b[0m\n\u001b[1;32m      2\u001b[0m \u001b[0mstock\u001b[0m\u001b[0;34m.\u001b[0m\u001b[0mname\u001b[0m \u001b[0;34m=\u001b[0m \u001b[0;34m'hello1'\u001b[0m\u001b[0;34m\u001b[0m\u001b[0;34m\u001b[0m\u001b[0m\n\u001b[1;32m      3\u001b[0m \u001b[0mdisplay\u001b[0m\u001b[0;34m(\u001b[0m\u001b[0mstock\u001b[0m\u001b[0;34m.\u001b[0m\u001b[0mname\u001b[0m\u001b[0;34m)\u001b[0m\u001b[0;34m\u001b[0m\u001b[0;34m\u001b[0m\u001b[0m\n\u001b[0;32m----> 4\u001b[0;31m \u001b[0mstock\u001b[0m\u001b[0;34m.\u001b[0m\u001b[0mprice\u001b[0m\u001b[0;34m=\u001b[0m\u001b[0;34m'hellohello'\u001b[0m \u001b[0;31m#error:size must be < 8\u001b[0m\u001b[0;34m\u001b[0m\u001b[0;34m\u001b[0m\u001b[0m\n\u001b[0m",
      "\u001b[0;32m~/dev/repo/prac_py/src/pycookbook/c8/c813checkattri.py\u001b[0m in \u001b[0;36m__set__\u001b[0;34m(self, ins, value)\u001b[0m\n\u001b[1;32m     25\u001b[0m         \u001b[0mlogging\u001b[0m\u001b[0;34m.\u001b[0m\u001b[0mdebug\u001b[0m\u001b[0;34m(\u001b[0m\u001b[0;34m\"=>set in Typed.\"\u001b[0m\u001b[0;34m)\u001b[0m\u001b[0;34m\u001b[0m\u001b[0;34m\u001b[0m\u001b[0m\n\u001b[1;32m     26\u001b[0m         \u001b[0;32mif\u001b[0m \u001b[0;32mnot\u001b[0m \u001b[0misinstance\u001b[0m\u001b[0;34m(\u001b[0m\u001b[0mvalue\u001b[0m\u001b[0;34m,\u001b[0m \u001b[0mself\u001b[0m\u001b[0;34m.\u001b[0m\u001b[0mexpected_type\u001b[0m\u001b[0;34m)\u001b[0m\u001b[0;34m:\u001b[0m\u001b[0;34m\u001b[0m\u001b[0;34m\u001b[0m\u001b[0m\n\u001b[0;32m---> 27\u001b[0;31m             \u001b[0;32mraise\u001b[0m \u001b[0mTypeError\u001b[0m\u001b[0;34m(\u001b[0m\u001b[0;34m\"expected \"\u001b[0m \u001b[0;34m+\u001b[0m \u001b[0mstr\u001b[0m\u001b[0;34m(\u001b[0m\u001b[0mself\u001b[0m\u001b[0;34m.\u001b[0m\u001b[0mexpected_type\u001b[0m\u001b[0;34m)\u001b[0m\u001b[0;34m)\u001b[0m\u001b[0;34m\u001b[0m\u001b[0;34m\u001b[0m\u001b[0m\n\u001b[0m\u001b[1;32m     28\u001b[0m         \u001b[0msuper\u001b[0m\u001b[0;34m(\u001b[0m\u001b[0;34m)\u001b[0m\u001b[0;34m.\u001b[0m\u001b[0m__set__\u001b[0m\u001b[0;34m(\u001b[0m\u001b[0mins\u001b[0m\u001b[0;34m,\u001b[0m \u001b[0mvalue\u001b[0m\u001b[0;34m)\u001b[0m  \u001b[0;31m# 按mro链执行Typed后的一个.\u001b[0m\u001b[0;34m\u001b[0m\u001b[0;34m\u001b[0m\u001b[0m\n\u001b[1;32m     29\u001b[0m         \u001b[0mlogging\u001b[0m\u001b[0;34m.\u001b[0m\u001b[0mdebug\u001b[0m\u001b[0;34m(\u001b[0m\u001b[0;34m\"=>set in Typed end.\"\u001b[0m\u001b[0;34m)\u001b[0m\u001b[0;34m\u001b[0m\u001b[0;34m\u001b[0m\u001b[0m\n",
      "\u001b[0;31mTypeError\u001b[0m: expected <class 'float'>"
     ]
    }
   ],
   "source": [
    "stock = Stock1('hello',5,3.0)\n",
    "stock.name = 'hello1'\n",
    "display(stock.name)\n",
    "stock.price='hellohello' #error:size must be < 8"
   ]
  },
  {
   "cell_type": "markdown",
   "metadata": {},
   "source": [
    "### 描述器实现及使用:混入+装饰器的方式\n",
    "使用装饰器check_attri+混入的方式做为类变量的检查器"
   ]
  },
  {
   "cell_type": "code",
   "execution_count": 14,
   "metadata": {
    "tags": []
   },
   "outputs": [
    {
     "name": "stderr",
     "output_type": "stream",
     "text": [
      "INFO:root:k=name,v=<pycookbook.c8.c813checkattri.SizedString object at 0x10d3570a0>\n",
      "INFO:root:True\n",
      "INFO:root:instance of Descriptor,v is <class 'pycookbook.c8.c813checkattri.SizedString'>\n",
      "INFO:root:k=shares,v=<class 'pycookbook.c8.c813checkattri.UnsignedInteger'>\n",
      "INFO:root:False\n",
      "INFO:root:not instance of Descriptor,v is <class 'type'>\n",
      "INFO:root:k=price,v=<class 'pycookbook.c8.c813checkattri.UnsignedFloat'>\n",
      "INFO:root:False\n",
      "INFO:root:not instance of Descriptor,v is <class 'type'>\n"
     ]
    },
    {
     "data": {
      "text/plain": [
       "'hello'"
      ]
     },
     "metadata": {},
     "output_type": "display_data"
    }
   ],
   "source": [
    "import logging\n",
    "from pycookbook.c8.c813checkattri import *\n",
    "\n",
    "logging.basicConfig(level=logging.INFO)\n",
    "\n",
    "@check_attri(name=SizedString(size=8),shares=UnsignedInteger,price=UnsignedFloat)\n",
    "class Stock2:\n",
    "    def __init__(self,name,shares,price):\n",
    "        self.name = name\n",
    "        self.shares = shares\n",
    "        self.price = price\n",
    "\n",
    "s2 = Stock2('hello',5,3.0)\n",
    "display(s2.name)"
   ]
  },
  {
   "cell_type": "markdown",
   "metadata": {},
   "source": [
    "### 描述器的实现及使用:纯装饰器的方式"
   ]
  },
  {
   "cell_type": "code",
   "execution_count": 2,
   "metadata": {},
   "outputs": [
    {
     "data": {
      "text/plain": [
       "functools.partial(<function typed at 0x10deaeca0>, <class 'int'>)"
      ]
     },
     "metadata": {},
     "output_type": "display_data"
    }
   ],
   "source": [
    "from pycookbook.c8.c813checkattri_decro import *\n",
    "\n",
    "f = typed(int)\n",
    "display(f)"
   ]
  },
  {
   "cell_type": "code",
   "execution_count": 3,
   "metadata": {
    "lines_to_next_cell": 2
   },
   "outputs": [
    {
     "data": {
      "text/plain": [
       "<pycookbook.c8.c813checkattri_decro.Integer at 0x10e02d160>"
      ]
     },
     "metadata": {},
     "output_type": "display_data"
    }
   ],
   "source": [
    "from pycookbook.c8.c813checkattri_decro import *\n",
    "\n",
    "f = Integer('age')\n",
    "display(f)"
   ]
  },
  {
   "cell_type": "code",
   "execution_count": 2,
   "metadata": {
    "tags": []
   },
   "outputs": [
    {
     "name": "stdout",
     "output_type": "stream",
     "text": [
      "expected: <class 'pycookbook.c8.c813checkattri_decro.Integer'>\n"
     ]
    },
    {
     "ename": "TypeError",
     "evalue": "expected: <class 'float'>",
     "output_type": "error",
     "traceback": [
      "\u001b[0;31m---------------------------------------------------------------------------\u001b[0m",
      "\u001b[0;31mTypeError\u001b[0m                                 Traceback (most recent call last)",
      "\u001b[0;32m<ipython-input-2-d76148d9a55d>\u001b[0m in \u001b[0;36m<module>\u001b[0;34m\u001b[0m\n\u001b[1;32m      3\u001b[0m \u001b[0mprint\u001b[0m\u001b[0;34m(\u001b[0m\u001b[0;34m'expected: '\u001b[0m\u001b[0;34m+\u001b[0m\u001b[0mstr\u001b[0m\u001b[0;34m(\u001b[0m\u001b[0mInteger\u001b[0m\u001b[0;34m)\u001b[0m\u001b[0;34m)\u001b[0m\u001b[0;34m\u001b[0m\u001b[0;34m\u001b[0m\u001b[0m\n\u001b[1;32m      4\u001b[0m \u001b[0;32mif\u001b[0m \u001b[0;32mnot\u001b[0m \u001b[0;36m0\u001b[0m\u001b[0;34m:\u001b[0m\u001b[0;34m\u001b[0m\u001b[0;34m\u001b[0m\u001b[0m\n\u001b[0;32m----> 5\u001b[0;31m     \u001b[0;32mraise\u001b[0m \u001b[0mTypeError\u001b[0m\u001b[0;34m(\u001b[0m\u001b[0;34mf'expected: {repr(float)}'\u001b[0m\u001b[0;34m)\u001b[0m\u001b[0;34m\u001b[0m\u001b[0;34m\u001b[0m\u001b[0m\n\u001b[0m",
      "\u001b[0;31mTypeError\u001b[0m: expected: <class 'float'>"
     ]
    }
   ],
   "source": [
    "from pycookbook.c8.c813checkattri_decro import *\n",
    "\n",
    "print('expected: '+str(Integer))\n",
    "if not 0:\n",
    "    raise TypeError(f'expected: {repr(float)}')"
   ]
  },
  {
   "cell_type": "code",
   "execution_count": 6,
   "metadata": {
    "lines_to_next_cell": 2,
    "tags": []
   },
   "outputs": [
    {
     "ename": "TypeError",
     "evalue": "'<' not supported between instances of 'str' and 'int'",
     "output_type": "error",
     "traceback": [
      "\u001b[0;31m---------------------------------------------------------------------------\u001b[0m",
      "\u001b[0;31mTypeError\u001b[0m                                 Traceback (most recent call last)",
      "\u001b[0;32m<ipython-input-6-0372be188216>\u001b[0m in \u001b[0;36m<module>\u001b[0;34m\u001b[0m\n\u001b[1;32m     10\u001b[0m         \u001b[0mself\u001b[0m\u001b[0;34m.\u001b[0m\u001b[0mage2\u001b[0m \u001b[0;34m=\u001b[0m \u001b[0mage2\u001b[0m\u001b[0;34m\u001b[0m\u001b[0;34m\u001b[0m\u001b[0m\n\u001b[1;32m     11\u001b[0m \u001b[0;34m\u001b[0m\u001b[0m\n\u001b[0;32m---> 12\u001b[0;31m \u001b[0ms3\u001b[0m \u001b[0;34m=\u001b[0m \u001b[0mStock3\u001b[0m\u001b[0;34m(\u001b[0m\u001b[0;34m'hi'\u001b[0m\u001b[0;34m,\u001b[0m\u001b[0;36m3.0\u001b[0m\u001b[0;34m)\u001b[0m\u001b[0;34m\u001b[0m\u001b[0;34m\u001b[0m\u001b[0m\n\u001b[0m\u001b[1;32m     13\u001b[0m \u001b[0mdisplay\u001b[0m\u001b[0;34m(\u001b[0m\u001b[0ms3\u001b[0m\u001b[0;34m.\u001b[0m\u001b[0mage1\u001b[0m\u001b[0;34m,\u001b[0m\u001b[0ms3\u001b[0m\u001b[0;34m.\u001b[0m\u001b[0mage2\u001b[0m\u001b[0;34m)\u001b[0m\u001b[0;34m\u001b[0m\u001b[0;34m\u001b[0m\u001b[0m\n",
      "\u001b[0;32m<ipython-input-6-0372be188216>\u001b[0m in \u001b[0;36m__init__\u001b[0;34m(self, age1, age2)\u001b[0m\n\u001b[1;32m      7\u001b[0m \u001b[0;34m\u001b[0m\u001b[0m\n\u001b[1;32m      8\u001b[0m     \u001b[0;32mdef\u001b[0m \u001b[0m__init__\u001b[0m\u001b[0;34m(\u001b[0m\u001b[0mself\u001b[0m\u001b[0;34m,\u001b[0m\u001b[0mage1\u001b[0m\u001b[0;34m,\u001b[0m\u001b[0mage2\u001b[0m\u001b[0;34m)\u001b[0m\u001b[0;34m:\u001b[0m\u001b[0;34m\u001b[0m\u001b[0;34m\u001b[0m\u001b[0m\n\u001b[0;32m----> 9\u001b[0;31m         \u001b[0mself\u001b[0m\u001b[0;34m.\u001b[0m\u001b[0mage1\u001b[0m \u001b[0;34m=\u001b[0m \u001b[0mage1\u001b[0m\u001b[0;34m\u001b[0m\u001b[0;34m\u001b[0m\u001b[0m\n\u001b[0m\u001b[1;32m     10\u001b[0m         \u001b[0mself\u001b[0m\u001b[0;34m.\u001b[0m\u001b[0mage2\u001b[0m \u001b[0;34m=\u001b[0m \u001b[0mage2\u001b[0m\u001b[0;34m\u001b[0m\u001b[0;34m\u001b[0m\u001b[0m\n\u001b[1;32m     11\u001b[0m \u001b[0;34m\u001b[0m\u001b[0m\n",
      "\u001b[0;32m~/dev/repo/prac_py/src/pycookbook/c8/c813checkattri_decro.py\u001b[0m in \u001b[0;36m__set__\u001b[0;34m(self, instance, value)\u001b[0m\n\u001b[1;32m     26\u001b[0m \u001b[0;34m\u001b[0m\u001b[0m\n\u001b[1;32m     27\u001b[0m     \u001b[0;32mdef\u001b[0m \u001b[0m__set__\u001b[0m\u001b[0;34m(\u001b[0m\u001b[0mself\u001b[0m\u001b[0;34m,\u001b[0m \u001b[0minstance\u001b[0m\u001b[0;34m,\u001b[0m \u001b[0mvalue\u001b[0m\u001b[0;34m)\u001b[0m\u001b[0;34m:\u001b[0m\u001b[0;34m\u001b[0m\u001b[0;34m\u001b[0m\u001b[0m\n\u001b[0;32m---> 28\u001b[0;31m         \u001b[0;32mif\u001b[0m \u001b[0mvalue\u001b[0m \u001b[0;34m<\u001b[0m \u001b[0;36m0\u001b[0m\u001b[0;34m:\u001b[0m\u001b[0;34m\u001b[0m\u001b[0;34m\u001b[0m\u001b[0m\n\u001b[0m\u001b[1;32m     29\u001b[0m             \u001b[0;32mraise\u001b[0m \u001b[0mValueError\u001b[0m\u001b[0;34m(\u001b[0m\u001b[0;34m\"Expected >=0 \"\u001b[0m\u001b[0;34m)\u001b[0m\u001b[0;34m\u001b[0m\u001b[0;34m\u001b[0m\u001b[0m\n\u001b[1;32m     30\u001b[0m         \u001b[0msuper_set\u001b[0m\u001b[0;34m(\u001b[0m\u001b[0mself\u001b[0m\u001b[0;34m,\u001b[0m \u001b[0minstance\u001b[0m\u001b[0;34m,\u001b[0m \u001b[0mvalue\u001b[0m\u001b[0;34m)\u001b[0m\u001b[0;34m\u001b[0m\u001b[0;34m\u001b[0m\u001b[0m\n",
      "\u001b[0;31mTypeError\u001b[0m: '<' not supported between instances of 'str' and 'int'"
     ]
    }
   ],
   "source": [
    "from pycookbook.c8.c813checkattri_decro import *\n",
    "\n",
    "logging.basicConfig(level=logging.INFO)\n",
    "class Stock3:\n",
    "    age1 = UnsignedI1('age1')\n",
    "    age2 = UnsignedI2('age2')\n",
    "\n",
    "    def __init__(self,age1,age2):\n",
    "        self.age1 = age1\n",
    "        self.age2 = age2 \n",
    "\n",
    "s3 = Stock3('hi',3.0)\n",
    "display(s3.age1,s3.age2)"
   ]
  },
  {
   "cell_type": "markdown",
   "metadata": {
    "lines_to_next_cell": 0
   },
   "source": [
    "## 单例模式 pycb C8.25\n",
    "### 依然可以调用__init__()"
   ]
  },
  {
   "cell_type": "code",
   "execution_count": null,
   "metadata": {},
   "outputs": [],
   "source": [
    "from pycookbook.c8.c825singleton import Spam\n",
    "\n",
    "s = Spam('hello')\n",
    "s1 = Spam('hello')\n",
    "display(s is s1)\n",
    "display(list(Spam._spam_cache))\n",
    "del s \n",
    "display(list(Spam._spam_cache))\n",
    "del s1\n",
    "display(list(Spam._spam_cache)) # 引用都售出后,在WeakValueDictionary中移除."
   ]
  },
  {
   "cell_type": "markdown",
   "metadata": {},
   "source": [
    "### 隐藏__init__()"
   ]
  },
  {
   "cell_type": "code",
   "execution_count": null,
   "metadata": {},
   "outputs": [],
   "source": [
    "from pycookbook.c8.c825sing1 import Spam2\n",
    "\n",
    "s = Spam2.get_instance('hello')\n",
    "s1 = Spam2.get_instance('hello')\n",
    "display(s is s1)\n",
    "\n",
    "s = Spam2('hello') # __init__()出错."
   ]
  },
  {
   "cell_type": "markdown",
   "metadata": {
    "lines_to_next_cell": 0
   },
   "source": [
    "### 使用元类创建单例或单例的缓存 pycb C9.13\n",
    "按关键字参数ids创建单例的缓存."
   ]
  },
  {
   "cell_type": "code",
   "execution_count": null,
   "metadata": {
    "lines_to_next_cell": 0
   },
   "outputs": [],
   "source": [
    "from pycookbook.c8.c825sing2c913 import Spam3\n",
    "s = Spam3('hello',42,ids=123)\n",
    "s1 = Spam3('hello',42,ids=123)\n",
    "s2 = Spam3('hello1',42,ids=123)\n",
    "s3 = Spam3('hello',43,ids=456)\n",
    "display(s is s1)\n",
    "display(s1 is s2)\n",
    "display(s is s3)"
   ]
  },
  {
   "cell_type": "markdown",
   "metadata": {},
   "source": [
    "# 6.Py3 字符串与编码"
   ]
  },
  {
   "cell_type": "markdown",
   "metadata": {},
   "source": [
    "## chr/bytearray/"
   ]
  },
  {
   "cell_type": "code",
   "execution_count": 80,
   "metadata": {},
   "outputs": [
    {
     "data": {
      "text/plain": [
       "'a'"
      ]
     },
     "metadata": {},
     "output_type": "display_data"
    },
    {
     "data": {
      "text/plain": [
       "'a'"
      ]
     },
     "metadata": {},
     "output_type": "display_data"
    },
    {
     "data": {
      "text/plain": [
       "20320"
      ]
     },
     "metadata": {},
     "output_type": "display_data"
    },
    {
     "data": {
      "text/plain": [
       "'你'"
      ]
     },
     "metadata": {},
     "output_type": "display_data"
    },
    {
     "data": {
      "text/plain": [
       "'你'"
      ]
     },
     "metadata": {},
     "output_type": "display_data"
    }
   ],
   "source": [
    "# 默认编码是unicode_escape\n",
    "display(chr(97))\n",
    "display(chr(0x61)) #0x61==97\n",
    "display(ord('你'))\n",
    "display(chr(20320))\n",
    "display(chr(0x4f60))# 两个8位"
   ]
  },
  {
   "cell_type": "code",
   "execution_count": 60,
   "metadata": {},
   "outputs": [
    {
     "data": {
      "text/plain": [
       "b'abc'"
      ]
     },
     "metadata": {},
     "output_type": "display_data"
    },
    {
     "data": {
      "text/plain": [
       "b'abc'"
      ]
     },
     "metadata": {},
     "output_type": "display_data"
    },
    {
     "data": {
      "text/plain": [
       "b'\\xe4\\xbd\\xa0\\xe5\\xa5\\xbd'"
      ]
     },
     "metadata": {},
     "output_type": "display_data"
    },
    {
     "data": {
      "text/plain": [
       "b'\\\\u4f60\\\\u597d'"
      ]
     },
     "metadata": {},
     "output_type": "display_data"
    }
   ],
   "source": [
    "display('abc'.encode('ascii'))\n",
    "display('abc'.encode('utf-8'))\n",
    "display('你好'.encode('utf-8'))\n",
    "display('你好'.encode('unicode_escape'))"
   ]
  },
  {
   "cell_type": "code",
   "execution_count": 59,
   "metadata": {},
   "outputs": [
    {
     "data": {
      "text/plain": [
       "'abc'"
      ]
     },
     "metadata": {},
     "output_type": "display_data"
    }
   ],
   "source": [
    "display(b'abc'.decode('ascii'))"
   ]
  },
  {
   "cell_type": "code",
   "execution_count": 45,
   "metadata": {
    "lines_to_next_cell": 2
   },
   "outputs": [
    {
     "data": {
      "text/plain": [
       "array('l', [3, 4])"
      ]
     },
     "metadata": {},
     "output_type": "display_data"
    },
    {
     "data": {
      "text/plain": [
       "b'\\x03\\x00\\x00\\x00\\x00\\x00\\x00\\x00\\x04\\x00\\x00\\x00\\x00\\x00\\x00\\x00'"
      ]
     },
     "metadata": {},
     "output_type": "display_data"
    },
    {
     "data": {
      "text/plain": [
       "b'\\x03\\x00\\x00\\x00\\x00\\x00\\x00\\x00'"
      ]
     },
     "execution_count": 45,
     "metadata": {},
     "output_type": "execute_result"
    }
   ],
   "source": [
    "from array import array\n",
    "\n",
    "# typecode 不同,bytes()也不同\n",
    "# b:1个byte / f:4个 / d:8个 / u:2个/\n",
    "a = array('l',[3,4])\n",
    "display(a)\n",
    "b = bytes(a)\n",
    "display(b)\n",
    "x=3\n",
    "x.to_bytes(8,'little')"
   ]
  },
  {
   "cell_type": "code",
   "execution_count": 47,
   "metadata": {},
   "outputs": [
    {
     "data": {
      "text/plain": [
       "b'hello world'"
      ]
     },
     "metadata": {},
     "output_type": "display_data"
    },
    {
     "data": {
      "text/plain": [
       "b'hello world'"
      ]
     },
     "metadata": {},
     "output_type": "display_data"
    },
    {
     "data": {
      "text/plain": [
       "11"
      ]
     },
     "metadata": {},
     "output_type": "display_data"
    },
    {
     "data": {
      "text/plain": [
       "b'\\xc4\\xe3\\xba\\xc3'"
      ]
     },
     "metadata": {},
     "output_type": "display_data"
    },
    {
     "data": {
      "text/plain": [
       "4"
      ]
     },
     "metadata": {},
     "output_type": "display_data"
    },
    {
     "data": {
      "text/plain": [
       "b'\\xe4\\xbd\\xa0\\xe5\\xa5\\xbd'"
      ]
     },
     "metadata": {},
     "output_type": "display_data"
    }
   ],
   "source": [
    "b = bytes('hello world',encoding='iso8859-1')\n",
    "display(b)\n",
    "# 可见字节\n",
    "b = bytes('hello world',encoding='ascii')\n",
    "display(b,len(b))\n",
    "b = bytes('你好',encoding='gbk')\n",
    "display(b,len(b))\n",
    "b = bytes('你好',encoding='utf-8')\n",
    "display(b)"
   ]
  },
  {
   "cell_type": "markdown",
   "metadata": {},
   "source": []
  },
  {
   "cell_type": "markdown",
   "metadata": {},
   "source": [
    "# 7. 协程"
   ]
  },
  {
   "cell_type": "markdown",
   "metadata": {},
   "source": [
    "## 7.1 yield与yield from"
   ]
  },
  {
   "cell_type": "code",
   "execution_count": 6,
   "metadata": {},
   "outputs": [],
   "source": [
    "def func1():\n",
    "    print('in func1()')\n",
    "    ret = yield request(\"http://test.com/foo\")\n",
    "    ret = yield func2(ret)\n",
    "    return ret\n",
    "\n",
    "def func2(data):\n",
    "    print('in func2()')\n",
    "    result = yield request(\"http://test.com/\"+data)\n",
    "    return result\n",
    "\n",
    "def request(url): \n",
    "    \"\"\" 这里模拟返回一个io操作，包含io操作的所有信息，这里用字符串简化代替.\n",
    "    request 如果注册给ioloop,即io完成后进行唤醒. \"\"\"\n",
    "    print(f'in request().before request yield:iojob of {url}')\n",
    "    result = yield \"return url:iojob of %s\" % url\n",
    "    print('after retuqest yield')\n",
    "    return result"
   ]
  },
  {
   "cell_type": "code",
   "execution_count": 7,
   "metadata": {},
   "outputs": [
    {
     "name": "stdout",
     "output_type": "stream",
     "text": [
      "in request().before request yield:iojob of bar\n",
      "***** return url:iojob of bar\n",
      "after retuqest yield\n"
     ]
    },
    {
     "ename": "StopIteration",
     "evalue": "end",
     "output_type": "error",
     "traceback": [
      "\u001b[0;31m---------------------------------------------------------------------------\u001b[0m",
      "\u001b[0;31mStopIteration\u001b[0m                             Traceback (most recent call last)",
      "\u001b[0;32m<ipython-input-7-549e0d04991d>\u001b[0m in \u001b[0;36m<module>\u001b[0;34m\u001b[0m\n\u001b[1;32m      2\u001b[0m \u001b[0mret\u001b[0m \u001b[0;34m=\u001b[0m \u001b[0mg\u001b[0m\u001b[0;34m.\u001b[0m\u001b[0msend\u001b[0m\u001b[0;34m(\u001b[0m\u001b[0;32mNone\u001b[0m\u001b[0;34m)\u001b[0m\u001b[0;34m\u001b[0m\u001b[0;34m\u001b[0m\u001b[0m\n\u001b[1;32m      3\u001b[0m \u001b[0mprint\u001b[0m\u001b[0;34m(\u001b[0m\u001b[0;34m'*'\u001b[0m\u001b[0;34m*\u001b[0m\u001b[0;36m5\u001b[0m\u001b[0;34m,\u001b[0m\u001b[0mret\u001b[0m\u001b[0;34m)\u001b[0m\u001b[0;34m\u001b[0m\u001b[0;34m\u001b[0m\u001b[0m\n\u001b[0;32m----> 4\u001b[0;31m \u001b[0mret\u001b[0m \u001b[0;34m=\u001b[0m \u001b[0mg\u001b[0m\u001b[0;34m.\u001b[0m\u001b[0msend\u001b[0m\u001b[0;34m(\u001b[0m\u001b[0;34m'end'\u001b[0m\u001b[0;34m)\u001b[0m\u001b[0;34m\u001b[0m\u001b[0;34m\u001b[0m\u001b[0m\n\u001b[0m\u001b[1;32m      5\u001b[0m \u001b[0mprint\u001b[0m\u001b[0;34m(\u001b[0m\u001b[0mret\u001b[0m\u001b[0;34m)\u001b[0m\u001b[0;34m\u001b[0m\u001b[0;34m\u001b[0m\u001b[0m\n",
      "\u001b[0;31mStopIteration\u001b[0m: end"
     ]
    }
   ],
   "source": [
    "g = request('bar')\n",
    "ret = g.send(None)\n",
    "print('*'*5,ret)\n",
    "ret = g.send('end')\n",
    "print(ret)"
   ]
  },
  {
   "cell_type": "markdown",
   "metadata": {},
   "source": [
    "### fltpy 16.18示例\n",
    "子生成器func1运行,func1内部嵌套第二层生成器没有运行."
   ]
  },
  {
   "cell_type": "code",
   "execution_count": 35,
   "metadata": {
    "lines_to_next_cell": 2
   },
   "outputs": [
    {
     "name": "stdout",
     "output_type": "stream",
     "text": [
      "in func1()\n",
      "<generator object request at 0x1108bdf20>\n",
      "<generator object func2 at 0x10f7892e0>\n",
      "stopiteration\n",
      "-- end\n"
     ]
    },
    {
     "ename": "StopIteration",
     "evalue": "end",
     "output_type": "error",
     "traceback": [
      "\u001b[0;31m---------------------------------------------------------------------------\u001b[0m",
      "\u001b[0;31mStopIteration\u001b[0m                             Traceback (most recent call last)",
      "\u001b[0;32m<ipython-input-35-2dc3ce76cf65>\u001b[0m in \u001b[0;36m<module>\u001b[0;34m\u001b[0m\n\u001b[1;32m     24\u001b[0m \u001b[0;32mfor\u001b[0m \u001b[0mp\u001b[0m \u001b[0;32min\u001b[0m \u001b[0mparams\u001b[0m\u001b[0;34m:\u001b[0m\u001b[0;34m\u001b[0m\u001b[0;34m\u001b[0m\u001b[0m\n\u001b[1;32m     25\u001b[0m     \u001b[0;31m# result = w.send(p)\u001b[0m\u001b[0;34m\u001b[0m\u001b[0;34m\u001b[0m\u001b[0;34m\u001b[0m\u001b[0m\n\u001b[0;32m---> 26\u001b[0;31m     \u001b[0mprint\u001b[0m\u001b[0;34m(\u001b[0m\u001b[0mw\u001b[0m\u001b[0;34m.\u001b[0m\u001b[0msend\u001b[0m\u001b[0;34m(\u001b[0m\u001b[0mp\u001b[0m\u001b[0;34m)\u001b[0m\u001b[0;34m)\u001b[0m\u001b[0;34m\u001b[0m\u001b[0;34m\u001b[0m\u001b[0m\n\u001b[0m\u001b[1;32m     27\u001b[0m     \u001b[0;31m# if isgenerator(result):\u001b[0m\u001b[0;34m\u001b[0m\u001b[0;34m\u001b[0m\u001b[0;34m\u001b[0m\u001b[0m\n\u001b[1;32m     28\u001b[0m     \u001b[0;31m#     w = result\u001b[0m\u001b[0;34m\u001b[0m\u001b[0;34m\u001b[0m\u001b[0;34m\u001b[0m\u001b[0m\n",
      "\u001b[0;31mStopIteration\u001b[0m: end"
     ]
    }
   ],
   "source": [
    "from inspect import isgenerator\n",
    "\n",
    "def wrapper(gen):\n",
    "    _i = iter(gen) #func1\n",
    "    try:\n",
    "        _y = next(_i)\n",
    "    except StopIteration as _e:\n",
    "        _r = _e.value\n",
    "    else:\n",
    "        while True:\n",
    "            _s = yield _y\n",
    "            try:\n",
    "                _y = _i.send(_s)\n",
    "            except StopIteration as _e:\n",
    "                _r = _e.value\n",
    "                break\n",
    "    print('--',_r)\n",
    "    return _r\n",
    "\n",
    "w = wrapper(func1())\n",
    "params = [None,'bar','end']\n",
    "result = None\n",
    "for p in params:\n",
    "    # result = w.send(p)\n",
    "    print(w.send(p)) #w也是生成器,func1的stopiteration捕捉了,w也执行完了,没有捕捉;\n",
    "    # if isgenerator(result):\n",
    "    #     w = result"
   ]
  },
  {
   "cell_type": "markdown",
   "metadata": {},
   "source": [
    "### 模拟yield from的执行(来自于pocket收藏:python协程的本质\n",
    "子生成器嵌套的触发不断运行"
   ]
  },
  {
   "cell_type": "code",
   "execution_count": 30,
   "metadata": {},
   "outputs": [
    {
     "name": "stdout",
     "output_type": "stream",
     "text": [
      "***** client start... True\n",
      "in wrapper gen: <generator object func1 at 0x1108c0eb0>\n",
      "<generator object func1 at 0x1108c0eb0> GEN_CREATED\n",
      "in func1()\n",
      "<generator object request at 0x1108c0f90> GEN_CREATED\n",
      "in request().before request yield:iojob of http://test.com/foo\n",
      "return request yield value.\n",
      "***** execute in client...\n",
      "<generator object request at 0x1108c0f90> GEN_SUSPENDED\n",
      "after retuqest yield\n",
      "StopIteration bar\n",
      "<generator object func1 at 0x1108c0eb0> GEN_SUSPENDED\n",
      "<generator object func2 at 0x1108c0f90> GEN_CREATED\n",
      "in func2()\n",
      "<generator object request at 0x1108c0b30> GEN_CREATED\n",
      "in request().before request yield:iojob of http://test.com/bar\n",
      "return request yield value.\n",
      "***** execute in client...\n",
      "<generator object request at 0x1108c0b30> GEN_SUSPENDED\n",
      "after retuqest yield\n",
      "StopIteration the end\n",
      "<generator object func2 at 0x1108c0f90> GEN_SUSPENDED\n",
      "StopIteration the end\n",
      "<generator object func1 at 0x1108c0eb0> GEN_SUSPENDED\n",
      "StopIteration the end\n",
      "finish.\n",
      "The final result:the end\n"
     ]
    }
   ],
   "source": [
    "from inspect import isgenerator\n",
    "from inspect import getgeneratorstate\n",
    "\n",
    "def wrapper(gen):\n",
    "    print('in wrapper gen:',gen)\n",
    "    stack = []\n",
    "    stack.append(gen)\n",
    "    result = None\n",
    "    while True:\n",
    "        item = stack[-1]\n",
    "        if(isgenerator(item)):\n",
    "            try:\n",
    "                print(item,getgeneratorstate(item))\n",
    "                child = item.send(result) # 在func1第一个yield处暂停,返回生成器request(url);\n",
    "                stack.append(child)\n",
    "                result = None\n",
    "                continue\n",
    "            except StopIteration as e:\n",
    "                print('StopIteration',e.value) #直至request执行结束,捕获异常;\n",
    "                result = e.value\n",
    "        else:\n",
    "            print('return request yield value.')\n",
    "            result = yield item # 返回request(url)中yield右侧的值,并等待调用方发送参数\n",
    "        stack.pop() # 当返回非生成器或执行完后,弹出栈顶的元素;\n",
    "        if not stack:\n",
    "            print('finish.')\n",
    "            return result\n",
    "\n",
    "w = wrapper(func1())\n",
    "print('*'*5,'client start...',isgenerator(w)) # 如果w也是generator,先执行此行;w在send(None)预激时执行;\n",
    "try:\n",
    "    w.send(None)\n",
    "    print('*'*5,'execute in client...')\n",
    "    w.send('bar')\n",
    "    print('*'*5,'execute in client...')\n",
    "    w.send('the end')\n",
    "except StopIteration as e:\n",
    "    print('The final result:'+e.value)"
   ]
  },
  {
   "cell_type": "markdown",
   "metadata": {},
   "source": [
    "## 使用yield from代替yield"
   ]
  },
  {
   "cell_type": "code",
   "execution_count": 6,
   "metadata": {},
   "outputs": [],
   "source": [
    "from types import coroutine\n",
    "\n",
    "def func1():\n",
    "    print('in func1()')\n",
    "    ret = yield from request(\"http://test.com/foo\") # 如果去掉from,在这里暂停\n",
    "    ret = yield from func2(ret)\n",
    "    return ret\n",
    "\n",
    "def func2(data):\n",
    "    print('in func2()')\n",
    "    result = yield from request(\"http://test.com/\"+data)\n",
    "    return result\n",
    "\n",
    "async def func3(data):\n",
    "    print('in func3()')\n",
    "    await request_co(\"http://test.com/\"+data)\n",
    "    return 'end func3'\n",
    "\n",
    "def request(url):\n",
    "    # 这里模拟返回一个io操作，包含io操作的所有信息，这里用字符串简化代替\n",
    "    print(f'before request yield:iojob of {url}')\n",
    "    result = yield \"return url:iojob of %s\" % url\n",
    "    print('after retuqest yield:',result)\n",
    "    return result\n",
    "\n",
    "@coroutine\n",
    "def request_co(url):\n",
    "    # 这里模拟返回一个io操作，包含io操作的所有信息，这里用字符串简化代替\n",
    "    print(f'before request yield:iojob of {url}')\n",
    "    yield \"return url:iojob of %s\" % url\n",
    "    print('after retuqest yield:')\n",
    "\n"
   ]
  },
  {
   "cell_type": "code",
   "execution_count": 21,
   "metadata": {},
   "outputs": [
    {
     "name": "stdout",
     "output_type": "stream",
     "text": [
      "in func2()\n",
      "before request yield:iojob of http://test.com/bar\n",
      "***** return url:iojob of http://test.com/bar\n",
      "after retuqest yield: end\n"
     ]
    },
    {
     "ename": "StopIteration",
     "evalue": "end",
     "output_type": "error",
     "traceback": [
      "\u001b[0;31m---------------------------------------------------------------------------\u001b[0m",
      "\u001b[0;31mStopIteration\u001b[0m                             Traceback (most recent call last)",
      "\u001b[0;32m<ipython-input-21-fda0f081d02d>\u001b[0m in \u001b[0;36m<module>\u001b[0;34m\u001b[0m\n\u001b[1;32m      2\u001b[0m \u001b[0mret\u001b[0m \u001b[0;34m=\u001b[0m \u001b[0mg\u001b[0m\u001b[0;34m.\u001b[0m\u001b[0msend\u001b[0m\u001b[0;34m(\u001b[0m\u001b[0;32mNone\u001b[0m\u001b[0;34m)\u001b[0m\u001b[0;34m\u001b[0m\u001b[0;34m\u001b[0m\u001b[0m\n\u001b[1;32m      3\u001b[0m \u001b[0mprint\u001b[0m\u001b[0;34m(\u001b[0m\u001b[0;34m'*'\u001b[0m\u001b[0;34m*\u001b[0m\u001b[0;36m5\u001b[0m\u001b[0;34m,\u001b[0m\u001b[0mret\u001b[0m\u001b[0;34m)\u001b[0m\u001b[0;34m\u001b[0m\u001b[0;34m\u001b[0m\u001b[0m\n\u001b[0;32m----> 4\u001b[0;31m \u001b[0mret\u001b[0m \u001b[0;34m=\u001b[0m \u001b[0mg\u001b[0m\u001b[0;34m.\u001b[0m\u001b[0msend\u001b[0m\u001b[0;34m(\u001b[0m\u001b[0;34m'end'\u001b[0m\u001b[0;34m)\u001b[0m\u001b[0;34m\u001b[0m\u001b[0;34m\u001b[0m\u001b[0m\n\u001b[0m\u001b[1;32m      5\u001b[0m \u001b[0mprint\u001b[0m\u001b[0;34m(\u001b[0m\u001b[0mret\u001b[0m\u001b[0;34m)\u001b[0m\u001b[0;34m\u001b[0m\u001b[0;34m\u001b[0m\u001b[0m\n",
      "\u001b[0;31mStopIteration\u001b[0m: end"
     ]
    }
   ],
   "source": [
    "g = func2('bar')\n",
    "ret = g.send(None)\n",
    "print('*'*5,ret)\n",
    "ret = g.send('end')\n",
    "print(ret)"
   ]
  },
  {
   "cell_type": "markdown",
   "metadata": {
    "lines_to_next_cell": 0
   },
   "source": [
    "### 调度器模拟,asyncio-async/await 执行"
   ]
  },
  {
   "cell_type": "code",
   "execution_count": 17,
   "metadata": {
    "lines_to_next_cell": 2
   },
   "outputs": [
    {
     "name": "stdout",
     "output_type": "stream",
     "text": [
      "<coroutine object func4 at 0x1094c47c0>\n",
      "in func3()\n",
      "before request yield:iojob of http://test.com/bar+2\n",
      "***after co send(None)\n",
      "after retuqest yield:\n",
      "end func3()\n",
      "****** end func3\n",
      "in func3()\n",
      "before request yield:iojob of http://test.com/bar+1\n",
      "***after co send(None)\n",
      "after retuqest yield:\n",
      "end func3()\n",
      "*** end func3\n",
      "\n"
     ]
    }
   ],
   "source": [
    "import traceback\n",
    "\n",
    "async def func4():\n",
    "    \"\"\" 管控func3()的执行,执行2次.执行完之后抛出StopIteration. \"\"\"\n",
    "    i = 2\n",
    "    while True:\n",
    "        if(i==0):\n",
    "            break\n",
    "        ret = await func3('bar+'+str(i))\n",
    "        print('*'*3*i,ret)\n",
    "        i-=1\n",
    "\n",
    "co = func4()\n",
    "print(co)\n",
    "# 下边相当与一个调度器\n",
    "while True:\n",
    "    try:\n",
    "        print('-----send co signal.') #执行3次;第二次执行推动yield向下并\n",
    "        co.send(None) #推动协程运行\n",
    "    except StopIteration as e:\n",
    "        traceback.print_exc()\n",
    "        break"
   ]
  },
  {
   "cell_type": "markdown",
   "metadata": {
    "lines_to_next_cell": 0
   },
   "source": [
    "### yield from的执行"
   ]
  },
  {
   "cell_type": "code",
   "execution_count": 149,
   "metadata": {},
   "outputs": [
    {
     "name": "stdout",
     "output_type": "stream",
     "text": [
      "func1: True GEN_CREATED\n",
      "in func1()\n",
      "before request yield:iojob of http://test.com/foo\n",
      "***** return url:iojob of http://test.com/foo ,sending param\n",
      "after retuqest yield: bar\n",
      "in func2()\n",
      "before request yield:iojob of http://test.com/bar\n",
      "***** return url:iojob of http://test.com/bar ,sending param\n",
      "after retuqest yield: the end\n"
     ]
    },
    {
     "ename": "StopIteration",
     "evalue": "the end",
     "output_type": "error",
     "traceback": [
      "\u001b[0;31m---------------------------------------------------------------------------\u001b[0m",
      "\u001b[0;31mStopIteration\u001b[0m                             Traceback (most recent call last)",
      "\u001b[0;32m<ipython-input-149-d7494c4b5016>\u001b[0m in \u001b[0;36m<module>\u001b[0;34m\u001b[0m\n\u001b[1;32m      8\u001b[0m \u001b[0mresult\u001b[0m \u001b[0;34m=\u001b[0m \u001b[0mg\u001b[0m\u001b[0;34m.\u001b[0m\u001b[0msend\u001b[0m\u001b[0;34m(\u001b[0m\u001b[0;34m'bar'\u001b[0m\u001b[0;34m)\u001b[0m\u001b[0;34m\u001b[0m\u001b[0;34m\u001b[0m\u001b[0m\n\u001b[1;32m      9\u001b[0m \u001b[0mprint\u001b[0m\u001b[0;34m(\u001b[0m\u001b[0;34m'*'\u001b[0m\u001b[0;34m*\u001b[0m\u001b[0;36m5\u001b[0m\u001b[0;34m,\u001b[0m\u001b[0mresult\u001b[0m\u001b[0;34m,\u001b[0m\u001b[0;34m',sending param'\u001b[0m\u001b[0;34m)\u001b[0m\u001b[0;34m\u001b[0m\u001b[0;34m\u001b[0m\u001b[0m\n\u001b[0;32m---> 10\u001b[0;31m \u001b[0mg\u001b[0m\u001b[0;34m.\u001b[0m\u001b[0msend\u001b[0m\u001b[0;34m(\u001b[0m\u001b[0;34m'the end'\u001b[0m\u001b[0;34m)\u001b[0m\u001b[0;34m\u001b[0m\u001b[0;34m\u001b[0m\u001b[0m\n\u001b[0m\u001b[1;32m     11\u001b[0m \u001b[0mg\u001b[0m\u001b[0;34m.\u001b[0m\u001b[0mclose\u001b[0m\u001b[0;34m(\u001b[0m\u001b[0;34m)\u001b[0m\u001b[0;34m\u001b[0m\u001b[0;34m\u001b[0m\u001b[0m\n",
      "\u001b[0;31mStopIteration\u001b[0m: the end"
     ]
    }
   ],
   "source": [
    "from inspect import getgeneratorstate\n",
    "from inspect import isgenerator\n",
    "\n",
    "g = func1()\n",
    "print('func1:',isgenerator(g),getgeneratorstate(g))\n",
    "result = g.send(None)\n",
    "print('*'*5,result,',sending param')\n",
    "result = g.send('bar')\n",
    "print('*'*5,result,',sending param')\n",
    "g.send('the end')"
   ]
  },
  {
   "cell_type": "code",
   "execution_count": 46,
   "metadata": {},
   "outputs": [
    {
     "name": "stdout",
     "output_type": "stream",
     "text": [
      "in func1()\n",
      "before request yield:iojob of http://test.com/foo\n",
      "***** execute in client... return url:iojob of http://test.com/foo\n",
      "after retuqest yield: bar\n",
      "in func2()\n",
      "before request yield:iojob of http://test.com/bar\n",
      "***** execute in client... return url:iojob of http://test.com/bar\n"
     ]
    }
   ],
   "source": [
    "from inspect import getgeneratorstate\n",
    "from inspect import isgenerator\n",
    "\n",
    "def wrapper(gen):\n",
    "    yield from gen\n",
    "w = wrapper(func1())\n",
    "ret = w.send(None)\n",
    "print('*'*5,'execute in client...',ret)\n",
    "ret = w.send('bar')\n",
    "print('*'*5,'execute in client...',ret)"
   ]
  },
  {
   "cell_type": "code",
   "execution_count": null,
   "metadata": {},
   "outputs": [],
   "source": []
  }
 ],
 "metadata": {
  "jupytext": {
   "encoding": "# -*- coding: utf-8 -*-",
   "formats": "ipynb,py:percent"
  },
  "kernelspec": {
   "display_name": "Python 3.8.2 64-bit ('data': venv)",
   "language": "python",
   "name": "python38264bitdatavenv86c8e9e79e034983bf9e66a89847a1a4"
  },
  "language_info": {
   "codemirror_mode": {
    "name": "ipython",
    "version": 3
   },
   "file_extension": ".py",
   "mimetype": "text/x-python",
   "name": "python",
   "nbconvert_exporter": "python",
   "pygments_lexer": "ipython3",
   "version": "3.8.2-final"
  }
 },
 "nbformat": 4,
 "nbformat_minor": 2
}
