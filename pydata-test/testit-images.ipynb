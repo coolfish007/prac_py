{
 "metadata": {
  "language_info": {
   "codemirror_mode": {
    "name": "ipython",
    "version": 3
   },
   "file_extension": ".py",
   "mimetype": "text/x-python",
   "name": "python",
   "nbconvert_exporter": "python",
   "pygments_lexer": "ipython3",
   "version": "3.8.2-final"
  },
  "orig_nbformat": 2,
  "kernelspec": {
   "name": "python3",
   "display_name": "Python 3",
   "language": "python"
  }
 },
 "nbformat": 4,
 "nbformat_minor": 2,
 "cells": [
  {
   "cell_type": "code",
   "execution_count": 5,
   "metadata": {},
   "outputs": [
    {
     "output_type": "execute_result",
     "data": {
      "text/plain": [
       "-1"
      ]
     },
     "metadata": {},
     "execution_count": 5
    }
   ],
   "source": [
    "import cv2\n",
    "import numpy as np\n",
    "\n",
    "img = cv2.imread(\"../images/201904261057095210.jpg\")\n",
    "\n",
    "cv2.imshow('image',img)\n",
    "cv2.waitKey(0)\n",
    "cv2.destroyAllWindows()\n",
    "cv2.waitKey(1) #inMAC,此行运行后窗口关闭"
   ]
  },
  {
   "cell_type": "code",
   "execution_count": 9,
   "metadata": {},
   "outputs": [
    {
     "output_type": "execute_result",
     "data": {
      "text/plain": [
       "-1"
      ]
     },
     "metadata": {},
     "execution_count": 9
    }
   ],
   "source": [
    "import cv2\n",
    "import numpy as np\n",
    "\n",
    "img = cv2.imread(\"../images/201904261057095210.jpg\")\n",
    "img = cv2.cvtColor(img, cv2.COLOR_RGB2HSV)\n",
    "low = np.array([0, 0, 237])\n",
    "high = np.array([180, 43, 250])\n",
    "\n",
    "mask = cv2.inRange(img, low, high)\n",
    "#cv2.imshow(\"show\", mask)\n",
    "cv2.imwrite(\"../images/test.jpg\", mask)\n",
    "\n",
    "cv2.imshow('image',mask)\n",
    "cv2.waitKey(0)\n",
    "cv2.destroyAllWindows()\n",
    "cv2.waitKey(1)"
   ]
  },
  {
   "cell_type": "code",
   "execution_count": 16,
   "metadata": {},
   "outputs": [],
   "source": [
    "import numpy as np \n",
    "x = np.arange(24).reshape(2,3,4)\n",
    "x1 = x[0][0][0]\n",
    "x2 = x[0][0][1]\n",
    "x3 = x[0][1][0]\n",
    "x4 = x[1][0][0]\n",
    "\n",
    "sum1 = x.sum(axis=0)\n",
    "sum2 = x.sum(axis=1)\n",
    "sum3 = x.sum(axis=2)"
   ]
  },
  {
   "cell_type": "code",
   "execution_count": null,
   "metadata": {},
   "outputs": [],
   "source": []
  }
 ]
}