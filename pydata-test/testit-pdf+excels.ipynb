{
 "metadata": {
  "language_info": {
   "codemirror_mode": {
    "name": "ipython",
    "version": 3
   },
   "file_extension": ".py",
   "mimetype": "text/x-python",
   "name": "python",
   "nbconvert_exporter": "python",
   "pygments_lexer": "ipython3",
   "version": "3.8.2-final"
  },
  "orig_nbformat": 2,
  "kernelspec": {
   "name": "python3",
   "display_name": "Python 3.8.2 64-bit ('data': venv)",
   "metadata": {
    "interpreter": {
     "hash": "b217fd59a71bdcf8fc21cb9025cc5ba5b0ad4d40cbcd43f8e3bd181db5128951"
    }
   }
  }
 },
 "nbformat": 4,
 "nbformat_minor": 2,
 "cells": [
  {
   "source": [
    "## PDF"
   ],
   "cell_type": "markdown",
   "metadata": {}
  },
  {
   "source": [
    "### PDF 表格处理"
   ],
   "cell_type": "markdown",
   "metadata": {}
  },
  {
   "cell_type": "code",
   "execution_count": 3,
   "metadata": {},
   "outputs": [
    {
     "output_type": "execute_result",
     "data": {
      "text/plain": [
       "[['序号', '站点名称', '责任区', '所在河流', '断面属性', '建站类型', '建设时限', '所需经费\\n（万元）'],\n",
       " ['1', '广州石门', '白云', '珠江广州河段西航道', '备用饮用水源', '固定站', '已建成', '140'],\n",
       " ['2', '从化街口', '从化', '流溪河', '饮用水源', '固定站', '已建成', '140'],\n",
       " ['3', '增城新塘', '增城', '东江北干流', '饮用水源', '固定站', '已建成', '140'],\n",
       " ['4', '增城石滩', '增城', '东江北干流', '饮用水源', '固定站', '已建成', '140'],\n",
       " ['5', '番禺紫坭', '番禺', '沙湾水道', '饮用水源、跨区（番禺、南沙）', '固定站', '已建成', '140'],\n",
       " ['6', '番禺东涌', '番禺', '沙湾水道', '饮用水源', '固定站', '已建成', '140'],\n",
       " ['7', '番禺中游', '番禺', '沙湾水道', '饮用水源', '固定站', '已建成', '140'],\n",
       " ['8', '南沙榄核', '南沙', '沙湾水道', '饮用水源', '固定站', '已建成', '140'],\n",
       " ['9', '增城柯灯山', '增城', '增江', '饮用水源', '固定站', '已建成', '140'],\n",
       " ['10', '西江引水', '白云', '西江三水段', '石门西江引水水源监控', '固定站', '已建成', '0'],\n",
       " ['11', '增城刘屋洲', '增城', '东江北干流', '饮用水源', '饮用水源超\\n级站', '2022年底', '1140'],\n",
       " ['12', '墩头基', '番禺', '珠江广州段黄埔航道', '国考、跨区（黄埔、番禺）', '固定站', '已建成', '0'],\n",
       " ['13', '鸦岗', '白云', '珠江广州段西航道', '国考', '固定站', '已建成', '0'],\n",
       " ['14', '莲花山', '番禺', '狮子洋', '国考', '固定站', '已建成', '0'],\n",
       " ['15', '大龙涌口', '番禺', '市桥水道', '国考', '固定站', '已建成', '0'],\n",
       " ['16', '官坦', '南沙', '沙湾水道', '国考、跨区（番禺、南沙）', '固定站', '已建成', '0'],\n",
       " ['17', '蕉门', '南沙', '蕉门水道', '国考', '固定站', '已建成', '0']]"
      ]
     },
     "metadata": {},
     "execution_count": 3
    }
   ],
   "source": [
    "import pdfplumber\n",
    "\n",
    "ws_pdf = pdfplumber.open('../pdfs/gz-145-waterstations.pdf')\n",
    "f_page = ws_pdf.pages[0]\n",
    "table = f_page.extract_table()\n",
    "table"
   ]
  },
  {
   "cell_type": "code",
   "execution_count": 47,
   "metadata": {},
   "outputs": [
    {
     "output_type": "execute_result",
     "data": {
      "text/plain": [
       "     序号      站点名称 责任区   所在河流               断面属性 建站类型     建设时限 所需经费\\n（万元）\n",
       "1   107       南岗河  黄埔    墩头涌  墩头基基断面周边重要河流\\n（涌）  简易站   2021年底        170\n",
       "2   108      番禺市桥  番禺   市桥水道          其他重要河流（涌）  固定站      已建成          0\n",
       "3   109       大陵河  花都    大陵河          其他重要河流（涌）  简易站  已建成（水务）          0\n",
       "4   110       田美河  花都    田美河          其他重要河流（涌）  简易站  已建成（水务）          0\n",
       "5   111       雅瑶河  花都    雅瑶河          其他重要河流（涌）  简易站  已建成（水务）          0\n",
       "6   116      雅瑶支涌  花都   雅瑶支涌          其他重要河流（涌）  简易站  已建成（水务）          0\n",
       "7   117  新街河（花都段）  花都    新街河          其他重要河流（涌）  简易站  已建成（水务）          0\n",
       "8   118       沙坑涌  白云    沙坑涌          其他重要河流（涌）  简易站  已建成（水务）          0\n",
       "9   119       白海面  白云    白海面          其他重要河流（涌）  简易站  已建成（水务）          0\n",
       "10  120     江高截洪渠  白云  江高截洪渠          其他重要河流（涌）  简易站  已建成（水务）          0\n",
       "11  121       方石坑  白云    方石坑          其他重要河流（涌）  简易站   2023年底        170\n",
       "12  122      秀水排渠  白云   秀水排渠          其他重要河流（涌）  简易站   2023年底        170\n",
       "13  123        泥坑  白云     泥坑          其他重要河流（涌）  简易站   2023年底        170\n",
       "14  124  新街河（白云段）  白云    新街河          其他重要河流（涌）  简易站   2023年底        170\n",
       "15  125       景泰涌  越秀    景泰涌          其他重要河流（涌）  简易站  已建成（水务）          0\n",
       "16  126     景泰涌下游  越秀    景泰涌          其他重要河流（涌）  简易站  已建成（水务）          0\n",
       "17  127  沙河涌（越秀段）  越秀    沙河涌          其他重要河流（涌）  简易站  已建成（水务）          0\n",
       "18  130      大冲口涌  荔湾   大冲口涌          其他重要河流（涌）  简易站   2023年底        170\n",
       "19  131       秀水涌  荔湾    秀水涌          其他重要河流（涌）  简易站  已建成（水务）          0\n",
       "20  132       西郊涌  荔湾    西郊涌          其他重要河流（涌）  简易站  已建成（水务）          0\n",
       "21  133       河沙涌  荔湾    河沙涌          其他重要河流（涌）  简易站  已建成（水务）          0"
      ],
      "text/html": "<div>\n<style scoped>\n    .dataframe tbody tr th:only-of-type {\n        vertical-align: middle;\n    }\n\n    .dataframe tbody tr th {\n        vertical-align: top;\n    }\n\n    .dataframe thead th {\n        text-align: right;\n    }\n</style>\n<table border=\"1\" class=\"dataframe\">\n  <thead>\n    <tr style=\"text-align: right;\">\n      <th></th>\n      <th>序号</th>\n      <th>站点名称</th>\n      <th>责任区</th>\n      <th>所在河流</th>\n      <th>断面属性</th>\n      <th>建站类型</th>\n      <th>建设时限</th>\n      <th>所需经费\\n（万元）</th>\n    </tr>\n  </thead>\n  <tbody>\n    <tr>\n      <th>1</th>\n      <td>107</td>\n      <td>南岗河</td>\n      <td>黄埔</td>\n      <td>墩头涌</td>\n      <td>墩头基基断面周边重要河流\\n（涌）</td>\n      <td>简易站</td>\n      <td>2021年底</td>\n      <td>170</td>\n    </tr>\n    <tr>\n      <th>2</th>\n      <td>108</td>\n      <td>番禺市桥</td>\n      <td>番禺</td>\n      <td>市桥水道</td>\n      <td>其他重要河流（涌）</td>\n      <td>固定站</td>\n      <td>已建成</td>\n      <td>0</td>\n    </tr>\n    <tr>\n      <th>3</th>\n      <td>109</td>\n      <td>大陵河</td>\n      <td>花都</td>\n      <td>大陵河</td>\n      <td>其他重要河流（涌）</td>\n      <td>简易站</td>\n      <td>已建成（水务）</td>\n      <td>0</td>\n    </tr>\n    <tr>\n      <th>4</th>\n      <td>110</td>\n      <td>田美河</td>\n      <td>花都</td>\n      <td>田美河</td>\n      <td>其他重要河流（涌）</td>\n      <td>简易站</td>\n      <td>已建成（水务）</td>\n      <td>0</td>\n    </tr>\n    <tr>\n      <th>5</th>\n      <td>111</td>\n      <td>雅瑶河</td>\n      <td>花都</td>\n      <td>雅瑶河</td>\n      <td>其他重要河流（涌）</td>\n      <td>简易站</td>\n      <td>已建成（水务）</td>\n      <td>0</td>\n    </tr>\n    <tr>\n      <th>6</th>\n      <td>116</td>\n      <td>雅瑶支涌</td>\n      <td>花都</td>\n      <td>雅瑶支涌</td>\n      <td>其他重要河流（涌）</td>\n      <td>简易站</td>\n      <td>已建成（水务）</td>\n      <td>0</td>\n    </tr>\n    <tr>\n      <th>7</th>\n      <td>117</td>\n      <td>新街河（花都段）</td>\n      <td>花都</td>\n      <td>新街河</td>\n      <td>其他重要河流（涌）</td>\n      <td>简易站</td>\n      <td>已建成（水务）</td>\n      <td>0</td>\n    </tr>\n    <tr>\n      <th>8</th>\n      <td>118</td>\n      <td>沙坑涌</td>\n      <td>白云</td>\n      <td>沙坑涌</td>\n      <td>其他重要河流（涌）</td>\n      <td>简易站</td>\n      <td>已建成（水务）</td>\n      <td>0</td>\n    </tr>\n    <tr>\n      <th>9</th>\n      <td>119</td>\n      <td>白海面</td>\n      <td>白云</td>\n      <td>白海面</td>\n      <td>其他重要河流（涌）</td>\n      <td>简易站</td>\n      <td>已建成（水务）</td>\n      <td>0</td>\n    </tr>\n    <tr>\n      <th>10</th>\n      <td>120</td>\n      <td>江高截洪渠</td>\n      <td>白云</td>\n      <td>江高截洪渠</td>\n      <td>其他重要河流（涌）</td>\n      <td>简易站</td>\n      <td>已建成（水务）</td>\n      <td>0</td>\n    </tr>\n    <tr>\n      <th>11</th>\n      <td>121</td>\n      <td>方石坑</td>\n      <td>白云</td>\n      <td>方石坑</td>\n      <td>其他重要河流（涌）</td>\n      <td>简易站</td>\n      <td>2023年底</td>\n      <td>170</td>\n    </tr>\n    <tr>\n      <th>12</th>\n      <td>122</td>\n      <td>秀水排渠</td>\n      <td>白云</td>\n      <td>秀水排渠</td>\n      <td>其他重要河流（涌）</td>\n      <td>简易站</td>\n      <td>2023年底</td>\n      <td>170</td>\n    </tr>\n    <tr>\n      <th>13</th>\n      <td>123</td>\n      <td>泥坑</td>\n      <td>白云</td>\n      <td>泥坑</td>\n      <td>其他重要河流（涌）</td>\n      <td>简易站</td>\n      <td>2023年底</td>\n      <td>170</td>\n    </tr>\n    <tr>\n      <th>14</th>\n      <td>124</td>\n      <td>新街河（白云段）</td>\n      <td>白云</td>\n      <td>新街河</td>\n      <td>其他重要河流（涌）</td>\n      <td>简易站</td>\n      <td>2023年底</td>\n      <td>170</td>\n    </tr>\n    <tr>\n      <th>15</th>\n      <td>125</td>\n      <td>景泰涌</td>\n      <td>越秀</td>\n      <td>景泰涌</td>\n      <td>其他重要河流（涌）</td>\n      <td>简易站</td>\n      <td>已建成（水务）</td>\n      <td>0</td>\n    </tr>\n    <tr>\n      <th>16</th>\n      <td>126</td>\n      <td>景泰涌下游</td>\n      <td>越秀</td>\n      <td>景泰涌</td>\n      <td>其他重要河流（涌）</td>\n      <td>简易站</td>\n      <td>已建成（水务）</td>\n      <td>0</td>\n    </tr>\n    <tr>\n      <th>17</th>\n      <td>127</td>\n      <td>沙河涌（越秀段）</td>\n      <td>越秀</td>\n      <td>沙河涌</td>\n      <td>其他重要河流（涌）</td>\n      <td>简易站</td>\n      <td>已建成（水务）</td>\n      <td>0</td>\n    </tr>\n    <tr>\n      <th>18</th>\n      <td>130</td>\n      <td>大冲口涌</td>\n      <td>荔湾</td>\n      <td>大冲口涌</td>\n      <td>其他重要河流（涌）</td>\n      <td>简易站</td>\n      <td>2023年底</td>\n      <td>170</td>\n    </tr>\n    <tr>\n      <th>19</th>\n      <td>131</td>\n      <td>秀水涌</td>\n      <td>荔湾</td>\n      <td>秀水涌</td>\n      <td>其他重要河流（涌）</td>\n      <td>简易站</td>\n      <td>已建成（水务）</td>\n      <td>0</td>\n    </tr>\n    <tr>\n      <th>20</th>\n      <td>132</td>\n      <td>西郊涌</td>\n      <td>荔湾</td>\n      <td>西郊涌</td>\n      <td>其他重要河流（涌）</td>\n      <td>简易站</td>\n      <td>已建成（水务）</td>\n      <td>0</td>\n    </tr>\n    <tr>\n      <th>21</th>\n      <td>133</td>\n      <td>河沙涌</td>\n      <td>荔湾</td>\n      <td>河沙涌</td>\n      <td>其他重要河流（涌）</td>\n      <td>简易站</td>\n      <td>已建成（水务）</td>\n      <td>0</td>\n    </tr>\n  </tbody>\n</table>\n</div>"
     },
     "metadata": {},
     "execution_count": 47
    }
   ],
   "source": [
    "import pdfplumber\n",
    "import pandas as pd\n",
    "\n",
    "ws_pdf = pdfplumber.open('../pdfs/gz-145-waterstations.pdf')\n",
    "f_page = ws_pdf.pages[6]\n",
    "table = f_page.extract_table()\n",
    "\n",
    "df = pd.DataFrame(table[1:],columns=table[0])\n",
    "df = df.drop(df[df.iloc[:,0] == ''].index)\n",
    "df"
   ]
  },
  {
   "source": [
    "1. 普通循环"
   ],
   "cell_type": "markdown",
   "metadata": {}
  },
  {
   "cell_type": "code",
   "execution_count": 81,
   "metadata": {},
   "outputs": [],
   "source": [
    "import pandas as pd\n",
    "import pdfplumber\n",
    "\n",
    "ws_pdf = pdfplumber.open('../pdfs/gz-145-waterstations.pdf')\n",
    "column_name = ws_pdf.pages[0].extract_table()[0]\n",
    "df = pd.DataFrame(columns=column_name)\n",
    "\n",
    "for page in ws_pdf.pages:\n",
    "    data = page.extract_table()[1:]\n",
    "    data_df = pd.DataFrame(data,columns=column_name)\n",
    "    data_df = data_df.drop(data_df[data_df.iloc[:,0]==''].index)\n",
    "    df = pd.concat([df,data_df],ignore_index=True)"
   ]
  },
  {
   "source": [
    "2. 生成器的做法"
   ],
   "cell_type": "markdown",
   "metadata": {}
  },
  {
   "cell_type": "code",
   "execution_count": 142,
   "metadata": {},
   "outputs": [],
   "source": [
    "import pandas as pd\n",
    "import pdfplumber\n",
    "\n",
    "def page2df(pdf_name):\n",
    "    ws_pdf = pdfplumber.open(pdf_name)\n",
    "    for page in ws_pdf.pages:\n",
    "        column_name = page.extract_table()[0]\n",
    "        data = page.extract_table()[1:]\n",
    "        data_df = pd.DataFrame(data,columns=column_name)\n",
    "        #data_df = data_df.drop(data_df[data_df.iloc[:,0]==''].index)\n",
    "        yield data_df\n"
   ]
  },
  {
   "cell_type": "code",
   "execution_count": 145,
   "metadata": {},
   "outputs": [
    {
     "output_type": "execute_result",
     "data": {
      "text/plain": [
       "      序号      站点名称 责任区       所在河流            断面属性 建站类型     建设时限 所需经费\\n（万元）\n",
       "0      1      广州石门  白云  珠江广州河段西航道          备用饮用水源  固定站      已建成        140\n",
       "1      2      从化街口  从化        流溪河            饮用水源  固定站      已建成        140\n",
       "2      3      增城新塘  增城      东江北干流            饮用水源  固定站      已建成        140\n",
       "3      4      增城石滩  增城      东江北干流            饮用水源  固定站      已建成        140\n",
       "4      5      番禺紫坭  番禺       沙湾水道  饮用水源、跨区（番禺、南沙）  固定站      已建成        140\n",
       "..   ...       ...  ..        ...             ...  ...      ...        ...\n",
       "149  157       双岗涌  黄埔        双岗涌       其他重要河流（涌）  简易站  已建成（水务）          0\n",
       "150  158   莲花山水道沙东  番禺      莲花山水道       其他重要河流（涌）  固定站   2023年底        300\n",
       "151  159  陈村水道钟村水厂  番禺       陈村水道       其他重要河流（涌）  固定站   2023年底        300\n",
       "152  160       北亭涌  番禺        北亭涌       其他重要河流（涌）  简易站  已建成（水务）          0\n",
       "153  161     三枝水水道  番禺      三枝水水道       其他重要河流（涌）  固定站   2023年底        300\n",
       "\n",
       "[153 rows x 8 columns]"
      ],
      "text/html": "<div>\n<style scoped>\n    .dataframe tbody tr th:only-of-type {\n        vertical-align: middle;\n    }\n\n    .dataframe tbody tr th {\n        vertical-align: top;\n    }\n\n    .dataframe thead th {\n        text-align: right;\n    }\n</style>\n<table border=\"1\" class=\"dataframe\">\n  <thead>\n    <tr style=\"text-align: right;\">\n      <th></th>\n      <th>序号</th>\n      <th>站点名称</th>\n      <th>责任区</th>\n      <th>所在河流</th>\n      <th>断面属性</th>\n      <th>建站类型</th>\n      <th>建设时限</th>\n      <th>所需经费\\n（万元）</th>\n    </tr>\n  </thead>\n  <tbody>\n    <tr>\n      <th>0</th>\n      <td>1</td>\n      <td>广州石门</td>\n      <td>白云</td>\n      <td>珠江广州河段西航道</td>\n      <td>备用饮用水源</td>\n      <td>固定站</td>\n      <td>已建成</td>\n      <td>140</td>\n    </tr>\n    <tr>\n      <th>1</th>\n      <td>2</td>\n      <td>从化街口</td>\n      <td>从化</td>\n      <td>流溪河</td>\n      <td>饮用水源</td>\n      <td>固定站</td>\n      <td>已建成</td>\n      <td>140</td>\n    </tr>\n    <tr>\n      <th>2</th>\n      <td>3</td>\n      <td>增城新塘</td>\n      <td>增城</td>\n      <td>东江北干流</td>\n      <td>饮用水源</td>\n      <td>固定站</td>\n      <td>已建成</td>\n      <td>140</td>\n    </tr>\n    <tr>\n      <th>3</th>\n      <td>4</td>\n      <td>增城石滩</td>\n      <td>增城</td>\n      <td>东江北干流</td>\n      <td>饮用水源</td>\n      <td>固定站</td>\n      <td>已建成</td>\n      <td>140</td>\n    </tr>\n    <tr>\n      <th>4</th>\n      <td>5</td>\n      <td>番禺紫坭</td>\n      <td>番禺</td>\n      <td>沙湾水道</td>\n      <td>饮用水源、跨区（番禺、南沙）</td>\n      <td>固定站</td>\n      <td>已建成</td>\n      <td>140</td>\n    </tr>\n    <tr>\n      <th>...</th>\n      <td>...</td>\n      <td>...</td>\n      <td>...</td>\n      <td>...</td>\n      <td>...</td>\n      <td>...</td>\n      <td>...</td>\n      <td>...</td>\n    </tr>\n    <tr>\n      <th>149</th>\n      <td>157</td>\n      <td>双岗涌</td>\n      <td>黄埔</td>\n      <td>双岗涌</td>\n      <td>其他重要河流（涌）</td>\n      <td>简易站</td>\n      <td>已建成（水务）</td>\n      <td>0</td>\n    </tr>\n    <tr>\n      <th>150</th>\n      <td>158</td>\n      <td>莲花山水道沙东</td>\n      <td>番禺</td>\n      <td>莲花山水道</td>\n      <td>其他重要河流（涌）</td>\n      <td>固定站</td>\n      <td>2023年底</td>\n      <td>300</td>\n    </tr>\n    <tr>\n      <th>151</th>\n      <td>159</td>\n      <td>陈村水道钟村水厂</td>\n      <td>番禺</td>\n      <td>陈村水道</td>\n      <td>其他重要河流（涌）</td>\n      <td>固定站</td>\n      <td>2023年底</td>\n      <td>300</td>\n    </tr>\n    <tr>\n      <th>152</th>\n      <td>160</td>\n      <td>北亭涌</td>\n      <td>番禺</td>\n      <td>北亭涌</td>\n      <td>其他重要河流（涌）</td>\n      <td>简易站</td>\n      <td>已建成（水务）</td>\n      <td>0</td>\n    </tr>\n    <tr>\n      <th>153</th>\n      <td>161</td>\n      <td>三枝水水道</td>\n      <td>番禺</td>\n      <td>三枝水水道</td>\n      <td>其他重要河流（涌）</td>\n      <td>固定站</td>\n      <td>2023年底</td>\n      <td>300</td>\n    </tr>\n  </tbody>\n</table>\n<p>153 rows × 8 columns</p>\n</div>"
     },
     "metadata": {},
     "execution_count": 145
    }
   ],
   "source": [
    "df = pd.concat(page2df('../pdfs/gz-145-waterstations.pdf'),ignore_index=True)\n",
    "df = df.drop(df[df.iloc[:,0]==''].index)\n",
    "df"
   ]
  },
  {
   "cell_type": "code",
   "execution_count": 148,
   "metadata": {},
   "outputs": [
    {
     "output_type": "error",
     "ename": "TypeError",
     "evalue": "'PDF' object is not iterable",
     "traceback": [
      "\u001b[0;31m---------------------------------------------------------------------------\u001b[0m",
      "\u001b[0;31mTypeError\u001b[0m                                 Traceback (most recent call last)",
      "\u001b[0;32m<ipython-input-148-ab2acd058ef3>\u001b[0m in \u001b[0;36m<module>\u001b[0;34m\u001b[0m\n\u001b[1;32m      2\u001b[0m \u001b[0;32mimport\u001b[0m \u001b[0mpdfplumber\u001b[0m\u001b[0;34m\u001b[0m\u001b[0;34m\u001b[0m\u001b[0m\n\u001b[1;32m      3\u001b[0m \u001b[0;34m\u001b[0m\u001b[0m\n\u001b[0;32m----> 4\u001b[0;31m \u001b[0mdfs\u001b[0m \u001b[0;34m=\u001b[0m \u001b[0;34m(\u001b[0m\u001b[0mpd\u001b[0m\u001b[0;34m.\u001b[0m\u001b[0mDataFrame\u001b[0m\u001b[0;34m(\u001b[0m\u001b[0mpage\u001b[0m\u001b[0;34m.\u001b[0m\u001b[0mextract_table\u001b[0m\u001b[0;34m(\u001b[0m\u001b[0;34m)\u001b[0m\u001b[0;34m[\u001b[0m\u001b[0;36m1\u001b[0m\u001b[0;34m:\u001b[0m\u001b[0;34m]\u001b[0m\u001b[0;34m,\u001b[0m\u001b[0mcolumns\u001b[0m\u001b[0;34m=\u001b[0m\u001b[0mpage\u001b[0m\u001b[0;34m.\u001b[0m\u001b[0mextract_table\u001b[0m\u001b[0;34m(\u001b[0m\u001b[0;34m)\u001b[0m\u001b[0;34m[\u001b[0m\u001b[0;36m0\u001b[0m\u001b[0;34m]\u001b[0m\u001b[0;34m)\u001b[0m \u001b[0;32mfor\u001b[0m \u001b[0mpage\u001b[0m \u001b[0;32min\u001b[0m \u001b[0mpdfplumber\u001b[0m\u001b[0;34m.\u001b[0m\u001b[0mopen\u001b[0m\u001b[0;34m(\u001b[0m\u001b[0;34m'../pdfs/gz-145-waterstations.pdf'\u001b[0m\u001b[0;34m)\u001b[0m\u001b[0;34m)\u001b[0m\u001b[0;34m\u001b[0m\u001b[0;34m\u001b[0m\u001b[0m\n\u001b[0m\u001b[1;32m      5\u001b[0m \u001b[0;34m\u001b[0m\u001b[0m\n\u001b[1;32m      6\u001b[0m \u001b[0mdf\u001b[0m \u001b[0;34m=\u001b[0m \u001b[0mpd\u001b[0m\u001b[0;34m.\u001b[0m\u001b[0mconcat\u001b[0m\u001b[0;34m(\u001b[0m\u001b[0mdfs\u001b[0m\u001b[0;34m,\u001b[0m\u001b[0mignore_index\u001b[0m\u001b[0;34m=\u001b[0m\u001b[0;32mTrue\u001b[0m\u001b[0;34m)\u001b[0m\u001b[0;34m\u001b[0m\u001b[0;34m\u001b[0m\u001b[0m\n",
      "\u001b[0;31mTypeError\u001b[0m: 'PDF' object is not iterable"
     ]
    }
   ],
   "source": [
    "import pandas as pd\n",
    "import pdfplumber\n",
    "\n",
    "dfs = (pd.DataFrame(page.extract_table()[1:],columns=page.extract_table()[0]) for page in pdfplumber.open('../pdfs/gz-145-waterstations.pdf').pages)\n",
    "\n",
    "df = pd.concat(dfs,ignore_index=True)\n",
    "df"
   ]
  },
  {
   "cell_type": "code",
   "execution_count": 146,
   "metadata": {},
   "outputs": [
    {
     "output_type": "stream",
     "name": "stdout",
     "text": [
      "0      140\n1      140\n2      140\n3      140\n4      140\n      ... \n149      0\n150    300\n151    300\n152      0\n153    300\nName: budget, Length: 153, dtype: int64\n"
     ]
    }
   ],
   "source": [
    "df.rename(columns={'所需经费\\n（万元）':'budget'},inplace=True)\n",
    "df['budget'] = df['budget'].apply(int)\n",
    "print(df['budget'])\n",
    "\n",
    "df.to_excel('../pdfs/gz-145-wsV1.xlsx',index=False)"
   ]
  },
  {
   "cell_type": "code",
   "execution_count": 84,
   "metadata": {},
   "outputs": [
    {
     "output_type": "execute_result",
     "data": {
      "text/plain": [
       "<pandasgui.gui.PandasGui at 0x1272f5f70>"
      ]
     },
     "metadata": {},
     "execution_count": 84
    }
   ],
   "source": [
    "from pandasgui import show\n",
    "\n",
    "show(df)"
   ]
  },
  {
   "cell_type": "code",
   "execution_count": null,
   "metadata": {},
   "outputs": [],
   "source": []
  }
 ]
}