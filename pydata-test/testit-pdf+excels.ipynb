{
 "metadata": {
  "language_info": {
   "codemirror_mode": {
    "name": "ipython",
    "version": 3
   },
   "file_extension": ".py",
   "mimetype": "text/x-python",
   "name": "python",
   "nbconvert_exporter": "python",
   "pygments_lexer": "ipython3",
   "version": "3.8.2-final"
  },
  "orig_nbformat": 2,
  "kernelspec": {
   "name": "python3",
   "display_name": "Python 3",
   "language": "python"
  }
 },
 "nbformat": 4,
 "nbformat_minor": 2,
 "cells": [
  {
   "source": [
    "## PDF"
   ],
   "cell_type": "markdown",
   "metadata": {}
  },
  {
   "source": [
    "### PDF 表格处理"
   ],
   "cell_type": "markdown",
   "metadata": {}
  },
  {
   "cell_type": "code",
   "execution_count": 3,
   "metadata": {},
   "outputs": [
    {
     "output_type": "execute_result",
     "data": {
      "text/plain": [
       "[['序号', '站点名称', '责任区', '所在河流', '断面属性', '建站类型', '建设时限', '所需经费\\n（万元）'],\n",
       " ['1', '广州石门', '白云', '珠江广州河段西航道', '备用饮用水源', '固定站', '已建成', '140'],\n",
       " ['2', '从化街口', '从化', '流溪河', '饮用水源', '固定站', '已建成', '140'],\n",
       " ['3', '增城新塘', '增城', '东江北干流', '饮用水源', '固定站', '已建成', '140'],\n",
       " ['4', '增城石滩', '增城', '东江北干流', '饮用水源', '固定站', '已建成', '140'],\n",
       " ['5', '番禺紫坭', '番禺', '沙湾水道', '饮用水源、跨区（番禺、南沙）', '固定站', '已建成', '140'],\n",
       " ['6', '番禺东涌', '番禺', '沙湾水道', '饮用水源', '固定站', '已建成', '140'],\n",
       " ['7', '番禺中游', '番禺', '沙湾水道', '饮用水源', '固定站', '已建成', '140'],\n",
       " ['8', '南沙榄核', '南沙', '沙湾水道', '饮用水源', '固定站', '已建成', '140'],\n",
       " ['9', '增城柯灯山', '增城', '增江', '饮用水源', '固定站', '已建成', '140'],\n",
       " ['10', '西江引水', '白云', '西江三水段', '石门西江引水水源监控', '固定站', '已建成', '0'],\n",
       " ['11', '增城刘屋洲', '增城', '东江北干流', '饮用水源', '饮用水源超\\n级站', '2022年底', '1140'],\n",
       " ['12', '墩头基', '番禺', '珠江广州段黄埔航道', '国考、跨区（黄埔、番禺）', '固定站', '已建成', '0'],\n",
       " ['13', '鸦岗', '白云', '珠江广州段西航道', '国考', '固定站', '已建成', '0'],\n",
       " ['14', '莲花山', '番禺', '狮子洋', '国考', '固定站', '已建成', '0'],\n",
       " ['15', '大龙涌口', '番禺', '市桥水道', '国考', '固定站', '已建成', '0'],\n",
       " ['16', '官坦', '南沙', '沙湾水道', '国考、跨区（番禺、南沙）', '固定站', '已建成', '0'],\n",
       " ['17', '蕉门', '南沙', '蕉门水道', '国考', '固定站', '已建成', '0']]"
      ]
     },
     "metadata": {},
     "execution_count": 3
    }
   ],
   "source": [
    "import pdfplumber\n",
    "\n",
    "ws_pdf = pdfplumber.open('../pdfs/gz-145-waterstations.pdf')\n",
    "f_page = ws_pdf.pages[0]\n",
    "table = f_page.extract_table()\n",
    "table"
   ]
  },
  {
   "cell_type": "code",
   "execution_count": 47,
   "metadata": {},
   "outputs": [
    {
     "output_type": "execute_result",
     "data": {
      "text/plain": [
       "     序号      站点名称 责任区   所在河流               断面属性 建站类型     建设时限 所需经费\\n（万元）\n",
       "1   107       南岗河  黄埔    墩头涌  墩头基基断面周边重要河流\\n（涌）  简易站   2021年底        170\n",
       "2   108      番禺市桥  番禺   市桥水道          其他重要河流（涌）  固定站      已建成          0\n",
       "3   109       大陵河  花都    大陵河          其他重要河流（涌）  简易站  已建成（水务）          0\n",
       "4   110       田美河  花都    田美河          其他重要河流（涌）  简易站  已建成（水务）          0\n",
       "5   111       雅瑶河  花都    雅瑶河          其他重要河流（涌）  简易站  已建成（水务）          0\n",
       "6   116      雅瑶支涌  花都   雅瑶支涌          其他重要河流（涌）  简易站  已建成（水务）          0\n",
       "7   117  新街河（花都段）  花都    新街河          其他重要河流（涌）  简易站  已建成（水务）          0\n",
       "8   118       沙坑涌  白云    沙坑涌          其他重要河流（涌）  简易站  已建成（水务）          0\n",
       "9   119       白海面  白云    白海面          其他重要河流（涌）  简易站  已建成（水务）          0\n",
       "10  120     江高截洪渠  白云  江高截洪渠          其他重要河流（涌）  简易站  已建成（水务）          0\n",
       "11  121       方石坑  白云    方石坑          其他重要河流（涌）  简易站   2023年底        170\n",
       "12  122      秀水排渠  白云   秀水排渠          其他重要河流（涌）  简易站   2023年底        170\n",
       "13  123        泥坑  白云     泥坑          其他重要河流（涌）  简易站   2023年底        170\n",
       "14  124  新街河（白云段）  白云    新街河          其他重要河流（涌）  简易站   2023年底        170\n",
       "15  125       景泰涌  越秀    景泰涌          其他重要河流（涌）  简易站  已建成（水务）          0\n",
       "16  126     景泰涌下游  越秀    景泰涌          其他重要河流（涌）  简易站  已建成（水务）          0\n",
       "17  127  沙河涌（越秀段）  越秀    沙河涌          其他重要河流（涌）  简易站  已建成（水务）          0\n",
       "18  130      大冲口涌  荔湾   大冲口涌          其他重要河流（涌）  简易站   2023年底        170\n",
       "19  131       秀水涌  荔湾    秀水涌          其他重要河流（涌）  简易站  已建成（水务）          0\n",
       "20  132       西郊涌  荔湾    西郊涌          其他重要河流（涌）  简易站  已建成（水务）          0\n",
       "21  133       河沙涌  荔湾    河沙涌          其他重要河流（涌）  简易站  已建成（水务）          0"
      ],
      "text/html": "<div>\n<style scoped>\n    .dataframe tbody tr th:only-of-type {\n        vertical-align: middle;\n    }\n\n    .dataframe tbody tr th {\n        vertical-align: top;\n    }\n\n    .dataframe thead th {\n        text-align: right;\n    }\n</style>\n<table border=\"1\" class=\"dataframe\">\n  <thead>\n    <tr style=\"text-align: right;\">\n      <th></th>\n      <th>序号</th>\n      <th>站点名称</th>\n      <th>责任区</th>\n      <th>所在河流</th>\n      <th>断面属性</th>\n      <th>建站类型</th>\n      <th>建设时限</th>\n      <th>所需经费\\n（万元）</th>\n    </tr>\n  </thead>\n  <tbody>\n    <tr>\n      <th>1</th>\n      <td>107</td>\n      <td>南岗河</td>\n      <td>黄埔</td>\n      <td>墩头涌</td>\n      <td>墩头基基断面周边重要河流\\n（涌）</td>\n      <td>简易站</td>\n      <td>2021年底</td>\n      <td>170</td>\n    </tr>\n    <tr>\n      <th>2</th>\n      <td>108</td>\n      <td>番禺市桥</td>\n      <td>番禺</td>\n      <td>市桥水道</td>\n      <td>其他重要河流（涌）</td>\n      <td>固定站</td>\n      <td>已建成</td>\n      <td>0</td>\n    </tr>\n    <tr>\n      <th>3</th>\n      <td>109</td>\n      <td>大陵河</td>\n      <td>花都</td>\n      <td>大陵河</td>\n      <td>其他重要河流（涌）</td>\n      <td>简易站</td>\n      <td>已建成（水务）</td>\n      <td>0</td>\n    </tr>\n    <tr>\n      <th>4</th>\n      <td>110</td>\n      <td>田美河</td>\n      <td>花都</td>\n      <td>田美河</td>\n      <td>其他重要河流（涌）</td>\n      <td>简易站</td>\n      <td>已建成（水务）</td>\n      <td>0</td>\n    </tr>\n    <tr>\n      <th>5</th>\n      <td>111</td>\n      <td>雅瑶河</td>\n      <td>花都</td>\n      <td>雅瑶河</td>\n      <td>其他重要河流（涌）</td>\n      <td>简易站</td>\n      <td>已建成（水务）</td>\n      <td>0</td>\n    </tr>\n    <tr>\n      <th>6</th>\n      <td>116</td>\n      <td>雅瑶支涌</td>\n      <td>花都</td>\n      <td>雅瑶支涌</td>\n      <td>其他重要河流（涌）</td>\n      <td>简易站</td>\n      <td>已建成（水务）</td>\n      <td>0</td>\n    </tr>\n    <tr>\n      <th>7</th>\n      <td>117</td>\n      <td>新街河（花都段）</td>\n      <td>花都</td>\n      <td>新街河</td>\n      <td>其他重要河流（涌）</td>\n      <td>简易站</td>\n      <td>已建成（水务）</td>\n      <td>0</td>\n    </tr>\n    <tr>\n      <th>8</th>\n      <td>118</td>\n      <td>沙坑涌</td>\n      <td>白云</td>\n      <td>沙坑涌</td>\n      <td>其他重要河流（涌）</td>\n      <td>简易站</td>\n      <td>已建成（水务）</td>\n      <td>0</td>\n    </tr>\n    <tr>\n      <th>9</th>\n      <td>119</td>\n      <td>白海面</td>\n      <td>白云</td>\n      <td>白海面</td>\n      <td>其他重要河流（涌）</td>\n      <td>简易站</td>\n      <td>已建成（水务）</td>\n      <td>0</td>\n    </tr>\n    <tr>\n      <th>10</th>\n      <td>120</td>\n      <td>江高截洪渠</td>\n      <td>白云</td>\n      <td>江高截洪渠</td>\n      <td>其他重要河流（涌）</td>\n      <td>简易站</td>\n      <td>已建成（水务）</td>\n      <td>0</td>\n    </tr>\n    <tr>\n      <th>11</th>\n      <td>121</td>\n      <td>方石坑</td>\n      <td>白云</td>\n      <td>方石坑</td>\n      <td>其他重要河流（涌）</td>\n      <td>简易站</td>\n      <td>2023年底</td>\n      <td>170</td>\n    </tr>\n    <tr>\n      <th>12</th>\n      <td>122</td>\n      <td>秀水排渠</td>\n      <td>白云</td>\n      <td>秀水排渠</td>\n      <td>其他重要河流（涌）</td>\n      <td>简易站</td>\n      <td>2023年底</td>\n      <td>170</td>\n    </tr>\n    <tr>\n      <th>13</th>\n      <td>123</td>\n      <td>泥坑</td>\n      <td>白云</td>\n      <td>泥坑</td>\n      <td>其他重要河流（涌）</td>\n      <td>简易站</td>\n      <td>2023年底</td>\n      <td>170</td>\n    </tr>\n    <tr>\n      <th>14</th>\n      <td>124</td>\n      <td>新街河（白云段）</td>\n      <td>白云</td>\n      <td>新街河</td>\n      <td>其他重要河流（涌）</td>\n      <td>简易站</td>\n      <td>2023年底</td>\n      <td>170</td>\n    </tr>\n    <tr>\n      <th>15</th>\n      <td>125</td>\n      <td>景泰涌</td>\n      <td>越秀</td>\n      <td>景泰涌</td>\n      <td>其他重要河流（涌）</td>\n      <td>简易站</td>\n      <td>已建成（水务）</td>\n      <td>0</td>\n    </tr>\n    <tr>\n      <th>16</th>\n      <td>126</td>\n      <td>景泰涌下游</td>\n      <td>越秀</td>\n      <td>景泰涌</td>\n      <td>其他重要河流（涌）</td>\n      <td>简易站</td>\n      <td>已建成（水务）</td>\n      <td>0</td>\n    </tr>\n    <tr>\n      <th>17</th>\n      <td>127</td>\n      <td>沙河涌（越秀段）</td>\n      <td>越秀</td>\n      <td>沙河涌</td>\n      <td>其他重要河流（涌）</td>\n      <td>简易站</td>\n      <td>已建成（水务）</td>\n      <td>0</td>\n    </tr>\n    <tr>\n      <th>18</th>\n      <td>130</td>\n      <td>大冲口涌</td>\n      <td>荔湾</td>\n      <td>大冲口涌</td>\n      <td>其他重要河流（涌）</td>\n      <td>简易站</td>\n      <td>2023年底</td>\n      <td>170</td>\n    </tr>\n    <tr>\n      <th>19</th>\n      <td>131</td>\n      <td>秀水涌</td>\n      <td>荔湾</td>\n      <td>秀水涌</td>\n      <td>其他重要河流（涌）</td>\n      <td>简易站</td>\n      <td>已建成（水务）</td>\n      <td>0</td>\n    </tr>\n    <tr>\n      <th>20</th>\n      <td>132</td>\n      <td>西郊涌</td>\n      <td>荔湾</td>\n      <td>西郊涌</td>\n      <td>其他重要河流（涌）</td>\n      <td>简易站</td>\n      <td>已建成（水务）</td>\n      <td>0</td>\n    </tr>\n    <tr>\n      <th>21</th>\n      <td>133</td>\n      <td>河沙涌</td>\n      <td>荔湾</td>\n      <td>河沙涌</td>\n      <td>其他重要河流（涌）</td>\n      <td>简易站</td>\n      <td>已建成（水务）</td>\n      <td>0</td>\n    </tr>\n  </tbody>\n</table>\n</div>"
     },
     "metadata": {},
     "execution_count": 47
    }
   ],
   "source": [
    "import pdfplumber\n",
    "import pandas as pd\n",
    "\n",
    "ws_pdf = pdfplumber.open('../pdfs/gz-145-waterstations.pdf')\n",
    "f_page = ws_pdf.pages[6]\n",
    "table = f_page.extract_table()\n",
    "\n",
    "df = pd.DataFrame(table[1:],columns=table[0])\n",
    "df = df.drop(df[df.iloc[:,0] == ''].index)\n",
    "df"
   ]
  },
  {
   "source": [
    "1. 普通循环"
   ],
   "cell_type": "markdown",
   "metadata": {}
  },
  {
   "cell_type": "code",
   "execution_count": 81,
   "metadata": {},
   "outputs": [],
   "source": [
    "import pandas as pd\n",
    "import pdfplumber\n",
    "\n",
    "ws_pdf = pdfplumber.open('../pdfs/gz-145-waterstations.pdf')\n",
    "column_name = ws_pdf.pages[0].extract_table()[0]\n",
    "df = pd.DataFrame(columns=column_name)\n",
    "\n",
    "for page in ws_pdf.pages:\n",
    "    data = page.extract_table()[1:]\n",
    "    data_df = pd.DataFrame(data,columns=column_name)\n",
    "    data_df = data_df.drop(data_df[data_df.iloc[:,0]==''].index)\n",
    "    df = pd.concat([df,data_df],ignore_index=True)"
   ]
  },
  {
   "source": [
    "2. 生成器的做法"
   ],
   "cell_type": "markdown",
   "metadata": {}
  },
  {
   "cell_type": "code",
   "execution_count": 142,
   "metadata": {},
   "outputs": [],
   "source": [
    "import pandas as pd\n",
    "import pdfplumber\n",
    "\n",
    "def page2df(pdf_name):\n",
    "    ws_pdf = pdfplumber.open(pdf_name)\n",
    "    for page in ws_pdf.pages:\n",
    "        column_name = page.extract_table()[0]\n",
    "        data = page.extract_table()[1:]\n",
    "        data_df = pd.DataFrame(data,columns=column_name)\n",
    "        #data_df = data_df.drop(data_df[data_df.iloc[:,0]==''].index)\n",
    "        yield data_df\n"
   ]
  },
  {
   "cell_type": "code",
   "execution_count": 145,
   "metadata": {},
   "outputs": [
    {
     "output_type": "execute_result",
     "data": {
      "text/plain": [
       "      序号      站点名称 责任区       所在河流            断面属性 建站类型     建设时限 所需经费\\n（万元）\n",
       "0      1      广州石门  白云  珠江广州河段西航道          备用饮用水源  固定站      已建成        140\n",
       "1      2      从化街口  从化        流溪河            饮用水源  固定站      已建成        140\n",
       "2      3      增城新塘  增城      东江北干流            饮用水源  固定站      已建成        140\n",
       "3      4      增城石滩  增城      东江北干流            饮用水源  固定站      已建成        140\n",
       "4      5      番禺紫坭  番禺       沙湾水道  饮用水源、跨区（番禺、南沙）  固定站      已建成        140\n",
       "..   ...       ...  ..        ...             ...  ...      ...        ...\n",
       "149  157       双岗涌  黄埔        双岗涌       其他重要河流（涌）  简易站  已建成（水务）          0\n",
       "150  158   莲花山水道沙东  番禺      莲花山水道       其他重要河流（涌）  固定站   2023年底        300\n",
       "151  159  陈村水道钟村水厂  番禺       陈村水道       其他重要河流（涌）  固定站   2023年底        300\n",
       "152  160       北亭涌  番禺        北亭涌       其他重要河流（涌）  简易站  已建成（水务）          0\n",
       "153  161     三枝水水道  番禺      三枝水水道       其他重要河流（涌）  固定站   2023年底        300\n",
       "\n",
       "[153 rows x 8 columns]"
      ],
      "text/html": "<div>\n<style scoped>\n    .dataframe tbody tr th:only-of-type {\n        vertical-align: middle;\n    }\n\n    .dataframe tbody tr th {\n        vertical-align: top;\n    }\n\n    .dataframe thead th {\n        text-align: right;\n    }\n</style>\n<table border=\"1\" class=\"dataframe\">\n  <thead>\n    <tr style=\"text-align: right;\">\n      <th></th>\n      <th>序号</th>\n      <th>站点名称</th>\n      <th>责任区</th>\n      <th>所在河流</th>\n      <th>断面属性</th>\n      <th>建站类型</th>\n      <th>建设时限</th>\n      <th>所需经费\\n（万元）</th>\n    </tr>\n  </thead>\n  <tbody>\n    <tr>\n      <th>0</th>\n      <td>1</td>\n      <td>广州石门</td>\n      <td>白云</td>\n      <td>珠江广州河段西航道</td>\n      <td>备用饮用水源</td>\n      <td>固定站</td>\n      <td>已建成</td>\n      <td>140</td>\n    </tr>\n    <tr>\n      <th>1</th>\n      <td>2</td>\n      <td>从化街口</td>\n      <td>从化</td>\n      <td>流溪河</td>\n      <td>饮用水源</td>\n      <td>固定站</td>\n      <td>已建成</td>\n      <td>140</td>\n    </tr>\n    <tr>\n      <th>2</th>\n      <td>3</td>\n      <td>增城新塘</td>\n      <td>增城</td>\n      <td>东江北干流</td>\n      <td>饮用水源</td>\n      <td>固定站</td>\n      <td>已建成</td>\n      <td>140</td>\n    </tr>\n    <tr>\n      <th>3</th>\n      <td>4</td>\n      <td>增城石滩</td>\n      <td>增城</td>\n      <td>东江北干流</td>\n      <td>饮用水源</td>\n      <td>固定站</td>\n      <td>已建成</td>\n      <td>140</td>\n    </tr>\n    <tr>\n      <th>4</th>\n      <td>5</td>\n      <td>番禺紫坭</td>\n      <td>番禺</td>\n      <td>沙湾水道</td>\n      <td>饮用水源、跨区（番禺、南沙）</td>\n      <td>固定站</td>\n      <td>已建成</td>\n      <td>140</td>\n    </tr>\n    <tr>\n      <th>...</th>\n      <td>...</td>\n      <td>...</td>\n      <td>...</td>\n      <td>...</td>\n      <td>...</td>\n      <td>...</td>\n      <td>...</td>\n      <td>...</td>\n    </tr>\n    <tr>\n      <th>149</th>\n      <td>157</td>\n      <td>双岗涌</td>\n      <td>黄埔</td>\n      <td>双岗涌</td>\n      <td>其他重要河流（涌）</td>\n      <td>简易站</td>\n      <td>已建成（水务）</td>\n      <td>0</td>\n    </tr>\n    <tr>\n      <th>150</th>\n      <td>158</td>\n      <td>莲花山水道沙东</td>\n      <td>番禺</td>\n      <td>莲花山水道</td>\n      <td>其他重要河流（涌）</td>\n      <td>固定站</td>\n      <td>2023年底</td>\n      <td>300</td>\n    </tr>\n    <tr>\n      <th>151</th>\n      <td>159</td>\n      <td>陈村水道钟村水厂</td>\n      <td>番禺</td>\n      <td>陈村水道</td>\n      <td>其他重要河流（涌）</td>\n      <td>固定站</td>\n      <td>2023年底</td>\n      <td>300</td>\n    </tr>\n    <tr>\n      <th>152</th>\n      <td>160</td>\n      <td>北亭涌</td>\n      <td>番禺</td>\n      <td>北亭涌</td>\n      <td>其他重要河流（涌）</td>\n      <td>简易站</td>\n      <td>已建成（水务）</td>\n      <td>0</td>\n    </tr>\n    <tr>\n      <th>153</th>\n      <td>161</td>\n      <td>三枝水水道</td>\n      <td>番禺</td>\n      <td>三枝水水道</td>\n      <td>其他重要河流（涌）</td>\n      <td>固定站</td>\n      <td>2023年底</td>\n      <td>300</td>\n    </tr>\n  </tbody>\n</table>\n<p>153 rows × 8 columns</p>\n</div>"
     },
     "metadata": {},
     "execution_count": 145
    }
   ],
   "source": [
    "df = pd.concat(page2df('../pdfs/gz-145-waterstations.pdf'),ignore_index=True)\n",
    "df = df.drop(df[df.iloc[:,0]==''].index)\n",
    "df"
   ]
  },
  {
   "source": [
    "生成器表达式的写法;  \n",
    "左边的变量名表达的是整体,个体的处理逻辑在生成器内."
   ],
   "cell_type": "markdown",
   "metadata": {}
  },
  {
   "cell_type": "code",
   "execution_count": 1,
   "metadata": {},
   "outputs": [
    {
     "output_type": "execute_result",
     "data": {
      "text/plain": [
       "      序号      站点名称 责任区       所在河流            断面属性 建站类型     建设时限 所需经费\\n（万元）\n",
       "0      1      广州石门  白云  珠江广州河段西航道          备用饮用水源  固定站      已建成        140\n",
       "1      2      从化街口  从化        流溪河            饮用水源  固定站      已建成        140\n",
       "2      3      增城新塘  增城      东江北干流            饮用水源  固定站      已建成        140\n",
       "3      4      增城石滩  增城      东江北干流            饮用水源  固定站      已建成        140\n",
       "4      5      番禺紫坭  番禺       沙湾水道  饮用水源、跨区（番禺、南沙）  固定站      已建成        140\n",
       "..   ...       ...  ..        ...             ...  ...      ...        ...\n",
       "149  157       双岗涌  黄埔        双岗涌       其他重要河流（涌）  简易站  已建成（水务）          0\n",
       "150  158   莲花山水道沙东  番禺      莲花山水道       其他重要河流（涌）  固定站   2023年底        300\n",
       "151  159  陈村水道钟村水厂  番禺       陈村水道       其他重要河流（涌）  固定站   2023年底        300\n",
       "152  160       北亭涌  番禺        北亭涌       其他重要河流（涌）  简易站  已建成（水务）          0\n",
       "153  161     三枝水水道  番禺      三枝水水道       其他重要河流（涌）  固定站   2023年底        300\n",
       "\n",
       "[153 rows x 8 columns]"
      ],
      "text/html": "<div>\n<style scoped>\n    .dataframe tbody tr th:only-of-type {\n        vertical-align: middle;\n    }\n\n    .dataframe tbody tr th {\n        vertical-align: top;\n    }\n\n    .dataframe thead th {\n        text-align: right;\n    }\n</style>\n<table border=\"1\" class=\"dataframe\">\n  <thead>\n    <tr style=\"text-align: right;\">\n      <th></th>\n      <th>序号</th>\n      <th>站点名称</th>\n      <th>责任区</th>\n      <th>所在河流</th>\n      <th>断面属性</th>\n      <th>建站类型</th>\n      <th>建设时限</th>\n      <th>所需经费\\n（万元）</th>\n    </tr>\n  </thead>\n  <tbody>\n    <tr>\n      <th>0</th>\n      <td>1</td>\n      <td>广州石门</td>\n      <td>白云</td>\n      <td>珠江广州河段西航道</td>\n      <td>备用饮用水源</td>\n      <td>固定站</td>\n      <td>已建成</td>\n      <td>140</td>\n    </tr>\n    <tr>\n      <th>1</th>\n      <td>2</td>\n      <td>从化街口</td>\n      <td>从化</td>\n      <td>流溪河</td>\n      <td>饮用水源</td>\n      <td>固定站</td>\n      <td>已建成</td>\n      <td>140</td>\n    </tr>\n    <tr>\n      <th>2</th>\n      <td>3</td>\n      <td>增城新塘</td>\n      <td>增城</td>\n      <td>东江北干流</td>\n      <td>饮用水源</td>\n      <td>固定站</td>\n      <td>已建成</td>\n      <td>140</td>\n    </tr>\n    <tr>\n      <th>3</th>\n      <td>4</td>\n      <td>增城石滩</td>\n      <td>增城</td>\n      <td>东江北干流</td>\n      <td>饮用水源</td>\n      <td>固定站</td>\n      <td>已建成</td>\n      <td>140</td>\n    </tr>\n    <tr>\n      <th>4</th>\n      <td>5</td>\n      <td>番禺紫坭</td>\n      <td>番禺</td>\n      <td>沙湾水道</td>\n      <td>饮用水源、跨区（番禺、南沙）</td>\n      <td>固定站</td>\n      <td>已建成</td>\n      <td>140</td>\n    </tr>\n    <tr>\n      <th>...</th>\n      <td>...</td>\n      <td>...</td>\n      <td>...</td>\n      <td>...</td>\n      <td>...</td>\n      <td>...</td>\n      <td>...</td>\n      <td>...</td>\n    </tr>\n    <tr>\n      <th>149</th>\n      <td>157</td>\n      <td>双岗涌</td>\n      <td>黄埔</td>\n      <td>双岗涌</td>\n      <td>其他重要河流（涌）</td>\n      <td>简易站</td>\n      <td>已建成（水务）</td>\n      <td>0</td>\n    </tr>\n    <tr>\n      <th>150</th>\n      <td>158</td>\n      <td>莲花山水道沙东</td>\n      <td>番禺</td>\n      <td>莲花山水道</td>\n      <td>其他重要河流（涌）</td>\n      <td>固定站</td>\n      <td>2023年底</td>\n      <td>300</td>\n    </tr>\n    <tr>\n      <th>151</th>\n      <td>159</td>\n      <td>陈村水道钟村水厂</td>\n      <td>番禺</td>\n      <td>陈村水道</td>\n      <td>其他重要河流（涌）</td>\n      <td>固定站</td>\n      <td>2023年底</td>\n      <td>300</td>\n    </tr>\n    <tr>\n      <th>152</th>\n      <td>160</td>\n      <td>北亭涌</td>\n      <td>番禺</td>\n      <td>北亭涌</td>\n      <td>其他重要河流（涌）</td>\n      <td>简易站</td>\n      <td>已建成（水务）</td>\n      <td>0</td>\n    </tr>\n    <tr>\n      <th>153</th>\n      <td>161</td>\n      <td>三枝水水道</td>\n      <td>番禺</td>\n      <td>三枝水水道</td>\n      <td>其他重要河流（涌）</td>\n      <td>固定站</td>\n      <td>2023年底</td>\n      <td>300</td>\n    </tr>\n  </tbody>\n</table>\n<p>153 rows × 8 columns</p>\n</div>"
     },
     "metadata": {},
     "execution_count": 1
    }
   ],
   "source": [
    "import pandas as pd\n",
    "import pdfplumber\n",
    "\n",
    "dfs = (pd.DataFrame(page.extract_table()[1:],columns=page.extract_table()[0]) for page in pdfplumber.open('../pdfs/gz-145-waterstations.pdf').pages)\n",
    "\n",
    "df = pd.concat(dfs,ignore_index=True)\n",
    "df = df.drop(df[df.iloc[:,0]==''].index)\n",
    "df"
   ]
  },
  {
   "source": [
    "改动列名,修改金额列的数据类型并保存至excel"
   ],
   "cell_type": "markdown",
   "metadata": {}
  },
  {
   "cell_type": "code",
   "execution_count": 2,
   "metadata": {},
   "outputs": [],
   "source": [
    "df.rename(columns={'所需经费\\n（万元）':'budget'},inplace=True)\n",
    "df.rename(columns={'责任区':'district'},inplace=True)\n",
    "df.rename(columns={'建设时限':'deadline'},inplace=True)\n",
    "df['budget'] = df['budget'].apply(int)"
   ]
  },
  {
   "cell_type": "code",
   "execution_count": null,
   "metadata": {},
   "outputs": [],
   "source": [
    "df.to_excel('../pdfs/gz-145-wsV1.xlsx',index=False)"
   ]
  },
  {
   "cell_type": "code",
   "execution_count": 3,
   "metadata": {},
   "outputs": [
    {
     "output_type": "execute_result",
     "data": {
      "text/plain": [
       "<pandasgui.gui.PandasGui at 0x10edecdc0>"
      ]
     },
     "metadata": {},
     "execution_count": 3
    }
   ],
   "source": [
    "from pandasgui import show\n",
    "\n",
    "show(df)"
   ]
  },
  {
   "cell_type": "code",
   "execution_count": 7,
   "metadata": {},
   "outputs": [
    {
     "output_type": "execute_result",
     "data": {
      "text/plain": [
       "district\n",
       "从化     3\n",
       "南沙     7\n",
       "增城     7\n",
       "天河     3\n",
       "海珠     2\n",
       "番禺    11\n",
       "白云    15\n",
       "花都     1\n",
       "荔湾    13\n",
       "黄埔     2\n",
       "dtype: int64"
      ]
     },
     "metadata": {},
     "execution_count": 7
    }
   ],
   "source": [
    "df.query('`deadline`.str.contains(\"2021|2022|2023\")').groupby(by='district').size()"
   ]
  },
  {
   "cell_type": "code",
   "execution_count": 18,
   "metadata": {},
   "outputs": [
    {
     "output_type": "execute_result",
     "data": {
      "text/plain": [
       "     序号      站点名称 district       所在河流               断面属性       建站类型 deadline  \\\n",
       "0    11     增城刘屋洲       增城      东江北干流               饮用水源  饮用水源超\\n级站   2022年底   \n",
       "1    23      虎门大桥       南沙        狮子洋            十四五新增国考  入海河口超\\n级站   2021年底   \n",
       "2    29    平洲水道平洲       荔湾       平洲水道          跨市（佛山、荔湾）        固定站   2022年底   \n",
       "3    30     水口水黄岐       荔湾        水口水          跨市（佛山、荔湾）        固定站   2022年底   \n",
       "4    34   西航道大坦沙左       荔湾  珠江广州河段西航道          跨区（白云、荔湾）        固定站   2022年底   \n",
       "5    35   西航道大坦沙右       荔湾  珠江广州河段西航道          跨区（白云、荔湾）        固定站   2022年底   \n",
       "6    37     西航道黄沙       荔湾  珠江广州河段西航道       跨区（荔湾-越秀、海珠）        固定站   2022年底   \n",
       "7    39    后航道长洲右       番禺  珠江广州河段后航道          跨区（番禺-黄埔）        固定站   2022年底   \n",
       "8    41        清流       番禺      莲花山水道          跨区（番禺、南沙）        固定站   2022年底   \n",
       "9    42  凫洲水道(南横）       南沙       凫洲水道      蕉门断面周边重要河流（涌）        固定站   2021年底   \n",
       "10   48    蕉门水道中游       南沙       蕉门水道      蕉门断面周边重要河流（涌）        固定站   2021年底   \n",
       "11   49       官坦涌       南沙        官坦涌      官坦断面周边重要河流（涌）        简易站   2021年底   \n",
       "12   50       茂丰涌       南沙        茂丰涌      官坦断面周边重要河流（涌）        简易站   2021年底   \n",
       "13   64   小虎沥（小虎）       南沙       虎门水道  虎门大桥断面周边重要河流\\n（涌）        固定站   2021年底   \n",
       "14   65       蕉门河       南沙       虎门水道  虎门大桥断面周边重要河流\\n（涌）        简易站   2021年底   \n",
       "15   66       跃进河       白云        跃进河      鸦岗断面周边重要河流（涌）        简易站   2021年底   \n",
       "16   67       大田涌       白云        大田涌      鸦岗断面周边重要河流（涌）        简易站   2021年底   \n",
       "17   68       鸦岗涌       白云        鸦岗涌      鸦岗断面周边重要河流（涌）        简易站   2021年底   \n",
       "18   69       牛路涌       白云        牛路涌      鸦岗断面周边重要河流（涌）        简易站   2021年底   \n",
       "19   70      鹅春岗涌       白云       鹅春岗涌      鸦岗断面周边重要河流（涌）        简易站   2021年底   \n",
       "20   71       马洞坑       白云        马洞坑     李溪坝断面周边重要河流（涌）        简易站   2021年底   \n",
       "21   72  凤尾坑（凤凰河）       白云   凤尾坑（凤凰河）     李溪坝断面周边重要河流（涌）        简易站   2021年底   \n",
       "22   73     石井河上游       白云        石井河  石井河口断面周边重要河流\\n（涌）        简易站   2021年底   \n",
       "23   74     石井河中游       白云        石井河  石井河口断面周边重要河流\\n（涌）        简易站   2021年底   \n",
       "24   75       兔岗坑       白云        兔岗坑      人和断面周边重要河流（涌）        简易站   2021年底   \n",
       "25   76       良田坑       白云        良田坑      人和断面周边重要河流（涌）        简易站   2021年底   \n",
       "26   79       雁洲涌       番禺        雁洲涌  大龙涌口断面周边重要河流\\n（涌）        简易站   2021年底   \n",
       "27   80       但岗涌       番禺        但岗涌  大龙涌口断面周边重要河流\\n（涌）        简易站   2021年底   \n",
       "28   81       旧滘涌       番禺        旧滘涌  大龙涌口断面周边重要河流\\n（涌）        简易站   2021年底   \n",
       "29   82      雁洲水闸       番禺       市桥水道  大龙涌口断面周边重要河流\\n（涌）        简易站   2021年底   \n",
       "30   83       小龙涌       番禺        小龙涌  大龙涌口断面周边重要河流\\n（涌）        简易站   2022年底   \n",
       "31   84       前锋河       番禺        前锋河  大龙涌口断面周边重要河流\\n（涌）        简易站   2022年底   \n",
       "32   85     西福河中游       增城        西福河      大墩断面周边重要河流（涌）        固定站   2021年底   \n",
       "33   86      西福河口       增城        西福河      大墩断面周边重要河流（涌）        固定站   2021年底   \n",
       "34   89     联和洪排渠       增城      东江北干流      大墩断面周边重要河流（涌）        简易站   2021年底   \n",
       "35   95       鹤洞涌       荔湾        鹤洞涌      东朗断面周边重要河流（涌）        简易站   2021年底   \n",
       "36   96       下市涌       荔湾        后航道      东朗断面周边重要河流（涌）        简易站   2021年底   \n",
       "37   97       塞坝涌       荔湾        后航道      东朗断面周边重要河流（涌）        简易站   2021年底   \n",
       "38  103       派潭河       增城         增江     增江口断面周边重要河流（涌）        简易站   2021年底   \n",
       "39  104       县江河       增城         增江     增江口断面周边重要河流（涌）        简易站   2021年底   \n",
       "40  105       二龙河       增城         增江     增江口断面周边重要河流（涌）        简易站   2021年底   \n",
       "41  121       方石坑       白云        方石坑          其他重要河流（涌）        简易站   2023年底   \n",
       "42  122      秀水排渠       白云       秀水排渠          其他重要河流（涌）        简易站   2023年底   \n",
       "43  123        泥坑       白云         泥坑          其他重要河流（涌）        简易站   2023年底   \n",
       "44  124  新街河（白云段）       白云        新街河          其他重要河流（涌）        简易站   2023年底   \n",
       "45  130      大冲口涌       荔湾       大冲口涌          其他重要河流（涌）        简易站   2023年底   \n",
       "46  138   花地河（北段）       荔湾        花地河          其他重要河流（涌）        简易站   2023年底   \n",
       "47  139   花地河（南段）       荔湾        花地河          其他重要河流（涌）        简易站   2023年底   \n",
       "48  141       东塱涌       荔湾        东塱涌          其他重要河流（涌）        简易站   2023年底   \n",
       "49  143        沙涌       荔湾         沙涌          其他重要河流（涌）        简易站   2023年底   \n",
       "50  158   莲花山水道沙东       番禺      莲花山水道          其他重要河流（涌）        固定站   2023年底   \n",
       "51  159  陈村水道钟村水厂       番禺       陈村水道          其他重要河流（涌）        固定站   2023年底   \n",
       "52  161     三枝水水道       番禺      三枝水水道          其他重要河流（涌）        固定站   2023年底   \n",
       "\n",
       "    budget  \n",
       "0     1140  \n",
       "1     1140  \n",
       "2      300  \n",
       "3      300  \n",
       "4      300  \n",
       "5      300  \n",
       "6      300  \n",
       "7      300  \n",
       "8      300  \n",
       "9      300  \n",
       "10     300  \n",
       "11     170  \n",
       "12     170  \n",
       "13     300  \n",
       "14     170  \n",
       "15     170  \n",
       "16     170  \n",
       "17     170  \n",
       "18     170  \n",
       "19     170  \n",
       "20     170  \n",
       "21     170  \n",
       "22     170  \n",
       "23     170  \n",
       "24     170  \n",
       "25     170  \n",
       "26     170  \n",
       "27     170  \n",
       "28     170  \n",
       "29     170  \n",
       "30     170  \n",
       "31     170  \n",
       "32     300  \n",
       "33     300  \n",
       "34     170  \n",
       "35     170  \n",
       "36     170  \n",
       "37     170  \n",
       "38     170  \n",
       "39     170  \n",
       "40     170  \n",
       "41     170  \n",
       "42     170  \n",
       "43     170  \n",
       "44     170  \n",
       "45     170  \n",
       "46     170  \n",
       "47     170  \n",
       "48     170  \n",
       "49     170  \n",
       "50     300  \n",
       "51     300  \n",
       "52     300  "
      ],
      "text/html": "<div>\n<style scoped>\n    .dataframe tbody tr th:only-of-type {\n        vertical-align: middle;\n    }\n\n    .dataframe tbody tr th {\n        vertical-align: top;\n    }\n\n    .dataframe thead th {\n        text-align: right;\n    }\n</style>\n<table border=\"1\" class=\"dataframe\">\n  <thead>\n    <tr style=\"text-align: right;\">\n      <th></th>\n      <th>序号</th>\n      <th>站点名称</th>\n      <th>district</th>\n      <th>所在河流</th>\n      <th>断面属性</th>\n      <th>建站类型</th>\n      <th>deadline</th>\n      <th>budget</th>\n    </tr>\n  </thead>\n  <tbody>\n    <tr>\n      <th>0</th>\n      <td>11</td>\n      <td>增城刘屋洲</td>\n      <td>增城</td>\n      <td>东江北干流</td>\n      <td>饮用水源</td>\n      <td>饮用水源超\\n级站</td>\n      <td>2022年底</td>\n      <td>1140</td>\n    </tr>\n    <tr>\n      <th>1</th>\n      <td>23</td>\n      <td>虎门大桥</td>\n      <td>南沙</td>\n      <td>狮子洋</td>\n      <td>十四五新增国考</td>\n      <td>入海河口超\\n级站</td>\n      <td>2021年底</td>\n      <td>1140</td>\n    </tr>\n    <tr>\n      <th>2</th>\n      <td>29</td>\n      <td>平洲水道平洲</td>\n      <td>荔湾</td>\n      <td>平洲水道</td>\n      <td>跨市（佛山、荔湾）</td>\n      <td>固定站</td>\n      <td>2022年底</td>\n      <td>300</td>\n    </tr>\n    <tr>\n      <th>3</th>\n      <td>30</td>\n      <td>水口水黄岐</td>\n      <td>荔湾</td>\n      <td>水口水</td>\n      <td>跨市（佛山、荔湾）</td>\n      <td>固定站</td>\n      <td>2022年底</td>\n      <td>300</td>\n    </tr>\n    <tr>\n      <th>4</th>\n      <td>34</td>\n      <td>西航道大坦沙左</td>\n      <td>荔湾</td>\n      <td>珠江广州河段西航道</td>\n      <td>跨区（白云、荔湾）</td>\n      <td>固定站</td>\n      <td>2022年底</td>\n      <td>300</td>\n    </tr>\n    <tr>\n      <th>5</th>\n      <td>35</td>\n      <td>西航道大坦沙右</td>\n      <td>荔湾</td>\n      <td>珠江广州河段西航道</td>\n      <td>跨区（白云、荔湾）</td>\n      <td>固定站</td>\n      <td>2022年底</td>\n      <td>300</td>\n    </tr>\n    <tr>\n      <th>6</th>\n      <td>37</td>\n      <td>西航道黄沙</td>\n      <td>荔湾</td>\n      <td>珠江广州河段西航道</td>\n      <td>跨区（荔湾-越秀、海珠）</td>\n      <td>固定站</td>\n      <td>2022年底</td>\n      <td>300</td>\n    </tr>\n    <tr>\n      <th>7</th>\n      <td>39</td>\n      <td>后航道长洲右</td>\n      <td>番禺</td>\n      <td>珠江广州河段后航道</td>\n      <td>跨区（番禺-黄埔）</td>\n      <td>固定站</td>\n      <td>2022年底</td>\n      <td>300</td>\n    </tr>\n    <tr>\n      <th>8</th>\n      <td>41</td>\n      <td>清流</td>\n      <td>番禺</td>\n      <td>莲花山水道</td>\n      <td>跨区（番禺、南沙）</td>\n      <td>固定站</td>\n      <td>2022年底</td>\n      <td>300</td>\n    </tr>\n    <tr>\n      <th>9</th>\n      <td>42</td>\n      <td>凫洲水道(南横）</td>\n      <td>南沙</td>\n      <td>凫洲水道</td>\n      <td>蕉门断面周边重要河流（涌）</td>\n      <td>固定站</td>\n      <td>2021年底</td>\n      <td>300</td>\n    </tr>\n    <tr>\n      <th>10</th>\n      <td>48</td>\n      <td>蕉门水道中游</td>\n      <td>南沙</td>\n      <td>蕉门水道</td>\n      <td>蕉门断面周边重要河流（涌）</td>\n      <td>固定站</td>\n      <td>2021年底</td>\n      <td>300</td>\n    </tr>\n    <tr>\n      <th>11</th>\n      <td>49</td>\n      <td>官坦涌</td>\n      <td>南沙</td>\n      <td>官坦涌</td>\n      <td>官坦断面周边重要河流（涌）</td>\n      <td>简易站</td>\n      <td>2021年底</td>\n      <td>170</td>\n    </tr>\n    <tr>\n      <th>12</th>\n      <td>50</td>\n      <td>茂丰涌</td>\n      <td>南沙</td>\n      <td>茂丰涌</td>\n      <td>官坦断面周边重要河流（涌）</td>\n      <td>简易站</td>\n      <td>2021年底</td>\n      <td>170</td>\n    </tr>\n    <tr>\n      <th>13</th>\n      <td>64</td>\n      <td>小虎沥（小虎）</td>\n      <td>南沙</td>\n      <td>虎门水道</td>\n      <td>虎门大桥断面周边重要河流\\n（涌）</td>\n      <td>固定站</td>\n      <td>2021年底</td>\n      <td>300</td>\n    </tr>\n    <tr>\n      <th>14</th>\n      <td>65</td>\n      <td>蕉门河</td>\n      <td>南沙</td>\n      <td>虎门水道</td>\n      <td>虎门大桥断面周边重要河流\\n（涌）</td>\n      <td>简易站</td>\n      <td>2021年底</td>\n      <td>170</td>\n    </tr>\n    <tr>\n      <th>15</th>\n      <td>66</td>\n      <td>跃进河</td>\n      <td>白云</td>\n      <td>跃进河</td>\n      <td>鸦岗断面周边重要河流（涌）</td>\n      <td>简易站</td>\n      <td>2021年底</td>\n      <td>170</td>\n    </tr>\n    <tr>\n      <th>16</th>\n      <td>67</td>\n      <td>大田涌</td>\n      <td>白云</td>\n      <td>大田涌</td>\n      <td>鸦岗断面周边重要河流（涌）</td>\n      <td>简易站</td>\n      <td>2021年底</td>\n      <td>170</td>\n    </tr>\n    <tr>\n      <th>17</th>\n      <td>68</td>\n      <td>鸦岗涌</td>\n      <td>白云</td>\n      <td>鸦岗涌</td>\n      <td>鸦岗断面周边重要河流（涌）</td>\n      <td>简易站</td>\n      <td>2021年底</td>\n      <td>170</td>\n    </tr>\n    <tr>\n      <th>18</th>\n      <td>69</td>\n      <td>牛路涌</td>\n      <td>白云</td>\n      <td>牛路涌</td>\n      <td>鸦岗断面周边重要河流（涌）</td>\n      <td>简易站</td>\n      <td>2021年底</td>\n      <td>170</td>\n    </tr>\n    <tr>\n      <th>19</th>\n      <td>70</td>\n      <td>鹅春岗涌</td>\n      <td>白云</td>\n      <td>鹅春岗涌</td>\n      <td>鸦岗断面周边重要河流（涌）</td>\n      <td>简易站</td>\n      <td>2021年底</td>\n      <td>170</td>\n    </tr>\n    <tr>\n      <th>20</th>\n      <td>71</td>\n      <td>马洞坑</td>\n      <td>白云</td>\n      <td>马洞坑</td>\n      <td>李溪坝断面周边重要河流（涌）</td>\n      <td>简易站</td>\n      <td>2021年底</td>\n      <td>170</td>\n    </tr>\n    <tr>\n      <th>21</th>\n      <td>72</td>\n      <td>凤尾坑（凤凰河）</td>\n      <td>白云</td>\n      <td>凤尾坑（凤凰河）</td>\n      <td>李溪坝断面周边重要河流（涌）</td>\n      <td>简易站</td>\n      <td>2021年底</td>\n      <td>170</td>\n    </tr>\n    <tr>\n      <th>22</th>\n      <td>73</td>\n      <td>石井河上游</td>\n      <td>白云</td>\n      <td>石井河</td>\n      <td>石井河口断面周边重要河流\\n（涌）</td>\n      <td>简易站</td>\n      <td>2021年底</td>\n      <td>170</td>\n    </tr>\n    <tr>\n      <th>23</th>\n      <td>74</td>\n      <td>石井河中游</td>\n      <td>白云</td>\n      <td>石井河</td>\n      <td>石井河口断面周边重要河流\\n（涌）</td>\n      <td>简易站</td>\n      <td>2021年底</td>\n      <td>170</td>\n    </tr>\n    <tr>\n      <th>24</th>\n      <td>75</td>\n      <td>兔岗坑</td>\n      <td>白云</td>\n      <td>兔岗坑</td>\n      <td>人和断面周边重要河流（涌）</td>\n      <td>简易站</td>\n      <td>2021年底</td>\n      <td>170</td>\n    </tr>\n    <tr>\n      <th>25</th>\n      <td>76</td>\n      <td>良田坑</td>\n      <td>白云</td>\n      <td>良田坑</td>\n      <td>人和断面周边重要河流（涌）</td>\n      <td>简易站</td>\n      <td>2021年底</td>\n      <td>170</td>\n    </tr>\n    <tr>\n      <th>26</th>\n      <td>79</td>\n      <td>雁洲涌</td>\n      <td>番禺</td>\n      <td>雁洲涌</td>\n      <td>大龙涌口断面周边重要河流\\n（涌）</td>\n      <td>简易站</td>\n      <td>2021年底</td>\n      <td>170</td>\n    </tr>\n    <tr>\n      <th>27</th>\n      <td>80</td>\n      <td>但岗涌</td>\n      <td>番禺</td>\n      <td>但岗涌</td>\n      <td>大龙涌口断面周边重要河流\\n（涌）</td>\n      <td>简易站</td>\n      <td>2021年底</td>\n      <td>170</td>\n    </tr>\n    <tr>\n      <th>28</th>\n      <td>81</td>\n      <td>旧滘涌</td>\n      <td>番禺</td>\n      <td>旧滘涌</td>\n      <td>大龙涌口断面周边重要河流\\n（涌）</td>\n      <td>简易站</td>\n      <td>2021年底</td>\n      <td>170</td>\n    </tr>\n    <tr>\n      <th>29</th>\n      <td>82</td>\n      <td>雁洲水闸</td>\n      <td>番禺</td>\n      <td>市桥水道</td>\n      <td>大龙涌口断面周边重要河流\\n（涌）</td>\n      <td>简易站</td>\n      <td>2021年底</td>\n      <td>170</td>\n    </tr>\n    <tr>\n      <th>30</th>\n      <td>83</td>\n      <td>小龙涌</td>\n      <td>番禺</td>\n      <td>小龙涌</td>\n      <td>大龙涌口断面周边重要河流\\n（涌）</td>\n      <td>简易站</td>\n      <td>2022年底</td>\n      <td>170</td>\n    </tr>\n    <tr>\n      <th>31</th>\n      <td>84</td>\n      <td>前锋河</td>\n      <td>番禺</td>\n      <td>前锋河</td>\n      <td>大龙涌口断面周边重要河流\\n（涌）</td>\n      <td>简易站</td>\n      <td>2022年底</td>\n      <td>170</td>\n    </tr>\n    <tr>\n      <th>32</th>\n      <td>85</td>\n      <td>西福河中游</td>\n      <td>增城</td>\n      <td>西福河</td>\n      <td>大墩断面周边重要河流（涌）</td>\n      <td>固定站</td>\n      <td>2021年底</td>\n      <td>300</td>\n    </tr>\n    <tr>\n      <th>33</th>\n      <td>86</td>\n      <td>西福河口</td>\n      <td>增城</td>\n      <td>西福河</td>\n      <td>大墩断面周边重要河流（涌）</td>\n      <td>固定站</td>\n      <td>2021年底</td>\n      <td>300</td>\n    </tr>\n    <tr>\n      <th>34</th>\n      <td>89</td>\n      <td>联和洪排渠</td>\n      <td>增城</td>\n      <td>东江北干流</td>\n      <td>大墩断面周边重要河流（涌）</td>\n      <td>简易站</td>\n      <td>2021年底</td>\n      <td>170</td>\n    </tr>\n    <tr>\n      <th>35</th>\n      <td>95</td>\n      <td>鹤洞涌</td>\n      <td>荔湾</td>\n      <td>鹤洞涌</td>\n      <td>东朗断面周边重要河流（涌）</td>\n      <td>简易站</td>\n      <td>2021年底</td>\n      <td>170</td>\n    </tr>\n    <tr>\n      <th>36</th>\n      <td>96</td>\n      <td>下市涌</td>\n      <td>荔湾</td>\n      <td>后航道</td>\n      <td>东朗断面周边重要河流（涌）</td>\n      <td>简易站</td>\n      <td>2021年底</td>\n      <td>170</td>\n    </tr>\n    <tr>\n      <th>37</th>\n      <td>97</td>\n      <td>塞坝涌</td>\n      <td>荔湾</td>\n      <td>后航道</td>\n      <td>东朗断面周边重要河流（涌）</td>\n      <td>简易站</td>\n      <td>2021年底</td>\n      <td>170</td>\n    </tr>\n    <tr>\n      <th>38</th>\n      <td>103</td>\n      <td>派潭河</td>\n      <td>增城</td>\n      <td>增江</td>\n      <td>增江口断面周边重要河流（涌）</td>\n      <td>简易站</td>\n      <td>2021年底</td>\n      <td>170</td>\n    </tr>\n    <tr>\n      <th>39</th>\n      <td>104</td>\n      <td>县江河</td>\n      <td>增城</td>\n      <td>增江</td>\n      <td>增江口断面周边重要河流（涌）</td>\n      <td>简易站</td>\n      <td>2021年底</td>\n      <td>170</td>\n    </tr>\n    <tr>\n      <th>40</th>\n      <td>105</td>\n      <td>二龙河</td>\n      <td>增城</td>\n      <td>增江</td>\n      <td>增江口断面周边重要河流（涌）</td>\n      <td>简易站</td>\n      <td>2021年底</td>\n      <td>170</td>\n    </tr>\n    <tr>\n      <th>41</th>\n      <td>121</td>\n      <td>方石坑</td>\n      <td>白云</td>\n      <td>方石坑</td>\n      <td>其他重要河流（涌）</td>\n      <td>简易站</td>\n      <td>2023年底</td>\n      <td>170</td>\n    </tr>\n    <tr>\n      <th>42</th>\n      <td>122</td>\n      <td>秀水排渠</td>\n      <td>白云</td>\n      <td>秀水排渠</td>\n      <td>其他重要河流（涌）</td>\n      <td>简易站</td>\n      <td>2023年底</td>\n      <td>170</td>\n    </tr>\n    <tr>\n      <th>43</th>\n      <td>123</td>\n      <td>泥坑</td>\n      <td>白云</td>\n      <td>泥坑</td>\n      <td>其他重要河流（涌）</td>\n      <td>简易站</td>\n      <td>2023年底</td>\n      <td>170</td>\n    </tr>\n    <tr>\n      <th>44</th>\n      <td>124</td>\n      <td>新街河（白云段）</td>\n      <td>白云</td>\n      <td>新街河</td>\n      <td>其他重要河流（涌）</td>\n      <td>简易站</td>\n      <td>2023年底</td>\n      <td>170</td>\n    </tr>\n    <tr>\n      <th>45</th>\n      <td>130</td>\n      <td>大冲口涌</td>\n      <td>荔湾</td>\n      <td>大冲口涌</td>\n      <td>其他重要河流（涌）</td>\n      <td>简易站</td>\n      <td>2023年底</td>\n      <td>170</td>\n    </tr>\n    <tr>\n      <th>46</th>\n      <td>138</td>\n      <td>花地河（北段）</td>\n      <td>荔湾</td>\n      <td>花地河</td>\n      <td>其他重要河流（涌）</td>\n      <td>简易站</td>\n      <td>2023年底</td>\n      <td>170</td>\n    </tr>\n    <tr>\n      <th>47</th>\n      <td>139</td>\n      <td>花地河（南段）</td>\n      <td>荔湾</td>\n      <td>花地河</td>\n      <td>其他重要河流（涌）</td>\n      <td>简易站</td>\n      <td>2023年底</td>\n      <td>170</td>\n    </tr>\n    <tr>\n      <th>48</th>\n      <td>141</td>\n      <td>东塱涌</td>\n      <td>荔湾</td>\n      <td>东塱涌</td>\n      <td>其他重要河流（涌）</td>\n      <td>简易站</td>\n      <td>2023年底</td>\n      <td>170</td>\n    </tr>\n    <tr>\n      <th>49</th>\n      <td>143</td>\n      <td>沙涌</td>\n      <td>荔湾</td>\n      <td>沙涌</td>\n      <td>其他重要河流（涌）</td>\n      <td>简易站</td>\n      <td>2023年底</td>\n      <td>170</td>\n    </tr>\n    <tr>\n      <th>50</th>\n      <td>158</td>\n      <td>莲花山水道沙东</td>\n      <td>番禺</td>\n      <td>莲花山水道</td>\n      <td>其他重要河流（涌）</td>\n      <td>固定站</td>\n      <td>2023年底</td>\n      <td>300</td>\n    </tr>\n    <tr>\n      <th>51</th>\n      <td>159</td>\n      <td>陈村水道钟村水厂</td>\n      <td>番禺</td>\n      <td>陈村水道</td>\n      <td>其他重要河流（涌）</td>\n      <td>固定站</td>\n      <td>2023年底</td>\n      <td>300</td>\n    </tr>\n    <tr>\n      <th>52</th>\n      <td>161</td>\n      <td>三枝水水道</td>\n      <td>番禺</td>\n      <td>三枝水水道</td>\n      <td>其他重要河流（涌）</td>\n      <td>固定站</td>\n      <td>2023年底</td>\n      <td>300</td>\n    </tr>\n  </tbody>\n</table>\n</div>"
     },
     "metadata": {},
     "execution_count": 18
    }
   ],
   "source": [
    "df.query('`deadline`.str.contains(\"2021|2022|2023\") & `district` in (\"白云\",\"南沙\",\"番禺\",\"增城\",\"荔湾\")').reset_index(drop=True)"
   ]
  },
  {
   "cell_type": "code",
   "execution_count": null,
   "metadata": {},
   "outputs": [],
   "source": []
  }
 ]
}