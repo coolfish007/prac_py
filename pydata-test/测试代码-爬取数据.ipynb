{
 "cells": [
  {
   "cell_type": "markdown",
   "metadata": {},
   "source": [
    "  ### getonebusline-测试代码\n",
    "  测试用代码，取出一条线路具体内容并组装成dataframe。"
   ]
  },
  {
   "cell_type": "code",
   "execution_count": 3,
   "metadata": {},
   "outputs": [
    {
     "ename": "NameError",
     "evalue": "name 'requests' is not defined",
     "output_type": "error",
     "traceback": [
      "\u001b[0;31m---------------------------------------------------------------------------\u001b[0m",
      "\u001b[0;31mNameError\u001b[0m                                 Traceback (most recent call last)",
      "\u001b[0;32m~/dev/repo/prac_py/爬取公交线路与车站.py\u001b[0m in \u001b[0;36m<module>\u001b[0;34m\u001b[0m\n\u001b[1;32m      <a href='file:///Users/lhc/dev/repo/prac_py/爬取公交线路与车站.py?line=85'>86</a>\u001b[0m \u001b[0mbusline_name\u001b[0m \u001b[0;34m=\u001b[0m \u001b[0;34m'环路'\u001b[0m\u001b[0;34m\u001b[0m\u001b[0;34m\u001b[0m\u001b[0m\n\u001b[1;32m      <a href='file:///Users/lhc/dev/repo/prac_py/爬取公交线路与车站.py?line=86'>87</a>\u001b[0m \u001b[0mbusline_url\u001b[0m \u001b[0;34m=\u001b[0m \u001b[0;34m'https://ditu.amap.com/service/poiInfo?keywords='\u001b[0m \u001b[0;34m+\u001b[0m \u001b[0mbusline_name\u001b[0m\u001b[0;34m\u001b[0m\u001b[0;34m\u001b[0m\u001b[0m\n\u001b[0;32m----> <a href='file:///Users/lhc/dev/repo/prac_py/爬取公交线路与车站.py?line=87'>88</a>\u001b[0;31m \u001b[0mresponse\u001b[0m \u001b[0;34m=\u001b[0m \u001b[0mrequests\u001b[0m\u001b[0;34m.\u001b[0m\u001b[0mget\u001b[0m\u001b[0;34m(\u001b[0m\u001b[0mbusline_url\u001b[0m\u001b[0;34m,\u001b[0m \u001b[0mheaders\u001b[0m\u001b[0;34m=\u001b[0m\u001b[0mheaders\u001b[0m\u001b[0;34m,\u001b[0m \u001b[0mparams\u001b[0m\u001b[0;34m=\u001b[0m\u001b[0mparams\u001b[0m\u001b[0;34m)\u001b[0m\u001b[0;34m\u001b[0m\u001b[0;34m\u001b[0m\u001b[0m\n\u001b[0m\u001b[1;32m      <a href='file:///Users/lhc/dev/repo/prac_py/爬取公交线路与车站.py?line=88'>89</a>\u001b[0m \u001b[0mdata\u001b[0m \u001b[0;34m=\u001b[0m \u001b[0mresponse\u001b[0m\u001b[0;34m.\u001b[0m\u001b[0mjson\u001b[0m\u001b[0;34m(\u001b[0m\u001b[0;34m)\u001b[0m\u001b[0;34m\u001b[0m\u001b[0;34m\u001b[0m\u001b[0m\n\u001b[1;32m      <a href='file:///Users/lhc/dev/repo/prac_py/爬取公交线路与车站.py?line=89'>90</a>\u001b[0m busline_df_column = [\n",
      "\u001b[0;31mNameError\u001b[0m: name 'requests' is not defined"
     ]
    }
   ],
   "source": [
    "busline_name = '环路'\n",
    "busline_url = 'https://ditu.amap.com/service/poiInfo?keywords=' + busline_name\n",
    "response = requests.get(busline_url, headers=headers, params=params)\n",
    "data = response.json()\n",
    "busline_df_column = [\n",
    "    'id', 'code', 'type', 'key_name', 'name', 'front_name', 'terminal_name',\n",
    "    'company', 'status', 'ic_card', 'air', 'total_price', 'start_time',\n",
    "    'end_time', 'interval', 'xs', 'ys'\n",
    "]\n",
    "busline_df = pd.DataFrame(columns=busline_df_column)\n",
    "busline_dict = data['data']['busline_list'][0]\n",
    "sub0 = {\n",
    "    key: busline_dict[key]\n",
    "    for key in busline_df_column & busline_dict.keys()\n",
    "}\n",
    "busline_df = busline_df.append(sub0, ignore_index=True)\n",
    "print(busline_df)\n"
   ]
  },
  {
   "cell_type": "markdown",
   "metadata": {},
   "source": [
    "  ### getonebusline-方式1\n",
    "  重新定义getonebusline最好不要把dataframe当参数传递进去再返回.直接返回一条线路相关的内容在调用外边append会好一些.\n",
    "  函数说明：\n",
    "  1）每条线路的取正反向两条线路；\n",
    "  2）每条线路用高德地图busline唯一的id做关联\n",
    "  3）注意station有'poiid1','xy_coords','poiid2','poiid2_xy'，实际上同名称公交站点可能有多个，地理位置上离的也不远，不同线路的使用的站也不一样，poiid1是此线路中本站的实际具体位置。其中poiid2是某个名称的公交车站在地图上查找时返回的站点地址，可以理解成此名称的公交车站的代表，从高德poiid查找位置的api可以验证。"
   ]
  },
  {
   "cell_type": "code",
   "execution_count": 4,
   "metadata": {},
   "outputs": [],
   "source": [
    "def getonebusline(busline_df, station_df, busline_name):\n",
    "    busline_url = 'https://ditu.amap.com/service/poiInfo?keywords=' + busline_name\n",
    "    response = requests.get(busline_url, headers=headers, params=params)\n",
    "    data = response.json()\n",
    "    if data['data']['message'] and data['data']['busline_list']:\n",
    "        print('找到公交线路:%s' % busline_name)\n",
    "        busline_dict = data['data']['busline_list']\n",
    "        if (len(busline_dict) >= 2):\n",
    "            print('开始抽取公交线路:%s的内容' % busline_name)\n",
    "            tmp = pd.DataFrame(busline_dict, columns=busline_df_column)\n",
    "            tmp.iloc[0]['type'] = 'a2b'\n",
    "            tmp.iloc[1]['type'] = 'b2a'\n",
    "            busline_df = busline_df.append(tmp[:2], ignore_index=True)\n",
    "            i = 0\n",
    "            while (i < 2):\n",
    "                tmp = getbusstations(busline_dict[i], 'stations')\n",
    "                tmp['busline_id'] = busline_df.iloc[i - 2]['id']\n",
    "                tmp['order'] = tmp.index\n",
    "                print('抽取公交线路:%s的站点,此线路共有%s个站点' % (busline_name, len(tmp)))\n",
    "                station_df = station_df.append(tmp, ignore_index=True)\n",
    "                i += 1\n",
    "    return busline_df, station_df\n",
    "\n"
   ]
  },
  {
   "cell_type": "markdown",
   "metadata": {},
   "source": [
    "  ### getonebusline-调用1"
   ]
  },
  {
   "cell_type": "code",
   "execution_count": 5,
   "metadata": {},
   "outputs": [
    {
     "ename": "NameError",
     "evalue": "name 'buslines' is not defined",
     "output_type": "error",
     "traceback": [
      "\u001b[0;31m---------------------------------------------------------------------------\u001b[0m",
      "\u001b[0;31mNameError\u001b[0m                                 Traceback (most recent call last)",
      "\u001b[0;32m~/dev/repo/prac_py/爬取公交线路与车站.py\u001b[0m in \u001b[0;36m<module>\u001b[0;34m\u001b[0m\n\u001b[0;32m----> <a href='file:///Users/lhc/dev/repo/prac_py/爬取公交线路与车站.py?line=322'>323</a>\u001b[0;31m \u001b[0;32mfor\u001b[0m \u001b[0mbusline_name\u001b[0m \u001b[0;32min\u001b[0m \u001b[0mbuslines\u001b[0m\u001b[0;34m.\u001b[0m\u001b[0msplit\u001b[0m\u001b[0;34m(\u001b[0m\u001b[0;34m','\u001b[0m\u001b[0;34m)\u001b[0m\u001b[0;34m:\u001b[0m\u001b[0;34m\u001b[0m\u001b[0;34m\u001b[0m\u001b[0m\n\u001b[0m\u001b[1;32m      <a href='file:///Users/lhc/dev/repo/prac_py/爬取公交线路与车站.py?line=323'>324</a>\u001b[0m     busline_df, station_df = getonebusline(busline_df, station_df,\n\u001b[1;32m      <a href='file:///Users/lhc/dev/repo/prac_py/爬取公交线路与车站.py?line=324'>325</a>\u001b[0m                                            busline_name)\n\u001b[1;32m      <a href='file:///Users/lhc/dev/repo/prac_py/爬取公交线路与车站.py?line=325'>326</a>\u001b[0m \u001b[0mprint\u001b[0m\u001b[0;34m(\u001b[0m\u001b[0;34m'共有双向线路:%s条'\u001b[0m \u001b[0;34m%\u001b[0m \u001b[0mlen\u001b[0m\u001b[0;34m(\u001b[0m\u001b[0mbusline_df\u001b[0m\u001b[0;34m)\u001b[0m\u001b[0;34m)\u001b[0m\u001b[0;34m\u001b[0m\u001b[0;34m\u001b[0m\u001b[0m\n\u001b[1;32m      <a href='file:///Users/lhc/dev/repo/prac_py/爬取公交线路与车站.py?line=326'>327</a>\u001b[0m \u001b[0mprint\u001b[0m\u001b[0;34m(\u001b[0m\u001b[0mbusline_df\u001b[0m\u001b[0;34m)\u001b[0m\u001b[0;34m\u001b[0m\u001b[0;34m\u001b[0m\u001b[0m\n",
      "\u001b[0;31mNameError\u001b[0m: name 'buslines' is not defined"
     ]
    }
   ],
   "source": [
    "for busline_name in buslines.split(','):\n",
    "    busline_df, station_df = getonebusline(busline_df, station_df,\n",
    "                                           busline_name)\n",
    "print('共有双向线路:%s条' % len(busline_df))\n",
    "print(busline_df)\n",
    "print('共有站点:%s个' % len(station_df))\n",
    "print(station_df)\n",
    "\n"
   ]
  }
 ],
 "metadata": {
  "jupytext": {
   "formats": "ipynb,py:percent"
  },
  "language_info": {
   "codemirror_mode": {
    "name": "ipython",
    "version": 3
   },
   "file_extension": ".py",
   "mimetype": "text/x-python",
   "name": "python",
   "nbconvert_exporter": "python",
   "pygments_lexer": "ipython3",
   "version": 3
  }
 },
 "nbformat": 4,
 "nbformat_minor": 2
}
