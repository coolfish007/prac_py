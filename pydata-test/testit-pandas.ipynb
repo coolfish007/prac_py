{
 "cells": [
  {
   "cell_type": "code",
   "execution_count": null,
   "metadata": {},
   "outputs": [],
   "source": [
    "# ms-python.python added\n",
    "import os\n",
    "try:\n",
    "    os.chdir(os.path.join(os.getcwd(), 'pydata-exercise'))\n",
    "    print(os.getcwd())\n",
    "except:\n",
    "    pass"
   ]
  },
  {
   "cell_type": "markdown",
   "metadata": {},
   "source": [
    " ## Pandas 练习"
   ]
  },
  {
   "cell_type": "code",
   "execution_count": 11,
   "metadata": {
    "lines_to_next_cell": 1
   },
   "outputs": [],
   "source": [
    "import pandas as pd\n",
    "import numpy as np\n",
    "from openpyxl import load_workbook"
   ]
  },
  {
   "cell_type": "markdown",
   "metadata": {
    "lines_to_next_cell": 2
   },
   "source": [
    " ## 测试datafrmae传入的变化\n",
    " 传入的是调用的引用.\n",
    " 注意 `df=pd.DataFrame(a)`, 这句之后df就指向新的数据结构了,和传入的\n",
    " df就没有关系了. 但是append操作必须返回才能起效果,不像drop(inplace=True)."
   ]
  },
  {
   "cell_type": "code",
   "execution_count": null,
   "metadata": {
    "lines_to_next_cell": 2
   },
   "outputs": [],
   "source": [
    "def testdfgo(df):\n",
    "    a = [{'A': 1, 'B': 2}, {'A': 3, 'B': 4}]\n",
    "    print(df)\n",
    "    # a = {'A': [1, 2], 'B': [3, 4]}\n",
    "    # df = pd.DataFrame(a)\n",
    "    df.append(a, ignore_index=True)\n",
    "    print(df)\n",
    "    df.drop(index=0, inplace=True)\n",
    "    print(df)\n",
    "\n",
    "\n",
    "df = pd.DataFrame([[0, 0], [5, 6]], columns=['A', 'B'])\n",
    "testdfgo(df)\n",
    "print(df)"
   ]
  },
  {
   "cell_type": "markdown",
   "metadata": {
    "lines_to_next_cell": 0
   },
   "source": [
    " ## dataframe apply函数"
   ]
  },
  {
   "cell_type": "markdown",
   "metadata": {},
   "source": [
    " ### 处理每行的数据后并新增列"
   ]
  },
  {
   "cell_type": "code",
   "execution_count": null,
   "metadata": {},
   "outputs": [],
   "source": [
    "data = {\n",
    "    'state': ['Ohio', 'Ohio', 'Ohio', 'Nevada', 'Nevada', 'Nevada'],\n",
    "    'year': [2000, 2001, 2002, 2001, 2002, 2003],\n",
    "    'pop': [1.5, 1.7, 3.6, 2.4, 2.9, 3.2]\n",
    "}\n",
    "frame = pd.DataFrame(data)\n",
    "\n",
    "# for row in frame.itertuples():\n",
    "#    print(row)\n",
    "\n",
    "\n",
    "def new_value0(row):\n",
    "    return (5, 5)\n",
    "\n",
    "\n",
    "def new_value(x=0, y=0):\n",
    "    x = x + 5\n",
    "    y = y * 5\n",
    "    return x\n",
    "\n",
    "\n",
    "def new_value1(row):\n",
    "    row['new_year'] = row['year'] + 5\n",
    "    row['new_pop'] = row['pop'] * 5\n",
    "    return row\n",
    "\n",
    "\n",
    "def new_value2(row, year, pop):\n",
    "    x = row[year] + 5\n",
    "    y = row[pop] * 5\n",
    "    return x, y"
   ]
  },
  {
   "cell_type": "code",
   "execution_count": null,
   "metadata": {
    "lines_to_next_cell": 2
   },
   "outputs": [],
   "source": [
    "frame['new_year'] = frame.apply(lambda row: row['year'] + 5, axis=1)\n",
    "frame['new_year'] = frame.apply(lambda row: new_value(row['year']), axis=1)"
   ]
  },
  {
   "cell_type": "code",
   "execution_count": null,
   "metadata": {
    "lines_to_next_cell": 2
   },
   "outputs": [],
   "source": [
    "frame = frame.apply(new_value1, axis=1)\n",
    "print(frame)"
   ]
  },
  {
   "cell_type": "code",
   "execution_count": null,
   "metadata": {},
   "outputs": [],
   "source": [
    "frame['new_year'], frame['new_pop'] = zip(*frame[['year', 'pop']].apply(new_value0, axis=1))\n",
    "print(frame)"
   ]
  },
  {
   "cell_type": "code",
   "execution_count": null,
   "metadata": {
    "lines_to_next_cell": 2
   },
   "outputs": [],
   "source": [
    "frame['new_year'], frame['new_pop'] = zip(*frame[['year', 'pop']].apply(new_value2, axis=1, args=('year', 'pop')))\n",
    "frame['new_year'], frame['new_pop'] = zip(*frame[['year', 'pop']].apply(new_value2, axis=1, year='year', pop='pop'))\n",
    "# print('result')\n",
    "print(frame)"
   ]
  },
  {
   "cell_type": "markdown",
   "metadata": {},
   "source": [
    " ### 理解zip和unzip的使用"
   ]
  },
  {
   "cell_type": "code",
   "execution_count": null,
   "metadata": {},
   "outputs": [],
   "source": [
    "x1 = '5,6,7'\n",
    "y1 = '1,2,3'\n",
    "x1 = map(int, x1.split(','))\n",
    "y1 = map(int, y1.split(','))\n",
    "la = list(zip(x1, y1))\n",
    "lb = []\n",
    "\n",
    "for e in la:\n",
    "    lb.append((e[0] + 1, e[1] + 1))\n",
    "\n",
    "print(lb)\n",
    "lb = list(zip(*lb))\n",
    "print(lb)"
   ]
  },
  {
   "cell_type": "markdown",
   "metadata": {
    "lines_to_next_cell": 0
   },
   "source": [
    " ## append函数\n",
    " 主要是异常情况的处理"
   ]
  },
  {
   "cell_type": "code",
   "execution_count": 12,
   "metadata": {
    "lines_to_next_cell": 0
   },
   "outputs": [
    {
     "name": "stdout",
     "output_type": "stream",
     "text": [
      "其他异常\n",
      "    state  year  pop\n",
      "0    Ohio  2000  1.5\n",
      "1    Ohio  2001  1.7\n",
      "2    Ohio  2002  3.6\n",
      "3  Nevada  2001  2.4\n",
      "4  Nevada  2002  2.9\n",
      "5  Nevada  2003  3.2\n",
      "无此sheet页\n"
     ]
    }
   ],
   "source": [
    "data = {\n",
    "    'state': ['Ohio', 'Ohio', 'Ohio', 'Nevada', 'Nevada', 'Nevada'],\n",
    "    'year': [2000, 2001, 2002, 2001, 2002, 2003],\n",
    "    'pop': [1.5, 1.7, 3.6, 2.4, 2.9, 3.2]\n",
    "}\n",
    "f_name = '../data/hgj_gong_jiao_xian_lu 4.xlsx'\n",
    "frame = pd.DataFrame(data)\n",
    "nan_frame = pd.DataFrame()\n",
    "\n",
    "book = load_workbook(f_name)\n",
    "writer = pd.ExcelWriter(f_name, engine='openpyxl')\n",
    "writer.book = book\n",
    "writer.sheets = dict((ws.title, ws) for ws in book.worksheets)\n",
    "\n",
    "try:\n",
    "    nan_frame = pd.read_excel(f_name, sheet_name='123')\n",
    "except ValueError:\n",
    "    print('无此数据')\n",
    "except:\n",
    "    print('其他异常')\n",
    "nan_frame = nan_frame.append(frame, ignore_index=True)\n",
    "print(nan_frame)\n",
    "\n",
    "if ('123' in writer.sheets):\n",
    "    print('有此sheet页')\n",
    "else:\n",
    "    print('无此sheet页')"
   ]
  },
  {
   "cell_type": "markdown",
   "metadata": {
    "lines_to_next_cell": 0
   },
   "source": [
    " ## 合并数据-merge函数的理解和使用"
   ]
  },
  {
   "cell_type": "markdown",
   "metadata": {},
   "source": [
    "### 初始化测试数据"
   ]
  },
  {
   "cell_type": "code",
   "execution_count": 1,
   "metadata": {},
   "outputs": [
    {
     "data": {
      "text/html": [
       "<div>\n",
       "<style scoped>\n",
       "    .dataframe tbody tr th:only-of-type {\n",
       "        vertical-align: middle;\n",
       "    }\n",
       "\n",
       "    .dataframe tbody tr th {\n",
       "        vertical-align: top;\n",
       "    }\n",
       "\n",
       "    .dataframe thead th {\n",
       "        text-align: right;\n",
       "    }\n",
       "</style>\n",
       "<table border=\"1\" class=\"dataframe\">\n",
       "  <thead>\n",
       "    <tr style=\"text-align: right;\">\n",
       "      <th></th>\n",
       "      <th>id</th>\n",
       "      <th>date</th>\n",
       "      <th>money</th>\n",
       "      <th>product</th>\n",
       "      <th>department</th>\n",
       "      <th>origin</th>\n",
       "    </tr>\n",
       "  </thead>\n",
       "  <tbody>\n",
       "    <tr>\n",
       "      <th>0</th>\n",
       "      <td>101</td>\n",
       "      <td>2020-05-05</td>\n",
       "      <td>5</td>\n",
       "      <td>苏打水</td>\n",
       "      <td>饮料</td>\n",
       "      <td>China</td>\n",
       "    </tr>\n",
       "    <tr>\n",
       "      <th>1</th>\n",
       "      <td>102</td>\n",
       "      <td>2020-05-06</td>\n",
       "      <td>4</td>\n",
       "      <td>可乐</td>\n",
       "      <td>饮料</td>\n",
       "      <td>China</td>\n",
       "    </tr>\n",
       "    <tr>\n",
       "      <th>2</th>\n",
       "      <td>103</td>\n",
       "      <td>2020-05-07</td>\n",
       "      <td>65</td>\n",
       "      <td>牛肉干</td>\n",
       "      <td>零食</td>\n",
       "      <td>America</td>\n",
       "    </tr>\n",
       "    <tr>\n",
       "      <th>3</th>\n",
       "      <td>104</td>\n",
       "      <td>2020-05-08</td>\n",
       "      <td>10</td>\n",
       "      <td>老干妈</td>\n",
       "      <td>调味品</td>\n",
       "      <td>China</td>\n",
       "    </tr>\n",
       "    <tr>\n",
       "      <th>4</th>\n",
       "      <td>105</td>\n",
       "      <td>2020-05-09</td>\n",
       "      <td>15</td>\n",
       "      <td>菠萝</td>\n",
       "      <td>水果</td>\n",
       "      <td>Thailand</td>\n",
       "    </tr>\n",
       "    <tr>\n",
       "      <th>5</th>\n",
       "      <td>106</td>\n",
       "      <td>2020-05-10</td>\n",
       "      <td>20</td>\n",
       "      <td>冰激凌</td>\n",
       "      <td>NaN</td>\n",
       "      <td>China</td>\n",
       "    </tr>\n",
       "    <tr>\n",
       "      <th>6</th>\n",
       "      <td>107</td>\n",
       "      <td>2020-05-11</td>\n",
       "      <td>35</td>\n",
       "      <td>洗面奶</td>\n",
       "      <td>日用品</td>\n",
       "      <td>america</td>\n",
       "    </tr>\n",
       "    <tr>\n",
       "      <th>7</th>\n",
       "      <td>108</td>\n",
       "      <td>2020-05-12</td>\n",
       "      <td>16</td>\n",
       "      <td>洋葱</td>\n",
       "      <td>蔬菜</td>\n",
       "      <td>China</td>\n",
       "    </tr>\n",
       "    <tr>\n",
       "      <th>8</th>\n",
       "      <td>109</td>\n",
       "      <td>2020-05-13</td>\n",
       "      <td>6</td>\n",
       "      <td>牙膏</td>\n",
       "      <td>日用品</td>\n",
       "      <td>China</td>\n",
       "    </tr>\n",
       "    <tr>\n",
       "      <th>9</th>\n",
       "      <td>110</td>\n",
       "      <td>2020-05-14</td>\n",
       "      <td>20</td>\n",
       "      <td>薯片</td>\n",
       "      <td>零食</td>\n",
       "      <td>Japan</td>\n",
       "    </tr>\n",
       "  </tbody>\n",
       "</table>\n",
       "</div>"
      ],
      "text/plain": [
       "    id       date  money product department    origin\n",
       "0  101 2020-05-05      5     苏打水         饮料     China\n",
       "1  102 2020-05-06      4      可乐         饮料     China\n",
       "2  103 2020-05-07     65     牛肉干         零食   America\n",
       "3  104 2020-05-08     10     老干妈        调味品     China\n",
       "4  105 2020-05-09     15      菠萝         水果  Thailand\n",
       "5  106 2020-05-10     20     冰激凌        NaN     China\n",
       "6  107 2020-05-11     35     洗面奶        日用品   america\n",
       "7  108 2020-05-12     16      洋葱         蔬菜     China\n",
       "8  109 2020-05-13      6      牙膏        日用品     China\n",
       "9  110 2020-05-14     20      薯片         零食     Japan"
      ]
     },
     "execution_count": 1,
     "metadata": {},
     "output_type": "execute_result"
    }
   ],
   "source": [
    "product = pd.DataFrame({\n",
    "    'id':\n",
    "    np.arange(101, 111),\n",
    "    'date':\n",
    "    pd.date_range(start='20200505', periods=10),\n",
    "    'money': [5, 4, 65, 10, 15, 20, 35, 16, 6, 20],\n",
    "    'product': ['苏打水', '可乐', '牛肉干', '老干妈', '菠萝', '冰激凌', '洗面奶', '洋葱', '牙膏', '薯片'],\n",
    "    'department': ['饮料', '饮料', '零食', '调味品', '水果', np.nan, '日用品', '蔬菜', '日用品', '零食'],\n",
    "    'origin': ['China', ' China', 'America', 'China', 'Thailand', 'China', 'america', 'China', 'China', 'Japan']\n",
    "})\n",
    "product"
   ]
  },
  {
   "cell_type": "code",
   "execution_count": null,
   "metadata": {},
   "outputs": [],
   "source": [
    "product_1 = pd.DataFrame({\n",
    "    'id': np.arange(110, 113),\n",
    "    'date': pd.date_range(start='20200514', periods=3),\n",
    "    'money': [20, 7, 14],\n",
    "    'product': ['薯片', 'qiqudan', 'cho'],\n",
    "    'department': ['零食', '零食', '零食'],\n",
    "    'origin': ['China', 'China', 'China']\n",
    "})\n",
    "product_1"
   ]
  },
  {
   "cell_type": "markdown",
   "metadata": {
    "lines_to_next_cell": 0
   },
   "source": [
    "### 验证merge函数不同参数的用法"
   ]
  },
  {
   "cell_type": "code",
   "execution_count": null,
   "metadata": {
    "lines_to_next_cell": 0
   },
   "outputs": [],
   "source": [
    "product_new = pd.merge(product, product_1, on='id', how='inner')\n",
    "product_new"
   ]
  },
  {
   "cell_type": "code",
   "execution_count": null,
   "metadata": {},
   "outputs": [],
   "source": [
    "product_new = pd.merge(product, product_1, on='id', how='right')\n",
    "product_new"
   ]
  },
  {
   "cell_type": "markdown",
   "metadata": {
    "lines_to_next_cell": 0
   },
   "source": [
    "#### 不指定特定的on参数\n",
    "对全column进行比较,相当于intersection(inner)和unioin(outer)"
   ]
  },
  {
   "cell_type": "code",
   "execution_count": null,
   "metadata": {
    "lines_to_next_cell": 0
   },
   "outputs": [],
   "source": [
    "# 注意110的产地,一个是Japan,一个是China,merge的时候会当成不同数据\n",
    "product_new = pd.merge(product, product_1, how='outer')\n",
    "product_new\n",
    "product_1.loc[product_1['id'] == 110, 'origin'] = 'Japan'\n",
    "product_new = pd.merge(product, product_1, how='outer')\n",
    "product_new"
   ]
  },
  {
   "cell_type": "code",
   "execution_count": null,
   "metadata": {},
   "outputs": [],
   "source": [
    "# 另一种写法,效果同上.\n",
    "product.merge(product_1, how='outer')"
   ]
  }
 ],
 "metadata": {
  "jupytext": {
   "encoding": "# -*- coding: utf-8 -*-",
   "formats": "ipynb,py:percent"
  },
  "kernelspec": {
   "display_name": "Python 3.8.2 64-bit ('data': venv)",
   "language": "python",
   "name": "python38264bitdatavenvaa4066e455544989bb855911b00b5f95"
  },
  "language_info": {
   "codemirror_mode": {
    "name": "ipython",
    "version": 3
   },
   "file_extension": ".py",
   "mimetype": "text/x-python",
   "name": "python",
   "nbconvert_exporter": "python",
   "pygments_lexer": "ipython3",
   "version": "3.8.2"
  },
  "toc-showcode": false,
  "toc-showmarkdowntxt": false,
  "toc-showtags": false
 },
 "nbformat": 4,
 "nbformat_minor": 4
}
