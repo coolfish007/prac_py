{
 "cells": [
  {
   "cell_type": "markdown",
   "metadata": {},
   "source": [
    "## request+bs4"
   ]
  },
  {
   "cell_type": "code",
   "execution_count": 4,
   "metadata": {},
   "outputs": [
    {
     "data": {
      "text/plain": [
       "<Response [200]>"
      ]
     },
     "metadata": {},
     "output_type": "display_data"
    }
   ],
   "source": [
    "from IPython.display import display\n",
    "import requests\n",
    "from bs4 import BeautifulSoup\n",
    "\n",
    "url = \"https://gz.lianjia.com/ershoufang/\"\n",
    "page1 = requests.get(url)\n",
    "display(page1)"
   ]
  },
  {
   "cell_type": "code",
   "execution_count": 16,
   "metadata": {},
   "outputs": [
    {
     "data": {
      "text/plain": [
       "<title>广州二手房房源_广州二手房出售|买卖|交易信息(广州链家)</title>"
      ]
     },
     "metadata": {},
     "output_type": "display_data"
    },
    {
     "data": {
      "text/plain": [
       "<p>广州</p>"
      ]
     },
     "metadata": {},
     "output_type": "display_data"
    },
    {
     "data": {
      "text/plain": [
       "bs4.element.Tag"
      ]
     },
     "metadata": {},
     "output_type": "display_data"
    },
    {
     "data": {
      "text/plain": [
       "<div class=\"info clear\"><div class=\"title\"><a class=\"\" data-el=\"ershoufang\" data-housecode=\"108401570077\" data-is_focus=\"\" data-log_index=\"1\" data-sl=\"\" href=\"https://gz.lianjia.com/ershoufang/108401570077.html\" target=\"_blank\">仁安花园近地铁口旁的南向电梯房</a><!-- 拆分标签 只留一个优先级最高的标签--><span class=\"goodhouse_tag tagBlock\">必看好房</span></div><div class=\"flood\"><div class=\"positionInfo\"><span class=\"positionIcon\"></span><a data-el=\"region\" data-log_index=\"1\" href=\"https://gz.lianjia.com/xiaoqu/2113327850024102/\" target=\"_blank\">仁安花园 </a>   -  <a href=\"https://gz.lianjia.com/ershoufang/zhucun/\" target=\"_blank\">朱村</a> </div></div><div class=\"address\"><div class=\"houseInfo\"><span class=\"houseIcon\"></span>2室1厅 | 81.44平米 | 南 | 毛坯 | 中楼层(共11层)  | 塔楼</div></div><div class=\"followInfo\"><span class=\"starIcon\"></span>34人关注 / 1个月以前发布</div><div class=\"tag\"><span class=\"subway\">近地铁</span><span class=\"isVrFutureHome\">VR看装修</span><span class=\"five\">房本满两年</span><span class=\"haskey\">随时看房</span></div><div class=\"priceInfo\"><div class=\"totalPrice\"><span>116</span>万</div><div class=\"unitPrice\" data-hid=\"108401570077\" data-price=\"14244\" data-rid=\"2113327850024102\"><span>单价14244元/平米</span></div></div></div>"
      ]
     },
     "metadata": {},
     "output_type": "display_data"
    }
   ],
   "source": [
    "bs_page = BeautifulSoup(page1.text, \"lxml\")\n",
    "display(bs_page.title, bs_page.p)\n",
    "display(type(bs_page.title))\n",
    "houses = bs_page.find_all(\"div\", class_=\"info clear\")  # find_all\n",
    "display(houses[0])"
   ]
  },
  {
   "cell_type": "code",
   "execution_count": null,
   "metadata": {},
   "outputs": [],
   "source": []
  }
 ],
 "metadata": {
  "jupytext": {
   "formats": "ipynb,py:percent",
   "main_language": "python"
  },
  "kernelspec": {
   "display_name": "Python 3.8.2 64-bit ('data': venv)",
   "metadata": {
    "interpreter": {
     "hash": "b217fd59a71bdcf8fc21cb9025cc5ba5b0ad4d40cbcd43f8e3bd181db5128951"
    }
   },
   "name": "Python 3.8.2 64-bit ('data': venv)"
  },
  "language_info": {
   "codemirror_mode": {
    "name": "ipython",
    "version": 3
   },
   "file_extension": ".py",
   "mimetype": "text/x-python",
   "name": "python",
   "nbconvert_exporter": "python",
   "pygments_lexer": "ipython3",
   "version": "3.8.2-final"
  }
 },
 "nbformat": 4,
 "nbformat_minor": 2
}
