{
 "cells": [
  {
   "cell_type": "markdown",
   "metadata": {},
   "source": [
    "## request+bs4解析"
   ]
  },
  {
   "cell_type": "code",
   "execution_count": 4,
   "metadata": {},
   "outputs": [
    {
     "data": {
      "text/plain": [
       "<Response [200]>"
      ]
     },
     "metadata": {},
     "output_type": "display_data"
    }
   ],
   "source": [
    "from IPython.display import display\n",
    "from pyquery.pyquery import PyQuery"
   ]
  },
  {
   "cell_type": "code",
   "execution_count": 16,
   "metadata": {},
   "outputs": [
    {
     "data": {
      "text/plain": [
       "<title>广州二手房房源_广州二手房出售|买卖|交易信息(广州链家)</title>"
      ]
     },
     "metadata": {},
     "output_type": "display_data"
    },
    {
     "data": {
      "text/plain": [
       "<p>广州</p>"
      ]
     },
     "metadata": {},
     "output_type": "display_data"
    },
    {
     "data": {
      "text/plain": [
       "bs4.element.Tag"
      ]
     },
     "metadata": {},
     "output_type": "display_data"
    },
    {
     "data": {
      "text/plain": [
       "<div class=\"info clear\"><div class=\"title\"><a class=\"\" data-el=\"ershoufang\" data-housecode=\"108401570077\" data-is_focus=\"\" data-log_index=\"1\" data-sl=\"\" href=\"https://gz.lianjia.com/ershoufang/108401570077.html\" target=\"_blank\">仁安花园近地铁口旁的南向电梯房</a><!-- 拆分标签 只留一个优先级最高的标签--><span class=\"goodhouse_tag tagBlock\">必看好房</span></div><div class=\"flood\"><div class=\"positionInfo\"><span class=\"positionIcon\"></span><a data-el=\"region\" data-log_index=\"1\" href=\"https://gz.lianjia.com/xiaoqu/2113327850024102/\" target=\"_blank\">仁安花园 </a>   -  <a href=\"https://gz.lianjia.com/ershoufang/zhucun/\" target=\"_blank\">朱村</a> </div></div><div class=\"address\"><div class=\"houseInfo\"><span class=\"houseIcon\"></span>2室1厅 | 81.44平米 | 南 | 毛坯 | 中楼层(共11层)  | 塔楼</div></div><div class=\"followInfo\"><span class=\"starIcon\"></span>34人关注 / 1个月以前发布</div><div class=\"tag\"><span class=\"subway\">近地铁</span><span class=\"isVrFutureHome\">VR看装修</span><span class=\"five\">房本满两年</span><span class=\"haskey\">随时看房</span></div><div class=\"priceInfo\"><div class=\"totalPrice\"><span>116</span>万</div><div class=\"unitPrice\" data-hid=\"108401570077\" data-price=\"14244\" data-rid=\"2113327850024102\"><span>单价14244元/平米</span></div></div></div>"
      ]
     },
     "metadata": {},
     "output_type": "display_data"
    }
   ],
   "source": [
    "import requests\n",
    "from bs4 import BeautifulSoup\n",
    "\n",
    "url = \"https://gz.lianjia.com/ershoufang/\"\n",
    "page1 = requests.get(url)\n",
    "print(page1)"
   ]
  },
  {
   "cell_type": "code",
   "execution_count": null,
   "metadata": {},
   "outputs": [],
   "source": [
    "bs_page = BeautifulSoup(page1.text, \"lxml\")\n",
    "# houses = bs_page.find_all(\"div\", class_=\"info clear\")  # find_all\n",
    "houses = bs_page.find_all(\"div\", {\"class\": \"info clear\"})\n",
    "print(len(houses))\n",
    "house_one = houses[0]\n",
    "print(house_one)"
   ]
  },
  {
   "cell_type": "markdown",
   "metadata": {
    "lines_to_next_cell": 0
   },
   "source": [
    "### 使用bs4的方法选择器\n",
    "一个完整的实例,使用方法选择器(API)+正则表达式.\n",
    "查找到返回的都是列表ResultSet,注意这里和pyquery最大的区别.\n",
    "使用resultset,需要随处列表和其中的元素进行操作,很繁复."
   ]
  },
  {
   "cell_type": "code",
   "execution_count": null,
   "metadata": {},
   "outputs": [],
   "source": [
    "house_info = house_one.find_all(\"div\", {\"class\": \"houseInfo\"})\n",
    "print(type(house_info), house_info)\n",
    "print(\"*\" * 5)\n",
    "print(str(house_info))\n",
    "position_info = house_one.find_all(\"div\", {\"class\": \"positionInfo\"})\n",
    "print(position_info)\n",
    "totalPrice = house_one.find_all(\"div\", class_=\"totalPrice\")\n",
    "print(totalPrice)\n",
    "href = house_one.find_all(\"div\", class_=\"title\")\n",
    "print(href)"
   ]
  },
  {
   "cell_type": "code",
   "execution_count": null,
   "metadata": {},
   "outputs": [],
   "source": [
    "import re\n",
    "\n",
    "position_str = re.findall('_blank\">(.+)</a.+_blank\">(.+)?</a', str(position_info))\n",
    "position_str = [item for item in position_str[0]]\n",
    "print(position_str)\n",
    "\n",
    "house_info_str = re.findall(\"span>(.+)?</div>\", str(house_info))\n",
    "house_info_str = str(house_info_str)[2:-2].split(\"|\")  # 去掉[' 和 ']\n",
    "print(house_info_str)\n",
    "\n",
    "totalPrice_str = re.findall(\"<span>(.+)</span>(.+)</div>\", str(totalPrice))\n",
    "totalPrice_str = [item for item in totalPrice_str[0]]\n",
    "print(totalPrice_str)\n",
    "# totalPrice_str = list(totalPrice_str[0])\n",
    "\n",
    "href_str = re.findall(\"http.+html\", str(href))\n",
    "print(href_str)\n",
    "\n",
    "all_info = position_str + house_info_str + totalPrice_str + href_str\n",
    "print(type(all_info), all_info)"
   ]
  },
  {
   "cell_type": "code",
   "execution_count": null,
   "metadata": {},
   "outputs": [],
   "source": [
    "from collections import defaultdict\n",
    "import json\n",
    "\n",
    "h_all_info_d = defaultdict(list)\n",
    "posi_info_d = defaultdict(str)\n",
    "posi_info_d[\"xiaoqu\"] = position_str[0]\n",
    "posi_info_d[\"quyu\"] = position_str[1]\n",
    "h_all_info_d[\"posi_info\"] = posi_info_d\n",
    "h_all_info_d[\"house_info\"] = house_info_str  # 如果数据不用来分析,且在原始页面不确定内容,则不需要明确其key值\n",
    "h_all_info_d[\"price_info\"] = totalPrice_str\n",
    "h_all_info_d[\"href_info\"] = href_str\n",
    "print(h_all_info_d)\n",
    "h_all_info_json = json.dumps(h_all_info_d, ensure_ascii=False)\n",
    "print(h_all_info_json)"
   ]
  },
  {
   "cell_type": "markdown",
   "metadata": {},
   "source": [
    "### 实验bs4的节点选择器"
   ]
  },
  {
   "cell_type": "code",
   "execution_count": null,
   "metadata": {},
   "outputs": [],
   "source": [
    "# house_info,使用节点选择器,不使用正则表达式提取信息.\n",
    "# 所以,这种使用find_all(纯API的方式解析)之后必然使用大量的循环以及正则表达式.\n",
    "# 灵活提前信息需使用bs4的CSS或XPath,chrome等浏览器右键copy进行选择.\n",
    "# 以下是houseInfo节点下的内容:虽然只有一个houseInfo,但也要对list进行操作\n",
    "\"\"\" \n",
    "<div class=\"houseInfo\"><span class=\"houseIcon\"></span>\n",
    "2室1厅 | 81.44平米 | 南 | 毛坯 | 中楼层(共11层)  | 塔楼</div>\n",
    "\"\"\"\n",
    "print(type(house_info[0]), house_info[0].descendants)\n",
    "for item in house_info[0].descendants:\n",
    "    print(type(item), item)  # 遍历,但要提前信息的话,需要判断不同的节点类型,很麻烦.\n",
    "print(\n",
    "    house_info[0].name, house_info[0].string, house_info[0].get_text()\n",
    ")  # 这种情况获取不到内容,为NavigableString,为None,可改为调用get_text()"
   ]
  },
  {
   "cell_type": "code",
   "execution_count": null,
   "metadata": {},
   "outputs": [],
   "source": [
    "print(bs_page.title.string, bs_page.script, bs_page.meta)  # 这种方法可以不用\n",
    "print(type(bs_page.title))\n",
    "print(house_one.contents)  # house_one的所有直接子节点内容,返回列表..children返回内容一样,类型是生成器.\n",
    "print(house_one.descendants)  # 递归子孙节点,每个节点是单独的元素,同样是生成器."
   ]
  },
  {
   "cell_type": "code",
   "execution_count": null,
   "metadata": {},
   "outputs": [],
   "source": [
    "print(house_one.parent)  # parent节点的所有内容(包含本节点).parents递归获取所有祖先节点,.\n",
    "print(house_one.attrs[\"class\"])  # ['info','clear'],两个值"
   ]
  },
  {
   "cell_type": "markdown",
   "metadata": {
    "lines_to_next_cell": 0
   },
   "source": [
    "### 使用bs4的CSS选择器\n",
    "以house_one为例,select 返回的也是ResultSet,只有"
   ]
  },
  {
   "cell_type": "code",
   "execution_count": null,
   "metadata": {},
   "outputs": [],
   "source": [
    "print(type(bs_page))\n",
    "houses = bs_page.select(\"div.info.clear\")\n",
    "print(len(houses))\n",
    "house_one = houses[0]\n",
    "print(type(house_one), house_one)"
   ]
  },
  {
   "cell_type": "code",
   "execution_count": null,
   "metadata": {},
   "outputs": [],
   "source": [
    "house_info = house_one.select(\".houseInfo\")  # 每次查找都是ResultSet\n",
    "print(type(house_info[0]), house_info[0])  # 取出的第一个元素是Tag\n",
    "print(house_info[0].get_text())  # 调用.string返回None,调用.get_text()放回值"
   ]
  },
  {
   "cell_type": "code",
   "execution_count": null,
   "metadata": {
    "lines_to_next_cell": 0
   },
   "outputs": [],
   "source": [
    "position_info = house_one.select(\".positionInfo\")[0]\n",
    "print(type(position_info), position_info)\n",
    "print(position_info.get_text())  # 豪利花园    -  镜湖大道.返回所有文本,所有空格都保留,和PyQuery有所不同.\n",
    "tmp = position_info.select(\"a:nth-child(2)\")[0]\n",
    "print(type(tmp), tmp.string)  # 取得小区名称\n",
    "tmp = position_info.select(\"a:nth-of-type(2)\")[0]\n",
    "print(type(tmp), tmp.string)  # 取得区域名称"
   ]
  },
  {
   "cell_type": "code",
   "execution_count": null,
   "metadata": {
    "lines_to_next_cell": 0
   },
   "outputs": [],
   "source": [
    "def hello(name=None, *addr, **kwargs):\n",
    "    print(name, addr, kwargs)\n",
    "\n",
    "\n",
    "def hello1(**kwargs):\n",
    "    print(kwargs)\n",
    "\n",
    "\n",
    "hello(\"a\", \"b\", \"c\", 6, c=4, r=8)\n",
    "# hello1({'e':1,'f':2}) #TypeError,{}会当成position arguments."
   ]
  },
  {
   "cell_type": "code",
   "execution_count": null,
   "metadata": {},
   "outputs": [],
   "source": []
  },
  {
   "cell_type": "markdown",
   "metadata": {
    "lines_to_next_cell": 0
   },
   "source": [
    "## PyQuery解析\n",
    "使用CSS选择器对节点的遍历和查找,返回的都是PyQuery类型\n"
   ]
  },
  {
   "cell_type": "code",
   "execution_count": null,
   "metadata": {},
   "outputs": [],
   "source": [
    "from pyquery import PyQuery as pq\n",
    "\n",
    "pq_page = pq(url)  # If requests is installed then it will use it"
   ]
  },
  {
   "cell_type": "code",
   "execution_count": null,
   "metadata": {},
   "outputs": [],
   "source": [
    "houses = pq_page(\"div.info.clear\")  # like jquery\n",
    "print(type(houses), len(houses))  # PyQuery"
   ]
  },
  {
   "cell_type": "code",
   "execution_count": null,
   "metadata": {
    "lines_to_next_cell": 0
   },
   "outputs": [],
   "source": [
    "house_one = next(houses.items())"
   ]
  },
  {
   "cell_type": "code",
   "execution_count": null,
   "metadata": {
    "lines_to_next_cell": 0
   },
   "outputs": [],
   "source": [
    "print(type(house_one), house_one)  # 返回的都是PyQuery\n",
    "house_info = house_one(\".houseInfo\")\n",
    "print(house_info.text())  # 提取文本值,2室1厅 | 81.44平米 | 南 | 毛坯 | 中楼层(共11层) | 塔楼\n",
    "tmp = house_info.parent().parent()\n",
    "print(tmp == house_one)  # True"
   ]
  },
  {
   "cell_type": "code",
   "execution_count": null,
   "metadata": {},
   "outputs": [],
   "source": [
    "position_info = house_one(\".positionInfo\")\n",
    "# 注意起调的元素是position_info\n",
    "xq = position_info(\"a:nth-child(2)\")  # 仁安花园,nth-child(2):首先是a元素,同时是第二个元素,如果第二个元素不是a,那么什么都不返回.\n",
    "print(xq.text())\n",
    "qy = position_info(\"a:nth-of-type(2)\")  # 朱村,nth-of-type(2):第二个a元素\n",
    "print(qy.text())"
   ]
  },
  {
   "cell_type": "code",
   "execution_count": null,
   "metadata": {},
   "outputs": [],
   "source": [
    "# 使用text()需要小心.text()提取的是所有节点的文本内容,例如positionInfo:\n",
    "\"\"\" <div class=\"positionInfo\"><span class=\"positionIcon\"></span>\n",
    "<a href=\"https://gz.lianjia.com/xiaoqu/2111103316435/\" target=\"_blank\" data-log_index=\"1\" data-el=\"region\">中海名都 </a>\n",
    "   -  <a href=\"https://gz.lianjia.com/ershoufang/binjiangzhong/\" target=\"_blank\">滨江中</a> \n",
    "   </div> \n",
    "\"\"\"\n",
    "print(position_info.text())  # 返回:中海名都 - 滨江中(每个文本应该都trim过),如果这个示例中<span>节点有文本,也会获取到,如下:\n",
    "position_info.find(\"span\").text(\"add content to span \")\n",
    "print(position_info.text())\n",
    "position_info(\"span\").remove()  # 移除<span>节点\n",
    "print(position_info.text())"
   ]
  },
  {
   "cell_type": "code",
   "execution_count": null,
   "metadata": {},
   "outputs": [],
   "source": [
    "position_info = house_one(\".positionInfo\")\n",
    "tmp = position_info(\"a\").map(lambda i, e: pq(e).text())  # i:index,e:element,e可以用this代替.返回PyQuery\n",
    "position_info_lst = [i.text() for i in tmp.items()]\n",
    "print(position_info_lst)"
   ]
  },
  {
   "cell_type": "markdown",
   "metadata": {
    "lines_to_next_cell": 0
   },
   "source": [
    "## 使用API查找节点,常用API\n",
    "以house_one为例"
   ]
  },
  {
   "cell_type": "code",
   "execution_count": null,
   "metadata": {},
   "outputs": [],
   "source": [
    "house_info = house_one.find(\".houseInfo\")  # 查找范围是所有子孙节点.与house_one(\".houseInfo\")一致.\n",
    "print(type(house_info), house_info)\n",
    "print(house_info.html())  # html以及文本的内容.\n",
    "tmp = house_info.parents(\".info.clear\")\n",
    "print(tmp.attr(\"class\"))  # 提取属性\n",
    "print(tmp == house_one)  # True"
   ]
  },
  {
   "cell_type": "code",
   "execution_count": null,
   "metadata": {
    "lines_to_next_cell": 0
   },
   "outputs": [],
   "source": [
    "tmp = house_one.find(\".houseInfo\").eq(1).end()\n",
    "print(type(tmp), tmp)\n",
    "print(tmp.hasClass(\"houseInfo\"))"
   ]
  },
  {
   "cell_type": "code",
   "execution_count": null,
   "metadata": {
    "lines_to_next_cell": 2
   },
   "outputs": [],
   "source": []
  }
 ],
 "metadata": {
  "jupytext": {
   "formats": "ipynb,py:percent",
   "main_language": "python"
  },
  "kernelspec": {
   "display_name": "Python 3.8.2 64-bit ('data': venv)",
   "metadata": {
    "interpreter": {
     "hash": "b217fd59a71bdcf8fc21cb9025cc5ba5b0ad4d40cbcd43f8e3bd181db5128951"
    }
   },
   "name": "Python 3.8.2 64-bit ('data': venv)"
  },
  "language_info": {
   "codemirror_mode": {
    "name": "ipython",
    "version": 3
   },
   "file_extension": ".py",
   "mimetype": "text/x-python",
   "name": "python",
   "nbconvert_exporter": "python",
   "pygments_lexer": "ipython3",
   "version": "3.8.2-final"
  }
 },
 "nbformat": 4,
 "nbformat_minor": 2
}
