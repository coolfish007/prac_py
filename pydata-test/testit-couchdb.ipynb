{
 "cells": [
  {
   "cell_type": "markdown",
   "metadata": {},
   "source": [
    "# Python(cloudant) 与 CouchDB"
   ]
  },
  {
   "cell_type": "code",
   "execution_count": null,
   "metadata": {},
   "outputs": [],
   "source": [
    "from cloudant.client import CouchDB\n",
    "from requests.adapters import HTTPAdapter\n",
    "import pandas as pd"
   ]
  },
  {
   "cell_type": "markdown",
   "metadata": {},
   "source": [
    "## 连接CouchDB"
   ]
  },
  {
   "cell_type": "code",
   "execution_count": null,
   "metadata": {},
   "outputs": [],
   "source": [
    "httpAdapter = HTTPAdapter(pool_connections=15, pool_maxsize=30)\n",
    "client = CouchDB(\n",
    "    \"admin\",\n",
    "    \"admin1\",\n",
    "    url=\"http://127.0.0.1:5984\",\n",
    "    connect=True,\n",
    "    auto_renew=True,\n",
    "    adapter=httpAdapter,\n",
    ")\n",
    "session = client.session()\n",
    "print(\"Username: {0}\".format(session[\"userCtx\"][\"name\"]))\n",
    "print(\"Databases: {0}\".format(client.all_dbs()))\n",
    "# client.disconnect()"
   ]
  },
  {
   "cell_type": "markdown",
   "metadata": {
    "lines_to_next_cell": 0
   },
   "source": [
    "## 读取已有的数据库内容"
   ]
  },
  {
   "cell_type": "code",
   "execution_count": null,
   "metadata": {},
   "outputs": [],
   "source": [
    "# partitioned=True\n",
    "a8684_db = client[\"sitemap-data-a8684-sy-test\"]\n",
    "doc_ids = []\n",
    "for doc in a8684_db:\n",
    "    print(doc[\"buslines\"])\n",
    "    bc_dict = doc[\"bl_info_company\"][0]\n",
    "    print(bc_dict[\"bl_info_company\"])\n",
    "    bstation_lst = doc[\"bl_sta_a2b\"]\n",
    "    if len(bstation_lst) > 0:\n",
    "        station_df = pd.DataFrame(doc[\"bl_sta_a2b\"])\n",
    "        # print(station_df[\"bl_sta_a2b\"])\n",
    "        station_df[\"order\"] = station_df.index + 1\n",
    "        # print(station_df)\n",
    "        stations_json = station_df.to_json(orient=\"index\")\n",
    "        print(stations_json)"
   ]
  },
  {
   "cell_type": "markdown",
   "metadata": {},
   "source": [
    "## 插入与更新数据"
   ]
  },
  {
   "cell_type": "markdown",
   "metadata": {},
   "source": [
    "### 创建一个数据库并新建数据"
   ]
  },
  {
   "cell_type": "code",
   "execution_count": null,
   "metadata": {},
   "outputs": [],
   "source": [
    "test_db = client.create_database(\"test_db\")\n",
    "if test_db.exists():\n",
    "    print(\"Success.\")"
   ]
  },
  {
   "cell_type": "code",
   "execution_count": null,
   "metadata": {
    "lines_to_next_cell": 0
   },
   "outputs": [],
   "source": [
    "document_key = \"julia30\"\n",
    "julia30 = test_db.create_document({\"_id\": document_key, \"name\": \"Jules\", \"age\": 6})\n",
    "if julia30.exists():\n",
    "    print(\"Create Successfully.\")"
   ]
  },
  {
   "cell_type": "markdown",
   "metadata": {
    "lines_to_next_cell": 0
   },
   "source": [
    "### 按key查询数据并更新\n",
    "julia30 = test_db[\"julia30\"]\n",
    "print(julia30)\n",
    "julia30[\"pet\"] = [\"cat\", \"dog\", \"frog\"]\n",
    "julia30[\"age\"] = 8\n",
    "julia30.save()\n",
    "julia30[\"pet\"] = [\"cat\", \"dog\", \"frog\"]\n",
    "julia30.save()"
   ]
  },
  {
   "cell_type": "markdown",
   "metadata": {
    "lines_to_next_cell": 0
   },
   "source": [
    "### 查询(by key)新增删除数据"
   ]
  },
  {
   "cell_type": "code",
   "execution_count": null,
   "metadata": {
    "lines_to_next_cell": 0
   },
   "outputs": [],
   "source": [
    "julia30 = test_db[\"julia30\"]\n",
    "print(type(julia30[\"name\"]), type(julia30[\"age\"]), type(julia30[\"pet\"]))\n",
    "print(julia30[\"pet\"])"
   ]
  },
  {
   "cell_type": "code",
   "execution_count": null,
   "metadata": {
    "lines_to_next_cell": 0
   },
   "outputs": [],
   "source": [
    "bob20 = julia30.copy()  # 实际上不用copy()\n",
    "bob20[\"_id\"] = \"bob20\"\n",
    "bob20[\"name\"] = \"bob\"\n",
    "bob20[\"age\"] = 7\n",
    "bob20_doc = test_db.create_document(bob20)\n",
    "if bob20_doc.exists():\n",
    "    print(\"Create bob sucessfully.\")"
   ]
  },
  {
   "cell_type": "code",
   "execution_count": null,
   "metadata": {},
   "outputs": [],
   "source": [
    "tom21 = bob20\n",
    "tom21[\"_id\"] = \"tom21\"\n",
    "tom21[\"name\"] = \"tom\"\n",
    "tom21[\"age\"] = 7\n",
    "tom21_doc = test_db.create_document(bob20)\n",
    "if tom21_doc.exists():\n",
    "    print(\"Create bob sucessfully.\")"
   ]
  },
  {
   "cell_type": "code",
   "execution_count": null,
   "metadata": {},
   "outputs": [],
   "source": [
    "# 不仅修改,新增一列\n",
    "john23 = bob20\n",
    "john23[\"_id\"] = \"john23\"\n",
    "john23[\"name\"] = \"john\"\n",
    "john23[\"age\"] = 7\n",
    "john23[\"book\"] = [\"English\", \"math\"]\n",
    "john23_doc = test_db.create_document(bob20)\n",
    "if john23_doc.exists():\n",
    "    print(\"Create bob sucessfully.\")"
   ]
  },
  {
   "cell_type": "code",
   "execution_count": null,
   "metadata": {},
   "outputs": [],
   "source": [
    "# 验证某列是否存在.并断开连接.\n",
    "tom21_doc = test_db[\"tom21\"]\n",
    "print(type(tom21_doc))\n",
    "print(\"tom's book:%s:\" % \",\".join(tom21_doc[\"book\"])) if \"book\" in tom21_doc else print(\n",
    "    \"tom has no book.\"\n",
    ")\n",
    "client.disconnect()"
   ]
  },
  {
   "cell_type": "code",
   "execution_count": null,
   "metadata": {
    "lines_to_next_cell": 0
   },
   "outputs": [],
   "source": [
    "# 重新连接\n",
    "client.connect()\n",
    "session = client.session()\n",
    "print(\"Username: {0}\".format(session[\"userCtx\"][\"name\"]))\n",
    "print(\"Databases: {0}\".format(client.all_dbs()))\n",
    "test_db = client[\"test_db\"]"
   ]
  },
  {
   "cell_type": "code",
   "execution_count": null,
   "metadata": {
    "lines_to_next_cell": 0
   },
   "outputs": [],
   "source": [
    "# 修改_id,直接新增一条记录,其他内容复制tom21_doc,有点意外.\n",
    "tom21_doc = test_db[\"tom21\"]\n",
    "tom21_doc[\"_id\"] = \"tom24\"\n",
    "tom21_doc.save()"
   ]
  },
  {
   "cell_type": "code",
   "execution_count": null,
   "metadata": {
    "lines_to_next_cell": 0
   },
   "outputs": [],
   "source": [
    "# 删除数据"
   ]
  },
  {
   "cell_type": "markdown",
   "metadata": {},
   "source": [
    "## Dealing with results"
   ]
  },
  {
   "cell_type": "code",
   "execution_count": null,
   "metadata": {},
   "outputs": [],
   "source": []
  }
 ],
 "metadata": {
  "jupytext": {
   "encoding": "# -*- coding: utf-8 -*-",
   "formats": "ipynb,py:percent",
   "main_language": "python"
  },
  "language_info": {
   "codemirror_mode": {
    "name": "ipython",
    "version": 3
   },
   "file_extension": ".py",
   "mimetype": "text/x-python",
   "name": "python",
   "nbconvert_exporter": "python",
   "pygments_lexer": "ipython3",
   "version": 3
  }
 },
 "nbformat": 4,
 "nbformat_minor": 2
}
