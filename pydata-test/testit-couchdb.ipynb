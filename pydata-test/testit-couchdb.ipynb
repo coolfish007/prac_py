{
 "cells": [
  {
   "cell_type": "markdown",
   "metadata": {},
   "source": [
    "# Python(cloudant) 与 CouchDB"
   ]
  },
  {
   "cell_type": "code",
   "execution_count": null,
   "metadata": {},
   "outputs": [],
   "source": [
    "from cloudant.client import CouchDB\n",
    "from requests.adapters import HTTPAdapter\n",
    "import pandas as pd"
   ]
  },
  {
   "cell_type": "markdown",
   "metadata": {},
   "source": [
    "## 连接CouchDB"
   ]
  },
  {
   "cell_type": "code",
   "execution_count": null,
   "metadata": {},
   "outputs": [],
   "source": [
    "httpAdapter = HTTPAdapter(pool_connections=15, pool_maxsize=30)\n",
    "client = CouchDB(\n",
    "    \"admin\",\n",
    "    \"admin1\",\n",
    "    url=\"http://127.0.0.1:5984\",\n",
    "    connect=True,\n",
    "    auto_renew=True,\n",
    "    adapter=httpAdapter,\n",
    ")\n",
    "session = client.session()\n",
    "print(\"Username: {0}\".format(session[\"userCtx\"][\"name\"]))\n",
    "print(\"Databases: {0}\".format(client.all_dbs()))\n",
    "# client.disconnect()"
   ]
  },
  {
   "cell_type": "markdown",
   "metadata": {
    "lines_to_next_cell": 0
   },
   "source": [
    "## 读取已有的数据库内容"
   ]
  },
  {
   "cell_type": "code",
   "execution_count": null,
   "metadata": {},
   "outputs": [],
   "source": [
    "# partitioned=True\n",
    "a8684_db = client[\"sitemap-data-a8684-sy-test\"]\n",
    "doc_ids = []\n",
    "for doc in a8684_db:\n",
    "    print(doc[\"buslines\"])\n",
    "    bc_dict = doc[\"bl_info_company\"][0]\n",
    "    print(bc_dict[\"bl_info_company\"])\n",
    "    bstation_lst = doc[\"bl_sta_a2b\"]\n",
    "    if len(bstation_lst) > 0:\n",
    "        station_df = pd.DataFrame(doc[\"bl_sta_a2b\"])\n",
    "        # print(station_df[\"bl_sta_a2b\"])\n",
    "        station_df[\"order\"] = station_df.index + 1\n",
    "        # print(station_df)\n",
    "        stations_json = station_df.to_json(orient=\"index\")\n",
    "        print(stations_json)"
   ]
  },
  {
   "cell_type": "markdown",
   "metadata": {},
   "source": [
    "## 插入与更新数据"
   ]
  },
  {
   "cell_type": "markdown",
   "metadata": {},
   "source": [
    "### 创建一个数据库,插入数据"
   ]
  },
  {
   "cell_type": "code",
   "execution_count": null,
   "metadata": {},
   "outputs": [],
   "source": []
  },
  {
   "cell_type": "markdown",
   "metadata": {},
   "source": [
    "### 更新数据"
   ]
  },
  {
   "cell_type": "code",
   "execution_count": null,
   "metadata": {},
   "outputs": [],
   "source": []
  },
  {
   "cell_type": "markdown",
   "metadata": {},
   "source": [
    "### 使用已有数据库记录插入新数据"
   ]
  },
  {
   "cell_type": "code",
   "execution_count": null,
   "metadata": {},
   "outputs": [],
   "source": []
  },
  {
   "cell_type": "markdown",
   "metadata": {},
   "source": [
    "### 使用已有数据库记录更新数据"
   ]
  },
  {
   "cell_type": "code",
   "execution_count": null,
   "metadata": {},
   "outputs": [],
   "source": []
  },
  {
   "cell_type": "markdown",
   "metadata": {},
   "source": [
    "## 使用view"
   ]
  },
  {
   "cell_type": "code",
   "execution_count": null,
   "metadata": {},
   "outputs": [],
   "source": []
  }
 ],
 "metadata": {
  "jupytext": {
   "formats": "ipynb,py:percent",
   "main_language": "python"
  },
  "language_info": {
   "codemirror_mode": {
    "name": "ipython",
    "version": 3
   },
   "file_extension": ".py",
   "mimetype": "text/x-python",
   "name": "python",
   "nbconvert_exporter": "python",
   "pygments_lexer": "ipython3",
   "version": 3
  }
 },
 "nbformat": 4,
 "nbformat_minor": 2
}