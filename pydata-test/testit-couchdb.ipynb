{
 "cells": [
  {
   "cell_type": "markdown",
   "metadata": {},
   "source": [
    "# Python(cloudant) 与 CouchDB"
   ]
  },
  {
   "cell_type": "code",
   "execution_count": null,
   "metadata": {},
   "outputs": [],
   "source": [
    "from cloudant.client import CouchDB\n",
    "from cloudant import couchdb\n",
    "from cloudant.document import Document\n",
    "from requests.adapters import HTTPAdapter\n",
    "import pandas as pd"
   ]
  },
  {
   "cell_type": "markdown",
   "metadata": {},
   "source": [
    "## 连接CouchDB"
   ]
  },
  {
   "cell_type": "code",
   "execution_count": null,
   "metadata": {},
   "outputs": [],
   "source": [
    "httpAdapter = HTTPAdapter(pool_connections=15, pool_maxsize=30)\n",
    "client = CouchDB(\n",
    "    \"admin\",\n",
    "    \"admin1\",\n",
    "    url=\"http://127.0.0.1:5984\",\n",
    "    connect=True,\n",
    "    auto_renew=True,\n",
    "    adapter=httpAdapter,\n",
    ")\n",
    "session = client.session()\n",
    "print(\"Username: {0}\".format(session[\"userCtx\"][\"name\"]))\n",
    "print(\"Databases: {0}\".format(client.all_dbs()))\n",
    "# client.disconnect()"
   ]
  },
  {
   "cell_type": "markdown",
   "metadata": {
    "lines_to_next_cell": 0
   },
   "source": [
    "## 读取已有的数据库内容"
   ]
  },
  {
   "cell_type": "code",
   "execution_count": null,
   "metadata": {},
   "outputs": [],
   "source": [
    "# partitioned=True\n",
    "a8684_db = client[\"sitemap-data-a8684-sy-test\"]\n",
    "doc_ids = []\n",
    "for doc in a8684_db:\n",
    "    print(doc[\"buslines\"])\n",
    "    bc_dict = doc[\"bl_info_company\"][0]\n",
    "    print(bc_dict[\"bl_info_company\"])\n",
    "    bstation_lst = doc[\"bl_sta_a2b\"]\n",
    "    if len(bstation_lst) > 0:\n",
    "        station_df = pd.DataFrame(doc[\"bl_sta_a2b\"])\n",
    "        # print(station_df[\"bl_sta_a2b\"])\n",
    "        station_df[\"order\"] = station_df.index + 1\n",
    "        # print(station_df)\n",
    "        stations_json = station_df.to_json(orient=\"index\")\n",
    "        print(stations_json)"
   ]
  },
  {
   "cell_type": "markdown",
   "metadata": {},
   "source": [
    "## 插入与更新数据"
   ]
  },
  {
   "cell_type": "markdown",
   "metadata": {},
   "source": [
    "### 创建一个数据库并新建数据\n",
    "client.crete_database(),创建一个新库时没有抛错."
   ]
  },
  {
   "cell_type": "code",
   "execution_count": null,
   "metadata": {},
   "outputs": [],
   "source": [
    "test_db = client.create_database(\"test_db\")\n",
    "if test_db.exists():\n",
    "    print(\"Success.\")"
   ]
  },
  {
   "cell_type": "code",
   "execution_count": null,
   "metadata": {
    "lines_to_next_cell": 0
   },
   "outputs": [],
   "source": [
    "document_key = \"julia32\"\n",
    "julia = test_db.create_document({\"_id\": document_key, \"name\": \"JulesNew\", \"age\": 6})\n",
    "if julia.exists():\n",
    "    print(\"Create Successfully.\")"
   ]
  },
  {
   "cell_type": "markdown",
   "metadata": {
    "lines_to_next_cell": 0
   },
   "source": [
    "### 按key查询数据并更新\n",
    "julia30 = test_db[\"julia30\"]\n",
    "print(julia30)\n",
    "julia30[\"pet\"] = [\"cat\", \"dog\", \"frog\"]\n",
    "julia30[\"age\"] = 8\n",
    "julia30.save()\n",
    "julia30[\"pet\"] = [\"cat\", \"dog\", \"frog\"]\n",
    "julia30.save()"
   ]
  },
  {
   "cell_type": "markdown",
   "metadata": {
    "lines_to_next_cell": 0
   },
   "source": [
    "### 查询(by key)新增删除数据"
   ]
  },
  {
   "cell_type": "code",
   "execution_count": null,
   "metadata": {
    "lines_to_next_cell": 0
   },
   "outputs": [],
   "source": [
    "julia = test_db[\"julia30\"]\n",
    "print(julia)\n",
    "print(type(julia[\"name\"]), type(julia[\"age\"]), type(julia[\"pet\"]))\n",
    "print(julia[\"pet\"])"
   ]
  },
  {
   "cell_type": "code",
   "execution_count": null,
   "metadata": {
    "lines_to_next_cell": 0
   },
   "outputs": [],
   "source": [
    "bob20 = julia.copy()  # 实际上不用copy()\n",
    "bob20[\"_id\"] = \"bob20\"\n",
    "bob20[\"name\"] = \"bob\"\n",
    "bob20[\"age\"] = 7\n",
    "bob20_doc = test_db.create_document(bob20)\n",
    "if bob20_doc.exists():\n",
    "    print(\"Create bob sucessfully.\")"
   ]
  },
  {
   "cell_type": "code",
   "execution_count": null,
   "metadata": {},
   "outputs": [],
   "source": [
    "tom21 = bob20\n",
    "tom21[\"_id\"] = \"tom21\"\n",
    "tom21[\"name\"] = \"tom\"\n",
    "tom21[\"age\"] = 7\n",
    "tom21_doc = test_db.create_document(bob20)\n",
    "if tom21_doc.exists():\n",
    "    print(\"Create bob sucessfully.\")"
   ]
  },
  {
   "cell_type": "code",
   "execution_count": null,
   "metadata": {},
   "outputs": [],
   "source": [
    "# 新增一列\n",
    "john23 = bob20\n",
    "john23[\"_id\"] = \"john23\"\n",
    "john23[\"name\"] = \"john\"\n",
    "john23[\"age\"] = 7\n",
    "john23[\"book\"] = [\"English\", \"math\"]\n",
    "john23_doc = test_db.create_document(bob20)\n",
    "if john23_doc.exists():\n",
    "    print(\"Create bob sucessfully.\")"
   ]
  },
  {
   "cell_type": "code",
   "execution_count": null,
   "metadata": {},
   "outputs": [],
   "source": [
    "# 验证某列是否存在.并断开连接.\n",
    "tom21_doc = test_db[\"tom21\"]\n",
    "print(type(tom21_doc))\n",
    "print(\"tom's book:%s:\" % \",\".join(tom21_doc[\"book\"])) if \"book\" in tom21_doc else print(\n",
    "    \"tom has no book.\"\n",
    ")\n",
    "client.disconnect()"
   ]
  },
  {
   "cell_type": "code",
   "execution_count": null,
   "metadata": {
    "lines_to_next_cell": 0
   },
   "outputs": [],
   "source": [
    "# 重新连接\n",
    "client.connect()\n",
    "session = client.session()\n",
    "print(\"Username: {0}\".format(session[\"userCtx\"][\"name\"]))\n",
    "print(\"Databases: {0}\".format(client.all_dbs()))\n",
    "test_db = client[\"test_db\"]"
   ]
  },
  {
   "cell_type": "code",
   "execution_count": null,
   "metadata": {
    "lines_to_next_cell": 0
   },
   "outputs": [],
   "source": [
    "# 修改_id,直接新增一条记录,其他内容复制tom21_doc,有点意外.\n",
    "tom = test_db[\"tom21\"]\n",
    "tom[\"_id\"] = \"tom24\"\n",
    "tom.save()"
   ]
  },
  {
   "cell_type": "code",
   "execution_count": null,
   "metadata": {
    "lines_to_next_cell": 0
   },
   "outputs": [],
   "source": [
    "tom = test_db[\"tom24\"]\n",
    "tom[\"name\"] = \"tom24_new\"\n",
    "tom.save()"
   ]
  },
  {
   "cell_type": "code",
   "execution_count": null,
   "metadata": {},
   "outputs": [],
   "source": [
    "# 删除数据\n",
    "julia = test_db[\"julia31\"]\n",
    "if julia.exists():\n",
    "    print(\"julia31 exists.\")\n",
    "julia.delete()\n",
    "julia = test_db[\"julia31\"]\n",
    "if not julia.exists():\n",
    "    print(\"julia31 was deleted.\")"
   ]
  },
  {
   "cell_type": "markdown",
   "metadata": {},
   "source": [
    "## Dealing with results"
   ]
  },
  {
   "cell_type": "code",
   "execution_count": null,
   "metadata": {},
   "outputs": [],
   "source": [
    "from cloudant.result import Result\n",
    "\n",
    "# 什么排序规则?id,key的顺序,与控制台的顺序一致.\n",
    "result_c = Result(test_db.all_docs, include_docs=True)\n",
    "result = result_c[0]\n",
    "# result 是list,结果可能是多个,里边嵌套的是dict.\n",
    "print(type(result))\n",
    "print(result)\n",
    "result = result_c[5]\n",
    "print(result)\n",
    "result = result_c[\"julia30\"]\n",
    "\n",
    "print(type(result))\n",
    "print(\"julia30:\", result)"
   ]
  },
  {
   "cell_type": "code",
   "execution_count": null,
   "metadata": {},
   "outputs": [],
   "source": [
    "for result in result_c:\n",
    "    # iterate 的对象是dict\n",
    "    print(type(result))"
   ]
  },
  {
   "cell_type": "code",
   "execution_count": null,
   "metadata": {},
   "outputs": [],
   "source": [
    "selector = {\"name\": {\"$eq\": \"Jules\"}}\n",
    "result_c = test_db.get_query_result(selector)\n",
    "for result in result_c:\n",
    "\n",
    "    print(type(result))\n",
    "    # 构造新的doc然后更新\n",
    "    update_doc = Document(test_db, result[\"_id\"])\n",
    "    # 这种写法是官方doc的写法.更新状态,避免否则报409,conflict的错误.看_rev的版本号.\n",
    "    # 基本上是读出来的版本号往回写的时候要一致,否则会冲突.\n",
    "    # 但是不推荐.\n",
    "    # 实际作用是:result是dict,从result更新update_doc的值;_rev是附带的效果.\n",
    "    update_doc.update(result)\n",
    "    # 更新前,'_rev':'9-***'\n",
    "    print(update_doc)\n",
    "    update_doc[\"name\"] = \"julia30_new\"\n",
    "    # 更新后,数据库中的'_rev':'10-***'\n",
    "    update_doc.save()"
   ]
  },
  {
   "cell_type": "code",
   "execution_count": null,
   "metadata": {
    "lines_to_next_cell": 2
   },
   "outputs": [],
   "source": [
    "# 推荐这种写法,先修改值再在document中更新;\n",
    "selector = {\"name\": {\"$eq\": \"julia30_new\"}}\n",
    "result_c = test_db.get_query_result(selector)\n",
    "for result in result_c:\n",
    "    print(type(result))\n",
    "    result[\"name\"] = \"julia30_new_2\"\n",
    "    # 构造新的doc然后更新\n",
    "    update_doc = Document(test_db, result[\"_id\"])\n",
    "    update_doc.update(result)\n",
    "    update_doc.save()"
   ]
  },
  {
   "cell_type": "markdown",
   "metadata": {},
   "source": [
    "## 使用contextmanager"
   ]
  },
  {
   "cell_type": "code",
   "execution_count": null,
   "metadata": {},
   "outputs": [],
   "source": [
    "with couchdb(\"admin\", \"admin1\", url=\"http://127.0.0.1:5984\") as client:\n",
    "    session = client.session()\n",
    "    print(\"Username: {0}\".format(session[\"userCtx\"][\"name\"]))\n",
    "    print(\"Databases: {0}\".format(client.all_dbs()))\n",
    "    test_db = client[\"test_db\"]\n",
    "    selector = {\"name\": {\"$eq\": \"JulesNew\"}}\n",
    "    result_c = test_db.get_query_result(selector)\n",
    "    print(len(result_c.all()))\n",
    "    for result in result_c:\n",
    "        print(type(result))\n",
    "        result[\"name\"] = \"juliaNew4\"\n",
    "        update_doc = Document(test_db, result[\"_id\"])\n",
    "        update_doc.update(result)\n",
    "        update_doc.save()\n",
    "\n",
    "# 出了context manager之后client就无效了.\n",
    "# print(\"client disconnect:{0}\".format(client.all_dbs()))"
   ]
  },
  {
   "cell_type": "code",
   "execution_count": null,
   "metadata": {},
   "outputs": [],
   "source": [
    "with couchdb(\"admin\", \"admin1\", url=\"http://127.0.0.1:5984\") as client:\n",
    "    test_db = client.create_database(\"test_db\")\n",
    "    with Document(test_db, \"tom26\") as doc:\n",
    "        doc[\"name\"] = \"tom26_new_\" + doc.get(\"_rev\") if doc.exists() else \"tom26\"\n",
    "        doc[\"age\"] = 10"
   ]
  },
  {
   "cell_type": "markdown",
   "metadata": {
    "lines_to_next_cell": 0
   },
   "source": [
    "## dic的合并/dict 的value是list的合并;"
   ]
  },
  {
   "cell_type": "code",
   "execution_count": null,
   "metadata": {},
   "outputs": [],
   "source": []
  },
  {
   "cell_type": "code",
   "execution_count": null,
   "metadata": {},
   "outputs": [],
   "source": []
  },
  {
   "cell_type": "code",
   "execution_count": null,
   "metadata": {
    "lines_to_next_cell": 2
   },
   "outputs": [],
   "source": []
  }
 ],
 "metadata": {
  "jupytext": {
   "encoding": "# -*- coding: utf-8 -*-",
   "formats": "ipynb,py:percent",
   "main_language": "python"
  },
  "language_info": {
   "codemirror_mode": {
    "name": "ipython",
    "version": 3
   },
   "file_extension": ".py",
   "mimetype": "text/x-python",
   "name": "python",
   "nbconvert_exporter": "python",
   "pygments_lexer": "ipython3",
   "version": 3
  }
 },
 "nbformat": 4,
 "nbformat_minor": 2
}
