{
 "cells": [
  {
   "cell_type": "markdown",
   "metadata": {},
   "source": [
    "# Practice of Python Elemnets"
   ]
  },
  {
   "cell_type": "markdown",
   "metadata": {},
   "source": [
    "## list"
   ]
  },
  {
   "cell_type": "code",
   "execution_count": 45,
   "metadata": {},
   "outputs": [
    {
     "data": {
      "text/plain": [
       "[1, 6, 7, 3, 8, 4, 2, 9]"
      ]
     },
     "execution_count": 45,
     "metadata": {},
     "output_type": "execute_result"
    }
   ],
   "source": [
    "l = [1,6,7,3,8,4,2,9,5]\n",
    "p = l[-1]\n",
    "l[:-1]"
   ]
  },
  {
   "cell_type": "code",
   "execution_count": 13,
   "metadata": {},
   "outputs": [
    {
     "data": {
      "text/plain": [
       "[1, 3, 4, 2, 5, 6, 7, 8, 9]"
      ]
     },
     "execution_count": 13,
     "metadata": {},
     "output_type": "execute_result"
    }
   ],
   "source": [
    "l = [x for x in l[:-1] if x<p] + [p] +[x for x in l[:-1] if x>p]\n",
    "l"
   ]
  },
  {
   "cell_type": "code",
   "execution_count": 47,
   "metadata": {},
   "outputs": [
    {
     "name": "stdout",
     "output_type": "stream",
     "text": [
      "<class 'int'>\n",
      "4330276736\n",
      "guangzhou python guangzhou python \n"
     ]
    }
   ],
   "source": [
    "a = 42\n",
    "print(type(a))\n",
    "print(id(a))\n",
    "b = \"guangzhou python \"\n",
    "print(b*2)"
   ]
  },
  {
   "cell_type": "code",
   "execution_count": 48,
   "metadata": {},
   "outputs": [
    {
     "name": "stdout",
     "output_type": "stream",
     "text": [
      "guangzhou python  42\n"
     ]
    }
   ],
   "source": [
    "a,b = b,a\n",
    "print(a,b)"
   ]
  },
  {
   "cell_type": "code",
   "execution_count": 49,
   "metadata": {},
   "outputs": [
    {
     "data": {
      "text/plain": [
       "[3, 4, 5, 6, 7]"
      ]
     },
     "execution_count": 49,
     "metadata": {},
     "output_type": "execute_result"
    }
   ],
   "source": [
    "l = [1,2,3,4,5]\n",
    "l_plus_2 = [i+2 for i in l]\n",
    "l_plus_2"
   ]
  },
  {
   "cell_type": "code",
   "execution_count": null,
   "metadata": {
    "collapsed": true,
    "jupyter": {
     "outputs_hidden": true
    }
   },
   "outputs": [],
   "source": [
    "import pandas as pd\n",
    "import gzip\n",
    "\n",
    "%matplotlib inline"
   ]
  },
  {
   "cell_type": "code",
   "execution_count": null,
   "metadata": {
    "collapsed": true,
    "jupyter": {
     "outputs_hidden": true
    }
   },
   "outputs": [],
   "source": [
    "def parse(path):\n",
    "    g = gzip.open(path,'r')\n",
    "    for l in g:\n",
    "        yield eval(l)\n",
    "        \n",
    "def load_dataset(path:str)->pd.DataFrame:\n",
    "    df = [d for d in parse(path)]\n",
    "    return pd.DataFrame.from_dict(df)"
   ]
  },
  {
   "cell_type": "code",
   "execution_count": 23,
   "metadata": {},
   "outputs": [
    {
     "name": "stdout",
     "output_type": "stream",
     "text": [
      "1.75\n",
      "1\n"
     ]
    }
   ],
   "source": [
    "print(7/4)\n",
    "print(7//4)"
   ]
  },
  {
   "cell_type": "markdown",
   "metadata": {},
   "source": [
    "## 比较"
   ]
  },
  {
   "cell_type": "code",
   "execution_count": 26,
   "metadata": {},
   "outputs": [
    {
     "name": "stdout",
     "output_type": "stream",
     "text": [
      "True\n"
     ]
    }
   ],
   "source": [
    "x = 40\n",
    "y = 42\n",
    "z = 100\n",
    "print(x < y <=z)"
   ]
  },
  {
   "cell_type": "code",
   "execution_count": 51,
   "metadata": {},
   "outputs": [
    {
     "name": "stdout",
     "output_type": "stream",
     "text": [
      "False\n",
      "True\n",
      "True\n",
      "True\n"
     ]
    }
   ],
   "source": [
    "list1 = [1,2,3]\n",
    "list2 = [1,2,3]\n",
    "print(list1 is list2)\n",
    "print(list1 == list2)\n",
    "str1 = 'abc'\n",
    "str2 = 'abc'\n",
    "print(str2 is str1)\n",
    "print(str2 == str1)"
   ]
  },
  {
   "cell_type": "markdown",
   "metadata": {},
   "source": [
    "## 切片\n",
    "字符串本质上是一个List"
   ]
  },
  {
   "cell_type": "code",
   "execution_count": 50,
   "metadata": {
    "scrolled": true
   },
   "outputs": [
    {
     "name": "stdout",
     "output_type": "stream",
     "text": [
      "nmlkjihgfedcba\n",
      "acegikm\n",
      "beh\n",
      "abcdefghijklmn\n",
      "--------------------\n",
      "4369222896 4369222896\n",
      "4369222896 4369222896 4369222896\n"
     ]
    }
   ],
   "source": [
    "a = 'abcdefghijklmn'\n",
    "print(a[::-1])\n",
    "print(a[::2])\n",
    "print(a[1:10:3])\n",
    "print(a[:20])\n",
    "print('-'*20)\n",
    "b = 'hello world'\n",
    "c = b[:]\n",
    "print(id(b),id(c))\n",
    "d = b\n",
    "print(id(b),id(c),id(d))"
   ]
  },
  {
   "cell_type": "code",
   "execution_count": 59,
   "metadata": {},
   "outputs": [
    {
     "name": "stdout",
     "output_type": "stream",
     "text": [
      "[1, 2, 3, 4, 5] [1, 2, 3, 4, 5] [2, 4] [3]\n",
      "[5, 4, 3, 2, 1] [5, 4, 3, 2, 1] [5, 4] [5, 4, 3, 2] []\n"
     ]
    }
   ],
   "source": [
    "a = [1,2,3,4,5]\n",
    "print(a[:], a[::], a[1:5:2], a[2:5:4])\n",
    "print(a[::-1], a[4::-1], a[4:2:-1], a[4:0:-1], a[4:-1:-1])"
   ]
  },
  {
   "cell_type": "markdown",
   "metadata": {},
   "source": [
    "range 函数的使用，理解range返回的是一个迭代器，可以在上面使用切片。"
   ]
  },
  {
   "cell_type": "code",
   "execution_count": 6,
   "metadata": {},
   "outputs": [
    {
     "name": "stdout",
     "output_type": "stream",
     "text": [
      "12\n",
      "\n",
      "<class 'range'>\n",
      "0 3 6 9 12 15 18 21 24 27 30 33 36 39 42 45 48 51 54 57 60 63 66 69 72 75 78 81 84 87 90 93 96 99 [1, 2, 3]\n",
      "range(1, 3)\n"
     ]
    },
    {
     "data": {
      "text/plain": [
       "[[1, 2, 3],\n",
       " [4, 5, 6],\n",
       " [7, 8, 9],\n",
       " [10, 11, 12],\n",
       " [13, 14, 15],\n",
       " [16, 17, 18],\n",
       " [19, 20, 21],\n",
       " [22, 23, 24],\n",
       " [25, 26, 27],\n",
       " [28, 29, 30],\n",
       " [31, 32, 33],\n",
       " [34, 35, 36],\n",
       " [37, 38, 39],\n",
       " [40, 41, 42],\n",
       " [43, 44, 45],\n",
       " [46, 47, 48],\n",
       " [49, 50, 51],\n",
       " [52, 53, 54],\n",
       " [55, 56, 57],\n",
       " [58, 59, 60],\n",
       " [61, 62, 63],\n",
       " [64, 65, 66],\n",
       " [67, 68, 69],\n",
       " [70, 71, 72],\n",
       " [73, 74, 75],\n",
       " [76, 77, 78],\n",
       " [79, 80, 81],\n",
       " [82, 83, 84],\n",
       " [85, 86, 87],\n",
       " [88, 89, 90],\n",
       " [91, 92, 93],\n",
       " [94, 95, 96],\n",
       " [97, 98, 99],\n",
       " [100]]"
      ]
     },
     "execution_count": 6,
     "metadata": {},
     "output_type": "execute_result"
    }
   ],
   "source": [
    "for i in range(1,3):\n",
    "    print(i,end='')\n",
    "\n",
    "print('\\n')\n",
    "print(type(range(3)))    \n",
    "for i in range(0,100,3):\n",
    "    print(i,end=' ')\n",
    "print([1,2,3,4,5,6,7,8,9,10][0:3])\n",
    "print(range(1,6)[:2])#返回还是一个range\n",
    "[[num for num in re] for re in [range(1,101)[i:i+3] for i in range(0,100,3)]] #两个循环，一个是下标，一个是迭代\n"
   ]
  },
  {
   "cell_type": "markdown",
   "metadata": {},
   "source": [
    "## 格式化打印\n",
    "\n",
    "1. 字符串的format方法："
   ]
  },
  {
   "cell_type": "code",
   "execution_count": 42,
   "metadata": {},
   "outputs": [
    {
     "name": "stdout",
     "output_type": "stream",
     "text": [
      "Python's way one: string one and string two\n",
      "Python's way two: China and USA\n",
      "Python's way three,like c. String string one and string two\n"
     ]
    }
   ],
   "source": [
    "pyStr1 = 'string one'\n",
    "pyStr2 = 'string two'\n",
    "print('Python\\'s way one: {0} and {1}'.format(pyStr1,pyStr2))\n",
    "print('Python\\'s way two: {s1} and {s2}'.format(s1='China',s2='USA'))\n",
    "print('Python\\'s way three,like c. String %s and %s'%(pyStr1,pyStr2))"
   ]
  },
  {
   "cell_type": "markdown",
   "metadata": {},
   "source": [
    "类似于C的方法，用占位符。"
   ]
  },
  {
   "cell_type": "markdown",
   "metadata": {},
   "source": [
    "2. 字符串简单操作：\n",
    "split，strip，ltrip，rtrip，join"
   ]
  },
  {
   "cell_type": "markdown",
   "metadata": {
    "toc-hr-collapsed": true,
    "toc-nb-collapsed": true
   },
   "source": [
    "## 高级特性"
   ]
  },
  {
   "cell_type": "markdown",
   "metadata": {},
   "source": [
    "### 列表生成式 List Comprehensions"
   ]
  },
  {
   "cell_type": "code",
   "execution_count": 24,
   "metadata": {},
   "outputs": [
    {
     "data": {
      "text/plain": [
       "[1, 2, 3, 4, 5, 6, 7, 8, 9]"
      ]
     },
     "execution_count": 24,
     "metadata": {},
     "output_type": "execute_result"
    }
   ],
   "source": [
    "list(range(1,10))"
   ]
  },
  {
   "cell_type": "code",
   "execution_count": 26,
   "metadata": {},
   "outputs": [
    {
     "data": {
      "text/plain": [
       "[1, 4, 9, 16, 25, 36, 49, 64, 81]"
      ]
     },
     "execution_count": 26,
     "metadata": {},
     "output_type": "execute_result"
    }
   ],
   "source": [
    "[x*x for x in range(1,10)]"
   ]
  },
  {
   "cell_type": "code",
   "execution_count": 27,
   "metadata": {},
   "outputs": [
    {
     "data": {
      "text/plain": [
       "[4, 16, 36, 64]"
      ]
     },
     "execution_count": 27,
     "metadata": {},
     "output_type": "execute_result"
    }
   ],
   "source": [
    "[x*x for x in range(1,10) if x%2==0]"
   ]
  },
  {
   "cell_type": "code",
   "execution_count": 28,
   "metadata": {},
   "outputs": [
    {
     "data": {
      "text/plain": [
       "['AX', 'AY', 'AZ', 'BX', 'BY', 'BZ', 'CX', 'CY', 'CZ']"
      ]
     },
     "execution_count": 28,
     "metadata": {},
     "output_type": "execute_result"
    }
   ],
   "source": [
    "[m+n for m in 'ABC' for n in 'XYZ']"
   ]
  },
  {
   "cell_type": "code",
   "execution_count": 33,
   "metadata": {},
   "outputs": [
    {
     "data": {
      "text/plain": [
       "['Python-Data-Science-and-Machine-Learning-Bootcamp的副本',\n",
       " 'helloworld',\n",
       " 'abc',\n",
       " 'zhportbiz',\n",
       " 'atom-notebook',\n",
       " '.DS_Store',\n",
       " 'cheatsheets-ai',\n",
       " 'handson-ml',\n",
       " 'py-practice',\n",
       " 'Vitruvius',\n",
       " '.ipynb_checkpoints',\n",
       " 'hello',\n",
       " '.git',\n",
       " 'Python4DataScience.CH',\n",
       " 'nohup.out',\n",
       " '~']"
      ]
     },
     "execution_count": 33,
     "metadata": {},
     "output_type": "execute_result"
    }
   ],
   "source": [
    "import os\n",
    "[d for d in os.listdir('..')]"
   ]
  },
  {
   "cell_type": "markdown",
   "metadata": {},
   "source": [
    "这个写法挺特别，一般条件判断不是写在后边么？"
   ]
  },
  {
   "cell_type": "code",
   "execution_count": 56,
   "metadata": {},
   "outputs": [
    {
     "data": {
      "text/plain": [
       "[0, 2, 2, 6, 4, 10, 6, 14, 8, 18]"
      ]
     },
     "execution_count": 56,
     "metadata": {},
     "output_type": "execute_result"
    }
   ],
   "source": [
    "_list = [x if x % 2 == 0 else x* 2 for x in range(10)]\n",
    "_list"
   ]
  },
  {
   "cell_type": "code",
   "execution_count": 58,
   "metadata": {},
   "outputs": [
    {
     "ename": "SyntaxError",
     "evalue": "invalid syntax (<ipython-input-58-917b7b231b45>, line 1)",
     "output_type": "error",
     "traceback": [
      "\u001b[0;36m  File \u001b[0;32m\"<ipython-input-58-917b7b231b45>\"\u001b[0;36m, line \u001b[0;32m1\u001b[0m\n\u001b[0;31m    _list = [x*2 for x in range(10) if x%2==0 else x*2]\u001b[0m\n\u001b[0m                                                 ^\u001b[0m\n\u001b[0;31mSyntaxError\u001b[0m\u001b[0;31m:\u001b[0m invalid syntax\n"
     ]
    }
   ],
   "source": []
  },
  {
   "cell_type": "code",
   "execution_count": 34,
   "metadata": {},
   "outputs": [
    {
     "name": "stdout",
     "output_type": "stream",
     "text": [
      "x  =  A\n",
      "y  =  B\n",
      "z  =  C\n"
     ]
    }
   ],
   "source": [
    "d = {'x':'A','y':'B','z':'C'}\n",
    "for k,v in d.items():\n",
    "    print(k,' = ',v)"
   ]
  },
  {
   "cell_type": "code",
   "execution_count": 36,
   "metadata": {},
   "outputs": [
    {
     "data": {
      "text/plain": [
       "['hello', '1', '2', 'python']"
      ]
     },
     "execution_count": 36,
     "metadata": {},
     "output_type": "execute_result"
    }
   ],
   "source": [
    "L = ['Hello','1','2',183,'Python']\n",
    "[s.lower() for s in L if isinstance(s,str)]"
   ]
  },
  {
   "cell_type": "code",
   "execution_count": 54,
   "metadata": {},
   "outputs": [
    {
     "name": "stdout",
     "output_type": "stream",
     "text": [
      "[4, 8, 12]\n",
      "[5, 10, 15]\n",
      "[6, 12, 18]\n"
     ]
    }
   ],
   "source": [
    "a = [1, 2, 3]\n",
    "b = [4, 5, 6]\n",
    "\n",
    "product = [ [x * y for x in a] for y in b]\n",
    "for x in product:\n",
    "    print(x)"
   ]
  },
  {
   "cell_type": "markdown",
   "metadata": {},
   "source": [
    "### 生成器和yield"
   ]
  },
  {
   "cell_type": "code",
   "execution_count": 20,
   "metadata": {},
   "outputs": [
    {
     "name": "stdout",
     "output_type": "stream",
     "text": [
      "<generator object yield_test at 0x10b68ea98>\n",
      "in yield_test,i= 0\n",
      "out i= 0 ,\n",
      "i= 0\n",
      "in yield_test,i= 1\n",
      "out i= 2 ,\n",
      "i= 1\n",
      "do something.\n",
      "end.\n"
     ]
    }
   ],
   "source": [
    "def yield_test(n):  \n",
    "    for i in range(n):  \n",
    "        print(\"in yield_test,i=\",i)\n",
    "        #yield相当于return，完事了可以接着执行\n",
    "        yield call(i)  \n",
    "        print(\"i=\",i)  \n",
    "    #做一些其它的事情      \n",
    "    print(\"do something.\")      \n",
    "    print(\"end.\")  \n",
    "  \n",
    "def call(i):  \n",
    "    return i*2  \n",
    "\n",
    "# 调用函数的时候并没有执行，yield_test只是个对象\n",
    "print(yield_test(2))\n",
    "#使用for循环，才开始执行\n",
    "for i in yield_test(2):  \n",
    "    print(\"out i=\",i,\",\")\n"
   ]
  },
  {
   "cell_type": "markdown",
   "metadata": {},
   "source": [
    "#### 菲波齐纳数列\n",
    "\n",
    "* 使用yield，每次打印一个斐波那契数列的一个数字"
   ]
  },
  {
   "cell_type": "code",
   "execution_count": 40,
   "metadata": {},
   "outputs": [
    {
     "name": "stdout",
     "output_type": "stream",
     "text": [
      "1\n",
      "1\n",
      "2\n",
      "3\n",
      "5\n"
     ]
    }
   ],
   "source": [
    "def fib(max):\n",
    "    n,a,b = 0,0,1\n",
    "    while n<max:\n",
    "        yield b\n",
    "        a,b = b,a+b\n",
    "        n=n+1\n",
    "    return 'done'\n",
    "for n in fib(5):\n",
    "    print(n)"
   ]
  },
  {
   "cell_type": "markdown",
   "metadata": {},
   "source": [
    "* 递归求斐波那契数列"
   ]
  },
  {
   "cell_type": "code",
   "execution_count": 20,
   "metadata": {},
   "outputs": [
    {
     "name": "stdout",
     "output_type": "stream",
     "text": [
      "5\n",
      "1\n",
      "1\n",
      "2\n",
      "3\n",
      "5\n",
      "8\n"
     ]
    }
   ],
   "source": [
    "def fib2(max):\n",
    "    if max <= 1:\n",
    "        return 1\n",
    "    else:\n",
    "        return fib2(max-1)+fib2(max-2)\n",
    "        \n",
    "for i in range(6):\n",
    "    print(fib2(i))"
   ]
  },
  {
   "cell_type": "markdown",
   "metadata": {},
   "source": [
    "* 杨辉三角形"
   ]
  },
  {
   "cell_type": "code",
   "execution_count": 12,
   "metadata": {
    "scrolled": true
   },
   "outputs": [
    {
     "name": "stdout",
     "output_type": "stream",
     "text": [
      "[3, 3]\n",
      "[1]\n",
      "[1, 1]\n",
      "[1, 2, 1]\n",
      "[1, 3, 3, 1]\n",
      "[1, 4, 6, 4, 1]\n"
     ]
    }
   ],
   "source": [
    "l = [1,2,1]\n",
    "print([l[i]+l[i+1] for i in range(len(l)-1)])\n",
    "\n",
    "def triangles(max):\n",
    "    l = [1]\n",
    "    n = 0\n",
    "    while n < max:\n",
    "      yield l\n",
    "      l = [1]+[l[i]+l[i+1] for i in range(len(l)-1)]+[1]\n",
    "      n = n+1\n",
    "    return 'done'\n",
    "\n",
    "for n in triangles(5):\n",
    "    print(n)"
   ]
  },
  {
   "cell_type": "markdown",
   "metadata": {},
   "source": [
    "* 递归求和，分而治之。"
   ]
  },
  {
   "cell_type": "code",
   "execution_count": 26,
   "metadata": {},
   "outputs": [
    {
     "name": "stdout",
     "output_type": "stream",
     "text": [
      "15\n"
     ]
    }
   ],
   "source": [
    "l = [4,5,6]\n",
    "# l[i]+l[i+1:]\n",
    "i = 0\n",
    "def sum1(l):\n",
    "    if(l==[]):\n",
    "        return 0\n",
    "    return l[0]+sum1(l[1:])\n",
    "\n",
    "print(sum1(l))\n"
   ]
  },
  {
   "cell_type": "markdown",
   "metadata": {
    "toc-hr-collapsed": true,
    "toc-nb-collapsed": true
   },
   "source": [
    "## 函数参数"
   ]
  },
  {
   "cell_type": "markdown",
   "metadata": {
    "toc-hr-collapsed": true,
    "toc-nb-collapsed": true
   },
   "source": [
    "### 关键字参数"
   ]
  },
  {
   "cell_type": "code",
   "execution_count": 60,
   "metadata": {},
   "outputs": [
    {
     "name": "stdout",
     "output_type": "stream",
     "text": [
      "        Name Score\n",
      "--------------------\n",
      "         lhc 100\n",
      "        lhc2 90\n",
      "        lhc3 80\n",
      "\n",
      "        Name Score\n",
      "--------------------\n",
      "        john 20\n",
      "         tom 55\n"
     ]
    }
   ],
   "source": [
    "def printscore(**kw):\n",
    "    print(' '*8+'Name '+'Score')\n",
    "    print('-'*20)\n",
    "    for k,v in kw.items():\n",
    "        print('%12s %d'%(k,v))\n",
    "        \n",
    "data = {\n",
    "    'lhc':100,\n",
    "    'lhc2':90,\n",
    "    'lhc3':80\n",
    "}\n",
    "\n",
    "printscore(**data)\n",
    "print()\n",
    "printscore(john=20,tom=55)"
   ]
  },
  {
   "cell_type": "markdown",
   "metadata": {},
   "source": [
    "### 命名关键字参数\n",
    "命名关键字的函数，调用时必须传入参数规定的名字，这一点跟函数普通的调用不同。"
   ]
  },
  {
   "cell_type": "code",
   "execution_count": 48,
   "metadata": {
    "scrolled": true
   },
   "outputs": [
    {
     "name": "stdout",
     "output_type": "stream",
     "text": [
      "Personal Info\n",
      "---------------\n",
      "   Name: Bob\n",
      " Gender: male\n",
      "   City: Beijing\n",
      "    Age: 20\n",
      "\n",
      "Personal Info\n",
      "---------------\n",
      "   Name: Lisa\n",
      " Gender: female\n",
      "   City: Shanghai\n",
      "    Age: 18\n",
      "\n"
     ]
    }
   ],
   "source": [
    "def print_info(name, *, gender, city='Beijing', age):\n",
    "    print('Personal Info')\n",
    "    print('---------------')\n",
    "    print('   Name: %s' % name)\n",
    "    print(' Gender: %s' % gender)\n",
    "    print('   City: %s' % city)\n",
    "    print('    Age: %s' % age)\n",
    "    print()\n",
    "\n",
    "print_info('Bob', gender='male', age=20)\n",
    "print_info('Lisa', gender='female', city='Shanghai', age=18)"
   ]
  },
  {
   "cell_type": "markdown",
   "metadata": {},
   "source": [
    "### 可变参数"
   ]
  },
  {
   "cell_type": "code",
   "execution_count": 5,
   "metadata": {},
   "outputs": [
    {
     "data": {
      "text/plain": [
       "14"
      ]
     },
     "execution_count": 5,
     "metadata": {},
     "output_type": "execute_result"
    }
   ],
   "source": [
    "def calc(*nums):\n",
    "    sum = 0\n",
    "    for i in nums:\n",
    "        sum = sum + i*i\n",
    "    return sum\n",
    "\n",
    "calc(1,2,3)"
   ]
  },
  {
   "cell_type": "code",
   "execution_count": 111,
   "metadata": {},
   "outputs": [
    {
     "name": "stdout",
     "output_type": "stream",
     "text": [
      "nobody\n",
      "['*', '-2', '-2', 'Unprivileged User'] /var/empty\n"
     ]
    },
    {
     "data": {
      "text/plain": [
       "['773-555-1212', '847-555-1212']"
      ]
     },
     "execution_count": 111,
     "metadata": {},
     "output_type": "execute_result"
    }
   ],
   "source": [
    "#来自于python cookbook 3rd Edition\n",
    "line = 'nobody:*:-2:-2:Unprivileged User:/var/empty:/usr/bin/false'\n",
    "uname, *fields, homedir, sh = line.split(':')\n",
    "print(uname)\n",
    "print(fields,homedir)#不明白断开的位置。\n",
    "\n",
    "record = ('Dave', 'dave@example.com', '773-555-1212', '847-555-1212')\n",
    "# 用星号代替的永远都是List类型\n",
    "name, email, *phone_numbers = record\n",
    "phone_numbers"
   ]
  },
  {
   "cell_type": "code",
   "execution_count": 13,
   "metadata": {},
   "outputs": [
    {
     "name": "stdout",
     "output_type": "stream",
     "text": [
      "['something', 'AAA', 1.11, 'AAA', 1.11]\n",
      "['something', 'AAA', 1.11, 'AAA', 1.11, ['AAA', 1.11]]\n"
     ]
    }
   ],
   "source": [
    "t = ('AAA',1.11)\n",
    "result = ['something']\n",
    "result = result + list(t)\n",
    "result = result + list(t)\n",
    "print(result)\n",
    "result.append(list(t))\n",
    "print(result)"
   ]
  },
  {
   "cell_type": "markdown",
   "metadata": {},
   "source": [
    "## 函数式编程\n",
    "把函数当做参数传入，这样的函数称为高阶函数，这样高度抽象的编程范式可以称之为函数式编程。"
   ]
  },
  {
   "cell_type": "code",
   "execution_count": 6,
   "metadata": {},
   "outputs": [
    {
     "data": {
      "text/plain": [
       "50"
      ]
     },
     "execution_count": 6,
     "metadata": {},
     "output_type": "execute_result"
    }
   ],
   "source": [
    "f = abs\n",
    "f(-50)\n"
   ]
  },
  {
   "cell_type": "markdown",
   "metadata": {},
   "source": [
    "### map()函数\n",
    "接收两个参数，一个是函数，一个是 Iterable， \n",
    "map 将传入的函数依次作用到序列的每个元素，并把结果作为新的 Iterator 返回。\n",
    "做为传入参数的函数，需要return值。\n",
    "\n",
    "字符串也是一个list。"
   ]
  },
  {
   "cell_type": "code",
   "execution_count": 20,
   "metadata": {},
   "outputs": [
    {
     "name": "stdout",
     "output_type": "stream",
     "text": [
      "['Adma', 'Lisa', 'Bart']\n"
     ]
    }
   ],
   "source": [
    "def normalize(name):\n",
    "    return name.capitalize()\n",
    "L1 = ['adma','LISA','barT']\n",
    "L2 = list(map(normalize,L1))\n",
    "print(L2)"
   ]
  },
  {
   "cell_type": "markdown",
   "metadata": {},
   "source": [
    "### reduce()函数  \n",
    "函数把一个函数作用在一个序列[x1, x2, x3, ...] 上，这个函数必须接收两个参数\n",
    "reduce 把结果继续和序列的下一个元 素做累积计算，其效果就是："
   ]
  },
  {
   "cell_type": "code",
   "execution_count": 23,
   "metadata": {},
   "outputs": [
    {
     "data": {
      "text/plain": [
       "105"
      ]
     },
     "execution_count": 23,
     "metadata": {},
     "output_type": "execute_result"
    }
   ],
   "source": [
    "from functools import reduce\n",
    "def prod(x,y):\n",
    "    return x*y\n",
    "reduce(prod,[3,5,7])"
   ]
  },
  {
   "cell_type": "code",
   "execution_count": 36,
   "metadata": {},
   "outputs": [
    {
     "name": "stdout",
     "output_type": "stream",
     "text": [
      "[2, 5, 6]\n"
     ]
    },
    {
     "data": {
      "text/plain": [
       "101.256"
      ]
     },
     "execution_count": 36,
     "metadata": {},
     "output_type": "execute_result"
    }
   ],
   "source": [
    "s = '101.256'\n",
    "s = s.split('.')\n",
    "list(map(int,s[0]))\n",
    "print(list(map(int,s[1])))\n",
    "def prod1(x,y):\n",
    "    return x*10+y\n",
    "def prod2(x,y):\n",
    "    return x/10+y\n",
    "a = reduce(prod1,list(map(int,s[0])))\n",
    "b = reduce(prod2,list(map(int,s[1][::-1])))/10\n",
    "a\n",
    "b\n",
    "a+b"
   ]
  },
  {
   "cell_type": "markdown",
   "metadata": {},
   "source": [
    "### filter()函数 "
   ]
  },
  {
   "cell_type": "code",
   "execution_count": 97,
   "metadata": {},
   "outputs": [
    {
     "name": "stdout",
     "output_type": "stream",
     "text": [
      "3,5,7,9,11,13,15,17,19,21,23,25,27,29,31,33,35,37,39,41,43,45,47,49,51,53,55,57,59,61,63,65,67,69,71,73,75,77,79,81,83,85,87,89,91,93,95,97,99,101,"
     ]
    }
   ],
   "source": [
    "def odd_iter():\n",
    "    n = 1\n",
    "    while True:\n",
    "        n = n+2\n",
    "        yield n\n",
    "\n",
    "for i in odd_iter():\n",
    "    print(str(i)+',',end='')\n",
    "    if i >100:\n",
    "        break\n",
    "    \n"
   ]
  },
  {
   "cell_type": "markdown",
   "metadata": {},
   "source": [
    "filter()返回的是一个迭代器，必须用list转换,一旦使用list，就把数据都放到内存中去了。"
   ]
  },
  {
   "cell_type": "code",
   "execution_count": 15,
   "metadata": {},
   "outputs": [
    {
     "name": "stdout",
     "output_type": "stream",
     "text": [
      "1~500: [1, 2, 3, 4, 5, 6, 7, 8, 9, 11, 22, 33, 44, 55, 66, 77, 88, 99, 101, 111, 121, 131, 141, 151, 161, 171, 181, 191, 202, 212, 222, 232, 242, 252, 262, 272, 282, 292, 303, 313, 323, 333, 343, 353, 363, 373, 383, 393, 404, 414, 424, 434, 444, 454, 464, 474, 484, 494, 505, 515, 525, 535, 545, 555, 565, 575, 585, 595, 606, 616, 626, 636, 646, 656, 666, 676, 686, 696, 707, 717, 727, 737, 747, 757, 767, 777, 787, 797, 808, 818, 828, 838, 848, 858, 868, 878, 888, 898, 909, 919, 929, 939, 949, 959, 969, 979, 989, 999]\n",
      "测试成功!\n"
     ]
    }
   ],
   "source": [
    "def is_palindrome(n):\n",
    "    s1 = str(n)\n",
    "    return s1 == s1[::-1]\n",
    "\n",
    "output = filter(is_palindrome, range(1, 1000))\n",
    "print('1~500:', list(output))\n",
    "if list(filter(is_palindrome, range(1, 200))) == [1, 2, 3, 4, 5, 6, 7, 8, 9, 11, 22, 33, 44, 55, 66, 77, 88, 99, 101, 111, 121, 131, 141, 151, 161, 171, 181, 191]:\n",
    "    print('测试成功!')\n",
    "else:\n",
    "    print('测试失败!')\n"
   ]
  },
  {
   "cell_type": "markdown",
   "metadata": {},
   "source": [
    "### sorted函数"
   ]
  },
  {
   "cell_type": "code",
   "execution_count": 50,
   "metadata": {},
   "outputs": [
    {
     "name": "stdout",
     "output_type": "stream",
     "text": [
      "Bob\n",
      "Adam\n",
      "aart\n",
      "Lisa\n",
      "[('aart', 66), ('Adam', 92), ('Bob', 75), ('Lisa', 88)]\n"
     ]
    }
   ],
   "source": [
    "L = [('Bob', 75), ('Adam', 92), ('aart', 66), ('Lisa', 88)]\n",
    "\n",
    "def by_name(t):\n",
    "    print(t[0])\n",
    "    s = t[0].lower()\n",
    "    return s\n",
    "L1 = sorted(L,key=by_name)\n",
    "print(L1)"
   ]
  },
  {
   "cell_type": "markdown",
   "metadata": {},
   "source": [
    "### lambda 匿名函数"
   ]
  },
  {
   "cell_type": "code",
   "execution_count": 22,
   "metadata": {},
   "outputs": [
    {
     "data": {
      "text/plain": [
       "[2, 4, 6, 8, 10, 12, 14, 16, 18]"
      ]
     },
     "execution_count": 22,
     "metadata": {},
     "output_type": "execute_result"
    }
   ],
   "source": [
    "L = list(filter(lambda x:x%2==0, range(1, 20)))\n",
    "L"
   ]
  },
  {
   "cell_type": "markdown",
   "metadata": {},
   "source": [
    "### 装饰器 "
   ]
  },
  {
   "cell_type": "code",
   "execution_count": 21,
   "metadata": {},
   "outputs": [
    {
     "name": "stdout",
     "output_type": "stream",
     "text": [
      "wrapper is {0} <function log.<locals>.wrapper at 0x1066438c8>\n",
      "call now(): <function now at 0x1064d3048>\n",
      "2015-3-25\n",
      "now现在指向了wrapper， <function log.<locals>.wrapper at 0x1066438c8>\n",
      "call now(): <function now at 0x1064d3048>\n",
      "2015-3-25\n"
     ]
    }
   ],
   "source": [
    "def log(func):\n",
    "    def wrapper(*args, **kw):\n",
    "        print('call %s():' % func.__name__,func)\n",
    "        return func(*args, **kw)\n",
    "    print('wrapper is {0}',wrapper)\n",
    "    return wrapper\n",
    "@log\n",
    "def now():\n",
    "    print('2015-3-25')\n",
    "#相当于执行了 now=log(now)\n",
    "now()\n",
    "print('now现在指向了wrapper，',now)\n",
    "#再次执行时，只执行了wrapper里边的语句。now的指向变了。\n",
    "now()"
   ]
  },
  {
   "cell_type": "markdown",
   "metadata": {
    "toc-hr-collapsed": true,
    "toc-nb-collapsed": true
   },
   "source": [
    "## 文件IO"
   ]
  },
  {
   "cell_type": "markdown",
   "metadata": {},
   "source": [
    "这个mode参数可以是\n",
    "* 'r' 只读模式（when the file will only be read）\n",
    "* 'w' 只写模式（与一个现存文件文件同名，则被清除）\n",
    "* 'a' 添加模式，即任意写入文件的数据都被自动添加到末尾\n",
    "* 'r+' 打开文件，可以读、写"
   ]
  },
  {
   "cell_type": "code",
   "execution_count": 94,
   "metadata": {},
   "outputs": [
    {
     "name": "stdout",
     "output_type": "stream",
     "text": [
      "1 3 3 3 3 3 , 2 , 3 d d d d \n",
      " "
     ]
    }
   ],
   "source": [
    "import sys\n",
    "f = open('./1.txt','r')\n",
    "f.read()\n",
    "f.close()\n",
    "\n",
    "with open ('./1.txt','r') as f:\n",
    "    for line in f.readline():\n",
    "        print(line,end=' ')"
   ]
  },
  {
   "cell_type": "code",
   "execution_count": 13,
   "metadata": {},
   "outputs": [
    {
     "name": "stdout",
     "output_type": "stream",
     "text": [
      "101\n"
     ]
    }
   ],
   "source": [
    "def findmax(l):\n",
    "    max_num = l[0]\n",
    "    max_index = 0\n",
    "    for i in range(1,len(l)-1):\n",
    "        if max_num < l[i]:\n",
    "            max_num = l[i]\n",
    "            max_index = i\n",
    "    return max_index\n",
    "\n",
    "l = [5,54,98,101,3,21,44]\n",
    "i = findmax(l)\n",
    "print(l[i])"
   ]
  }
 ],
 "metadata": {
  "jupytext": {
   "formats": "ipynb,py:percent"
  },
  "kernelspec": {
   "display_name": "Python 3",
   "language": "python",
   "name": "python3"
  },
  "language_info": {
   "codemirror_mode": {
    "name": "ipython",
    "version": 3
   },
   "file_extension": ".py",
   "mimetype": "text/x-python",
   "name": "python",
   "nbconvert_exporter": "python",
   "pygments_lexer": "ipython3",
   "version": "3.8.2"
  },
  "toc": {
   "nav_menu": {
    "height": "197px",
    "width": "255px"
   },
   "number_sections": true,
   "sideBar": true,
   "skip_h1_title": false,
   "toc_cell": false,
   "toc_position": {},
   "toc_section_display": "block",
   "toc_window_display": true
  }
 },
 "nbformat": 4,
 "nbformat_minor": 4
}
