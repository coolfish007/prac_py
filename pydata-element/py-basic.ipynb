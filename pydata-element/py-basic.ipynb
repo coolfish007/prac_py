{
 "cells": [
  {
   "cell_type": "markdown",
   "metadata": {},
   "source": [
    "# Practice of Python Elemnets\n",
    "17年遗留的内容.   \n",
    "20年在wcmatch包之后的内容移至py-element"
   ]
  },
  {
   "cell_type": "markdown",
   "metadata": {},
   "source": [
    "## list"
   ]
  },
  {
   "cell_type": "code",
   "execution_count": 45,
   "metadata": {},
   "outputs": [
    {
     "data": {
      "text/plain": [
       "[1, 6, 7, 3, 8, 4, 2, 9]"
      ]
     },
     "execution_count": 45,
     "metadata": {},
     "output_type": "execute_result"
    }
   ],
   "source": [
    "l = [1, 6, 7, 3, 8, 4, 2, 9, 5]\n",
    "p = l[-1]\n",
    "l[:-1]"
   ]
  },
  {
   "cell_type": "code",
   "execution_count": 13,
   "metadata": {},
   "outputs": [
    {
     "data": {
      "text/plain": [
       "[1, 3, 4, 2, 5, 6, 7, 8, 9]"
      ]
     },
     "execution_count": 13,
     "metadata": {},
     "output_type": "execute_result"
    }
   ],
   "source": [
    "l = [x for x in l[:-1] if x < p] + [p] + [x for x in l[:-1] if x > p]\n",
    "l"
   ]
  },
  {
   "cell_type": "code",
   "execution_count": 47,
   "metadata": {},
   "outputs": [
    {
     "name": "stdout",
     "output_type": "stream",
     "text": [
      "<class 'int'>\n",
      "4330276736\n",
      "guangzhou python guangzhou python \n"
     ]
    }
   ],
   "source": [
    "a = 42\n",
    "print(type(a))\n",
    "print(id(a))\n",
    "b = \"guangzhou python \"\n",
    "print(b * 2)"
   ]
  },
  {
   "cell_type": "code",
   "execution_count": 48,
   "metadata": {},
   "outputs": [
    {
     "name": "stdout",
     "output_type": "stream",
     "text": [
      "guangzhou python  42\n"
     ]
    }
   ],
   "source": [
    "a, b = b, a\n",
    "print(a, b)"
   ]
  },
  {
   "cell_type": "code",
   "execution_count": 49,
   "metadata": {},
   "outputs": [
    {
     "data": {
      "text/plain": [
       "[3, 4, 5, 6, 7]"
      ]
     },
     "execution_count": 49,
     "metadata": {},
     "output_type": "execute_result"
    }
   ],
   "source": [
    "l = [1, 2, 3, 4, 5]\n",
    "l_plus_2 = [i + 2 for i in l]\n",
    "l_plus_2"
   ]
  },
  {
   "cell_type": "code",
   "execution_count": null,
   "metadata": {
    "collapsed": true,
    "jupyter": {
     "outputs_hidden": true
    }
   },
   "outputs": [],
   "source": [
    "import pandas as pd\n",
    "import gzip\n",
    "\n",
    "%matplotlib inline"
   ]
  },
  {
   "cell_type": "code",
   "execution_count": null,
   "metadata": {
    "collapsed": true,
    "jupyter": {
     "outputs_hidden": true
    }
   },
   "outputs": [],
   "source": [
    "def parse(path):\n",
    "    g = gzip.open(path, \"r\")\n",
    "    for l in g:\n",
    "        yield eval(l)\n",
    "\n",
    "\n",
    "def load_dataset(path: str) -> pd.DataFrame:\n",
    "    df = [d for d in parse(path)]\n",
    "    return pd.DataFrame.from_dict(df)"
   ]
  },
  {
   "cell_type": "code",
   "execution_count": 23,
   "metadata": {},
   "outputs": [
    {
     "name": "stdout",
     "output_type": "stream",
     "text": [
      "1.75\n",
      "1\n"
     ]
    }
   ],
   "source": [
    "print(7 / 4)\n",
    "print(7 // 4)"
   ]
  },
  {
   "cell_type": "markdown",
   "metadata": {},
   "source": [
    "## 比较"
   ]
  },
  {
   "cell_type": "code",
   "execution_count": 26,
   "metadata": {},
   "outputs": [
    {
     "name": "stdout",
     "output_type": "stream",
     "text": [
      "True\n"
     ]
    }
   ],
   "source": [
    "x = 40\n",
    "y = 42\n",
    "z = 100\n",
    "print(x < y <= z)"
   ]
  },
  {
   "cell_type": "code",
   "execution_count": 51,
   "metadata": {},
   "outputs": [
    {
     "name": "stdout",
     "output_type": "stream",
     "text": [
      "False\n",
      "True\n",
      "True\n",
      "True\n"
     ]
    }
   ],
   "source": [
    "list1 = [1, 2, 3]\n",
    "list2 = [1, 2, 3]\n",
    "print(list1 is list2)\n",
    "print(list1 == list2)\n",
    "str1 = \"abc\"\n",
    "str2 = \"abc\"\n",
    "print(str2 is str1)\n",
    "print(str2 == str1)"
   ]
  },
  {
   "cell_type": "markdown",
   "metadata": {},
   "source": [
    "## 切片\n",
    "字符串本质上是一个List"
   ]
  },
  {
   "cell_type": "code",
   "execution_count": 50,
   "metadata": {
    "scrolled": true
   },
   "outputs": [
    {
     "name": "stdout",
     "output_type": "stream",
     "text": [
      "nmlkjihgfedcba\n",
      "acegikm\n",
      "beh\n",
      "abcdefghijklmn\n",
      "--------------------\n",
      "4369222896 4369222896\n",
      "4369222896 4369222896 4369222896\n"
     ]
    }
   ],
   "source": [
    "a = \"abcdefghijklmn\"\n",
    "print(a[::-1])\n",
    "print(a[::2])\n",
    "print(a[1:10:3])\n",
    "print(a[:20])\n",
    "print(\"-\" * 20)\n",
    "b = \"hello world\"\n",
    "c = b[:]\n",
    "print(id(b), id(c))\n",
    "d = b\n",
    "print(id(b), id(c), id(d))"
   ]
  },
  {
   "cell_type": "code",
   "execution_count": 59,
   "metadata": {},
   "outputs": [
    {
     "name": "stdout",
     "output_type": "stream",
     "text": [
      "[1, 2, 3, 4, 5] [1, 2, 3, 4, 5] [2, 4] [3]\n",
      "[5, 4, 3, 2, 1] [5, 4, 3, 2, 1] [5, 4] [5, 4, 3, 2] []\n"
     ]
    }
   ],
   "source": [
    "a = [1, 2, 3, 4, 5]\n",
    "print(a[:], a[::], a[1:5:2], a[2:5:4])\n",
    "print(a[::-1], a[4::-1], a[4:2:-1], a[4:0:-1], a[4:-1:-1])"
   ]
  },
  {
   "cell_type": "markdown",
   "metadata": {},
   "source": [
    "range 函数的使用，理解range返回的是一个迭代器，可以在上面使用切片。"
   ]
  },
  {
   "cell_type": "code",
   "execution_count": 6,
   "metadata": {
    "lines_to_next_cell": 2
   },
   "outputs": [
    {
     "name": "stdout",
     "output_type": "stream",
     "text": [
      "12\n",
      "\n",
      "<class 'range'>\n",
      "0 3 6 9 12 15 18 21 24 27 30 33 36 39 42 45 48 51 54 57 60 63 66 69 72 75 78 81 84 87 90 93 96 99 [1, 2, 3]\n",
      "range(1, 3)\n"
     ]
    },
    {
     "data": {
      "text/plain": [
       "[[1, 2, 3],\n",
       " [4, 5, 6],\n",
       " [7, 8, 9],\n",
       " [10, 11, 12],\n",
       " [13, 14, 15],\n",
       " [16, 17, 18],\n",
       " [19, 20, 21],\n",
       " [22, 23, 24],\n",
       " [25, 26, 27],\n",
       " [28, 29, 30],\n",
       " [31, 32, 33],\n",
       " [34, 35, 36],\n",
       " [37, 38, 39],\n",
       " [40, 41, 42],\n",
       " [43, 44, 45],\n",
       " [46, 47, 48],\n",
       " [49, 50, 51],\n",
       " [52, 53, 54],\n",
       " [55, 56, 57],\n",
       " [58, 59, 60],\n",
       " [61, 62, 63],\n",
       " [64, 65, 66],\n",
       " [67, 68, 69],\n",
       " [70, 71, 72],\n",
       " [73, 74, 75],\n",
       " [76, 77, 78],\n",
       " [79, 80, 81],\n",
       " [82, 83, 84],\n",
       " [85, 86, 87],\n",
       " [88, 89, 90],\n",
       " [91, 92, 93],\n",
       " [94, 95, 96],\n",
       " [97, 98, 99],\n",
       " [100]]"
      ]
     },
     "execution_count": 6,
     "metadata": {},
     "output_type": "execute_result"
    }
   ],
   "source": [
    "for i in range(1, 3):\n",
    "    print(i, end=\"\")\n",
    "\n",
    "print(\"\\n\")\n",
    "print(type(range(3)))\n",
    "for i in range(0, 100, 3):\n",
    "    print(i, end=\" \")\n",
    "print([1, 2, 3, 4, 5, 6, 7, 8, 9, 10][0:3])\n",
    "print(range(1, 6)[:2])  # 返回还是一个range\n",
    "[\n",
    "    [num for num in re] for re in [range(1, 101)[i : i + 3] for i in range(0, 100, 3)]\n",
    "]  # 两个循环，一个是下标，一个是迭代"
   ]
  },
  {
   "cell_type": "markdown",
   "metadata": {},
   "source": [
    "## 格式化打印\n",
    "\n",
    "1. 字符串的format方法："
   ]
  },
  {
   "cell_type": "code",
   "execution_count": 42,
   "metadata": {},
   "outputs": [
    {
     "name": "stdout",
     "output_type": "stream",
     "text": [
      "Python's way one: string one and string two\n",
      "Python's way two: China and USA\n",
      "Python's way three,like c. String string one and string two\n"
     ]
    }
   ],
   "source": [
    "pyStr1 = \"string one\"\n",
    "pyStr2 = \"string two\"\n",
    "print(\"Python's way one: {0} and {1}\".format(pyStr1, pyStr2))\n",
    "print(\"Python's way two: {s1} and {s2}\".format(s1=\"China\", s2=\"USA\"))\n",
    "print(\"Python's way three,like c. String %s and %s\" % (pyStr1, pyStr2))"
   ]
  },
  {
   "cell_type": "markdown",
   "metadata": {},
   "source": [
    "类似于C的方法，用占位符。"
   ]
  },
  {
   "cell_type": "markdown",
   "metadata": {},
   "source": [
    "2. 字符串简单操作：\n",
    "split，strip，ltrip，rtrip，join"
   ]
  },
  {
   "cell_type": "markdown",
   "metadata": {
    "incorrectly_encoded_metadata": "toc-hr-collapsed=true toc-nb-collapsed=true"
   },
   "source": [
    "## 高级特性"
   ]
  },
  {
   "cell_type": "markdown",
   "metadata": {},
   "source": [
    "### 列表生成式 List Comprehensions"
   ]
  },
  {
   "cell_type": "code",
   "execution_count": 24,
   "metadata": {},
   "outputs": [
    {
     "data": {
      "text/plain": [
       "[1, 2, 3, 4, 5, 6, 7, 8, 9]"
      ]
     },
     "execution_count": 24,
     "metadata": {},
     "output_type": "execute_result"
    }
   ],
   "source": [
    "list(range(1, 10))"
   ]
  },
  {
   "cell_type": "code",
   "execution_count": 26,
   "metadata": {},
   "outputs": [
    {
     "data": {
      "text/plain": [
       "[1, 4, 9, 16, 25, 36, 49, 64, 81]"
      ]
     },
     "execution_count": 26,
     "metadata": {},
     "output_type": "execute_result"
    }
   ],
   "source": [
    "[x * x for x in range(1, 10)]"
   ]
  },
  {
   "cell_type": "code",
   "execution_count": 27,
   "metadata": {},
   "outputs": [
    {
     "data": {
      "text/plain": [
       "[4, 16, 36, 64]"
      ]
     },
     "execution_count": 27,
     "metadata": {},
     "output_type": "execute_result"
    }
   ],
   "source": [
    "[x * x for x in range(1, 10) if x % 2 == 0]"
   ]
  },
  {
   "cell_type": "code",
   "execution_count": 28,
   "metadata": {},
   "outputs": [
    {
     "data": {
      "text/plain": [
       "['AX', 'AY', 'AZ', 'BX', 'BY', 'BZ', 'CX', 'CY', 'CZ']"
      ]
     },
     "execution_count": 28,
     "metadata": {},
     "output_type": "execute_result"
    }
   ],
   "source": [
    "[m + n for m in \"ABC\" for n in \"XYZ\"]"
   ]
  },
  {
   "cell_type": "code",
   "execution_count": 33,
   "metadata": {},
   "outputs": [
    {
     "data": {
      "text/plain": [
       "['Python-Data-Science-and-Machine-Learning-Bootcamp的副本',\n",
       " 'helloworld',\n",
       " 'abc',\n",
       " 'zhportbiz',\n",
       " 'atom-notebook',\n",
       " '.DS_Store',\n",
       " 'cheatsheets-ai',\n",
       " 'handson-ml',\n",
       " 'py-practice',\n",
       " 'Vitruvius',\n",
       " '.ipynb_checkpoints',\n",
       " 'hello',\n",
       " '.git',\n",
       " 'Python4DataScience.CH',\n",
       " 'nohup.out',\n",
       " '~']"
      ]
     },
     "execution_count": 33,
     "metadata": {},
     "output_type": "execute_result"
    }
   ],
   "source": [
    "import os\n",
    "\n",
    "[d for d in os.listdir(\"..\")]"
   ]
  },
  {
   "cell_type": "markdown",
   "metadata": {},
   "source": [
    "这个写法挺特别，一般条件判断不是写在后边么？"
   ]
  },
  {
   "cell_type": "code",
   "execution_count": 56,
   "metadata": {},
   "outputs": [
    {
     "data": {
      "text/plain": [
       "[0, 2, 2, 6, 4, 10, 6, 14, 8, 18]"
      ]
     },
     "execution_count": 56,
     "metadata": {},
     "output_type": "execute_result"
    }
   ],
   "source": [
    "_list = [x if x % 2 == 0 else x * 2 for x in range(10)]\n",
    "_list"
   ]
  },
  {
   "cell_type": "code",
   "execution_count": 58,
   "metadata": {},
   "outputs": [
    {
     "ename": "SyntaxError",
     "evalue": "invalid syntax (<ipython-input-58-917b7b231b45>, line 1)",
     "output_type": "error",
     "traceback": [
      "\u001b[0;36m  File \u001b[0;32m\"<ipython-input-58-917b7b231b45>\"\u001b[0;36m, line \u001b[0;32m1\u001b[0m\n\u001b[0;31m    _list = [x*2 for x in range(10) if x%2==0 else x*2]\u001b[0m\n\u001b[0m                                                 ^\u001b[0m\n\u001b[0;31mSyntaxError\u001b[0m\u001b[0;31m:\u001b[0m invalid syntax\n"
     ]
    }
   ],
   "source": []
  },
  {
   "cell_type": "code",
   "execution_count": 34,
   "metadata": {},
   "outputs": [
    {
     "name": "stdout",
     "output_type": "stream",
     "text": [
      "x  =  A\n",
      "y  =  B\n",
      "z  =  C\n"
     ]
    }
   ],
   "source": [
    "d = {\"x\": \"A\", \"y\": \"B\", \"z\": \"C\"}\n",
    "for k, v in d.items():\n",
    "    print(k, \" = \", v)"
   ]
  },
  {
   "cell_type": "code",
   "execution_count": 36,
   "metadata": {},
   "outputs": [
    {
     "data": {
      "text/plain": [
       "['hello', '1', '2', 'python']"
      ]
     },
     "execution_count": 36,
     "metadata": {},
     "output_type": "execute_result"
    }
   ],
   "source": [
    "L = [\"Hello\", \"1\", \"2\", 183, \"Python\"]\n",
    "[s.lower() for s in L if isinstance(s, str)]"
   ]
  },
  {
   "cell_type": "code",
   "execution_count": 54,
   "metadata": {},
   "outputs": [
    {
     "name": "stdout",
     "output_type": "stream",
     "text": [
      "[4, 8, 12]\n",
      "[5, 10, 15]\n",
      "[6, 12, 18]\n"
     ]
    }
   ],
   "source": [
    "a = [1, 2, 3]\n",
    "b = [4, 5, 6]\n",
    "\n",
    "product = [[x * y for x in a] for y in b]\n",
    "for x in product:\n",
    "    print(x)"
   ]
  },
  {
   "cell_type": "markdown",
   "metadata": {},
   "source": [
    "### 生成器和yield"
   ]
  },
  {
   "cell_type": "code",
   "execution_count": 20,
   "metadata": {},
   "outputs": [
    {
     "name": "stdout",
     "output_type": "stream",
     "text": [
      "<generator object yield_test at 0x10b68ea98>\n",
      "in yield_test,i= 0\n",
      "out i= 0 ,\n",
      "i= 0\n",
      "in yield_test,i= 1\n",
      "out i= 2 ,\n",
      "i= 1\n",
      "do something.\n",
      "end.\n"
     ]
    }
   ],
   "source": [
    "def yield_test(n):\n",
    "    for i in range(n):\n",
    "        print(\"in yield_test,i=\", i)\n",
    "        # yield相当于return，完事了可以接着执行\n",
    "        yield call(i)\n",
    "        print(\"i=\", i)\n",
    "    # 做一些其它的事情\n",
    "    print(\"do something.\")\n",
    "    print(\"end.\")\n",
    "\n",
    "\n",
    "def call(i):\n",
    "    return i * 2\n",
    "\n",
    "\n",
    "# 调用函数的时候并没有执行，yield_test只是个对象\n",
    "print(yield_test(2))\n",
    "# 使用for循环，才开始执行\n",
    "for i in yield_test(2):\n",
    "    print(\"out i=\", i, \",\")"
   ]
  },
  {
   "cell_type": "markdown",
   "metadata": {},
   "source": [
    "#### 菲波齐纳数列\n",
    "\n",
    "* 使用yield，每次打印一个斐波那契数列的一个数字"
   ]
  },
  {
   "cell_type": "code",
   "execution_count": 40,
   "metadata": {},
   "outputs": [
    {
     "name": "stdout",
     "output_type": "stream",
     "text": [
      "1\n",
      "1\n",
      "2\n",
      "3\n",
      "5\n"
     ]
    }
   ],
   "source": [
    "def fib(max):\n",
    "    n, a, b = 0, 0, 1\n",
    "    while n < max:\n",
    "        yield b\n",
    "        a, b = b, a + b\n",
    "        n = n + 1\n",
    "    return \"done\"\n",
    "\n",
    "\n",
    "for n in fib(5):\n",
    "    print(n)"
   ]
  },
  {
   "cell_type": "markdown",
   "metadata": {},
   "source": [
    "* 递归求斐波那契数列"
   ]
  },
  {
   "cell_type": "code",
   "execution_count": 20,
   "metadata": {},
   "outputs": [
    {
     "name": "stdout",
     "output_type": "stream",
     "text": [
      "5\n",
      "1\n",
      "1\n",
      "2\n",
      "3\n",
      "5\n",
      "8\n"
     ]
    }
   ],
   "source": [
    "def fib2(max):\n",
    "    if max <= 1:\n",
    "        return 1\n",
    "    else:\n",
    "        return fib2(max - 1) + fib2(max - 2)\n",
    "\n",
    "\n",
    "for i in range(6):\n",
    "    print(fib2(i))"
   ]
  },
  {
   "cell_type": "markdown",
   "metadata": {},
   "source": [
    "#### 杨辉三角形"
   ]
  },
  {
   "cell_type": "code",
   "execution_count": 12,
   "metadata": {
    "scrolled": true
   },
   "outputs": [
    {
     "name": "stdout",
     "output_type": "stream",
     "text": [
      "[3, 3]\n",
      "[1]\n",
      "[1, 1]\n",
      "[1, 2, 1]\n",
      "[1, 3, 3, 1]\n",
      "[1, 4, 6, 4, 1]\n"
     ]
    }
   ],
   "source": [
    "l = [1, 2, 1]\n",
    "print([l[i] + l[i + 1] for i in range(len(l) - 1)])\n",
    "\n",
    "\n",
    "def triangles(max):\n",
    "    l = [1]\n",
    "    n = 0\n",
    "    while n < max:\n",
    "        yield l\n",
    "        l = [1] + [l[i] + l[i + 1] for i in range(len(l) - 1)] + [1]\n",
    "        n = n + 1\n",
    "    return \"done\"\n",
    "\n",
    "\n",
    "for n in triangles(5):\n",
    "    print(n)"
   ]
  },
  {
   "cell_type": "markdown",
   "metadata": {},
   "source": [
    "* 递归求和，分而治之。"
   ]
  },
  {
   "cell_type": "code",
   "execution_count": 26,
   "metadata": {},
   "outputs": [
    {
     "name": "stdout",
     "output_type": "stream",
     "text": [
      "15\n"
     ]
    }
   ],
   "source": [
    "l = [4, 5, 6]\n",
    "# l[i]+l[i+1:]\n",
    "i = 0\n",
    "\n",
    "\n",
    "def sum1(l):\n",
    "    if l == []:\n",
    "        return 0\n",
    "    return l[0] + sum1(l[1:])\n",
    "\n",
    "\n",
    "print(sum1(l))"
   ]
  },
  {
   "cell_type": "markdown",
   "metadata": {
    "incorrectly_encoded_metadata": "toc-hr-collapsed=true toc-nb-collapsed=true"
   },
   "source": [
    "## 函数参数"
   ]
  },
  {
   "cell_type": "markdown",
   "metadata": {
    "incorrectly_encoded_metadata": "toc-hr-collapsed=true toc-nb-collapsed=true"
   },
   "source": [
    "### 关键字参数"
   ]
  },
  {
   "cell_type": "code",
   "execution_count": 60,
   "metadata": {},
   "outputs": [
    {
     "name": "stdout",
     "output_type": "stream",
     "text": [
      "        Name Score\n",
      "--------------------\n",
      "         lhc 100\n",
      "        lhc2 90\n",
      "        lhc3 80\n",
      "\n",
      "        Name Score\n",
      "--------------------\n",
      "        john 20\n",
      "         tom 55\n"
     ]
    }
   ],
   "source": [
    "def printscore(**kw):\n",
    "    print(\" \" * 8 + \"Name \" + \"Score\")\n",
    "    print(\"-\" * 20)\n",
    "    for k, v in kw.items():\n",
    "        print(\"%12s %d\" % (k, v))\n",
    "\n",
    "\n",
    "data = {\"lhc\": 100, \"lhc2\": 90, \"lhc3\": 80}\n",
    "\n",
    "printscore(**data)\n",
    "print()\n",
    "printscore(john=20, tom=55)"
   ]
  },
  {
   "cell_type": "markdown",
   "metadata": {},
   "source": [
    "### 命名关键字参数\n",
    "命名关键字的函数，调用时必须传入参数规定的名字，这一点跟函数普通的调用不同。"
   ]
  },
  {
   "cell_type": "code",
   "execution_count": 48,
   "metadata": {
    "scrolled": true
   },
   "outputs": [
    {
     "name": "stdout",
     "output_type": "stream",
     "text": [
      "Personal Info\n",
      "---------------\n",
      "   Name: Bob\n",
      " Gender: male\n",
      "   City: Beijing\n",
      "    Age: 20\n",
      "\n",
      "Personal Info\n",
      "---------------\n",
      "   Name: Lisa\n",
      " Gender: female\n",
      "   City: Shanghai\n",
      "    Age: 18\n",
      "\n"
     ]
    }
   ],
   "source": [
    "def print_info(name, *, gender, city=\"Beijing\", age):\n",
    "    print(\"Personal Info\")\n",
    "    print(\"---------------\")\n",
    "    print(\"   Name: %s\" % name)\n",
    "    print(\" Gender: %s\" % gender)\n",
    "    print(\"   City: %s\" % city)\n",
    "    print(\"    Age: %s\" % age)\n",
    "    print()\n",
    "\n",
    "\n",
    "print_info(\"Bob\", gender=\"male\", age=20)\n",
    "print_info(\"Lisa\", gender=\"female\", city=\"Shanghai\", age=18)"
   ]
  },
  {
   "cell_type": "markdown",
   "metadata": {},
   "source": [
    "### 可变参数"
   ]
  },
  {
   "cell_type": "code",
   "execution_count": 5,
   "metadata": {},
   "outputs": [
    {
     "data": {
      "text/plain": [
       "14"
      ]
     },
     "execution_count": 5,
     "metadata": {},
     "output_type": "execute_result"
    }
   ],
   "source": [
    "def calc(*nums):\n",
    "    sum = 0\n",
    "    for i in nums:\n",
    "        sum = sum + i * i\n",
    "    return sum\n",
    "\n",
    "\n",
    "calc(1, 2, 3)"
   ]
  },
  {
   "cell_type": "code",
   "execution_count": 111,
   "metadata": {},
   "outputs": [
    {
     "name": "stdout",
     "output_type": "stream",
     "text": [
      "nobody\n",
      "['*', '-2', '-2', 'Unprivileged User'] /var/empty\n"
     ]
    },
    {
     "data": {
      "text/plain": [
       "['773-555-1212', '847-555-1212']"
      ]
     },
     "execution_count": 111,
     "metadata": {},
     "output_type": "execute_result"
    }
   ],
   "source": [
    "# 来自于python cookbook 3rd Edition\n",
    "line = \"nobody:*:-2:-2:Unprivileged User:/var/empty:/usr/bin/false\"\n",
    "uname, *fields, homedir, sh = line.split(\":\")\n",
    "print(uname)\n",
    "print(fields, homedir)  # 不明白断开的位置。\n",
    "\n",
    "record = (\"Dave\", \"dave@example.com\", \"773-555-1212\", \"847-555-1212\")\n",
    "# 用星号代替的永远都是List类型\n",
    "name, email, *phone_numbers = record\n",
    "phone_numbers"
   ]
  },
  {
   "cell_type": "code",
   "execution_count": 13,
   "metadata": {},
   "outputs": [
    {
     "name": "stdout",
     "output_type": "stream",
     "text": [
      "['something', 'AAA', 1.11, 'AAA', 1.11]\n",
      "['something', 'AAA', 1.11, 'AAA', 1.11, ['AAA', 1.11]]\n"
     ]
    }
   ],
   "source": [
    "t = (\"AAA\", 1.11)\n",
    "result = [\"something\"]\n",
    "result = result + list(t)\n",
    "result = result + list(t)\n",
    "print(result)\n",
    "result.append(list(t))\n",
    "print(result)"
   ]
  },
  {
   "cell_type": "markdown",
   "metadata": {},
   "source": [
    "## 函数式编程\n",
    "把函数当做参数传入，这样的函数称为高阶函数，这样高度抽象的编程范式可以称之为函数式编程。"
   ]
  },
  {
   "cell_type": "code",
   "execution_count": 6,
   "metadata": {},
   "outputs": [
    {
     "data": {
      "text/plain": [
       "50"
      ]
     },
     "execution_count": 6,
     "metadata": {},
     "output_type": "execute_result"
    }
   ],
   "source": [
    "f = abs\n",
    "f(-50)"
   ]
  },
  {
   "cell_type": "markdown",
   "metadata": {},
   "source": [
    "### map()函数\n",
    "接收两个参数，一个是函数，一个是 Iterable，\n",
    "map 将传入的函数依次作用到序列的每个元素，并把结果作为新的 Iterator 返回。\n",
    "做为传入参数的函数，需要return值。\n",
    "\n",
    "字符串也是一个list。"
   ]
  },
  {
   "cell_type": "code",
   "execution_count": 20,
   "metadata": {},
   "outputs": [
    {
     "name": "stdout",
     "output_type": "stream",
     "text": [
      "['Adma', 'Lisa', 'Bart']\n"
     ]
    }
   ],
   "source": [
    "def normalize(name):\n",
    "    return name.capitalize()\n",
    "\n",
    "\n",
    "L1 = [\"adma\", \"LISA\", \"barT\"]\n",
    "L2 = list(map(normalize, L1))\n",
    "print(L2)"
   ]
  },
  {
   "cell_type": "markdown",
   "metadata": {},
   "source": [
    "### reduce()函数\n",
    "函数把一个函数作用在一个序列[x1, x2, x3, ...] 上，这个函数必须接收两个参数\n",
    "reduce 把结果继续和序列的下一个元 素做累积计算，其效果就是："
   ]
  },
  {
   "cell_type": "code",
   "execution_count": 23,
   "metadata": {},
   "outputs": [
    {
     "data": {
      "text/plain": [
       "105"
      ]
     },
     "execution_count": 23,
     "metadata": {},
     "output_type": "execute_result"
    }
   ],
   "source": [
    "from functools import reduce\n",
    "\n",
    "\n",
    "def prod(x, y):\n",
    "    return x * y\n",
    "\n",
    "\n",
    "reduce(prod, [3, 5, 7])"
   ]
  },
  {
   "cell_type": "code",
   "execution_count": 36,
   "metadata": {},
   "outputs": [
    {
     "name": "stdout",
     "output_type": "stream",
     "text": [
      "[2, 5, 6]\n"
     ]
    },
    {
     "data": {
      "text/plain": [
       "101.256"
      ]
     },
     "execution_count": 36,
     "metadata": {},
     "output_type": "execute_result"
    }
   ],
   "source": [
    "s = \"101.256\"\n",
    "s = s.split(\".\")\n",
    "list(map(int, s[0]))\n",
    "print(list(map(int, s[1])))\n",
    "\n",
    "\n",
    "def prod1(x, y):\n",
    "    return x * 10 + y\n",
    "\n",
    "\n",
    "def prod2(x, y):\n",
    "    return x / 10 + y\n",
    "\n",
    "\n",
    "a = reduce(prod1, list(map(int, s[0])))\n",
    "b = reduce(prod2, list(map(int, s[1][::-1]))) / 10\n",
    "a\n",
    "b\n",
    "a + b"
   ]
  },
  {
   "cell_type": "markdown",
   "metadata": {},
   "source": [
    "### filter()函数"
   ]
  },
  {
   "cell_type": "code",
   "execution_count": 97,
   "metadata": {},
   "outputs": [
    {
     "name": "stdout",
     "output_type": "stream",
     "text": [
      "3,5,7,9,11,13,15,17,19,21,23,25,27,29,31,33,35,37,39,41,43,45,47,49,51,53,55,57,59,61,63,65,67,69,71,73,75,77,79,81,83,85,87,89,91,93,95,97,99,101,"
     ]
    }
   ],
   "source": [
    "def odd_iter():\n",
    "    n = 1\n",
    "    while True:\n",
    "        n = n + 2\n",
    "        yield n\n",
    "\n",
    "\n",
    "for i in odd_iter():\n",
    "    print(str(i) + \",\", end=\"\")\n",
    "    if i > 100:\n",
    "        break"
   ]
  },
  {
   "cell_type": "markdown",
   "metadata": {},
   "source": [
    "filter()返回的是一个迭代器，必须用list转换,一旦使用list，就把数据都放到内存中去了。"
   ]
  },
  {
   "cell_type": "code",
   "execution_count": 15,
   "metadata": {
    "lines_to_next_cell": 2
   },
   "outputs": [
    {
     "name": "stdout",
     "output_type": "stream",
     "text": [
      "1~500: [1, 2, 3, 4, 5, 6, 7, 8, 9, 11, 22, 33, 44, 55, 66, 77, 88, 99, 101, 111, 121, 131, 141, 151, 161, 171, 181, 191, 202, 212, 222, 232, 242, 252, 262, 272, 282, 292, 303, 313, 323, 333, 343, 353, 363, 373, 383, 393, 404, 414, 424, 434, 444, 454, 464, 474, 484, 494, 505, 515, 525, 535, 545, 555, 565, 575, 585, 595, 606, 616, 626, 636, 646, 656, 666, 676, 686, 696, 707, 717, 727, 737, 747, 757, 767, 777, 787, 797, 808, 818, 828, 838, 848, 858, 868, 878, 888, 898, 909, 919, 929, 939, 949, 959, 969, 979, 989, 999]\n",
      "测试成功!\n"
     ]
    }
   ],
   "source": [
    "def is_palindrome(n):\n",
    "    s1 = str(n)\n",
    "    return s1 == s1[::-1]\n",
    "\n",
    "\n",
    "output = filter(is_palindrome, range(1, 1000))\n",
    "print(\"1~500:\", list(output))\n",
    "if list(filter(is_palindrome, range(1, 200))) == [\n",
    "    1,\n",
    "    2,\n",
    "    3,\n",
    "    4,\n",
    "    5,\n",
    "    6,\n",
    "    7,\n",
    "    8,\n",
    "    9,\n",
    "    11,\n",
    "    22,\n",
    "    33,\n",
    "    44,\n",
    "    55,\n",
    "    66,\n",
    "    77,\n",
    "    88,\n",
    "    99,\n",
    "    101,\n",
    "    111,\n",
    "    121,\n",
    "    131,\n",
    "    141,\n",
    "    151,\n",
    "    161,\n",
    "    171,\n",
    "    181,\n",
    "    191,\n",
    "]:\n",
    "    print(\"测试成功!\")\n",
    "else:\n",
    "    print(\"测试失败!\")"
   ]
  },
  {
   "cell_type": "markdown",
   "metadata": {},
   "source": [
    "### sorted函数"
   ]
  },
  {
   "cell_type": "code",
   "execution_count": 50,
   "metadata": {},
   "outputs": [
    {
     "name": "stdout",
     "output_type": "stream",
     "text": [
      "Bob\n",
      "Adam\n",
      "aart\n",
      "Lisa\n",
      "[('aart', 66), ('Adam', 92), ('Bob', 75), ('Lisa', 88)]\n"
     ]
    }
   ],
   "source": [
    "L = [(\"Bob\", 75), (\"Adam\", 92), (\"aart\", 66), (\"Lisa\", 88)]\n",
    "\n",
    "\n",
    "def by_name(t):\n",
    "    print(t[0])\n",
    "    s = t[0].lower()\n",
    "    return s\n",
    "\n",
    "\n",
    "L1 = sorted(L, key=by_name)\n",
    "print(L1)"
   ]
  },
  {
   "cell_type": "markdown",
   "metadata": {},
   "source": [
    "### lambda 匿名函数"
   ]
  },
  {
   "cell_type": "code",
   "execution_count": 22,
   "metadata": {},
   "outputs": [
    {
     "data": {
      "text/plain": [
       "[2, 4, 6, 8, 10, 12, 14, 16, 18]"
      ]
     },
     "execution_count": 22,
     "metadata": {},
     "output_type": "execute_result"
    }
   ],
   "source": [
    "L = list(filter(lambda x: x % 2 == 0, range(1, 20)))\n",
    "L"
   ]
  },
  {
   "cell_type": "markdown",
   "metadata": {},
   "source": [
    "### 装饰器"
   ]
  },
  {
   "cell_type": "code",
   "execution_count": 21,
   "metadata": {},
   "outputs": [
    {
     "name": "stdout",
     "output_type": "stream",
     "text": [
      "wrapper is {0} <function log.<locals>.wrapper at 0x1066438c8>\n",
      "call now(): <function now at 0x1064d3048>\n",
      "2015-3-25\n",
      "now现在指向了wrapper， <function log.<locals>.wrapper at 0x1066438c8>\n",
      "call now(): <function now at 0x1064d3048>\n",
      "2015-3-25\n"
     ]
    }
   ],
   "source": [
    "def log(func):\n",
    "    def wrapper(*args, **kw):\n",
    "        print(\"call %s():\" % func.__name__, func)\n",
    "        return func(*args, **kw)\n",
    "\n",
    "    print(\"wrapper is {0}\", wrapper)\n",
    "    return wrapper\n",
    "\n",
    "\n",
    "@log\n",
    "def now():\n",
    "    print(\"2015-3-25\")\n",
    "\n",
    "\n",
    "# 相当于执行了 now=log(now)\n",
    "now()\n",
    "print(\"now现在指向了wrapper，\", now)\n",
    "# 再次执行时，只执行了wrapper里边的语句。now的指向变了。\n",
    "now()"
   ]
  },
  {
   "cell_type": "markdown",
   "metadata": {
    "incorrectly_encoded_metadata": "toc-hr-collapsed=true toc-nb-collapsed=true"
   },
   "source": [
    "## 文件IO"
   ]
  },
  {
   "cell_type": "markdown",
   "metadata": {},
   "source": [
    "这个mode参数可以是\n",
    "* 'r' 只读模式（when the file will only be read）\n",
    "* 'w' 只写模式（与一个现存文件文件同名，则被清除）\n",
    "* 'a' 添加模式，即任意写入文件的数据都被自动添加到末尾\n",
    "* 'r+' 打开文件，可以读、写"
   ]
  },
  {
   "cell_type": "code",
   "execution_count": 94,
   "metadata": {},
   "outputs": [
    {
     "name": "stdout",
     "output_type": "stream",
     "text": [
      "1 3 3 3 3 3 , 2 , 3 d d d d \n",
      " "
     ]
    }
   ],
   "source": [
    "import sys\n",
    "\n",
    "f = open(\"./1.txt\", \"r\")\n",
    "f.read()\n",
    "f.close()\n",
    "\n",
    "with open(\"./1.txt\", \"r\") as f:\n",
    "    for line in f.readline():\n",
    "        print(line, end=\" \")"
   ]
  },
  {
   "cell_type": "code",
   "execution_count": 13,
   "metadata": {},
   "outputs": [
    {
     "name": "stdout",
     "output_type": "stream",
     "text": [
      "101\n"
     ]
    }
   ],
   "source": [
    "def findmax(l):\n",
    "    max_num = l[0]\n",
    "    max_index = 0\n",
    "    for i in range(1, len(l) - 1):\n",
    "        if max_num < l[i]:\n",
    "            max_num = l[i]\n",
    "            max_index = i\n",
    "    return max_index\n",
    "\n",
    "\n",
    "l = [5, 54, 98, 101, 3, 21, 44]\n",
    "i = findmax(l)\n",
    "print(l[i])"
   ]
  },
  {
   "cell_type": "markdown",
   "metadata": {},
   "source": [
    "## 文件与目录\n",
    "### 使用内置pathlib"
   ]
  },
  {
   "cell_type": "code",
   "execution_count": null,
   "metadata": {},
   "outputs": [],
   "source": []
  },
  {
   "cell_type": "code",
   "execution_count": null,
   "metadata": {},
   "outputs": [],
   "source": []
  },
  {
   "cell_type": "code",
   "execution_count": null,
   "metadata": {},
   "outputs": [],
   "source": []
  },
  {
   "cell_type": "code",
   "execution_count": null,
   "metadata": {},
   "outputs": [],
   "source": []
  },
  {
   "cell_type": "markdown",
   "metadata": {
    "lines_to_next_cell": 0
   },
   "source": [
    "### 使用wcmatch\n",
    "#### wcmatch的pathlib"
   ]
  },
  {
   "cell_type": "code",
   "execution_count": null,
   "metadata": {},
   "outputs": [],
   "source": []
  },
  {
   "cell_type": "code",
   "execution_count": null,
   "metadata": {},
   "outputs": [],
   "source": [
    "from wcmatch import pathlib\n",
    "\n",
    "# What this means is when you are matching a path in the form some/path/name,\n",
    "# the patterns name, path/name and some/path/name will all match.\n",
    "display(pathlib.Path.cwd())\n",
    "# 匹配路径,如果匹配当前路径的名称并向前,就像已经加了**一样,用match\n",
    "display(pathlib.Path.cwd().match([\"*_py/py*\", \"*-exercis\"]))  # , flags=pathlib.GLOBSTAR)\n",
    "display(pathlib.Path.cwd().match([\"py*\", \"*-exercis\"]))  # , flags=pathlib.GLOBSTAR)\n",
    "# 这个为什么是true?没有globstar,不会匹配多个目录,按一层处理,\n",
    "而prac_py/*是因为是当前目录的上一层?\n",
    "display(pathlib.Path.cwd().match([\"prac_py/*\", \"*-exercis\"]))  # , flags=pathlib.GLOBSTAR)\n",
    "ak = pathlib.Path.cwd() / \"ak\"\n",
    "display(ak)\n",
    "# ak目录的上一层不是prac_py,所以**没用,需加上globstar.\n",
    "display(ak.match([\"**/prac_py/**\", \"*-exercis\"]))  # , flags=pathlib.GLOBSTAR)\n",
    "# 而这个是false?加上globstar就能匹配.\n",
    "display(\n",
    "    pathlib.Path.cwd().match([\"**/repo/**\", \"*-exercis\"], flags=pathlib.GLOBSTAR)\n",
    ")  # , flags=pathlib.GLOBSTAR)\n",
    "# 写成**/repo/**不匹配,需要加globstar.用match,避免**开头.\n",
    "display(pathlib.Path.cwd().match([\"**/repo/**\", \"*-exercis\"], flags=pathlib.GLOBSTAR))\n",
    "# 如果匹配路径中的某一个目录,并且不知道层次,用globmatch安全一些.路径用**,名称匹配用*\n",
    "display(pathlib.Path.cwd().globmatch([\"**/rep*/**\", \"**/*-exerci\"], flags=pathlib.GLOBSTAR))\n",
    "# 必须加globstar\n",
    "display(pathlib.Path.cwd().globmatch([\"**/repo/**\", \"**/*-exerci\"]))\n",
    "display(pathlib.Path.cwd().globmatch([\"**/py*\", \"**/*-exerci\"], flags=pathlib.GLOBSTAR))\n",
    "display(pathlib.Path.cwd().globmatch([\"**/lhc/**\", \"**/*-exerci\"], flags=pathlib.GLOBSTAR))\n",
    "display(f'{pathlib.Path(\".\")},type:{type(pathlib.Path(\".\"))}')\n",
    "display(pathlib.Path(\".\").globmatch([\"**/*po/**\", \"**/*-exerci\"], flags=pathlib.GLOBSTAR))\n",
    "# [m for m in pathlib.Path(\".\").glob([\"*.java\", \"*.py\"])]"
   ]
  },
  {
   "cell_type": "code",
   "execution_count": null,
   "metadata": {},
   "outputs": [],
   "source": [
    "from wcmatch import pathlib\n",
    "\n",
    "# 匹配目录下的文件\n",
    "p = pathlib.Path(\".\").glob([\"*.py\", \"*.java\"])\n",
    "# result = list(p)\n",
    "# display(result)\n",
    "for f in p:\n",
    "    print(f\"Exist script:{f}:{f.resolve()},type:{type(f)}\")"
   ]
  },
  {
   "cell_type": "code",
   "execution_count": null,
   "metadata": {},
   "outputs": [],
   "source": [
    "from wcmatch import pathlib\n",
    "\n",
    "# 必须有*这种包含的模式\n",
    "p = pathlib.Path(\".\").glob([\"*\", \"!*.py\"], flags=pathlib.NEGATE)\n",
    "display(list(p))\n",
    "p = pathlib.Path(\".\").glob([\"*.py\", \"!py-*.py\"], flags=pathlib.NEGATE)\n",
    "display(list(p))\n",
    "# 如果不用pattern list,那么需要标明SPLIT\n",
    "p = pathlib.Path(\".\").glob(\"*|!*.py\", flags=pathlib.NEGATE | pathlib.SPLIT)\n",
    "display(list(p))\n",
    "# NEGATEALL必须配合着NEGAT一起,否则无效\n",
    "p = pathlib.Path(\".\").glob(\"!*.py\", flags=pathlib.NEGATE | pathlib.NEGATEALL)\n",
    "display(list(p))\n",
    "p = pathlib.Path(\".\").glob([\"*\", \"!*.py\", \"!*.java\"], flags=pathlib.NEGATE)\n",
    "list(p)\n",
    "# result = glob.glob(\"!*.py\", root_dir=\".\", flags=glob.NEGATEALL)\n",
    "# display(result)"
   ]
  },
  {
   "cell_type": "markdown",
   "metadata": {
    "lines_to_next_cell": 0
   },
   "source": [
    "#### wcmatch 的 fnmatch"
   ]
  },
  {
   "cell_type": "code",
   "execution_count": null,
   "metadata": {
    "lines_to_next_cell": 0
   },
   "outputs": [],
   "source": [
    "from wcmatch import fnmatch\n",
    "from wcmatch import pathlib\n",
    "\n",
    "p = pathlib.Path(\".\").glob([\"*.py\", \"*.java\", \"a*\"])\n",
    "for f in p:\n",
    "    if fnmatch.fnmatch(str(f), \"!(*.go|*.c)\", flags=fnmatch.EXTMATCH):\n",
    "        print(f\"no go or c: {f}\")\n",
    "pathlib"
   ]
  },
  {
   "cell_type": "markdown",
   "metadata": {},
   "source": [
    "#### wcmatch 的 glob\n",
    "以上和以下wcmatch.WcWatch()都是基于glob构造的"
   ]
  },
  {
   "cell_type": "code",
   "execution_count": 25,
   "metadata": {},
   "outputs": [
    {
     "data": {
      "text/plain": [
       "['ak/.', 'ak/..', 'ak/.mock_ipynb_checkpoint']"
      ]
     },
     "metadata": {},
     "output_type": "display_data"
    },
    {
     "data": {
      "text/plain": [
       "['ak/', 'm4/']"
      ]
     },
     "metadata": {},
     "output_type": "display_data"
    },
    {
     "data": {
      "text/plain": [
       "['tests/',\n",
       " 'charts/',\n",
       " 'profilings/',\n",
       " 'pydata-exercise/',\n",
       " 'pydata-test/',\n",
       " 'data/',\n",
       " 'notebooks/',\n",
       " 'src/']"
      ]
     },
     "metadata": {},
     "output_type": "display_data"
    },
    {
     "data": {
      "text/plain": [
       "['numpy-basic.ipynb',\n",
       " 'ch05-pandas-basic.py',\n",
       " 'def.java',\n",
       " 'source changed',\n",
       " 'ak',\n",
       " 'py-basic.ipynb',\n",
       " 'test001.java',\n",
       " 'Test002.java',\n",
       " 'ch05-pandas-basic.ipynb',\n",
       " 'm4',\n",
       " 'eef.java',\n",
       " 'py-basic.py']"
      ]
     },
     "metadata": {},
     "output_type": "display_data"
    },
    {
     "data": {
      "text/plain": [
       "['.', '..', '.ipynb_checkpoints']"
      ]
     },
     "metadata": {},
     "output_type": "display_data"
    },
    {
     "data": {
      "text/plain": [
       "['numpy-basic.ipynb',\n",
       " 'ch05-pandas-basic.py',\n",
       " 'def.java',\n",
       " 'source changed',\n",
       " 'py-basic.ipynb',\n",
       " 'test001.java',\n",
       " 'Test002.java',\n",
       " 'ch05-pandas-basic.ipynb',\n",
       " 'eef.java',\n",
       " 'py-basic.py']"
      ]
     },
     "metadata": {},
     "output_type": "display_data"
    },
    {
     "data": {
      "text/plain": [
       "['numpy-basic.ipynb',\n",
       " 'ch05-pandas-basic.py',\n",
       " 'def.java',\n",
       " 'source changed',\n",
       " 'py-basic.ipynb',\n",
       " 'test001.java',\n",
       " 'Test002.java',\n",
       " 'ch05-pandas-basic.ipynb',\n",
       " 'eef.java',\n",
       " 'py-basic.py']"
      ]
     },
     "metadata": {},
     "output_type": "display_data"
    },
    {
     "data": {
      "text/plain": [
       "['numpy-basic.ipynb',\n",
       " 'ch05-pandas-basic.py',\n",
       " 'def.java',\n",
       " 'py-basic.ipynb',\n",
       " 'test001.java',\n",
       " 'Test002.java',\n",
       " 'ch05-pandas-basic.ipynb',\n",
       " 'eef.java',\n",
       " 'py-basic.py']"
      ]
     },
     "metadata": {},
     "output_type": "display_data"
    },
    {
     "data": {
      "text/plain": [
       "['abc.java', 'ak01.txt', '47']"
      ]
     },
     "metadata": {},
     "output_type": "display_data"
    }
   ],
   "source": [
    "from wcmatch import glob\n",
    "\n",
    "# 返回. 和 ..\n",
    "display(glob.glob(\"ak/.*\"))\n",
    "# 只返回其下的所有目录\n",
    "display(glob.glob(\"*/\"))\n",
    "# display(glob.glob(\"/**/lhc/dev/repo/*.\", flags=glob.GLOBSTAR))\n",
    "# **/匹配所有目录,下面返回上一层目录下的所有目录.\n",
    "display(glob.glob(\"*/\", root_dir=\"..\"))\n",
    "display(glob.glob(\"*\"))\n",
    "\n",
    "# 所有文件,包括隐藏目录会包括.和..\n",
    "display(glob.glob(\".*\"))\n",
    "# 所有文件,不包含目录以及隐藏文件\n",
    "display(glob.glob(\"*|!*/\", flags=glob.NEGATE | glob.SPLIT))\n",
    "display(glob.glob(\"*\", flags=glob.NODIR))\n",
    "display(glob.glob(\"[[:alnum:]]*.*\"))\n",
    "display(glob.glob(\"*\", root_dir=\"ak/\"))"
   ]
  },
  {
   "cell_type": "markdown",
   "metadata": {},
   "source": [
    "**以下glob的三个片段按照隐藏文件和目录以及所有目录下隐藏文件测试**"
   ]
  },
  {
   "cell_type": "code",
   "execution_count": 1,
   "metadata": {
    "lines_to_next_cell": 2
   },
   "outputs": [
    {
     "data": {
      "text/plain": [
       "['def.java', 'eef.java']"
      ]
     },
     "metadata": {},
     "output_type": "display_data"
    },
    {
     "data": {
      "text/plain": [
       "[]"
      ]
     },
     "metadata": {},
     "output_type": "display_data"
    },
    {
     "data": {
      "text/plain": [
       "['def.java', 'eef.java', 'ak/abc.java', 'm4/am.java']"
      ]
     },
     "metadata": {},
     "output_type": "display_data"
    },
    {
     "data": {
      "text/plain": [
       "['ak/47/g.java']"
      ]
     },
     "metadata": {},
     "output_type": "display_data"
    },
    {
     "data": {
      "text/plain": [
       "['def.java', 'ak/abc.java', 'ak/47/g.java', 'm4/am.java', 'eef.java']"
      ]
     },
     "metadata": {},
     "output_type": "display_data"
    }
   ],
   "source": [
    "from wcmatch import glob\n",
    "\n",
    "display(glob.glob(\"[de]ef.java\"))\n",
    "# 以下不支持.\n",
    "display(glob.glob(\"ef$.java\"))\n",
    "# 目录深度是第一层和第二层(当前目录和一级目录):find . -name '[a-g]*.java' -maxdepth 2\n",
    "display(glob.glob([\"[a-g]*.java\", \"*/[a-g]*.java\"]))\n",
    "# 目录深度是第3层,当前目录下的二级目录\n",
    "display(glob.glob([\"*/*/[a-g]*.java\"]))\n",
    "# 包含子目录,**如果代表多层目录,需要加globstar\n",
    "display(glob.glob(\"**/[a-g]*.java\", flags=glob.GLOBSTAR))"
   ]
  },
  {
   "cell_type": "code",
   "execution_count": 36,
   "metadata": {},
   "outputs": [
    {
     "data": {
      "text/plain": [
       "['numpy-basic.ipynb',\n",
       " 'ch05-pandas-basic.py',\n",
       " 'def.java',\n",
       " 'source changed',\n",
       " 'ak',\n",
       " 'py-basic.ipynb',\n",
       " 'test001.java',\n",
       " 'Test002.java',\n",
       " 'ch05-pandas-basic.ipynb',\n",
       " 'm4',\n",
       " 'eef.java',\n",
       " 'py-basic.py']"
      ]
     },
     "metadata": {},
     "output_type": "display_data"
    },
    {
     "data": {
      "text/plain": [
       "['numpy-basic.ipynb',\n",
       " 'ch05-pandas-basic.py',\n",
       " 'def.java',\n",
       " 'py-basic.ipynb',\n",
       " '.docfile',\n",
       " 'test001.java',\n",
       " 'Test002.java',\n",
       " 'ch05-pandas-basic.ipynb',\n",
       " 'eef.java',\n",
       " '.ipynb_checkpoints',\n",
       " 'py-basic.py']"
      ]
     },
     "metadata": {},
     "output_type": "display_data"
    },
    {
     "data": {
      "text/plain": [
       "['numpy-basic.ipynb',\n",
       " 'ch05-pandas-basic.py',\n",
       " 'def.java',\n",
       " 'py-basic.ipynb',\n",
       " '.docfile',\n",
       " 'test001.java',\n",
       " 'Test002.java',\n",
       " 'ch05-pandas-basic.ipynb',\n",
       " 'eef.java',\n",
       " 'py-basic.py']"
      ]
     },
     "metadata": {},
     "output_type": "display_data"
    },
    {
     "data": {
      "text/plain": [
       "['ak/', 'm4/']"
      ]
     },
     "metadata": {},
     "output_type": "display_data"
    },
    {
     "data": {
      "text/plain": [
       "['ak/abc.java', 'ak/ak01.txt', 'ak/47', 'm4/am.java']"
      ]
     },
     "metadata": {},
     "output_type": "display_data"
    }
   ],
   "source": [
    "from wcmatch import glob\n",
    "\n",
    "# 当前目录下所有文件和一级子目录\n",
    "display(glob.glob(\"*\"))\n",
    "# 所有文件,包括隐藏文件和一级隐藏目录\n",
    "display(glob.glob(\"*.*\"))\n",
    "# 所有文件,包括隐藏文件,但不包括一级隐藏目录\n",
    "display(glob.glob(\"*.*\", flags=glob.NODIR))\n",
    "# 所有一级子目录\n",
    "display(glob.glob(\"*/\"))\n",
    "# 所有一级子目录下的所有文件\n",
    "display(glob.glob(\"*/*\"))"
   ]
  },
  {
   "cell_type": "code",
   "execution_count": 44,
   "metadata": {
    "lines_to_next_cell": 2
   },
   "outputs": [
    {
     "data": {
      "text/plain": [
       "'===========以下.*模式匹配=================='"
      ]
     },
     "metadata": {},
     "output_type": "display_data"
    },
    {
     "data": {
      "text/plain": [
       "['.', '..', '.docfile', '.ipynb_checkpoints']"
      ]
     },
     "metadata": {},
     "output_type": "display_data"
    },
    {
     "data": {
      "text/plain": [
       "['.docfile', '.ipynb_checkpoints']"
      ]
     },
     "metadata": {},
     "output_type": "display_data"
    },
    {
     "data": {
      "text/plain": [
       "['.docfile']"
      ]
     },
     "metadata": {},
     "output_type": "display_data"
    },
    {
     "data": {
      "text/plain": [
       "'===========以下是**所有目录的匹配=================='"
      ]
     },
     "metadata": {},
     "output_type": "display_data"
    },
    {
     "data": {
      "text/plain": [
       "['ak/', 'ak/47/', 'm4/']"
      ]
     },
     "metadata": {},
     "output_type": "display_data"
    },
    {
     "data": {
      "text/plain": [
       "['.', '..', 'ak/.', 'ak/..', 'ak/47/.', 'ak/47/..', 'm4/.', 'm4/..']"
      ]
     },
     "metadata": {},
     "output_type": "display_data"
    },
    {
     "data": {
      "text/plain": [
       "['.',\n",
       " '..',\n",
       " 'ak/.',\n",
       " 'ak/..',\n",
       " 'ak/.ak_dot_file',\n",
       " 'ak/47/.',\n",
       " 'ak/47/..',\n",
       " '.docfile',\n",
       " 'm4/.',\n",
       " 'm4/..',\n",
       " '.ipynb_checkpoints',\n",
       " '.ipynb_checkpoints/.',\n",
       " '.ipynb_checkpoints/..']"
      ]
     },
     "metadata": {},
     "output_type": "display_data"
    },
    {
     "data": {
      "text/plain": [
       "['ak/.ak_dot_file', '.docfile']"
      ]
     },
     "metadata": {},
     "output_type": "display_data"
    }
   ],
   "source": [
    "from wcmatch import glob\n",
    "\n",
    "display(\"===========以下.*模式匹配==================\")\n",
    "# .和..不会被匹配,除非pattern中有.开头.\n",
    "# 当前目录下,所有隐藏文件和一级隐藏子目录,包括.和..\n",
    "display(glob.glob(\".*\"))\n",
    "# 同上,排除. 和 ..\n",
    "display(glob.glob([\".*\", \"!.\", \"!..\"], flags=glob.NEGATE))\n",
    "# 只要隐藏文件(隐藏目录也会被排除)\n",
    "display(glob.glob(\".*\", flags=glob.NODIR))\n",
    "display(\"===========以下是**所有目录的匹配==================\")\n",
    "# 所有子目录\n",
    "display(glob.glob(\"**/*/\", flags=glob.GLOBSTAR))\n",
    "# **模式下,只加GLOBSTAR这种用途不大\n",
    "display(glob.glob(\"**/.*\", flags=glob.GLOBSTAR))\n",
    "# DOTGLOB相当于隐藏文件和目录的匹配\n",
    "# 所有隐藏文件和目录,和当前目录比,加上DOTGLOB\n",
    "display(glob.glob(\"**/.*\", flags=glob.GLOBSTAR | glob.DOTGLOB))\n",
    "display(glob.glob(\"**/.*\", flags=glob.GLOBSTAR | glob.DOTGLOB | glob.NODIR))"
   ]
  },
  {
   "cell_type": "markdown",
   "metadata": {
    "lines_to_next_cell": 0
   },
   "source": [
    "#### wcmatch\n",
    "wcmatch 基于glob和fnmatch构建更容易使用的API"
   ]
  },
  {
   "cell_type": "code",
   "execution_count": null,
   "metadata": {},
   "outputs": [],
   "source": [
    "from wcmatch import wcmatch\n",
    "\n",
    "matchit = wcmatch.WcMatch(\".\", \"!*.py|!*.ipynb\", flags=wcmatch.HD | wcmatch.RV).match()\n",
    "display(type(matchit))\n",
    "for m in matchit:\n",
    "    display(f\"element type:${type(m)}\")\n",
    "    display(f\"Absolute path of java file:{pathlib.Path(m).resolve()}\")\n",
    "display(f\"match files: {','.join(matchit)}\")"
   ]
  },
  {
   "cell_type": "code",
   "execution_count": null,
   "metadata": {
    "lines_to_next_cell": 0
   },
   "outputs": [],
   "source": [
    "matchit = wcmatch.WcMatch(\".\", \"test*\", flags=wcmatch.HD | wcmatch.RV).match()\n",
    "# matchit = wcmatch.WcMatch(\".\", r\"\\w{4}\", flags=wcmatch.HD | wcmatch.RV | wcmatch.RAWCHARS).match()\n",
    "matchit"
   ]
  },
  {
   "cell_type": "code",
   "execution_count": null,
   "metadata": {},
   "outputs": [],
   "source": [
    "# 注意template的用法,也用wcmatch实现.\n",
    "def unique_path(directory, name_pattern):\n",
    "    counter = 0\n",
    "    while True:\n",
    "        counter += 1\n",
    "        path = directory / name_pattern.format(counter)\n",
    "        if not path.exists():\n",
    "            return path\n",
    "\n",
    "\n",
    "path = unique_path(pathlib.Path.cwd(), \"test{:03d}.txt\")"
   ]
  },
  {
   "cell_type": "code",
   "execution_count": null,
   "metadata": {
    "lines_to_next_cell": 2
   },
   "outputs": [],
   "source": [
    "from string import Template\n",
    "\n",
    "name = \"coolfish\"\n",
    "Template(\"hello, $name!\").substitute(name=name)"
   ]
  },
  {
   "cell_type": "code",
   "execution_count": null,
   "metadata": {
    "lines_to_next_cell": 2
   },
   "outputs": [],
   "source": []
  },
  {
   "cell_type": "markdown",
   "metadata": {
    "lines_to_next_cell": 0
   },
   "source": [
    "## Iterable/Iterator/生成器\n",
    "From Fluent Python Chapter 14."
   ]
  },
  {
   "cell_type": "markdown",
   "metadata": {},
   "source": [
    "### Iterable/Iterator"
   ]
  },
  {
   "cell_type": "code",
   "execution_count": 1,
   "metadata": {
    "tags": []
   },
   "outputs": [
    {
     "output_type": "display_data",
     "data": {
      "text/plain": "'/Users/lhc/.pyenv/versions/data/bin/python'"
     },
     "metadata": {}
    }
   ],
   "source": [
    "\n",
    "# display(sys.path)"
   ]
  },
  {
   "cell_type": "code",
   "execution_count": 14,
   "metadata": {},
   "outputs": [
    {
     "data": {
      "text/plain": [
       "Sentence 'Crazy world,...rdinary world'"
      ]
     },
     "metadata": {},
     "output_type": "display_data"
    },
    {
     "name": "stdout",
     "output_type": "stream",
     "text": [
      "Crazy\n",
      "world\n",
      "extraordinary\n",
      "world\n"
     ]
    }
   ],
   "source": []
  },
  {
   "cell_type": "code",
   "execution_count": 4,
   "metadata": {
    "lines_to_next_cell": 2,
    "tags": []
   },
   "outputs": [
    {
     "output_type": "stream",
     "name": "stdout",
     "text": "Crazy\nworld\nextraordinary\nworld\n"
    }
   ],
   "source": []
  },
  {
   "cell_type": "markdown",
   "metadata": {},
   "source": [
    "### 生成器函数yield"
   ]
  },
  {
   "cell_type": "code",
   "execution_count": 2,
   "metadata": {
    "lines_to_next_cell": 2,
    "tags": []
   },
   "outputs": [
    {
     "output_type": "stream",
     "name": "stdout",
     "text": "in Sentence 3.\nSentence3\nin Sentence 3.\nCrazy\nin Sentence 3.\nworld\nin Sentence 3.\nextraordinary\nin Sentence 3.\nworld\n"
    }
   ],
   "source": []
  },
  {
   "cell_type": "code",
   "execution_count": 3,
   "metadata": {
    "tags": []
   },
   "outputs": [
    {
     "output_type": "stream",
     "name": "stdout",
     "text": "Sentence\n4\nCrazy\nworld\nextraordinary\nworld\nend\nwith\nsentence\n4\n"
    }
   ],
   "source": []
  },
  {
   "cell_type": "code",
   "execution_count": 7,
   "metadata": {
    "tags": []
   },
   "outputs": [
    {
     "output_type": "stream",
     "name": "stdout",
     "text": "*/*/*/*/*/\n"
    },
    {
     "output_type": "display_data",
     "data": {
      "text/plain": "<function __main__.genit()>"
     },
     "metadata": {}
    },
    {
     "output_type": "display_data",
     "data": {
      "text/plain": "<generator object genit at 0x113837ac0>"
     },
     "metadata": {}
    },
    {
     "output_type": "display_data",
     "data": {
      "text/plain": "<generator object genit at 0x113837ac0>"
     },
     "metadata": {}
    },
    {
     "output_type": "display_data",
     "data": {
      "text/plain": "1"
     },
     "metadata": {}
    }
   ],
   "source": [
    "print('*/'*5)\n",
    "s='ABC'\n",
    "next(iter(s))\n",
    "\n",
    "def genit():\n",
    "    yield 1\n",
    "    yield 2\n",
    "    yield 3\n",
    "\n",
    "display(genit)\n",
    "display(genit())\n",
    "display(iter(genit()))\n",
    "display(next(genit()))"
   ]
  },
  {
   "cell_type": "markdown",
   "metadata": {},
   "source": [
    "### 生成器函数:yield from(广度和深度搜索)"
   ]
  },
  {
   "cell_type": "code",
   "execution_count": 4,
   "metadata": {
    "tags": []
   },
   "outputs": [
    {
     "output_type": "stream",
     "name": "stdout",
     "text": "before yield:Node(0)\nout print:Node(0)\nafter yield:Node(0)\nin for Node(1)\nbefore yield:Node(1)\nNode(1)\nafter yield:Node(1)\nin for Node(11)\nbefore yield:Node(11)\nNode(11)\nafter yield:Node(11)\nin for Node(12)\nbefore yield:Node(12)\nNode(12)\nafter yield:Node(12)\nin for Node(2)\nbefore yield:Node(2)\nNode(2)\nafter yield:Node(2)\nin for Node(21)\nbefore yield:Node(21)\nNode(21)\nafter yield:Node(21)\nin for Node(3)\nbefore yield:Node(3)\nNode(3)\nafter yield:Node(3)\nin for Node(31)\nbefore yield:Node(31)\nNode(31)\nafter yield:Node(31)\n======================\nbefore yield:Node(0)\nout print:Node(0)\nafter yield:Node(0)\nbefore yield:Node(1)\nout print:Node(1)\nafter yield:Node(1)\nbefore yield:Node(11)\nout print:Node(11)\nafter yield:Node(11)\nbefore yield:Node(12)\nout print:Node(12)\nafter yield:Node(12)\nbefore yield:Node(2)\nout print:Node(2)\nafter yield:Node(2)\nbefore yield:Node(21)\nout print:Node(21)\nafter yield:Node(21)\nbefore yield:Node(3)\nout print:Node(3)\nafter yield:Node(3)\nbefore yield:Node(31)\nout print:Node(31)\nafter yield:Node(31)\n======================\nout print:Node(0)\nout print:Node(1)\nout print:Node(2)\nout print:Node(3)\nout print:Node(11)\nout print:Node(12)\nout print:Node(21)\nout print:Node(31)\n"
    }
   ],
   "source": [
    "\n"
   ]
  },
  {
   "cell_type": "markdown",
   "metadata": {},
   "source": [
    "### 内置生成器函数\n",
    "#### 用于过滤的函数"
   ]
  },
  {
   "cell_type": "code",
   "execution_count": 13,
   "metadata": {
    "tags": []
   },
   "outputs": [
    {
     "output_type": "stream",
     "name": "stdout",
     "text": "r,d,v,a,r,k,\n\nr,d,v,r,k,"
    }
   ],
   "source": []
  },
  {
   "cell_type": "markdown",
   "metadata": {},
   "source": [
    "#### 用于映射的函数"
   ]
  },
  {
   "cell_type": "code",
   "execution_count": 17,
   "metadata": {},
   "outputs": [
    {
     "output_type": "execute_result",
     "data": {
      "text/plain": "[0, 2, 6]"
     },
     "metadata": {},
     "execution_count": 17
    }
   ],
   "source": []
  },
  {
   "cell_type": "code",
   "execution_count": null,
   "metadata": {},
   "outputs": [],
   "source": []
  }
 ],
 "metadata": {
  "jupytext": {
   "encoding": "# -*- coding: utf-8 -*-",
   "formats": "ipynb,py:percent"
  },
  "kernelspec": {
   "display_name": "Python 3",
   "language": "python",
   "name": "python3"
  },
  "language_info": {
   "codemirror_mode": {
    "name": "ipython",
    "version": 3
   },
   "file_extension": ".py",
   "mimetype": "text/x-python",
   "name": "python",
   "nbconvert_exporter": "python",
   "pygments_lexer": "ipython3",
   "version": "3.8.2-final"
  },
  "toc": {
   "nav_menu": {
    "height": "197px",
    "width": "255px"
   },
   "number_sections": true,
   "sideBar": true,
   "skip_h1_title": false,
   "toc_cell": false,
   "toc_position": {},
   "toc_section_display": "block",
   "toc_window_display": true
  }
 },
 "nbformat": 4,
 "nbformat_minor": 4
}