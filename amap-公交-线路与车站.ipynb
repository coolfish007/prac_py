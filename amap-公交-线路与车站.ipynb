{
 "cells": [
  {
   "cell_type": "markdown",
   "metadata": {},
   "source": [
    " ## 公交线路详情及关联车站\n",
    " 通过高德地图，根据公交线路名称获取公交线路。"
   ]
  },
  {
   "cell_type": "markdown",
   "metadata": {},
   "source": [
    " ### 高德地图爬取的共用内容"
   ]
  },
  {
   "cell_type": "code",
   "execution_count": 19,
   "metadata": {},
   "outputs": [],
   "source": [
    "import math\n",
    "import time\n",
    "import random\n",
    "import requests\n",
    "import pandas as pd\n",
    "from openpyxl import load_workbook"
   ]
  },
  {
   "cell_type": "code",
   "execution_count": 20,
   "metadata": {
    "lines_to_next_cell": 2
   },
   "outputs": [],
   "source": [
    "headers = {\n",
    "    \"authority\": \"ditu.amap.com\",\n",
    "    \"accept\": \"*/*\",\n",
    "    \"x-csrf-token\": \"b20895a13b20f5e8e4b4a66ee5006bda\",\n",
    "    \"x-requested-with\": \"XMLHttpRequest\",\n",
    "    \"user-agent\": \"Mozilla/5.0 (Macintosh; Intel Mac OS X 10_15_4) AppleWebKit/537.36 (KHTML, like Gecko) Chrome/81.0.4044.129 Safari/537.36\",\n",
    "    \"amapuuid\": \"1440c18d-8262-4b10-bf1d-dcfa90af7406\",\n",
    "    \"sec-fetch-site\": \"same-origin\",\n",
    "    \"sec-fetch-mode\": \"cors\",\n",
    "    \"sec-fetch-dest\": \"empty\",\n",
    "    \"referer\": \"https://ditu.amap.com/search?query=%E7%8E%AF%E8%B7%AF&city=210100&geoobj=123.235132%7C41.790515%7C123.583626%7C41.961776&zoom=11.66\",\n",
    "    \"accept-language\": \"zh-CN,zh;q=0.9,en;q=0.8\",\n",
    "    \"cookie\": \"UM_distinctid=1714efec5d91ad-0dcddda99ab246-396a7f06-fa000-1714efec5da7ca; cna=BEnxFtRzAkoCAXFCoBgfzgXk; CNZZDATA1255827602=412918052-1586405683-https%253A%252F%252Flbs.amap.com%252F%7C1586418799; _ga=GA1.2.1633570714.1587224095; passport_login=MzE2OTE2MSxhbWFwNW9mbjlkRVUsMnhsNzQzdXFqN2kzdmpyeXR6NWxjcWZieWd4MmZzemYsMTU4NzYxMTcxMixaVEJsTWpSa016UTBZelJqTldKall6WmtPVEJpWmpFeU4ySmtaR0V5TjJRPQ%3D%3D; oauth_state=ae8fa31ae280a2a0e644142c408b11cd; dev_help=Cm5hSMAkvpmaraCOySAMG2UwNDMyNTczMWE0OGI5ODIwNzIwYmViN2NjNmQ0NDE4N2E1NzZjMTUwMmRhNDlhMTQ3MzMwZjVhZmE4YTc5NTEus7mSrdBi1mHDTTh7gNwboXIGicOxRQcgdcUXFEULilQ2nc8zq%2BQ9cZkm1Nb3j0GTZnjb7yMdphosNOkRy%2F6ikMiSMXzZNCnLuZnVvfNkX4LBtvXzfH9D8hHbzRUHWbs%3D; guid=73b2-4fdc-b9ff-d417; x-csrf-token=b20895a13b20f5e8e4b4a66ee5006bda; CNZZDATA1255626299=500121251-1586274166-https%253A%252F%252Flbs.amap.com%252F%7C1588604569; l=eBPMb8PRQmIP7Q_bBO5Zhurza7793IdfcsPzaNbMiIHca1zPJFMJpNQcksVW6dtjgtCj5h-P8XiKbR3DJIzNwtrsywzdDt9x3xvR.; isg=BDc3615dJb7myKEODk0RW8eoxi2B_AteJmOE24nlwYZtOF96hsxXrtFaHphm0OPW\",\n",
    "    \"if-none-match\": 'W/\"1b6f7-SoSjGUlTkPIxfxEeqavxip5gXtY\"',\n",
    "}\n",
    "\n",
    "params = (\n",
    "    (\"query_type\", \"TQUERY\"),\n",
    "    (\"pagesize\", \"20\"),\n",
    "    (\"pagenum\", \"1\"),\n",
    "    (\"qii\", \"true\"),\n",
    "    (\"cluster_state\", \"5\"),\n",
    "    (\"need_utd\", \"true\"),\n",
    "    (\"utd_sceneid\", \"1000\"),\n",
    "    (\"div\", \"PC1000\"),\n",
    "    (\"addr_poi_merge\", \"true\"),\n",
    "    (\"is_classify\", \"true\"),\n",
    "    (\"zoom\", \"14.12\"),\n",
    "    (\"city\", \"210100\"),\n",
    "    (\"geoobj\", \"123.395895|41.775079|123.459137|41.806199\"),\n",
    ")"
   ]
  },
  {
   "cell_type": "markdown",
   "metadata": {
    "lines_to_next_cell": 2
   },
   "source": [
    " ### getbusstations"
   ]
  },
  {
   "cell_type": "code",
   "execution_count": 21,
   "metadata": {},
   "outputs": [],
   "source": [
    "def getbusstations(busline_dict, stations_key):\n",
    "    stations_dict_list = busline_dict[stations_key]\n",
    "    # print(type(stations_list))\n",
    "    # print('json中共有站点%s个:'%len(stations_dict_list))\n",
    "    station_tmp = pd.DataFrame(stations_dict_list, columns=station_df_column)\n",
    "    return station_tmp"
   ]
  },
  {
   "cell_type": "markdown",
   "metadata": {
    "lines_to_next_cell": 0
   },
   "source": [
    "### 坐标转换的代码.\n",
    "TODO: 1.此函数放放在独立的包中."
   ]
  },
  {
   "cell_type": "code",
   "execution_count": 22,
   "metadata": {},
   "outputs": [],
   "source": [
    "pi = 3.1415926535897932384626  # π\n",
    "a = 6378245.0  # 长半轴\n",
    "ee = 0.00669342162296594323  # 扁率\n",
    "\n",
    "\n",
    "def out_of_china(lng, lat):\n",
    "    \"\"\"\n",
    "    判断是否在国内，不在国内不做偏移\n",
    "    :param lng:\n",
    "    :param lat:\n",
    "    :return:\n",
    "    \"\"\"\n",
    "    return not (lng > 73.66 and lng < 135.05 and lat > 3.86 and lat < 53.55)\n",
    "\n",
    "\n",
    "def _transformlat(lng, lat):\n",
    "    ret = (\n",
    "        -100.0\n",
    "        + 2.0 * lng\n",
    "        + 3.0 * lat\n",
    "        + 0.2 * lat * lat\n",
    "        + 0.1 * lng * lat\n",
    "        + 0.2 * math.sqrt(math.fabs(lng))\n",
    "    )\n",
    "    ret += (20.0 * math.sin(6.0 * lng * pi) + 20.0 * math.sin(2.0 * lng * pi)) * 2.0 / 3.0\n",
    "    ret += (20.0 * math.sin(lat * pi) + 40.0 * math.sin(lat / 3.0 * pi)) * 2.0 / 3.0\n",
    "    ret += (160.0 * math.sin(lat / 12.0 * pi) + 320 * math.sin(lat * pi / 30.0)) * 2.0 / 3.0\n",
    "    return ret\n",
    "\n",
    "\n",
    "def _transformlng(lng, lat):\n",
    "    ret = (\n",
    "        300.0\n",
    "        + lng\n",
    "        + 2.0 * lat\n",
    "        + 0.1 * lng * lng\n",
    "        + 0.1 * lng * lat\n",
    "        + 0.1 * math.sqrt(math.fabs(lng))\n",
    "    )\n",
    "    ret += (20.0 * math.sin(6.0 * lng * pi) + 20.0 * math.sin(2.0 * lng * pi)) * 2.0 / 3.0\n",
    "    ret += (20.0 * math.sin(lng * pi) + 40.0 * math.sin(lng / 3.0 * pi)) * 2.0 / 3.0\n",
    "    ret += (150.0 * math.sin(lng / 12.0 * pi) + 300.0 * math.sin(lng / 30.0 * pi)) * 2.0 / 3.0\n",
    "    return ret\n",
    "\n",
    "\n",
    "def gcj02_to_wgs84(lng, lat):\n",
    "    \"\"\"\n",
    "    GCJ02(火星坐标系)转GPS84\n",
    "    :param lng:火星坐标系的经度\n",
    "    :param lat:火星坐标系纬度\n",
    "    :return:\n",
    "    \"\"\"\n",
    "    if out_of_china(lng, lat):\n",
    "        return lng, lat\n",
    "    dlat = _transformlat(lng - 105.0, lat - 35.0)\n",
    "    dlng = _transformlng(lng - 105.0, lat - 35.0)\n",
    "    radlat = lat / 180.0 * pi\n",
    "    magic = math.sin(radlat)\n",
    "    magic = 1 - ee * magic * magic\n",
    "    sqrtmagic = math.sqrt(magic)\n",
    "    dlat = (dlat * 180.0) / ((a * (1 - ee)) / (magic * sqrtmagic) * pi)\n",
    "    dlng = (dlng * 180.0) / (a / sqrtmagic * math.cos(radlat) * pi)\n",
    "    mglat = lat + dlat\n",
    "    mglng = lng + dlng\n",
    "    return [lng * 2 - mglng, lat * 2 - mglat]"
   ]
  },
  {
   "cell_type": "markdown",
   "metadata": {
    "lines_to_next_cell": 0
   },
   "source": [
    " ### apply()的方式处理线路和车站的坐标"
   ]
  },
  {
   "cell_type": "code",
   "execution_count": 23,
   "metadata": {},
   "outputs": [],
   "source": [
    "def change_gcj02_in_busline(row, xs, ys):\n",
    "    xs_value = row[xs]\n",
    "    ys_value = row[ys]\n",
    "    gcj02_lst = list(zip(map(float, xs_value.split(\",\")), map(float, ys_value.split(\",\"))))\n",
    "    wgs84_lst = []\n",
    "    for coords in gcj02_lst:\n",
    "        result = gcj02_to_wgs84(coords[0], coords[1])\n",
    "        lng = str(round(result[0], 6))\n",
    "        lat = str(round(result[1], 6))\n",
    "        wgs84_lst.append((lng, lat))\n",
    "    wgs84_lst = list(zip(*wgs84_lst))\n",
    "    return \",\".join(wgs84_lst[0]), \",\".join(wgs84_lst[1])\n",
    "\n",
    "\n",
    "def change_gcj02_in_station(row, xy_coords, poiid2_xy):\n",
    "    xy_coords_value = list(map(float, row[xy_coords].split(\";\")))\n",
    "    poiid2_xy_value = list(map(float, row[poiid2_xy].split(\";\")))\n",
    "    result = gcj02_to_wgs84(xy_coords_value[0], xy_coords_value[1])\n",
    "    xy_coords_84_lst = map(lambda v: str(round(v, 6)), result)\n",
    "    xy_coords_84_str = \";\".join(xy_coords_84_lst)\n",
    "    result = gcj02_to_wgs84(poiid2_xy_value[0], poiid2_xy_value[1])\n",
    "    poiid2_xy_84_lst = map(lambda v: str(round(v, 6)), result)\n",
    "    poiid2_xy_84_str = \";\".join(poiid2_xy_84_lst)\n",
    "    return xy_coords_84_str, poiid2_xy_84_str\n",
    "\n",
    "\n",
    "# 暂时没有调用\n",
    "def change_gcj02_in_station2(row, xy_coords, poiid2_xy):\n",
    "    xy_coords_value = list(map(float, row[xy_coords].split(\";\")))\n",
    "    poiid2_xy_value = list(map(float, row[poiid2_xy].split(\";\")))\n",
    "    result = gcj02_to_wgs84(xy_coords_value[0], xy_coords_value[1])\n",
    "    xy_coords_84 = result\n",
    "    result = gcj02_to_wgs84(poiid2_xy_value[0], poiid2_xy_value[1])\n",
    "    poiid2_xy_84 = result\n",
    "    return xy_coords_84, poiid2_xy_84"
   ]
  },
  {
   "source": [
    "### getonebusline-方式1\n",
    "在pydata-test目录下测试代码-爬取数据.ipynb中."
   ],
   "cell_type": "markdown",
   "metadata": {}
  },
  {
   "cell_type": "markdown",
   "metadata": {
    "lines_to_next_cell": 0
   },
   "source": [
    "### getonebusline-方式2\n",
    "TODO: 1.200505:line_no_info.txt的车站看一看json的数据结构,并构造合适的公交站名.\n",
    "FIXME 1.200505:公交线路应取所有而不是前两个.--200511改完并测试,但没有全量跑."
   ]
  },
  {
   "cell_type": "code",
   "execution_count": 26,
   "metadata": {},
   "outputs": [],
   "source": [
    "def getonebusline2(busline_search_name):\n",
    "    busline_url = \"https://ditu.amap.com/service/poiInfo?keywords=\" + busline_search_name\n",
    "    response = requests.get(busline_url, headers=headers, params=params)\n",
    "    data = response.json()\n",
    "    busline = pd.DataFrame()\n",
    "    oneline_stations = pd.DataFrame()\n",
    "    if data[\"data\"][\"message\"] and data[\"data\"][\"busline_list\"]:\n",
    "        print(\"当前公交线路:[%s],地图已查询到.\" % busline_search_name)\n",
    "        busline_dict = data[\"data\"][\"busline_list\"]\n",
    "        if len(busline_dict) >= 2:\n",
    "            print(\"--抽取公交线路(双向):[%s]的详情\" % busline_search_name)\n",
    "            busline = pd.DataFrame(busline_dict, columns=busline_df_column)\n",
    "            busline.loc[0, \"type\"] = \"a2b\"\n",
    "            busline.loc[1, \"type\"] = \"b2a\"\n",
    "            busline = busline[:2]\n",
    "            busline[\"search_name\"] = busline_search_name\n",
    "            busline[\"xs-84\"], busline[\"ys-84\"] = zip(\n",
    "                *busline[[\"xs\", \"ys\"]].apply(change_gcj02_in_busline, axis=1, xs=\"xs\", ys=\"ys\")\n",
    "            )\n",
    "            i = 0\n",
    "            while i < 2:\n",
    "                tmp = getbusstations(busline_dict[i], \"stations\")\n",
    "                print(\n",
    "                    \"--抽取公交线路:[%s-%s]的站点,此线路共有[%d]个站点\"\n",
    "                    % (busline_search_name, busline.iloc[i][\"type\"], len(tmp))\n",
    "                )\n",
    "                # print(','.join(tmp['name']))\n",
    "                tmp[\"busline_id\"] = busline.iloc[i][\"id\"]\n",
    "                tmp[\"order\"] = tmp.index\n",
    "                tmp[\"xy_coords_84\"], tmp[\"poiid2_xy_84\"] = zip(\n",
    "                    *tmp[[\"xy_coords\", \"poiid2_xy\"]].apply(\n",
    "                        change_gcj02_in_station, axis=1, args=(\"xy_coords\", \"poiid2_xy\")\n",
    "                    )\n",
    "                )\n",
    "                oneline_stations = oneline_stations.append(tmp, ignore_index=True)\n",
    "                i += 1\n",
    "    else:\n",
    "        print(\"$$没有查询到公交线路:[%s]\" % busline_search_name)\n",
    "    return busline, oneline_stations"
   ]
  },
  {
   "cell_type": "markdown",
   "metadata": {
    "lines_to_next_cell": 0
   },
   "source": [
    "### getonebusline-方式3\n",
    "高德地图中的查询URI是模糊查询,比如使用'环路'查询公交车,含有关键字的公交线路都会被查询出来,由于我们的目的是把所有的公交线路\n",
    "都获取到,所以每次查询所获得的busline_list里边的内容都需要,同时注意,为了避免之后还有查询的关键字查出同样的内容,使用busline id进行去重."
   ]
  },
  {
   "cell_type": "code",
   "execution_count": null,
   "metadata": {},
   "outputs": [],
   "source": [
    "def getonebusline3(busline_search_name, current_busline_ids):\n",
    "    busline_url = \"https://ditu.amap.com/service/poiInfo?keywords=\" + busline_search_name\n",
    "    response = requests.get(busline_url, headers=headers, params=params)\n",
    "    data = response.json()\n",
    "    busline = pd.DataFrame(columns=busline_df_column)\n",
    "    oneline_stations = pd.DataFrame(columns=station_df_column)\n",
    "    line_redup_bol = pd.DataFrame()\n",
    "    line_redup_lst = []\n",
    "    if data[\"data\"][\"message\"] and data[\"data\"][\"busline_list\"]:\n",
    "        print(\"当前公交线路:[%s],地图已查询到.\" % busline_search_name)\n",
    "        busline_dict = data[\"data\"][\"busline_list\"]\n",
    "        if len(busline_dict) > 0:\n",
    "            busline = pd.DataFrame(busline_dict, columns=busline_df_column)\n",
    "            line_redup_bol = busline[\"id\"].astype(\"int\").isin(current_busline_ids)\n",
    "            # 不能用append,需要元素级别放入\n",
    "            # line_redup_lst.append(list(busline[line_redup_bol]['id']))\n",
    "            line_redup_lst = (\n",
    "                list(busline[line_redup_bol][\"id\"]) if len(busline[line_redup_bol]) > 0 else []\n",
    "            )\n",
    "            busline = busline[~line_redup_bol]\n",
    "            print(\"--抽取公交线路(双向):[%s]的详情,去重后共有[%d]条线路\" % (busline_search_name, len(busline)))\n",
    "            if len(busline) > 0:\n",
    "                busline[\"search_name\"] = busline_search_name\n",
    "                busline[\"xs-84\"], busline[\"ys-84\"] = zip(\n",
    "                    *busline[[\"xs\", \"ys\"]].apply(change_gcj02_in_busline, axis=1, xs=\"xs\", ys=\"ys\")\n",
    "                )\n",
    "                i = 0\n",
    "                j = 0\n",
    "                while i < len(line_redup_bol):\n",
    "                    if line_redup_bol.iloc[i]:\n",
    "                        i += 1\n",
    "                        continue\n",
    "                    tmp = getbusstations(busline_dict[i], \"stations\")\n",
    "                    print(\"--抽取公交线路:[%s]的站点,此线路共有[%d]个站点\" % (busline_dict[i][\"name\"], len(tmp)))\n",
    "                    # print(','.join(tmp['name']))\n",
    "                    tmp[\"busline_id\"] = busline.iloc[j][\"id\"]\n",
    "                    tmp[\"order\"] = tmp.index\n",
    "                    tmp[\"xy_coords_84\"], tmp[\"poiid2_xy_84\"] = zip(\n",
    "                        *tmp[[\"xy_coords\", \"poiid2_xy\"]].apply(\n",
    "                            change_gcj02_in_station, axis=1, args=(\"xy_coords\", \"poiid2_xy\")\n",
    "                        )\n",
    "                    )\n",
    "                    oneline_stations = oneline_stations.append(tmp, ignore_index=True)\n",
    "                    i += 1\n",
    "                    j += 1\n",
    "            else:\n",
    "                print(\"$$查询到的公交线路:[%s]已存在结果中,查看数据汇总.\" % busline_search_name)\n",
    "    else:\n",
    "        print(\"$$没有查询到公交线路:[%s]\" % busline_search_name)\n",
    "    return busline, oneline_stations, line_redup_lst"
   ]
  },
  {
   "cell_type": "markdown",
   "metadata": {
    "lines_to_next_cell": 0
   },
   "source": [
    "写入excel文件,支持运行多次不断追加原excel文件的内容写入.\n",
    "TODO: 1.200505,考虑除excel其他存储形式的文件如HDF5/parquet."
   ]
  },
  {
   "cell_type": "code",
   "execution_count": null,
   "metadata": {},
   "outputs": [],
   "source": [
    "def write2excel(oldbusline, newbusline, oldstations, newstations):\n",
    "    allbusline = oldbusline.append(newbusline, ignore_index=True)\n",
    "    allstations = oldstations.append(newstations, ignore_index=True)\n",
    "    allbusline.to_excel(writer, sheet_name=busline_sheet_name, header=True, index=False)\n",
    "    allstations.to_excel(writer, sheet_name=stations_sheet_name, header=True, index=False)\n",
    "    writer.save()\n",
    "    writer.close()"
   ]
  },
  {
   "cell_type": "code",
   "execution_count": null,
   "metadata": {},
   "outputs": [],
   "source": [
    "def write2excel2(newbusline, newstations):\n",
    "    newbusline.to_excel(writer, sheet_name=busline_sheet_name, header=True, index=False)\n",
    "    newstations.to_excel(writer, sheet_name=stations_sheet_name, header=True, index=False)\n",
    "    writer.save()\n",
    "    writer.close()"
   ]
  },
  {
   "cell_type": "markdown",
   "metadata": {
    "lines_to_next_cell": 0
   },
   "source": [
    " ### 共用调用函数前置代码"
   ]
  },
  {
   "cell_type": "code",
   "execution_count": 24,
   "metadata": {
    "lines_to_next_cell": 2
   },
   "outputs": [],
   "source": [
    "# buslines = '环路,100,101'\n",
    "buslines = \"环路,苦茶,100,101,100\"\n",
    "busline_df_column = [\n",
    "    \"id\",\n",
    "    \"code\",\n",
    "    \"type\",\n",
    "    \"search_name\",\n",
    "    \"key_name\",\n",
    "    \"name\",\n",
    "    \"front_name\",\n",
    "    \"terminal_name\",\n",
    "    \"company\",\n",
    "    \"length\",\n",
    "    \"status\",\n",
    "    \"ic_card\",\n",
    "    \"air\",\n",
    "    \"total_price\",\n",
    "    \"start_time\",\n",
    "    \"end_time\",\n",
    "    \"interval\",\n",
    "    \"xs\",\n",
    "    \"ys\",\n",
    "    \"xs-84\",\n",
    "    \"ys-84\",\n",
    "]\n",
    "station_df_column = [\n",
    "    \"station_id\",\n",
    "    \"name\",\n",
    "    \"busline_id\",\n",
    "    \"order\",\n",
    "    \"poiid1\",\n",
    "    \"xy_coords\",\n",
    "    \"xy_coords_84\",\n",
    "    \"poiid2\",\n",
    "    \"poiid2_xy\",\n",
    "    \"poiid2_xy_84\",\n",
    "]\n",
    "busline_df = pd.DataFrame(columns=busline_df_column)\n",
    "station_df = pd.DataFrame(columns=station_df_column)\n",
    "\n",
    "line_noinfo = []\n",
    "line_redupinfo = []"
   ]
  },
  {
   "cell_type": "markdown",
   "metadata": {
    "lines_to_next_cell": 0
   },
   "source": [
    "### 从Excel文件中来,到文件中去\n",
    "#### 从文件读取待提取线路信息\n",
    "从excel文件中读取线路名称,为了和下面代码兼容,组成字符串:'环路,101,100'的形式."
   ]
  },
  {
   "cell_type": "code",
   "execution_count": 28,
   "metadata": {
    "lines_to_next_cell": 2
   },
   "outputs": [
    {
     "ename": "ProxyError",
     "evalue": "HTTPSConnectionPool(host='ditu.amap.com', port=443): Max retries exceeded with url: /service/poiInfo?keywords=%E7%8E%AF%E8%B7%AF&query_type=TQUERY&pagesize=20&pagenum=1&qii=true&cluster_state=5&need_utd=true&utd_sceneid=1000&div=PC1000&addr_poi_merge=true&is_classify=true&zoom=14.12&city=210100&geoobj=123.395895%7C41.775079%7C123.459137%7C41.806199&keywords=%E7%8E%AF%E8%B7%AF (Caused by ProxyError('Cannot connect to proxy.', NewConnectionError('<urllib3.connection.HTTPSConnection object at 0x11a8f8130>: Failed to establish a new connection: [Errno 61] Connection refused')))",
     "output_type": "error",
     "traceback": [
      "\u001b[0;31m---------------------------------------------------------------------------\u001b[0m",
      "\u001b[0;31mConnectionRefusedError\u001b[0m                    Traceback (most recent call last)",
      "\u001b[0;32m~/.pyenv/versions/data/lib/python3.8/site-packages/urllib3/connection.py\u001b[0m in \u001b[0;36m_new_conn\u001b[0;34m(self)\u001b[0m\n\u001b[1;32m    158\u001b[0m         \u001b[0;32mtry\u001b[0m\u001b[0;34m:\u001b[0m\u001b[0;34m\u001b[0m\u001b[0;34m\u001b[0m\u001b[0m\n\u001b[0;32m--> 159\u001b[0;31m             conn = connection.create_connection(\n\u001b[0m\u001b[1;32m    160\u001b[0m                 \u001b[0;34m(\u001b[0m\u001b[0mself\u001b[0m\u001b[0;34m.\u001b[0m\u001b[0m_dns_host\u001b[0m\u001b[0;34m,\u001b[0m \u001b[0mself\u001b[0m\u001b[0;34m.\u001b[0m\u001b[0mport\u001b[0m\u001b[0;34m)\u001b[0m\u001b[0;34m,\u001b[0m \u001b[0mself\u001b[0m\u001b[0;34m.\u001b[0m\u001b[0mtimeout\u001b[0m\u001b[0;34m,\u001b[0m \u001b[0;34m**\u001b[0m\u001b[0mextra_kw\u001b[0m\u001b[0;34m\u001b[0m\u001b[0;34m\u001b[0m\u001b[0m\n",
      "\u001b[0;32m~/.pyenv/versions/data/lib/python3.8/site-packages/urllib3/util/connection.py\u001b[0m in \u001b[0;36mcreate_connection\u001b[0;34m(address, timeout, source_address, socket_options)\u001b[0m\n\u001b[1;32m     83\u001b[0m     \u001b[0;32mif\u001b[0m \u001b[0merr\u001b[0m \u001b[0;32mis\u001b[0m \u001b[0;32mnot\u001b[0m \u001b[0;32mNone\u001b[0m\u001b[0;34m:\u001b[0m\u001b[0;34m\u001b[0m\u001b[0;34m\u001b[0m\u001b[0m\n\u001b[0;32m---> 84\u001b[0;31m         \u001b[0;32mraise\u001b[0m \u001b[0merr\u001b[0m\u001b[0;34m\u001b[0m\u001b[0;34m\u001b[0m\u001b[0m\n\u001b[0m\u001b[1;32m     85\u001b[0m \u001b[0;34m\u001b[0m\u001b[0m\n",
      "\u001b[0;32m~/.pyenv/versions/data/lib/python3.8/site-packages/urllib3/util/connection.py\u001b[0m in \u001b[0;36mcreate_connection\u001b[0;34m(address, timeout, source_address, socket_options)\u001b[0m\n\u001b[1;32m     73\u001b[0m                 \u001b[0msock\u001b[0m\u001b[0;34m.\u001b[0m\u001b[0mbind\u001b[0m\u001b[0;34m(\u001b[0m\u001b[0msource_address\u001b[0m\u001b[0;34m)\u001b[0m\u001b[0;34m\u001b[0m\u001b[0;34m\u001b[0m\u001b[0m\n\u001b[0;32m---> 74\u001b[0;31m             \u001b[0msock\u001b[0m\u001b[0;34m.\u001b[0m\u001b[0mconnect\u001b[0m\u001b[0;34m(\u001b[0m\u001b[0msa\u001b[0m\u001b[0;34m)\u001b[0m\u001b[0;34m\u001b[0m\u001b[0;34m\u001b[0m\u001b[0m\n\u001b[0m\u001b[1;32m     75\u001b[0m             \u001b[0;32mreturn\u001b[0m \u001b[0msock\u001b[0m\u001b[0;34m\u001b[0m\u001b[0;34m\u001b[0m\u001b[0m\n",
      "\u001b[0;31mConnectionRefusedError\u001b[0m: [Errno 61] Connection refused",
      "\nDuring handling of the above exception, another exception occurred:\n",
      "\u001b[0;31mNewConnectionError\u001b[0m                        Traceback (most recent call last)",
      "\u001b[0;32m~/.pyenv/versions/data/lib/python3.8/site-packages/urllib3/connectionpool.py\u001b[0m in \u001b[0;36murlopen\u001b[0;34m(self, method, url, body, headers, retries, redirect, assert_same_host, timeout, pool_timeout, release_conn, chunked, body_pos, **response_kw)\u001b[0m\n\u001b[1;32m    666\u001b[0m             \u001b[0;32mif\u001b[0m \u001b[0mis_new_proxy_conn\u001b[0m\u001b[0;34m:\u001b[0m\u001b[0;34m\u001b[0m\u001b[0;34m\u001b[0m\u001b[0m\n\u001b[0;32m--> 667\u001b[0;31m                 \u001b[0mself\u001b[0m\u001b[0;34m.\u001b[0m\u001b[0m_prepare_proxy\u001b[0m\u001b[0;34m(\u001b[0m\u001b[0mconn\u001b[0m\u001b[0;34m)\u001b[0m\u001b[0;34m\u001b[0m\u001b[0;34m\u001b[0m\u001b[0m\n\u001b[0m\u001b[1;32m    668\u001b[0m \u001b[0;34m\u001b[0m\u001b[0m\n",
      "\u001b[0;32m~/.pyenv/versions/data/lib/python3.8/site-packages/urllib3/connectionpool.py\u001b[0m in \u001b[0;36m_prepare_proxy\u001b[0;34m(self, conn)\u001b[0m\n\u001b[1;32m    929\u001b[0m         \u001b[0mconn\u001b[0m\u001b[0;34m.\u001b[0m\u001b[0mset_tunnel\u001b[0m\u001b[0;34m(\u001b[0m\u001b[0mself\u001b[0m\u001b[0;34m.\u001b[0m\u001b[0m_proxy_host\u001b[0m\u001b[0;34m,\u001b[0m \u001b[0mself\u001b[0m\u001b[0;34m.\u001b[0m\u001b[0mport\u001b[0m\u001b[0;34m,\u001b[0m \u001b[0mself\u001b[0m\u001b[0;34m.\u001b[0m\u001b[0mproxy_headers\u001b[0m\u001b[0;34m)\u001b[0m\u001b[0;34m\u001b[0m\u001b[0;34m\u001b[0m\u001b[0m\n\u001b[0;32m--> 930\u001b[0;31m         \u001b[0mconn\u001b[0m\u001b[0;34m.\u001b[0m\u001b[0mconnect\u001b[0m\u001b[0;34m(\u001b[0m\u001b[0;34m)\u001b[0m\u001b[0;34m\u001b[0m\u001b[0;34m\u001b[0m\u001b[0m\n\u001b[0m\u001b[1;32m    931\u001b[0m \u001b[0;34m\u001b[0m\u001b[0m\n",
      "\u001b[0;32m~/.pyenv/versions/data/lib/python3.8/site-packages/urllib3/connection.py\u001b[0m in \u001b[0;36mconnect\u001b[0;34m(self)\u001b[0m\n\u001b[1;32m    307\u001b[0m         \u001b[0;31m# Add certificate verification\u001b[0m\u001b[0;34m\u001b[0m\u001b[0;34m\u001b[0m\u001b[0;34m\u001b[0m\u001b[0m\n\u001b[0;32m--> 308\u001b[0;31m         \u001b[0mconn\u001b[0m \u001b[0;34m=\u001b[0m \u001b[0mself\u001b[0m\u001b[0;34m.\u001b[0m\u001b[0m_new_conn\u001b[0m\u001b[0;34m(\u001b[0m\u001b[0;34m)\u001b[0m\u001b[0;34m\u001b[0m\u001b[0;34m\u001b[0m\u001b[0m\n\u001b[0m\u001b[1;32m    309\u001b[0m         \u001b[0mhostname\u001b[0m \u001b[0;34m=\u001b[0m \u001b[0mself\u001b[0m\u001b[0;34m.\u001b[0m\u001b[0mhost\u001b[0m\u001b[0;34m\u001b[0m\u001b[0;34m\u001b[0m\u001b[0m\n",
      "\u001b[0;32m~/.pyenv/versions/data/lib/python3.8/site-packages/urllib3/connection.py\u001b[0m in \u001b[0;36m_new_conn\u001b[0;34m(self)\u001b[0m\n\u001b[1;32m    170\u001b[0m         \u001b[0;32mexcept\u001b[0m \u001b[0mSocketError\u001b[0m \u001b[0;32mas\u001b[0m \u001b[0me\u001b[0m\u001b[0;34m:\u001b[0m\u001b[0;34m\u001b[0m\u001b[0;34m\u001b[0m\u001b[0m\n\u001b[0;32m--> 171\u001b[0;31m             raise NewConnectionError(\n\u001b[0m\u001b[1;32m    172\u001b[0m                 \u001b[0mself\u001b[0m\u001b[0;34m,\u001b[0m \u001b[0;34m\"Failed to establish a new connection: %s\"\u001b[0m \u001b[0;34m%\u001b[0m \u001b[0me\u001b[0m\u001b[0;34m\u001b[0m\u001b[0;34m\u001b[0m\u001b[0m\n",
      "\u001b[0;31mNewConnectionError\u001b[0m: <urllib3.connection.HTTPSConnection object at 0x11a8f8130>: Failed to establish a new connection: [Errno 61] Connection refused",
      "\nDuring handling of the above exception, another exception occurred:\n",
      "\u001b[0;31mMaxRetryError\u001b[0m                             Traceback (most recent call last)",
      "\u001b[0;32m~/.pyenv/versions/data/lib/python3.8/site-packages/requests/adapters.py\u001b[0m in \u001b[0;36msend\u001b[0;34m(self, request, stream, timeout, verify, cert, proxies)\u001b[0m\n\u001b[1;32m    438\u001b[0m             \u001b[0;32mif\u001b[0m \u001b[0;32mnot\u001b[0m \u001b[0mchunked\u001b[0m\u001b[0;34m:\u001b[0m\u001b[0;34m\u001b[0m\u001b[0;34m\u001b[0m\u001b[0m\n\u001b[0;32m--> 439\u001b[0;31m                 resp = conn.urlopen(\n\u001b[0m\u001b[1;32m    440\u001b[0m                     \u001b[0mmethod\u001b[0m\u001b[0;34m=\u001b[0m\u001b[0mrequest\u001b[0m\u001b[0;34m.\u001b[0m\u001b[0mmethod\u001b[0m\u001b[0;34m,\u001b[0m\u001b[0;34m\u001b[0m\u001b[0;34m\u001b[0m\u001b[0m\n",
      "\u001b[0;32m~/.pyenv/versions/data/lib/python3.8/site-packages/urllib3/connectionpool.py\u001b[0m in \u001b[0;36murlopen\u001b[0;34m(self, method, url, body, headers, retries, redirect, assert_same_host, timeout, pool_timeout, release_conn, chunked, body_pos, **response_kw)\u001b[0m\n\u001b[1;32m    723\u001b[0m \u001b[0;34m\u001b[0m\u001b[0m\n\u001b[0;32m--> 724\u001b[0;31m             retries = retries.increment(\n\u001b[0m\u001b[1;32m    725\u001b[0m                 \u001b[0mmethod\u001b[0m\u001b[0;34m,\u001b[0m \u001b[0murl\u001b[0m\u001b[0;34m,\u001b[0m \u001b[0merror\u001b[0m\u001b[0;34m=\u001b[0m\u001b[0me\u001b[0m\u001b[0;34m,\u001b[0m \u001b[0m_pool\u001b[0m\u001b[0;34m=\u001b[0m\u001b[0mself\u001b[0m\u001b[0;34m,\u001b[0m \u001b[0m_stacktrace\u001b[0m\u001b[0;34m=\u001b[0m\u001b[0msys\u001b[0m\u001b[0;34m.\u001b[0m\u001b[0mexc_info\u001b[0m\u001b[0;34m(\u001b[0m\u001b[0;34m)\u001b[0m\u001b[0;34m[\u001b[0m\u001b[0;36m2\u001b[0m\u001b[0;34m]\u001b[0m\u001b[0;34m\u001b[0m\u001b[0;34m\u001b[0m\u001b[0m\n",
      "\u001b[0;32m~/.pyenv/versions/data/lib/python3.8/site-packages/urllib3/util/retry.py\u001b[0m in \u001b[0;36mincrement\u001b[0;34m(self, method, url, response, error, _pool, _stacktrace)\u001b[0m\n\u001b[1;32m    438\u001b[0m         \u001b[0;32mif\u001b[0m \u001b[0mnew_retry\u001b[0m\u001b[0;34m.\u001b[0m\u001b[0mis_exhausted\u001b[0m\u001b[0;34m(\u001b[0m\u001b[0;34m)\u001b[0m\u001b[0;34m:\u001b[0m\u001b[0;34m\u001b[0m\u001b[0;34m\u001b[0m\u001b[0m\n\u001b[0;32m--> 439\u001b[0;31m             \u001b[0;32mraise\u001b[0m \u001b[0mMaxRetryError\u001b[0m\u001b[0;34m(\u001b[0m\u001b[0m_pool\u001b[0m\u001b[0;34m,\u001b[0m \u001b[0murl\u001b[0m\u001b[0;34m,\u001b[0m \u001b[0merror\u001b[0m \u001b[0;32mor\u001b[0m \u001b[0mResponseError\u001b[0m\u001b[0;34m(\u001b[0m\u001b[0mcause\u001b[0m\u001b[0;34m)\u001b[0m\u001b[0;34m)\u001b[0m\u001b[0;34m\u001b[0m\u001b[0;34m\u001b[0m\u001b[0m\n\u001b[0m\u001b[1;32m    440\u001b[0m \u001b[0;34m\u001b[0m\u001b[0m\n",
      "\u001b[0;31mMaxRetryError\u001b[0m: HTTPSConnectionPool(host='ditu.amap.com', port=443): Max retries exceeded with url: /service/poiInfo?keywords=%E7%8E%AF%E8%B7%AF&query_type=TQUERY&pagesize=20&pagenum=1&qii=true&cluster_state=5&need_utd=true&utd_sceneid=1000&div=PC1000&addr_poi_merge=true&is_classify=true&zoom=14.12&city=210100&geoobj=123.395895%7C41.775079%7C123.459137%7C41.806199&keywords=%E7%8E%AF%E8%B7%AF (Caused by ProxyError('Cannot connect to proxy.', NewConnectionError('<urllib3.connection.HTTPSConnection object at 0x11a8f8130>: Failed to establish a new connection: [Errno 61] Connection refused')))",
      "\nDuring handling of the above exception, another exception occurred:\n",
      "\u001b[0;31mProxyError\u001b[0m                                Traceback (most recent call last)",
      "\u001b[0;32m<ipython-input-28-d079d9795150>\u001b[0m in \u001b[0;36m<module>\u001b[0;34m\u001b[0m\n\u001b[1;32m      5\u001b[0m             \u001b[0mprint\u001b[0m\u001b[0;34m(\u001b[0m\u001b[0;34m'--当前公交线路:[%s] 已存在--'\u001b[0m \u001b[0;34m%\u001b[0m \u001b[0mbusline_name\u001b[0m\u001b[0;34m)\u001b[0m\u001b[0;34m\u001b[0m\u001b[0;34m\u001b[0m\u001b[0m\n\u001b[1;32m      6\u001b[0m         \u001b[0;32melse\u001b[0m\u001b[0;34m:\u001b[0m\u001b[0;34m\u001b[0m\u001b[0;34m\u001b[0m\u001b[0m\n\u001b[0;32m----> 7\u001b[0;31m             \u001b[0mbusline\u001b[0m\u001b[0;34m,\u001b[0m \u001b[0mstations\u001b[0m \u001b[0;34m=\u001b[0m \u001b[0mgetonebusline2\u001b[0m\u001b[0;34m(\u001b[0m\u001b[0mbusline_name\u001b[0m\u001b[0;34m)\u001b[0m\u001b[0;34m\u001b[0m\u001b[0;34m\u001b[0m\u001b[0m\n\u001b[0m\u001b[1;32m      8\u001b[0m             \u001b[0;32mif\u001b[0m \u001b[0;34m(\u001b[0m\u001b[0mlen\u001b[0m\u001b[0;34m(\u001b[0m\u001b[0mbusline\u001b[0m\u001b[0;34m)\u001b[0m \u001b[0;34m==\u001b[0m \u001b[0;36m0\u001b[0m\u001b[0;34m)\u001b[0m\u001b[0;34m:\u001b[0m\u001b[0;34m\u001b[0m\u001b[0;34m\u001b[0m\u001b[0m\n\u001b[1;32m      9\u001b[0m                 \u001b[0mline_noinfo\u001b[0m\u001b[0;34m.\u001b[0m\u001b[0mappend\u001b[0m\u001b[0;34m(\u001b[0m\u001b[0mbusline_name\u001b[0m\u001b[0;34m)\u001b[0m\u001b[0;34m\u001b[0m\u001b[0;34m\u001b[0m\u001b[0m\n",
      "\u001b[0;32m<ipython-input-23-45cbe7381446>\u001b[0m in \u001b[0;36mgetonebusline2\u001b[0;34m(busline_name)\u001b[0m\n\u001b[1;32m     37\u001b[0m \u001b[0;32mdef\u001b[0m \u001b[0mgetonebusline2\u001b[0m\u001b[0;34m(\u001b[0m\u001b[0mbusline_name\u001b[0m\u001b[0;34m)\u001b[0m\u001b[0;34m:\u001b[0m\u001b[0;34m\u001b[0m\u001b[0;34m\u001b[0m\u001b[0m\n\u001b[1;32m     38\u001b[0m     \u001b[0mbusline_url\u001b[0m \u001b[0;34m=\u001b[0m \u001b[0;34m'https://ditu.amap.com/service/poiInfo?keywords='\u001b[0m \u001b[0;34m+\u001b[0m \u001b[0mbusline_name\u001b[0m\u001b[0;34m\u001b[0m\u001b[0;34m\u001b[0m\u001b[0m\n\u001b[0;32m---> 39\u001b[0;31m     \u001b[0mresponse\u001b[0m \u001b[0;34m=\u001b[0m \u001b[0mrequests\u001b[0m\u001b[0;34m.\u001b[0m\u001b[0mget\u001b[0m\u001b[0;34m(\u001b[0m\u001b[0mbusline_url\u001b[0m\u001b[0;34m,\u001b[0m \u001b[0mheaders\u001b[0m\u001b[0;34m=\u001b[0m\u001b[0mheaders\u001b[0m\u001b[0;34m,\u001b[0m \u001b[0mparams\u001b[0m\u001b[0;34m=\u001b[0m\u001b[0mparams\u001b[0m\u001b[0;34m)\u001b[0m\u001b[0;34m\u001b[0m\u001b[0;34m\u001b[0m\u001b[0m\n\u001b[0m\u001b[1;32m     40\u001b[0m     \u001b[0mdata\u001b[0m \u001b[0;34m=\u001b[0m \u001b[0mresponse\u001b[0m\u001b[0;34m.\u001b[0m\u001b[0mjson\u001b[0m\u001b[0;34m(\u001b[0m\u001b[0;34m)\u001b[0m\u001b[0;34m\u001b[0m\u001b[0;34m\u001b[0m\u001b[0m\n\u001b[1;32m     41\u001b[0m     \u001b[0mbusline\u001b[0m \u001b[0;34m=\u001b[0m \u001b[0mpd\u001b[0m\u001b[0;34m.\u001b[0m\u001b[0mDataFrame\u001b[0m\u001b[0;34m(\u001b[0m\u001b[0;34m)\u001b[0m\u001b[0;34m\u001b[0m\u001b[0;34m\u001b[0m\u001b[0m\n",
      "\u001b[0;32m~/.pyenv/versions/data/lib/python3.8/site-packages/requests/api.py\u001b[0m in \u001b[0;36mget\u001b[0;34m(url, params, **kwargs)\u001b[0m\n\u001b[1;32m     74\u001b[0m \u001b[0;34m\u001b[0m\u001b[0m\n\u001b[1;32m     75\u001b[0m     \u001b[0mkwargs\u001b[0m\u001b[0;34m.\u001b[0m\u001b[0msetdefault\u001b[0m\u001b[0;34m(\u001b[0m\u001b[0;34m'allow_redirects'\u001b[0m\u001b[0;34m,\u001b[0m \u001b[0;32mTrue\u001b[0m\u001b[0;34m)\u001b[0m\u001b[0;34m\u001b[0m\u001b[0;34m\u001b[0m\u001b[0m\n\u001b[0;32m---> 76\u001b[0;31m     \u001b[0;32mreturn\u001b[0m \u001b[0mrequest\u001b[0m\u001b[0;34m(\u001b[0m\u001b[0;34m'get'\u001b[0m\u001b[0;34m,\u001b[0m \u001b[0murl\u001b[0m\u001b[0;34m,\u001b[0m \u001b[0mparams\u001b[0m\u001b[0;34m=\u001b[0m\u001b[0mparams\u001b[0m\u001b[0;34m,\u001b[0m \u001b[0;34m**\u001b[0m\u001b[0mkwargs\u001b[0m\u001b[0;34m)\u001b[0m\u001b[0;34m\u001b[0m\u001b[0;34m\u001b[0m\u001b[0m\n\u001b[0m\u001b[1;32m     77\u001b[0m \u001b[0;34m\u001b[0m\u001b[0m\n\u001b[1;32m     78\u001b[0m \u001b[0;34m\u001b[0m\u001b[0m\n",
      "\u001b[0;32m~/.pyenv/versions/data/lib/python3.8/site-packages/requests/api.py\u001b[0m in \u001b[0;36mrequest\u001b[0;34m(method, url, **kwargs)\u001b[0m\n\u001b[1;32m     59\u001b[0m     \u001b[0;31m# cases, and look like a memory leak in others.\u001b[0m\u001b[0;34m\u001b[0m\u001b[0;34m\u001b[0m\u001b[0;34m\u001b[0m\u001b[0m\n\u001b[1;32m     60\u001b[0m     \u001b[0;32mwith\u001b[0m \u001b[0msessions\u001b[0m\u001b[0;34m.\u001b[0m\u001b[0mSession\u001b[0m\u001b[0;34m(\u001b[0m\u001b[0;34m)\u001b[0m \u001b[0;32mas\u001b[0m \u001b[0msession\u001b[0m\u001b[0;34m:\u001b[0m\u001b[0;34m\u001b[0m\u001b[0;34m\u001b[0m\u001b[0m\n\u001b[0;32m---> 61\u001b[0;31m         \u001b[0;32mreturn\u001b[0m \u001b[0msession\u001b[0m\u001b[0;34m.\u001b[0m\u001b[0mrequest\u001b[0m\u001b[0;34m(\u001b[0m\u001b[0mmethod\u001b[0m\u001b[0;34m=\u001b[0m\u001b[0mmethod\u001b[0m\u001b[0;34m,\u001b[0m \u001b[0murl\u001b[0m\u001b[0;34m=\u001b[0m\u001b[0murl\u001b[0m\u001b[0;34m,\u001b[0m \u001b[0;34m**\u001b[0m\u001b[0mkwargs\u001b[0m\u001b[0;34m)\u001b[0m\u001b[0;34m\u001b[0m\u001b[0;34m\u001b[0m\u001b[0m\n\u001b[0m\u001b[1;32m     62\u001b[0m \u001b[0;34m\u001b[0m\u001b[0m\n\u001b[1;32m     63\u001b[0m \u001b[0;34m\u001b[0m\u001b[0m\n",
      "\u001b[0;32m~/.pyenv/versions/data/lib/python3.8/site-packages/requests/sessions.py\u001b[0m in \u001b[0;36mrequest\u001b[0;34m(self, method, url, params, data, headers, cookies, files, auth, timeout, allow_redirects, proxies, hooks, stream, verify, cert, json)\u001b[0m\n\u001b[1;32m    528\u001b[0m         }\n\u001b[1;32m    529\u001b[0m         \u001b[0msend_kwargs\u001b[0m\u001b[0;34m.\u001b[0m\u001b[0mupdate\u001b[0m\u001b[0;34m(\u001b[0m\u001b[0msettings\u001b[0m\u001b[0;34m)\u001b[0m\u001b[0;34m\u001b[0m\u001b[0;34m\u001b[0m\u001b[0m\n\u001b[0;32m--> 530\u001b[0;31m         \u001b[0mresp\u001b[0m \u001b[0;34m=\u001b[0m \u001b[0mself\u001b[0m\u001b[0;34m.\u001b[0m\u001b[0msend\u001b[0m\u001b[0;34m(\u001b[0m\u001b[0mprep\u001b[0m\u001b[0;34m,\u001b[0m \u001b[0;34m**\u001b[0m\u001b[0msend_kwargs\u001b[0m\u001b[0;34m)\u001b[0m\u001b[0;34m\u001b[0m\u001b[0;34m\u001b[0m\u001b[0m\n\u001b[0m\u001b[1;32m    531\u001b[0m \u001b[0;34m\u001b[0m\u001b[0m\n\u001b[1;32m    532\u001b[0m         \u001b[0;32mreturn\u001b[0m \u001b[0mresp\u001b[0m\u001b[0;34m\u001b[0m\u001b[0;34m\u001b[0m\u001b[0m\n",
      "\u001b[0;32m~/.pyenv/versions/data/lib/python3.8/site-packages/requests/sessions.py\u001b[0m in \u001b[0;36msend\u001b[0;34m(self, request, **kwargs)\u001b[0m\n\u001b[1;32m    641\u001b[0m \u001b[0;34m\u001b[0m\u001b[0m\n\u001b[1;32m    642\u001b[0m         \u001b[0;31m# Send the request\u001b[0m\u001b[0;34m\u001b[0m\u001b[0;34m\u001b[0m\u001b[0;34m\u001b[0m\u001b[0m\n\u001b[0;32m--> 643\u001b[0;31m         \u001b[0mr\u001b[0m \u001b[0;34m=\u001b[0m \u001b[0madapter\u001b[0m\u001b[0;34m.\u001b[0m\u001b[0msend\u001b[0m\u001b[0;34m(\u001b[0m\u001b[0mrequest\u001b[0m\u001b[0;34m,\u001b[0m \u001b[0;34m**\u001b[0m\u001b[0mkwargs\u001b[0m\u001b[0;34m)\u001b[0m\u001b[0;34m\u001b[0m\u001b[0;34m\u001b[0m\u001b[0m\n\u001b[0m\u001b[1;32m    644\u001b[0m \u001b[0;34m\u001b[0m\u001b[0m\n\u001b[1;32m    645\u001b[0m         \u001b[0;31m# Total elapsed time of the request (approximately)\u001b[0m\u001b[0;34m\u001b[0m\u001b[0;34m\u001b[0m\u001b[0;34m\u001b[0m\u001b[0m\n",
      "\u001b[0;32m~/.pyenv/versions/data/lib/python3.8/site-packages/requests/adapters.py\u001b[0m in \u001b[0;36msend\u001b[0;34m(self, request, stream, timeout, verify, cert, proxies)\u001b[0m\n\u001b[1;32m    508\u001b[0m \u001b[0;34m\u001b[0m\u001b[0m\n\u001b[1;32m    509\u001b[0m             \u001b[0;32mif\u001b[0m \u001b[0misinstance\u001b[0m\u001b[0;34m(\u001b[0m\u001b[0me\u001b[0m\u001b[0;34m.\u001b[0m\u001b[0mreason\u001b[0m\u001b[0;34m,\u001b[0m \u001b[0m_ProxyError\u001b[0m\u001b[0;34m)\u001b[0m\u001b[0;34m:\u001b[0m\u001b[0;34m\u001b[0m\u001b[0;34m\u001b[0m\u001b[0m\n\u001b[0;32m--> 510\u001b[0;31m                 \u001b[0;32mraise\u001b[0m \u001b[0mProxyError\u001b[0m\u001b[0;34m(\u001b[0m\u001b[0me\u001b[0m\u001b[0;34m,\u001b[0m \u001b[0mrequest\u001b[0m\u001b[0;34m=\u001b[0m\u001b[0mrequest\u001b[0m\u001b[0;34m)\u001b[0m\u001b[0;34m\u001b[0m\u001b[0;34m\u001b[0m\u001b[0m\n\u001b[0m\u001b[1;32m    511\u001b[0m \u001b[0;34m\u001b[0m\u001b[0m\n\u001b[1;32m    512\u001b[0m             \u001b[0;32mif\u001b[0m \u001b[0misinstance\u001b[0m\u001b[0;34m(\u001b[0m\u001b[0me\u001b[0m\u001b[0;34m.\u001b[0m\u001b[0mreason\u001b[0m\u001b[0;34m,\u001b[0m \u001b[0m_SSLError\u001b[0m\u001b[0;34m)\u001b[0m\u001b[0;34m:\u001b[0m\u001b[0;34m\u001b[0m\u001b[0;34m\u001b[0m\u001b[0m\n",
      "\u001b[0;31mProxyError\u001b[0m: HTTPSConnectionPool(host='ditu.amap.com', port=443): Max retries exceeded with url: /service/poiInfo?keywords=%E7%8E%AF%E8%B7%AF&query_type=TQUERY&pagesize=20&pagenum=1&qii=true&cluster_state=5&need_utd=true&utd_sceneid=1000&div=PC1000&addr_poi_merge=true&is_classify=true&zoom=14.12&city=210100&geoobj=123.395895%7C41.775079%7C123.459137%7C41.806199&keywords=%E7%8E%AF%E8%B7%AF (Caused by ProxyError('Cannot connect to proxy.', NewConnectionError('<urllib3.connection.HTTPSConnection object at 0x11a8f8130>: Failed to establish a new connection: [Errno 61] Connection refused')))"
     ]
    }
   ],
   "source": [
    "f_name = \"data/沈阳公交相关/hgj_gong_jiao_xian_lu.xlsx\"\n",
    "book = load_workbook(f_name)\n",
    "writer = pd.ExcelWriter(f_name, engine=\"openpyxl\")\n",
    "writer.book = book\n",
    "writer.sheets = dict((ws.title, ws) for ws in book.worksheets)\n",
    "\n",
    "busline_sheet_name = \"busline_info\"\n",
    "stations_sheet_name = \"stations_info\"\n",
    "busline_from_excel = pd.read_excel(f_name, sheet_name=\"hgj_gong_jiao_xian_lu\")\n",
    "seached_buslines = pd.DataFrame()\n",
    "searched_stations = pd.DataFrame()\n",
    "\n",
    "# oldbusline = pd.DataFrame()\n",
    "# oldstations = pd.DataFrame()\n",
    "if busline_sheet_name in writer.sheets:\n",
    "    busline_df = pd.read_excel(f_name, sheet_name=busline_sheet_name)\n",
    "    # 查看一下从excel读出来的各列类型,与json的dict字符串通常有出入.\n",
    "    # print(busline_df.dtypes)\n",
    "    station_df = pd.read_excel(f_name, sheet_name=stations_sheet_name)\n",
    "    # print(station_df.dtypes)\n",
    "\n",
    "# busline_lst = []\n",
    "# for bn in busline_from_excel['xian_lu_ming_cheng']:\n",
    "#    busline_lst.append(bn)\n",
    "buslines = \",\".join(busline_from_excel[\"xian_lu_ming_cheng\"].astype(\"str\"))\n",
    "buslines = \"环路,苦茶,100\"\n",
    "print(buslines)"
   ]
  },
  {
   "cell_type": "markdown",
   "metadata": {
    "lines_to_next_cell": 0
   },
   "source": [
    " ### getonebusline-调用2和3,结果处理,无效数据汇总,写入excel文件.\n",
    " FIXME 1.200505:抽取的线路append到结果时应去重.--200511改完并测试.\n",
    "公交线路去重的策略是在getonebusline3中筛选,使用isin(),如果之前保存过,则略过线路具体数据的处理.并保留重复线路的信息.\n",
    "关联公交站点的去重,不需要在日志中保留详细信息,直接使用merge()取并集处理."
   ]
  },
  {
   "cell_type": "code",
   "execution_count": null,
   "metadata": {
    "lines_to_next_cell": 0
   },
   "outputs": [],
   "source": [
    "try:\n",
    "    exist_busline_lst = list(busline_df[\"search_name\"])\n",
    "    for busline_search_name in buslines.split(\",\"):\n",
    "        if busline_search_name in exist_busline_lst:\n",
    "            print(\"--当前公交线路:[%s] 的详情已存在--\" % busline_search_name)\n",
    "        else:\n",
    "            busline, stations, line_redup = getonebusline3(busline_search_name, busline_df[\"id\"])\n",
    "            if len(busline) == 0:\n",
    "                if len(line_redup) > 0:\n",
    "                    line_redupinfo += line_redup\n",
    "                else:\n",
    "                    line_noinfo.append(busline_search_name)\n",
    "            else:\n",
    "                seached_buslines = seached_buslines.append(busline, ignore_index=True)\n",
    "                searched_stations = searched_stations.append(stations, ignore_index=True)\n",
    "                line_redupinfo += line_redup\n",
    "            time.sleep(random.random() * random.randint(0, 7) + random.randint(0, 5))\n",
    "except KeyError:\n",
    "    print(\"--高德限制IP错误,以下是本次获取到的数据汇总:--\")\n",
    "\n",
    "print(seached_buslines.head())\n",
    "print(searched_stations.head())\n",
    "print(\n",
    "    \"数据汇总:共需抽取[%d]条线路,本次抽取到去重后的[%d]条线路详情,线路关联站点: [%s] 个\"\n",
    "    % (len(buslines.split(\",\")), len(seached_buslines), len(searched_stations))\n",
    ")\n",
    "if len(line_noinfo) > 0:\n",
    "    print(\"其中共有: [%d] 条线路--没有详情--, 其线路名称:\" % len(line_noinfo))\n",
    "    print(\",\".join(line_noinfo))\n",
    "if len(line_redupinfo) > 0:\n",
    "    print(\"其中共有: [%d] 条线路在查询中有重复,其线路ID:\" % len(line_redupinfo))\n",
    "    print(\",\".join(line_redupinfo))\n",
    "if len(seached_buslines) > 0:\n",
    "    busline_df = busline_df.append(seached_buslines, ignore_index=True)\n",
    "    # station_id和busline_id需要指定类型后才能与从excel里读出的数据进行merge\n",
    "    searched_stations = searched_stations.astype({\"station_id\": \"int\", \"busline_id\": \"int\"})\n",
    "    station_df = pd.merge(station_df, searched_stations, how=\"outer\")\n",
    "    write2excel2(busline_df, station_df)"
   ]
  },
  {
   "cell_type": "code",
   "execution_count": null,
   "metadata": {},
   "outputs": [],
   "source": []
  }
 ],
 "metadata": {
  "jupytext": {
   "encoding": "# -*- coding: utf-8 -*-",
   "formats": "ipynb,py:percent"
  },
  "kernelspec": {
   "display_name": "Python 3.8.2 64-bit ('data': venv)",
   "language": "python",
   "name": "python38264bitdatavenvaa4066e455544989bb855911b00b5f95"
  },
  "language_info": {
   "codemirror_mode": {
    "name": "ipython",
    "version": 3
   },
   "file_extension": ".py",
   "mimetype": "text/x-python",
   "name": "python",
   "nbconvert_exporter": "python",
   "pygments_lexer": "ipython3",
   "version": "3.8.2"
  }
 },
 "nbformat": 4,
 "nbformat_minor": 4
}