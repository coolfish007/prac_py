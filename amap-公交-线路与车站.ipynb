{
 "cells": [
  {
   "cell_type": "markdown",
   "metadata": {},
   "source": [
    " ## 公交线路详情及关联车站\n",
    " 通过高德地图，根据公交线路名称获取公交线路。"
   ]
  },
  {
   "cell_type": "markdown",
   "metadata": {},
   "source": [
    " ### 高德地图爬取的共用内容"
   ]
  },
  {
   "cell_type": "code",
   "execution_count": 19,
   "metadata": {},
   "outputs": [],
   "source": [
    "import math\n",
    "import time\n",
    "import random\n",
    "import requests\n",
    "import pandas as pd\n",
    "from openpyxl import load_workbook"
   ]
  },
  {
   "cell_type": "code",
   "execution_count": 20,
   "metadata": {
    "lines_to_next_cell": 2
   },
   "outputs": [],
   "source": [
    "headers = {\n",
    "    'authority': 'ditu.amap.com',\n",
    "    'accept': '*/*',\n",
    "    'x-csrf-token': 'b20895a13b20f5e8e4b4a66ee5006bda',\n",
    "    'x-requested-with': 'XMLHttpRequest',\n",
    "    'user-agent': 'Mozilla/5.0 (Macintosh; Intel Mac OS X 10_15_4) AppleWebKit/537.36 (KHTML, like Gecko) Chrome/81.0.4044.129 Safari/537.36',\n",
    "    'amapuuid': '1440c18d-8262-4b10-bf1d-dcfa90af7406',\n",
    "    'sec-fetch-site': 'same-origin',\n",
    "    'sec-fetch-mode': 'cors',\n",
    "    'sec-fetch-dest': 'empty',\n",
    "    'referer': 'https://ditu.amap.com/search?query=%E7%8E%AF%E8%B7%AF&city=210100&geoobj=123.235132%7C41.790515%7C123.583626%7C41.961776&zoom=11.66',\n",
    "    'accept-language': 'zh-CN,zh;q=0.9,en;q=0.8',\n",
    "    'cookie': 'UM_distinctid=1714efec5d91ad-0dcddda99ab246-396a7f06-fa000-1714efec5da7ca; cna=BEnxFtRzAkoCAXFCoBgfzgXk; CNZZDATA1255827602=412918052-1586405683-https%253A%252F%252Flbs.amap.com%252F%7C1586418799; _ga=GA1.2.1633570714.1587224095; passport_login=MzE2OTE2MSxhbWFwNW9mbjlkRVUsMnhsNzQzdXFqN2kzdmpyeXR6NWxjcWZieWd4MmZzemYsMTU4NzYxMTcxMixaVEJsTWpSa016UTBZelJqTldKall6WmtPVEJpWmpFeU4ySmtaR0V5TjJRPQ%3D%3D; oauth_state=ae8fa31ae280a2a0e644142c408b11cd; dev_help=Cm5hSMAkvpmaraCOySAMG2UwNDMyNTczMWE0OGI5ODIwNzIwYmViN2NjNmQ0NDE4N2E1NzZjMTUwMmRhNDlhMTQ3MzMwZjVhZmE4YTc5NTEus7mSrdBi1mHDTTh7gNwboXIGicOxRQcgdcUXFEULilQ2nc8zq%2BQ9cZkm1Nb3j0GTZnjb7yMdphosNOkRy%2F6ikMiSMXzZNCnLuZnVvfNkX4LBtvXzfH9D8hHbzRUHWbs%3D; guid=73b2-4fdc-b9ff-d417; x-csrf-token=b20895a13b20f5e8e4b4a66ee5006bda; CNZZDATA1255626299=500121251-1586274166-https%253A%252F%252Flbs.amap.com%252F%7C1588604569; l=eBPMb8PRQmIP7Q_bBO5Zhurza7793IdfcsPzaNbMiIHca1zPJFMJpNQcksVW6dtjgtCj5h-P8XiKbR3DJIzNwtrsywzdDt9x3xvR.; isg=BDc3615dJb7myKEODk0RW8eoxi2B_AteJmOE24nlwYZtOF96hsxXrtFaHphm0OPW',\n",
    "    'if-none-match': 'W/\"1b6f7-SoSjGUlTkPIxfxEeqavxip5gXtY\"',\n",
    "}\n",
    "\n",
    "params = (\n",
    "    ('query_type', 'TQUERY'),\n",
    "    ('pagesize', '20'),\n",
    "    ('pagenum', '1'),\n",
    "    ('qii', 'true'),\n",
    "    ('cluster_state', '5'),\n",
    "    ('need_utd', 'true'),\n",
    "    ('utd_sceneid', '1000'),\n",
    "    ('div', 'PC1000'),\n",
    "    ('addr_poi_merge', 'true'),\n",
    "    ('is_classify', 'true'),\n",
    "    ('zoom', '14.12'),\n",
    "    ('city', '210100'),\n",
    "    ('geoobj', '123.395895|41.775079|123.459137|41.806199'),\n",
    ")"
   ]
  },
  {
   "cell_type": "markdown",
   "metadata": {
    "lines_to_next_cell": 2
   },
   "source": [
    " ### getbusstations"
   ]
  },
  {
   "cell_type": "code",
   "execution_count": 21,
   "metadata": {},
   "outputs": [],
   "source": [
    "def getbusstations(busline_dict, stations_key):\n",
    "    stations_dict_list = busline_dict[stations_key]\n",
    "    # print(type(stations_list))\n",
    "    # print('json中共有站点%s个:'%len(stations_dict_list))\n",
    "    station_tmp = pd.DataFrame(stations_dict_list, columns=station_df_column)\n",
    "    return station_tmp"
   ]
  },
  {
   "cell_type": "markdown",
   "metadata": {},
   "source": [
    "### 坐标转换的代码.\n",
    "TODO: 1.此函数放放在独立的包中."
   ]
  },
  {
   "cell_type": "code",
   "execution_count": 22,
   "metadata": {},
   "outputs": [],
   "source": [
    "pi = 3.1415926535897932384626  # π\n",
    "a = 6378245.0  # 长半轴\n",
    "ee = 0.00669342162296594323  # 扁率\n",
    "\n",
    "\n",
    "def out_of_china(lng, lat):\n",
    "    \"\"\"\n",
    "    判断是否在国内，不在国内不做偏移\n",
    "    :param lng:\n",
    "    :param lat:\n",
    "    :return:\n",
    "    \"\"\"\n",
    "    return not (lng > 73.66 and lng < 135.05 and lat > 3.86 and lat < 53.55)\n",
    "\n",
    "\n",
    "def _transformlat(lng, lat):\n",
    "    ret = -100.0 + 2.0 * lng + 3.0 * lat + 0.2 * lat * lat + \\\n",
    "        0.1 * lng * lat + 0.2 * math.sqrt(math.fabs(lng))\n",
    "    ret += (20.0 * math.sin(6.0 * lng * pi) + 20.0 *\n",
    "            math.sin(2.0 * lng * pi)) * 2.0 / 3.0\n",
    "    ret += (20.0 * math.sin(lat * pi) + 40.0 *\n",
    "            math.sin(lat / 3.0 * pi)) * 2.0 / 3.0\n",
    "    ret += (160.0 * math.sin(lat / 12.0 * pi) + 320 *\n",
    "            math.sin(lat * pi / 30.0)) * 2.0 / 3.0\n",
    "    return ret\n",
    "\n",
    "\n",
    "def _transformlng(lng, lat):\n",
    "    ret = 300.0 + lng + 2.0 * lat + 0.1 * lng * lng + \\\n",
    "        0.1 * lng * lat + 0.1 * math.sqrt(math.fabs(lng))\n",
    "    ret += (20.0 * math.sin(6.0 * lng * pi) + 20.0 *\n",
    "            math.sin(2.0 * lng * pi)) * 2.0 / 3.0\n",
    "    ret += (20.0 * math.sin(lng * pi) + 40.0 *\n",
    "            math.sin(lng / 3.0 * pi)) * 2.0 / 3.0\n",
    "    ret += (150.0 * math.sin(lng / 12.0 * pi) + 300.0 *\n",
    "            math.sin(lng / 30.0 * pi)) * 2.0 / 3.0\n",
    "    return ret\n",
    "\n",
    "\n",
    "def gcj02_to_wgs84(lng, lat):\n",
    "    \"\"\"\n",
    "    GCJ02(火星坐标系)转GPS84\n",
    "    :param lng:火星坐标系的经度\n",
    "    :param lat:火星坐标系纬度\n",
    "    :return:\n",
    "    \"\"\"\n",
    "    if out_of_china(lng, lat):\n",
    "        return lng, lat\n",
    "    dlat = _transformlat(lng - 105.0, lat - 35.0)\n",
    "    dlng = _transformlng(lng - 105.0, lat - 35.0)\n",
    "    radlat = lat / 180.0 * pi\n",
    "    magic = math.sin(radlat)\n",
    "    magic = 1 - ee * magic * magic\n",
    "    sqrtmagic = math.sqrt(magic)\n",
    "    dlat = (dlat * 180.0) / ((a * (1 - ee)) / (magic * sqrtmagic) * pi)\n",
    "    dlng = (dlng * 180.0) / (a / sqrtmagic * math.cos(radlat) * pi)\n",
    "    mglat = lat + dlat\n",
    "    mglng = lng + dlng\n",
    "    return [lng * 2 - mglng, lat * 2 - mglat]"
   ]
  },
  {
   "cell_type": "markdown",
   "metadata": {
    "lines_to_next_cell": 0
   },
   "source": [
    " ### getonebusline-方式2"
   ]
  },
  {
   "cell_type": "code",
   "execution_count": 23,
   "metadata": {},
   "outputs": [],
   "source": [
    "def change_gcj02_in_busline(row, xs, ys):\n",
    "    xs_value = row[xs]\n",
    "    ys_value = row[ys]\n",
    "    gcj02_lst = list(zip(map(float, xs_value.split(',')), map(float, ys_value.split(','))))\n",
    "    wgs84_lst = []\n",
    "    for coords in gcj02_lst:\n",
    "        result = gcj02_to_wgs84(coords[0], coords[1])\n",
    "        lng = str(round(result[0], 6))\n",
    "        lat = str(round(result[1], 6))\n",
    "        wgs84_lst.append((lng, lat))\n",
    "    wgs84_lst = list(zip(*wgs84_lst))\n",
    "    return ','.join(wgs84_lst[0]), ','.join(wgs84_lst[1])\n",
    "\n",
    "\n",
    "def change_gcj02_in_station(row, xy_coords, poiid2_xy):\n",
    "    xy_coords_value = list(map(float, row[xy_coords].split(';')))\n",
    "    poiid2_xy_value = list(map(float, row[poiid2_xy].split(';')))\n",
    "    result = gcj02_to_wgs84(xy_coords_value[0], xy_coords_value[1])\n",
    "    xy_coords_84_lst = map(lambda v: str(round(v, 6)), result)\n",
    "    xy_coords_84_str = ';'.join(xy_coords_84_lst)\n",
    "    result = gcj02_to_wgs84(poiid2_xy_value[0], poiid2_xy_value[1])\n",
    "    poiid2_xy_84_lst = map(lambda v: str(round(v, 6)), result)\n",
    "    poiid2_xy_84_str = ';'.join(poiid2_xy_84_lst)\n",
    "    return xy_coords_84_str, poiid2_xy_84_str\n",
    "\n",
    "\n",
    "def change_gcj02_in_station2(row, xy_coords, poiid2_xy):\n",
    "    xy_coords_value = list(map(float, row[xy_coords].split(';')))\n",
    "    poiid2_xy_value = list(map(float, row[poiid2_xy].split(';')))\n",
    "    result = gcj02_to_wgs84(xy_coords_value[0], xy_coords_value[1])\n",
    "    xy_coords_84 = result\n",
    "    result = gcj02_to_wgs84(poiid2_xy_value[0], poiid2_xy_value[1])\n",
    "    poiid2_xy_84 = result\n",
    "    return xy_coords_84, poiid2_xy_84\n",
    "\n",
    "\n",
    "def getonebusline2(busline_name):\n",
    "    busline_url = 'https://ditu.amap.com/service/poiInfo?keywords=' + busline_name\n",
    "    response = requests.get(busline_url, headers=headers, params=params)\n",
    "    data = response.json()\n",
    "    busline = pd.DataFrame()\n",
    "    oneline_stations = pd.DataFrame()\n",
    "    if data['data']['message'] and data['data']['busline_list']:\n",
    "        print('当前公交线路:[%s],地图已查询到.' % busline_name)\n",
    "        busline_dict = data['data']['busline_list']\n",
    "        if (len(busline_dict) >= 2):\n",
    "            print('--抽取公交线路(双向):[%s]的详情' % busline_name)\n",
    "            busline = pd.DataFrame(busline_dict, columns=busline_df_column)\n",
    "            busline.loc[0, 'type'] = 'a2b'\n",
    "            busline.loc[1, 'type'] = 'b2a'\n",
    "            busline = busline[:2]\n",
    "            busline['search_name'] = busline_name\n",
    "            busline['xs-84'], busline['ys-84'] = zip(\n",
    "                *busline[['xs', 'ys']].apply(change_gcj02_in_busline, axis=1, xs='xs', ys='ys'))\n",
    "            i = 0\n",
    "            while (i < 2):\n",
    "                tmp = getbusstations(busline_dict[i], 'stations')\n",
    "                print('--抽取公交线路:[%s-%s]的站点,此线路共有[%d]个站点' % (busline_name, busline.iloc[i]['type'], len(tmp)))\n",
    "                # print(','.join(tmp['name']))\n",
    "                tmp['busline_id'] = busline.iloc[i]['id']\n",
    "                tmp['order'] = tmp.index\n",
    "                tmp['xy_coords_84'], tmp['poiid2_xy_84'] = zip(\n",
    "                    *tmp[['xy_coords', 'poiid2_xy']].apply(change_gcj02_in_station, axis=1, args=('xy_coords', 'poiid2_xy')))\n",
    "                oneline_stations = oneline_stations.append(tmp, ignore_index=True)\n",
    "                i += 1\n",
    "    else:\n",
    "        print('$$没有查询到公交线路:[%s]' % busline_name)\n",
    "    return busline, oneline_stations"
   ]
  },
  {
   "cell_type": "markdown",
   "metadata": {
    "lines_to_next_cell": 0
   },
   "source": [
    "运行多次不断追加原excel文件的内容写入"
   ]
  },
  {
   "cell_type": "code",
   "execution_count": 26,
   "metadata": {},
   "outputs": [],
   "source": [
    "def write2excel(oldbusline, newbusline, oldstations, newstations):\n",
    "    allbusline = oldbusline.append(newbusline, ignore_index=True)\n",
    "    allstations = oldstations.append(newstations, ignore_index=True)\n",
    "    allbusline.to_excel(writer, sheet_name=busline_sheet_name, header=True)\n",
    "    allstations.to_excel(writer, sheet_name=stations_sheet_name, header=True)\n",
    "    writer.save()\n",
    "    writer.close()"
   ]
  },
  {
   "cell_type": "markdown",
   "metadata": {
    "lines_to_next_cell": 0
   },
   "source": [
    " ### 共用调用函数前置代码"
   ]
  },
  {
   "cell_type": "code",
   "execution_count": 24,
   "metadata": {
    "lines_to_next_cell": 2
   },
   "outputs": [],
   "source": [
    "# buslines = '环路,100,101'\n",
    "buslines = '环路,苦茶,100,101'\n",
    "busline_df_column = [\n",
    "    'id', 'code', 'type', 'search_name', 'key_name', 'name', 'front_name', 'terminal_name',\n",
    "    'company', 'status', 'ic_card', 'air', 'total_price', 'start_time',\n",
    "    'end_time', 'interval', 'xs', 'ys', 'xs-84', 'ys-84'\n",
    "]\n",
    "station_df_column = [\n",
    "    'station_id', 'name', 'busline_id', 'order', 'poiid1', 'xy_coords', 'xy_coords_84', 'poiid2',\n",
    "    'poiid2_xy', 'poiid2_xy_84'\n",
    "]\n",
    "busline_df = pd.DataFrame(columns=busline_df_column)\n",
    "station_df = pd.DataFrame(columns=station_df_column)\n",
    "line_noinfo = []"
   ]
  },
  {
   "cell_type": "markdown",
   "metadata": {},
   "source": [
    "从excel文件中读取线路名称,为了和下面代码兼容,组成字符串:'环路,101,100'的形式."
   ]
  },
  {
   "cell_type": "code",
   "execution_count": 25,
   "metadata": {
    "lines_to_next_cell": 0
   },
   "outputs": [
    {
     "name": "stdout",
     "output_type": "stream",
     "text": [
      "环路,100,101,102,103,104,105,106,107,108,109,109支线,111,112,113,114,115,116,116支线,117,118水家,121,123,124,125,126,127,128,128支线,129,129支线,130,131,132,133,133支线,134,135,136,137,138,139,140,141,142（苏家屯东西环路）,143（苏家屯南北环路）,144,144孔雀城专线 ,144五洲城专线 ,145,145五洲城专线 ,146,147,148,149,150,151,151支线 ,152,153,154,155,155路地铁专线,156,157,157支线,158,159,159复线,160,160支线,160支线2,161,162,163,164,165,165专线,166,167,168,168支线,169,169支线,170,171 ,172 ,173,175,176,177,178,178区间,178支,179,180,181,182,182夜线,182支线,183,184,185,185支线 ,186,187,188,188专线 ,189,190,191,191包道支线,191惠生支线 ,192,192惠生新城支线 ,192太平洋工业园支线 ,192方特直通车 ,193,194,195,197 ,198 ,199,200,201,201支线,202,203,204,205,206,206路夜线,207,208,209,210,211,212,213,214,215,216,217,217支线,218,219,220,221,222,222复线,223,224,224区间,225,226,227,228,229,230,231,232,233,235,236,237,238,239,239夜车,240,241,241支线,242,243,244,245,246,247,248,249,250,251,252,253,254,255,256,257,258,259,260,260支线,261,261支线,261地铁支线,263,264,265,266东线,266西线,267,267支线,268,268支线,269,271,272,273,274,275,275支线 ,276,276复线,277,278,279,279支线,280,281,282,283,284,286,287,288,289,290,290支线,291,292,293,294,295,296,297,298,299,300,301,302,303,305,313,317,318,318支线 ,318普利司通支线 ,324,325,326,327,328,329,329支线,333,334,335,381,381支线,382,383,384,385,386,387,387区间,388,389,390,392,393,394,395,396,397,397区间,398,399,501,503,523,K505,719,K502,721支线1,721支线2,750,751,800,V101,V102,V103,V104,V105,V106,V107,V108,V109,V111,V112,V113,V115,V116,V117,V118,V122 ,V123 ,V124 ,V125 ,V126 ,V127 ,V128 ,V129 ,K802,K805,铁西新区1线,铁西新区2线,铁西新区产业一线 ,浑南新区一线,浑南新区一线复线A ,浑南新区一线复线B ,预备役号专线 ,汽车城专线 ,浑河雷锋号 ,旅游观光一线（观光巴士1号线） ,观光一线 ,蒲河廊道旅游观光巴士1号线 ,浑河西峡谷旅游专线 ,假日小城地铁专线 ,医大北校区临时专线,张士地铁口-谟家小学专线,K701 ,K702 ,K508,沈抚一号线,沈抚二号线,沈抚三号线,沈抚四号线,沈抚城际公交1线 ,沈抚城际公交2线 ,苏家屯中环,机场巴士 ,机场巴士1号线 ,机场巴士2号线 ,地铁一号线 ,地铁二号线 ,有轨电车1号线 ,有轨电车2号线 ,有轨电车3号线 ,有轨电车4号线 ,有轨电车5号线 ,有轨电车6号线 ,135路夜车,135路区间车,112路区间车,171路复线车,172路区间车,190路早高峰支线,190路海逸铭筑支线,190路海逸铭筑支线,214路早晚高峰时期区间车,219路区间车,334路区间车,334路支线,188路支线,191路专线,193路支线,238路支线,324路区间车,327路区间车,329路区间车,390路区间车,398路北线,751区间车,154路区间车,262,194路复线,335路支线\n"
     ]
    }
   ],
   "source": [
    "f_name = 'data/hgj_gong_jiao_xian_lu.xlsx'\n",
    "book = load_workbook(f_name)\n",
    "writer = pd.ExcelWriter(f_name, engine='openpyxl')\n",
    "writer.book = book\n",
    "writer.sheets = dict((ws.title, ws) for ws in book.worksheets)\n",
    "\n",
    "busline_sheet_name = 'busline_info'\n",
    "stations_sheet_name = 'stations_info'\n",
    "busline_from_excel = pd.read_excel(f_name, sheet_name='hgj_gong_jiao_xian_lu')\n",
    "oldbusline = pd.DataFrame()\n",
    "oldstations = pd.DataFrame()\n",
    "if(busline_sheet_name in writer.sheets):\n",
    "    oldbusline = pd.read_excel(f_name, sheet_name=busline_sheet_name)\n",
    "    oldstations = pd.read_excel(f_name, sheet_name=stations_sheet_name)\n",
    "\n",
    "busline_lst = []\n",
    "for bn in busline_from_excel['xian_lu_ming_cheng']:\n",
    "    busline_lst.append(bn)\n",
    "buslines = ','.join(busline_lst)\n",
    "print(buslines)"
   ]
  },
  {
   "cell_type": "markdown",
   "metadata": {
    "lines_to_next_cell": 0
   },
   "source": [
    " ### getonebusline-调用2\n",
    " TODO: 0505:1.将没有线路详情的线路输出到文件中,如果是停运的话做标识;2.标识a2b和b2a中途径站不同的线路."
   ]
  },
  {
   "cell_type": "code",
   "execution_count": 28,
   "metadata": {
    "lines_to_next_cell": 2
   },
   "outputs": [
    {
     "ename": "ProxyError",
     "evalue": "HTTPSConnectionPool(host='ditu.amap.com', port=443): Max retries exceeded with url: /service/poiInfo?keywords=%E7%8E%AF%E8%B7%AF&query_type=TQUERY&pagesize=20&pagenum=1&qii=true&cluster_state=5&need_utd=true&utd_sceneid=1000&div=PC1000&addr_poi_merge=true&is_classify=true&zoom=14.12&city=210100&geoobj=123.395895%7C41.775079%7C123.459137%7C41.806199&keywords=%E7%8E%AF%E8%B7%AF (Caused by ProxyError('Cannot connect to proxy.', NewConnectionError('<urllib3.connection.HTTPSConnection object at 0x11a8f8130>: Failed to establish a new connection: [Errno 61] Connection refused')))",
     "output_type": "error",
     "traceback": [
      "\u001b[0;31m---------------------------------------------------------------------------\u001b[0m",
      "\u001b[0;31mConnectionRefusedError\u001b[0m                    Traceback (most recent call last)",
      "\u001b[0;32m~/.pyenv/versions/data/lib/python3.8/site-packages/urllib3/connection.py\u001b[0m in \u001b[0;36m_new_conn\u001b[0;34m(self)\u001b[0m\n\u001b[1;32m    158\u001b[0m         \u001b[0;32mtry\u001b[0m\u001b[0;34m:\u001b[0m\u001b[0;34m\u001b[0m\u001b[0;34m\u001b[0m\u001b[0m\n\u001b[0;32m--> 159\u001b[0;31m             conn = connection.create_connection(\n\u001b[0m\u001b[1;32m    160\u001b[0m                 \u001b[0;34m(\u001b[0m\u001b[0mself\u001b[0m\u001b[0;34m.\u001b[0m\u001b[0m_dns_host\u001b[0m\u001b[0;34m,\u001b[0m \u001b[0mself\u001b[0m\u001b[0;34m.\u001b[0m\u001b[0mport\u001b[0m\u001b[0;34m)\u001b[0m\u001b[0;34m,\u001b[0m \u001b[0mself\u001b[0m\u001b[0;34m.\u001b[0m\u001b[0mtimeout\u001b[0m\u001b[0;34m,\u001b[0m \u001b[0;34m**\u001b[0m\u001b[0mextra_kw\u001b[0m\u001b[0;34m\u001b[0m\u001b[0;34m\u001b[0m\u001b[0m\n",
      "\u001b[0;32m~/.pyenv/versions/data/lib/python3.8/site-packages/urllib3/util/connection.py\u001b[0m in \u001b[0;36mcreate_connection\u001b[0;34m(address, timeout, source_address, socket_options)\u001b[0m\n\u001b[1;32m     83\u001b[0m     \u001b[0;32mif\u001b[0m \u001b[0merr\u001b[0m \u001b[0;32mis\u001b[0m \u001b[0;32mnot\u001b[0m \u001b[0;32mNone\u001b[0m\u001b[0;34m:\u001b[0m\u001b[0;34m\u001b[0m\u001b[0;34m\u001b[0m\u001b[0m\n\u001b[0;32m---> 84\u001b[0;31m         \u001b[0;32mraise\u001b[0m \u001b[0merr\u001b[0m\u001b[0;34m\u001b[0m\u001b[0;34m\u001b[0m\u001b[0m\n\u001b[0m\u001b[1;32m     85\u001b[0m \u001b[0;34m\u001b[0m\u001b[0m\n",
      "\u001b[0;32m~/.pyenv/versions/data/lib/python3.8/site-packages/urllib3/util/connection.py\u001b[0m in \u001b[0;36mcreate_connection\u001b[0;34m(address, timeout, source_address, socket_options)\u001b[0m\n\u001b[1;32m     73\u001b[0m                 \u001b[0msock\u001b[0m\u001b[0;34m.\u001b[0m\u001b[0mbind\u001b[0m\u001b[0;34m(\u001b[0m\u001b[0msource_address\u001b[0m\u001b[0;34m)\u001b[0m\u001b[0;34m\u001b[0m\u001b[0;34m\u001b[0m\u001b[0m\n\u001b[0;32m---> 74\u001b[0;31m             \u001b[0msock\u001b[0m\u001b[0;34m.\u001b[0m\u001b[0mconnect\u001b[0m\u001b[0;34m(\u001b[0m\u001b[0msa\u001b[0m\u001b[0;34m)\u001b[0m\u001b[0;34m\u001b[0m\u001b[0;34m\u001b[0m\u001b[0m\n\u001b[0m\u001b[1;32m     75\u001b[0m             \u001b[0;32mreturn\u001b[0m \u001b[0msock\u001b[0m\u001b[0;34m\u001b[0m\u001b[0;34m\u001b[0m\u001b[0m\n",
      "\u001b[0;31mConnectionRefusedError\u001b[0m: [Errno 61] Connection refused",
      "\nDuring handling of the above exception, another exception occurred:\n",
      "\u001b[0;31mNewConnectionError\u001b[0m                        Traceback (most recent call last)",
      "\u001b[0;32m~/.pyenv/versions/data/lib/python3.8/site-packages/urllib3/connectionpool.py\u001b[0m in \u001b[0;36murlopen\u001b[0;34m(self, method, url, body, headers, retries, redirect, assert_same_host, timeout, pool_timeout, release_conn, chunked, body_pos, **response_kw)\u001b[0m\n\u001b[1;32m    666\u001b[0m             \u001b[0;32mif\u001b[0m \u001b[0mis_new_proxy_conn\u001b[0m\u001b[0;34m:\u001b[0m\u001b[0;34m\u001b[0m\u001b[0;34m\u001b[0m\u001b[0m\n\u001b[0;32m--> 667\u001b[0;31m                 \u001b[0mself\u001b[0m\u001b[0;34m.\u001b[0m\u001b[0m_prepare_proxy\u001b[0m\u001b[0;34m(\u001b[0m\u001b[0mconn\u001b[0m\u001b[0;34m)\u001b[0m\u001b[0;34m\u001b[0m\u001b[0;34m\u001b[0m\u001b[0m\n\u001b[0m\u001b[1;32m    668\u001b[0m \u001b[0;34m\u001b[0m\u001b[0m\n",
      "\u001b[0;32m~/.pyenv/versions/data/lib/python3.8/site-packages/urllib3/connectionpool.py\u001b[0m in \u001b[0;36m_prepare_proxy\u001b[0;34m(self, conn)\u001b[0m\n\u001b[1;32m    929\u001b[0m         \u001b[0mconn\u001b[0m\u001b[0;34m.\u001b[0m\u001b[0mset_tunnel\u001b[0m\u001b[0;34m(\u001b[0m\u001b[0mself\u001b[0m\u001b[0;34m.\u001b[0m\u001b[0m_proxy_host\u001b[0m\u001b[0;34m,\u001b[0m \u001b[0mself\u001b[0m\u001b[0;34m.\u001b[0m\u001b[0mport\u001b[0m\u001b[0;34m,\u001b[0m \u001b[0mself\u001b[0m\u001b[0;34m.\u001b[0m\u001b[0mproxy_headers\u001b[0m\u001b[0;34m)\u001b[0m\u001b[0;34m\u001b[0m\u001b[0;34m\u001b[0m\u001b[0m\n\u001b[0;32m--> 930\u001b[0;31m         \u001b[0mconn\u001b[0m\u001b[0;34m.\u001b[0m\u001b[0mconnect\u001b[0m\u001b[0;34m(\u001b[0m\u001b[0;34m)\u001b[0m\u001b[0;34m\u001b[0m\u001b[0;34m\u001b[0m\u001b[0m\n\u001b[0m\u001b[1;32m    931\u001b[0m \u001b[0;34m\u001b[0m\u001b[0m\n",
      "\u001b[0;32m~/.pyenv/versions/data/lib/python3.8/site-packages/urllib3/connection.py\u001b[0m in \u001b[0;36mconnect\u001b[0;34m(self)\u001b[0m\n\u001b[1;32m    307\u001b[0m         \u001b[0;31m# Add certificate verification\u001b[0m\u001b[0;34m\u001b[0m\u001b[0;34m\u001b[0m\u001b[0;34m\u001b[0m\u001b[0m\n\u001b[0;32m--> 308\u001b[0;31m         \u001b[0mconn\u001b[0m \u001b[0;34m=\u001b[0m \u001b[0mself\u001b[0m\u001b[0;34m.\u001b[0m\u001b[0m_new_conn\u001b[0m\u001b[0;34m(\u001b[0m\u001b[0;34m)\u001b[0m\u001b[0;34m\u001b[0m\u001b[0;34m\u001b[0m\u001b[0m\n\u001b[0m\u001b[1;32m    309\u001b[0m         \u001b[0mhostname\u001b[0m \u001b[0;34m=\u001b[0m \u001b[0mself\u001b[0m\u001b[0;34m.\u001b[0m\u001b[0mhost\u001b[0m\u001b[0;34m\u001b[0m\u001b[0;34m\u001b[0m\u001b[0m\n",
      "\u001b[0;32m~/.pyenv/versions/data/lib/python3.8/site-packages/urllib3/connection.py\u001b[0m in \u001b[0;36m_new_conn\u001b[0;34m(self)\u001b[0m\n\u001b[1;32m    170\u001b[0m         \u001b[0;32mexcept\u001b[0m \u001b[0mSocketError\u001b[0m \u001b[0;32mas\u001b[0m \u001b[0me\u001b[0m\u001b[0;34m:\u001b[0m\u001b[0;34m\u001b[0m\u001b[0;34m\u001b[0m\u001b[0m\n\u001b[0;32m--> 171\u001b[0;31m             raise NewConnectionError(\n\u001b[0m\u001b[1;32m    172\u001b[0m                 \u001b[0mself\u001b[0m\u001b[0;34m,\u001b[0m \u001b[0;34m\"Failed to establish a new connection: %s\"\u001b[0m \u001b[0;34m%\u001b[0m \u001b[0me\u001b[0m\u001b[0;34m\u001b[0m\u001b[0;34m\u001b[0m\u001b[0m\n",
      "\u001b[0;31mNewConnectionError\u001b[0m: <urllib3.connection.HTTPSConnection object at 0x11a8f8130>: Failed to establish a new connection: [Errno 61] Connection refused",
      "\nDuring handling of the above exception, another exception occurred:\n",
      "\u001b[0;31mMaxRetryError\u001b[0m                             Traceback (most recent call last)",
      "\u001b[0;32m~/.pyenv/versions/data/lib/python3.8/site-packages/requests/adapters.py\u001b[0m in \u001b[0;36msend\u001b[0;34m(self, request, stream, timeout, verify, cert, proxies)\u001b[0m\n\u001b[1;32m    438\u001b[0m             \u001b[0;32mif\u001b[0m \u001b[0;32mnot\u001b[0m \u001b[0mchunked\u001b[0m\u001b[0;34m:\u001b[0m\u001b[0;34m\u001b[0m\u001b[0;34m\u001b[0m\u001b[0m\n\u001b[0;32m--> 439\u001b[0;31m                 resp = conn.urlopen(\n\u001b[0m\u001b[1;32m    440\u001b[0m                     \u001b[0mmethod\u001b[0m\u001b[0;34m=\u001b[0m\u001b[0mrequest\u001b[0m\u001b[0;34m.\u001b[0m\u001b[0mmethod\u001b[0m\u001b[0;34m,\u001b[0m\u001b[0;34m\u001b[0m\u001b[0;34m\u001b[0m\u001b[0m\n",
      "\u001b[0;32m~/.pyenv/versions/data/lib/python3.8/site-packages/urllib3/connectionpool.py\u001b[0m in \u001b[0;36murlopen\u001b[0;34m(self, method, url, body, headers, retries, redirect, assert_same_host, timeout, pool_timeout, release_conn, chunked, body_pos, **response_kw)\u001b[0m\n\u001b[1;32m    723\u001b[0m \u001b[0;34m\u001b[0m\u001b[0m\n\u001b[0;32m--> 724\u001b[0;31m             retries = retries.increment(\n\u001b[0m\u001b[1;32m    725\u001b[0m                 \u001b[0mmethod\u001b[0m\u001b[0;34m,\u001b[0m \u001b[0murl\u001b[0m\u001b[0;34m,\u001b[0m \u001b[0merror\u001b[0m\u001b[0;34m=\u001b[0m\u001b[0me\u001b[0m\u001b[0;34m,\u001b[0m \u001b[0m_pool\u001b[0m\u001b[0;34m=\u001b[0m\u001b[0mself\u001b[0m\u001b[0;34m,\u001b[0m \u001b[0m_stacktrace\u001b[0m\u001b[0;34m=\u001b[0m\u001b[0msys\u001b[0m\u001b[0;34m.\u001b[0m\u001b[0mexc_info\u001b[0m\u001b[0;34m(\u001b[0m\u001b[0;34m)\u001b[0m\u001b[0;34m[\u001b[0m\u001b[0;36m2\u001b[0m\u001b[0;34m]\u001b[0m\u001b[0;34m\u001b[0m\u001b[0;34m\u001b[0m\u001b[0m\n",
      "\u001b[0;32m~/.pyenv/versions/data/lib/python3.8/site-packages/urllib3/util/retry.py\u001b[0m in \u001b[0;36mincrement\u001b[0;34m(self, method, url, response, error, _pool, _stacktrace)\u001b[0m\n\u001b[1;32m    438\u001b[0m         \u001b[0;32mif\u001b[0m \u001b[0mnew_retry\u001b[0m\u001b[0;34m.\u001b[0m\u001b[0mis_exhausted\u001b[0m\u001b[0;34m(\u001b[0m\u001b[0;34m)\u001b[0m\u001b[0;34m:\u001b[0m\u001b[0;34m\u001b[0m\u001b[0;34m\u001b[0m\u001b[0m\n\u001b[0;32m--> 439\u001b[0;31m             \u001b[0;32mraise\u001b[0m \u001b[0mMaxRetryError\u001b[0m\u001b[0;34m(\u001b[0m\u001b[0m_pool\u001b[0m\u001b[0;34m,\u001b[0m \u001b[0murl\u001b[0m\u001b[0;34m,\u001b[0m \u001b[0merror\u001b[0m \u001b[0;32mor\u001b[0m \u001b[0mResponseError\u001b[0m\u001b[0;34m(\u001b[0m\u001b[0mcause\u001b[0m\u001b[0;34m)\u001b[0m\u001b[0;34m)\u001b[0m\u001b[0;34m\u001b[0m\u001b[0;34m\u001b[0m\u001b[0m\n\u001b[0m\u001b[1;32m    440\u001b[0m \u001b[0;34m\u001b[0m\u001b[0m\n",
      "\u001b[0;31mMaxRetryError\u001b[0m: HTTPSConnectionPool(host='ditu.amap.com', port=443): Max retries exceeded with url: /service/poiInfo?keywords=%E7%8E%AF%E8%B7%AF&query_type=TQUERY&pagesize=20&pagenum=1&qii=true&cluster_state=5&need_utd=true&utd_sceneid=1000&div=PC1000&addr_poi_merge=true&is_classify=true&zoom=14.12&city=210100&geoobj=123.395895%7C41.775079%7C123.459137%7C41.806199&keywords=%E7%8E%AF%E8%B7%AF (Caused by ProxyError('Cannot connect to proxy.', NewConnectionError('<urllib3.connection.HTTPSConnection object at 0x11a8f8130>: Failed to establish a new connection: [Errno 61] Connection refused')))",
      "\nDuring handling of the above exception, another exception occurred:\n",
      "\u001b[0;31mProxyError\u001b[0m                                Traceback (most recent call last)",
      "\u001b[0;32m<ipython-input-28-d079d9795150>\u001b[0m in \u001b[0;36m<module>\u001b[0;34m\u001b[0m\n\u001b[1;32m      5\u001b[0m             \u001b[0mprint\u001b[0m\u001b[0;34m(\u001b[0m\u001b[0;34m'--当前公交线路:[%s] 已存在--'\u001b[0m \u001b[0;34m%\u001b[0m \u001b[0mbusline_name\u001b[0m\u001b[0;34m)\u001b[0m\u001b[0;34m\u001b[0m\u001b[0;34m\u001b[0m\u001b[0m\n\u001b[1;32m      6\u001b[0m         \u001b[0;32melse\u001b[0m\u001b[0;34m:\u001b[0m\u001b[0;34m\u001b[0m\u001b[0;34m\u001b[0m\u001b[0m\n\u001b[0;32m----> 7\u001b[0;31m             \u001b[0mbusline\u001b[0m\u001b[0;34m,\u001b[0m \u001b[0mstations\u001b[0m \u001b[0;34m=\u001b[0m \u001b[0mgetonebusline2\u001b[0m\u001b[0;34m(\u001b[0m\u001b[0mbusline_name\u001b[0m\u001b[0;34m)\u001b[0m\u001b[0;34m\u001b[0m\u001b[0;34m\u001b[0m\u001b[0m\n\u001b[0m\u001b[1;32m      8\u001b[0m             \u001b[0;32mif\u001b[0m \u001b[0;34m(\u001b[0m\u001b[0mlen\u001b[0m\u001b[0;34m(\u001b[0m\u001b[0mbusline\u001b[0m\u001b[0;34m)\u001b[0m \u001b[0;34m==\u001b[0m \u001b[0;36m0\u001b[0m\u001b[0;34m)\u001b[0m\u001b[0;34m:\u001b[0m\u001b[0;34m\u001b[0m\u001b[0;34m\u001b[0m\u001b[0m\n\u001b[1;32m      9\u001b[0m                 \u001b[0mline_noinfo\u001b[0m\u001b[0;34m.\u001b[0m\u001b[0mappend\u001b[0m\u001b[0;34m(\u001b[0m\u001b[0mbusline_name\u001b[0m\u001b[0;34m)\u001b[0m\u001b[0;34m\u001b[0m\u001b[0;34m\u001b[0m\u001b[0m\n",
      "\u001b[0;32m<ipython-input-23-45cbe7381446>\u001b[0m in \u001b[0;36mgetonebusline2\u001b[0;34m(busline_name)\u001b[0m\n\u001b[1;32m     37\u001b[0m \u001b[0;32mdef\u001b[0m \u001b[0mgetonebusline2\u001b[0m\u001b[0;34m(\u001b[0m\u001b[0mbusline_name\u001b[0m\u001b[0;34m)\u001b[0m\u001b[0;34m:\u001b[0m\u001b[0;34m\u001b[0m\u001b[0;34m\u001b[0m\u001b[0m\n\u001b[1;32m     38\u001b[0m     \u001b[0mbusline_url\u001b[0m \u001b[0;34m=\u001b[0m \u001b[0;34m'https://ditu.amap.com/service/poiInfo?keywords='\u001b[0m \u001b[0;34m+\u001b[0m \u001b[0mbusline_name\u001b[0m\u001b[0;34m\u001b[0m\u001b[0;34m\u001b[0m\u001b[0m\n\u001b[0;32m---> 39\u001b[0;31m     \u001b[0mresponse\u001b[0m \u001b[0;34m=\u001b[0m \u001b[0mrequests\u001b[0m\u001b[0;34m.\u001b[0m\u001b[0mget\u001b[0m\u001b[0;34m(\u001b[0m\u001b[0mbusline_url\u001b[0m\u001b[0;34m,\u001b[0m \u001b[0mheaders\u001b[0m\u001b[0;34m=\u001b[0m\u001b[0mheaders\u001b[0m\u001b[0;34m,\u001b[0m \u001b[0mparams\u001b[0m\u001b[0;34m=\u001b[0m\u001b[0mparams\u001b[0m\u001b[0;34m)\u001b[0m\u001b[0;34m\u001b[0m\u001b[0;34m\u001b[0m\u001b[0m\n\u001b[0m\u001b[1;32m     40\u001b[0m     \u001b[0mdata\u001b[0m \u001b[0;34m=\u001b[0m \u001b[0mresponse\u001b[0m\u001b[0;34m.\u001b[0m\u001b[0mjson\u001b[0m\u001b[0;34m(\u001b[0m\u001b[0;34m)\u001b[0m\u001b[0;34m\u001b[0m\u001b[0;34m\u001b[0m\u001b[0m\n\u001b[1;32m     41\u001b[0m     \u001b[0mbusline\u001b[0m \u001b[0;34m=\u001b[0m \u001b[0mpd\u001b[0m\u001b[0;34m.\u001b[0m\u001b[0mDataFrame\u001b[0m\u001b[0;34m(\u001b[0m\u001b[0;34m)\u001b[0m\u001b[0;34m\u001b[0m\u001b[0;34m\u001b[0m\u001b[0m\n",
      "\u001b[0;32m~/.pyenv/versions/data/lib/python3.8/site-packages/requests/api.py\u001b[0m in \u001b[0;36mget\u001b[0;34m(url, params, **kwargs)\u001b[0m\n\u001b[1;32m     74\u001b[0m \u001b[0;34m\u001b[0m\u001b[0m\n\u001b[1;32m     75\u001b[0m     \u001b[0mkwargs\u001b[0m\u001b[0;34m.\u001b[0m\u001b[0msetdefault\u001b[0m\u001b[0;34m(\u001b[0m\u001b[0;34m'allow_redirects'\u001b[0m\u001b[0;34m,\u001b[0m \u001b[0;32mTrue\u001b[0m\u001b[0;34m)\u001b[0m\u001b[0;34m\u001b[0m\u001b[0;34m\u001b[0m\u001b[0m\n\u001b[0;32m---> 76\u001b[0;31m     \u001b[0;32mreturn\u001b[0m \u001b[0mrequest\u001b[0m\u001b[0;34m(\u001b[0m\u001b[0;34m'get'\u001b[0m\u001b[0;34m,\u001b[0m \u001b[0murl\u001b[0m\u001b[0;34m,\u001b[0m \u001b[0mparams\u001b[0m\u001b[0;34m=\u001b[0m\u001b[0mparams\u001b[0m\u001b[0;34m,\u001b[0m \u001b[0;34m**\u001b[0m\u001b[0mkwargs\u001b[0m\u001b[0;34m)\u001b[0m\u001b[0;34m\u001b[0m\u001b[0;34m\u001b[0m\u001b[0m\n\u001b[0m\u001b[1;32m     77\u001b[0m \u001b[0;34m\u001b[0m\u001b[0m\n\u001b[1;32m     78\u001b[0m \u001b[0;34m\u001b[0m\u001b[0m\n",
      "\u001b[0;32m~/.pyenv/versions/data/lib/python3.8/site-packages/requests/api.py\u001b[0m in \u001b[0;36mrequest\u001b[0;34m(method, url, **kwargs)\u001b[0m\n\u001b[1;32m     59\u001b[0m     \u001b[0;31m# cases, and look like a memory leak in others.\u001b[0m\u001b[0;34m\u001b[0m\u001b[0;34m\u001b[0m\u001b[0;34m\u001b[0m\u001b[0m\n\u001b[1;32m     60\u001b[0m     \u001b[0;32mwith\u001b[0m \u001b[0msessions\u001b[0m\u001b[0;34m.\u001b[0m\u001b[0mSession\u001b[0m\u001b[0;34m(\u001b[0m\u001b[0;34m)\u001b[0m \u001b[0;32mas\u001b[0m \u001b[0msession\u001b[0m\u001b[0;34m:\u001b[0m\u001b[0;34m\u001b[0m\u001b[0;34m\u001b[0m\u001b[0m\n\u001b[0;32m---> 61\u001b[0;31m         \u001b[0;32mreturn\u001b[0m \u001b[0msession\u001b[0m\u001b[0;34m.\u001b[0m\u001b[0mrequest\u001b[0m\u001b[0;34m(\u001b[0m\u001b[0mmethod\u001b[0m\u001b[0;34m=\u001b[0m\u001b[0mmethod\u001b[0m\u001b[0;34m,\u001b[0m \u001b[0murl\u001b[0m\u001b[0;34m=\u001b[0m\u001b[0murl\u001b[0m\u001b[0;34m,\u001b[0m \u001b[0;34m**\u001b[0m\u001b[0mkwargs\u001b[0m\u001b[0;34m)\u001b[0m\u001b[0;34m\u001b[0m\u001b[0;34m\u001b[0m\u001b[0m\n\u001b[0m\u001b[1;32m     62\u001b[0m \u001b[0;34m\u001b[0m\u001b[0m\n\u001b[1;32m     63\u001b[0m \u001b[0;34m\u001b[0m\u001b[0m\n",
      "\u001b[0;32m~/.pyenv/versions/data/lib/python3.8/site-packages/requests/sessions.py\u001b[0m in \u001b[0;36mrequest\u001b[0;34m(self, method, url, params, data, headers, cookies, files, auth, timeout, allow_redirects, proxies, hooks, stream, verify, cert, json)\u001b[0m\n\u001b[1;32m    528\u001b[0m         }\n\u001b[1;32m    529\u001b[0m         \u001b[0msend_kwargs\u001b[0m\u001b[0;34m.\u001b[0m\u001b[0mupdate\u001b[0m\u001b[0;34m(\u001b[0m\u001b[0msettings\u001b[0m\u001b[0;34m)\u001b[0m\u001b[0;34m\u001b[0m\u001b[0;34m\u001b[0m\u001b[0m\n\u001b[0;32m--> 530\u001b[0;31m         \u001b[0mresp\u001b[0m \u001b[0;34m=\u001b[0m \u001b[0mself\u001b[0m\u001b[0;34m.\u001b[0m\u001b[0msend\u001b[0m\u001b[0;34m(\u001b[0m\u001b[0mprep\u001b[0m\u001b[0;34m,\u001b[0m \u001b[0;34m**\u001b[0m\u001b[0msend_kwargs\u001b[0m\u001b[0;34m)\u001b[0m\u001b[0;34m\u001b[0m\u001b[0;34m\u001b[0m\u001b[0m\n\u001b[0m\u001b[1;32m    531\u001b[0m \u001b[0;34m\u001b[0m\u001b[0m\n\u001b[1;32m    532\u001b[0m         \u001b[0;32mreturn\u001b[0m \u001b[0mresp\u001b[0m\u001b[0;34m\u001b[0m\u001b[0;34m\u001b[0m\u001b[0m\n",
      "\u001b[0;32m~/.pyenv/versions/data/lib/python3.8/site-packages/requests/sessions.py\u001b[0m in \u001b[0;36msend\u001b[0;34m(self, request, **kwargs)\u001b[0m\n\u001b[1;32m    641\u001b[0m \u001b[0;34m\u001b[0m\u001b[0m\n\u001b[1;32m    642\u001b[0m         \u001b[0;31m# Send the request\u001b[0m\u001b[0;34m\u001b[0m\u001b[0;34m\u001b[0m\u001b[0;34m\u001b[0m\u001b[0m\n\u001b[0;32m--> 643\u001b[0;31m         \u001b[0mr\u001b[0m \u001b[0;34m=\u001b[0m \u001b[0madapter\u001b[0m\u001b[0;34m.\u001b[0m\u001b[0msend\u001b[0m\u001b[0;34m(\u001b[0m\u001b[0mrequest\u001b[0m\u001b[0;34m,\u001b[0m \u001b[0;34m**\u001b[0m\u001b[0mkwargs\u001b[0m\u001b[0;34m)\u001b[0m\u001b[0;34m\u001b[0m\u001b[0;34m\u001b[0m\u001b[0m\n\u001b[0m\u001b[1;32m    644\u001b[0m \u001b[0;34m\u001b[0m\u001b[0m\n\u001b[1;32m    645\u001b[0m         \u001b[0;31m# Total elapsed time of the request (approximately)\u001b[0m\u001b[0;34m\u001b[0m\u001b[0;34m\u001b[0m\u001b[0;34m\u001b[0m\u001b[0m\n",
      "\u001b[0;32m~/.pyenv/versions/data/lib/python3.8/site-packages/requests/adapters.py\u001b[0m in \u001b[0;36msend\u001b[0;34m(self, request, stream, timeout, verify, cert, proxies)\u001b[0m\n\u001b[1;32m    508\u001b[0m \u001b[0;34m\u001b[0m\u001b[0m\n\u001b[1;32m    509\u001b[0m             \u001b[0;32mif\u001b[0m \u001b[0misinstance\u001b[0m\u001b[0;34m(\u001b[0m\u001b[0me\u001b[0m\u001b[0;34m.\u001b[0m\u001b[0mreason\u001b[0m\u001b[0;34m,\u001b[0m \u001b[0m_ProxyError\u001b[0m\u001b[0;34m)\u001b[0m\u001b[0;34m:\u001b[0m\u001b[0;34m\u001b[0m\u001b[0;34m\u001b[0m\u001b[0m\n\u001b[0;32m--> 510\u001b[0;31m                 \u001b[0;32mraise\u001b[0m \u001b[0mProxyError\u001b[0m\u001b[0;34m(\u001b[0m\u001b[0me\u001b[0m\u001b[0;34m,\u001b[0m \u001b[0mrequest\u001b[0m\u001b[0;34m=\u001b[0m\u001b[0mrequest\u001b[0m\u001b[0;34m)\u001b[0m\u001b[0;34m\u001b[0m\u001b[0;34m\u001b[0m\u001b[0m\n\u001b[0m\u001b[1;32m    511\u001b[0m \u001b[0;34m\u001b[0m\u001b[0m\n\u001b[1;32m    512\u001b[0m             \u001b[0;32mif\u001b[0m \u001b[0misinstance\u001b[0m\u001b[0;34m(\u001b[0m\u001b[0me\u001b[0m\u001b[0;34m.\u001b[0m\u001b[0mreason\u001b[0m\u001b[0;34m,\u001b[0m \u001b[0m_SSLError\u001b[0m\u001b[0;34m)\u001b[0m\u001b[0;34m:\u001b[0m\u001b[0;34m\u001b[0m\u001b[0;34m\u001b[0m\u001b[0m\n",
      "\u001b[0;31mProxyError\u001b[0m: HTTPSConnectionPool(host='ditu.amap.com', port=443): Max retries exceeded with url: /service/poiInfo?keywords=%E7%8E%AF%E8%B7%AF&query_type=TQUERY&pagesize=20&pagenum=1&qii=true&cluster_state=5&need_utd=true&utd_sceneid=1000&div=PC1000&addr_poi_merge=true&is_classify=true&zoom=14.12&city=210100&geoobj=123.395895%7C41.775079%7C123.459137%7C41.806199&keywords=%E7%8E%AF%E8%B7%AF (Caused by ProxyError('Cannot connect to proxy.', NewConnectionError('<urllib3.connection.HTTPSConnection object at 0x11a8f8130>: Failed to establish a new connection: [Errno 61] Connection refused')))"
     ]
    }
   ],
   "source": [
    "try:\n",
    "    exist_busline_lst = list(oldbusline['search_name'])\n",
    "    for busline_name in buslines.split(','):\n",
    "        if (busline_name in exist_busline_lst):\n",
    "            print('--当前公交线路:[%s] 已存在--' % busline_name)\n",
    "        else:\n",
    "            busline, stations = getonebusline2(busline_name)\n",
    "            if (len(busline) == 0):\n",
    "                line_noinfo.append(busline_name)\n",
    "            else:\n",
    "                busline_df = busline_df.append(busline, ignore_index=True)\n",
    "                station_df = station_df.append(stations, ignore_index=True)\n",
    "        time.sleep(random.random() * random.randint(0, 7) + random.randint(0, 5))\n",
    "except KeyError:\n",
    "    print('--高德限制IP错误,以下是本次获取到的数据汇总:--')\n",
    "\n",
    "print(station_df.head())\n",
    "print(busline_df.head())\n",
    "print('数据汇总:共需抽取[%d]条线路,已抽取到详情[%d]条线路,涉及站点: [%s] 个' %\n",
    "      (len(buslines.split(',')), len(busline_df) / 2, len(station_df) / 2))\n",
    "if(len(line_noinfo) > 0):\n",
    "    print('共有: [%d] 条线路---没有详情---, 其线路名称:' % len(line_noinfo))\n",
    "    print(','.join(line_noinfo))\n",
    "\n",
    "write2excel(oldbusline, busline_df, oldstations, station_df)"
   ]
  },
  {
   "cell_type": "code",
   "execution_count": null,
   "metadata": {},
   "outputs": [],
   "source": []
  }
 ],
 "metadata": {
  "jupytext": {
   "encoding": "# -*- coding: utf-8 -*-",
   "formats": "ipynb,py:percent"
  },
  "kernelspec": {
   "display_name": "Python 3.8.2 64-bit ('data': venv)",
   "language": "python",
   "name": "python38264bitdatavenvaa4066e455544989bb855911b00b5f95"
  },
  "language_info": {
   "codemirror_mode": {
    "name": "ipython",
    "version": 3
   },
   "file_extension": ".py",
   "mimetype": "text/x-python",
   "name": "python",
   "nbconvert_exporter": "python",
   "pygments_lexer": "ipython3",
   "version": "3.8.2"
  }
 },
 "nbformat": 4,
 "nbformat_minor": 4
}
