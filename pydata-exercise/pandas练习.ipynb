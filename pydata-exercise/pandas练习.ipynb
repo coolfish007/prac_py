{
 "cells": [
  {
   "cell_type": "code",
   "execution_count": null,
   "metadata": {},
   "outputs": [],
   "source": [
    "# ms-python.python added\n",
    "import os\n",
    "try:\n",
    "    os.chdir(os.path.join(os.getcwd(), 'pydata-exercise'))\n",
    "    print(os.getcwd())\n",
    "except:\n",
    "    pass"
   ]
  },
  {
   "cell_type": "markdown",
   "metadata": {},
   "source": [
    " ## Pandas 练习"
   ]
  },
  {
   "cell_type": "code",
   "execution_count": null,
   "metadata": {},
   "outputs": [],
   "source": [
    "import pandas as pd"
   ]
  },
  {
   "cell_type": "markdown",
   "metadata": {},
   "source": [
    " ## 测试datafrmae传入的变化\n",
    " 传入的是调用的引用.\n",
    " 注意 `df=pd.DataFrame(a)`, 这句之后df就指向新的数据结构了,和传入的\n",
    " df就没有关系了. 但是append操作必须返回才能起效果,不像drop(inplace=True)."
   ]
  },
  {
   "cell_type": "code",
   "execution_count": null,
   "metadata": {
    "lines_to_next_cell": 2
   },
   "outputs": [],
   "source": [
    "def testdfgo(df):\n",
    "    a = [{'A': 1, 'B': 2}, {'A': 3, 'B': 4}]\n",
    "    print(df)\n",
    "    # a = {'A': [1, 2], 'B': [3, 4]}\n",
    "    # df = pd.DataFrame(a)\n",
    "    df.append(a, ignore_index=True)\n",
    "    print(df)\n",
    "    df.drop(index=0, inplace=True)\n",
    "    print(df)\n",
    "\n",
    "\n",
    "df = pd.DataFrame([[0, 0], [5, 6]], columns=['A', 'B'])\n",
    "testdfgo(df)\n",
    "print(df)"
   ]
  },
  {
   "cell_type": "markdown",
   "metadata": {},
   "source": [
    " ## datafrmae apply函数,每行的数据处理后并新增列"
   ]
  },
  {
   "cell_type": "code",
   "execution_count": null,
   "metadata": {},
   "outputs": [],
   "source": [
    "data = {\n",
    "    'state': ['Ohio', 'Ohio', 'Ohio', 'Nevada', 'Nevada', 'Nevada'],\n",
    "    'year': [2000, 2001, 2002, 2001, 2002, 2003],\n",
    "    'pop': [1.5, 1.7, 3.6, 2.4, 2.9, 3.2]\n",
    "}\n",
    "frame = pd.DataFrame(data)\n",
    "\n",
    "# for row in frame.itertuples():\n",
    "#    print(row)\n",
    "\n",
    "\n",
    "def new_value0(row):\n",
    "    return (5, 5)\n",
    "\n",
    "\n",
    "def new_value(x=0, y=0):\n",
    "    x = x + 5\n",
    "    y = y * 5\n",
    "    return x\n",
    "\n",
    "\n",
    "def new_value1(row):\n",
    "    row['new_year'] = row['year'] + 5\n",
    "    row['new_pop'] = row['pop'] * 5\n",
    "    return row\n",
    "\n",
    "\n",
    "def new_value2(row, year, pop):\n",
    "    x = row[year] + 5\n",
    "    y = row[pop] * 5\n",
    "    return x, y"
   ]
  },
  {
   "cell_type": "code",
   "execution_count": null,
   "metadata": {
    "lines_to_next_cell": 2
   },
   "outputs": [],
   "source": [
    "frame['new_year'] = frame.apply(lambda row: row['year'] + 5, axis=1)\n",
    "frame['new_year'] = frame.apply(lambda row: new_value(row['year']), axis=1)"
   ]
  },
  {
   "cell_type": "code",
   "execution_count": null,
   "metadata": {
    "lines_to_next_cell": 2
   },
   "outputs": [],
   "source": [
    "frame = frame.apply(new_value1, axis=1)\n",
    "print(frame)"
   ]
  },
  {
   "cell_type": "code",
   "execution_count": null,
   "metadata": {},
   "outputs": [],
   "source": [
    "frame['new_year'], frame['new_pop'] = zip(\n",
    "    *frame[['year', 'pop']].apply(new_value0, axis=1))\n",
    "print(frame)"
   ]
  },
  {
   "cell_type": "code",
   "execution_count": null,
   "metadata": {
    "lines_to_next_cell": 2
   },
   "outputs": [],
   "source": [
    "frame['new_year'], frame['new_pop'] = zip(\n",
    "    *frame[['year', 'pop']].apply(new_value2, axis=1, args=('year', 'pop')))\n",
    "frame['new_year'], frame['new_pop'] = zip(\n",
    "    *frame[['year', 'pop']].apply(new_value2, axis=1, year='year', pop='pop'))\n",
    "print('result')\n",
    "print(frame)"
   ]
  },
  {
   "cell_type": "markdown",
   "metadata": {},
   "source": [
    " 理解zip和unzip的使用"
   ]
  },
  {
   "cell_type": "code",
   "execution_count": null,
   "metadata": {},
   "outputs": [],
   "source": [
    "x1 = '5,6,7'\n",
    "y1 = '1,2,3'\n",
    "x1 = map(int, x1.split(','))\n",
    "y1 = map(int, y1.split(','))\n",
    "la = list(zip(x1, y1))\n",
    "lb = []\n",
    "\n",
    "for e in la:\n",
    "    lb.append((e[0]+1, e[1]+1))\n",
    "\n",
    "print(lb)\n",
    "lb = list(zip(*lb))\n",
    "print(lb)"
   ]
  },
  {
   "cell_type": "code",
   "execution_count": null,
   "metadata": {},
   "outputs": [],
   "source": []
  }
 ],
 "metadata": {
  "jupytext": {
   "encoding": "# -*- coding: utf-8 -*-",
   "formats": "ipynb,py:percent"
  },
  "kernelspec": {
   "display_name": "Python 3.8.2 64-bit ('data': venv)",
   "language": "python",
   "name": "python38264bitdatavenvaa4066e455544989bb855911b00b5f95"
  },
  "language_info": {
   "codemirror_mode": {
    "name": "ipython",
    "version": 3
   },
   "file_extension": ".py",
   "mimetype": "text/x-python",
   "name": "python",
   "nbconvert_exporter": "python",
   "pygments_lexer": "ipython3",
   "version": "3.8.2"
  }
 },
 "nbformat": 4,
 "nbformat_minor": 4
}
