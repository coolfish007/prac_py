{
 "cells": [
  {
   "cell_type": "markdown",
   "metadata": {},
   "source": [
    "## Pandas 练习"
   ]
  },
  {
   "cell_type": "code",
   "execution_count": 2,
   "metadata": {},
   "outputs": [],
   "source": [
    "import pandas as pd"
   ]
  },
  {
   "cell_type": "markdown",
   "metadata": {},
   "source": [
    "## 测试datafrmae传入的变化\n",
    "传入的是调用的引用.\n",
    "注意 `df=pd.DataFrame(a)`, 这句之后df就指向新的数据结构了,和传入的\n",
    "df就没有关系了. 但是append操作必须返回才能起效果,不像drop(inplace=True)."
   ]
  },
  {
   "cell_type": "code",
   "execution_count": null,
   "metadata": {},
   "outputs": [],
   "source": [
    "def testdfgo(df):\n",
    "    a = [{'A': 1, 'B': 2}, {'A': 3, 'B': 4}]\n",
    "    print(df)\n",
    "    # a = {'A': [1, 2], 'B': [3, 4]}\n",
    "    # df = pd.DataFrame(a)\n",
    "    df.append(a, ignore_index=True)\n",
    "    print(df)\n",
    "    df.drop(index=0, inplace=True)\n",
    "    print(df)\n",
    "df = pd.DataFrame([[0, 0], [5, 6]], columns=['A', 'B'])\n",
    "testdfgo(df)\n",
    "print(df)"
   ]
  },
  {
   "cell_type": "code",
   "execution_count": 3,
   "metadata": {},
   "outputs": [
    {
     "output_type": "stream",
     "name": "stdout",
     "text": "state  year  pop\n0    Ohio  2000  1.5\n1    Ohio  2001  1.7\n2    Ohio  2002  3.6\n3  Nevada  2001  2.4\n4  Nevada  2002  2.9\n5  Nevada  2003  3.2\n"
    }
   ],
   "source": [
    "data = {'state': ['Ohio', 'Ohio', 'Ohio', 'Nevada', 'Nevada', 'Nevada'],\n",
    "        'year': [2000, 2001, 2002, 2001, 2002, 2003],\n",
    "        'pop': [1.5, 1.7, 3.6, 2.4, 2.9, 3.2]}\n",
    "frame = pd.DataFrame(data)\n",
    "print(frame)"
   ]
  },
  {
   "cell_type": "code",
   "execution_count": null,
   "metadata": {},
   "outputs": [],
   "source": []
  }
 ],
 "metadata": {
  "language_info": {
   "codemirror_mode": {
    "name": "ipython",
    "version": 3
   },
   "file_extension": ".py",
   "mimetype": "text/x-python",
   "name": "python",
   "nbconvert_exporter": "python",
   "pygments_lexer": "ipython3",
   "version": "3.8.2-final"
  },
  "orig_nbformat": 2,
  "kernelspec": {
   "name": "python38264bitdatavenvaa4066e455544989bb855911b00b5f95",
   "display_name": "Python 3.8.2 64-bit ('data': venv)"
  }
 },
 "nbformat": 4,
 "nbformat_minor": 2
}